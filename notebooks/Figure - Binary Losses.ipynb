{
 "cells": [
  {
   "cell_type": "code",
   "execution_count": 1,
   "id": "3b79bd3e",
   "metadata": {},
   "outputs": [],
   "source": [
    "import os\n",
    "os.chdir('../')"
   ]
  },
  {
   "cell_type": "code",
   "execution_count": 2,
   "id": "199b7b08",
   "metadata": {},
   "outputs": [],
   "source": [
    "%matplotlib inline\n",
    "#%matplotlib notebook\n",
    "\n",
    "%load_ext autoreload\n",
    "%autoreload 2"
   ]
  },
  {
   "cell_type": "code",
   "execution_count": 3,
   "id": "7a24fb7a",
   "metadata": {},
   "outputs": [],
   "source": [
    "from copy import deepcopy\n",
    "from decimal import Decimal\n",
    "from typing import List, Tuple\n",
    "from warnings import warn\n",
    "\n",
    "from cycler import cycler\n",
    "from matplotlib import pyplot as plt\n",
    "from matplotlib.lines import Line2D\n",
    "import seaborn as sns\n",
    "import numpy as np\n",
    "import pandas as pd\n",
    "import scipy.sparse as sp\n",
    "from sklearn.decomposition import PCA\n",
    "import scipy.stats as stats\n",
    "import torch\n",
    "from torch import nn\n",
    "import torch.nn.functional as F\n",
    "import seml\n",
    "from ogb.nodeproppred import PygNodePropPredDataset\n",
    "\n",
    "import tqdm\n",
    "tqdm.tqdm.pandas()"
   ]
  },
  {
   "cell_type": "code",
   "execution_count": 4,
   "id": "9bd4a84b",
   "metadata": {},
   "outputs": [
    {
     "name": "stderr",
     "output_type": "stream",
     "text": [
      "/nfs/staff-ssd/geisler/anaconda3/envs/rgnn_at_scale_refactoring/lib/python3.8/_collections_abc.py:832: MatplotlibDeprecationWarning: Support for setting the 'text.latex.preamble' or 'pgf.preamble' rcParam to a list of strings is deprecated since 3.3 and will be removed two minor releases later; set it to a single string instead.\n",
      "  self[key] = other[key]\n"
     ]
    }
   ],
   "source": [
    "from notebooks import mpl_latex"
   ]
  },
  {
   "cell_type": "code",
   "execution_count": 5,
   "id": "a7bea0d1",
   "metadata": {},
   "outputs": [],
   "source": [
    "mpl_latex.enable_production_mode()"
   ]
  },
  {
   "cell_type": "code",
   "execution_count": 6,
   "id": "01e9be8b",
   "metadata": {},
   "outputs": [
    {
     "data": {
      "text/plain": [
       "array([-1.5  , -1.497, -1.494, ...,  1.494,  1.497,  1.5  ])"
      ]
     },
     "execution_count": 6,
     "metadata": {},
     "output_type": "execute_result"
    }
   ],
   "source": [
    "log_margin = np.linspace(-1.5, 1.5, 1001)\n",
    "log_margin"
   ]
  },
  {
   "cell_type": "code",
   "execution_count": 13,
   "id": "392dd8b3",
   "metadata": {},
   "outputs": [],
   "source": [
    "loss_map = {\n",
    "    'CE': 'CE',\n",
    "    'CW': 'CW',\n",
    "    'SCE': 'SCE',\n",
    "    'MCE': 'MCE',\n",
    "    'tanhMargin': 'tanh Margin',\n",
    "    'Margin': 'Margin',\n",
    "    'eluMargin': 'elu Margin',\n",
    "    'tanhMarginMCE-0.5': 'Composite',\n",
    "    'tanhMarginMCE-0.75': 'Composite',\n",
    "}\n",
    "\n",
    "loss_funcs = {\n",
    "    'CE': lambda log_margin: -log_margin / 2 + np.log(np.exp(- log_margin / 2) + np.exp(log_margin / 2)),\n",
    "    'CW': lambda log_margin: -np.clip(log_margin, 0, None),\n",
    "    'SCE': lambda log_margin: -log_margin / 2 - np.log(np.exp(- log_margin / 2) + np.exp(log_margin / 2)),\n",
    "    'MCE': lambda log_margin: np.where(log_margin >= 0, - log_margin / 2 + np.log(np.exp(- log_margin / 2) + np.exp(log_margin / 2)), np.log(2)),\n",
    "    'tanhMargin': lambda log_margin: np.tanh(-log_margin),\n",
    "    'Margin': lambda log_margin: -log_margin,\n",
    "    'eluMargin': lambda log_margin: -np.exp(np.clip(log_margin, None, 0)) + 1 - np.clip(log_margin, 0, None)\n",
    "}"
   ]
  },
  {
   "cell_type": "code",
   "execution_count": 16,
   "id": "5cc282e3",
   "metadata": {},
   "outputs": [
    {
     "name": "stderr",
     "output_type": "stream",
     "text": [
      "/nfs/staff-ssd/geisler/anaconda3/envs/rgnn_at_scale_refactoring/lib/python3.8/_collections_abc.py:832: MatplotlibDeprecationWarning: Support for setting the 'text.latex.preamble' or 'pgf.preamble' rcParam to a list of strings is deprecated since 3.3 and will be removed two minor releases later; set it to a single string instead.\n",
      "  self[key] = other[key]\n"
     ]
    },
    {
     "data": {
      "image/png": "[encoded data removed]",
      "text/plain": [
       "<Figure size 396x158.4 with 3 Axes>"
      ]
     },
     "execution_count": 16,
     "metadata": {},
     "output_type": "execute_result"
    }
   ],
   "source": [
    "loss_groups = [['CE', 'Margin'], ['CW', 'SCE', 'eluMargin'], ['MCE', 'tanhMargin', 'tanhMargin_MCE_0.5']]\n",
    "fig, axes = mpl_latex.newfig(width=1, ratio_yx=0.4, ncols=len(loss_groups), sharey=True)\n",
    "\n",
    "colors = plt.rcParams['axes.prop_cycle'].by_key()['color']\n",
    "color_idx = 0\n",
    "\n",
    "for ax, loss_group in zip(axes, loss_groups):\n",
    "    for loss_name in loss_group:\n",
    "        \n",
    "        comps = loss_name.split('_')\n",
    "        if not all(comp in loss_funcs for comp in comps[:-1]):\n",
    "            continue\n",
    "        elif len(comps) == 1:\n",
    "            loss_value = loss_funcs[loss_name](log_margin)\n",
    "            label = loss_map[loss_name]\n",
    "        elif len(comps) % 2 == 1:\n",
    "            losses = comps[:len(comps) // 2 + 1]\n",
    "            alphas = [float(alpha) for alpha in comps[len(comps) // 2 + 1:]]\n",
    "            alphas.append(1 - sum(alphas))\n",
    "            loss_value = sum([alpha * loss_funcs[loss](log_margin) for alpha, loss in zip(alphas, losses)])\n",
    "            label = 'Composite'\n",
    "            #label = ' + '.join([f'{alpha} {loss_map[loss]}' for alpha, loss in zip(alphas, losses)])\n",
    "            \n",
    "        ax.plot(log_margin, loss_value, label=label, color=colors[color_idx])\n",
    "        ax.legend(loc='lower center', ncol=1, bbox_to_anchor=(0.5, 1.))\n",
    "        color_idx += 1\n",
    "        color_idx %= len(colors)\n",
    "\n",
    "fig.text(0.5, -0.05, r'Logit margin $\\text{max}_{c \\ne c^*} z_{c^*} - z_{c})$', ha='center')\n",
    "axes[0].set_ylabel(r\"Surrogate loss $\\mathcal{L}'$\")\n",
    "        \n",
    "#handles = []\n",
    "#labels = []\n",
    "#for ax in axes:\n",
    "#    handles.extend(ax.get_legend_handles_labels()[0])\n",
    "#    labels.extend(ax.get_legend_handles_labels()[1])\n",
    "\n",
    "#fig.legend(handles, labels, loc='lower center', ncol=3, bbox_to_anchor=(0.5, 1.))\n",
    "\n",
    "mpl_latex.savefig(f'latex/assets/compare_losses_binary', fig, close_fig=False)\n",
    "\n",
    "plt.gcf()"
   ]
  },
  {
   "cell_type": "code",
   "execution_count": null,
   "id": "15fe2b97",
   "metadata": {},
   "outputs": [],
   "source": []
  }
 ],
 "metadata": {
  "kernelspec": {
   "display_name": "Python 3",
   "language": "python",
   "name": "python3"
  },
  "language_info": {
   "codemirror_mode": {
    "name": "ipython",
    "version": 3
   },
   "file_extension": ".py",
   "mimetype": "text/x-python",
   "name": "python",
   "nbconvert_exporter": "python",
   "pygments_lexer": "ipython3",
   "version": "3.8.8"
  }
 },
 "nbformat": 4,
 "nbformat_minor": 5
}
