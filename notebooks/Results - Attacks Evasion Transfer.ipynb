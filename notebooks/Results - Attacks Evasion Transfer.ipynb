{
 "cells": [
  {
   "cell_type": "code",
   "execution_count": 1,
   "metadata": {},
   "outputs": [],
   "source": [
    "import seml\n",
    "import pandas as pd\n",
    "import numpy as np\n",
    "from run_seml import run\n",
    "from matplotlib import pyplot as plt\n",
    "\n",
    "pd.set_option('display.max_columns', 50)\n",
    "pd.set_option('display.max_rows', 150)"
   ]
  },
  {
   "cell_type": "code",
   "execution_count": 2,
   "metadata": {},
   "outputs": [],
   "source": [
    "%load_ext autoreload\n",
    "%autoreload 2"
   ]
  },
  {
   "cell_type": "code",
   "execution_count": 8,
   "metadata": {
    "tags": []
   },
   "outputs": [
    {
     "output_type": "display_data",
     "data": {
      "text/plain": "HBox(children=(FloatProgress(value=0.0, max=20.0), HTML(value='')))",
      "application/vnd.jupyter.widget-view+json": {
       "version_major": 2,
       "version_minor": 0,
       "model_id": "38e402f6b50549a2b9ffdeee1d3009aa"
      }
     },
     "metadata": {}
    },
    {
     "output_type": "stream",
     "name": "stdout",
     "text": [
      "\n"
     ]
    },
    {
     "output_type": "display_data",
     "data": {
      "text/plain": "HBox(children=(FloatProgress(value=0.0, max=20.0), HTML(value='')))",
      "application/vnd.jupyter.widget-view+json": {
       "version_major": 2,
       "version_minor": 0,
       "model_id": "1206190929dd4456a83fdb6b0c1ceada"
      }
     },
     "metadata": {}
    },
    {
     "output_type": "stream",
     "name": "stdout",
     "text": [
      "\n"
     ]
    }
   ],
   "source": [
    "df_experiments = seml.get_results('kdd21_rgnn_at_scale_attack_evasion_transfer_3',\n",
    "                                  to_data_frame=True,\n",
    "                                  fields=['batch_id', 'slurm', 'config', 'result'])"
   ]
  },
  {
   "cell_type": "code",
   "execution_count": 9,
   "metadata": {},
   "outputs": [
    {
     "output_type": "execute_result",
     "data": {
      "text/plain": [
       "                          label  epsilon  accuracy  dataset attack  seed  \\\n",
       "0    Soft Medoid RPPRGo (T=1.0)     0.00  0.813043  cora_ml  PRBCD     0   \n",
       "593                 Jaccard GCN     0.10  0.699210  cora_ml  PRBCD    42   \n",
       "594                 Jaccard GCN     0.25  0.591700  cora_ml  PRBCD    42   \n",
       "595                        RGCN     0.00  0.788538  cora_ml  PRBCD    42   \n",
       "596                        RGCN     0.01  0.777075  cora_ml  PRBCD    42   \n",
       "..                          ...      ...       ...      ...    ...   ...   \n",
       "304                 Vanilla GDC     0.25  0.525296  cora_ml  PRBCD     1   \n",
       "305     Soft Medoid GDC (T=1.0)     0.00  0.821344  cora_ml  PRBCD     1   \n",
       "306     Soft Medoid GDC (T=1.0)     0.01  0.804348  cora_ml  PRBCD     1   \n",
       "336  Soft Median RPPRGo (T=0.5)     0.01  0.810277  cora_ml  PRBCD     1   \n",
       "899     Soft Median GDC (T=0.2)     0.25  0.694466  cora_ml  PRBCD   100   \n",
       "\n",
       "     batch_id loss_type  novel_loss  \n",
       "0           1        CE       False  \n",
       "593         1        CE       False  \n",
       "594         1        CE       False  \n",
       "595         1        CE       False  \n",
       "596         1        CE       False  \n",
       "..        ...       ...         ...  \n",
       "304         1    tanhCW        True  \n",
       "305         1    tanhCW        True  \n",
       "306         1    tanhCW        True  \n",
       "336         1    tanhCW        True  \n",
       "899         1    tanhCW        True  \n",
       "\n",
       "[900 rows x 9 columns]"
      ],
      "text/html": "<div>\n<style scoped>\n    .dataframe tbody tr th:only-of-type {\n        vertical-align: middle;\n    }\n\n    .dataframe tbody tr th {\n        vertical-align: top;\n    }\n\n    .dataframe thead th {\n        text-align: right;\n    }\n</style>\n<table border=\"1\" class=\"dataframe\">\n  <thead>\n    <tr style=\"text-align: right;\">\n      <th></th>\n      <th>label</th>\n      <th>epsilon</th>\n      <th>accuracy</th>\n      <th>dataset</th>\n      <th>attack</th>\n      <th>seed</th>\n      <th>batch_id</th>\n      <th>loss_type</th>\n      <th>novel_loss</th>\n    </tr>\n  </thead>\n  <tbody>\n    <tr>\n      <th>0</th>\n      <td>Soft Medoid RPPRGo (T=1.0)</td>\n      <td>0.00</td>\n      <td>0.813043</td>\n      <td>cora_ml</td>\n      <td>PRBCD</td>\n      <td>0</td>\n      <td>1</td>\n      <td>CE</td>\n      <td>False</td>\n    </tr>\n    <tr>\n      <th>593</th>\n      <td>Jaccard GCN</td>\n      <td>0.10</td>\n      <td>0.699210</td>\n      <td>cora_ml</td>\n      <td>PRBCD</td>\n      <td>42</td>\n      <td>1</td>\n      <td>CE</td>\n      <td>False</td>\n    </tr>\n    <tr>\n      <th>594</th>\n      <td>Jaccard GCN</td>\n      <td>0.25</td>\n      <td>0.591700</td>\n      <td>cora_ml</td>\n      <td>PRBCD</td>\n      <td>42</td>\n      <td>1</td>\n      <td>CE</td>\n      <td>False</td>\n    </tr>\n    <tr>\n      <th>595</th>\n      <td>RGCN</td>\n      <td>0.00</td>\n      <td>0.788538</td>\n      <td>cora_ml</td>\n      <td>PRBCD</td>\n      <td>42</td>\n      <td>1</td>\n      <td>CE</td>\n      <td>False</td>\n    </tr>\n    <tr>\n      <th>596</th>\n      <td>RGCN</td>\n      <td>0.01</td>\n      <td>0.777075</td>\n      <td>cora_ml</td>\n      <td>PRBCD</td>\n      <td>42</td>\n      <td>1</td>\n      <td>CE</td>\n      <td>False</td>\n    </tr>\n    <tr>\n      <th>...</th>\n      <td>...</td>\n      <td>...</td>\n      <td>...</td>\n      <td>...</td>\n      <td>...</td>\n      <td>...</td>\n      <td>...</td>\n      <td>...</td>\n      <td>...</td>\n    </tr>\n    <tr>\n      <th>304</th>\n      <td>Vanilla GDC</td>\n      <td>0.25</td>\n      <td>0.525296</td>\n      <td>cora_ml</td>\n      <td>PRBCD</td>\n      <td>1</td>\n      <td>1</td>\n      <td>tanhCW</td>\n      <td>True</td>\n    </tr>\n    <tr>\n      <th>305</th>\n      <td>Soft Medoid GDC (T=1.0)</td>\n      <td>0.00</td>\n      <td>0.821344</td>\n      <td>cora_ml</td>\n      <td>PRBCD</td>\n      <td>1</td>\n      <td>1</td>\n      <td>tanhCW</td>\n      <td>True</td>\n    </tr>\n    <tr>\n      <th>306</th>\n      <td>Soft Medoid GDC (T=1.0)</td>\n      <td>0.01</td>\n      <td>0.804348</td>\n      <td>cora_ml</td>\n      <td>PRBCD</td>\n      <td>1</td>\n      <td>1</td>\n      <td>tanhCW</td>\n      <td>True</td>\n    </tr>\n    <tr>\n      <th>336</th>\n      <td>Soft Median RPPRGo (T=0.5)</td>\n      <td>0.01</td>\n      <td>0.810277</td>\n      <td>cora_ml</td>\n      <td>PRBCD</td>\n      <td>1</td>\n      <td>1</td>\n      <td>tanhCW</td>\n      <td>True</td>\n    </tr>\n    <tr>\n      <th>899</th>\n      <td>Soft Median GDC (T=0.2)</td>\n      <td>0.25</td>\n      <td>0.694466</td>\n      <td>cora_ml</td>\n      <td>PRBCD</td>\n      <td>100</td>\n      <td>1</td>\n      <td>tanhCW</td>\n      <td>True</td>\n    </tr>\n  </tbody>\n</table>\n<p>900 rows × 9 columns</p>\n</div>"
     },
     "metadata": {},
     "execution_count": 9
    }
   ],
   "source": [
    "df_results = [\n",
    "    pd.DataFrame(r) \n",
    "    for r in df_experiments['result.results']\n",
    "]\n",
    "for df_result, (_, df_experiment) in zip(df_results, df_experiments.iterrows()):\n",
    "    df_result['dataset'] = df_experiment['config.dataset']\n",
    "    df_result['attack'] = df_experiment['config.attack']\n",
    "    df_result['seed'] = df_experiment['config.seed']\n",
    "    df_result['batch_id'] = df_experiment['batch_id']\n",
    "    df_result['loss_type'] = df_experiment['config.attack_params.loss_type']\n",
    "    df_result['novel_loss'] = (\n",
    "        #(df_experiment['config.attack_params.stop_optimizing_if_label_flipped'] == True)\n",
    "         (df_experiment['config.attack_params.loss_type'] == 'MCE')\n",
    "        | (df_experiment['config.attack_params.loss_type'] == 'tanhCW')\n",
    "    )\n",
    "\n",
    "df_results = pd.concat(df_results, ignore_index=True)\n",
    "df_results = df_results.sort_values('batch_id')\n",
    "df_results = df_results.drop_duplicates([\n",
    "    c for c in df_results.columns if c != 'batch_id' and c != 'accuracy'\n",
    "], keep='last')\n",
    "\n",
    "df_results"
   ]
  },
  {
   "cell_type": "code",
   "execution_count": 5,
   "metadata": {},
   "outputs": [],
   "source": [
    "dataset_map = {\n",
    "    'cora_ml': r'Cora ML', \n",
    "    'citeseer': r'Citeseer', \n",
    "}\n",
    "dataset_order = [dataset_map[k] for k in dataset_map.keys()]"
   ]
  },
  {
   "cell_type": "code",
   "execution_count": 6,
   "metadata": {},
   "outputs": [],
   "source": [
    "attack_map = {\n",
    "    'PRBCD': r'PR-BCD'\n",
    "}\n",
    "attack_order = [attack_map[k] for k in attack_map.keys()]"
   ]
  },
  {
   "cell_type": "code",
   "execution_count": 7,
   "metadata": {},
   "outputs": [],
   "source": [
    "def transform_label(label: str):\n",
    "    return label"
   ]
  },
  {
   "cell_type": "code",
   "execution_count": 8,
   "metadata": {},
   "outputs": [],
   "source": [
    "def calc_mean_and_error(values: pd.Series, seeds: pd.Series, with_error=True, decimal_places: int = 3): \n",
    "    values, seeds = values.values, seeds.values\n",
    "    seeds = seeds[~np.isnan(values)]\n",
    "    values = values[~np.isnan(values)]\n",
    "\n",
    "    idx = np.unique(seeds, return_index=True)[1]\n",
    "    values = values[idx]\n",
    "    \n",
    "    if with_error:\n",
    "        return rf'{np.mean(values):.{decimal_places}f} $\\pm$ {np.std(values)/len(values):.{decimal_places}f}'\n",
    "    else:\n",
    "        return rf'{np.mean(values):.{decimal_places}f}'"
   ]
  },
  {
   "cell_type": "code",
   "execution_count": 9,
   "metadata": {},
   "outputs": [],
   "source": [
    "architecture_c = r'Architecture'\n",
    "dataset_c = r'   '\n",
    "attack_c = r'Attack'\n",
    "epsilons_c = r'Frac. edges (epsilon)'\n",
    "\n",
    "epsilons = [0.05, 0.1, 0.25]\n",
    "epsilon_marks = [r'\\textit', r'\\underline', r'\\textbf']"
   ]
  },
  {
   "cell_type": "code",
   "execution_count": 10,
   "metadata": {},
   "outputs": [
    {
     "output_type": "stream",
     "name": "stdout",
     "text": [
      "For cora_ml-PRBCD-0.0 collected runs for seed [42, 5, 100, 42, 100, 0, 0, 5, 1, 1]\nFor cora_ml-PRBCD-0.01 collected runs for seed [42, 5, 100, 42, 100, 0, 0, 5, 1, 1]\nFor cora_ml-PRBCD-0.05 collected runs for seed [42, 5, 100, 42, 100, 0, 0, 5, 1, 1]\nFor cora_ml-PRBCD-0.1 collected runs for seed [42, 5, 100, 42, 100, 0, 0, 5, 1, 1]\nFor cora_ml-PRBCD-0.25 collected runs for seed [42, 5, 100, 42, 100, 0, 0, 5, 1, 1]\nFor cora_ml-PRBCD-0.0 collected runs for seed [42, 5, 100, 42, 100, 0, 0, 5, 1, 1]\nFor cora_ml-PRBCD-0.01 collected runs for seed [42, 5, 100, 42, 100, 0, 0, 5, 1, 1]\nFor cora_ml-PRBCD-0.05 collected runs for seed [42, 5, 100, 42, 100, 0, 0, 5, 1, 1]\nFor cora_ml-PRBCD-0.1 collected runs for seed [42, 5, 100, 42, 100, 0, 0, 5, 1, 1]\nFor cora_ml-PRBCD-0.25 collected runs for seed [42, 5, 100, 42, 100, 0, 0, 5, 1, 1]\nFor cora_ml-PRBCD-0.0 collected runs for seed [42, 5, 100, 100, 42, 0, 0, 1, 5, 1]\nFor cora_ml-PRBCD-0.01 collected runs for seed [42, 5, 42, 100, 100, 0, 0, 5, 1, 1]\nFor cora_ml-PRBCD-0.05 collected runs for seed [42, 5, 100, 42, 100, 0, 0, 5, 1, 1]\nFor cora_ml-PRBCD-0.1 collected runs for seed [42, 5, 100, 42, 100, 0, 0, 5, 1, 1]\nFor cora_ml-PRBCD-0.25 collected runs for seed [42, 5, 100, 42, 100, 0, 0, 5, 1, 1]\nFor cora_ml-PRBCD-0.0 collected runs for seed [42, 5, 100, 100, 42, 0, 0, 1, 5, 1]\nFor cora_ml-PRBCD-0.01 collected runs for seed [42, 5, 100, 100, 42, 0, 0, 1, 5, 1]\nFor cora_ml-PRBCD-0.05 collected runs for seed [42, 5, 100, 100, 42, 0, 0, 1, 5, 1]\nFor cora_ml-PRBCD-0.1 collected runs for seed [42, 5, 100, 42, 5, 0, 0, 1, 100, 1]\nFor cora_ml-PRBCD-0.25 collected runs for seed [42, 5, 100, 42, 5, 0, 0, 1, 1, 100]\nFor cora_ml-PRBCD-0.0 collected runs for seed [42, 5, 100, 100, 42, 0, 0, 1, 5, 1]\nFor cora_ml-PRBCD-0.01 collected runs for seed [42, 5, 100, 100, 42, 0, 0, 1, 5, 1]\nFor cora_ml-PRBCD-0.05 collected runs for seed [42, 5, 100, 100, 42, 0, 0, 1, 5, 1]\nFor cora_ml-PRBCD-0.1 collected runs for seed [42, 5, 100, 100, 42, 0, 0, 1, 5, 1]\nFor cora_ml-PRBCD-0.25 collected runs for seed [42, 5, 100, 100, 42, 0, 0, 1, 5, 1]\nFor cora_ml-PRBCD-0.0 collected runs for seed [42, 5, 100, 100, 42, 0, 0, 1, 5, 1]\nFor cora_ml-PRBCD-0.01 collected runs for seed [42, 5, 100, 100, 42, 0, 0, 1, 5, 1]\nFor cora_ml-PRBCD-0.05 collected runs for seed [42, 5, 100, 100, 42, 0, 0, 1, 5, 1]\nFor cora_ml-PRBCD-0.1 collected runs for seed [42, 5, 100, 100, 42, 0, 0, 1, 5, 1]\nFor cora_ml-PRBCD-0.25 collected runs for seed [42, 5, 100, 100, 42, 0, 0, 1, 5, 1]\nFor cora_ml-PRBCD-0.0 collected runs for seed [42, 5, 100, 100, 42, 0, 0, 1, 5, 1]\nFor cora_ml-PRBCD-0.01 collected runs for seed [42, 5, 100, 100, 42, 0, 0, 1, 5, 1]\nFor cora_ml-PRBCD-0.05 collected runs for seed [42, 5, 100, 100, 42, 0, 0, 1, 5, 1]\nFor cora_ml-PRBCD-0.1 collected runs for seed [42, 5, 100, 100, 42, 0, 0, 1, 5, 1]\nFor cora_ml-PRBCD-0.25 collected runs for seed [42, 5, 100, 100, 42, 0, 0, 1, 5, 1]\nFor cora_ml-PRBCD-0.0 collected runs for seed [42, 5, 100, 42, 100, 0, 0, 5, 1, 1]\nFor cora_ml-PRBCD-0.01 collected runs for seed [42, 5, 100, 100, 42, 0, 0, 5, 1, 1]\nFor cora_ml-PRBCD-0.05 collected runs for seed [42, 5, 100, 100, 42, 0, 0, 5, 1, 1]\nFor cora_ml-PRBCD-0.1 collected runs for seed [42, 5, 100, 100, 42, 0, 0, 5, 1, 1]\nFor cora_ml-PRBCD-0.25 collected runs for seed [42, 5, 100, 100, 42, 0, 0, 1, 5, 1]\nFor cora_ml-PRBCD-0.0 collected runs for seed [42, 5, 100, 42, 100, 0, 0, 5, 1, 1]\nFor cora_ml-PRBCD-0.01 collected runs for seed [42, 5, 100, 42, 100, 0, 0, 5, 1, 1]\nFor cora_ml-PRBCD-0.05 collected runs for seed [42, 5, 100, 42, 100, 0, 0, 5, 1, 1]\nFor cora_ml-PRBCD-0.1 collected runs for seed [42, 5, 100, 42, 100, 0, 0, 5, 1, 1]\nFor cora_ml-PRBCD-0.25 collected runs for seed [42, 5, 100, 42, 100, 0, 0, 5, 1, 1]\nFor cora_ml-PRBCD-0.0 collected runs for seed [42, 42, 5, 100, 100, 1, 0, 0, 5, 1]\nFor cora_ml-PRBCD-0.01 collected runs for seed [42, 42, 5, 100, 100, 1, 0, 0, 5, 1]\nFor cora_ml-PRBCD-0.05 collected runs for seed [42, 42, 5, 100, 100, 1, 0, 0, 5, 1]\nFor cora_ml-PRBCD-0.1 collected runs for seed [42, 42, 5, 100, 100, 0, 1, 0, 5, 1]\nFor cora_ml-PRBCD-0.25 collected runs for seed [42, 42, 5, 100, 100, 0, 1, 0, 5, 1]\nFor cora_ml-PRBCD-0.0 collected runs for seed [42, 42, 5, 100, 100, 0, 1, 0, 5, 1]\nFor cora_ml-PRBCD-0.01 collected runs for seed [42, 42, 5, 100, 100, 0, 1, 0, 5, 1]\nFor cora_ml-PRBCD-0.05 collected runs for seed [42, 42, 5, 100, 100, 0, 0, 1, 5, 1]\nFor cora_ml-PRBCD-0.1 collected runs for seed [42, 5, 42, 100, 100, 0, 0, 1, 5, 1]\nFor cora_ml-PRBCD-0.25 collected runs for seed [42, 5, 42, 100, 100, 0, 0, 1, 5, 1]\nFor cora_ml-PRBCD-0.0 collected runs for seed [42, 42, 5, 100, 100, 0, 1, 0, 5, 1]\nFor cora_ml-PRBCD-0.01 collected runs for seed [42, 42, 5, 100, 100, 0, 1, 0, 5, 1]\nFor cora_ml-PRBCD-0.05 collected runs for seed [42, 42, 5, 100, 100, 0, 1, 0, 5, 1]\nFor cora_ml-PRBCD-0.1 collected runs for seed [42, 42, 5, 100, 100, 0, 1, 0, 5, 1]\nFor cora_ml-PRBCD-0.25 collected runs for seed [42, 42, 5, 100, 100, 0, 1, 0, 5, 1]\nFor cora_ml-PRBCD-0.0 collected runs for seed [42, 5, 42, 100, 100, 1, 0, 0, 5, 1]\nFor cora_ml-PRBCD-0.01 collected runs for seed [42, 5, 42, 100, 100, 1, 0, 0, 5, 1]\nFor cora_ml-PRBCD-0.05 collected runs for seed [42, 5, 42, 100, 100, 1, 0, 0, 5, 1]\nFor cora_ml-PRBCD-0.1 collected runs for seed [42, 5, 42, 100, 100, 1, 0, 0, 5, 1]\nFor cora_ml-PRBCD-0.25 collected runs for seed [42, 5, 42, 100, 100, 1, 0, 0, 5, 1]\nFor cora_ml-PRBCD-0.0 collected runs for seed [42, 5, 42, 100, 100, 1, 0, 0, 5, 1]\nFor cora_ml-PRBCD-0.01 collected runs for seed [42, 5, 42, 100, 100, 1, 0, 0, 5, 1]\nFor cora_ml-PRBCD-0.05 collected runs for seed [42, 5, 42, 100, 100, 1, 0, 0, 5, 1]\nFor cora_ml-PRBCD-0.1 collected runs for seed [42, 5, 42, 100, 100, 1, 0, 0, 5, 1]\nFor cora_ml-PRBCD-0.25 collected runs for seed [42, 5, 42, 100, 100, 1, 0, 0, 5, 1]\nFor cora_ml-PRBCD-0.0 collected runs for seed [0, 42, 42, 100, 100, 5, 1, 0, 5, 1]\nFor cora_ml-PRBCD-0.01 collected runs for seed [42, 42, 5, 100, 100, 1, 0, 0, 5, 1]\nFor cora_ml-PRBCD-0.05 collected runs for seed [42, 5, 42, 100, 100, 1, 0, 0, 5, 1]\nFor cora_ml-PRBCD-0.1 collected runs for seed [42, 5, 42, 100, 100, 1, 0, 0, 5, 1]\nFor cora_ml-PRBCD-0.25 collected runs for seed [42, 5, 42, 100, 100, 1, 0, 0, 5, 1]\nFor cora_ml-PRBCD-0.0 collected runs for seed [42, 5, 42, 100, 100, 0, 1, 0, 5, 1]\nFor cora_ml-PRBCD-0.01 collected runs for seed [42, 42, 5, 100, 100, 0, 1, 0, 5, 1]\nFor cora_ml-PRBCD-0.05 collected runs for seed [42, 42, 5, 100, 100, 0, 1, 0, 5, 1]\nFor cora_ml-PRBCD-0.1 collected runs for seed [42, 42, 5, 100, 100, 0, 1, 0, 5, 1]\nFor cora_ml-PRBCD-0.25 collected runs for seed [42, 42, 5, 100, 100, 0, 1, 0, 5, 1]\nFor cora_ml-PRBCD-0.0 collected runs for seed [42, 42, 5, 100, 100, 0, 1, 0, 5, 1]\nFor cora_ml-PRBCD-0.01 collected runs for seed [42, 42, 5, 100, 100, 0, 1, 0, 5, 1]\nFor cora_ml-PRBCD-0.05 collected runs for seed [42, 42, 5, 100, 100, 0, 1, 0, 5, 1]\nFor cora_ml-PRBCD-0.1 collected runs for seed [42, 42, 5, 100, 100, 0, 1, 0, 5, 1]\nFor cora_ml-PRBCD-0.25 collected runs for seed [42, 42, 5, 100, 100, 0, 1, 0, 5, 1]\nFor cora_ml-PRBCD-0.0 collected runs for seed [42, 5, 42, 100, 100, 1, 0, 0, 5, 1]\nFor cora_ml-PRBCD-0.01 collected runs for seed [42, 5, 42, 100, 100, 1, 0, 0, 5, 1]\nFor cora_ml-PRBCD-0.05 collected runs for seed [42, 5, 42, 100, 100, 1, 0, 0, 5, 1]\nFor cora_ml-PRBCD-0.1 collected runs for seed [42, 5, 42, 100, 100, 1, 0, 0, 5, 1]\nFor cora_ml-PRBCD-0.25 collected runs for seed [42, 5, 42, 100, 100, 1, 0, 0, 5, 1]\n"
     ]
    }
   ],
   "source": [
    "\n",
    "df_cora = []\n",
    "df_citeseer = []\n",
    "\n",
    "for (dataset, attack, label, epsilon), df_group in df_results.groupby(['dataset', 'attack', 'label', 'epsilon']):\n",
    "       if len(df_group.seed.unique()) != 3:\n",
    "              print(f'For {dataset}-{attack}-{epsilon} collected runs for seed {df_group.seed.tolist()}')\n",
    "\n",
    "       accurcy = calc_mean_and_error(df_group.accuracy, df_group.seed, with_error=False)\n",
    "       if dataset == \"citeseer\":\n",
    "              df_citeseer.append({\n",
    "                     dataset_c: dataset_map[dataset],\n",
    "                     architecture_c: transform_label(label),\n",
    "                     attack_c: attack_map[attack],\n",
    "                     epsilons_c: epsilon,\n",
    "                     'accuracy': accurcy\n",
    "              })\n",
    "       elif dataset == \"cora_ml\":\n",
    "              df_cora.append({\n",
    "                     dataset_c: dataset_map[dataset],\n",
    "                     architecture_c: transform_label(label),\n",
    "                     attack_c: attack_map[attack],\n",
    "                     epsilons_c: epsilon,\n",
    "                     'accuracy': accurcy\n",
    "              })\n",
    "\n",
    "\n",
    "df_cora = pd.DataFrame(df_cora)\n",
    "df_citeseer = pd.DataFrame(df_citeseer)"
   ]
  },
  {
   "cell_type": "code",
   "execution_count": 11,
   "metadata": {},
   "outputs": [
    {
     "output_type": "stream",
     "name": "stdout",
     "text": [
      "|    |         | Architecture               | Attack   |   Frac. edges (epsilon) |   accuracy |\n|---:|:--------|:---------------------------|:---------|------------------------:|-----------:|\n|  0 | Cora ML | Jaccard GCN                | PR-BCD   |                    0    |      0.809 |\n|  1 | Cora ML | Jaccard GCN                | PR-BCD   |                    0.01 |      0.785 |\n|  2 | Cora ML | Jaccard GCN                | PR-BCD   |                    0.05 |      0.723 |\n|  3 | Cora ML | Jaccard GCN                | PR-BCD   |                    0.1  |      0.659 |\n|  4 | Cora ML | Jaccard GCN                | PR-BCD   |                    0.25 |      0.532 |\n|  5 | Cora ML | RGCN                       | PR-BCD   |                    0    |      0.787 |\n|  6 | Cora ML | RGCN                       | PR-BCD   |                    0.01 |      0.769 |\n|  7 | Cora ML | RGCN                       | PR-BCD   |                    0.05 |      0.717 |\n|  8 | Cora ML | RGCN                       | PR-BCD   |                    0.1  |      0.667 |\n|  9 | Cora ML | RGCN                       | PR-BCD   |                    0.25 |      0.554 |\n| 10 | Cora ML | SVD GCN                    | PR-BCD   |                    0    |      0.763 |\n| 11 | Cora ML | SVD GCN                    | PR-BCD   |                    0.01 |      0.759 |\n| 12 | Cora ML | SVD GCN                    | PR-BCD   |                    0.05 |      0.734 |\n| 13 | Cora ML | SVD GCN                    | PR-BCD   |                    0.1  |      0.701 |\n| 14 | Cora ML | SVD GCN                    | PR-BCD   |                    0.25 |      0.589 |\n| 15 | Cora ML | Soft Median GDC (T=0.2)    | PR-BCD   |                    0    |      0.818 |\n| 16 | Cora ML | Soft Median GDC (T=0.2)    | PR-BCD   |                    0.01 |      0.803 |\n| 17 | Cora ML | Soft Median GDC (T=0.2)    | PR-BCD   |                    0.05 |      0.774 |\n| 18 | Cora ML | Soft Median GDC (T=0.2)    | PR-BCD   |                    0.1  |      0.743 |\n| 19 | Cora ML | Soft Median GDC (T=0.2)    | PR-BCD   |                    0.25 |      0.693 |\n| 20 | Cora ML | Soft Median GDC (T=0.5)    | PR-BCD   |                    0    |      0.825 |\n| 21 | Cora ML | Soft Median GDC (T=0.5)    | PR-BCD   |                    0.01 |      0.804 |\n| 22 | Cora ML | Soft Median GDC (T=0.5)    | PR-BCD   |                    0.05 |      0.766 |\n| 23 | Cora ML | Soft Median GDC (T=0.5)    | PR-BCD   |                    0.1  |      0.725 |\n| 24 | Cora ML | Soft Median GDC (T=0.5)    | PR-BCD   |                    0.25 |      0.655 |\n| 25 | Cora ML | Soft Median GDC (T=1.0)    | PR-BCD   |                    0    |      0.831 |\n| 26 | Cora ML | Soft Median GDC (T=1.0)    | PR-BCD   |                    0.01 |      0.807 |\n| 27 | Cora ML | Soft Median GDC (T=1.0)    | PR-BCD   |                    0.05 |      0.758 |\n| 28 | Cora ML | Soft Median GDC (T=1.0)    | PR-BCD   |                    0.1  |      0.71  |\n| 29 | Cora ML | Soft Median GDC (T=1.0)    | PR-BCD   |                    0.25 |      0.62  |\n| 30 | Cora ML | Soft Median RPPRGo (T=0.2) | PR-BCD   |                    0    |      0.781 |\n| 31 | Cora ML | Soft Median RPPRGo (T=0.2) | PR-BCD   |                    0.01 |      0.776 |\n| 32 | Cora ML | Soft Median RPPRGo (T=0.2) | PR-BCD   |                    0.05 |      0.759 |\n| 33 | Cora ML | Soft Median RPPRGo (T=0.2) | PR-BCD   |                    0.1  |      0.739 |\n| 34 | Cora ML | Soft Median RPPRGo (T=0.2) | PR-BCD   |                    0.25 |      0.693 |\n| 35 | Cora ML | Soft Median RPPRGo (T=0.5) | PR-BCD   |                    0    |      0.82  |\n| 36 | Cora ML | Soft Median RPPRGo (T=0.5) | PR-BCD   |                    0.01 |      0.812 |\n| 37 | Cora ML | Soft Median RPPRGo (T=0.5) | PR-BCD   |                    0.05 |      0.787 |\n| 38 | Cora ML | Soft Median RPPRGo (T=0.5) | PR-BCD   |                    0.1  |      0.767 |\n| 39 | Cora ML | Soft Median RPPRGo (T=0.5) | PR-BCD   |                    0.25 |      0.684 |\n| 40 | Cora ML | Soft Median RPPRGo (T=1.0) | PR-BCD   |                    0    |      0.82  |\n| 41 | Cora ML | Soft Median RPPRGo (T=1.0) | PR-BCD   |                    0.01 |      0.811 |\n| 42 | Cora ML | Soft Median RPPRGo (T=1.0) | PR-BCD   |                    0.05 |      0.788 |\n| 43 | Cora ML | Soft Median RPPRGo (T=1.0) | PR-BCD   |                    0.1  |      0.761 |\n| 44 | Cora ML | Soft Median RPPRGo (T=1.0) | PR-BCD   |                    0.25 |      0.685 |\n| 45 | Cora ML | Soft Medoid GDC (T=0.2)    | PR-BCD   |                    0    |      0.782 |\n| 46 | Cora ML | Soft Medoid GDC (T=0.2)    | PR-BCD   |                    0.01 |      0.776 |\n| 47 | Cora ML | Soft Medoid GDC (T=0.2)    | PR-BCD   |                    0.05 |      0.762 |\n| 48 | Cora ML | Soft Medoid GDC (T=0.2)    | PR-BCD   |                    0.1  |      0.749 |\n| 49 | Cora ML | Soft Medoid GDC (T=0.2)    | PR-BCD   |                    0.25 |      0.725 |\n| 50 | Cora ML | Soft Medoid GDC (T=0.5)    | PR-BCD   |                    0    |      0.809 |\n| 51 | Cora ML | Soft Medoid GDC (T=0.5)    | PR-BCD   |                    0.01 |      0.8   |\n| 52 | Cora ML | Soft Medoid GDC (T=0.5)    | PR-BCD   |                    0.05 |      0.775 |\n| 53 | Cora ML | Soft Medoid GDC (T=0.5)    | PR-BCD   |                    0.1  |      0.746 |\n| 54 | Cora ML | Soft Medoid GDC (T=0.5)    | PR-BCD   |                    0.25 |      0.7   |\n| 55 | Cora ML | Soft Medoid GDC (T=1.0)    | PR-BCD   |                    0    |      0.821 |\n| 56 | Cora ML | Soft Medoid GDC (T=1.0)    | PR-BCD   |                    0.01 |      0.804 |\n| 57 | Cora ML | Soft Medoid GDC (T=1.0)    | PR-BCD   |                    0.05 |      0.769 |\n| 58 | Cora ML | Soft Medoid GDC (T=1.0)    | PR-BCD   |                    0.1  |      0.729 |\n| 59 | Cora ML | Soft Medoid GDC (T=1.0)    | PR-BCD   |                    0.25 |      0.662 |\n| 60 | Cora ML | Soft Medoid RPPRGo (T=0.2) | PR-BCD   |                    0    |      0.759 |\n| 61 | Cora ML | Soft Medoid RPPRGo (T=0.2) | PR-BCD   |                    0.01 |      0.753 |\n| 62 | Cora ML | Soft Medoid RPPRGo (T=0.2) | PR-BCD   |                    0.05 |      0.738 |\n| 63 | Cora ML | Soft Medoid RPPRGo (T=0.2) | PR-BCD   |                    0.1  |      0.723 |\n| 64 | Cora ML | Soft Medoid RPPRGo (T=0.2) | PR-BCD   |                    0.25 |      0.687 |\n| 65 | Cora ML | Soft Medoid RPPRGo (T=0.5) | PR-BCD   |                    0    |      0.794 |\n| 66 | Cora ML | Soft Medoid RPPRGo (T=0.5) | PR-BCD   |                    0.01 |      0.789 |\n| 67 | Cora ML | Soft Medoid RPPRGo (T=0.5) | PR-BCD   |                    0.05 |      0.769 |\n| 68 | Cora ML | Soft Medoid RPPRGo (T=0.5) | PR-BCD   |                    0.1  |      0.754 |\n| 69 | Cora ML | Soft Medoid RPPRGo (T=0.5) | PR-BCD   |                    0.25 |      0.69  |\n| 70 | Cora ML | Soft Medoid RPPRGo (T=1.0) | PR-BCD   |                    0    |      0.813 |\n| 71 | Cora ML | Soft Medoid RPPRGo (T=1.0) | PR-BCD   |                    0.01 |      0.808 |\n| 72 | Cora ML | Soft Medoid RPPRGo (T=1.0) | PR-BCD   |                    0.05 |      0.782 |\n| 73 | Cora ML | Soft Medoid RPPRGo (T=1.0) | PR-BCD   |                    0.1  |      0.759 |\n| 74 | Cora ML | Soft Medoid RPPRGo (T=1.0) | PR-BCD   |                    0.25 |      0.684 |\n| 75 | Cora ML | Vanilla GCN                | PR-BCD   |                    0    |      0.82  |\n| 76 | Cora ML | Vanilla GCN                | PR-BCD   |                    0.01 |      0.786 |\n| 77 | Cora ML | Vanilla GCN                | PR-BCD   |                    0.05 |      0.706 |\n| 78 | Cora ML | Vanilla GCN                | PR-BCD   |                    0.1  |      0.635 |\n| 79 | Cora ML | Vanilla GCN                | PR-BCD   |                    0.25 |      0.509 |\n| 80 | Cora ML | Vanilla GDC                | PR-BCD   |                    0    |      0.838 |\n| 81 | Cora ML | Vanilla GDC                | PR-BCD   |                    0.01 |      0.808 |\n| 82 | Cora ML | Vanilla GDC                | PR-BCD   |                    0.05 |      0.737 |\n| 83 | Cora ML | Vanilla GDC                | PR-BCD   |                    0.1  |      0.673 |\n| 84 | Cora ML | Vanilla GDC                | PR-BCD   |                    0.25 |      0.555 |\n| 85 | Cora ML | Vanilla PPRGo              | PR-BCD   |                    0    |      0.829 |\n| 86 | Cora ML | Vanilla PPRGo              | PR-BCD   |                    0.01 |      0.809 |\n| 87 | Cora ML | Vanilla PPRGo              | PR-BCD   |                    0.05 |      0.772 |\n| 88 | Cora ML | Vanilla PPRGo              | PR-BCD   |                    0.1  |      0.738 |\n| 89 | Cora ML | Vanilla PPRGo              | PR-BCD   |                    0.25 |      0.678 |\n"
     ]
    }
   ],
   "source": [
    "\n",
    "print(df_cora.to_markdown())"
   ]
  },
  {
   "cell_type": "code",
   "execution_count": null,
   "metadata": {},
   "outputs": [],
   "source": []
  },
  {
   "cell_type": "code",
   "execution_count": 30,
   "metadata": {},
   "outputs": [
    {
     "output_type": "execute_result",
     "data": {
      "text/plain": [
       "                           Architecture  Attack  Frac. edges (epsilon)  \\\n",
       "0   Cora ML                 Jaccard GCN  PR-BCD                   0.00   \n",
       "1   Cora ML                 Jaccard GCN  PR-BCD                   0.01   \n",
       "2   Cora ML                 Jaccard GCN  PR-BCD                   0.05   \n",
       "3   Cora ML                 Jaccard GCN  PR-BCD                   0.10   \n",
       "4   Cora ML                 Jaccard GCN  PR-BCD                   0.25   \n",
       "5   Cora ML                        RGCN  PR-BCD                   0.00   \n",
       "6   Cora ML                        RGCN  PR-BCD                   0.01   \n",
       "7   Cora ML                        RGCN  PR-BCD                   0.05   \n",
       "8   Cora ML                        RGCN  PR-BCD                   0.10   \n",
       "9   Cora ML                        RGCN  PR-BCD                   0.25   \n",
       "10  Cora ML                     SVD GCN  PR-BCD                   0.00   \n",
       "11  Cora ML                     SVD GCN  PR-BCD                   0.01   \n",
       "12  Cora ML                     SVD GCN  PR-BCD                   0.05   \n",
       "13  Cora ML                     SVD GCN  PR-BCD                   0.10   \n",
       "14  Cora ML                     SVD GCN  PR-BCD                   0.25   \n",
       "15  Cora ML     Soft Median GDC (T=0.2)  PR-BCD                   0.00   \n",
       "16  Cora ML     Soft Median GDC (T=0.2)  PR-BCD                   0.01   \n",
       "17  Cora ML     Soft Median GDC (T=0.2)  PR-BCD                   0.05   \n",
       "18  Cora ML     Soft Median GDC (T=0.2)  PR-BCD                   0.10   \n",
       "19  Cora ML     Soft Median GDC (T=0.2)  PR-BCD                   0.25   \n",
       "20  Cora ML     Soft Median GDC (T=0.5)  PR-BCD                   0.00   \n",
       "21  Cora ML     Soft Median GDC (T=0.5)  PR-BCD                   0.01   \n",
       "22  Cora ML     Soft Median GDC (T=0.5)  PR-BCD                   0.05   \n",
       "23  Cora ML     Soft Median GDC (T=0.5)  PR-BCD                   0.10   \n",
       "24  Cora ML     Soft Median GDC (T=0.5)  PR-BCD                   0.25   \n",
       "25  Cora ML     Soft Median GDC (T=1.0)  PR-BCD                   0.00   \n",
       "26  Cora ML     Soft Median GDC (T=1.0)  PR-BCD                   0.01   \n",
       "27  Cora ML     Soft Median GDC (T=1.0)  PR-BCD                   0.05   \n",
       "28  Cora ML     Soft Median GDC (T=1.0)  PR-BCD                   0.10   \n",
       "29  Cora ML     Soft Median GDC (T=1.0)  PR-BCD                   0.25   \n",
       "30  Cora ML  Soft Median RPPRGo (T=0.2)  PR-BCD                   0.00   \n",
       "31  Cora ML  Soft Median RPPRGo (T=0.2)  PR-BCD                   0.01   \n",
       "32  Cora ML  Soft Median RPPRGo (T=0.2)  PR-BCD                   0.05   \n",
       "33  Cora ML  Soft Median RPPRGo (T=0.2)  PR-BCD                   0.10   \n",
       "34  Cora ML  Soft Median RPPRGo (T=0.2)  PR-BCD                   0.25   \n",
       "35  Cora ML  Soft Median RPPRGo (T=0.5)  PR-BCD                   0.00   \n",
       "36  Cora ML  Soft Median RPPRGo (T=0.5)  PR-BCD                   0.01   \n",
       "37  Cora ML  Soft Median RPPRGo (T=0.5)  PR-BCD                   0.05   \n",
       "38  Cora ML  Soft Median RPPRGo (T=0.5)  PR-BCD                   0.10   \n",
       "39  Cora ML  Soft Median RPPRGo (T=0.5)  PR-BCD                   0.25   \n",
       "40  Cora ML  Soft Median RPPRGo (T=1.0)  PR-BCD                   0.00   \n",
       "41  Cora ML  Soft Median RPPRGo (T=1.0)  PR-BCD                   0.01   \n",
       "42  Cora ML  Soft Median RPPRGo (T=1.0)  PR-BCD                   0.05   \n",
       "43  Cora ML  Soft Median RPPRGo (T=1.0)  PR-BCD                   0.10   \n",
       "44  Cora ML  Soft Median RPPRGo (T=1.0)  PR-BCD                   0.25   \n",
       "45  Cora ML     Soft Medoid GDC (T=0.2)  PR-BCD                   0.00   \n",
       "46  Cora ML     Soft Medoid GDC (T=0.2)  PR-BCD                   0.01   \n",
       "47  Cora ML     Soft Medoid GDC (T=0.2)  PR-BCD                   0.05   \n",
       "48  Cora ML     Soft Medoid GDC (T=0.2)  PR-BCD                   0.10   \n",
       "49  Cora ML     Soft Medoid GDC (T=0.2)  PR-BCD                   0.25   \n",
       "50  Cora ML     Soft Medoid GDC (T=0.5)  PR-BCD                   0.00   \n",
       "51  Cora ML     Soft Medoid GDC (T=0.5)  PR-BCD                   0.01   \n",
       "52  Cora ML     Soft Medoid GDC (T=0.5)  PR-BCD                   0.05   \n",
       "53  Cora ML     Soft Medoid GDC (T=0.5)  PR-BCD                   0.10   \n",
       "54  Cora ML     Soft Medoid GDC (T=0.5)  PR-BCD                   0.25   \n",
       "55  Cora ML     Soft Medoid GDC (T=1.0)  PR-BCD                   0.00   \n",
       "56  Cora ML     Soft Medoid GDC (T=1.0)  PR-BCD                   0.01   \n",
       "57  Cora ML     Soft Medoid GDC (T=1.0)  PR-BCD                   0.05   \n",
       "58  Cora ML     Soft Medoid GDC (T=1.0)  PR-BCD                   0.10   \n",
       "59  Cora ML     Soft Medoid GDC (T=1.0)  PR-BCD                   0.25   \n",
       "60  Cora ML  Soft Medoid RPPRGo (T=0.2)  PR-BCD                   0.00   \n",
       "61  Cora ML  Soft Medoid RPPRGo (T=0.2)  PR-BCD                   0.01   \n",
       "62  Cora ML  Soft Medoid RPPRGo (T=0.2)  PR-BCD                   0.05   \n",
       "63  Cora ML  Soft Medoid RPPRGo (T=0.2)  PR-BCD                   0.10   \n",
       "64  Cora ML  Soft Medoid RPPRGo (T=0.2)  PR-BCD                   0.25   \n",
       "65  Cora ML  Soft Medoid RPPRGo (T=0.5)  PR-BCD                   0.00   \n",
       "66  Cora ML  Soft Medoid RPPRGo (T=0.5)  PR-BCD                   0.01   \n",
       "67  Cora ML  Soft Medoid RPPRGo (T=0.5)  PR-BCD                   0.05   \n",
       "68  Cora ML  Soft Medoid RPPRGo (T=0.5)  PR-BCD                   0.10   \n",
       "69  Cora ML  Soft Medoid RPPRGo (T=0.5)  PR-BCD                   0.25   \n",
       "70  Cora ML  Soft Medoid RPPRGo (T=1.0)  PR-BCD                   0.00   \n",
       "71  Cora ML  Soft Medoid RPPRGo (T=1.0)  PR-BCD                   0.01   \n",
       "72  Cora ML  Soft Medoid RPPRGo (T=1.0)  PR-BCD                   0.05   \n",
       "73  Cora ML  Soft Medoid RPPRGo (T=1.0)  PR-BCD                   0.10   \n",
       "74  Cora ML  Soft Medoid RPPRGo (T=1.0)  PR-BCD                   0.25   \n",
       "75  Cora ML                 Vanilla GCN  PR-BCD                   0.00   \n",
       "76  Cora ML                 Vanilla GCN  PR-BCD                   0.01   \n",
       "77  Cora ML                 Vanilla GCN  PR-BCD                   0.05   \n",
       "78  Cora ML                 Vanilla GCN  PR-BCD                   0.10   \n",
       "79  Cora ML                 Vanilla GCN  PR-BCD                   0.25   \n",
       "80  Cora ML                 Vanilla GDC  PR-BCD                   0.00   \n",
       "81  Cora ML                 Vanilla GDC  PR-BCD                   0.01   \n",
       "82  Cora ML                 Vanilla GDC  PR-BCD                   0.05   \n",
       "83  Cora ML                 Vanilla GDC  PR-BCD                   0.10   \n",
       "84  Cora ML                 Vanilla GDC  PR-BCD                   0.25   \n",
       "85  Cora ML               Vanilla PPRGo  PR-BCD                   0.00   \n",
       "86  Cora ML               Vanilla PPRGo  PR-BCD                   0.01   \n",
       "87  Cora ML               Vanilla PPRGo  PR-BCD                   0.05   \n",
       "88  Cora ML               Vanilla PPRGo  PR-BCD                   0.10   \n",
       "89  Cora ML               Vanilla PPRGo  PR-BCD                   0.25   \n",
       "\n",
       "   accuracy  \n",
       "0     0.809  \n",
       "1     0.785  \n",
       "2     0.723  \n",
       "3     0.659  \n",
       "4     0.532  \n",
       "5     0.787  \n",
       "6     0.769  \n",
       "7     0.717  \n",
       "8     0.667  \n",
       "9     0.554  \n",
       "10    0.763  \n",
       "11    0.759  \n",
       "12    0.734  \n",
       "13    0.701  \n",
       "14    0.589  \n",
       "15    0.818  \n",
       "16    0.803  \n",
       "17    0.774  \n",
       "18    0.743  \n",
       "19    0.693  \n",
       "20    0.825  \n",
       "21    0.804  \n",
       "22    0.766  \n",
       "23    0.725  \n",
       "24    0.655  \n",
       "25    0.831  \n",
       "26    0.807  \n",
       "27    0.758  \n",
       "28    0.710  \n",
       "29    0.620  \n",
       "30    0.781  \n",
       "31    0.776  \n",
       "32    0.759  \n",
       "33    0.739  \n",
       "34    0.693  \n",
       "35    0.820  \n",
       "36    0.812  \n",
       "37    0.787  \n",
       "38    0.767  \n",
       "39    0.684  \n",
       "40    0.820  \n",
       "41    0.811  \n",
       "42    0.788  \n",
       "43    0.761  \n",
       "44    0.685  \n",
       "45    0.782  \n",
       "46    0.776  \n",
       "47    0.762  \n",
       "48    0.749  \n",
       "49    0.725  \n",
       "50    0.809  \n",
       "51    0.800  \n",
       "52    0.775  \n",
       "53    0.746  \n",
       "54    0.700  \n",
       "55    0.821  \n",
       "56    0.804  \n",
       "57    0.769  \n",
       "58    0.729  \n",
       "59    0.662  \n",
       "60    0.759  \n",
       "61    0.753  \n",
       "62    0.738  \n",
       "63    0.723  \n",
       "64    0.687  \n",
       "65    0.794  \n",
       "66    0.789  \n",
       "67    0.769  \n",
       "68    0.754  \n",
       "69    0.690  \n",
       "70    0.813  \n",
       "71    0.808  \n",
       "72    0.782  \n",
       "73    0.759  \n",
       "74    0.684  \n",
       "75    0.820  \n",
       "76    0.786  \n",
       "77    0.706  \n",
       "78    0.635  \n",
       "79    0.509  \n",
       "80    0.838  \n",
       "81    0.808  \n",
       "82    0.737  \n",
       "83    0.673  \n",
       "84    0.555  \n",
       "85    0.829  \n",
       "86    0.809  \n",
       "87    0.772  \n",
       "88    0.738  \n",
       "89    0.678  "
      ],
      "text/html": "<div>\n<style scoped>\n    .dataframe tbody tr th:only-of-type {\n        vertical-align: middle;\n    }\n\n    .dataframe tbody tr th {\n        vertical-align: top;\n    }\n\n    .dataframe thead th {\n        text-align: right;\n    }\n</style>\n<table border=\"1\" class=\"dataframe\">\n  <thead>\n    <tr style=\"text-align: right;\">\n      <th></th>\n      <th></th>\n      <th>Architecture</th>\n      <th>Attack</th>\n      <th>Frac. edges (epsilon)</th>\n      <th>accuracy</th>\n    </tr>\n  </thead>\n  <tbody>\n    <tr>\n      <th>0</th>\n      <td>Cora ML</td>\n      <td>Jaccard GCN</td>\n      <td>PR-BCD</td>\n      <td>0.00</td>\n      <td>0.809</td>\n    </tr>\n    <tr>\n      <th>1</th>\n      <td>Cora ML</td>\n      <td>Jaccard GCN</td>\n      <td>PR-BCD</td>\n      <td>0.01</td>\n      <td>0.785</td>\n    </tr>\n    <tr>\n      <th>2</th>\n      <td>Cora ML</td>\n      <td>Jaccard GCN</td>\n      <td>PR-BCD</td>\n      <td>0.05</td>\n      <td>0.723</td>\n    </tr>\n    <tr>\n      <th>3</th>\n      <td>Cora ML</td>\n      <td>Jaccard GCN</td>\n      <td>PR-BCD</td>\n      <td>0.10</td>\n      <td>0.659</td>\n    </tr>\n    <tr>\n      <th>4</th>\n      <td>Cora ML</td>\n      <td>Jaccard GCN</td>\n      <td>PR-BCD</td>\n      <td>0.25</td>\n      <td>0.532</td>\n    </tr>\n    <tr>\n      <th>5</th>\n      <td>Cora ML</td>\n      <td>RGCN</td>\n      <td>PR-BCD</td>\n      <td>0.00</td>\n      <td>0.787</td>\n    </tr>\n    <tr>\n      <th>6</th>\n      <td>Cora ML</td>\n      <td>RGCN</td>\n      <td>PR-BCD</td>\n      <td>0.01</td>\n      <td>0.769</td>\n    </tr>\n    <tr>\n      <th>7</th>\n      <td>Cora ML</td>\n      <td>RGCN</td>\n      <td>PR-BCD</td>\n      <td>0.05</td>\n      <td>0.717</td>\n    </tr>\n    <tr>\n      <th>8</th>\n      <td>Cora ML</td>\n      <td>RGCN</td>\n      <td>PR-BCD</td>\n      <td>0.10</td>\n      <td>0.667</td>\n    </tr>\n    <tr>\n      <th>9</th>\n      <td>Cora ML</td>\n      <td>RGCN</td>\n      <td>PR-BCD</td>\n      <td>0.25</td>\n      <td>0.554</td>\n    </tr>\n    <tr>\n      <th>10</th>\n      <td>Cora ML</td>\n      <td>SVD GCN</td>\n      <td>PR-BCD</td>\n      <td>0.00</td>\n      <td>0.763</td>\n    </tr>\n    <tr>\n      <th>11</th>\n      <td>Cora ML</td>\n      <td>SVD GCN</td>\n      <td>PR-BCD</td>\n      <td>0.01</td>\n      <td>0.759</td>\n    </tr>\n    <tr>\n      <th>12</th>\n      <td>Cora ML</td>\n      <td>SVD GCN</td>\n      <td>PR-BCD</td>\n      <td>0.05</td>\n      <td>0.734</td>\n    </tr>\n    <tr>\n      <th>13</th>\n      <td>Cora ML</td>\n      <td>SVD GCN</td>\n      <td>PR-BCD</td>\n      <td>0.10</td>\n      <td>0.701</td>\n    </tr>\n    <tr>\n      <th>14</th>\n      <td>Cora ML</td>\n      <td>SVD GCN</td>\n      <td>PR-BCD</td>\n      <td>0.25</td>\n      <td>0.589</td>\n    </tr>\n    <tr>\n      <th>15</th>\n      <td>Cora ML</td>\n      <td>Soft Median GDC (T=0.2)</td>\n      <td>PR-BCD</td>\n      <td>0.00</td>\n      <td>0.818</td>\n    </tr>\n    <tr>\n      <th>16</th>\n      <td>Cora ML</td>\n      <td>Soft Median GDC (T=0.2)</td>\n      <td>PR-BCD</td>\n      <td>0.01</td>\n      <td>0.803</td>\n    </tr>\n    <tr>\n      <th>17</th>\n      <td>Cora ML</td>\n      <td>Soft Median GDC (T=0.2)</td>\n      <td>PR-BCD</td>\n      <td>0.05</td>\n      <td>0.774</td>\n    </tr>\n    <tr>\n      <th>18</th>\n      <td>Cora ML</td>\n      <td>Soft Median GDC (T=0.2)</td>\n      <td>PR-BCD</td>\n      <td>0.10</td>\n      <td>0.743</td>\n    </tr>\n    <tr>\n      <th>19</th>\n      <td>Cora ML</td>\n      <td>Soft Median GDC (T=0.2)</td>\n      <td>PR-BCD</td>\n      <td>0.25</td>\n      <td>0.693</td>\n    </tr>\n    <tr>\n      <th>20</th>\n      <td>Cora ML</td>\n      <td>Soft Median GDC (T=0.5)</td>\n      <td>PR-BCD</td>\n      <td>0.00</td>\n      <td>0.825</td>\n    </tr>\n    <tr>\n      <th>21</th>\n      <td>Cora ML</td>\n      <td>Soft Median GDC (T=0.5)</td>\n      <td>PR-BCD</td>\n      <td>0.01</td>\n      <td>0.804</td>\n    </tr>\n    <tr>\n      <th>22</th>\n      <td>Cora ML</td>\n      <td>Soft Median GDC (T=0.5)</td>\n      <td>PR-BCD</td>\n      <td>0.05</td>\n      <td>0.766</td>\n    </tr>\n    <tr>\n      <th>23</th>\n      <td>Cora ML</td>\n      <td>Soft Median GDC (T=0.5)</td>\n      <td>PR-BCD</td>\n      <td>0.10</td>\n      <td>0.725</td>\n    </tr>\n    <tr>\n      <th>24</th>\n      <td>Cora ML</td>\n      <td>Soft Median GDC (T=0.5)</td>\n      <td>PR-BCD</td>\n      <td>0.25</td>\n      <td>0.655</td>\n    </tr>\n    <tr>\n      <th>25</th>\n      <td>Cora ML</td>\n      <td>Soft Median GDC (T=1.0)</td>\n      <td>PR-BCD</td>\n      <td>0.00</td>\n      <td>0.831</td>\n    </tr>\n    <tr>\n      <th>26</th>\n      <td>Cora ML</td>\n      <td>Soft Median GDC (T=1.0)</td>\n      <td>PR-BCD</td>\n      <td>0.01</td>\n      <td>0.807</td>\n    </tr>\n    <tr>\n      <th>27</th>\n      <td>Cora ML</td>\n      <td>Soft Median GDC (T=1.0)</td>\n      <td>PR-BCD</td>\n      <td>0.05</td>\n      <td>0.758</td>\n    </tr>\n    <tr>\n      <th>28</th>\n      <td>Cora ML</td>\n      <td>Soft Median GDC (T=1.0)</td>\n      <td>PR-BCD</td>\n      <td>0.10</td>\n      <td>0.710</td>\n    </tr>\n    <tr>\n      <th>29</th>\n      <td>Cora ML</td>\n      <td>Soft Median GDC (T=1.0)</td>\n      <td>PR-BCD</td>\n      <td>0.25</td>\n      <td>0.620</td>\n    </tr>\n    <tr>\n      <th>30</th>\n      <td>Cora ML</td>\n      <td>Soft Median RPPRGo (T=0.2)</td>\n      <td>PR-BCD</td>\n      <td>0.00</td>\n      <td>0.781</td>\n    </tr>\n    <tr>\n      <th>31</th>\n      <td>Cora ML</td>\n      <td>Soft Median RPPRGo (T=0.2)</td>\n      <td>PR-BCD</td>\n      <td>0.01</td>\n      <td>0.776</td>\n    </tr>\n    <tr>\n      <th>32</th>\n      <td>Cora ML</td>\n      <td>Soft Median RPPRGo (T=0.2)</td>\n      <td>PR-BCD</td>\n      <td>0.05</td>\n      <td>0.759</td>\n    </tr>\n    <tr>\n      <th>33</th>\n      <td>Cora ML</td>\n      <td>Soft Median RPPRGo (T=0.2)</td>\n      <td>PR-BCD</td>\n      <td>0.10</td>\n      <td>0.739</td>\n    </tr>\n    <tr>\n      <th>34</th>\n      <td>Cora ML</td>\n      <td>Soft Median RPPRGo (T=0.2)</td>\n      <td>PR-BCD</td>\n      <td>0.25</td>\n      <td>0.693</td>\n    </tr>\n    <tr>\n      <th>35</th>\n      <td>Cora ML</td>\n      <td>Soft Median RPPRGo (T=0.5)</td>\n      <td>PR-BCD</td>\n      <td>0.00</td>\n      <td>0.820</td>\n    </tr>\n    <tr>\n      <th>36</th>\n      <td>Cora ML</td>\n      <td>Soft Median RPPRGo (T=0.5)</td>\n      <td>PR-BCD</td>\n      <td>0.01</td>\n      <td>0.812</td>\n    </tr>\n    <tr>\n      <th>37</th>\n      <td>Cora ML</td>\n      <td>Soft Median RPPRGo (T=0.5)</td>\n      <td>PR-BCD</td>\n      <td>0.05</td>\n      <td>0.787</td>\n    </tr>\n    <tr>\n      <th>38</th>\n      <td>Cora ML</td>\n      <td>Soft Median RPPRGo (T=0.5)</td>\n      <td>PR-BCD</td>\n      <td>0.10</td>\n      <td>0.767</td>\n    </tr>\n    <tr>\n      <th>39</th>\n      <td>Cora ML</td>\n      <td>Soft Median RPPRGo (T=0.5)</td>\n      <td>PR-BCD</td>\n      <td>0.25</td>\n      <td>0.684</td>\n    </tr>\n    <tr>\n      <th>40</th>\n      <td>Cora ML</td>\n      <td>Soft Median RPPRGo (T=1.0)</td>\n      <td>PR-BCD</td>\n      <td>0.00</td>\n      <td>0.820</td>\n    </tr>\n    <tr>\n      <th>41</th>\n      <td>Cora ML</td>\n      <td>Soft Median RPPRGo (T=1.0)</td>\n      <td>PR-BCD</td>\n      <td>0.01</td>\n      <td>0.811</td>\n    </tr>\n    <tr>\n      <th>42</th>\n      <td>Cora ML</td>\n      <td>Soft Median RPPRGo (T=1.0)</td>\n      <td>PR-BCD</td>\n      <td>0.05</td>\n      <td>0.788</td>\n    </tr>\n    <tr>\n      <th>43</th>\n      <td>Cora ML</td>\n      <td>Soft Median RPPRGo (T=1.0)</td>\n      <td>PR-BCD</td>\n      <td>0.10</td>\n      <td>0.761</td>\n    </tr>\n    <tr>\n      <th>44</th>\n      <td>Cora ML</td>\n      <td>Soft Median RPPRGo (T=1.0)</td>\n      <td>PR-BCD</td>\n      <td>0.25</td>\n      <td>0.685</td>\n    </tr>\n    <tr>\n      <th>45</th>\n      <td>Cora ML</td>\n      <td>Soft Medoid GDC (T=0.2)</td>\n      <td>PR-BCD</td>\n      <td>0.00</td>\n      <td>0.782</td>\n    </tr>\n    <tr>\n      <th>46</th>\n      <td>Cora ML</td>\n      <td>Soft Medoid GDC (T=0.2)</td>\n      <td>PR-BCD</td>\n      <td>0.01</td>\n      <td>0.776</td>\n    </tr>\n    <tr>\n      <th>47</th>\n      <td>Cora ML</td>\n      <td>Soft Medoid GDC (T=0.2)</td>\n      <td>PR-BCD</td>\n      <td>0.05</td>\n      <td>0.762</td>\n    </tr>\n    <tr>\n      <th>48</th>\n      <td>Cora ML</td>\n      <td>Soft Medoid GDC (T=0.2)</td>\n      <td>PR-BCD</td>\n      <td>0.10</td>\n      <td>0.749</td>\n    </tr>\n    <tr>\n      <th>49</th>\n      <td>Cora ML</td>\n      <td>Soft Medoid GDC (T=0.2)</td>\n      <td>PR-BCD</td>\n      <td>0.25</td>\n      <td>0.725</td>\n    </tr>\n    <tr>\n      <th>50</th>\n      <td>Cora ML</td>\n      <td>Soft Medoid GDC (T=0.5)</td>\n      <td>PR-BCD</td>\n      <td>0.00</td>\n      <td>0.809</td>\n    </tr>\n    <tr>\n      <th>51</th>\n      <td>Cora ML</td>\n      <td>Soft Medoid GDC (T=0.5)</td>\n      <td>PR-BCD</td>\n      <td>0.01</td>\n      <td>0.800</td>\n    </tr>\n    <tr>\n      <th>52</th>\n      <td>Cora ML</td>\n      <td>Soft Medoid GDC (T=0.5)</td>\n      <td>PR-BCD</td>\n      <td>0.05</td>\n      <td>0.775</td>\n    </tr>\n    <tr>\n      <th>53</th>\n      <td>Cora ML</td>\n      <td>Soft Medoid GDC (T=0.5)</td>\n      <td>PR-BCD</td>\n      <td>0.10</td>\n      <td>0.746</td>\n    </tr>\n    <tr>\n      <th>54</th>\n      <td>Cora ML</td>\n      <td>Soft Medoid GDC (T=0.5)</td>\n      <td>PR-BCD</td>\n      <td>0.25</td>\n      <td>0.700</td>\n    </tr>\n    <tr>\n      <th>55</th>\n      <td>Cora ML</td>\n      <td>Soft Medoid GDC (T=1.0)</td>\n      <td>PR-BCD</td>\n      <td>0.00</td>\n      <td>0.821</td>\n    </tr>\n    <tr>\n      <th>56</th>\n      <td>Cora ML</td>\n      <td>Soft Medoid GDC (T=1.0)</td>\n      <td>PR-BCD</td>\n      <td>0.01</td>\n      <td>0.804</td>\n    </tr>\n    <tr>\n      <th>57</th>\n      <td>Cora ML</td>\n      <td>Soft Medoid GDC (T=1.0)</td>\n      <td>PR-BCD</td>\n      <td>0.05</td>\n      <td>0.769</td>\n    </tr>\n    <tr>\n      <th>58</th>\n      <td>Cora ML</td>\n      <td>Soft Medoid GDC (T=1.0)</td>\n      <td>PR-BCD</td>\n      <td>0.10</td>\n      <td>0.729</td>\n    </tr>\n    <tr>\n      <th>59</th>\n      <td>Cora ML</td>\n      <td>Soft Medoid GDC (T=1.0)</td>\n      <td>PR-BCD</td>\n      <td>0.25</td>\n      <td>0.662</td>\n    </tr>\n    <tr>\n      <th>60</th>\n      <td>Cora ML</td>\n      <td>Soft Medoid RPPRGo (T=0.2)</td>\n      <td>PR-BCD</td>\n      <td>0.00</td>\n      <td>0.759</td>\n    </tr>\n    <tr>\n      <th>61</th>\n      <td>Cora ML</td>\n      <td>Soft Medoid RPPRGo (T=0.2)</td>\n      <td>PR-BCD</td>\n      <td>0.01</td>\n      <td>0.753</td>\n    </tr>\n    <tr>\n      <th>62</th>\n      <td>Cora ML</td>\n      <td>Soft Medoid RPPRGo (T=0.2)</td>\n      <td>PR-BCD</td>\n      <td>0.05</td>\n      <td>0.738</td>\n    </tr>\n    <tr>\n      <th>63</th>\n      <td>Cora ML</td>\n      <td>Soft Medoid RPPRGo (T=0.2)</td>\n      <td>PR-BCD</td>\n      <td>0.10</td>\n      <td>0.723</td>\n    </tr>\n    <tr>\n      <th>64</th>\n      <td>Cora ML</td>\n      <td>Soft Medoid RPPRGo (T=0.2)</td>\n      <td>PR-BCD</td>\n      <td>0.25</td>\n      <td>0.687</td>\n    </tr>\n    <tr>\n      <th>65</th>\n      <td>Cora ML</td>\n      <td>Soft Medoid RPPRGo (T=0.5)</td>\n      <td>PR-BCD</td>\n      <td>0.00</td>\n      <td>0.794</td>\n    </tr>\n    <tr>\n      <th>66</th>\n      <td>Cora ML</td>\n      <td>Soft Medoid RPPRGo (T=0.5)</td>\n      <td>PR-BCD</td>\n      <td>0.01</td>\n      <td>0.789</td>\n    </tr>\n    <tr>\n      <th>67</th>\n      <td>Cora ML</td>\n      <td>Soft Medoid RPPRGo (T=0.5)</td>\n      <td>PR-BCD</td>\n      <td>0.05</td>\n      <td>0.769</td>\n    </tr>\n    <tr>\n      <th>68</th>\n      <td>Cora ML</td>\n      <td>Soft Medoid RPPRGo (T=0.5)</td>\n      <td>PR-BCD</td>\n      <td>0.10</td>\n      <td>0.754</td>\n    </tr>\n    <tr>\n      <th>69</th>\n      <td>Cora ML</td>\n      <td>Soft Medoid RPPRGo (T=0.5)</td>\n      <td>PR-BCD</td>\n      <td>0.25</td>\n      <td>0.690</td>\n    </tr>\n    <tr>\n      <th>70</th>\n      <td>Cora ML</td>\n      <td>Soft Medoid RPPRGo (T=1.0)</td>\n      <td>PR-BCD</td>\n      <td>0.00</td>\n      <td>0.813</td>\n    </tr>\n    <tr>\n      <th>71</th>\n      <td>Cora ML</td>\n      <td>Soft Medoid RPPRGo (T=1.0)</td>\n      <td>PR-BCD</td>\n      <td>0.01</td>\n      <td>0.808</td>\n    </tr>\n    <tr>\n      <th>72</th>\n      <td>Cora ML</td>\n      <td>Soft Medoid RPPRGo (T=1.0)</td>\n      <td>PR-BCD</td>\n      <td>0.05</td>\n      <td>0.782</td>\n    </tr>\n    <tr>\n      <th>73</th>\n      <td>Cora ML</td>\n      <td>Soft Medoid RPPRGo (T=1.0)</td>\n      <td>PR-BCD</td>\n      <td>0.10</td>\n      <td>0.759</td>\n    </tr>\n    <tr>\n      <th>74</th>\n      <td>Cora ML</td>\n      <td>Soft Medoid RPPRGo (T=1.0)</td>\n      <td>PR-BCD</td>\n      <td>0.25</td>\n      <td>0.684</td>\n    </tr>\n    <tr>\n      <th>75</th>\n      <td>Cora ML</td>\n      <td>Vanilla GCN</td>\n      <td>PR-BCD</td>\n      <td>0.00</td>\n      <td>0.820</td>\n    </tr>\n    <tr>\n      <th>76</th>\n      <td>Cora ML</td>\n      <td>Vanilla GCN</td>\n      <td>PR-BCD</td>\n      <td>0.01</td>\n      <td>0.786</td>\n    </tr>\n    <tr>\n      <th>77</th>\n      <td>Cora ML</td>\n      <td>Vanilla GCN</td>\n      <td>PR-BCD</td>\n      <td>0.05</td>\n      <td>0.706</td>\n    </tr>\n    <tr>\n      <th>78</th>\n      <td>Cora ML</td>\n      <td>Vanilla GCN</td>\n      <td>PR-BCD</td>\n      <td>0.10</td>\n      <td>0.635</td>\n    </tr>\n    <tr>\n      <th>79</th>\n      <td>Cora ML</td>\n      <td>Vanilla GCN</td>\n      <td>PR-BCD</td>\n      <td>0.25</td>\n      <td>0.509</td>\n    </tr>\n    <tr>\n      <th>80</th>\n      <td>Cora ML</td>\n      <td>Vanilla GDC</td>\n      <td>PR-BCD</td>\n      <td>0.00</td>\n      <td>0.838</td>\n    </tr>\n    <tr>\n      <th>81</th>\n      <td>Cora ML</td>\n      <td>Vanilla GDC</td>\n      <td>PR-BCD</td>\n      <td>0.01</td>\n      <td>0.808</td>\n    </tr>\n    <tr>\n      <th>82</th>\n      <td>Cora ML</td>\n      <td>Vanilla GDC</td>\n      <td>PR-BCD</td>\n      <td>0.05</td>\n      <td>0.737</td>\n    </tr>\n    <tr>\n      <th>83</th>\n      <td>Cora ML</td>\n      <td>Vanilla GDC</td>\n      <td>PR-BCD</td>\n      <td>0.10</td>\n      <td>0.673</td>\n    </tr>\n    <tr>\n      <th>84</th>\n      <td>Cora ML</td>\n      <td>Vanilla GDC</td>\n      <td>PR-BCD</td>\n      <td>0.25</td>\n      <td>0.555</td>\n    </tr>\n    <tr>\n      <th>85</th>\n      <td>Cora ML</td>\n      <td>Vanilla PPRGo</td>\n      <td>PR-BCD</td>\n      <td>0.00</td>\n      <td>0.829</td>\n    </tr>\n    <tr>\n      <th>86</th>\n      <td>Cora ML</td>\n      <td>Vanilla PPRGo</td>\n      <td>PR-BCD</td>\n      <td>0.01</td>\n      <td>0.809</td>\n    </tr>\n    <tr>\n      <th>87</th>\n      <td>Cora ML</td>\n      <td>Vanilla PPRGo</td>\n      <td>PR-BCD</td>\n      <td>0.05</td>\n      <td>0.772</td>\n    </tr>\n    <tr>\n      <th>88</th>\n      <td>Cora ML</td>\n      <td>Vanilla PPRGo</td>\n      <td>PR-BCD</td>\n      <td>0.10</td>\n      <td>0.738</td>\n    </tr>\n    <tr>\n      <th>89</th>\n      <td>Cora ML</td>\n      <td>Vanilla PPRGo</td>\n      <td>PR-BCD</td>\n      <td>0.25</td>\n      <td>0.678</td>\n    </tr>\n  </tbody>\n</table>\n</div>"
     },
     "metadata": {},
     "execution_count": 30
    }
   ],
   "source": [
    "df_cora"
   ]
  },
  {
   "cell_type": "code",
   "execution_count": null,
   "metadata": {},
   "outputs": [],
   "source": []
  }
 ],
 "metadata": {
  "kernelspec": {
   "display_name": "Python 3",
   "language": "python",
   "name": "python3"
  },
  "language_info": {
   "codemirror_mode": {
    "name": "ipython",
    "version": 3
   },
   "file_extension": ".py",
   "mimetype": "text/x-python",
   "name": "python",
   "nbconvert_exporter": "python",
   "pygments_lexer": "ipython3",
   "version": "3.8.5-final"
  }
 },
 "nbformat": 4,
 "nbformat_minor": 4
}