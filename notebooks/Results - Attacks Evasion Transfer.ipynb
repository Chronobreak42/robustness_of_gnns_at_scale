{
 "cells": [
  {
   "cell_type": "code",
   "execution_count": null,
   "metadata": {},
   "outputs": [],
   "source": [
    "import seml\n",
    "import pandas as pd\n",
    "import numpy as np\n",
    "from run_seml import run\n",
    "from matplotlib import pyplot as plt\n",
    "\n",
    "pd.set_option('display.max_columns', 50)\n",
    "pd.set_option('display.max_rows', 150)"
   ]
  },
  {
   "cell_type": "code",
   "execution_count": null,
   "metadata": {},
   "outputs": [],
   "source": [
    "%load_ext autoreload\n",
    "%autoreload 2"
   ]
  },
  {
   "cell_type": "code",
   "execution_count": null,
   "metadata": {
    "tags": []
   },
   "outputs": [],
   "source": [
    "df_experiments = seml.get_results('kdd21_rgnn_at_scale_attack_evasion_transfer',\n",
    "                                  to_data_frame=True,\n",
    "                                  fields=['batch_id', 'slurm', 'config', 'result'])"
   ]
  },
  {
   "cell_type": "code",
   "execution_count": null,
   "metadata": {},
   "outputs": [],
   "source": [
    "df_results = [\n",
    "    pd.DataFrame(r) \n",
    "    for r in df_experiments['result.results']\n",
    "]\n",
    "for df_result, (_, df_experiment) in zip(df_results, df_experiments.iterrows()):\n",
    "    df_result['dataset'] = df_experiment['config.dataset']\n",
    "    df_result['attack'] = df_experiment['config.attack']\n",
    "    df_result['seed'] = df_experiment['config.seed']\n",
    "    df_result['batch_id'] = df_experiment['batch_id']\n",
    "    df_result['novel_loss'] = (\n",
    "        #(df_experiment['config.attack_params.stop_optimizing_if_label_flipped'] == True)\n",
    "         (df_experiment['config.attack_params.loss_type'] == 'MCE')\n",
    "        | (df_experiment['config.attack_params.loss_type'] == 'tanhCW')\n",
    "    )\n",
    "\n",
    "df_results = pd.concat(df_results, ignore_index=True)\n",
    "df_results = df_results.sort_values('batch_id')\n",
    "df_results = df_results.drop_duplicates([\n",
    "    c for c in df_results.columns if c != 'batch_id' and c != 'accuracy'\n",
    "], keep='last')\n",
    "\n",
    "df_results"
   ]
  },
  {
   "cell_type": "code",
   "execution_count": null,
   "metadata": {},
   "outputs": [],
   "source": [
    "dataset_map = {\n",
    "    'cora_ml': r'Cora ML', \n",
    "    'citeseer': r'Citeseer', \n",
    "}\n",
    "dataset_order = [dataset_map[k] for k in dataset_map.keys()]"
   ]
  },
  {
   "cell_type": "code",
   "execution_count": null,
   "metadata": {},
   "outputs": [],
   "source": [
    "attack_map = {\n",
    "    'PRBCD': r'PR-BCD'\n",
    "}\n",
    "attack_order = [attack_map[k] for k in attack_map.keys()]"
   ]
  },
  {
   "cell_type": "code",
   "execution_count": null,
   "metadata": {},
   "outputs": [],
   "source": [
    "def transform_label(label: str):\n",
    "    return label"
   ]
  },
  {
   "cell_type": "code",
   "execution_count": null,
   "metadata": {},
   "outputs": [],
   "source": [
    "def calc_mean_and_error(values: pd.Series, seeds: pd.Series, with_error=True, decimal_places: int = 3): \n",
    "    values, seeds = values.values, seeds.values\n",
    "    seeds = seeds[~np.isnan(values)]\n",
    "    values = values[~np.isnan(values)]\n",
    "\n",
    "    idx = np.unique(seeds, return_index=True)[1]\n",
    "    values = values[idx]\n",
    "    \n",
    "    if with_error:\n",
    "        return rf'{np.mean(values):.{decimal_places}f} $\\pm$ {np.std(values)/len(values):.{decimal_places}f}'\n",
    "    else:\n",
    "        return rf'{np.mean(values):.{decimal_places}f}'"
   ]
  },
  {
   "cell_type": "code",
   "execution_count": null,
   "metadata": {},
   "outputs": [],
   "source": [
    "architecture_c = r'Architecture'\n",
    "dataset_c = r'   '\n",
    "attack_c = r'Attack'\n",
    "epsilons_c = r'Frac. edges (epsilon)'\n",
    "\n",
    "epsilons = [0.05, 0.1, 0.25]\n",
    "epsilon_marks = [r'\\textit', r'\\underline', r'\\textbf']"
   ]
  },
  {
   "cell_type": "code",
   "execution_count": null,
   "metadata": {},
   "outputs": [],
   "source": [
    "\n",
    "df_cora = []\n",
    "df_citeseer = []\n",
    "\n",
    "for (dataset, attack, label, epsilon), df_group in df_results.groupby(['dataset', 'attack', 'label', 'epsilon']):\n",
    "       if len(df_group.seed.unique()) != 3:\n",
    "              print(f'For {dataset}-{attack}-{epsilon} collected runs for seed {df_group.seed.tolist()}')\n",
    "\n",
    "       accurcy = calc_mean_and_error(df_group.accuracy, df_group.seed, with_error=False)\n",
    "       if dataset == \"citeseer\":\n",
    "              df_citeseer.append({\n",
    "                     dataset_c: dataset_map[dataset],\n",
    "                     architecture_c: transform_label(label),\n",
    "                     attack_c: attack_map[attack],\n",
    "                     epsilons_c: epsilon,\n",
    "                     'accuracy': accurcy\n",
    "              })\n",
    "       elif dataset == \"cora_ml\":\n",
    "              df_cora.append({\n",
    "                     dataset_c: dataset_map[dataset],\n",
    "                     architecture_c: transform_label(label),\n",
    "                     attack_c: attack_map[attack],\n",
    "                     epsilons_c: epsilon,\n",
    "                     'accuracy': accurcy\n",
    "              })\n",
    "\n",
    "\n",
    "df_cora = pd.DataFrame(df_cora)\n",
    "df_citeseer = pd.DataFrame(df_citeseer)"
   ]
  },
  {
   "cell_type": "code",
   "execution_count": null,
   "metadata": {},
   "outputs": [],
   "source": [
    "\n",
    "print(df_cora.to_markdown())"
   ]
  },
  {
   "cell_type": "code",
   "execution_count": null,
   "metadata": {},
   "outputs": [],
   "source": []
  },
  {
   "cell_type": "code",
   "execution_count": null,
   "metadata": {},
   "outputs": [],
   "source": []
  }
 ],
 "metadata": {
  "kernelspec": {
   "display_name": "Python 3",
   "language": "python",
   "name": "python3"
  },
  "language_info": {
   "codemirror_mode": {
    "name": "ipython",
    "version": 3
   },
   "file_extension": ".py",
   "mimetype": "text/x-python",
   "name": "python",
   "nbconvert_exporter": "python",
   "pygments_lexer": "ipython3",
   "version": "3.8.5-final"
  }
 },
 "nbformat": 4,
 "nbformat_minor": 4
}