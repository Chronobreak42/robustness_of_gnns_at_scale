{
  "nbformat": 4,
  "nbformat_minor": 0,
  "metadata": {
    "colab": {
      "name": "Quick_start-robustness_gnns_at_scale.ipynb",
      "provenance": [],
      "include_colab_link": true
    },
    "kernelspec": {
      "name": "python3",
      "display_name": "Python 3"
    },
    "language_info": {
      "name": "python"
    },
    "accelerator": "GPU",
    "widgets": {
      "application/vnd.jupyter.widget-state+json": {
        "ad73dec594764787b774efe2c28cdc0a": {
          "model_module": "@jupyter-widgets/controls",
          "model_name": "HBoxModel",
          "model_module_version": "1.5.0",
          "state": {
            "_dom_classes": [],
            "_model_module": "@jupyter-widgets/controls",
            "_model_module_version": "1.5.0",
            "_model_name": "HBoxModel",
            "_view_count": null,
            "_view_module": "@jupyter-widgets/controls",
            "_view_module_version": "1.5.0",
            "_view_name": "HBoxView",
            "box_style": "",
            "children": [
              "IPY_MODEL_e85c34afc50f406c8e152131a78ca640",
              "IPY_MODEL_327b0ef864674469b313b47fc8cd2cf5",
              "IPY_MODEL_371490376f684bb9bb45f260ea526e89"
            ],
            "layout": "IPY_MODEL_f8d2ffb60bf240d5a013fc268ed260b7"
          }
        },
        "e85c34afc50f406c8e152131a78ca640": {
          "model_module": "@jupyter-widgets/controls",
          "model_name": "HTMLModel",
          "model_module_version": "1.5.0",
          "state": {
            "_dom_classes": [],
            "_model_module": "@jupyter-widgets/controls",
            "_model_module_version": "1.5.0",
            "_model_name": "HTMLModel",
            "_view_count": null,
            "_view_module": "@jupyter-widgets/controls",
            "_view_module_version": "1.5.0",
            "_view_name": "HTMLView",
            "description": "",
            "description_tooltip": null,
            "layout": "IPY_MODEL_b760685585f942559cea72cf13d926b2",
            "placeholder": "​",
            "style": "IPY_MODEL_ac0c6fb3759d4fe89266d410d50201af",
            "value": "Training...:  22%"
          }
        },
        "327b0ef864674469b313b47fc8cd2cf5": {
          "model_module": "@jupyter-widgets/controls",
          "model_name": "FloatProgressModel",
          "model_module_version": "1.5.0",
          "state": {
            "_dom_classes": [],
            "_model_module": "@jupyter-widgets/controls",
            "_model_module_version": "1.5.0",
            "_model_name": "FloatProgressModel",
            "_view_count": null,
            "_view_module": "@jupyter-widgets/controls",
            "_view_module_version": "1.5.0",
            "_view_name": "ProgressView",
            "bar_style": "danger",
            "description": "",
            "description_tooltip": null,
            "layout": "IPY_MODEL_585825353b074d8fa59447856c6e30c6",
            "max": 3000,
            "min": 0,
            "orientation": "horizontal",
            "style": "IPY_MODEL_ef628605c9dc4c6fa3158c5f21855291",
            "value": 665
          }
        },
        "371490376f684bb9bb45f260ea526e89": {
          "model_module": "@jupyter-widgets/controls",
          "model_name": "HTMLModel",
          "model_module_version": "1.5.0",
          "state": {
            "_dom_classes": [],
            "_model_module": "@jupyter-widgets/controls",
            "_model_module_version": "1.5.0",
            "_model_name": "HTMLModel",
            "_view_count": null,
            "_view_module": "@jupyter-widgets/controls",
            "_view_module_version": "1.5.0",
            "_view_name": "HTMLView",
            "description": "",
            "description_tooltip": null,
            "layout": "IPY_MODEL_adb6925596be4202a6a46cd3792a158c",
            "placeholder": "​",
            "style": "IPY_MODEL_8d9ba5640d484fa9ac78c6a0a3cbedc5",
            "value": " 665/3000 [01:25&lt;06:29,  5.99it/s]"
          }
        },
        "f8d2ffb60bf240d5a013fc268ed260b7": {
          "model_module": "@jupyter-widgets/base",
          "model_name": "LayoutModel",
          "model_module_version": "1.2.0",
          "state": {
            "_model_module": "@jupyter-widgets/base",
            "_model_module_version": "1.2.0",
            "_model_name": "LayoutModel",
            "_view_count": null,
            "_view_module": "@jupyter-widgets/base",
            "_view_module_version": "1.2.0",
            "_view_name": "LayoutView",
            "align_content": null,
            "align_items": null,
            "align_self": null,
            "border": null,
            "bottom": null,
            "display": null,
            "flex": null,
            "flex_flow": null,
            "grid_area": null,
            "grid_auto_columns": null,
            "grid_auto_flow": null,
            "grid_auto_rows": null,
            "grid_column": null,
            "grid_gap": null,
            "grid_row": null,
            "grid_template_areas": null,
            "grid_template_columns": null,
            "grid_template_rows": null,
            "height": null,
            "justify_content": null,
            "justify_items": null,
            "left": null,
            "margin": null,
            "max_height": null,
            "max_width": null,
            "min_height": null,
            "min_width": null,
            "object_fit": null,
            "object_position": null,
            "order": null,
            "overflow": null,
            "overflow_x": null,
            "overflow_y": null,
            "padding": null,
            "right": null,
            "top": null,
            "visibility": null,
            "width": null
          }
        },
        "b760685585f942559cea72cf13d926b2": {
          "model_module": "@jupyter-widgets/base",
          "model_name": "LayoutModel",
          "model_module_version": "1.2.0",
          "state": {
            "_model_module": "@jupyter-widgets/base",
            "_model_module_version": "1.2.0",
            "_model_name": "LayoutModel",
            "_view_count": null,
            "_view_module": "@jupyter-widgets/base",
            "_view_module_version": "1.2.0",
            "_view_name": "LayoutView",
            "align_content": null,
            "align_items": null,
            "align_self": null,
            "border": null,
            "bottom": null,
            "display": null,
            "flex": null,
            "flex_flow": null,
            "grid_area": null,
            "grid_auto_columns": null,
            "grid_auto_flow": null,
            "grid_auto_rows": null,
            "grid_column": null,
            "grid_gap": null,
            "grid_row": null,
            "grid_template_areas": null,
            "grid_template_columns": null,
            "grid_template_rows": null,
            "height": null,
            "justify_content": null,
            "justify_items": null,
            "left": null,
            "margin": null,
            "max_height": null,
            "max_width": null,
            "min_height": null,
            "min_width": null,
            "object_fit": null,
            "object_position": null,
            "order": null,
            "overflow": null,
            "overflow_x": null,
            "overflow_y": null,
            "padding": null,
            "right": null,
            "top": null,
            "visibility": null,
            "width": null
          }
        },
        "ac0c6fb3759d4fe89266d410d50201af": {
          "model_module": "@jupyter-widgets/controls",
          "model_name": "DescriptionStyleModel",
          "model_module_version": "1.5.0",
          "state": {
            "_model_module": "@jupyter-widgets/controls",
            "_model_module_version": "1.5.0",
            "_model_name": "DescriptionStyleModel",
            "_view_count": null,
            "_view_module": "@jupyter-widgets/base",
            "_view_module_version": "1.2.0",
            "_view_name": "StyleView",
            "description_width": ""
          }
        },
        "585825353b074d8fa59447856c6e30c6": {
          "model_module": "@jupyter-widgets/base",
          "model_name": "LayoutModel",
          "model_module_version": "1.2.0",
          "state": {
            "_model_module": "@jupyter-widgets/base",
            "_model_module_version": "1.2.0",
            "_model_name": "LayoutModel",
            "_view_count": null,
            "_view_module": "@jupyter-widgets/base",
            "_view_module_version": "1.2.0",
            "_view_name": "LayoutView",
            "align_content": null,
            "align_items": null,
            "align_self": null,
            "border": null,
            "bottom": null,
            "display": null,
            "flex": null,
            "flex_flow": null,
            "grid_area": null,
            "grid_auto_columns": null,
            "grid_auto_flow": null,
            "grid_auto_rows": null,
            "grid_column": null,
            "grid_gap": null,
            "grid_row": null,
            "grid_template_areas": null,
            "grid_template_columns": null,
            "grid_template_rows": null,
            "height": null,
            "justify_content": null,
            "justify_items": null,
            "left": null,
            "margin": null,
            "max_height": null,
            "max_width": null,
            "min_height": null,
            "min_width": null,
            "object_fit": null,
            "object_position": null,
            "order": null,
            "overflow": null,
            "overflow_x": null,
            "overflow_y": null,
            "padding": null,
            "right": null,
            "top": null,
            "visibility": null,
            "width": null
          }
        },
        "ef628605c9dc4c6fa3158c5f21855291": {
          "model_module": "@jupyter-widgets/controls",
          "model_name": "ProgressStyleModel",
          "model_module_version": "1.5.0",
          "state": {
            "_model_module": "@jupyter-widgets/controls",
            "_model_module_version": "1.5.0",
            "_model_name": "ProgressStyleModel",
            "_view_count": null,
            "_view_module": "@jupyter-widgets/base",
            "_view_module_version": "1.2.0",
            "_view_name": "StyleView",
            "bar_color": null,
            "description_width": ""
          }
        },
        "adb6925596be4202a6a46cd3792a158c": {
          "model_module": "@jupyter-widgets/base",
          "model_name": "LayoutModel",
          "model_module_version": "1.2.0",
          "state": {
            "_model_module": "@jupyter-widgets/base",
            "_model_module_version": "1.2.0",
            "_model_name": "LayoutModel",
            "_view_count": null,
            "_view_module": "@jupyter-widgets/base",
            "_view_module_version": "1.2.0",
            "_view_name": "LayoutView",
            "align_content": null,
            "align_items": null,
            "align_self": null,
            "border": null,
            "bottom": null,
            "display": null,
            "flex": null,
            "flex_flow": null,
            "grid_area": null,
            "grid_auto_columns": null,
            "grid_auto_flow": null,
            "grid_auto_rows": null,
            "grid_column": null,
            "grid_gap": null,
            "grid_row": null,
            "grid_template_areas": null,
            "grid_template_columns": null,
            "grid_template_rows": null,
            "height": null,
            "justify_content": null,
            "justify_items": null,
            "left": null,
            "margin": null,
            "max_height": null,
            "max_width": null,
            "min_height": null,
            "min_width": null,
            "object_fit": null,
            "object_position": null,
            "order": null,
            "overflow": null,
            "overflow_x": null,
            "overflow_y": null,
            "padding": null,
            "right": null,
            "top": null,
            "visibility": null,
            "width": null
          }
        },
        "8d9ba5640d484fa9ac78c6a0a3cbedc5": {
          "model_module": "@jupyter-widgets/controls",
          "model_name": "DescriptionStyleModel",
          "model_module_version": "1.5.0",
          "state": {
            "_model_module": "@jupyter-widgets/controls",
            "_model_module_version": "1.5.0",
            "_model_name": "DescriptionStyleModel",
            "_view_count": null,
            "_view_module": "@jupyter-widgets/base",
            "_view_module_version": "1.2.0",
            "_view_name": "StyleView",
            "description_width": ""
          }
        }
      }
    }
  },
  "cells": [
    {
      "cell_type": "markdown",
      "metadata": {
        "id": "view-in-github",
        "colab_type": "text"
      },
      "source": [
        "<a href=\"https://colab.research.google.com/github/Chronobreak42/robustness_of_gnns_at_scale/blob/main/notebooks/Quick_start_robustness_gnns_at_scale_setup_1.1.ipynb\" target=\"_parent\"><img src=\"https://colab.research.google.com/assets/colab-badge.svg\" alt=\"Open In Colab\"/></a>"
      ]
    },
    {
      "cell_type": "markdown",
      "source": [
        "# Robustness of Graph Neural Networks at Scale - Quick Start\n",
        "\n",
        "This notebook can be run in google colab and serves as a quick introduction to the [Robustness of Graph Neural Networks at Scale](https://github.com/sigeisler/robustness_of_gnns_at_scale) repository.\n",
        "\n",
        "## 0. Setup\n",
        "\n",
        "First, let's get the code and install requirements.\n"
      ],
      "metadata": {
        "id": "ixdVBV5PugOh"
      }
    },
    {
      "cell_type": "code",
      "source": [
        "!pwd\n",
        "%cd robustness_of_gnns_at_scale\n",
        "\n",
        "\n",
        "# Installiert: Alle Module die installiert worden sind\n",
        "# run: Die Zeilen die gerunned werden müssen"
      ],
      "metadata": {
        "id": "Vb3p2trlhuqK",
        "outputId": "214d2f18-179c-4ba6-c705-918595c21b85",
        "colab": {
          "base_uri": "https://localhost:8080/"
        }
      },
      "execution_count": 8,
      "outputs": [
        {
          "output_type": "stream",
          "name": "stdout",
          "text": [
            "/content/robustness_of_gnns_at_scale\n",
            "[Errno 2] No such file or directory: 'robustness_of_gnns_at_scale'\n",
            "/content/robustness_of_gnns_at_scale\n"
          ]
        }
      ]
    },
    {
      "cell_type": "code",
      "source": [
        "# Erste Installation, Kompatibilität: Fragwürdig, hat Fehler\n",
        "#!pip install torchtyping==0.1.4\n",
        "#!pip install typeguard==4.0.1"
      ],
      "metadata": {
        "id": "M1y3_hX039Ra",
        "outputId": "be944923-2616-403a-dc2f-75b14c8b2fcf",
        "colab": {
          "base_uri": "https://localhost:8080/",
          "height": 393
        }
      },
      "execution_count": null,
      "outputs": [
        {
          "output_type": "stream",
          "name": "stdout",
          "text": [
            "/content/robustness_of_gnns_at_scale\n",
            "Requirement already satisfied: torchtyping==0.1.4 in /usr/local/lib/python3.10/dist-packages (0.1.4)\n",
            "Requirement already satisfied: torch>=1.7.0 in /usr/local/lib/python3.10/dist-packages (from torchtyping==0.1.4) (1.13.0+rocm5.2)\n",
            "Requirement already satisfied: typeguard>=2.11.1 in /usr/local/lib/python3.10/dist-packages (from torchtyping==0.1.4) (2.11.1)\n",
            "Requirement already satisfied: typing-extensions in /usr/local/lib/python3.10/dist-packages (from torch>=1.7.0->torchtyping==0.1.4) (4.12.2)\n",
            "Collecting typeguard==4.0.1\n",
            "  Downloading typeguard-4.0.1-py3-none-any.whl.metadata (3.7 kB)\n",
            "Requirement already satisfied: typing-extensions>=4.7.0 in /usr/local/lib/python3.10/dist-packages (from typeguard==4.0.1) (4.12.2)\n",
            "Downloading typeguard-4.0.1-py3-none-any.whl (33 kB)\n",
            "Installing collected packages: typeguard\n",
            "  Attempting uninstall: typeguard\n",
            "    Found existing installation: typeguard 2.11.1\n",
            "    Uninstalling typeguard-2.11.1:\n",
            "      Successfully uninstalled typeguard-2.11.1\n",
            "Successfully installed typeguard-4.0.1\n"
          ]
        },
        {
          "output_type": "display_data",
          "data": {
            "application/vnd.colab-display-data+json": {
              "pip_warning": {
                "packages": [
                  "typeguard"
                ]
              },
              "id": "5b00a7e670734bd3b1fa7db3ca334739"
            }
          },
          "metadata": {}
        }
      ]
    },
    {
      "cell_type": "code",
      "source": [
        "# Installiert aktuelle Installation\n",
        "!pip install torchtyping==0.2.1 # This version likely works better\n",
        "!pip install typeguard==2.13.3 # This version is compatible with the recommended version of torchtyping."
      ],
      "metadata": {
        "id": "Z6Rul7P3ifei",
        "outputId": "b9245cca-c92f-40a2-c404-fad7d8401f9b",
        "colab": {
          "base_uri": "https://localhost:8080/",
          "height": 359
        }
      },
      "execution_count": null,
      "outputs": [
        {
          "output_type": "stream",
          "name": "stdout",
          "text": [
            "\u001b[31mERROR: Could not find a version that satisfies the requirement torchtyping==0.2.1 (from versions: 0.1.0, 0.1.1, 0.1.2, 0.1.3, 0.1.4, 0.1.5)\u001b[0m\u001b[31m\n",
            "\u001b[0m\u001b[31mERROR: No matching distribution found for torchtyping==0.2.1\u001b[0m\u001b[31m\n",
            "\u001b[0mCollecting typeguard==2.13.3\n",
            "  Downloading typeguard-2.13.3-py3-none-any.whl.metadata (3.6 kB)\n",
            "Downloading typeguard-2.13.3-py3-none-any.whl (17 kB)\n",
            "Installing collected packages: typeguard\n",
            "  Attempting uninstall: typeguard\n",
            "    Found existing installation: typeguard 4.0.1\n",
            "    Uninstalling typeguard-4.0.1:\n",
            "      Successfully uninstalled typeguard-4.0.1\n",
            "\u001b[31mERROR: pip's dependency resolver does not currently take into account all the packages that are installed. This behaviour is the source of the following dependency conflicts.\n",
            "inflect 7.4.0 requires typeguard>=4.0.1, but you have typeguard 2.13.3 which is incompatible.\u001b[0m\u001b[31m\n",
            "\u001b[0mSuccessfully installed typeguard-2.13.3\n"
          ]
        },
        {
          "output_type": "display_data",
          "data": {
            "application/vnd.colab-display-data+json": {
              "pip_warning": {
                "packages": [
                  "typeguard"
                ]
              },
              "id": "f3a555dd0c454aaea6f65f1a45be161c"
            }
          },
          "metadata": {}
        }
      ]
    },
    {
      "cell_type": "code",
      "source": [
        "import torch\n",
        "torch.__version__\n",
        "import numpy\n",
        "numpy.__version__"
      ],
      "metadata": {
        "id": "muUk3Kim9zFt",
        "outputId": "9fb4652e-7999-4a9c-846a-1b71bb2a28b2",
        "colab": {
          "base_uri": "https://localhost:8080/",
          "height": 35
        }
      },
      "execution_count": null,
      "outputs": [
        {
          "output_type": "execute_result",
          "data": {
            "text/plain": [
              "'1.26.4'"
            ],
            "application/vnd.google.colaboratory.intrinsic+json": {
              "type": "string"
            }
          },
          "metadata": {},
          "execution_count": 20
        }
      ]
    },
    {
      "cell_type": "code",
      "source": [
        "# clone package repository\n",
        "#!git clone https://github.com/sigeisler/robustness_of_gnns_at_scale.git # run\n",
        "\n",
        "# navigate to the repository\n",
        "%cd robustness_of_gnns_at_scale\n",
        "\n",
        "# install package requirements\n",
        "!pip install -r requirements.txt # run\n",
        "!pip install -r requirements-dev.txt # run\n",
        "\n",
        "# install package\n",
        "#!python setup.py install\n",
        "#!pip install --use-feature=in-tree-build .\n",
        "\n",
        "# build kernels\n",
        "#!pip install --use-feature=in-tree-build ./kernels"
      ],
      "metadata": {
        "id": "srl7gR-Gy5gX",
        "outputId": "d73e9f29-5b1e-4514-ca6d-10851894d3b6",
        "colab": {
          "base_uri": "https://localhost:8080/"
        }
      },
      "execution_count": null,
      "outputs": [
        {
          "output_type": "stream",
          "name": "stdout",
          "text": [
            "/content/robustness_of_gnns_at_scale\n",
            "Requirement already satisfied: cython>=0.28.5 in /usr/local/lib/python3.10/dist-packages (from -r requirements.txt (line 1)) (3.0.11)\n",
            "Collecting filelock==3.0.12 (from -r requirements.txt (line 2))\n",
            "  Using cached filelock-3.0.12-py3-none-any.whl.metadata (4.3 kB)\n",
            "Collecting numba<=0.49.0,>=0.47.0 (from -r requirements.txt (line 3))\n",
            "  Using cached numba-0.49.0.tar.gz (2.0 MB)\n",
            "  Preparing metadata (setup.py) ... \u001b[?25l\u001b[?25hdone\n",
            "Collecting numpy==1.18.1 (from -r requirements.txt (line 4))\n",
            "  Using cached numpy-1.18.1.zip (5.4 MB)\n",
            "  Installing build dependencies ... \u001b[?25l\u001b[?25hdone\n",
            "  Getting requirements to build wheel ... \u001b[?25l\u001b[?25hdone\n",
            "  \u001b[1;31merror\u001b[0m: \u001b[1msubprocess-exited-with-error\u001b[0m\n",
            "  \n",
            "  \u001b[31m×\u001b[0m \u001b[32mPreparing metadata \u001b[0m\u001b[1;32m(\u001b[0m\u001b[32mpyproject.toml\u001b[0m\u001b[1;32m)\u001b[0m did not run successfully.\n",
            "  \u001b[31m│\u001b[0m exit code: \u001b[1;36m1\u001b[0m\n",
            "  \u001b[31m╰─>\u001b[0m See above for output.\n",
            "  \n",
            "  \u001b[1;35mnote\u001b[0m: This error originates from a subprocess, and is likely not a problem with pip.\n",
            "  Preparing metadata (pyproject.toml) ... \u001b[?25l\u001b[?25herror\n",
            "\u001b[1;31merror\u001b[0m: \u001b[1mmetadata-generation-failed\u001b[0m\n",
            "\n",
            "\u001b[31m×\u001b[0m Encountered error while generating package metadata.\n",
            "\u001b[31m╰─>\u001b[0m See above for output.\n",
            "\n",
            "\u001b[1;35mnote\u001b[0m: This is an issue with the package mentioned above, not pip.\n",
            "\u001b[1;36mhint\u001b[0m: See above for details.\n",
            "Requirement already satisfied: autopep8==1.4.4 in /usr/local/lib/python3.10/dist-packages (from -r requirements-dev.txt (line 1)) (1.4.4)\n",
            "Requirement already satisfied: flake8==3.7.9 in /usr/local/lib/python3.10/dist-packages (from -r requirements-dev.txt (line 2)) (3.7.9)\n",
            "Requirement already satisfied: pycodestyle==2.5.0 in /usr/local/lib/python3.10/dist-packages (from -r requirements-dev.txt (line 3)) (2.5.0)\n",
            "Requirement already satisfied: pyflakes==2.1.1 in /usr/local/lib/python3.10/dist-packages (from -r requirements-dev.txt (line 4)) (2.1.1)\n",
            "Requirement already satisfied: pydocstyle==4.0.1 in /usr/local/lib/python3.10/dist-packages (from -r requirements-dev.txt (line 5)) (4.0.1)\n",
            "Requirement already satisfied: pytest==5.3.5 in /usr/local/lib/python3.10/dist-packages (from -r requirements-dev.txt (line 6)) (5.3.5)\n",
            "Requirement already satisfied: seml in /usr/local/lib/python3.10/dist-packages (from -r requirements-dev.txt (line 7)) (0.5.4)\n",
            "Requirement already satisfied: entrypoints<0.4.0,>=0.3.0 in /usr/local/lib/python3.10/dist-packages (from flake8==3.7.9->-r requirements-dev.txt (line 2)) (0.3)\n",
            "Requirement already satisfied: mccabe<0.7.0,>=0.6.0 in /usr/local/lib/python3.10/dist-packages (from flake8==3.7.9->-r requirements-dev.txt (line 2)) (0.6.1)\n",
            "Requirement already satisfied: snowballstemmer in /usr/local/lib/python3.10/dist-packages (from pydocstyle==4.0.1->-r requirements-dev.txt (line 5)) (2.2.0)\n",
            "Requirement already satisfied: py>=1.5.0 in /usr/local/lib/python3.10/dist-packages (from pytest==5.3.5->-r requirements-dev.txt (line 6)) (1.11.0)\n",
            "Requirement already satisfied: packaging in /usr/local/lib/python3.10/dist-packages (from pytest==5.3.5->-r requirements-dev.txt (line 6)) (24.2)\n",
            "Requirement already satisfied: attrs>=17.4.0 in /usr/local/lib/python3.10/dist-packages (from pytest==5.3.5->-r requirements-dev.txt (line 6)) (24.3.0)\n",
            "Requirement already satisfied: more-itertools>=4.0.0 in /usr/local/lib/python3.10/dist-packages (from pytest==5.3.5->-r requirements-dev.txt (line 6)) (10.5.0)\n",
            "Requirement already satisfied: pluggy<1.0,>=0.12 in /usr/local/lib/python3.10/dist-packages (from pytest==5.3.5->-r requirements-dev.txt (line 6)) (0.13.1)\n",
            "Requirement already satisfied: wcwidth in /usr/local/lib/python3.10/dist-packages (from pytest==5.3.5->-r requirements-dev.txt (line 6)) (0.2.13)\n",
            "Requirement already satisfied: debugpy>=1.2.1 in /usr/local/lib/python3.10/dist-packages (from seml->-r requirements-dev.txt (line 7)) (1.8.0)\n",
            "Requirement already satisfied: deepdiff>=7.0.1 in /usr/local/lib/python3.10/dist-packages (from seml->-r requirements-dev.txt (line 7)) (8.1.1)\n",
            "Requirement already satisfied: gitignore-parser>=0.1.11 in /usr/local/lib/python3.10/dist-packages (from seml->-r requirements-dev.txt (line 7)) (0.1.11)\n",
            "Requirement already satisfied: importlib-resources>=5.7.0 in /usr/local/lib/python3.10/dist-packages (from seml->-r requirements-dev.txt (line 7)) (6.4.5)\n",
            "Requirement already satisfied: jsonpickle>=2.2 in /usr/local/lib/python3.10/dist-packages (from seml->-r requirements-dev.txt (line 7)) (4.0.1)\n",
            "Requirement already satisfied: munch>=4.0 in /usr/local/lib/python3.10/dist-packages (from seml->-r requirements-dev.txt (line 7)) (4.0.0)\n",
            "Requirement already satisfied: numpy>=1.15 in /usr/local/lib/python3.10/dist-packages (from seml->-r requirements-dev.txt (line 7)) (1.26.4)\n",
            "Requirement already satisfied: omegaconf>=2.3.0 in /usr/local/lib/python3.10/dist-packages (from seml->-r requirements-dev.txt (line 7)) (2.3.0)\n",
            "Requirement already satisfied: pandas>=2.2 in /usr/local/lib/python3.10/dist-packages (from seml->-r requirements-dev.txt (line 7)) (2.2.2)\n",
            "Requirement already satisfied: pymongo>=4.1 in /usr/local/lib/python3.10/dist-packages (from seml->-r requirements-dev.txt (line 7)) (4.10.1)\n",
            "Requirement already satisfied: pyyaml>=5.1 in /usr/local/lib/python3.10/dist-packages (from seml->-r requirements-dev.txt (line 7)) (6.0.2)\n",
            "Requirement already satisfied: requests>=2.28.1 in /usr/local/lib/python3.10/dist-packages (from seml->-r requirements-dev.txt (line 7)) (2.32.3)\n",
            "Requirement already satisfied: rich>=13.0 in /usr/local/lib/python3.10/dist-packages (from seml->-r requirements-dev.txt (line 7)) (13.9.4)\n",
            "Requirement already satisfied: sacred>=0.8.4 in /usr/local/lib/python3.10/dist-packages (from seml->-r requirements-dev.txt (line 7)) (0.8.7)\n",
            "Requirement already satisfied: setuptools>=69.2.0 in /usr/local/lib/python3.10/dist-packages (from seml->-r requirements-dev.txt (line 7)) (75.1.0)\n",
            "Requirement already satisfied: typer>=0.12 in /usr/local/lib/python3.10/dist-packages (from seml->-r requirements-dev.txt (line 7)) (0.15.1)\n",
            "Requirement already satisfied: typing-extensions>=4.10 in /usr/local/lib/python3.10/dist-packages (from seml->-r requirements-dev.txt (line 7)) (4.12.2)\n",
            "Requirement already satisfied: orderly-set<6,>=5.2.3 in /usr/local/lib/python3.10/dist-packages (from deepdiff>=7.0.1->seml->-r requirements-dev.txt (line 7)) (5.2.3)\n",
            "Requirement already satisfied: antlr4-python3-runtime==4.9.* in /usr/local/lib/python3.10/dist-packages (from omegaconf>=2.3.0->seml->-r requirements-dev.txt (line 7)) (4.9.3)\n",
            "Requirement already satisfied: python-dateutil>=2.8.2 in /usr/local/lib/python3.10/dist-packages (from pandas>=2.2->seml->-r requirements-dev.txt (line 7)) (2.8.2)\n",
            "Requirement already satisfied: pytz>=2020.1 in /usr/local/lib/python3.10/dist-packages (from pandas>=2.2->seml->-r requirements-dev.txt (line 7)) (2024.2)\n",
            "Requirement already satisfied: tzdata>=2022.7 in /usr/local/lib/python3.10/dist-packages (from pandas>=2.2->seml->-r requirements-dev.txt (line 7)) (2024.2)\n",
            "Requirement already satisfied: dnspython<3.0.0,>=1.16.0 in /usr/local/lib/python3.10/dist-packages (from pymongo>=4.1->seml->-r requirements-dev.txt (line 7)) (2.7.0)\n",
            "Requirement already satisfied: charset-normalizer<4,>=2 in /usr/local/lib/python3.10/dist-packages (from requests>=2.28.1->seml->-r requirements-dev.txt (line 7)) (3.4.0)\n",
            "Requirement already satisfied: idna<4,>=2.5 in /usr/local/lib/python3.10/dist-packages (from requests>=2.28.1->seml->-r requirements-dev.txt (line 7)) (3.10)\n",
            "Requirement already satisfied: urllib3<3,>=1.21.1 in /usr/local/lib/python3.10/dist-packages (from requests>=2.28.1->seml->-r requirements-dev.txt (line 7)) (2.2.3)\n",
            "Requirement already satisfied: certifi>=2017.4.17 in /usr/local/lib/python3.10/dist-packages (from requests>=2.28.1->seml->-r requirements-dev.txt (line 7)) (2024.12.14)\n",
            "Requirement already satisfied: markdown-it-py>=2.2.0 in /usr/local/lib/python3.10/dist-packages (from rich>=13.0->seml->-r requirements-dev.txt (line 7)) (3.0.0)\n",
            "Requirement already satisfied: pygments<3.0.0,>=2.13.0 in /usr/local/lib/python3.10/dist-packages (from rich>=13.0->seml->-r requirements-dev.txt (line 7)) (2.18.0)\n",
            "Requirement already satisfied: docopt-ng<1.0,>=0.9 in /usr/local/lib/python3.10/dist-packages (from sacred>=0.8.4->seml->-r requirements-dev.txt (line 7)) (0.9.0)\n",
            "Requirement already satisfied: wrapt<2.0,>=1.0 in /usr/local/lib/python3.10/dist-packages (from sacred>=0.8.4->seml->-r requirements-dev.txt (line 7)) (1.17.0)\n",
            "Requirement already satisfied: py-cpuinfo>=4.0 in /usr/local/lib/python3.10/dist-packages (from sacred>=0.8.4->seml->-r requirements-dev.txt (line 7)) (9.0.0)\n",
            "Requirement already satisfied: colorama>=0.4 in /usr/local/lib/python3.10/dist-packages (from sacred>=0.8.4->seml->-r requirements-dev.txt (line 7)) (0.4.6)\n",
            "Requirement already satisfied: GitPython in /usr/local/lib/python3.10/dist-packages (from sacred>=0.8.4->seml->-r requirements-dev.txt (line 7)) (3.1.43)\n",
            "Requirement already satisfied: click>=8.0.0 in /usr/local/lib/python3.10/dist-packages (from typer>=0.12->seml->-r requirements-dev.txt (line 7)) (8.1.7)\n",
            "Requirement already satisfied: shellingham>=1.3.0 in /usr/local/lib/python3.10/dist-packages (from typer>=0.12->seml->-r requirements-dev.txt (line 7)) (1.5.4)\n",
            "Requirement already satisfied: mdurl~=0.1 in /usr/local/lib/python3.10/dist-packages (from markdown-it-py>=2.2.0->rich>=13.0->seml->-r requirements-dev.txt (line 7)) (0.1.2)\n",
            "Requirement already satisfied: six>=1.5 in /usr/local/lib/python3.10/dist-packages (from python-dateutil>=2.8.2->pandas>=2.2->seml->-r requirements-dev.txt (line 7)) (1.17.0)\n",
            "Requirement already satisfied: gitdb<5,>=4.0.1 in /usr/local/lib/python3.10/dist-packages (from GitPython->sacred>=0.8.4->seml->-r requirements-dev.txt (line 7)) (4.0.11)\n",
            "Requirement already satisfied: smmap<6,>=3.0.1 in /usr/local/lib/python3.10/dist-packages (from gitdb<5,>=4.0.1->GitPython->sacred>=0.8.4->seml->-r requirements-dev.txt (line 7)) (5.0.1)\n"
          ]
        }
      ]
    },
    {
      "cell_type": "code",
      "source": [],
      "metadata": {
        "id": "Ls-cXVFShs6w"
      },
      "execution_count": null,
      "outputs": []
    },
    {
      "cell_type": "markdown",
      "source": [
        "### Imports"
      ],
      "metadata": {
        "id": "FQScUvGr-b08"
      }
    },
    {
      "cell_type": "code",
      "source": [
        "# Installiert\n",
        "!pip install --upgrade ogb"
      ],
      "metadata": {
        "id": "W_c6BdVhXbQH",
        "outputId": "c11a5a53-eae4-497c-9d97-eb6754ef8e28",
        "colab": {
          "base_uri": "https://localhost:8080/"
        }
      },
      "execution_count": null,
      "outputs": [
        {
          "output_type": "stream",
          "name": "stdout",
          "text": [
            "Requirement already satisfied: ogb in /usr/local/lib/python3.10/dist-packages (1.3.6)\n",
            "Requirement already satisfied: torch>=1.6.0 in /usr/local/lib/python3.10/dist-packages (from ogb) (1.13.0+rocm5.2)\n",
            "Requirement already satisfied: numpy>=1.16.0 in /usr/local/lib/python3.10/dist-packages (from ogb) (1.26.4)\n",
            "Requirement already satisfied: tqdm>=4.29.0 in /usr/local/lib/python3.10/dist-packages (from ogb) (4.67.1)\n",
            "Requirement already satisfied: scikit-learn>=0.20.0 in /usr/local/lib/python3.10/dist-packages (from ogb) (1.6.0)\n",
            "Requirement already satisfied: pandas>=0.24.0 in /usr/local/lib/python3.10/dist-packages (from ogb) (2.2.2)\n",
            "Requirement already satisfied: six>=1.12.0 in /usr/local/lib/python3.10/dist-packages (from ogb) (1.17.0)\n",
            "Requirement already satisfied: urllib3>=1.24.0 in /usr/local/lib/python3.10/dist-packages (from ogb) (2.2.3)\n",
            "Requirement already satisfied: outdated>=0.2.0 in /usr/local/lib/python3.10/dist-packages (from ogb) (0.2.2)\n",
            "Requirement already satisfied: setuptools>=44 in /usr/local/lib/python3.10/dist-packages (from outdated>=0.2.0->ogb) (75.1.0)\n",
            "Requirement already satisfied: littleutils in /usr/local/lib/python3.10/dist-packages (from outdated>=0.2.0->ogb) (0.2.4)\n",
            "Requirement already satisfied: requests in /usr/local/lib/python3.10/dist-packages (from outdated>=0.2.0->ogb) (2.32.3)\n",
            "Requirement already satisfied: python-dateutil>=2.8.2 in /usr/local/lib/python3.10/dist-packages (from pandas>=0.24.0->ogb) (2.8.2)\n",
            "Requirement already satisfied: pytz>=2020.1 in /usr/local/lib/python3.10/dist-packages (from pandas>=0.24.0->ogb) (2024.2)\n",
            "Requirement already satisfied: tzdata>=2022.7 in /usr/local/lib/python3.10/dist-packages (from pandas>=0.24.0->ogb) (2024.2)\n",
            "Requirement already satisfied: scipy>=1.6.0 in /usr/local/lib/python3.10/dist-packages (from scikit-learn>=0.20.0->ogb) (1.13.1)\n",
            "Requirement already satisfied: joblib>=1.2.0 in /usr/local/lib/python3.10/dist-packages (from scikit-learn>=0.20.0->ogb) (1.4.2)\n",
            "Requirement already satisfied: threadpoolctl>=3.1.0 in /usr/local/lib/python3.10/dist-packages (from scikit-learn>=0.20.0->ogb) (3.5.0)\n",
            "Requirement already satisfied: typing-extensions in /usr/local/lib/python3.10/dist-packages (from torch>=1.6.0->ogb) (4.12.2)\n",
            "Requirement already satisfied: charset-normalizer<4,>=2 in /usr/local/lib/python3.10/dist-packages (from requests->outdated>=0.2.0->ogb) (3.4.0)\n",
            "Requirement already satisfied: idna<4,>=2.5 in /usr/local/lib/python3.10/dist-packages (from requests->outdated>=0.2.0->ogb) (3.10)\n",
            "Requirement already satisfied: certifi>=2017.4.17 in /usr/local/lib/python3.10/dist-packages (from requests->outdated>=0.2.0->ogb) (2024.12.14)\n"
          ]
        }
      ]
    },
    {
      "cell_type": "code",
      "source": [
        "#%cd robustness_of_gnns_at_scale\n",
        "from matplotlib import pyplot as plt\n",
        "\n",
        "from experiments import (\n",
        "    experiment_train,\n",
        "    experiment_local_attack_direct,\n",
        "    experiment_global_attack_direct\n",
        ")\n",
        "\n",
        "%matplotlib inline\n",
        "\n",
        "%load_ext autoreload\n",
        "%autoreload 2"
      ],
      "metadata": {
        "id": "7ztTeoK3-Vqh",
        "outputId": "26a049ea-b72f-46df-f61d-fa833eed8f60",
        "colab": {
          "base_uri": "https://localhost:8080/",
          "height": 397
        }
      },
      "execution_count": 9,
      "outputs": [
        {
          "output_type": "stream",
          "name": "stderr",
          "text": [
            "/usr/local/lib/python3.10/dist-packages/torch/__config__.py:9: UserWarning: HIP initialization: Unexpected error from hipGetDeviceCount(). Did you run some cuda functions before calling NumHipDevices() that might have already set an error? Error 101: hipErrorInvalidDevice (Triggered internally at ../c10/hip/HIPFunctions.cpp:110.)\n",
            "  return torch._C._show_config()\n",
            "No CUDA runtime is found, using CUDA_HOME='/usr/local/cuda'\n",
            "\u001b[92mSuccessfully preprocessed all matching files.\u001b[0m\n",
            "WARNING:root:Cuda kernels could not loaded -> no CUDA support!\n",
            "WARNING:root:Importing setup_logger directly from seml is deprecated.\n",
            "Use from seml.experiment import setup_logger instead.\n",
            "Note that seml.experiment.Experiment already includes the logger setup.\n",
            "See https://github.com/TUM-DAML/seml/blob/master/examples/example_experiment.py\n"
          ]
        },
        {
          "output_type": "display_data",
          "data": {
            "text/plain": [
              "\u001b[2;36m[01/07/25 17:09:55]\u001b[0m\u001b[2;36m \u001b[0m\u001b[33mWARNING \u001b[0m Importing setup_logger directly from seml is deprecated.                \u001b]8;id=646357;file:///usr/local/lib/python3.10/dist-packages/seml/__init__.py\u001b\\\u001b[2m__init__.py\u001b[0m\u001b]8;;\u001b\\\u001b[2m:\u001b[0m\u001b]8;id=629944;file:///usr/local/lib/python3.10/dist-packages/seml/__init__.py#10\u001b\\\u001b[2m10\u001b[0m\u001b]8;;\u001b\\\n",
              "\u001b[2;36m                    \u001b[0m         Use from seml.experiment import setup_logger instead.                   \u001b[2m              \u001b[0m\n",
              "\u001b[2;36m                    \u001b[0m         Note that seml.experiment.Experiment already includes the logger setup. \u001b[2m              \u001b[0m\n",
              "\u001b[2;36m                    \u001b[0m         See                                                                     \u001b[2m              \u001b[0m\n",
              "\u001b[2;36m                    \u001b[0m         \u001b[4;94mhttps://github.com/TUM-DAML/seml/blob/master/examples/example_experimen\u001b[0m \u001b[2m              \u001b[0m\n",
              "\u001b[2;36m                    \u001b[0m         \u001b[4;94mt.py\u001b[0m                                                                    \u001b[2m              \u001b[0m\n"
            ],
            "text/html": [
              "<pre style=\"white-space:pre;overflow-x:auto;line-height:normal;font-family:Menlo,'DejaVu Sans Mono',consolas,'Courier New',monospace\"><span style=\"color: #7fbfbf; text-decoration-color: #7fbfbf\">[01/07/25 17:09:55] </span><span style=\"color: #808000; text-decoration-color: #808000\">WARNING </span> Importing setup_logger directly from seml is deprecated.                <a href=\"file:///usr/local/lib/python3.10/dist-packages/seml/__init__.py\" target=\"_blank\"><span style=\"color: #7f7f7f; text-decoration-color: #7f7f7f\">__init__.py</span></a><span style=\"color: #7f7f7f; text-decoration-color: #7f7f7f\">:</span><a href=\"file:///usr/local/lib/python3.10/dist-packages/seml/__init__.py#10\" target=\"_blank\"><span style=\"color: #7f7f7f; text-decoration-color: #7f7f7f\">10</span></a>\n",
              "<span style=\"color: #7fbfbf; text-decoration-color: #7fbfbf\">                    </span>         Use from seml.experiment import setup_logger instead.                   <span style=\"color: #7f7f7f; text-decoration-color: #7f7f7f\">              </span>\n",
              "<span style=\"color: #7fbfbf; text-decoration-color: #7fbfbf\">                    </span>         Note that seml.experiment.Experiment already includes the logger setup. <span style=\"color: #7f7f7f; text-decoration-color: #7f7f7f\">              </span>\n",
              "<span style=\"color: #7fbfbf; text-decoration-color: #7fbfbf\">                    </span>         See                                                                     <span style=\"color: #7f7f7f; text-decoration-color: #7f7f7f\">              </span>\n",
              "<span style=\"color: #7fbfbf; text-decoration-color: #7fbfbf\">                    </span>         <span style=\"color: #0000ff; text-decoration-color: #0000ff; text-decoration: underline\">https://github.com/TUM-DAML/seml/blob/master/examples/example_experimen</span> <span style=\"color: #7f7f7f; text-decoration-color: #7f7f7f\">              </span>\n",
              "<span style=\"color: #7fbfbf; text-decoration-color: #7fbfbf\">                    </span>         <span style=\"color: #0000ff; text-decoration-color: #0000ff; text-decoration: underline\">t.py</span>                                                                    <span style=\"color: #7f7f7f; text-decoration-color: #7f7f7f\">              </span>\n",
              "</pre>\n"
            ]
          },
          "metadata": {}
        },
        {
          "output_type": "display_data",
          "data": {
            "text/plain": [
              "\u001b[2;36m[01/07/25 17:09:55]\u001b[0m\u001b[2;36m \u001b[0m\u001b[33mWARNING \u001b[0m Importing setup_logger directly from seml is deprecated.                \u001b]8;id=678525;file:///usr/local/lib/python3.10/dist-packages/seml/__init__.py\u001b\\\u001b[2m__init__.py\u001b[0m\u001b]8;;\u001b\\\u001b[2m:\u001b[0m\u001b]8;id=810260;file:///usr/local/lib/python3.10/dist-packages/seml/__init__.py#10\u001b\\\u001b[2m10\u001b[0m\u001b]8;;\u001b\\\n",
              "\u001b[2;36m                    \u001b[0m         Use from seml.experiment import setup_logger instead.                   \u001b[2m              \u001b[0m\n",
              "\u001b[2;36m                    \u001b[0m         Note that seml.experiment.Experiment already includes the logger setup. \u001b[2m              \u001b[0m\n",
              "\u001b[2;36m                    \u001b[0m         See                                                                     \u001b[2m              \u001b[0m\n",
              "\u001b[2;36m                    \u001b[0m         \u001b[4;94mhttps://github.com/TUM-DAML/seml/blob/master/examples/example_experimen\u001b[0m \u001b[2m              \u001b[0m\n",
              "\u001b[2;36m                    \u001b[0m         \u001b[4;94mt.py\u001b[0m                                                                    \u001b[2m              \u001b[0m\n"
            ],
            "text/html": [
              "<pre style=\"white-space:pre;overflow-x:auto;line-height:normal;font-family:Menlo,'DejaVu Sans Mono',consolas,'Courier New',monospace\"><span style=\"color: #7fbfbf; text-decoration-color: #7fbfbf\">[01/07/25 17:09:55] </span><span style=\"color: #808000; text-decoration-color: #808000\">WARNING </span> Importing setup_logger directly from seml is deprecated.                <a href=\"file:///usr/local/lib/python3.10/dist-packages/seml/__init__.py\" target=\"_blank\"><span style=\"color: #7f7f7f; text-decoration-color: #7f7f7f\">__init__.py</span></a><span style=\"color: #7f7f7f; text-decoration-color: #7f7f7f\">:</span><a href=\"file:///usr/local/lib/python3.10/dist-packages/seml/__init__.py#10\" target=\"_blank\"><span style=\"color: #7f7f7f; text-decoration-color: #7f7f7f\">10</span></a>\n",
              "<span style=\"color: #7fbfbf; text-decoration-color: #7fbfbf\">                    </span>         Use from seml.experiment import setup_logger instead.                   <span style=\"color: #7f7f7f; text-decoration-color: #7f7f7f\">              </span>\n",
              "<span style=\"color: #7fbfbf; text-decoration-color: #7fbfbf\">                    </span>         Note that seml.experiment.Experiment already includes the logger setup. <span style=\"color: #7f7f7f; text-decoration-color: #7f7f7f\">              </span>\n",
              "<span style=\"color: #7fbfbf; text-decoration-color: #7fbfbf\">                    </span>         See                                                                     <span style=\"color: #7f7f7f; text-decoration-color: #7f7f7f\">              </span>\n",
              "<span style=\"color: #7fbfbf; text-decoration-color: #7fbfbf\">                    </span>         <span style=\"color: #0000ff; text-decoration-color: #0000ff; text-decoration: underline\">https://github.com/TUM-DAML/seml/blob/master/examples/example_experimen</span> <span style=\"color: #7f7f7f; text-decoration-color: #7f7f7f\">              </span>\n",
              "<span style=\"color: #7fbfbf; text-decoration-color: #7fbfbf\">                    </span>         <span style=\"color: #0000ff; text-decoration-color: #0000ff; text-decoration: underline\">t.py</span>                                                                    <span style=\"color: #7f7f7f; text-decoration-color: #7f7f7f\">              </span>\n",
              "</pre>\n"
            ]
          },
          "metadata": {}
        }
      ]
    },
    {
      "cell_type": "code",
      "source": [
        "# Installiert\n",
        "!pip install torch==1.13.0 torchvision==0.14.0+rocm5.2 torchaudio==0.13.0+rocm5.2 -f https://download.pytorch.org/whl/torch_stable.html\n",
        "!pip install torch_geometric\n"
      ],
      "metadata": {
        "id": "yFfzeyJ-ByH_",
        "outputId": "db74d1e2-9d01-4dce-bb88-a64f16f149f1",
        "colab": {
          "base_uri": "https://localhost:8080/"
        }
      },
      "execution_count": 41,
      "outputs": [
        {
          "output_type": "stream",
          "name": "stdout",
          "text": [
            "\u001b[31mERROR: Invalid requirement: 'torchvision=0.13.0+rocm5.2': Expected end or semicolon (after name and no valid version specifier)\n",
            "    torchvision=0.13.0+rocm5.2\n",
            "               ^\n",
            "Hint: = is not a valid operator. Did you mean == ?\u001b[0m\u001b[31m\n",
            "\u001b[0mRequirement already satisfied: torch_geometric in /usr/local/lib/python3.10/dist-packages (2.7.0)\n",
            "Requirement already satisfied: aiohttp in /usr/local/lib/python3.10/dist-packages (from torch_geometric) (3.11.10)\n",
            "Requirement already satisfied: fsspec in /usr/local/lib/python3.10/dist-packages (from torch_geometric) (2024.10.0)\n",
            "Requirement already satisfied: jinja2 in /usr/local/lib/python3.10/dist-packages (from torch_geometric) (3.1.4)\n",
            "Requirement already satisfied: numpy in /usr/local/lib/python3.10/dist-packages (from torch_geometric) (1.26.4)\n",
            "Requirement already satisfied: psutil>=5.8.0 in /usr/local/lib/python3.10/dist-packages (from torch_geometric) (5.9.5)\n",
            "Requirement already satisfied: pyparsing in /usr/local/lib/python3.10/dist-packages (from torch_geometric) (3.2.0)\n",
            "Requirement already satisfied: requests in /usr/local/lib/python3.10/dist-packages (from torch_geometric) (2.32.3)\n",
            "Requirement already satisfied: tqdm in /usr/local/lib/python3.10/dist-packages (from torch_geometric) (4.67.1)\n",
            "Requirement already satisfied: aiohappyeyeballs>=2.3.0 in /usr/local/lib/python3.10/dist-packages (from aiohttp->torch_geometric) (2.4.4)\n",
            "Requirement already satisfied: aiosignal>=1.1.2 in /usr/local/lib/python3.10/dist-packages (from aiohttp->torch_geometric) (1.3.2)\n",
            "Requirement already satisfied: async-timeout<6.0,>=4.0 in /usr/local/lib/python3.10/dist-packages (from aiohttp->torch_geometric) (4.0.3)\n",
            "Requirement already satisfied: attrs>=17.3.0 in /usr/local/lib/python3.10/dist-packages (from aiohttp->torch_geometric) (24.3.0)\n",
            "Requirement already satisfied: frozenlist>=1.1.1 in /usr/local/lib/python3.10/dist-packages (from aiohttp->torch_geometric) (1.5.0)\n",
            "Requirement already satisfied: multidict<7.0,>=4.5 in /usr/local/lib/python3.10/dist-packages (from aiohttp->torch_geometric) (6.1.0)\n",
            "Requirement already satisfied: propcache>=0.2.0 in /usr/local/lib/python3.10/dist-packages (from aiohttp->torch_geometric) (0.2.1)\n",
            "Requirement already satisfied: yarl<2.0,>=1.17.0 in /usr/local/lib/python3.10/dist-packages (from aiohttp->torch_geometric) (1.18.3)\n",
            "Requirement already satisfied: MarkupSafe>=2.0 in /usr/local/lib/python3.10/dist-packages (from jinja2->torch_geometric) (3.0.2)\n",
            "Requirement already satisfied: charset-normalizer<4,>=2 in /usr/local/lib/python3.10/dist-packages (from requests->torch_geometric) (3.4.0)\n",
            "Requirement already satisfied: idna<4,>=2.5 in /usr/local/lib/python3.10/dist-packages (from requests->torch_geometric) (3.10)\n",
            "Requirement already satisfied: urllib3<3,>=1.21.1 in /usr/local/lib/python3.10/dist-packages (from requests->torch_geometric) (2.2.3)\n",
            "Requirement already satisfied: certifi>=2017.4.17 in /usr/local/lib/python3.10/dist-packages (from requests->torch_geometric) (2024.12.14)\n",
            "Requirement already satisfied: typing-extensions>=4.1.0 in /usr/local/lib/python3.10/dist-packages (from multidict<7.0,>=4.5->aiohttp->torch_geometric) (4.12.2)\n"
          ]
        }
      ]
    },
    {
      "cell_type": "code",
      "source": [
        "# Installiert aber wird vlt nicht gebraucht\n",
        "import os\n",
        "import torch\n",
        "import collections.abc\n",
        "os.environ['TORCH'] = torch.__version__\n",
        "print(torch.__version__)\n",
        "\n",
        "!pip install -q torch-scatter -f https://data.pyg.org/whl/torch-${TORCH}.html\n",
        "!pip install -q torch-sparse -f https://data.pyg.org/whl/torch-${TORCH}.html\n",
        "!pip install -q git+https://github.com/pyg-team/pytorch_geometric.git"
      ],
      "metadata": {
        "id": "dkxo9hsQZvW5",
        "outputId": "6bb71b90-7cc6-4b98-bbbd-d16b5cc0225f",
        "colab": {
          "base_uri": "https://localhost:8080/"
        }
      },
      "execution_count": null,
      "outputs": [
        {
          "output_type": "stream",
          "name": "stdout",
          "text": [
            "1.13.0+rocm5.2\n",
            "\u001b[2K     \u001b[90m━━━━━━━━━━━━━━━━━━━━━━━━━━━━━━━━━━━━━━━━\u001b[0m \u001b[32m108.0/108.0 kB\u001b[0m \u001b[31m4.9 MB/s\u001b[0m eta \u001b[36m0:00:00\u001b[0m\n",
            "\u001b[?25h  Preparing metadata (setup.py) ... \u001b[?25l\u001b[?25hdone\n",
            "  Building wheel for torch-scatter (setup.py) ... \u001b[?25l\u001b[?25hdone\n",
            "\u001b[2K     \u001b[90m━━━━━━━━━━━━━━━━━━━━━━━━━━━━━━━━━━━━━━━━\u001b[0m \u001b[32m210.0/210.0 kB\u001b[0m \u001b[31m6.4 MB/s\u001b[0m eta \u001b[36m0:00:00\u001b[0m\n",
            "\u001b[?25h  Preparing metadata (setup.py) ... \u001b[?25l\u001b[?25hdone\n",
            "  Building wheel for torch-sparse (setup.py) ... \u001b[?25l\u001b[?25hdone\n",
            "  Installing build dependencies ... \u001b[?25l\u001b[?25hdone\n",
            "  Getting requirements to build wheel ... \u001b[?25l\u001b[?25hdone\n",
            "  Preparing metadata (pyproject.toml) ... \u001b[?25l\u001b[?25hdone\n",
            "  Building wheel for torch-geometric (pyproject.toml) ... \u001b[?25l\u001b[?25hdone\n"
          ]
        }
      ]
    },
    {
      "cell_type": "code",
      "source": [],
      "metadata": {
        "id": "dla6ioi_FBWn",
        "outputId": "35195727-90ca-4d4e-d737-dcbd439bf195",
        "colab": {
          "base_uri": "https://localhost:8080/"
        }
      },
      "execution_count": null,
      "outputs": [
        {
          "output_type": "stream",
          "name": "stdout",
          "text": [
            "/content\n"
          ]
        }
      ]
    },
    {
      "cell_type": "markdown",
      "source": [
        "## 1. Training\n",
        "\n",
        "For the training and evaluation code we decided to provide Sacred experiments which make it very easy to run the same code from the command line or on your cluster. To train or attack the models you can use the `script_execute_experiment` script and simply specify the respective configuration or execute the experiment directly by passing the desired configuration in [experiments/experiment_train.py](https://github.com/sigeisler/robustness_of_gnns_at_scale/blob/main/experiments/experiment_train.py#L74).\n",
        "\n",
        "In the example below, we train a `GCN` on `Cora ML`."
      ],
      "metadata": {
        "id": "Rb2y6lUbdYi_"
      }
    },
    {
      "cell_type": "code",
      "source": [
        "!pwd"
      ],
      "metadata": {
        "id": "Qep-wC-OYHIH",
        "outputId": "858551bb-c51a-4ace-e6b6-b4ed20312f8d",
        "colab": {
          "base_uri": "https://localhost:8080/"
        }
      },
      "execution_count": 4,
      "outputs": [
        {
          "output_type": "stream",
          "name": "stdout",
          "text": [
            "/content\n"
          ]
        }
      ]
    },
    {
      "cell_type": "code",
      "source": [
        "# zum laufen bringen:\n",
        "# alles ausführen\n",
        "# in rgnn_at_scale/models/gcn.py folgende imports einbauen:\n",
        "# import collections.abc\n",
        "# import collections\n",
        "# + Zeile 153 zu collections.abc.Sequence ändern\n",
        "# Nach der obigen Anpassen kam trotzdem der AttributeError module 'collection' has no module 'Sequence'\n",
        "# Dieser Fehler kam dann nicht mehr nach dem neustarten der Sitzung\n"
      ],
      "metadata": {
        "colab": {
          "base_uri": "https://localhost:8080/"
        },
        "id": "3FY3yZsxt98R",
        "outputId": "7beabaa1-d7bc-4d59-9429-7182eac3c5b2"
      },
      "execution_count": 2,
      "outputs": [
        {
          "output_type": "stream",
          "name": "stdout",
          "text": [
            "3.10.12 (main, Nov  6 2024, 20:22:13) [GCC 11.4.0]\n"
          ]
        }
      ]
    },
    {
      "cell_type": "code",
      "source": [
        "train_statistics = experiment_train.run(\n",
        "    data_dir = './data',\n",
        "    dataset = 'cora_ml',\n",
        "    model_params = dict(\n",
        "        label=\"Vanilla GCN\",\n",
        "        model=\"GCN\",\n",
        "        do_cache_adj_prep=True,\n",
        "        n_filters=64,\n",
        "        dropout=0.5,\n",
        "        svd_params=None,\n",
        "        jaccard_params=None,\n",
        "        gdc_params={\"alpha\": 0.15, \"k\": 64}),\n",
        "    train_params = dict(\n",
        "        lr=1e-2,\n",
        "        weight_decay=1e-3,\n",
        "        patience=300,\n",
        "        max_epochs=3000),\n",
        "    binary_attr = False,\n",
        "    make_undirected = True,\n",
        "    seed=0,\n",
        "    artifact_dir = 'cache',\n",
        "    model_storage_type = 'demo',\n",
        "    ppr_cache_params = dict(),\n",
        "    #device = 0,\n",
        "    #data_device = 0,\n",
        "    device = \"cpu\",\n",
        "    data_device = \"cpu\",\n",
        "    display_steps = 100,\n",
        "    debug_level = \"info\"\n",
        ")\n",
        "\n",
        "# plot train and val loss curves\n",
        "fig, ax = plt.subplots()\n",
        "\n",
        "color = plt.rcParams['axes.prop_cycle'].by_key()['color'][0]\n",
        "ax.set_xlabel('Epoch $t$')\n",
        "ax.set_ylabel(\"Loss\")\n",
        "ax.plot(train_statistics['trace_train'], color=color, label='Train')\n",
        "\n",
        "color = plt.rcParams['axes.prop_cycle'].by_key()['color'][1]\n",
        "ax.plot(train_statistics['trace_val'], color=color, label='Val')\n",
        "ax.legend()\n",
        "\n",
        "plt.gcf().show()"
      ],
      "metadata": {
        "id": "6mga1GGvdbLp",
        "colab": {
          "base_uri": "https://localhost:8080/",
          "height": 1000,
          "referenced_widgets": [
            "ad73dec594764787b774efe2c28cdc0a",
            "e85c34afc50f406c8e152131a78ca640",
            "327b0ef864674469b313b47fc8cd2cf5",
            "371490376f684bb9bb45f260ea526e89",
            "f8d2ffb60bf240d5a013fc268ed260b7",
            "b760685585f942559cea72cf13d926b2",
            "ac0c6fb3759d4fe89266d410d50201af",
            "585825353b074d8fa59447856c6e30c6",
            "ef628605c9dc4c6fa3158c5f21855291",
            "adb6925596be4202a6a46cd3792a158c",
            "8d9ba5640d484fa9ac78c6a0a3cbedc5"
          ]
        },
        "outputId": "b444f6f0-ea9c-4225-de2c-0c1594f54ef1"
      },
      "execution_count": 10,
      "outputs": [
        {
          "output_type": "display_data",
          "data": {
            "text/plain": [
              "\u001b[2;36m[01/07/25 17:10:03]\u001b[0m\u001b[2;36m \u001b[0m\u001b[34mINFO    \u001b[0m \u001b[1m{\u001b[0m\u001b[32m'dataset'\u001b[0m: \u001b[32m'cora_ml'\u001b[0m, \u001b[32m'model_params'\u001b[0m: \u001b[1m{\u001b[0m\u001b[32m'label'\u001b[0m: \u001b[32m'Vanilla \u001b[0m     \u001b]8;id=759860;file:///content/robustness_of_gnns_at_scale/experiments/experiment_train.py\u001b\\\u001b[2mexperiment_train.py\u001b[0m\u001b]8;;\u001b\\\u001b[2m:\u001b[0m\u001b]8;id=484719;file:///content/robustness_of_gnns_at_scale/experiments/experiment_train.py#140\u001b\\\u001b[2m140\u001b[0m\u001b]8;;\u001b\\\n",
              "\u001b[2;36m                    \u001b[0m         \u001b[32mGCN'\u001b[0m, \u001b[32m'model'\u001b[0m: \u001b[32m'GCN'\u001b[0m, \u001b[32m'do_cache_adj_prep'\u001b[0m: \u001b[3;92mTrue\u001b[0m, \u001b[32m'n_filters'\u001b[0m:  \u001b[2m                       \u001b[0m\n",
              "\u001b[2;36m                    \u001b[0m         \u001b[1;36m64\u001b[0m, \u001b[32m'dropout'\u001b[0m: \u001b[1;36m0.5\u001b[0m, \u001b[32m'svd_params'\u001b[0m: \u001b[3;35mNone\u001b[0m, \u001b[32m'jaccard_params'\u001b[0m:      \u001b[2m                       \u001b[0m\n",
              "\u001b[2;36m                    \u001b[0m         \u001b[3;35mNone\u001b[0m, \u001b[32m'gdc_params'\u001b[0m: \u001b[1m{\u001b[0m\u001b[32m'alpha'\u001b[0m: \u001b[1;36m0.15\u001b[0m, \u001b[32m'k'\u001b[0m: \u001b[1;36m64\u001b[0m\u001b[1m}\u001b[0m\u001b[1m}\u001b[0m, \u001b[32m'train_params'\u001b[0m: \u001b[2m                       \u001b[0m\n",
              "\u001b[2;36m                    \u001b[0m         \u001b[1m{\u001b[0m\u001b[32m'lr'\u001b[0m: \u001b[1;36m0.01\u001b[0m, \u001b[32m'weight_decay'\u001b[0m: \u001b[1;36m0.001\u001b[0m, \u001b[32m'patience'\u001b[0m: \u001b[1;36m300\u001b[0m,           \u001b[2m                       \u001b[0m\n",
              "\u001b[2;36m                    \u001b[0m         \u001b[32m'max_epochs'\u001b[0m: \u001b[1;36m3000\u001b[0m\u001b[1m}\u001b[0m, \u001b[32m'binary_attr'\u001b[0m: \u001b[3;91mFalse\u001b[0m, \u001b[32m'make_undirected'\u001b[0m:  \u001b[2m                       \u001b[0m\n",
              "\u001b[2;36m                    \u001b[0m         \u001b[3;92mTrue\u001b[0m, \u001b[32m'seed'\u001b[0m: \u001b[1;36m0\u001b[0m, \u001b[32m'artifact_dir'\u001b[0m: \u001b[32m'cache'\u001b[0m,                      \u001b[2m                       \u001b[0m\n",
              "\u001b[2;36m                    \u001b[0m         \u001b[32m'model_storage_type'\u001b[0m: \u001b[32m'demo'\u001b[0m, \u001b[32m'ppr_cache_params'\u001b[0m: \u001b[1m{\u001b[0m\u001b[1m}\u001b[0m,          \u001b[2m                       \u001b[0m\n",
              "\u001b[2;36m                    \u001b[0m         \u001b[32m'device'\u001b[0m: \u001b[32m'cpu'\u001b[0m, \u001b[32m'display_steps'\u001b[0m: \u001b[1;36m100\u001b[0m, \u001b[32m'data_device'\u001b[0m: \u001b[32m'cpu'\u001b[0m\u001b[1m}\u001b[0m   \u001b[2m                       \u001b[0m\n"
            ],
            "text/html": [
              "<pre style=\"white-space:pre;overflow-x:auto;line-height:normal;font-family:Menlo,'DejaVu Sans Mono',consolas,'Courier New',monospace\"><span style=\"color: #7fbfbf; text-decoration-color: #7fbfbf\">[01/07/25 17:10:03] </span><span style=\"color: #000080; text-decoration-color: #000080\">INFO    </span> <span style=\"font-weight: bold\">{</span><span style=\"color: #008000; text-decoration-color: #008000\">'dataset'</span>: <span style=\"color: #008000; text-decoration-color: #008000\">'cora_ml'</span>, <span style=\"color: #008000; text-decoration-color: #008000\">'model_params'</span>: <span style=\"font-weight: bold\">{</span><span style=\"color: #008000; text-decoration-color: #008000\">'label'</span>: <span style=\"color: #008000; text-decoration-color: #008000\">'Vanilla </span>     <a href=\"file:///content/robustness_of_gnns_at_scale/experiments/experiment_train.py\" target=\"_blank\"><span style=\"color: #7f7f7f; text-decoration-color: #7f7f7f\">experiment_train.py</span></a><span style=\"color: #7f7f7f; text-decoration-color: #7f7f7f\">:</span><a href=\"file:///content/robustness_of_gnns_at_scale/experiments/experiment_train.py#140\" target=\"_blank\"><span style=\"color: #7f7f7f; text-decoration-color: #7f7f7f\">140</span></a>\n",
              "<span style=\"color: #7fbfbf; text-decoration-color: #7fbfbf\">                    </span>         <span style=\"color: #008000; text-decoration-color: #008000\">GCN'</span>, <span style=\"color: #008000; text-decoration-color: #008000\">'model'</span>: <span style=\"color: #008000; text-decoration-color: #008000\">'GCN'</span>, <span style=\"color: #008000; text-decoration-color: #008000\">'do_cache_adj_prep'</span>: <span style=\"color: #00ff00; text-decoration-color: #00ff00; font-style: italic\">True</span>, <span style=\"color: #008000; text-decoration-color: #008000\">'n_filters'</span>:  <span style=\"color: #7f7f7f; text-decoration-color: #7f7f7f\">                       </span>\n",
              "<span style=\"color: #7fbfbf; text-decoration-color: #7fbfbf\">                    </span>         <span style=\"color: #008080; text-decoration-color: #008080; font-weight: bold\">64</span>, <span style=\"color: #008000; text-decoration-color: #008000\">'dropout'</span>: <span style=\"color: #008080; text-decoration-color: #008080; font-weight: bold\">0.5</span>, <span style=\"color: #008000; text-decoration-color: #008000\">'svd_params'</span>: <span style=\"color: #800080; text-decoration-color: #800080; font-style: italic\">None</span>, <span style=\"color: #008000; text-decoration-color: #008000\">'jaccard_params'</span>:      <span style=\"color: #7f7f7f; text-decoration-color: #7f7f7f\">                       </span>\n",
              "<span style=\"color: #7fbfbf; text-decoration-color: #7fbfbf\">                    </span>         <span style=\"color: #800080; text-decoration-color: #800080; font-style: italic\">None</span>, <span style=\"color: #008000; text-decoration-color: #008000\">'gdc_params'</span>: <span style=\"font-weight: bold\">{</span><span style=\"color: #008000; text-decoration-color: #008000\">'alpha'</span>: <span style=\"color: #008080; text-decoration-color: #008080; font-weight: bold\">0.15</span>, <span style=\"color: #008000; text-decoration-color: #008000\">'k'</span>: <span style=\"color: #008080; text-decoration-color: #008080; font-weight: bold\">64</span><span style=\"font-weight: bold\">}}</span>, <span style=\"color: #008000; text-decoration-color: #008000\">'train_params'</span>: <span style=\"color: #7f7f7f; text-decoration-color: #7f7f7f\">                       </span>\n",
              "<span style=\"color: #7fbfbf; text-decoration-color: #7fbfbf\">                    </span>         <span style=\"font-weight: bold\">{</span><span style=\"color: #008000; text-decoration-color: #008000\">'lr'</span>: <span style=\"color: #008080; text-decoration-color: #008080; font-weight: bold\">0.01</span>, <span style=\"color: #008000; text-decoration-color: #008000\">'weight_decay'</span>: <span style=\"color: #008080; text-decoration-color: #008080; font-weight: bold\">0.001</span>, <span style=\"color: #008000; text-decoration-color: #008000\">'patience'</span>: <span style=\"color: #008080; text-decoration-color: #008080; font-weight: bold\">300</span>,           <span style=\"color: #7f7f7f; text-decoration-color: #7f7f7f\">                       </span>\n",
              "<span style=\"color: #7fbfbf; text-decoration-color: #7fbfbf\">                    </span>         <span style=\"color: #008000; text-decoration-color: #008000\">'max_epochs'</span>: <span style=\"color: #008080; text-decoration-color: #008080; font-weight: bold\">3000</span><span style=\"font-weight: bold\">}</span>, <span style=\"color: #008000; text-decoration-color: #008000\">'binary_attr'</span>: <span style=\"color: #ff0000; text-decoration-color: #ff0000; font-style: italic\">False</span>, <span style=\"color: #008000; text-decoration-color: #008000\">'make_undirected'</span>:  <span style=\"color: #7f7f7f; text-decoration-color: #7f7f7f\">                       </span>\n",
              "<span style=\"color: #7fbfbf; text-decoration-color: #7fbfbf\">                    </span>         <span style=\"color: #00ff00; text-decoration-color: #00ff00; font-style: italic\">True</span>, <span style=\"color: #008000; text-decoration-color: #008000\">'seed'</span>: <span style=\"color: #008080; text-decoration-color: #008080; font-weight: bold\">0</span>, <span style=\"color: #008000; text-decoration-color: #008000\">'artifact_dir'</span>: <span style=\"color: #008000; text-decoration-color: #008000\">'cache'</span>,                      <span style=\"color: #7f7f7f; text-decoration-color: #7f7f7f\">                       </span>\n",
              "<span style=\"color: #7fbfbf; text-decoration-color: #7fbfbf\">                    </span>         <span style=\"color: #008000; text-decoration-color: #008000\">'model_storage_type'</span>: <span style=\"color: #008000; text-decoration-color: #008000\">'demo'</span>, <span style=\"color: #008000; text-decoration-color: #008000\">'ppr_cache_params'</span>: <span style=\"font-weight: bold\">{}</span>,          <span style=\"color: #7f7f7f; text-decoration-color: #7f7f7f\">                       </span>\n",
              "<span style=\"color: #7fbfbf; text-decoration-color: #7fbfbf\">                    </span>         <span style=\"color: #008000; text-decoration-color: #008000\">'device'</span>: <span style=\"color: #008000; text-decoration-color: #008000\">'cpu'</span>, <span style=\"color: #008000; text-decoration-color: #008000\">'display_steps'</span>: <span style=\"color: #008080; text-decoration-color: #008080; font-weight: bold\">100</span>, <span style=\"color: #008000; text-decoration-color: #008000\">'data_device'</span>: <span style=\"color: #008000; text-decoration-color: #008000\">'cpu'</span><span style=\"font-weight: bold\">}</span>   <span style=\"color: #7f7f7f; text-decoration-color: #7f7f7f\">                       </span>\n",
              "</pre>\n"
            ]
          },
          "metadata": {}
        },
        {
          "output_type": "display_data",
          "data": {
            "text/plain": [
              "\u001b[2;36m                   \u001b[0m\u001b[2;36m \u001b[0m\u001b[34mINFO    \u001b[0m Training set size: \u001b[1;36m140\u001b[0m                                         \u001b]8;id=990389;file:///content/robustness_of_gnns_at_scale/experiments/experiment_train.py\u001b\\\u001b[2mexperiment_train.py\u001b[0m\u001b]8;;\u001b\\\u001b[2m:\u001b[0m\u001b]8;id=379718;file:///content/robustness_of_gnns_at_scale/experiments/experiment_train.py#161\u001b\\\u001b[2m161\u001b[0m\u001b]8;;\u001b\\\n"
            ],
            "text/html": [
              "<pre style=\"white-space:pre;overflow-x:auto;line-height:normal;font-family:Menlo,'DejaVu Sans Mono',consolas,'Courier New',monospace\"><span style=\"color: #7fbfbf; text-decoration-color: #7fbfbf\">                    </span><span style=\"color: #000080; text-decoration-color: #000080\">INFO    </span> Training set size: <span style=\"color: #008080; text-decoration-color: #008080; font-weight: bold\">140</span>                                         <a href=\"file:///content/robustness_of_gnns_at_scale/experiments/experiment_train.py\" target=\"_blank\"><span style=\"color: #7f7f7f; text-decoration-color: #7f7f7f\">experiment_train.py</span></a><span style=\"color: #7f7f7f; text-decoration-color: #7f7f7f\">:</span><a href=\"file:///content/robustness_of_gnns_at_scale/experiments/experiment_train.py#161\" target=\"_blank\"><span style=\"color: #7f7f7f; text-decoration-color: #7f7f7f\">161</span></a>\n",
              "</pre>\n"
            ]
          },
          "metadata": {}
        },
        {
          "output_type": "display_data",
          "data": {
            "text/plain": [
              "\u001b[2;36m                   \u001b[0m\u001b[2;36m \u001b[0m\u001b[34mINFO    \u001b[0m Validation set size: \u001b[1;36m140\u001b[0m                                       \u001b]8;id=399221;file:///content/robustness_of_gnns_at_scale/experiments/experiment_train.py\u001b\\\u001b[2mexperiment_train.py\u001b[0m\u001b]8;;\u001b\\\u001b[2m:\u001b[0m\u001b]8;id=964517;file:///content/robustness_of_gnns_at_scale/experiments/experiment_train.py#162\u001b\\\u001b[2m162\u001b[0m\u001b]8;;\u001b\\\n"
            ],
            "text/html": [
              "<pre style=\"white-space:pre;overflow-x:auto;line-height:normal;font-family:Menlo,'DejaVu Sans Mono',consolas,'Courier New',monospace\"><span style=\"color: #7fbfbf; text-decoration-color: #7fbfbf\">                    </span><span style=\"color: #000080; text-decoration-color: #000080\">INFO    </span> Validation set size: <span style=\"color: #008080; text-decoration-color: #008080; font-weight: bold\">140</span>                                       <a href=\"file:///content/robustness_of_gnns_at_scale/experiments/experiment_train.py\" target=\"_blank\"><span style=\"color: #7f7f7f; text-decoration-color: #7f7f7f\">experiment_train.py</span></a><span style=\"color: #7f7f7f; text-decoration-color: #7f7f7f\">:</span><a href=\"file:///content/robustness_of_gnns_at_scale/experiments/experiment_train.py#162\" target=\"_blank\"><span style=\"color: #7f7f7f; text-decoration-color: #7f7f7f\">162</span></a>\n",
              "</pre>\n"
            ]
          },
          "metadata": {}
        },
        {
          "output_type": "display_data",
          "data": {
            "text/plain": [
              "\u001b[2;36m                   \u001b[0m\u001b[2;36m \u001b[0m\u001b[34mINFO    \u001b[0m Test set size: \u001b[1;36m2530\u001b[0m                                            \u001b]8;id=658550;file:///content/robustness_of_gnns_at_scale/experiments/experiment_train.py\u001b\\\u001b[2mexperiment_train.py\u001b[0m\u001b]8;;\u001b\\\u001b[2m:\u001b[0m\u001b]8;id=786264;file:///content/robustness_of_gnns_at_scale/experiments/experiment_train.py#163\u001b\\\u001b[2m163\u001b[0m\u001b]8;;\u001b\\\n"
            ],
            "text/html": [
              "<pre style=\"white-space:pre;overflow-x:auto;line-height:normal;font-family:Menlo,'DejaVu Sans Mono',consolas,'Courier New',monospace\"><span style=\"color: #7fbfbf; text-decoration-color: #7fbfbf\">                    </span><span style=\"color: #000080; text-decoration-color: #000080\">INFO    </span> Test set size: <span style=\"color: #008080; text-decoration-color: #008080; font-weight: bold\">2530</span>                                            <a href=\"file:///content/robustness_of_gnns_at_scale/experiments/experiment_train.py\" target=\"_blank\"><span style=\"color: #7f7f7f; text-decoration-color: #7f7f7f\">experiment_train.py</span></a><span style=\"color: #7f7f7f; text-decoration-color: #7f7f7f\">:</span><a href=\"file:///content/robustness_of_gnns_at_scale/experiments/experiment_train.py#163\" target=\"_blank\"><span style=\"color: #7f7f7f; text-decoration-color: #7f7f7f\">163</span></a>\n",
              "</pre>\n"
            ]
          },
          "metadata": {}
        },
        {
          "output_type": "display_data",
          "data": {
            "text/plain": [
              "\u001b[2;36m[01/07/25 17:10:04]\u001b[0m\u001b[2;36m \u001b[0m\u001b[34mINFO    \u001b[0m Memory Usage after loading the dataset:                        \u001b]8;id=503996;file:///content/robustness_of_gnns_at_scale/experiments/experiment_train.py\u001b\\\u001b[2mexperiment_train.py\u001b[0m\u001b]8;;\u001b\\\u001b[2m:\u001b[0m\u001b]8;id=548125;file:///content/robustness_of_gnns_at_scale/experiments/experiment_train.py#183\u001b\\\u001b[2m183\u001b[0m\u001b]8;;\u001b\\\n"
            ],
            "text/html": [
              "<pre style=\"white-space:pre;overflow-x:auto;line-height:normal;font-family:Menlo,'DejaVu Sans Mono',consolas,'Courier New',monospace\"><span style=\"color: #7fbfbf; text-decoration-color: #7fbfbf\">[01/07/25 17:10:04] </span><span style=\"color: #000080; text-decoration-color: #000080\">INFO    </span> Memory Usage after loading the dataset:                        <a href=\"file:///content/robustness_of_gnns_at_scale/experiments/experiment_train.py\" target=\"_blank\"><span style=\"color: #7f7f7f; text-decoration-color: #7f7f7f\">experiment_train.py</span></a><span style=\"color: #7f7f7f; text-decoration-color: #7f7f7f\">:</span><a href=\"file:///content/robustness_of_gnns_at_scale/experiments/experiment_train.py#183\" target=\"_blank\"><span style=\"color: #7f7f7f; text-decoration-color: #7f7f7f\">183</span></a>\n",
              "</pre>\n"
            ]
          },
          "metadata": {}
        },
        {
          "output_type": "display_data",
          "data": {
            "text/plain": [
              "\u001b[2;36m                   \u001b[0m\u001b[2;36m \u001b[0m\u001b[34mINFO    \u001b[0m \u001b[1;36m0.712738037109375\u001b[0m                                              \u001b]8;id=553623;file:///content/robustness_of_gnns_at_scale/experiments/experiment_train.py\u001b\\\u001b[2mexperiment_train.py\u001b[0m\u001b]8;;\u001b\\\u001b[2m:\u001b[0m\u001b]8;id=350108;file:///content/robustness_of_gnns_at_scale/experiments/experiment_train.py#184\u001b\\\u001b[2m184\u001b[0m\u001b]8;;\u001b\\\n"
            ],
            "text/html": [
              "<pre style=\"white-space:pre;overflow-x:auto;line-height:normal;font-family:Menlo,'DejaVu Sans Mono',consolas,'Courier New',monospace\"><span style=\"color: #7fbfbf; text-decoration-color: #7fbfbf\">                    </span><span style=\"color: #000080; text-decoration-color: #000080\">INFO    </span> <span style=\"color: #008080; text-decoration-color: #008080; font-weight: bold\">0.712738037109375</span>                                              <a href=\"file:///content/robustness_of_gnns_at_scale/experiments/experiment_train.py\" target=\"_blank\"><span style=\"color: #7f7f7f; text-decoration-color: #7f7f7f\">experiment_train.py</span></a><span style=\"color: #7f7f7f; text-decoration-color: #7f7f7f\">:</span><a href=\"file:///content/robustness_of_gnns_at_scale/experiments/experiment_train.py#184\" target=\"_blank\"><span style=\"color: #7f7f7f; text-decoration-color: #7f7f7f\">184</span></a>\n",
              "</pre>\n"
            ]
          },
          "metadata": {}
        },
        {
          "output_type": "display_data",
          "data": {
            "text/plain": [
              "Training...:   0%|          | 0/3000 [00:00<?, ?it/s]"
            ],
            "application/vnd.jupyter.widget-view+json": {
              "version_major": 2,
              "version_minor": 0,
              "model_id": "ad73dec594764787b774efe2c28cdc0a"
            }
          },
          "metadata": {}
        },
        {
          "output_type": "display_data",
          "data": {
            "text/plain": [
              "\u001b[2;36m[01/07/25 17:10:06]\u001b[0m\u001b[2;36m \u001b[0m\u001b[34mINFO    \u001b[0m                                                                            \u001b]8;id=884946;file:///content/robustness_of_gnns_at_scale/rgnn_at_scale/train.py\u001b\\\u001b[2mtrain.py\u001b[0m\u001b]8;;\u001b\\\u001b[2m:\u001b[0m\u001b]8;id=406765;file:///content/robustness_of_gnns_at_scale/rgnn_at_scale/train.py#81\u001b\\\u001b[2m81\u001b[0m\u001b]8;;\u001b\\\n",
              "\u001b[2;36m                    \u001b[0m         Epoch    \u001b[1;36m0\u001b[0m: loss_train: \u001b[1;36m1.94657\u001b[0m, loss_val: \u001b[1;36m1.94479\u001b[0m, acc_train: \u001b[1;36m0.10000\u001b[0m,    \u001b[2m           \u001b[0m\n",
              "\u001b[2;36m                    \u001b[0m         acc_val: \u001b[1;36m0.19286\u001b[0m                                                           \u001b[2m           \u001b[0m\n"
            ],
            "text/html": [
              "<pre style=\"white-space:pre;overflow-x:auto;line-height:normal;font-family:Menlo,'DejaVu Sans Mono',consolas,'Courier New',monospace\"><span style=\"color: #7fbfbf; text-decoration-color: #7fbfbf\">[01/07/25 17:10:06] </span><span style=\"color: #000080; text-decoration-color: #000080\">INFO    </span>                                                                            <a href=\"file:///content/robustness_of_gnns_at_scale/rgnn_at_scale/train.py\" target=\"_blank\"><span style=\"color: #7f7f7f; text-decoration-color: #7f7f7f\">train.py</span></a><span style=\"color: #7f7f7f; text-decoration-color: #7f7f7f\">:</span><a href=\"file:///content/robustness_of_gnns_at_scale/rgnn_at_scale/train.py#81\" target=\"_blank\"><span style=\"color: #7f7f7f; text-decoration-color: #7f7f7f\">81</span></a>\n",
              "<span style=\"color: #7fbfbf; text-decoration-color: #7fbfbf\">                    </span>         Epoch    <span style=\"color: #008080; text-decoration-color: #008080; font-weight: bold\">0</span>: loss_train: <span style=\"color: #008080; text-decoration-color: #008080; font-weight: bold\">1.94657</span>, loss_val: <span style=\"color: #008080; text-decoration-color: #008080; font-weight: bold\">1.94479</span>, acc_train: <span style=\"color: #008080; text-decoration-color: #008080; font-weight: bold\">0.10000</span>,    <span style=\"color: #7f7f7f; text-decoration-color: #7f7f7f\">           </span>\n",
              "<span style=\"color: #7fbfbf; text-decoration-color: #7fbfbf\">                    </span>         acc_val: <span style=\"color: #008080; text-decoration-color: #008080; font-weight: bold\">0.19286</span>                                                           <span style=\"color: #7f7f7f; text-decoration-color: #7f7f7f\">           </span>\n",
              "</pre>\n"
            ]
          },
          "metadata": {}
        },
        {
          "output_type": "display_data",
          "data": {
            "text/plain": [
              "\u001b[2;36m[01/07/25 17:10:18]\u001b[0m\u001b[2;36m \u001b[0m\u001b[34mINFO    \u001b[0m                                                                            \u001b]8;id=654341;file:///content/robustness_of_gnns_at_scale/rgnn_at_scale/train.py\u001b\\\u001b[2mtrain.py\u001b[0m\u001b]8;;\u001b\\\u001b[2m:\u001b[0m\u001b]8;id=616352;file:///content/robustness_of_gnns_at_scale/rgnn_at_scale/train.py#81\u001b\\\u001b[2m81\u001b[0m\u001b]8;;\u001b\\\n",
              "\u001b[2;36m                    \u001b[0m         Epoch  \u001b[1;36m100\u001b[0m: loss_train: \u001b[1;36m0.09280\u001b[0m, loss_val: \u001b[1;36m0.42191\u001b[0m, acc_train: \u001b[1;36m1.00000\u001b[0m,    \u001b[2m           \u001b[0m\n",
              "\u001b[2;36m                    \u001b[0m         acc_val: \u001b[1;36m0.88571\u001b[0m                                                           \u001b[2m           \u001b[0m\n"
            ],
            "text/html": [
              "<pre style=\"white-space:pre;overflow-x:auto;line-height:normal;font-family:Menlo,'DejaVu Sans Mono',consolas,'Courier New',monospace\"><span style=\"color: #7fbfbf; text-decoration-color: #7fbfbf\">[01/07/25 17:10:18] </span><span style=\"color: #000080; text-decoration-color: #000080\">INFO    </span>                                                                            <a href=\"file:///content/robustness_of_gnns_at_scale/rgnn_at_scale/train.py\" target=\"_blank\"><span style=\"color: #7f7f7f; text-decoration-color: #7f7f7f\">train.py</span></a><span style=\"color: #7f7f7f; text-decoration-color: #7f7f7f\">:</span><a href=\"file:///content/robustness_of_gnns_at_scale/rgnn_at_scale/train.py#81\" target=\"_blank\"><span style=\"color: #7f7f7f; text-decoration-color: #7f7f7f\">81</span></a>\n",
              "<span style=\"color: #7fbfbf; text-decoration-color: #7fbfbf\">                    </span>         Epoch  <span style=\"color: #008080; text-decoration-color: #008080; font-weight: bold\">100</span>: loss_train: <span style=\"color: #008080; text-decoration-color: #008080; font-weight: bold\">0.09280</span>, loss_val: <span style=\"color: #008080; text-decoration-color: #008080; font-weight: bold\">0.42191</span>, acc_train: <span style=\"color: #008080; text-decoration-color: #008080; font-weight: bold\">1.00000</span>,    <span style=\"color: #7f7f7f; text-decoration-color: #7f7f7f\">           </span>\n",
              "<span style=\"color: #7fbfbf; text-decoration-color: #7fbfbf\">                    </span>         acc_val: <span style=\"color: #008080; text-decoration-color: #008080; font-weight: bold\">0.88571</span>                                                           <span style=\"color: #7f7f7f; text-decoration-color: #7f7f7f\">           </span>\n",
              "</pre>\n"
            ]
          },
          "metadata": {}
        },
        {
          "output_type": "display_data",
          "data": {
            "text/plain": [
              "\u001b[2;36m[01/07/25 17:10:30]\u001b[0m\u001b[2;36m \u001b[0m\u001b[34mINFO    \u001b[0m                                                                            \u001b]8;id=330174;file:///content/robustness_of_gnns_at_scale/rgnn_at_scale/train.py\u001b\\\u001b[2mtrain.py\u001b[0m\u001b]8;;\u001b\\\u001b[2m:\u001b[0m\u001b]8;id=141370;file:///content/robustness_of_gnns_at_scale/rgnn_at_scale/train.py#81\u001b\\\u001b[2m81\u001b[0m\u001b]8;;\u001b\\\n",
              "\u001b[2;36m                    \u001b[0m         Epoch  \u001b[1;36m200\u001b[0m: loss_train: \u001b[1;36m0.07180\u001b[0m, loss_val: \u001b[1;36m0.37593\u001b[0m, acc_train: \u001b[1;36m1.00000\u001b[0m,    \u001b[2m           \u001b[0m\n",
              "\u001b[2;36m                    \u001b[0m         acc_val: \u001b[1;36m0.90000\u001b[0m                                                           \u001b[2m           \u001b[0m\n"
            ],
            "text/html": [
              "<pre style=\"white-space:pre;overflow-x:auto;line-height:normal;font-family:Menlo,'DejaVu Sans Mono',consolas,'Courier New',monospace\"><span style=\"color: #7fbfbf; text-decoration-color: #7fbfbf\">[01/07/25 17:10:30] </span><span style=\"color: #000080; text-decoration-color: #000080\">INFO    </span>                                                                            <a href=\"file:///content/robustness_of_gnns_at_scale/rgnn_at_scale/train.py\" target=\"_blank\"><span style=\"color: #7f7f7f; text-decoration-color: #7f7f7f\">train.py</span></a><span style=\"color: #7f7f7f; text-decoration-color: #7f7f7f\">:</span><a href=\"file:///content/robustness_of_gnns_at_scale/rgnn_at_scale/train.py#81\" target=\"_blank\"><span style=\"color: #7f7f7f; text-decoration-color: #7f7f7f\">81</span></a>\n",
              "<span style=\"color: #7fbfbf; text-decoration-color: #7fbfbf\">                    </span>         Epoch  <span style=\"color: #008080; text-decoration-color: #008080; font-weight: bold\">200</span>: loss_train: <span style=\"color: #008080; text-decoration-color: #008080; font-weight: bold\">0.07180</span>, loss_val: <span style=\"color: #008080; text-decoration-color: #008080; font-weight: bold\">0.37593</span>, acc_train: <span style=\"color: #008080; text-decoration-color: #008080; font-weight: bold\">1.00000</span>,    <span style=\"color: #7f7f7f; text-decoration-color: #7f7f7f\">           </span>\n",
              "<span style=\"color: #7fbfbf; text-decoration-color: #7fbfbf\">                    </span>         acc_val: <span style=\"color: #008080; text-decoration-color: #008080; font-weight: bold\">0.90000</span>                                                           <span style=\"color: #7f7f7f; text-decoration-color: #7f7f7f\">           </span>\n",
              "</pre>\n"
            ]
          },
          "metadata": {}
        },
        {
          "output_type": "display_data",
          "data": {
            "text/plain": [
              "\u001b[2;36m[01/07/25 17:10:43]\u001b[0m\u001b[2;36m \u001b[0m\u001b[34mINFO    \u001b[0m                                                                            \u001b]8;id=387923;file:///content/robustness_of_gnns_at_scale/rgnn_at_scale/train.py\u001b\\\u001b[2mtrain.py\u001b[0m\u001b]8;;\u001b\\\u001b[2m:\u001b[0m\u001b]8;id=106378;file:///content/robustness_of_gnns_at_scale/rgnn_at_scale/train.py#81\u001b\\\u001b[2m81\u001b[0m\u001b]8;;\u001b\\\n",
              "\u001b[2;36m                    \u001b[0m         Epoch  \u001b[1;36m300\u001b[0m: loss_train: \u001b[1;36m0.07156\u001b[0m, loss_val: \u001b[1;36m0.39893\u001b[0m, acc_train: \u001b[1;36m1.00000\u001b[0m,    \u001b[2m           \u001b[0m\n",
              "\u001b[2;36m                    \u001b[0m         acc_val: \u001b[1;36m0.88571\u001b[0m                                                           \u001b[2m           \u001b[0m\n"
            ],
            "text/html": [
              "<pre style=\"white-space:pre;overflow-x:auto;line-height:normal;font-family:Menlo,'DejaVu Sans Mono',consolas,'Courier New',monospace\"><span style=\"color: #7fbfbf; text-decoration-color: #7fbfbf\">[01/07/25 17:10:43] </span><span style=\"color: #000080; text-decoration-color: #000080\">INFO    </span>                                                                            <a href=\"file:///content/robustness_of_gnns_at_scale/rgnn_at_scale/train.py\" target=\"_blank\"><span style=\"color: #7f7f7f; text-decoration-color: #7f7f7f\">train.py</span></a><span style=\"color: #7f7f7f; text-decoration-color: #7f7f7f\">:</span><a href=\"file:///content/robustness_of_gnns_at_scale/rgnn_at_scale/train.py#81\" target=\"_blank\"><span style=\"color: #7f7f7f; text-decoration-color: #7f7f7f\">81</span></a>\n",
              "<span style=\"color: #7fbfbf; text-decoration-color: #7fbfbf\">                    </span>         Epoch  <span style=\"color: #008080; text-decoration-color: #008080; font-weight: bold\">300</span>: loss_train: <span style=\"color: #008080; text-decoration-color: #008080; font-weight: bold\">0.07156</span>, loss_val: <span style=\"color: #008080; text-decoration-color: #008080; font-weight: bold\">0.39893</span>, acc_train: <span style=\"color: #008080; text-decoration-color: #008080; font-weight: bold\">1.00000</span>,    <span style=\"color: #7f7f7f; text-decoration-color: #7f7f7f\">           </span>\n",
              "<span style=\"color: #7fbfbf; text-decoration-color: #7fbfbf\">                    </span>         acc_val: <span style=\"color: #008080; text-decoration-color: #008080; font-weight: bold\">0.88571</span>                                                           <span style=\"color: #7f7f7f; text-decoration-color: #7f7f7f\">           </span>\n",
              "</pre>\n"
            ]
          },
          "metadata": {}
        },
        {
          "output_type": "display_data",
          "data": {
            "text/plain": [
              "\u001b[2;36m[01/07/25 17:10:55]\u001b[0m\u001b[2;36m \u001b[0m\u001b[34mINFO    \u001b[0m                                                                            \u001b]8;id=23166;file:///content/robustness_of_gnns_at_scale/rgnn_at_scale/train.py\u001b\\\u001b[2mtrain.py\u001b[0m\u001b]8;;\u001b\\\u001b[2m:\u001b[0m\u001b]8;id=79177;file:///content/robustness_of_gnns_at_scale/rgnn_at_scale/train.py#81\u001b\\\u001b[2m81\u001b[0m\u001b]8;;\u001b\\\n",
              "\u001b[2;36m                    \u001b[0m         Epoch  \u001b[1;36m400\u001b[0m: loss_train: \u001b[1;36m0.06845\u001b[0m, loss_val: \u001b[1;36m0.38141\u001b[0m, acc_train: \u001b[1;36m1.00000\u001b[0m,    \u001b[2m           \u001b[0m\n",
              "\u001b[2;36m                    \u001b[0m         acc_val: \u001b[1;36m0.90714\u001b[0m                                                           \u001b[2m           \u001b[0m\n"
            ],
            "text/html": [
              "<pre style=\"white-space:pre;overflow-x:auto;line-height:normal;font-family:Menlo,'DejaVu Sans Mono',consolas,'Courier New',monospace\"><span style=\"color: #7fbfbf; text-decoration-color: #7fbfbf\">[01/07/25 17:10:55] </span><span style=\"color: #000080; text-decoration-color: #000080\">INFO    </span>                                                                            <a href=\"file:///content/robustness_of_gnns_at_scale/rgnn_at_scale/train.py\" target=\"_blank\"><span style=\"color: #7f7f7f; text-decoration-color: #7f7f7f\">train.py</span></a><span style=\"color: #7f7f7f; text-decoration-color: #7f7f7f\">:</span><a href=\"file:///content/robustness_of_gnns_at_scale/rgnn_at_scale/train.py#81\" target=\"_blank\"><span style=\"color: #7f7f7f; text-decoration-color: #7f7f7f\">81</span></a>\n",
              "<span style=\"color: #7fbfbf; text-decoration-color: #7fbfbf\">                    </span>         Epoch  <span style=\"color: #008080; text-decoration-color: #008080; font-weight: bold\">400</span>: loss_train: <span style=\"color: #008080; text-decoration-color: #008080; font-weight: bold\">0.06845</span>, loss_val: <span style=\"color: #008080; text-decoration-color: #008080; font-weight: bold\">0.38141</span>, acc_train: <span style=\"color: #008080; text-decoration-color: #008080; font-weight: bold\">1.00000</span>,    <span style=\"color: #7f7f7f; text-decoration-color: #7f7f7f\">           </span>\n",
              "<span style=\"color: #7fbfbf; text-decoration-color: #7fbfbf\">                    </span>         acc_val: <span style=\"color: #008080; text-decoration-color: #008080; font-weight: bold\">0.90714</span>                                                           <span style=\"color: #7f7f7f; text-decoration-color: #7f7f7f\">           </span>\n",
              "</pre>\n"
            ]
          },
          "metadata": {}
        },
        {
          "output_type": "display_data",
          "data": {
            "text/plain": [
              "\u001b[2;36m[01/07/25 17:11:08]\u001b[0m\u001b[2;36m \u001b[0m\u001b[34mINFO    \u001b[0m                                                                            \u001b]8;id=377149;file:///content/robustness_of_gnns_at_scale/rgnn_at_scale/train.py\u001b\\\u001b[2mtrain.py\u001b[0m\u001b]8;;\u001b\\\u001b[2m:\u001b[0m\u001b]8;id=742845;file:///content/robustness_of_gnns_at_scale/rgnn_at_scale/train.py#81\u001b\\\u001b[2m81\u001b[0m\u001b]8;;\u001b\\\n",
              "\u001b[2;36m                    \u001b[0m         Epoch  \u001b[1;36m500\u001b[0m: loss_train: \u001b[1;36m0.06979\u001b[0m, loss_val: \u001b[1;36m0.36477\u001b[0m, acc_train: \u001b[1;36m1.00000\u001b[0m,    \u001b[2m           \u001b[0m\n",
              "\u001b[2;36m                    \u001b[0m         acc_val: \u001b[1;36m0.88571\u001b[0m                                                           \u001b[2m           \u001b[0m\n"
            ],
            "text/html": [
              "<pre style=\"white-space:pre;overflow-x:auto;line-height:normal;font-family:Menlo,'DejaVu Sans Mono',consolas,'Courier New',monospace\"><span style=\"color: #7fbfbf; text-decoration-color: #7fbfbf\">[01/07/25 17:11:08] </span><span style=\"color: #000080; text-decoration-color: #000080\">INFO    </span>                                                                            <a href=\"file:///content/robustness_of_gnns_at_scale/rgnn_at_scale/train.py\" target=\"_blank\"><span style=\"color: #7f7f7f; text-decoration-color: #7f7f7f\">train.py</span></a><span style=\"color: #7f7f7f; text-decoration-color: #7f7f7f\">:</span><a href=\"file:///content/robustness_of_gnns_at_scale/rgnn_at_scale/train.py#81\" target=\"_blank\"><span style=\"color: #7f7f7f; text-decoration-color: #7f7f7f\">81</span></a>\n",
              "<span style=\"color: #7fbfbf; text-decoration-color: #7fbfbf\">                    </span>         Epoch  <span style=\"color: #008080; text-decoration-color: #008080; font-weight: bold\">500</span>: loss_train: <span style=\"color: #008080; text-decoration-color: #008080; font-weight: bold\">0.06979</span>, loss_val: <span style=\"color: #008080; text-decoration-color: #008080; font-weight: bold\">0.36477</span>, acc_train: <span style=\"color: #008080; text-decoration-color: #008080; font-weight: bold\">1.00000</span>,    <span style=\"color: #7f7f7f; text-decoration-color: #7f7f7f\">           </span>\n",
              "<span style=\"color: #7fbfbf; text-decoration-color: #7fbfbf\">                    </span>         acc_val: <span style=\"color: #008080; text-decoration-color: #008080; font-weight: bold\">0.88571</span>                                                           <span style=\"color: #7f7f7f; text-decoration-color: #7f7f7f\">           </span>\n",
              "</pre>\n"
            ]
          },
          "metadata": {}
        },
        {
          "output_type": "display_data",
          "data": {
            "text/plain": [
              "\u001b[2;36m[01/07/25 17:11:20]\u001b[0m\u001b[2;36m \u001b[0m\u001b[34mINFO    \u001b[0m                                                                            \u001b]8;id=284152;file:///content/robustness_of_gnns_at_scale/rgnn_at_scale/train.py\u001b\\\u001b[2mtrain.py\u001b[0m\u001b]8;;\u001b\\\u001b[2m:\u001b[0m\u001b]8;id=854467;file:///content/robustness_of_gnns_at_scale/rgnn_at_scale/train.py#81\u001b\\\u001b[2m81\u001b[0m\u001b]8;;\u001b\\\n",
              "\u001b[2;36m                    \u001b[0m         Epoch  \u001b[1;36m600\u001b[0m: loss_train: \u001b[1;36m0.06436\u001b[0m, loss_val: \u001b[1;36m0.40324\u001b[0m, acc_train: \u001b[1;36m1.00000\u001b[0m,    \u001b[2m           \u001b[0m\n",
              "\u001b[2;36m                    \u001b[0m         acc_val: \u001b[1;36m0.87857\u001b[0m                                                           \u001b[2m           \u001b[0m\n"
            ],
            "text/html": [
              "<pre style=\"white-space:pre;overflow-x:auto;line-height:normal;font-family:Menlo,'DejaVu Sans Mono',consolas,'Courier New',monospace\"><span style=\"color: #7fbfbf; text-decoration-color: #7fbfbf\">[01/07/25 17:11:20] </span><span style=\"color: #000080; text-decoration-color: #000080\">INFO    </span>                                                                            <a href=\"file:///content/robustness_of_gnns_at_scale/rgnn_at_scale/train.py\" target=\"_blank\"><span style=\"color: #7f7f7f; text-decoration-color: #7f7f7f\">train.py</span></a><span style=\"color: #7f7f7f; text-decoration-color: #7f7f7f\">:</span><a href=\"file:///content/robustness_of_gnns_at_scale/rgnn_at_scale/train.py#81\" target=\"_blank\"><span style=\"color: #7f7f7f; text-decoration-color: #7f7f7f\">81</span></a>\n",
              "<span style=\"color: #7fbfbf; text-decoration-color: #7fbfbf\">                    </span>         Epoch  <span style=\"color: #008080; text-decoration-color: #008080; font-weight: bold\">600</span>: loss_train: <span style=\"color: #008080; text-decoration-color: #008080; font-weight: bold\">0.06436</span>, loss_val: <span style=\"color: #008080; text-decoration-color: #008080; font-weight: bold\">0.40324</span>, acc_train: <span style=\"color: #008080; text-decoration-color: #008080; font-weight: bold\">1.00000</span>,    <span style=\"color: #7f7f7f; text-decoration-color: #7f7f7f\">           </span>\n",
              "<span style=\"color: #7fbfbf; text-decoration-color: #7fbfbf\">                    </span>         acc_val: <span style=\"color: #008080; text-decoration-color: #008080; font-weight: bold\">0.87857</span>                                                           <span style=\"color: #7f7f7f; text-decoration-color: #7f7f7f\">           </span>\n",
              "</pre>\n"
            ]
          },
          "metadata": {}
        },
        {
          "output_type": "display_data",
          "data": {
            "text/plain": [
              "\u001b[2;36m[01/07/25 17:11:30]\u001b[0m\u001b[2;36m \u001b[0m\u001b[34mINFO    \u001b[0m Test accuracy is \u001b[1;36m0.8343873620033264\u001b[0m with seed \u001b[1;36m0\u001b[0m                \u001b]8;id=925977;file:///content/robustness_of_gnns_at_scale/experiments/experiment_train.py\u001b\\\u001b[2mexperiment_train.py\u001b[0m\u001b]8;;\u001b\\\u001b[2m:\u001b[0m\u001b]8;id=546152;file:///content/robustness_of_gnns_at_scale/experiments/experiment_train.py#216\u001b\\\u001b[2m216\u001b[0m\u001b]8;;\u001b\\\n"
            ],
            "text/html": [
              "<pre style=\"white-space:pre;overflow-x:auto;line-height:normal;font-family:Menlo,'DejaVu Sans Mono',consolas,'Courier New',monospace\"><span style=\"color: #7fbfbf; text-decoration-color: #7fbfbf\">[01/07/25 17:11:30] </span><span style=\"color: #000080; text-decoration-color: #000080\">INFO    </span> Test accuracy is <span style=\"color: #008080; text-decoration-color: #008080; font-weight: bold\">0.8343873620033264</span> with seed <span style=\"color: #008080; text-decoration-color: #008080; font-weight: bold\">0</span>                <a href=\"file:///content/robustness_of_gnns_at_scale/experiments/experiment_train.py\" target=\"_blank\"><span style=\"color: #7f7f7f; text-decoration-color: #7f7f7f\">experiment_train.py</span></a><span style=\"color: #7f7f7f; text-decoration-color: #7f7f7f\">:</span><a href=\"file:///content/robustness_of_gnns_at_scale/experiments/experiment_train.py#216\" target=\"_blank\"><span style=\"color: #7f7f7f; text-decoration-color: #7f7f7f\">216</span></a>\n",
              "</pre>\n"
            ]
          },
          "metadata": {}
        },
        {
          "output_type": "display_data",
          "data": {
            "text/plain": [
              "<Figure size 640x480 with 1 Axes>"
            ],
            "image/png": "[encoded data removed]"
          },
          "metadata": {}
        }
      ]
    },
    {
      "cell_type": "code",
      "source": [
        "clean_acc = train_statistics[\"accuracy\"]\n",
        "print(f'Accuracy of the model: {100*clean_acc:.2f}%')"
      ],
      "metadata": {
        "colab": {
          "base_uri": "https://localhost:8080/"
        },
        "id": "Diozgu7Vivj7",
        "outputId": "6c22ee4a-a0ed-4b8b-c893-ad54b89fb8f0"
      },
      "execution_count": 11,
      "outputs": [
        {
          "output_type": "stream",
          "name": "stdout",
          "text": [
            "Accuracy of the model: 83.44%\n"
          ]
        }
      ]
    },
    {
      "cell_type": "markdown",
      "source": [
        "## 2. Evaluation\n",
        "\n",
        "For evaluation, we use the locally stored models. Similarly to training, we provide a script that runs the attacks for different seeds for all pretrained models. For all experiments, please check out the [config](https://github.com/sigeisler/robustness_of_gnns_at_scale/tree/main/config) folder.\n",
        "\n",
        "### 2.1 Local PR-BCD Attack\n",
        "We provide an example for a `local PR-BCD` attack on the `Vanilla GCN` model trained previously by passing the desired configuration in [experiments/experiment_local_attack_direct.py](https://github.com/sigeisler/robustness_of_gnns_at_scale/blob/main/experiments/experiment_local_attack_direct.py#L68)."
      ],
      "metadata": {
        "id": "JzCocLocdb2y"
      }
    },
    {
      "cell_type": "code",
      "source": [
        "local_prbcd_statistics = experiment_local_attack_direct.run(\n",
        "    data_dir = './data',\n",
        "    dataset = 'cora_ml',\n",
        "    attack = 'LocalPRBCD',\n",
        "    attack_params = dict(\n",
        "        ppr_cache_params = dict(\n",
        "            data_artifact_dir = 'cache',\n",
        "            data_storage_type = 'ppr'),\n",
        "        epochs = 500,\n",
        "        fine_tune_epochs = 100,\n",
        "        search_space_size = 10_000,\n",
        "        ppr_recalc_at_end = True,\n",
        "        loss_type = 'Margin',\n",
        "        lr_factor = 0.05),\n",
        "    nodes = None,\n",
        "    nodes_topk = 5,\n",
        "    seed=0,\n",
        "    epsilons = [1],\n",
        "    min_node_degree = None,\n",
        "    binary_attr = False,\n",
        "    make_undirected = True,\n",
        "    artifact_dir = 'cache',\n",
        "    model_label = 'Vanilla GCN',\n",
        "    model_storage_type = 'demo',\n",
        "    device = 0,\n",
        "    data_device = 0,\n",
        "    debug_level = \"info\"\n",
        ")"
      ],
      "metadata": {
        "colab": {
          "base_uri": "https://localhost:8080/"
        },
        "id": "A-n0IWrJC1QQ",
        "outputId": "94944c64-dcac-46b8-c2a2-d33ea4e3b43a"
      },
      "execution_count": null,
      "outputs": [
        {
          "output_type": "stream",
          "name": "stderr",
          "text": [
            "2022-04-20 17:05:39 (INFO): {'dataset': 'cora_ml', 'attack': 'LocalPRBCD', 'attack_params': {'ppr_cache_params': {'data_artifact_dir': 'cache', 'data_storage_type': 'ppr'}, 'epochs': 500, 'fine_tune_epochs': 100, 'search_space_size': 10000, 'ppr_recalc_at_end': True, 'loss_type': 'Margin', 'lr_factor': 0.05}, 'epsilons': [1], 'make_undirected': True, 'binary_attr': False, 'seed': 0, 'artifact_dir': 'cache', 'pert_adj_storage_type': None, 'pert_attr_storage_type': None, 'model_label': 'Vanilla GCN', 'model_storage_type': 'demo', 'device': 0, 'data_device': 0}\n",
            "2022-04-20 17:05:39 (INFO): Lock 139753357381712 acquired on cache/demo.json.lock\n",
            "2022-04-20 17:05:39 (INFO): Lock 139753357381712 released on cache/demo.json.lock\n",
            "2022-04-20 17:05:39 (INFO): Found 1 models with label 'Vanilla GCN' to attack.\n",
            "2022-04-20 17:05:39 (INFO): Sample Attack Nodes for model with accuracy 0.819\n",
            "2022-04-20 17:05:39 (INFO): Found 2530 suitable '1+ degree' nodes out of 2530 candidate nodes to be sampled from for the attack of which 2072 have the correct class label\n",
            "2022-04-20 17:05:40 (INFO): Sample the following attack nodes:\n",
            "[475]\n",
            "[2603]\n",
            "[1734  527]\n",
            "2022-04-20 17:05:40 (INFO): Original: Loss: -9.659235954284668 Statstics: {'logit_target': -0.00023040501400828362, 'logit_best_non_target': -9.659466743469238, 'confidence_target': 0.9997696215271885, 'confidence_non_target': 6.381854451501719e-05, 'margin': 0.9997058029826735}\n",
            "\n",
            "  0%|          | 0/500 [00:00<?, ?it/s]2022-04-20 17:05:40 (INFO): Initial: Loss: -9.659235954284668 Statstics: {'logit_target': -0.00023040501400828362, 'logit_best_non_target': -9.659466743469238, 'confidence_target': 0.9997696215271885, 'confidence_non_target': 6.381854451501719e-05, 'margin': 0.9997058029826735}\n",
            "\n",
            "2022-04-20 17:05:40 (INFO): \n",
            "Epoch: 0 Loss: -9.659235954284668 Statstics: {'logit_target': -0.0004067785630468279, 'logit_best_non_target': -9.049365043640137, 'confidence_target': 0.9995933041601358, 'confidence_non_target': 0.00011746559877385763, 'margin': 0.9994758385613619}\n",
            "\n",
            "2022-04-20 17:05:40 (INFO): Gradient mean 0.3727196753025055 std 0.15130698680877686 with base learning rate 0.1\n",
            "2022-04-20 17:05:40 (INFO): Cuda memory 0.03272581100463867\n",
            "  4%|▍         | 20/500 [00:08<03:26,  2.32it/s]2022-04-20 17:05:49 (INFO): \n",
            "Epoch: 20 Loss: 2.09192156791687 Statstics: {'logit_target': -2.239561080932617, 'logit_best_non_target': -0.14679937064647675, 'confidence_target': 0.10650524130282306, 'confidence_non_target': 0.8634671969047849, 'margin': -0.7569619556019619}\n",
            "\n",
            "2022-04-20 17:05:49 (INFO): Gradient mean 0.24008890986442566 std 0.16945166885852814 with base learning rate 0.1\n",
            "2022-04-20 17:05:49 (INFO): Cuda memory 0.03272533416748047\n",
            "  8%|▊         | 40/500 [00:17<03:15,  2.35it/s]2022-04-20 17:05:58 (INFO): \n",
            "Epoch: 40 Loss: 2.096717119216919 Statstics: {'logit_target': -2.242889165878296, 'logit_best_non_target': -0.1460833102464676, 'confidence_target': 0.1061513719927947, 'confidence_non_target': 0.8640857129922056, 'margin': -0.7579343409994109}\n",
            "\n",
            "2022-04-20 17:05:58 (INFO): Gradient mean 0.23900942504405975 std 0.16877777874469757 with base learning rate 0.1\n",
            "2022-04-20 17:05:58 (INFO): Cuda memory 0.03272581100463867\n",
            " 12%|█▏        | 60/500 [00:26<03:07,  2.34it/s]2022-04-20 17:06:06 (INFO): \n",
            "Epoch: 60 Loss: 2.0968456268310547 Statstics: {'logit_target': -2.2429914474487305, 'logit_best_non_target': -0.14605797827243805, 'confidence_target': 0.1061405152189969, 'confidence_non_target': 0.8641076022662945, 'margin': -0.7579670870472975}\n",
            "\n",
            "2022-04-20 17:06:06 (INFO): Gradient mean 0.23850198090076447 std 0.16819189488887787 with base learning rate 0.1\n",
            "2022-04-20 17:06:06 (INFO): Cuda memory 0.03272581100463867\n",
            " 16%|█▌        | 80/500 [00:34<03:03,  2.28it/s]2022-04-20 17:06:15 (INFO): \n",
            "Epoch: 80 Loss: 2.09683895111084 Statstics: {'logit_target': -2.2429513931274414, 'logit_best_non_target': -0.14606137573719025, 'confidence_target': 0.1061447666904396, 'confidence_non_target': 0.8641046664961607, 'margin': -0.7579598998057211}\n",
            "\n",
            "2022-04-20 17:06:15 (INFO): Gradient mean 0.23882752656936646 std 0.16953863203525543 with base learning rate 0.1\n",
            "2022-04-20 17:06:15 (INFO): Cuda memory 0.03272533416748047\n",
            " 20%|██        | 100/500 [00:43<02:50,  2.35it/s]2022-04-20 17:06:23 (INFO): \n",
            "Epoch: 100 Loss: 2.0968759059906006 Statstics: {'logit_target': -2.2429323196411133, 'logit_best_non_target': -0.14606209099292755, 'confidence_target': 0.10614679126050361, 'confidence_non_target': 0.8641040484405614, 'margin': -0.7579572571800578}\n",
            "\n",
            "2022-04-20 17:06:23 (INFO): Gradient mean 0.2383536547422409 std 0.1682482659816742 with base learning rate 0.1\n",
            "2022-04-20 17:06:23 (INFO): Cuda memory 0.03272581100463867\n",
            " 24%|██▍       | 120/500 [00:51<02:42,  2.34it/s]2022-04-20 17:06:32 (INFO): \n",
            "Epoch: 120 Loss: 2.096923589706421 Statstics: {'logit_target': -2.242980480194092, 'logit_best_non_target': -0.14605674147605896, 'confidence_target': 0.10614167929543813, 'confidence_non_target': 0.864108670992109, 'margin': -0.7579669916966708}\n",
            "\n",
            "2022-04-20 17:06:32 (INFO): Gradient mean 0.23807474970817566 std 0.1692417562007904 with base learning rate 0.1\n",
            "2022-04-20 17:06:32 (INFO): Cuda memory 0.03272581100463867\n",
            " 28%|██▊       | 140/500 [01:00<02:34,  2.33it/s]2022-04-20 17:06:41 (INFO): \n",
            "Epoch: 140 Loss: 2.0969221591949463 Statstics: {'logit_target': -2.242978811264038, 'logit_best_non_target': -0.14605695009231567, 'confidence_target': 0.10614185643862448, 'confidence_non_target': 0.8641084907250115, 'margin': -0.757966634286387}\n",
            "\n",
            "2022-04-20 17:06:41 (INFO): Gradient mean 0.2383306920528412 std 0.16694512963294983 with base learning rate 0.1\n",
            "2022-04-20 17:06:41 (INFO): Cuda memory 0.03272581100463867\n",
            " 32%|███▏      | 160/500 [01:09<02:26,  2.32it/s]2022-04-20 17:06:49 (INFO): \n",
            "Epoch: 160 Loss: 2.09692120552063 Statstics: {'logit_target': -2.242978096008301, 'logit_best_non_target': -0.14605695009231567, 'confidence_target': 0.10614193235722341, 'confidence_non_target': 0.8641084907250115, 'margin': -0.7579665583677881}\n",
            "\n",
            "2022-04-20 17:06:49 (INFO): Gradient mean 0.23886139690876007 std 0.16901889443397522 with base learning rate 0.1\n",
            "2022-04-20 17:06:49 (INFO): Cuda memory 0.03272533416748047\n",
            " 36%|███▌      | 180/500 [01:17<02:17,  2.32it/s]2022-04-20 17:06:58 (INFO): \n",
            "Epoch: 180 Loss: 2.0969221591949463 Statstics: {'logit_target': -2.242978096008301, 'logit_best_non_target': -0.14605695009231567, 'confidence_target': 0.10614193235722341, 'confidence_non_target': 0.8641084907250115, 'margin': -0.7579665583677881}\n",
            "\n",
            "2022-04-20 17:06:58 (INFO): Gradient mean 0.23865818977355957 std 0.16962242126464844 with base learning rate 0.1\n",
            "2022-04-20 17:06:58 (INFO): Cuda memory 0.03272581100463867\n",
            " 40%|████      | 200/500 [01:26<02:09,  2.32it/s]2022-04-20 17:07:06 (INFO): \n",
            "Epoch: 200 Loss: 2.096921682357788 Statstics: {'logit_target': -2.24297833442688, 'logit_best_non_target': -0.14605695009231567, 'confidence_target': 0.10614190705101774, 'confidence_non_target': 0.8641084907250115, 'margin': -0.7579665836739937}\n",
            "\n",
            "2022-04-20 17:07:07 (INFO): Gradient mean 0.23899029195308685 std 0.17012163996696472 with base learning rate 0.1\n",
            "2022-04-20 17:07:07 (INFO): Cuda memory 0.03272533416748047\n",
            " 44%|████▍     | 220/500 [01:34<02:00,  2.33it/s]2022-04-20 17:07:15 (INFO): \n",
            "Epoch: 220 Loss: 2.0969207286834717 Statstics: {'logit_target': -2.242978096008301, 'logit_best_non_target': -0.14605705440044403, 'confidence_target': 0.10614193235722341, 'confidence_non_target': 0.8641084005914768, 'margin': -0.7579664682342533}\n",
            "\n",
            "2022-04-20 17:07:15 (INFO): Gradient mean 0.23782384395599365 std 0.16914217174053192 with base learning rate 0.1\n",
            "2022-04-20 17:07:15 (INFO): Cuda memory 0.03272533416748047\n",
            " 48%|████▊     | 240/500 [01:43<01:51,  2.33it/s]2022-04-20 17:07:24 (INFO): \n",
            "Epoch: 240 Loss: 2.0969207286834717 Statstics: {'logit_target': -2.2429773807525635, 'logit_best_non_target': -0.14605705440044403, 'confidence_target': 0.10614200827587665, 'confidence_non_target': 0.8641084005914768, 'margin': -0.7579663923156001}\n",
            "\n",
            "2022-04-20 17:07:24 (INFO): Gradient mean 0.23898208141326904 std 0.16981615126132965 with base learning rate 0.1\n",
            "2022-04-20 17:07:24 (INFO): Cuda memory 0.03272581100463867\n",
            " 52%|█████▏    | 260/500 [01:52<01:43,  2.31it/s]2022-04-20 17:07:32 (INFO): \n",
            "Epoch: 260 Loss: 2.0969204902648926 Statstics: {'logit_target': -2.2429771423339844, 'logit_best_non_target': -0.1460571587085724, 'confidence_target': 0.10614203358210647, 'confidence_non_target': 0.8641083104579516, 'margin': -0.7579662768758451}\n",
            "\n",
            "2022-04-20 17:07:32 (INFO): Gradient mean 0.23852995038032532 std 0.16872967779636383 with base learning rate 0.1\n",
            "2022-04-20 17:07:32 (INFO): Cuda memory 0.03272581100463867\n",
            " 56%|█████▌    | 280/500 [02:00<01:34,  2.33it/s]2022-04-20 17:07:41 (INFO): \n",
            "Epoch: 280 Loss: 2.0969207286834717 Statstics: {'logit_target': -2.242978096008301, 'logit_best_non_target': -0.14605705440044403, 'confidence_target': 0.10614193235722341, 'confidence_non_target': 0.8641084005914768, 'margin': -0.7579664682342533}\n",
            "\n",
            "2022-04-20 17:07:41 (INFO): Gradient mean 0.23813267052173615 std 0.1685379594564438 with base learning rate 0.1\n",
            "2022-04-20 17:07:41 (INFO): Cuda memory 0.03272581100463867\n",
            " 60%|██████    | 300/500 [02:09<01:25,  2.34it/s]2022-04-20 17:07:50 (INFO): \n",
            "Epoch: 300 Loss: 2.0969207286834717 Statstics: {'logit_target': -2.2429773807525635, 'logit_best_non_target': -0.14605705440044403, 'confidence_target': 0.10614200827587665, 'confidence_non_target': 0.8641084005914768, 'margin': -0.7579663923156001}\n",
            "\n",
            "2022-04-20 17:07:50 (INFO): Gradient mean 0.23885469138622284 std 0.17012232542037964 with base learning rate 0.1\n",
            "2022-04-20 17:07:50 (INFO): Cuda memory 0.03272533416748047\n",
            " 64%|██████▍   | 320/500 [02:17<01:16,  2.35it/s]2022-04-20 17:07:58 (INFO): \n",
            "Epoch: 320 Loss: 2.0969202518463135 Statstics: {'logit_target': -2.2429778575897217, 'logit_best_non_target': -0.14605705440044403, 'confidence_target': 0.10614195766343512, 'confidence_non_target': 0.8641084005914768, 'margin': -0.7579664429280416}\n",
            "\n",
            "2022-04-20 17:07:58 (INFO): Gradient mean 0.2385735660791397 std 0.16868655383586884 with base learning rate 0.1\n",
            "2022-04-20 17:07:58 (INFO): Cuda memory 0.03272581100463867\n",
            " 68%|██████▊   | 340/500 [02:26<01:08,  2.34it/s]2022-04-20 17:08:07 (INFO): \n",
            "Epoch: 340 Loss: 2.0969207286834717 Statstics: {'logit_target': -2.242978096008301, 'logit_best_non_target': -0.14605705440044403, 'confidence_target': 0.10614193235722341, 'confidence_non_target': 0.8641084005914768, 'margin': -0.7579664682342533}\n",
            "\n",
            "2022-04-20 17:08:07 (INFO): Gradient mean 0.23834161460399628 std 0.16883496940135956 with base learning rate 0.1\n",
            "2022-04-20 17:08:07 (INFO): Cuda memory 0.03272581100463867\n",
            " 72%|███████▏  | 360/500 [02:35<01:00,  2.33it/s]2022-04-20 17:08:15 (INFO): \n",
            "Epoch: 360 Loss: 2.0969207286834717 Statstics: {'logit_target': -2.2429776191711426, 'logit_best_non_target': -0.14605705440044403, 'confidence_target': 0.10614198296965287, 'confidence_non_target': 0.8641084005914768, 'margin': -0.7579664176218239}\n",
            "\n",
            "2022-04-20 17:08:15 (INFO): Gradient mean 0.23854856193065643 std 0.1680276244878769 with base learning rate 0.1\n",
            "2022-04-20 17:08:15 (INFO): Cuda memory 0.03272533416748047\n",
            " 76%|███████▌  | 380/500 [02:43<00:51,  2.33it/s]2022-04-20 17:08:24 (INFO): \n",
            "Epoch: 380 Loss: 2.0969221591949463 Statstics: {'logit_target': -2.242978096008301, 'logit_best_non_target': -0.14605695009231567, 'confidence_target': 0.10614193235722341, 'confidence_non_target': 0.8641084907250115, 'margin': -0.7579665583677881}\n",
            "\n",
            "2022-04-20 17:08:24 (INFO): Gradient mean 0.23880036175251007 std 0.16915355622768402 with base learning rate 0.1\n",
            "2022-04-20 17:08:24 (INFO): Cuda memory 0.03272581100463867\n",
            " 80%|███████▉  | 399/500 [02:51<00:43,  2.35it/s]2022-04-20 17:08:32 (INFO): Loading search space of epoch 101 (margin=-0.7579724407186764) for fine tuning\n",
            "\n",
            " 80%|████████  | 400/500 [02:52<00:42,  2.34it/s]2022-04-20 17:08:32 (INFO): \n",
            "Epoch: 400 Loss: 2.0968682765960693 Statstics: {'logit_target': -2.2430038452148438, 'logit_best_non_target': -0.14605405926704407, 'confidence_target': 0.10613919932187117, 'confidence_non_target': 0.8641109887152845, 'margin': -0.7579717893934133}\n",
            "\n",
            "2022-04-20 17:08:32 (INFO): Gradient mean 0.23835347592830658 std 0.16972039639949799 with base learning rate 0.1\n",
            "2022-04-20 17:08:32 (INFO): Cuda memory 0.032671451568603516\n",
            " 84%|████████▍ | 420/500 [03:00<00:33,  2.36it/s]2022-04-20 17:08:41 (INFO): \n",
            "Epoch: 420 Loss: 2.0969207286834717 Statstics: {'logit_target': -2.2429964542388916, 'logit_best_non_target': -0.14605487883090973, 'confidence_target': 0.10613998379703996, 'confidence_non_target': 0.8641102805214324, 'margin': -0.7579702967243924}\n",
            "\n",
            "2022-04-20 17:08:41 (INFO): Gradient mean 0.23834238946437836 std 0.16971848905086517 with base learning rate 0.1\n",
            "2022-04-20 17:08:41 (INFO): Cuda memory 0.032671451568603516\n",
            " 88%|████████▊ | 440/500 [03:09<00:25,  2.36it/s]2022-04-20 17:08:49 (INFO): \n",
            "Epoch: 440 Loss: 2.0969300270080566 Statstics: {'logit_target': -2.242959976196289, 'logit_best_non_target': -0.14605848491191864, 'confidence_target': 0.10614385564650905, 'confidence_non_target': 0.8641071644753786, 'margin': -0.7579633088288695}\n",
            "\n",
            "2022-04-20 17:08:49 (INFO): Gradient mean 0.23834042251110077 std 0.1697181761264801 with base learning rate 0.1\n",
            "2022-04-20 17:08:49 (INFO): Cuda memory 0.032671451568603516\n",
            " 92%|█████████▏| 460/500 [03:17<00:16,  2.36it/s]2022-04-20 17:08:58 (INFO): \n",
            "Epoch: 460 Loss: 2.096926689147949 Statstics: {'logit_target': -2.242962121963501, 'logit_best_non_target': -0.14605818688869476, 'confidence_target': 0.10614362788674822, 'confidence_non_target': 0.8641074219994199, 'margin': -0.7579637941126717}\n",
            "\n",
            "2022-04-20 17:08:58 (INFO): Gradient mean 0.23835471272468567 std 0.1697181612253189 with base learning rate 0.1\n",
            "2022-04-20 17:08:58 (INFO): Cuda memory 0.032671451568603516\n",
            " 96%|█████████▌| 480/500 [03:26<00:08,  2.36it/s]2022-04-20 17:09:06 (INFO): \n",
            "Epoch: 480 Loss: 2.096900224685669 Statstics: {'logit_target': -2.242957592010498, 'logit_best_non_target': -0.1460587978363037, 'confidence_target': 0.10614410871348318, 'confidence_non_target': 0.8641068940752178, 'margin': -0.7579627853617346}\n",
            "\n",
            "2022-04-20 17:09:06 (INFO): Gradient mean 0.23835968971252441 std 0.16971921920776367 with base learning rate 0.1\n",
            "2022-04-20 17:09:06 (INFO): Cuda memory 0.032671451568603516\n",
            "100%|██████████| 500/500 [03:34<00:00,  2.33it/s]\n",
            "2022-04-20 17:09:16 (INFO): Cuda Memory before local evaluation on clean adjacency 0.03243398666381836\n",
            "2022-04-20 17:09:16 (INFO): Cuda Memory before local evaluation on perturbed adjacency 0.03250741958618164\n",
            "2022-04-20 17:09:16 (INFO): Evaluated model Vanilla GCN using LocalPRBCD with pert. edges for node 475 and budget 2: \n",
            "2022-04-20 17:09:16 (INFO): {'label': 'Vanilla GCN', 'epsilon': 1, 'n_perturbations': 2, 'degree': 2, 'logits': [[-0.7756373286247253, -1.2263808250427246, 2.07315731048584, -1.811836838722229, -1.6811270713806152, 3.732516288757324, -1.442244291305542]], 'initial_logits': [[-1.4388890266418457, -1.9915330410003662, 8.685981750488281, -2.0554962158203125, -1.4802627563476562, -0.9732551574707031, -1.359588623046875]], 'larget': 2, 'node_id': 475, 'perturbed_edges': [[475, 475], [1244, 1534]], 'logit_target': -1.8601118326187134, 'logit_best_non_target': -0.20075289905071259, 'confidence_target': 0.15565522206350754, 'confidence_non_target': 0.8181145634645953, 'margin': -0.6624593414010878, 'initial_logit_target': -0.00023040501400828362, 'initial_logit_best_non_target': -9.659467697143555, 'initial_confidence_target': 0.9997696215271885, 'initial_confidence_non_target': 6.381848365293939e-05, 'initial_margin': 0.9997058030435356}\n",
            "2022-04-20 17:09:16 (INFO): Completed attack and evaluation of Vanilla GCN using LocalPRBCD with pert. edges for node 475 and budget 2\n",
            "2022-04-20 17:09:17 (INFO): Original: Loss: -0.004681408405303955 Statstics: {'logit_target': -1.491263508796692, 'logit_best_non_target': -1.4959449768066406, 'confidence_target': 0.22508807502947967, 'confidence_non_target': 0.2240367950935025, 'margin': 0.001051279935977173}\n",
            "\n",
            "  0%|          | 0/500 [00:00<?, ?it/s]2022-04-20 17:09:17 (INFO): Initial: Loss: -0.004681408405303955 Statstics: {'logit_target': -1.491263508796692, 'logit_best_non_target': -1.4959449768066406, 'confidence_target': 0.22508807502947967, 'confidence_non_target': 0.2240367950935025, 'margin': 0.001051279935977173}\n",
            "\n",
            "2022-04-20 17:09:17 (INFO): \n",
            "Epoch: 0 Loss: -0.004681408405303955 Statstics: {'logit_target': -2.4696738719940186, 'logit_best_non_target': -1.1965296268463135, 'confidence_target': 0.08461244899165679, 'confidence_non_target': 0.30224128403389183, 'margin': -0.21762883504223504}\n",
            "\n",
            "2022-04-20 17:09:17 (INFO): Gradient mean 0.14956802129745483 std 0.13870453834533691 with base learning rate 0.15000000000000002\n",
            "2022-04-20 17:09:17 (INFO): Cuda memory 0.033170223236083984\n",
            "  4%|▍         | 20/500 [00:08<03:25,  2.34it/s]2022-04-20 17:09:26 (INFO): \n",
            "Epoch: 20 Loss: 3.0433144569396973 Statstics: {'logit_target': -3.3433139324188232, 'logit_best_non_target': -0.22711847722530365, 'confidence_target': 0.03531971641076772, 'confidence_non_target': 0.7968263709199761, 'margin': -0.7615066545092084}\n",
            "\n",
            "2022-04-20 17:09:26 (INFO): Gradient mean 0.1096707135438919 std 0.06236971542239189 with base learning rate 0.15000000000000002\n",
            "2022-04-20 17:09:26 (INFO): Cuda memory 0.03316974639892578\n",
            "  8%|▊         | 40/500 [00:17<03:16,  2.34it/s]2022-04-20 17:09:34 (INFO): \n",
            "Epoch: 40 Loss: 3.4210476875305176 Statstics: {'logit_target': -3.5711617469787598, 'logit_best_non_target': -0.1476450264453888, 'confidence_target': 0.028123162695355905, 'confidence_non_target': 0.8627373095227979, 'margin': -0.8346141468274421}\n",
            "\n",
            "2022-04-20 17:09:34 (INFO): Gradient mean 0.1305365264415741 std 0.06681687384843826 with base learning rate 0.15000000000000002\n",
            "2022-04-20 17:09:34 (INFO): Cuda memory 0.033170223236083984\n",
            " 12%|█▏        | 60/500 [00:25<03:07,  2.34it/s]2022-04-20 17:09:43 (INFO): \n",
            "Epoch: 60 Loss: 3.4375417232513428 Statstics: {'logit_target': -3.574787139892578, 'logit_best_non_target': -0.1372232735157013, 'confidence_target': 0.02802138977548804, 'confidence_non_target': 0.8717755600068379, 'margin': -0.8437541702313498}\n",
            "\n",
            "2022-04-20 17:09:43 (INFO): Gradient mean 0.13413700461387634 std 0.06711576879024506 with base learning rate 0.15000000000000002\n",
            "2022-04-20 17:09:43 (INFO): Cuda memory 0.03316974639892578\n",
            " 16%|█▌        | 80/500 [00:34<02:59,  2.34it/s]2022-04-20 17:09:51 (INFO): \n",
            "Epoch: 80 Loss: 3.4383411407470703 Statstics: {'logit_target': -3.5674314498901367, 'logit_best_non_target': -0.13844436407089233, 'confidence_target': 0.02822826635934972, 'confidence_non_target': 0.8707116927755721, 'margin': -0.8424834264162224}\n",
            "\n",
            "2022-04-20 17:09:51 (INFO): Gradient mean 0.1351129412651062 std 0.06666842848062515 with base learning rate 0.15000000000000002\n",
            "2022-04-20 17:09:51 (INFO): Cuda memory 0.033170223236083984\n",
            " 20%|██        | 100/500 [00:42<02:50,  2.34it/s]2022-04-20 17:10:00 (INFO): \n",
            "Epoch: 100 Loss: 3.428452253341675 Statstics: {'logit_target': -3.5749735832214355, 'logit_best_non_target': -0.13732999563217163, 'confidence_target': 0.028016165861296197, 'confidence_non_target': 0.8716825272384021, 'margin': -0.8436663613771059}\n",
            "\n",
            "2022-04-20 17:10:00 (INFO): Gradient mean 0.13485528528690338 std 0.0677156075835228 with base learning rate 0.15000000000000002\n",
            "2022-04-20 17:10:00 (INFO): Cuda memory 0.033170223236083984\n",
            " 24%|██▍       | 120/500 [00:51<02:42,  2.34it/s]2022-04-20 17:10:08 (INFO): \n",
            "Epoch: 120 Loss: 3.4277048110961914 Statstics: {'logit_target': -3.548581600189209, 'logit_best_non_target': -0.14100414514541626, 'confidence_target': 0.028765411586304794, 'confidence_non_target': 0.8684857116906397, 'margin': -0.839720300104335}\n",
            "\n",
            "2022-04-20 17:10:08 (INFO): Gradient mean 0.13446423411369324 std 0.06561503559350967 with base learning rate 0.15000000000000002\n",
            "2022-04-20 17:10:08 (INFO): Cuda memory 0.03316974639892578\n",
            " 28%|██▊       | 140/500 [00:59<02:34,  2.33it/s]2022-04-20 17:10:17 (INFO): \n",
            "Epoch: 140 Loss: 3.42777681350708 Statstics: {'logit_target': -3.5663371086120605, 'logit_best_non_target': -0.1384953260421753, 'confidence_target': 0.028259174625446394, 'confidence_non_target': 0.8706673207219424, 'margin': -0.8424081460964961}\n",
            "\n",
            "2022-04-20 17:10:17 (INFO): Gradient mean 0.1354365199804306 std 0.06656505912542343 with base learning rate 0.15000000000000002\n",
            "2022-04-20 17:10:17 (INFO): Cuda memory 0.03316974639892578\n",
            " 32%|███▏      | 160/500 [01:08<02:25,  2.34it/s]2022-04-20 17:10:25 (INFO): \n",
            "Epoch: 160 Loss: 3.4278249740600586 Statstics: {'logit_target': -3.566439390182495, 'logit_best_non_target': -0.13850954174995422, 'confidence_target': 0.028256284380498434, 'confidence_non_target': 0.870654943657713, 'margin': -0.8423986592772146}\n",
            "\n",
            "2022-04-20 17:10:25 (INFO): Gradient mean 0.13488256931304932 std 0.06559048593044281 with base learning rate 0.15000000000000002\n",
            "2022-04-20 17:10:25 (INFO): Cuda memory 0.03316974639892578\n",
            " 36%|███▌      | 180/500 [01:16<02:16,  2.35it/s]2022-04-20 17:10:34 (INFO): \n",
            "Epoch: 180 Loss: 3.427830457687378 Statstics: {'logit_target': -3.557678461074829, 'logit_best_non_target': -0.13985677063465118, 'confidence_target': 0.028504923248217687, 'confidence_non_target': 0.869482761944839, 'margin': -0.8409778386966212}\n",
            "\n",
            "2022-04-20 17:10:34 (INFO): Gradient mean 0.13518714904785156 std 0.0664425939321518 with base learning rate 0.15000000000000002\n",
            "2022-04-20 17:10:34 (INFO): Cuda memory 0.03316974639892578\n",
            " 40%|████      | 200/500 [01:25<02:07,  2.35it/s]2022-04-20 17:10:43 (INFO): \n",
            "Epoch: 200 Loss: 3.4158616065979004 Statstics: {'logit_target': -3.5663483142852783, 'logit_best_non_target': -0.13842682540416718, 'confidence_target': 0.028258857964144343, 'confidence_non_target': 0.8707269640316838, 'margin': -0.8424681060675395}\n",
            "\n",
            "2022-04-20 17:10:43 (INFO): Gradient mean 0.13579028844833374 std 0.07306516915559769 with base learning rate 0.15000000000000002\n",
            "2022-04-20 17:10:43 (INFO): Cuda memory 0.033170223236083984\n",
            " 44%|████▍     | 220/500 [01:34<02:00,  2.32it/s]2022-04-20 17:10:51 (INFO): \n",
            "Epoch: 220 Loss: 3.4278221130371094 Statstics: {'logit_target': -3.5575578212738037, 'logit_best_non_target': -0.13979622721672058, 'confidence_target': 0.028508362283924716, 'confidence_non_target': 0.8695354049966579, 'margin': -0.8410270427127332}\n",
            "\n",
            "2022-04-20 17:10:51 (INFO): Gradient mean 0.13493205606937408 std 0.06453227251768112 with base learning rate 0.15000000000000002\n",
            "2022-04-20 17:10:51 (INFO): Cuda memory 0.03316974639892578\n",
            " 48%|████▊     | 240/500 [01:42<01:50,  2.35it/s]2022-04-20 17:11:00 (INFO): \n",
            "Epoch: 240 Loss: 3.4279065132141113 Statstics: {'logit_target': -3.566281318664551, 'logit_best_non_target': -0.138539120554924, 'confidence_target': 0.02826075124729483, 'confidence_non_target': 0.8706291911058053, 'margin': -0.8423684398585104}\n",
            "\n",
            "2022-04-20 17:11:00 (INFO): Gradient mean 0.13544589281082153 std 0.06771598756313324 with base learning rate 0.15000000000000002\n",
            "2022-04-20 17:11:00 (INFO): Cuda memory 0.03316974639892578\n",
            " 52%|█████▏    | 260/500 [01:51<01:42,  2.34it/s]2022-04-20 17:11:08 (INFO): \n",
            "Epoch: 260 Loss: 3.427858829498291 Statstics: {'logit_target': -3.5652711391448975, 'logit_best_non_target': -0.138762965798378, 'confidence_target': 0.028289314103792252, 'confidence_non_target': 0.8704343267131115, 'margin': -0.8421450126093193}\n",
            "\n",
            "2022-04-20 17:11:08 (INFO): Gradient mean 0.13529691100120544 std 0.06777241080999374 with base learning rate 0.15000000000000002\n",
            "2022-04-20 17:11:08 (INFO): Cuda memory 0.033170223236083984\n",
            " 56%|█████▌    | 280/500 [01:59<01:33,  2.35it/s]2022-04-20 17:11:17 (INFO): \n",
            "Epoch: 280 Loss: 3.427846908569336 Statstics: {'logit_target': -3.5661959648132324, 'logit_best_non_target': -0.13848483562469482, 'confidence_target': 0.02826316351420161, 'confidence_non_target': 0.8706764544335316, 'margin': -0.8424132909193299}\n",
            "\n",
            "2022-04-20 17:11:17 (INFO): Gradient mean 0.134898379445076 std 0.06423579901456833 with base learning rate 0.15000000000000002\n",
            "2022-04-20 17:11:17 (INFO): Cuda memory 0.033170223236083984\n",
            " 60%|██████    | 300/500 [02:08<01:25,  2.34it/s]2022-04-20 17:11:25 (INFO): \n",
            "Epoch: 300 Loss: 3.4177582263946533 Statstics: {'logit_target': -3.554807186126709, 'logit_best_non_target': -0.1382032185792923, 'confidence_target': 0.028586886333204546, 'confidence_non_target': 0.8709216862932458, 'margin': -0.8423347999600413}\n",
            "\n",
            "2022-04-20 17:11:25 (INFO): Gradient mean 0.13452088832855225 std 0.06495289504528046 with base learning rate 0.15000000000000002\n",
            "2022-04-20 17:11:25 (INFO): Cuda memory 0.033170223236083984\n",
            " 64%|██████▍   | 320/500 [02:16<01:17,  2.32it/s]2022-04-20 17:11:34 (INFO): \n",
            "Epoch: 320 Loss: 3.4277522563934326 Statstics: {'logit_target': -3.5662927627563477, 'logit_best_non_target': -0.1385418176651001, 'confidence_target': 0.02826042783051392, 'confidence_non_target': 0.870626842926121, 'margin': -0.8423664150956071}\n",
            "\n",
            "2022-04-20 17:11:34 (INFO): Gradient mean 0.13530117273330688 std 0.06727340817451477 with base learning rate 0.15000000000000002\n",
            "2022-04-20 17:11:34 (INFO): Cuda memory 0.03316974639892578\n",
            " 68%|██████▊   | 340/500 [02:25<01:08,  2.35it/s]2022-04-20 17:11:42 (INFO): \n",
            "Epoch: 340 Loss: 3.4177725315093994 Statstics: {'logit_target': -3.554856538772583, 'logit_best_non_target': -0.13824453949928284, 'confidence_target': 0.028585475529540435, 'confidence_non_target': 0.8708856997514322, 'margin': -0.8423002242218918}\n",
            "\n",
            "2022-04-20 17:11:42 (INFO): Gradient mean 0.13438116014003754 std 0.06477697193622589 with base learning rate 0.15000000000000002\n",
            "2022-04-20 17:11:42 (INFO): Cuda memory 0.03316974639892578\n",
            " 72%|███████▏  | 360/500 [02:33<01:00,  2.33it/s]2022-04-20 17:11:51 (INFO): \n",
            "Epoch: 360 Loss: 3.417750835418701 Statstics: {'logit_target': -3.566171646118164, 'logit_best_non_target': -0.13847726583480835, 'confidence_target': 0.02826385084581425, 'confidence_non_target': 0.8706830452962965, 'margin': -0.8424191944504822}\n",
            "\n",
            "2022-04-20 17:11:51 (INFO): Gradient mean 0.13507552444934845 std 0.06718391925096512 with base learning rate 0.15000000000000002\n",
            "2022-04-20 17:11:51 (INFO): Cuda memory 0.033170223236083984\n",
            " 76%|███████▌  | 380/500 [02:42<00:51,  2.33it/s]2022-04-20 17:12:00 (INFO): \n",
            "Epoch: 380 Loss: 3.416475772857666 Statstics: {'logit_target': -3.566349983215332, 'logit_best_non_target': -0.13847601413726807, 'confidence_target': 0.028258810802126357, 'confidence_non_target': 0.8706841351288047, 'margin': -0.8424253243266784}\n",
            "\n",
            "2022-04-20 17:12:00 (INFO): Gradient mean 0.13549670577049255 std 0.06691358983516693 with base learning rate 0.15000000000000002\n",
            "2022-04-20 17:12:00 (INFO): Cuda memory 0.033170223236083984\n",
            " 80%|███████▉  | 399/500 [02:50<00:43,  2.33it/s]2022-04-20 17:12:08 (INFO): Loading search space of epoch 53 (margin=-0.8455536088911091) for fine tuning\n",
            "\n",
            " 80%|████████  | 400/500 [02:51<00:43,  2.32it/s]2022-04-20 17:12:08 (INFO): \n",
            "Epoch: 400 Loss: 3.4525132179260254 Statstics: {'logit_target': -3.5788397789001465, 'logit_best_non_target': -0.1371360868215561, 'confidence_target': 0.027908058997713914, 'confidence_non_target': 0.8718515705494573, 'margin': -0.8439435115517434}\n",
            "\n",
            "2022-04-20 17:12:08 (INFO): Gradient mean 0.1347954273223877 std 0.06883930414915085 with base learning rate 0.15000000000000002\n",
            "2022-04-20 17:12:08 (INFO): Cuda memory 0.03311586380004883\n",
            " 84%|████████▍ | 420/500 [02:59<00:34,  2.35it/s]2022-04-20 17:12:17 (INFO): \n",
            "Epoch: 420 Loss: 3.4277524948120117 Statstics: {'logit_target': -3.575057029724121, 'logit_best_non_target': -0.13728250563144684, 'confidence_target': 0.028013828107776445, 'confidence_non_target': 0.8717239244252208, 'margin': -0.8437100963174444}\n",
            "\n",
            "2022-04-20 17:12:17 (INFO): Gradient mean 0.13411997258663177 std 0.06796931475400925 with base learning rate 0.15000000000000002\n",
            "2022-04-20 17:12:17 (INFO): Cuda memory 0.03311586380004883\n",
            " 88%|████████▊ | 440/500 [03:08<00:25,  2.34it/s]2022-04-20 17:12:25 (INFO): \n",
            "Epoch: 440 Loss: 3.4277501106262207 Statstics: {'logit_target': -3.5752198696136475, 'logit_best_non_target': -0.13726495206356049, 'confidence_target': 0.028009266710500958, 'confidence_non_target': 0.8717392264246083, 'margin': -0.8437299597141074}\n",
            "\n",
            "2022-04-20 17:12:25 (INFO): Gradient mean 0.13436180353164673 std 0.06781014055013657 with base learning rate 0.15000000000000002\n",
            "2022-04-20 17:12:25 (INFO): Cuda memory 0.03311586380004883\n",
            " 92%|█████████▏| 460/500 [03:16<00:17,  2.34it/s]2022-04-20 17:12:34 (INFO): \n",
            "Epoch: 460 Loss: 3.438175916671753 Statstics: {'logit_target': -3.5666019916534424, 'logit_best_non_target': -0.13850019872188568, 'confidence_target': 0.028251690240611735, 'confidence_non_target': 0.8706630782492903, 'margin': -0.8424113880086787}\n",
            "\n",
            "2022-04-20 17:12:34 (INFO): Gradient mean 0.13493992388248444 std 0.06808320432901382 with base learning rate 0.15000000000000002\n",
            "2022-04-20 17:12:34 (INFO): Cuda memory 0.03311586380004883\n",
            " 96%|█████████▌| 480/500 [03:25<00:08,  2.33it/s]2022-04-20 17:12:42 (INFO): \n",
            "Epoch: 480 Loss: 3.4382688999176025 Statstics: {'logit_target': -3.5755486488342285, 'logit_best_non_target': -0.1372447907924652, 'confidence_target': 0.02800005935929865, 'confidence_non_target': 0.8717568019726488, 'margin': -0.8437567426133502}\n",
            "\n",
            "2022-04-20 17:12:42 (INFO): Gradient mean 0.13506291806697845 std 0.0680006593465805 with base learning rate 0.15000000000000002\n",
            "2022-04-20 17:12:42 (INFO): Cuda memory 0.03311586380004883\n",
            "100%|██████████| 500/500 [03:33<00:00,  2.34it/s]\n",
            "2022-04-20 17:12:54 (INFO): Cuda Memory before local evaluation on clean adjacency 0.03258085250854492\n",
            "2022-04-20 17:12:54 (INFO): Cuda Memory before local evaluation on perturbed adjacency 0.0326542854309082\n",
            "2022-04-20 17:12:54 (INFO): Evaluated model Vanilla GCN using LocalPRBCD with pert. edges for node 2603 and budget 3: \n",
            "2022-04-20 17:12:54 (INFO): {'label': 'Vanilla GCN', 'epsilon': 1, 'n_perturbations': 3, 'degree': 3, 'logits': [[-0.7345179915428162, 3.191465377807617, -0.6998807787895203, -1.221308946609497, -0.19102321565151215, -0.26172542572021484, -1.3460237979888916]], 'initial_logits': [[-0.004910513758659363, 0.4353598356246948, -0.10223010182380676, -1.233237862586975, 0.4400412142276764, 0.299885094165802, -1.3423147201538086]], 'larget': 4, 'node_id': 2603, 'perturbed_edges': [[2603, 2603, 2603], [907, 1098, 1908]], 'logit_target': -3.503439426422119, 'logit_best_non_target': -0.12095099687576294, 'confidence_target': 0.030093700151598755, 'confidence_non_target': 0.8860773790889126, 'margin': -0.8559836789373139, 'initial_logit_target': -1.491263508796692, 'initial_logit_best_non_target': -1.495944857597351, 'initial_confidence_target': 0.22508807502947967, 'initial_confidence_non_target': 0.22403682180077128, 'initial_margin': 0.0010512532287083876}\n",
            "2022-04-20 17:12:54 (INFO): Completed attack and evaluation of Vanilla GCN using LocalPRBCD with pert. edges for node 2603 and budget 3\n",
            "2022-04-20 17:12:54 (INFO): Original: Loss: -1.25658118724823 Statstics: {'logit_target': -0.33624985814094543, 'logit_best_non_target': -1.592831015586853, 'confidence_target': 0.714444573720139, 'confidence_non_target': 0.2033491115743417, 'margin': 0.5110954621457973}\n",
            "\n",
            "  0%|          | 0/500 [00:00<?, ?it/s]2022-04-20 17:12:54 (INFO): Initial: Loss: -1.2565810680389404 Statstics: {'logit_target': -0.3362499475479126, 'logit_best_non_target': -1.592831015586853, 'confidence_target': 0.7144445098438194, 'confidence_non_target': 0.2033491115743417, 'margin': 0.5110953982694777}\n",
            "\n",
            "2022-04-20 17:12:55 (INFO): \n",
            "Epoch: 0 Loss: -1.2565810680389404 Statstics: {'logit_target': -1.9428658485412598, 'logit_best_non_target': -0.3725648522377014, 'confidence_target': 0.14329270558610788, 'confidence_non_target': 0.6889649691890709, 'margin': -0.5456722636029631}\n",
            "\n",
            "2022-04-20 17:12:55 (INFO): Gradient mean 0.08206721395254135 std 0.3028797507286072 with base learning rate 0.1\n",
            "2022-04-20 17:12:55 (INFO): Cuda memory 0.033170223236083984\n",
            "  4%|▍         | 20/500 [00:08<03:25,  2.33it/s]2022-04-20 17:13:03 (INFO): \n",
            "Epoch: 20 Loss: 2.3302969932556152 Statstics: {'logit_target': -2.5352063179016113, 'logit_best_non_target': -0.20144958794116974, 'confidence_target': 0.07924536783998859, 'confidence_non_target': 0.817544790637354, 'margin': -0.7382994227973654}\n",
            "\n",
            "2022-04-20 17:13:03 (INFO): Gradient mean 0.17307612299919128 std 0.10452081263065338 with base learning rate 0.1\n",
            "2022-04-20 17:13:03 (INFO): Cuda memory 0.033170223236083984\n",
            "  8%|▊         | 40/500 [00:17<03:17,  2.33it/s]2022-04-20 17:13:12 (INFO): \n",
            "Epoch: 40 Loss: 2.3580079078674316 Statstics: {'logit_target': -2.550808906555176, 'logit_best_non_target': -0.1923919916152954, 'confidence_target': 0.07801853076838021, 'confidence_non_target': 0.8249834185181685, 'margin': -0.7469648877497883}\n",
            "\n",
            "2022-04-20 17:13:12 (INFO): Gradient mean 0.18089130520820618 std 0.10766581445932388 with base learning rate 0.1\n",
            "2022-04-20 17:13:12 (INFO): Cuda memory 0.033170223236083984\n",
            " 12%|█▏        | 60/500 [00:25<03:09,  2.33it/s]2022-04-20 17:13:20 (INFO): \n",
            "Epoch: 60 Loss: 2.358157157897949 Statstics: {'logit_target': -2.5541234016418457, 'logit_best_non_target': -0.18816323578357697, 'confidence_target': 0.07776036680941241, 'confidence_non_target': 0.8284794587006625, 'margin': -0.7507190918912501}\n",
            "\n",
            "2022-04-20 17:13:20 (INFO): Gradient mean 0.18378500640392303 std 0.1098557859659195 with base learning rate 0.1\n",
            "2022-04-20 17:13:20 (INFO): Cuda memory 0.033170223236083984\n",
            " 16%|█▌        | 80/500 [00:34<02:59,  2.34it/s]2022-04-20 17:13:29 (INFO): \n",
            "Epoch: 80 Loss: 2.3573267459869385 Statstics: {'logit_target': -2.5463733673095703, 'logit_best_non_target': -0.18905960023403168, 'confidence_target': 0.07836535362807442, 'confidence_non_target': 0.8277371718954037, 'margin': -0.7493718182673293}\n",
            "\n",
            "2022-04-20 17:13:29 (INFO): Gradient mean 0.18313589692115784 std 0.10902084410190582 with base learning rate 0.1\n",
            "2022-04-20 17:13:29 (INFO): Cuda memory 0.03317070007324219\n",
            " 20%|██        | 100/500 [00:42<02:51,  2.33it/s]2022-04-20 17:13:38 (INFO): \n",
            "Epoch: 100 Loss: 2.357461452484131 Statstics: {'logit_target': -2.5462019443511963, 'logit_best_non_target': -0.18875829875469208, 'confidence_target': 0.07837878840030868, 'confidence_non_target': 0.8279866079056326, 'margin': -0.749607819505324}\n",
            "\n",
            "2022-04-20 17:13:38 (INFO): Gradient mean 0.1826080083847046 std 0.10407556593418121 with base learning rate 0.1\n",
            "2022-04-20 17:13:38 (INFO): Cuda memory 0.033170223236083984\n",
            " 24%|██▍       | 120/500 [00:51<02:43,  2.33it/s]2022-04-20 17:13:46 (INFO): \n",
            "Epoch: 120 Loss: 2.3584861755371094 Statstics: {'logit_target': -2.547010898590088, 'logit_best_non_target': -0.18857598304748535, 'confidence_target': 0.07831540918609137, 'confidence_non_target': 0.8281375766311775, 'margin': -0.7498221674450861}\n",
            "\n",
            "2022-04-20 17:13:46 (INFO): Gradient mean 0.18207064270973206 std 0.10114330798387527 with base learning rate 0.1\n",
            "2022-04-20 17:13:46 (INFO): Cuda memory 0.03316974639892578\n",
            " 28%|██▊       | 140/500 [01:00<02:33,  2.34it/s]2022-04-20 17:13:55 (INFO): \n",
            "Epoch: 140 Loss: 2.358410358428955 Statstics: {'logit_target': -2.547086000442505, 'logit_best_non_target': -0.18862178921699524, 'confidence_target': 0.07830952777464391, 'confidence_non_target': 0.8280996436897528, 'margin': -0.7497901159151088}\n",
            "\n",
            "2022-04-20 17:13:55 (INFO): Gradient mean 0.18302218616008759 std 0.10756152123212814 with base learning rate 0.1\n",
            "2022-04-20 17:13:55 (INFO): Cuda memory 0.033170223236083984\n",
            " 32%|███▏      | 160/500 [01:08<02:25,  2.33it/s]2022-04-20 17:14:03 (INFO): \n",
            "Epoch: 160 Loss: 2.3584606647491455 Statstics: {'logit_target': -2.547189950942993, 'logit_best_non_target': -0.1886775642633438, 'confidence_target': 0.07830138788311897, 'confidence_non_target': 0.8280534576817701, 'margin': -0.749752069798651}\n",
            "\n",
            "2022-04-20 17:14:03 (INFO): Gradient mean 0.1832321137189865 std 0.1092369556427002 with base learning rate 0.1\n",
            "2022-04-20 17:14:03 (INFO): Cuda memory 0.033170223236083984\n",
            " 36%|███▌      | 180/500 [01:17<02:18,  2.31it/s]2022-04-20 17:14:12 (INFO): \n",
            "Epoch: 180 Loss: 2.3585147857666016 Statstics: {'logit_target': -2.54731822013855, 'logit_best_non_target': -0.18875376880168915, 'confidence_target': 0.07829134487120253, 'confidence_non_target': 0.8279903586545488, 'margin': -0.7496990137833464}\n",
            "\n",
            "2022-04-20 17:14:12 (INFO): Gradient mean 0.18361306190490723 std 0.11065210402011871 with base learning rate 0.1\n",
            "2022-04-20 17:14:12 (INFO): Cuda memory 0.033170223236083984\n",
            " 40%|████      | 200/500 [01:25<02:08,  2.33it/s]2022-04-20 17:14:21 (INFO): \n",
            "Epoch: 200 Loss: 2.3585495948791504 Statstics: {'logit_target': -2.5533382892608643, 'logit_best_non_target': -0.18712648749351501, 'confidence_target': 0.07782144140821877, 'confidence_non_target': 0.8293388287610679, 'margin': -0.7515173873528491}\n",
            "\n",
            "2022-04-20 17:14:21 (INFO): Gradient mean 0.18365810811519623 std 0.11078524589538574 with base learning rate 0.1\n",
            "2022-04-20 17:14:21 (INFO): Cuda memory 0.033170223236083984\n",
            " 44%|████▍     | 220/500 [01:34<01:59,  2.33it/s]2022-04-20 17:14:29 (INFO): \n",
            "Epoch: 220 Loss: 2.3661949634552 Statstics: {'logit_target': -2.546828031539917, 'logit_best_non_target': -0.18840685486793518, 'confidence_target': 0.07832973180347964, 'confidence_non_target': 0.8282776498767628, 'margin': -0.7499479180732831}\n",
            "\n",
            "2022-04-20 17:14:29 (INFO): Gradient mean 0.18432223796844482 std 0.11102268099784851 with base learning rate 0.1\n",
            "2022-04-20 17:14:29 (INFO): Cuda memory 0.033170223236083984\n",
            " 48%|████▊     | 240/500 [01:43<01:51,  2.34it/s]2022-04-20 17:14:38 (INFO): \n",
            "Epoch: 240 Loss: 2.3584249019622803 Statstics: {'logit_target': -2.5469565391540527, 'logit_best_non_target': -0.18846403062343597, 'confidence_target': 0.07831966648327868, 'confidence_non_target': 0.8282302938301884, 'margin': -0.7499106273469097}\n",
            "\n",
            "2022-04-20 17:14:38 (INFO): Gradient mean 0.1831764280796051 std 0.11072075366973877 with base learning rate 0.1\n",
            "2022-04-20 17:14:38 (INFO): Cuda memory 0.033170223236083984\n",
            " 52%|█████▏    | 260/500 [01:51<01:42,  2.33it/s]2022-04-20 17:14:46 (INFO): \n",
            "Epoch: 260 Loss: 2.358499050140381 Statstics: {'logit_target': -2.547006607055664, 'logit_best_non_target': -0.18856067955493927, 'confidence_target': 0.07831574528008699, 'confidence_non_target': 0.8281502501253827, 'margin': -0.7498345048452957}\n",
            "\n",
            "2022-04-20 17:14:46 (INFO): Gradient mean 0.18349866569042206 std 0.11043836176395416 with base learning rate 0.1\n",
            "2022-04-20 17:14:46 (INFO): Cuda memory 0.03317070007324219\n",
            " 56%|█████▌    | 280/500 [02:00<01:34,  2.34it/s]2022-04-20 17:14:55 (INFO): \n",
            "Epoch: 280 Loss: 2.3584442138671875 Statstics: {'logit_target': -2.5471463203430176, 'logit_best_non_target': -0.1886407434940338, 'confidence_target': 0.07830480429418071, 'confidence_non_target': 0.8280839478084433, 'margin': -0.7497791435142626}\n",
            "\n",
            "2022-04-20 17:14:55 (INFO): Gradient mean 0.18332837522029877 std 0.11104746162891388 with base learning rate 0.1\n",
            "2022-04-20 17:14:55 (INFO): Cuda memory 0.033170223236083984\n",
            " 60%|██████    | 300/500 [02:08<01:25,  2.34it/s]2022-04-20 17:15:03 (INFO): \n",
            "Epoch: 300 Loss: 2.3585057258605957 Statstics: {'logit_target': -2.5472521781921387, 'logit_best_non_target': -0.18871763348579407, 'confidence_target': 0.0782965155547441, 'confidence_non_target': 0.8280202788883022, 'margin': -0.7497237633335581}\n",
            "\n",
            "2022-04-20 17:15:03 (INFO): Gradient mean 0.18368123471736908 std 0.11093980073928833 with base learning rate 0.1\n",
            "2022-04-20 17:15:03 (INFO): Cuda memory 0.03316974639892578\n",
            " 64%|██████▍   | 320/500 [02:17<01:16,  2.34it/s]2022-04-20 17:15:12 (INFO): \n",
            "Epoch: 320 Loss: 2.3585352897644043 Statstics: {'logit_target': -2.546950340270996, 'logit_best_non_target': -0.18885581195354462, 'confidence_target': 0.07832015197923702, 'confidence_non_target': 0.8279058722193502, 'margin': -0.7495857202401132}\n",
            "\n",
            "2022-04-20 17:15:12 (INFO): Gradient mean 0.1838570386171341 std 0.1108236312866211 with base learning rate 0.1\n",
            "2022-04-20 17:15:12 (INFO): Cuda memory 0.033170223236083984\n",
            " 68%|██████▊   | 340/500 [02:25<01:08,  2.33it/s]2022-04-20 17:15:21 (INFO): \n",
            "Epoch: 340 Loss: 2.358093500137329 Statstics: {'logit_target': -2.5532422065734863, 'logit_best_non_target': -0.18723048269748688, 'confidence_target': 0.07782891906067561, 'confidence_non_target': 0.8292525859849044, 'margin': -0.7514236669242288}\n",
            "\n",
            "2022-04-20 17:15:21 (INFO): Gradient mean 0.1838442087173462 std 0.11006047576665878 with base learning rate 0.1\n",
            "2022-04-20 17:15:21 (INFO): Cuda memory 0.033170223236083984\n",
            " 72%|███████▏  | 360/500 [02:34<01:00,  2.33it/s]2022-04-20 17:15:29 (INFO): \n",
            "Epoch: 360 Loss: 2.3660120964050293 Statstics: {'logit_target': -2.5469248294830322, 'logit_best_non_target': -0.18845829367637634, 'confidence_target': 0.07832215001351306, 'confidence_non_target': 0.828235045357167, 'margin': -0.7499128953436539}\n",
            "\n",
            "2022-04-20 17:15:29 (INFO): Gradient mean 0.1836961805820465 std 0.11074703186750412 with base learning rate 0.1\n",
            "2022-04-20 17:15:29 (INFO): Cuda memory 0.033170223236083984\n",
            " 76%|███████▌  | 380/500 [02:43<00:51,  2.33it/s]2022-04-20 17:15:38 (INFO): \n",
            "Epoch: 380 Loss: 2.3584673404693604 Statstics: {'logit_target': -2.546969175338745, 'logit_best_non_target': -0.18853382766246796, 'confidence_target': 0.0783186768277607, 'confidence_non_target': 0.82817248782541, 'margin': -0.7498538109976493}\n",
            "\n",
            "2022-04-20 17:15:38 (INFO): Gradient mean 0.18360553681850433 std 0.11082111299037933 with base learning rate 0.1\n",
            "2022-04-20 17:15:38 (INFO): Cuda memory 0.033170223236083984\n",
            " 80%|███████▉  | 399/500 [02:51<00:43,  2.33it/s]2022-04-20 17:15:46 (INFO): Loading search space of epoch 162 (margin=-0.7515183948596947) for fine tuning\n",
            "\n",
            " 80%|████████  | 400/500 [02:51<00:43,  2.32it/s]2022-04-20 17:15:46 (INFO): \n",
            "Epoch: 400 Loss: 2.3662173748016357 Statstics: {'logit_target': -2.5468263626098633, 'logit_best_non_target': -0.18840913474559784, 'confidence_target': 0.07832986253043224, 'confidence_non_target': 0.828275761507203, 'margin': -0.7499458989767707}\n",
            "\n",
            "2022-04-20 17:15:46 (INFO): Gradient mean 0.1838347315788269 std 0.11048135161399841 with base learning rate 0.1\n",
            "2022-04-20 17:15:46 (INFO): Cuda memory 0.03311586380004883\n",
            " 84%|████████▍ | 420/500 [03:00<00:34,  2.35it/s]2022-04-20 17:15:55 (INFO): \n",
            "Epoch: 420 Loss: 2.3580825328826904 Statstics: {'logit_target': -2.546975612640381, 'logit_best_non_target': -0.1888822615146637, 'confidence_target': 0.07831817266843696, 'confidence_non_target': 0.8278839747619724, 'margin': -0.7495658020935354}\n",
            "\n",
            "2022-04-20 17:15:55 (INFO): Gradient mean 0.18371367454528809 std 0.10991591215133667 with base learning rate 0.1\n",
            "2022-04-20 17:15:55 (INFO): Cuda memory 0.03311586380004883\n",
            " 88%|████████▊ | 440/500 [03:08<00:25,  2.35it/s]2022-04-20 17:16:03 (INFO): \n",
            "Epoch: 440 Loss: 2.3580923080444336 Statstics: {'logit_target': -2.546999931335449, 'logit_best_non_target': -0.18889135122299194, 'confidence_target': 0.07831626809583599, 'confidence_non_target': 0.8278764495723131, 'margin': -0.7495601814764771}\n",
            "\n",
            "2022-04-20 17:16:03 (INFO): Gradient mean 0.18373093008995056 std 0.10990536212921143 with base learning rate 0.1\n",
            "2022-04-20 17:16:03 (INFO): Cuda memory 0.03311586380004883\n",
            " 92%|█████████▏| 460/500 [03:17<00:16,  2.36it/s]2022-04-20 17:16:12 (INFO): \n",
            "Epoch: 460 Loss: 2.358096122741699 Statstics: {'logit_target': -2.5533547401428223, 'logit_best_non_target': -0.18714655935764313, 'confidence_target': 0.07782016118740277, 'confidence_non_target': 0.8293221825518416, 'margin': -0.7515020213644389}\n",
            "\n",
            "2022-04-20 17:16:12 (INFO): Gradient mean 0.1837547868490219 std 0.10989312827587128 with base learning rate 0.1\n",
            "2022-04-20 17:16:12 (INFO): Cuda memory 0.03311586380004883\n",
            " 96%|█████████▌| 480/500 [03:25<00:08,  2.35it/s]2022-04-20 17:16:20 (INFO): \n",
            "Epoch: 480 Loss: 2.358074426651001 Statstics: {'logit_target': -2.5469515323638916, 'logit_best_non_target': -0.18886972963809967, 'confidence_target': 0.07832005861439591, 'confidence_non_target': 0.8278943497667625, 'margin': -0.7495742911523665}\n",
            "\n",
            "2022-04-20 17:16:20 (INFO): Gradient mean 0.18369843065738678 std 0.10991642624139786 with base learning rate 0.1\n",
            "2022-04-20 17:16:20 (INFO): Cuda memory 0.03311586380004883\n",
            "100%|██████████| 500/500 [03:34<00:00,  2.33it/s]\n",
            "2022-04-20 17:16:32 (INFO): Cuda Memory before local evaluation on clean adjacency 0.03258085250854492\n",
            "2022-04-20 17:16:32 (INFO): Cuda Memory before local evaluation on perturbed adjacency 0.0326542854309082\n",
            "2022-04-20 17:16:32 (INFO): Evaluated model Vanilla GCN using LocalPRBCD with pert. edges for node 1734 and budget 2: \n",
            "2022-04-20 17:16:32 (INFO): {'label': 'Vanilla GCN', 'epsilon': 1, 'n_perturbations': 2, 'degree': 2, 'logits': [[-0.37015414237976074, 0.5524104833602905, -1.029008150100708, -1.6704071760177612, 2.8411176204681396, -1.1387066841125488, -1.052182912826538]], 'initial_logits': [[-0.19616949558258057, 2.7995667457580566, -1.8112800121307373, -2.007589340209961, 1.5429856777191162, -0.5008314847946167, -1.7975759506225586]], 'larget': 1, 'node_id': 1734, 'perturbed_edges': [[1734, 1734], [721, 1733]], 'logit_target': -2.4814798831939697, 'logit_best_non_target': -0.19277270138263702, 'confidence_target': 0.08361938705591865, 'confidence_non_target': 0.8246693990517755, 'margin': -0.7410500119958568, 'initial_logit_target': -0.3362499475479126, 'initial_logit_best_non_target': -1.592831015586853, 'initial_confidence_target': 0.7144445098438194, 'initial_confidence_non_target': 0.2033491115743417, 'initial_margin': 0.5110953982694777}\n",
            "2022-04-20 17:16:32 (INFO): Completed attack and evaluation of Vanilla GCN using LocalPRBCD with pert. edges for node 1734 and budget 2\n",
            "2022-04-20 17:16:32 (INFO): Original: Loss: -1.4076662063598633 Statstics: {'logit_target': -0.2735174596309662, 'logit_best_non_target': -1.6811836957931519, 'confidence_target': 0.7606990547151465, 'confidence_non_target': 0.18615349646413548, 'margin': 0.5745455582510111}\n",
            "\n",
            "  0%|          | 0/500 [00:00<?, ?it/s]2022-04-20 17:16:32 (INFO): Initial: Loss: -1.4076662063598633 Statstics: {'logit_target': -0.2735174596309662, 'logit_best_non_target': -1.6811836957931519, 'confidence_target': 0.7606990547151465, 'confidence_non_target': 0.18615349646413548, 'margin': 0.5745455582510111}\n",
            "\n",
            "2022-04-20 17:16:33 (INFO): \n",
            "Epoch: 0 Loss: -1.4076662063598633 Statstics: {'logit_target': -1.2025067806243896, 'logit_best_non_target': -0.5218026638031006, 'confidence_target': 0.30044012965188643, 'confidence_non_target': 0.5934497926940183, 'margin': -0.2930096630421319}\n",
            "\n",
            "2022-04-20 17:16:33 (INFO): Gradient mean 0.13279123604297638 std 0.08838889747858047 with base learning rate 0.15000000000000002\n",
            "2022-04-20 17:16:33 (INFO): Cuda memory 0.03316974639892578\n",
            "  4%|▍         | 20/500 [00:08<03:24,  2.35it/s]2022-04-20 17:16:41 (INFO): \n",
            "Epoch: 20 Loss: 2.0163180828094482 Statstics: {'logit_target': -2.2078351974487305, 'logit_best_non_target': -0.19208617508411407, 'confidence_target': 0.10993838599379965, 'confidence_non_target': 0.8252357506672064, 'margin': -0.7152973646734068}\n",
            "\n",
            "2022-04-20 17:16:41 (INFO): Gradient mean 0.0661364495754242 std 0.043668776750564575 with base learning rate 0.15000000000000002\n",
            "2022-04-20 17:16:41 (INFO): Cuda memory 0.03316974639892578\n",
            "  8%|▊         | 40/500 [00:17<03:16,  2.34it/s]2022-04-20 17:16:50 (INFO): \n",
            "Epoch: 40 Loss: 2.025186777114868 Statstics: {'logit_target': -2.2150769233703613, 'logit_best_non_target': -0.1895918995141983, 'confidence_target': 0.10914511811519484, 'confidence_non_target': 0.8272966852404021, 'margin': -0.7181515671252072}\n",
            "\n",
            "2022-04-20 17:16:50 (INFO): Gradient mean 0.06922006607055664 std 0.04367601126432419 with base learning rate 0.15000000000000002\n",
            "2022-04-20 17:16:50 (INFO): Cuda memory 0.033168792724609375\n",
            " 12%|█▏        | 60/500 [00:25<03:08,  2.34it/s]2022-04-20 17:16:58 (INFO): \n",
            "Epoch: 60 Loss: 2.0266337394714355 Statstics: {'logit_target': -2.2158024311065674, 'logit_best_non_target': -0.18905900418758392, 'confidence_target': 0.10906596120558039, 'confidence_non_target': 0.8277376652653518, 'margin': -0.7186717040597713}\n",
            "\n",
            "2022-04-20 17:16:58 (INFO): Gradient mean 0.07041535526514053 std 0.041549429297447205 with base learning rate 0.15000000000000002\n",
            "2022-04-20 17:16:58 (INFO): Cuda memory 0.033170223236083984\n",
            " 16%|█▌        | 80/500 [00:34<03:00,  2.33it/s]2022-04-20 17:17:07 (INFO): \n",
            "Epoch: 80 Loss: 2.0297956466674805 Statstics: {'logit_target': -2.2165348529815674, 'logit_best_non_target': -0.18872909247875214, 'confidence_target': 0.10898610815640523, 'confidence_non_target': 0.8280107906641201, 'margin': -0.7190246825077149}\n",
            "\n",
            "2022-04-20 17:17:07 (INFO): Gradient mean 0.07160012423992157 std 0.04311287775635719 with base learning rate 0.15000000000000002\n",
            "2022-04-20 17:17:07 (INFO): Cuda memory 0.03316974639892578\n",
            " 20%|██        | 100/500 [00:42<02:51,  2.34it/s]2022-04-20 17:17:15 (INFO): \n",
            "Epoch: 100 Loss: 2.030897855758667 Statstics: {'logit_target': -2.218809127807617, 'logit_best_non_target': -0.18788479268550873, 'confidence_target': 0.10873852543652444, 'confidence_non_target': 0.8287101752070478, 'margin': -0.7199716497705234}\n",
            "\n",
            "2022-04-20 17:17:15 (INFO): Gradient mean 0.07213500887155533 std 0.04316699504852295 with base learning rate 0.15000000000000002\n",
            "2022-04-20 17:17:15 (INFO): Cuda memory 0.033170223236083984\n",
            " 24%|██▍       | 120/500 [00:51<02:42,  2.34it/s]2022-04-20 17:17:24 (INFO): \n",
            "Epoch: 120 Loss: 2.0310544967651367 Statstics: {'logit_target': -2.2188708782196045, 'logit_best_non_target': -0.18778787553310394, 'confidence_target': 0.10873181099509174, 'confidence_non_target': 0.8287904953295336, 'margin': -0.7200586843344419}\n",
            "\n",
            "2022-04-20 17:17:24 (INFO): Gradient mean 0.07243248075246811 std 0.043235328048467636 with base learning rate 0.15000000000000002\n",
            "2022-04-20 17:17:24 (INFO): Cuda memory 0.03316974639892578\n",
            " 28%|██▊       | 140/500 [01:00<02:34,  2.33it/s]2022-04-20 17:17:33 (INFO): \n",
            "Epoch: 140 Loss: 2.03114652633667 Statstics: {'logit_target': -2.2188713550567627, 'logit_best_non_target': -0.18772858381271362, 'confidence_target': 0.10873175914773635, 'confidence_non_target': 0.8288396372006834, 'margin': -0.7201078780529471}\n",
            "\n",
            "2022-04-20 17:17:33 (INFO): Gradient mean 0.07264712452888489 std 0.04312640056014061 with base learning rate 0.15000000000000002\n",
            "2022-04-20 17:17:33 (INFO): Cuda memory 0.033170223236083984\n",
            " 32%|███▏      | 160/500 [01:08<02:26,  2.33it/s]2022-04-20 17:17:41 (INFO): \n",
            "Epoch: 160 Loss: 2.031158447265625 Statstics: {'logit_target': -2.2188358306884766, 'logit_best_non_target': -0.18769598007202148, 'confidence_target': 0.10873562184340221, 'confidence_non_target': 0.8288666609138248, 'margin': -0.7201310390704225}\n",
            "\n",
            "2022-04-20 17:17:41 (INFO): Gradient mean 0.07279578596353531 std 0.04327325522899628 with base learning rate 0.15000000000000002\n",
            "2022-04-20 17:17:41 (INFO): Cuda memory 0.033170223236083984\n",
            " 36%|███▌      | 180/500 [01:17<02:16,  2.34it/s]2022-04-20 17:17:50 (INFO): \n",
            "Epoch: 180 Loss: 2.0309739112854004 Statstics: {'logit_target': -2.2187256813049316, 'logit_best_non_target': -0.18771357834339142, 'confidence_target': 0.10874759966478034, 'confidence_non_target': 0.8288520744217455, 'margin': -0.7201044747569652}\n",
            "\n",
            "2022-04-20 17:17:50 (INFO): Gradient mean 0.0729554295539856 std 0.043228041380643845 with base learning rate 0.15000000000000002\n",
            "2022-04-20 17:17:50 (INFO): Cuda memory 0.03316974639892578\n",
            " 40%|████      | 200/500 [01:25<02:08,  2.34it/s]2022-04-20 17:17:58 (INFO): \n",
            "Epoch: 200 Loss: 2.0309860706329346 Statstics: {'logit_target': -2.218715190887451, 'logit_best_non_target': -0.18771307170391083, 'confidence_target': 0.10874874047848462, 'confidence_non_target': 0.8288524943510364, 'margin': -0.7201037538725518}\n",
            "\n",
            "2022-04-20 17:17:58 (INFO): Gradient mean 0.07284671068191528 std 0.04284142702817917 with base learning rate 0.15000000000000002\n",
            "2022-04-20 17:17:58 (INFO): Cuda memory 0.03316974639892578\n",
            " 44%|████▍     | 220/500 [01:34<01:59,  2.34it/s]2022-04-20 17:18:07 (INFO): \n",
            "Epoch: 220 Loss: 2.0310165882110596 Statstics: {'logit_target': -2.218710422515869, 'logit_best_non_target': -0.187706857919693, 'confidence_target': 0.10874925903412463, 'confidence_non_target': 0.8288576446775862, 'margin': -0.7201083856434616}\n",
            "\n",
            "2022-04-20 17:18:07 (INFO): Gradient mean 0.07287287712097168 std 0.04280124977231026 with base learning rate 0.15000000000000002\n",
            "2022-04-20 17:18:07 (INFO): Cuda memory 0.033170223236083984\n",
            " 48%|████▊     | 240/500 [01:42<01:51,  2.33it/s]2022-04-20 17:18:15 (INFO): \n",
            "Epoch: 240 Loss: 2.0309975147247314 Statstics: {'logit_target': -2.21870756149292, 'logit_best_non_target': -0.18770182132720947, 'confidence_target': 0.10874957016869552, 'confidence_non_target': 0.8288618193062821, 'margin': -0.7201122491375866}\n",
            "\n",
            "2022-04-20 17:18:15 (INFO): Gradient mean 0.07307910174131393 std 0.04317096620798111 with base learning rate 0.15000000000000002\n",
            "2022-04-20 17:18:15 (INFO): Cuda memory 0.033170223236083984\n",
            " 52%|█████▏    | 260/500 [01:51<01:42,  2.35it/s]2022-04-20 17:18:24 (INFO): \n",
            "Epoch: 260 Loss: 2.0310089588165283 Statstics: {'logit_target': -2.218687057495117, 'logit_best_non_target': -0.18770073354244232, 'confidence_target': 0.10875179999250338, 'confidence_non_target': 0.8288627209300337, 'margin': -0.7201109209375303}\n",
            "\n",
            "2022-04-20 17:18:24 (INFO): Gradient mean 0.07300306856632233 std 0.043228115886449814 with base learning rate 0.15000000000000002\n",
            "2022-04-20 17:18:24 (INFO): Cuda memory 0.033170223236083984\n",
            " 56%|█████▌    | 280/500 [02:00<01:34,  2.34it/s]2022-04-20 17:18:33 (INFO): \n",
            "Epoch: 280 Loss: 2.0310215950012207 Statstics: {'logit_target': -2.2187116146087646, 'logit_best_non_target': -0.1876951903104782, 'confidence_target': 0.10874912939498282, 'confidence_non_target': 0.8288673155210966, 'margin': -0.7201181861261138}\n",
            "\n",
            "2022-04-20 17:18:33 (INFO): Gradient mean 0.07304771989583969 std 0.04326093569397926 with base learning rate 0.15000000000000002\n",
            "2022-04-20 17:18:33 (INFO): Cuda memory 0.03316974639892578\n",
            " 60%|██████    | 300/500 [02:08<01:25,  2.34it/s]2022-04-20 17:18:41 (INFO): \n",
            "Epoch: 300 Loss: 2.0309886932373047 Statstics: {'logit_target': -2.2186880111694336, 'logit_best_non_target': -0.18769657611846924, 'confidence_target': 0.10875169627875432, 'confidence_non_target': 0.8288661668709432, 'margin': -0.7201144705921888}\n",
            "\n",
            "2022-04-20 17:18:41 (INFO): Gradient mean 0.0729728564620018 std 0.043174225836992264 with base learning rate 0.15000000000000002\n",
            "2022-04-20 17:18:41 (INFO): Cuda memory 0.03316974639892578\n",
            " 64%|██████▍   | 320/500 [02:17<01:17,  2.34it/s]2022-04-20 17:18:50 (INFO): \n",
            "Epoch: 320 Loss: 2.031019926071167 Statstics: {'logit_target': -2.2187068462371826, 'logit_best_non_target': -0.18769331276416779, 'confidence_target': 0.10874964795247734, 'confidence_non_target': 0.8288688717593277, 'margin': -0.7201192238068503}\n",
            "\n",
            "2022-04-20 17:18:50 (INFO): Gradient mean 0.0730547308921814 std 0.043135132640600204 with base learning rate 0.15000000000000002\n",
            "2022-04-20 17:18:50 (INFO): Cuda memory 0.033170223236083984\n",
            " 68%|██████▊   | 340/500 [02:25<01:08,  2.34it/s]2022-04-20 17:18:58 (INFO): \n",
            "Epoch: 340 Loss: 2.0309882164001465 Statstics: {'logit_target': -2.218716859817505, 'logit_best_non_target': -0.18769143521785736, 'confidence_target': 0.10874855898459479, 'confidence_non_target': 0.8288704280004806, 'margin': -0.7201218690158858}\n",
            "\n",
            "2022-04-20 17:18:58 (INFO): Gradient mean 0.07303550094366074 std 0.04317857325077057 with base learning rate 0.15000000000000002\n",
            "2022-04-20 17:18:58 (INFO): Cuda memory 0.033170223236083984\n",
            " 72%|███████▏  | 360/500 [02:34<00:59,  2.34it/s]2022-04-20 17:19:07 (INFO): \n",
            "Epoch: 360 Loss: 2.03098726272583 Statstics: {'logit_target': -2.218681812286377, 'logit_best_non_target': -0.1876954883337021, 'confidence_target': 0.10875237041989122, 'confidence_non_target': 0.8288670684994238, 'margin': -0.7201146980795325}\n",
            "\n",
            "2022-04-20 17:19:07 (INFO): Gradient mean 0.07305330783128738 std 0.04314428195357323 with base learning rate 0.15000000000000002\n",
            "2022-04-20 17:19:07 (INFO): Cuda memory 0.033170223236083984\n",
            " 76%|███████▌  | 380/500 [02:42<00:51,  2.34it/s]2022-04-20 17:19:15 (INFO): \n",
            "Epoch: 380 Loss: 2.031005382537842 Statstics: {'logit_target': -2.2186975479125977, 'logit_best_non_target': -0.18769322335720062, 'confidence_target': 0.10875065914670369, 'confidence_non_target': 0.8288689458659829, 'margin': -0.7201182867192792}\n",
            "\n",
            "2022-04-20 17:19:15 (INFO): Gradient mean 0.07306696474552155 std 0.04328124597668648 with base learning rate 0.15000000000000002\n",
            "2022-04-20 17:19:15 (INFO): Cuda memory 0.03316974639892578\n",
            " 80%|███████▉  | 399/500 [02:51<00:43,  2.32it/s]2022-04-20 17:19:24 (INFO): Loading search space of epoch 169 (margin=-0.7201441204776845) for fine tuning\n",
            "\n",
            " 80%|████████  | 400/500 [02:51<00:42,  2.33it/s]2022-04-20 17:19:24 (INFO): \n",
            "Epoch: 400 Loss: 2.0311708450317383 Statstics: {'logit_target': -2.218846082687378, 'logit_best_non_target': -0.18768195807933807, 'confidence_target': 0.10873450709164076, 'confidence_non_target': 0.8288782833575644, 'margin': -0.7201437762659236}\n",
            "\n",
            "2022-04-20 17:19:24 (INFO): Gradient mean 0.0724412053823471 std 0.04119012504816055 with base learning rate 0.15000000000000002\n",
            "2022-04-20 17:19:24 (INFO): Cuda memory 0.03311586380004883\n",
            " 84%|████████▍ | 420/500 [03:00<00:34,  2.35it/s]2022-04-20 17:19:33 (INFO): \n",
            "Epoch: 420 Loss: 2.030988931655884 Statstics: {'logit_target': -2.2187230587005615, 'logit_best_non_target': -0.1877128779888153, 'confidence_target': 0.10874788486708445, 'confidence_non_target': 0.828852654912292, 'margin': -0.7201047700452076}\n",
            "\n",
            "2022-04-20 17:19:33 (INFO): Gradient mean 0.07255444675683975 std 0.04116623103618622 with base learning rate 0.15000000000000002\n",
            "2022-04-20 17:19:33 (INFO): Cuda memory 0.03311586380004883\n",
            " 88%|████████▊ | 440/500 [03:08<00:25,  2.35it/s]2022-04-20 17:19:41 (INFO): \n",
            "Epoch: 440 Loss: 2.0309982299804688 Statstics: {'logit_target': -2.2187185287475586, 'logit_best_non_target': -0.1877150535583496, 'confidence_target': 0.10874837749100785, 'confidence_non_target': 0.828850851687669, 'margin': -0.7201024741966612}\n",
            "\n",
            "2022-04-20 17:19:41 (INFO): Gradient mean 0.07256367802619934 std 0.04116386920213699 with base learning rate 0.15000000000000002\n",
            "2022-04-20 17:19:41 (INFO): Cuda memory 0.03311586380004883\n",
            " 92%|█████████▏| 460/500 [03:17<00:17,  2.35it/s]2022-04-20 17:19:50 (INFO): \n",
            "Epoch: 460 Loss: 2.031010627746582 Statstics: {'logit_target': -2.2187247276306152, 'logit_best_non_target': -0.18771494925022125, 'confidence_target': 0.10874770337462257, 'confidence_non_target': 0.8288509381435546, 'margin': -0.720103234768932}\n",
            "\n",
            "2022-04-20 17:19:50 (INFO): Gradient mean 0.0725705623626709 std 0.04116220027208328 with base learning rate 0.15000000000000002\n",
            "2022-04-20 17:19:50 (INFO): Cuda memory 0.03311586380004883\n",
            " 96%|█████████▌| 480/500 [03:25<00:08,  2.36it/s]2022-04-20 17:19:58 (INFO): \n",
            "Epoch: 480 Loss: 2.031008243560791 Statstics: {'logit_target': -2.2187182903289795, 'logit_best_non_target': -0.18771584331989288, 'confidence_target': 0.10874840341864458, 'confidence_non_target': 0.8288501970933998, 'margin': -0.7201017936747552}\n",
            "\n",
            "2022-04-20 17:19:58 (INFO): Gradient mean 0.07257591187953949 std 0.04116130620241165 with base learning rate 0.15000000000000002\n",
            "2022-04-20 17:19:58 (INFO): Cuda memory 0.03311586380004883\n",
            "100%|██████████| 500/500 [03:34<00:00,  2.34it/s]\n",
            "2022-04-20 17:20:09 (INFO): Cuda Memory before local evaluation on clean adjacency 0.03258085250854492\n",
            "2022-04-20 17:20:09 (INFO): Cuda Memory before local evaluation on perturbed adjacency 0.0326542854309082\n",
            "2022-04-20 17:20:10 (INFO): Evaluated model Vanilla GCN using LocalPRBCD with pert. edges for node 527 and budget 3: \n",
            "2022-04-20 17:20:10 (INFO): {'label': 'Vanilla GCN', 'epsilon': 1, 'n_perturbations': 3, 'degree': 3, 'logits': [[-1.038983941078186, -0.5425638556480408, -1.3362653255462646, 1.1874476671218872, 3.1352877616882324, -1.70762038230896, -1.3102214336395264]], 'initial_logits': [[-0.32708218693733215, -1.0009610652923584, -1.7267897129058838, 3.153526782989502, 1.7458605766296387, -1.7637207508087158, -1.6176812648773193]], 'larget': 3, 'node_id': 527, 'perturbed_edges': [[527, 527, 527], [636, 904, 2231]], 'logit_target': -2.1419997215270996, 'logit_best_non_target': -0.19415965676307678, 'confidence_target': 0.11741980118685501, 'confidence_non_target': 0.8235264122107762, 'margin': -0.7061066110239211, 'initial_logit_target': -0.2735174596309662, 'initial_logit_best_non_target': -1.6811836957931519, 'initial_confidence_target': 0.7606990547151465, 'initial_confidence_non_target': 0.18615349646413548, 'initial_margin': 0.5745455582510111}\n",
            "2022-04-20 17:20:10 (INFO): Completed attack and evaluation of Vanilla GCN using LocalPRBCD with pert. edges for node 527 and budget 3\n"
          ]
        }
      ]
    },
    {
      "cell_type": "code",
      "source": [
        "n_change = 0\n",
        "for node in local_prbcd_statistics['results']:\n",
        "    if node['margin'] < 0:\n",
        "        n_change += 1\n",
        "flipped_ratio =  n_change / len(local_prbcd_statistics['results'])\n",
        "print(f'Percentage of changed node predictions : {100*flipped_ratio:.2f}%')"
      ],
      "metadata": {
        "colab": {
          "base_uri": "https://localhost:8080/"
        },
        "id": "Saio7dZwlulQ",
        "outputId": "87df7551-21ec-4acb-fe03-96b52175dac4"
      },
      "execution_count": null,
      "outputs": [
        {
          "output_type": "stream",
          "name": "stdout",
          "text": [
            "Percentage of changed node predictions : 100.00%\n"
          ]
        }
      ]
    },
    {
      "cell_type": "markdown",
      "source": [
        "### 2.2 Global PR-BCD Attack\n",
        "\n",
        "Now let's do the same with a non-local `PR-BCD` attack. For this, we use [experiments/experiment_global_attack_direct.py](https://github.com/sigeisler/robustness_of_gnns_at_scale/blob/main/experiments/experiment_global_attack_direct.py#L63)."
      ],
      "metadata": {
        "id": "UMtpxI6cCkwz"
      }
    },
    {
      "cell_type": "code",
      "source": [
        "global_prbcd_statistics = experiment_global_attack_direct.run(\n",
        "    data_dir = './data',\n",
        "    dataset = 'cora_ml',\n",
        "    attack = 'PRBCD',\n",
        "    attack_params = dict(\n",
        "        epochs=500,\n",
        "        fine_tune_epochs=100,\n",
        "        keep_heuristic=\"WeightOnly\",\n",
        "        search_space_size=100_000,\n",
        "        do_synchronize=True,\n",
        "        loss_type=\"tanhMargin\",\n",
        "    ),\n",
        "    epsilons = [0.25],\n",
        "    binary_attr = False,\n",
        "    make_undirected = True,\n",
        "    seed=0,\n",
        "    artifact_dir = 'cache',\n",
        "    pert_adj_storage_type = 'evasion_global_adj',\n",
        "    pert_attr_storage_type = 'evasion_global_attr',\n",
        "    model_label = 'Vanilla GCN',\n",
        "    model_storage_type = 'demo',\n",
        "    device = 0,\n",
        "    data_device = 0,\n",
        "    debug_level = \"info\"\n",
        ")\n",
        "\n",
        "print(global_prbcd_statistics)"
      ],
      "metadata": {
        "colab": {
          "base_uri": "https://localhost:8080/"
        },
        "id": "NdZaHYI8Had1",
        "outputId": "a7ae6789-4241-432f-ea5d-8a4dd9f268c1"
      },
      "execution_count": null,
      "outputs": [
        {
          "output_type": "stream",
          "name": "stderr",
          "text": [
            "2022-04-20 17:20:10 (INFO): {'dataset': 'cora_ml', 'attack': 'PRBCD', 'attack_params': {'epochs': 500, 'fine_tune_epochs': 100, 'keep_heuristic': 'WeightOnly', 'search_space_size': 100000, 'do_synchronize': True, 'loss_type': 'tanhMargin'}, 'epsilons': [0.25], 'make_undirected': True, 'binary_attr': False, 'seed': 0, 'artifact_dir': 'cache', 'pert_adj_storage_type': 'evasion_global_adj', 'pert_attr_storage_type': 'evasion_global_attr', 'model_label': 'Vanilla GCN', 'model_storage_type': 'demo', 'device': 0, 'data_device': 0}\n",
            "2022-04-20 17:20:10 (INFO): Lock 139753343279952 acquired on cache/demo.json.lock\n",
            "2022-04-20 17:20:10 (INFO): Lock 139753343279952 released on cache/demo.json.lock\n",
            "2022-04-20 17:20:10 (INFO): Evaluate  PRBCD for model 'Vanilla GCN'.\n",
            "2022-04-20 17:20:10 (INFO): Lock 139753348178960 acquired on cache/evasion_global_adj.json.lock\n",
            "2022-04-20 17:20:10 (INFO): Lock 139753348178960 released on cache/evasion_global_adj.json.lock\n",
            "2022-04-20 17:20:10 (INFO): Lock 139753343380240 acquired on cache/evasion_global_attr.json.lock\n",
            "2022-04-20 17:20:10 (INFO): Lock 139753343380240 released on cache/evasion_global_attr.json.lock\n",
            "2022-04-20 17:20:10 (INFO): No cached perturbations found for model 'Vanilla GCN' and eps 0.25. Execute attack...\n",
            "/content/robustness_of_gnns_at_scale/rgnn_at_scale/attacks/prbcd.py:390: UserWarning: __floordiv__ is deprecated, and its behavior will change in a future version of pytorch. It currently rounds toward 0 (like the 'trunc' function NOT 'floor'). This results in incorrect rounding for negative values. To keep the current behavior, use torch.div(a, b, rounding_mode='trunc'), or for actual floor division, use torch.div(a, b, rounding_mode='floor').\n",
            "  + (n - row_idx) * ((n - row_idx) - 1) // 2\n",
            "2022-04-20 17:20:10 (INFO): \n",
            "Before the attack - Loss: -0.6328519582748413 Accuracy: 81.897 %\n",
            "\n",
            "  0%|          | 0/500 [00:00<?, ?it/s]2022-04-20 17:20:10 (INFO): \n",
            "Epoch: 0 Loss: -0.6328585743904114 Accuracy: 79.842 %\n",
            "\n",
            "  4%|▍         | 20/500 [00:09<03:41,  2.17it/s]2022-04-20 17:20:20 (INFO): \n",
            "Epoch: 20 Loss: -0.22307348251342773 Accuracy: 59.684 %\n",
            "\n",
            "  8%|▊         | 40/500 [00:18<03:34,  2.15it/s]2022-04-20 17:20:29 (INFO): \n",
            "Epoch: 40 Loss: -0.14409580826759338 Accuracy: 55.850 %\n",
            "\n",
            " 12%|█▏        | 60/500 [00:27<03:25,  2.14it/s]2022-04-20 17:20:38 (INFO): \n",
            "Epoch: 60 Loss: -0.10556499660015106 Accuracy: 53.874 %\n",
            "\n",
            " 16%|█▌        | 80/500 [00:37<03:15,  2.15it/s]2022-04-20 17:20:48 (INFO): \n",
            "Epoch: 80 Loss: -0.0825229361653328 Accuracy: 52.806 %\n",
            "\n",
            " 20%|██        | 100/500 [00:46<03:06,  2.15it/s]2022-04-20 17:20:57 (INFO): \n",
            "Epoch: 100 Loss: -0.06486526876688004 Accuracy: 51.739 %\n",
            "\n",
            " 24%|██▍       | 120/500 [00:55<02:56,  2.15it/s]2022-04-20 17:21:06 (INFO): \n",
            "Epoch: 120 Loss: -0.05522513762116432 Accuracy: 51.462 %\n",
            "\n",
            " 28%|██▊       | 140/500 [01:05<02:46,  2.16it/s]2022-04-20 17:21:15 (INFO): \n",
            "Epoch: 140 Loss: -0.047237370163202286 Accuracy: 51.107 %\n",
            "\n",
            " 32%|███▏      | 160/500 [01:14<02:37,  2.16it/s]2022-04-20 17:21:25 (INFO): \n",
            "Epoch: 160 Loss: -0.040592119097709656 Accuracy: 50.830 %\n",
            "\n",
            " 36%|███▌      | 180/500 [01:23<02:28,  2.15it/s]2022-04-20 17:21:34 (INFO): \n",
            "Epoch: 180 Loss: -0.034754399210214615 Accuracy: 50.553 %\n",
            "\n",
            " 40%|████      | 200/500 [01:32<02:19,  2.16it/s]2022-04-20 17:21:43 (INFO): \n",
            "Epoch: 200 Loss: -0.03062034584581852 Accuracy: 50.474 %\n",
            "\n",
            " 44%|████▍     | 220/500 [01:42<02:10,  2.15it/s]2022-04-20 17:21:53 (INFO): \n",
            "Epoch: 220 Loss: -0.02545083872973919 Accuracy: 50.158 %\n",
            "\n",
            " 48%|████▊     | 240/500 [01:51<02:00,  2.16it/s]2022-04-20 17:22:02 (INFO): \n",
            "Epoch: 240 Loss: -0.0212431401014328 Accuracy: 50.040 %\n",
            "\n",
            " 52%|█████▏    | 260/500 [02:00<01:51,  2.15it/s]2022-04-20 17:22:11 (INFO): \n",
            "Epoch: 260 Loss: -0.01878266967833042 Accuracy: 50.040 %\n",
            "\n",
            " 56%|█████▌    | 280/500 [02:10<01:42,  2.15it/s]2022-04-20 17:22:21 (INFO): \n",
            "Epoch: 280 Loss: -0.015112004242837429 Accuracy: 49.842 %\n",
            "\n",
            " 60%|██████    | 300/500 [02:19<01:33,  2.15it/s]2022-04-20 17:22:30 (INFO): \n",
            "Epoch: 300 Loss: -0.012265353463590145 Accuracy: 49.763 %\n",
            "\n",
            " 64%|██████▍   | 320/500 [02:28<01:23,  2.15it/s]2022-04-20 17:22:39 (INFO): \n",
            "Epoch: 320 Loss: -0.00933982152491808 Accuracy: 49.605 %\n",
            "\n",
            " 68%|██████▊   | 340/500 [02:37<01:14,  2.15it/s]2022-04-20 17:22:48 (INFO): \n",
            "Epoch: 340 Loss: -0.0069371541030704975 Accuracy: 49.486 %\n",
            "\n",
            " 72%|███████▏  | 360/500 [02:47<01:04,  2.16it/s]2022-04-20 17:22:58 (INFO): \n",
            "Epoch: 360 Loss: -0.0027672688011080027 Accuracy: 49.249 %\n",
            "\n",
            " 76%|███████▌  | 380/500 [02:56<00:55,  2.15it/s]2022-04-20 17:23:07 (INFO): \n",
            "Epoch: 380 Loss: -0.0014131824718788266 Accuracy: 49.209 %\n",
            "\n",
            " 80%|███████▉  | 399/500 [03:05<00:46,  2.16it/s]2022-04-20 17:23:16 (INFO): Loading search space of epoch 382 (accuarcy=0.49169960618019104) for fine tuning\n",
            "\n",
            " 80%|████████  | 400/500 [03:05<00:46,  2.16it/s]2022-04-20 17:23:16 (INFO): \n",
            "Epoch: 400 Loss: -0.0012572872219607234 Accuracy: 49.170 %\n",
            "\n",
            " 84%|████████▍ | 420/500 [03:15<00:36,  2.17it/s]2022-04-20 17:23:26 (INFO): \n",
            "Epoch: 420 Loss: -0.0009460365981794894 Accuracy: 49.170 %\n",
            "\n",
            " 88%|████████▊ | 440/500 [03:24<00:27,  2.19it/s]2022-04-20 17:23:35 (INFO): \n",
            "Epoch: 440 Loss: -0.0007964741089381278 Accuracy: 49.170 %\n",
            "\n",
            " 92%|█████████▏| 460/500 [03:33<00:18,  2.18it/s]2022-04-20 17:23:44 (INFO): \n",
            "Epoch: 460 Loss: -0.0006441071163862944 Accuracy: 49.170 %\n",
            "\n",
            " 96%|█████████▌| 480/500 [03:42<00:09,  2.17it/s]2022-04-20 17:23:53 (INFO): \n",
            "Epoch: 480 Loss: -0.0005316896131262183 Accuracy: 49.170 %\n",
            "\n",
            "100%|██████████| 500/500 [03:51<00:00,  2.16it/s]\n",
            "2022-04-20 17:24:02 (INFO): 2-th sampling: too many samples 2025.0\n",
            "2022-04-20 17:24:02 (INFO): 3-th sampling: too many samples 2007.0\n",
            "2022-04-20 17:24:02 (INFO): 4-th sampling: too many samples 2013.0\n",
            "2022-04-20 17:24:02 (INFO): 5-th sampling: too many samples 2022.0\n",
            "2022-04-20 17:24:02 (INFO): 6-th sampling: too many samples 2002.0\n",
            "2022-04-20 17:24:02 (INFO): 7-th sampling: too many samples 2032.0\n",
            "2022-04-20 17:24:02 (INFO): 8-th sampling: too many samples 2038.0\n",
            "2022-04-20 17:24:02 (INFO): 9-th sampling: too many samples 2012.0\n",
            "2022-04-20 17:24:02 (INFO): 10-th sampling: too many samples 2010.0\n",
            "2022-04-20 17:24:02 (INFO): 12-th sampling: too many samples 2027.0\n",
            "2022-04-20 17:24:02 (INFO): 13-th sampling: too many samples 1998.0\n",
            "2022-04-20 17:24:03 (INFO): 17-th sampling: too many samples 2003.0\n",
            "2022-04-20 17:24:03 (INFO): 18-th sampling: too many samples 2030.0\n",
            "2022-04-20 17:24:03 (INFO): Lock 139753358798800 acquired on cache/evasion_global_adj.json.lock\n",
            "2022-04-20 17:24:03 (INFO): Lock 139753358798800 released on cache/evasion_global_adj.json.lock\n",
            "2022-04-20 17:24:03 (INFO): Lock 139753358798800 acquired on cache/evasion_global_attr.json.lock\n",
            "2022-04-20 17:24:03 (INFO): Lock 139753358798800 released on cache/evasion_global_attr.json.lock\n"
          ]
        },
        {
          "output_type": "stream",
          "name": "stdout",
          "text": [
            "{'results': [{'label': 'Vanilla GCN', 'epsilon': 0.25, 'accuracy': 0.522529661655426}]}\n"
          ]
        }
      ]
    },
    {
      "cell_type": "code",
      "source": [
        "perturbed_acc = global_prbcd_statistics[\"results\"][0]['accuracy']\n",
        "print(f'Clean accuracy: {100*clean_acc:.2f}%; Accuracy after global PRBCD attack: {100*perturbed_acc:.2f}%')"
      ],
      "metadata": {
        "colab": {
          "base_uri": "https://localhost:8080/"
        },
        "id": "UQwlL5mnkXHO",
        "outputId": "03150aca-0629-443b-c494-a01bdd06b653"
      },
      "execution_count": null,
      "outputs": [
        {
          "output_type": "stream",
          "name": "stdout",
          "text": [
            "Clean accuracy: 81.90%; Accuracy after global PRBCD attack: 52.25%\n"
          ]
        }
      ]
    }
  ]
}