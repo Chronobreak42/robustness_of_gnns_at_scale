{
 "cells": [
  {
   "cell_type": "code",
   "execution_count": null,
   "metadata": {},
   "outputs": [],
   "source": [
    "import seml\n",
    "import pandas as pd\n",
    "from run_seml import run\n",
    "from matplotlib import pyplot as plt\n",
    "\n",
    "pd.set_option('display.max_columns', 50)\n",
    "pd.set_option('display.max_rows', 120)"
   ]
  },
  {
   "cell_type": "code",
   "execution_count": null,
   "metadata": {},
   "outputs": [],
   "source": [
    "%load_ext autoreload\n",
    "%autoreload 2"
   ]
  },
  {
   "cell_type": "code",
   "execution_count": null,
   "metadata": {
    "tags": []
   },
   "outputs": [],
   "source": [
    "seml_results = seml.get_results('rgnn_rpprgo_papers100M', to_data_frame=True,\n",
    "                                  fields=['batch_id', 'slurm', 'config', 'result'])"
   ]
  },
  {
   "cell_type": "code",
   "execution_count": null,
   "metadata": {},
   "outputs": [],
   "source": [
    "len(seml_results)"
   ]
  },
  {
   "cell_type": "code",
   "execution_count": null,
   "metadata": {},
   "outputs": [],
   "source": [
    "relevant_columns = [#'_id', \n",
    "       'config.model_params.label',\n",
    "       'config.model_params.model',\n",
    "       'config.dataset', \n",
    "       'config.seed',\n",
    "        'config.model_params.mean',\n",
    "       'result.accuracy',\n",
    "        'config.model_params.hidden_size',\n",
    "        'config.model_params.nlayers',\n",
    "       #'config.model_params.n_filters',\n",
    "       #'config.model_params.gdc_params', \n",
    "       #'config.model_params.svd_params',\n",
    "       #'config.model_params.jaccard_params',\n",
    "        'config.model_params.dropout', \n",
    "        'config.model_params.alpha',\n",
    "        'config.model_params.eps',\n",
    "        'config.model_params.topk', \n",
    "       'config.model_params.mean_kwargs.temperature',\n",
    "       #'config.model_params.mean_kwargs.k',\n",
    "       #'config.model_params.mean_kwargs.with_weight_correction',\n",
    "       #'config.model_params.do_cache_adj_prep', \n",
    "       \"config.normalize\",\n",
    "       'config.model_params.ppr_normalization',\n",
    "       'config.train_params.lr',\n",
    "       'config.train_params.weight_decay', 'config.train_params.patience',\n",
    "       #'config.train_params.max_epochs', 'config.train_params.batch_mult_val',\n",
    "       #'config.train_params.batch_size', 'config.binary_attr', \n",
    "       #'config.artifact_dir', 'config.model_storage_type', 'config.device',\n",
    "       #'config.display_steps', 'config.data_device', 'config.data_dir',\n",
    "       # 'result.trace_val', 'result.trace_train',\n",
    "       #'result.model_path'\n",
    "       ]\n",
    "seml_results.columns"
   ]
  },
  {
   "cell_type": "code",
   "execution_count": null,
   "metadata": {},
   "outputs": [],
   "source": [
    "seml_results[relevant_columns].sort_values(\"result.accuracy\", ascending=False) "
   ]
  },
  {
   "cell_type": "code",
   "execution_count": null,
   "metadata": {},
   "outputs": [],
   "source": [
    "groups = [\n",
    "\"config.dataset\",\n",
    "'config.model_params.label',\n",
    "\"config.model_params.model\",\n",
    "#\"alpha.quantile\",\n",
    "#\"config.model_params.mean\",\n",
    "#'config.model_params.mean_kwargs.temperature',\n",
    "#\"config.model_params.n_filters\",\n",
    "#\"config.binary_attr\",\n",
    "#\"config.normalize\",\n",
    "\"config.model_params.ppr_normalization\",\n",
    "#\"config.model_params.hidden_size\",\n",
    "#\"config.model_params.nlayers\",\n",
    "\"config.model_params.dropout\",\n",
    "\"config.model_params.alpha\",\n",
    "#\"config.model_params.topk\",\n",
    "#\"config.model_params.eps\",\n",
    "#\"config.train_params.lr\",\n",
    "#\"config.train_params.weight_decay\",\n",
    "]\n",
    "# seml_results = seml_results[seml_results[\"config.binary_attr\"]==False]\n",
    "# seml_results = seml_results[seml_results[\"config.normalize\"]==False]\n",
    "#seml_results = seml_results[seml_results['config.model_params.mean_kwargs.temperature']!=5.0]\n",
    "seml_results = seml_results[seml_results['config.train_params.weight_decay']!=0.05]\n",
    "#seml_results = seml_results[seml_results['config.model_params.label']==\"Vanilla PPRGo\"]\n",
    "seml_results[\"config.model_params.mean_kwargs.temperature\"].fillna(0.0, inplace=True)\n",
    "seml_results[\"config.model_params.mean\"].fillna(\"None\", inplace=True)\n",
    "#seml_results['alpha.quantile'] = pd.qcut(seml_results['config.model_params.alpha'], q=15, precision=0)\n",
    "\n",
    "# condition = (seml_results['config.model_params.mean'] == \"soft_k_medoid\") \\\n",
    "#             & (seml_results['config.model_params.mean_kwargs.temperature'] == 0.2)\n",
    "# seml_results.loc[condition, \"config.model_params.label\"] = \"Soft Medoid RPPRGo (T=0.2)\"\n",
    "\n",
    "# condition = (seml_results['config.model_params.mean'] == \"soft_median\") \\\n",
    "#             & (seml_results['config.model_params.mean_kwargs.temperature'] == 0.2)\n",
    "# seml_results.loc[condition, \"config.model_params.label\"] = \"Soft Median  RPPRGo (T=0.2)\"\n",
    "\n",
    "seml_results.groupby(groups).mean()[[\"result.accuracy\"]]"
   ]
  },
  {
   "cell_type": "code",
   "execution_count": null,
   "metadata": {},
   "outputs": [],
   "source": [
    "seml_results[\"config.model_params.label\"].unique()"
   ]
  },
  {
   "cell_type": "code",
   "execution_count": null,
   "metadata": {},
   "outputs": [],
   "source": [
    "cora_results = seml_results[list(seml_results[\"config.dataset\"] == \"cora_ml\")]\n",
    "citeseer_results = seml_results[list(seml_results[\"config.dataset\"] == \"citeseer\")]"
   ]
  },
  {
   "cell_type": "code",
   "execution_count": null,
   "metadata": {},
   "outputs": [],
   "source": [
    "\n",
    "cora_median_results = cora_results[cora_results[\"config.model_params.mean\"] == \"soft_median\"]\n",
    "cora_mediod_results = cora_results[cora_results[\"config.model_params.mean\"] == \"soft_k_medoid\"]\n",
    "\n",
    "citeseer_median_results = citeseer_results[citeseer_results[\"config.model_params.mean\"] == \"soft_median\"]\n",
    "citeseer_mediod_results = citeseer_results[citeseer_results[\"config.model_params.mean\"] == \"soft_k_medoid\"]\n",
    "\n",
    "len(cora_median_results),len(cora_mediod_results),len(citeseer_median_results),len(citeseer_mediod_results)                    "
   ]
  },
  {
   "cell_type": "code",
   "execution_count": null,
   "metadata": {},
   "outputs": [],
   "source": [
    "metric = \"result.accuracy\"\n",
    "treshold = 1e-6\n",
    "model_labels = seml_results[\"config.model_params.label\"].unique()\n",
    "best_results = None\n",
    "for label in model_labels:\n",
    "    bylabel_results = seml_results[seml_results[\"config.model_params.label\"] == label]\n",
    "    if best_results is None:\n",
    "        best_results = bylabel_results[bylabel_results[metric].max() - bylabel_results[metric] <= treshold]\n",
    "    else:\n",
    "        best_results = pd.concat([\n",
    "            best_results,\n",
    "            bylabel_results[bylabel_results[metric].max() - bylabel_results[metric] <= treshold]])\n",
    "            \n",
    "best_results[relevant_columns].sort_values([\"config.model_params.label\",metric]).drop_duplicates()"
   ]
  },
  {
   "cell_type": "code",
   "execution_count": null,
   "metadata": {},
   "outputs": [],
   "source": [
    "metric = \"result.accuracy\"\n",
    "treshold = 1e-2\n",
    "best_results = cora_median_results[cora_median_results[metric].max() - cora_median_results[metric] <= treshold]\n",
    "\n",
    "best_results = pd.concat([\n",
    "    best_results,\n",
    "    cora_mediod_results[cora_mediod_results[metric].max() - cora_mediod_results[metric] <= treshold]])\n",
    "    \n",
    "best_results = pd.concat([\n",
    "    best_results,\n",
    "    citeseer_median_results[citeseer_median_results[metric].max() - citeseer_median_results[metric]<= treshold]])\n",
    "\n",
    "best_results = pd.concat([\n",
    "    best_results,\n",
    "    citeseer_mediod_results[citeseer_mediod_results[metric].max() - citeseer_mediod_results[metric] <= treshold]])\n",
    "\n",
    "#best_results[relevant_columns]"
   ]
  },
  {
   "cell_type": "code",
   "execution_count": null,
   "metadata": {},
   "outputs": [],
   "source": [
    "print(best_results[relevant_columns].to_markdown())"
   ]
  },
  {
   "cell_type": "code",
   "execution_count": null,
   "metadata": {},
   "outputs": [],
   "source": [
    "def epoch_mean(trace, epoch_num):\n",
    "    epoch_mean = list()\n",
    "    batches_per_epoch = int(len(trace) / epoch_num)\n",
    "    for i in range(epoch_num):\n",
    "        epoch_mean.append(sum(trace[i * batches_per_epoch:(i+1) * batches_per_epoch]) / batches_per_epoch)\n",
    "    return epoch_mean"
   ]
  },
  {
   "cell_type": "code",
   "execution_count": null,
   "metadata": {},
   "outputs": [],
   "source": [
    "ids = [26, 30, 34, 28, 32]#list(range(12, 18))#[2,0,10,4,8]\n",
    "ids"
   ]
  },
  {
   "cell_type": "code",
   "execution_count": null,
   "metadata": {},
   "outputs": [],
   "source": [
    "import matplotlib.pyplot as plt\n",
    "\n",
    "fig, axs = plt.subplots(2,2, figsize=(25, 20))\n",
    "max_epoch_plot = 30\n",
    "for i in ids:\n",
    "    exp = seml_results.loc[i]\n",
    "    exp_id = exp[\"_id\"]\n",
    "    lr = exp[\"config.train_params.lr\"]\n",
    "    weight_decay = exp[\"config.train_params.weight_decay\"]\n",
    "    alpha = exp[\"config.model_params.alpha\"]\n",
    "    nlayers = exp[\"config.model_params.nlayers\"]\n",
    "    hidden_size = exp[\"config.model_params.hidden_size\"]\n",
    "    temperature = exp[\"config.model_params.mean_kwargs.temperature\"]\n",
    "    dropout = exp[\"config.model_params.dropout\"]\n",
    "    name_suffix = f\"ID{i:04d} LR{lr:.0e} WD{weight_decay:.0e} A{alpha:.02} L{nlayers} H{hidden_size:03d} T{temperature:.0e} D{dropout:.0e}\"\n",
    "\n",
    "    epoch_num = exp[\"config.train_params.max_epochs\"]\n",
    "    val_loss = epoch_mean(exp[\"result.trace_val.loss\"], epoch_num)\n",
    "    val_acc = epoch_mean(exp[\"result.trace_val.acc\"], epoch_num)\n",
    "    train_loss = epoch_mean(exp[\"result.trace_train.loss\"], epoch_num)\n",
    "    train_acc = epoch_mean(exp[\"result.trace_train.acc\"], epoch_num)\n",
    "\n",
    "    axs[0, 0].plot(train_loss[:max_epoch_plot], label= f\"{name_suffix} train \")\n",
    "    axs[0, 1].plot(val_loss[:max_epoch_plot], label= f\"{name_suffix} validation \")\n",
    "    axs[1, 0].plot(train_acc[:max_epoch_plot], label= f\"{name_suffix} train \")\n",
    "    axs[1, 1].plot(val_acc[:max_epoch_plot], label= f\"{name_suffix} validation \")\n",
    "\n",
    "axs[0, 0].set_title(\"Loss\")\n",
    "axs[0, 0].legend(loc=\"best\")\n",
    "axs[0, 1].set_title(\"Loss\")\n",
    "axs[0, 1].legend(loc=\"best\")\n",
    "axs[1, 0].set_title(\"Accuracy\")\n",
    "axs[1, 0].legend(loc=\"best\")\n",
    "axs[1, 1].set_title(\"Accuracy\")\n",
    "axs[1, 1].legend(loc=\"best\")\n",
    "plt.show()"
   ]
  },
  {
   "cell_type": "code",
   "execution_count": null,
   "metadata": {},
   "outputs": [],
   "source": [
    "exp\n",
    "# _id config.model_params.nlayers  config.model_params.hidden_size config.model_params.mean_kwargs.temperature config.model_params.dropout"
   ]
  },
  {
   "cell_type": "code",
   "execution_count": null,
   "metadata": {},
   "outputs": [],
   "source": []
  }
 ],
 "metadata": {
  "kernelspec": {
   "display_name": "Python 3",
   "language": "python",
   "name": "python3"
  },
  "language_info": {
   "codemirror_mode": {
    "name": "ipython",
    "version": 3
   },
   "file_extension": ".py",
   "mimetype": "text/x-python",
   "name": "python",
   "nbconvert_exporter": "python",
   "pygments_lexer": "ipython3",
   "version": "3.8.5-final"
  }
 },
 "nbformat": 4,
 "nbformat_minor": 4
}