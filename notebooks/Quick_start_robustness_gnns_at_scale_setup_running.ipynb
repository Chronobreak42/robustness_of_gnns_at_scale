{
  "nbformat": 4,
  "nbformat_minor": 0,
  "metadata": {
    "colab": {
      "name": "Quick_start-robustness_gnns_at_scale.ipynb",
      "provenance": [],
      "include_colab_link": true
    },
    "kernelspec": {
      "name": "python3",
      "display_name": "Python 3"
    },
    "language_info": {
      "name": "python"
    },
    "widgets": {
      "application/vnd.jupyter.widget-state+json": {
        "bcf3bddbd4f745cba39bfde4b774e6ab": {
          "model_module": "@jupyter-widgets/controls",
          "model_name": "HBoxModel",
          "model_module_version": "1.5.0",
          "state": {
            "_dom_classes": [],
            "_model_module": "@jupyter-widgets/controls",
            "_model_module_version": "1.5.0",
            "_model_name": "HBoxModel",
            "_view_count": null,
            "_view_module": "@jupyter-widgets/controls",
            "_view_module_version": "1.5.0",
            "_view_name": "HBoxView",
            "box_style": "",
            "children": [
              "IPY_MODEL_fbf07fbe4ae743e99d69bf3302659bbc",
              "IPY_MODEL_7afe538a3ca643f1a96877e5a0a511bb",
              "IPY_MODEL_4f61844e49044b6391db9660df7c5e07"
            ],
            "layout": "IPY_MODEL_bc43eddbd2f34f36b16ea35cb3308430"
          }
        },
        "fbf07fbe4ae743e99d69bf3302659bbc": {
          "model_module": "@jupyter-widgets/controls",
          "model_name": "HTMLModel",
          "model_module_version": "1.5.0",
          "state": {
            "_dom_classes": [],
            "_model_module": "@jupyter-widgets/controls",
            "_model_module_version": "1.5.0",
            "_model_name": "HTMLModel",
            "_view_count": null,
            "_view_module": "@jupyter-widgets/controls",
            "_view_module_version": "1.5.0",
            "_view_name": "HTMLView",
            "description": "",
            "description_tooltip": null,
            "layout": "IPY_MODEL_ce0dc423666e446482c4e9ca0880d130",
            "placeholder": "​",
            "style": "IPY_MODEL_2c97cd43ec194138b31c1a9c8ad39852",
            "value": "Training...:  22%"
          }
        },
        "7afe538a3ca643f1a96877e5a0a511bb": {
          "model_module": "@jupyter-widgets/controls",
          "model_name": "FloatProgressModel",
          "model_module_version": "1.5.0",
          "state": {
            "_dom_classes": [],
            "_model_module": "@jupyter-widgets/controls",
            "_model_module_version": "1.5.0",
            "_model_name": "FloatProgressModel",
            "_view_count": null,
            "_view_module": "@jupyter-widgets/controls",
            "_view_module_version": "1.5.0",
            "_view_name": "ProgressView",
            "bar_style": "danger",
            "description": "",
            "description_tooltip": null,
            "layout": "IPY_MODEL_1a155272ea6f4fb983f8eb87c181f5bf",
            "max": 3000,
            "min": 0,
            "orientation": "horizontal",
            "style": "IPY_MODEL_0ebca9ca411e47cb82e425c27e81077c",
            "value": 665
          }
        },
        "4f61844e49044b6391db9660df7c5e07": {
          "model_module": "@jupyter-widgets/controls",
          "model_name": "HTMLModel",
          "model_module_version": "1.5.0",
          "state": {
            "_dom_classes": [],
            "_model_module": "@jupyter-widgets/controls",
            "_model_module_version": "1.5.0",
            "_model_name": "HTMLModel",
            "_view_count": null,
            "_view_module": "@jupyter-widgets/controls",
            "_view_module_version": "1.5.0",
            "_view_name": "HTMLView",
            "description": "",
            "description_tooltip": null,
            "layout": "IPY_MODEL_b5b8c7f9b6604dcfa7378ff89258f13f",
            "placeholder": "​",
            "style": "IPY_MODEL_f853f5ac4d51461f83761bbe387fb830",
            "value": " 665/3000 [01:03&lt;03:15, 11.93it/s]"
          }
        },
        "bc43eddbd2f34f36b16ea35cb3308430": {
          "model_module": "@jupyter-widgets/base",
          "model_name": "LayoutModel",
          "model_module_version": "1.2.0",
          "state": {
            "_model_module": "@jupyter-widgets/base",
            "_model_module_version": "1.2.0",
            "_model_name": "LayoutModel",
            "_view_count": null,
            "_view_module": "@jupyter-widgets/base",
            "_view_module_version": "1.2.0",
            "_view_name": "LayoutView",
            "align_content": null,
            "align_items": null,
            "align_self": null,
            "border": null,
            "bottom": null,
            "display": null,
            "flex": null,
            "flex_flow": null,
            "grid_area": null,
            "grid_auto_columns": null,
            "grid_auto_flow": null,
            "grid_auto_rows": null,
            "grid_column": null,
            "grid_gap": null,
            "grid_row": null,
            "grid_template_areas": null,
            "grid_template_columns": null,
            "grid_template_rows": null,
            "height": null,
            "justify_content": null,
            "justify_items": null,
            "left": null,
            "margin": null,
            "max_height": null,
            "max_width": null,
            "min_height": null,
            "min_width": null,
            "object_fit": null,
            "object_position": null,
            "order": null,
            "overflow": null,
            "overflow_x": null,
            "overflow_y": null,
            "padding": null,
            "right": null,
            "top": null,
            "visibility": null,
            "width": null
          }
        },
        "ce0dc423666e446482c4e9ca0880d130": {
          "model_module": "@jupyter-widgets/base",
          "model_name": "LayoutModel",
          "model_module_version": "1.2.0",
          "state": {
            "_model_module": "@jupyter-widgets/base",
            "_model_module_version": "1.2.0",
            "_model_name": "LayoutModel",
            "_view_count": null,
            "_view_module": "@jupyter-widgets/base",
            "_view_module_version": "1.2.0",
            "_view_name": "LayoutView",
            "align_content": null,
            "align_items": null,
            "align_self": null,
            "border": null,
            "bottom": null,
            "display": null,
            "flex": null,
            "flex_flow": null,
            "grid_area": null,
            "grid_auto_columns": null,
            "grid_auto_flow": null,
            "grid_auto_rows": null,
            "grid_column": null,
            "grid_gap": null,
            "grid_row": null,
            "grid_template_areas": null,
            "grid_template_columns": null,
            "grid_template_rows": null,
            "height": null,
            "justify_content": null,
            "justify_items": null,
            "left": null,
            "margin": null,
            "max_height": null,
            "max_width": null,
            "min_height": null,
            "min_width": null,
            "object_fit": null,
            "object_position": null,
            "order": null,
            "overflow": null,
            "overflow_x": null,
            "overflow_y": null,
            "padding": null,
            "right": null,
            "top": null,
            "visibility": null,
            "width": null
          }
        },
        "2c97cd43ec194138b31c1a9c8ad39852": {
          "model_module": "@jupyter-widgets/controls",
          "model_name": "DescriptionStyleModel",
          "model_module_version": "1.5.0",
          "state": {
            "_model_module": "@jupyter-widgets/controls",
            "_model_module_version": "1.5.0",
            "_model_name": "DescriptionStyleModel",
            "_view_count": null,
            "_view_module": "@jupyter-widgets/base",
            "_view_module_version": "1.2.0",
            "_view_name": "StyleView",
            "description_width": ""
          }
        },
        "1a155272ea6f4fb983f8eb87c181f5bf": {
          "model_module": "@jupyter-widgets/base",
          "model_name": "LayoutModel",
          "model_module_version": "1.2.0",
          "state": {
            "_model_module": "@jupyter-widgets/base",
            "_model_module_version": "1.2.0",
            "_model_name": "LayoutModel",
            "_view_count": null,
            "_view_module": "@jupyter-widgets/base",
            "_view_module_version": "1.2.0",
            "_view_name": "LayoutView",
            "align_content": null,
            "align_items": null,
            "align_self": null,
            "border": null,
            "bottom": null,
            "display": null,
            "flex": null,
            "flex_flow": null,
            "grid_area": null,
            "grid_auto_columns": null,
            "grid_auto_flow": null,
            "grid_auto_rows": null,
            "grid_column": null,
            "grid_gap": null,
            "grid_row": null,
            "grid_template_areas": null,
            "grid_template_columns": null,
            "grid_template_rows": null,
            "height": null,
            "justify_content": null,
            "justify_items": null,
            "left": null,
            "margin": null,
            "max_height": null,
            "max_width": null,
            "min_height": null,
            "min_width": null,
            "object_fit": null,
            "object_position": null,
            "order": null,
            "overflow": null,
            "overflow_x": null,
            "overflow_y": null,
            "padding": null,
            "right": null,
            "top": null,
            "visibility": null,
            "width": null
          }
        },
        "0ebca9ca411e47cb82e425c27e81077c": {
          "model_module": "@jupyter-widgets/controls",
          "model_name": "ProgressStyleModel",
          "model_module_version": "1.5.0",
          "state": {
            "_model_module": "@jupyter-widgets/controls",
            "_model_module_version": "1.5.0",
            "_model_name": "ProgressStyleModel",
            "_view_count": null,
            "_view_module": "@jupyter-widgets/base",
            "_view_module_version": "1.2.0",
            "_view_name": "StyleView",
            "bar_color": null,
            "description_width": ""
          }
        },
        "b5b8c7f9b6604dcfa7378ff89258f13f": {
          "model_module": "@jupyter-widgets/base",
          "model_name": "LayoutModel",
          "model_module_version": "1.2.0",
          "state": {
            "_model_module": "@jupyter-widgets/base",
            "_model_module_version": "1.2.0",
            "_model_name": "LayoutModel",
            "_view_count": null,
            "_view_module": "@jupyter-widgets/base",
            "_view_module_version": "1.2.0",
            "_view_name": "LayoutView",
            "align_content": null,
            "align_items": null,
            "align_self": null,
            "border": null,
            "bottom": null,
            "display": null,
            "flex": null,
            "flex_flow": null,
            "grid_area": null,
            "grid_auto_columns": null,
            "grid_auto_flow": null,
            "grid_auto_rows": null,
            "grid_column": null,
            "grid_gap": null,
            "grid_row": null,
            "grid_template_areas": null,
            "grid_template_columns": null,
            "grid_template_rows": null,
            "height": null,
            "justify_content": null,
            "justify_items": null,
            "left": null,
            "margin": null,
            "max_height": null,
            "max_width": null,
            "min_height": null,
            "min_width": null,
            "object_fit": null,
            "object_position": null,
            "order": null,
            "overflow": null,
            "overflow_x": null,
            "overflow_y": null,
            "padding": null,
            "right": null,
            "top": null,
            "visibility": null,
            "width": null
          }
        },
        "f853f5ac4d51461f83761bbe387fb830": {
          "model_module": "@jupyter-widgets/controls",
          "model_name": "DescriptionStyleModel",
          "model_module_version": "1.5.0",
          "state": {
            "_model_module": "@jupyter-widgets/controls",
            "_model_module_version": "1.5.0",
            "_model_name": "DescriptionStyleModel",
            "_view_count": null,
            "_view_module": "@jupyter-widgets/base",
            "_view_module_version": "1.2.0",
            "_view_name": "StyleView",
            "description_width": ""
          }
        }
      }
    }
  },
  "cells": [
    {
      "cell_type": "markdown",
      "metadata": {
        "id": "view-in-github",
        "colab_type": "text"
      },
      "source": [
        "<a href=\"https://colab.research.google.com/github/Chronobreak42/robustness_of_gnns_at_scale/blob/main/notebooks/Quick_start_robustness_gnns_at_scale_setup_running.ipynb\" target=\"_parent\"><img src=\"https://colab.research.google.com/assets/colab-badge.svg\" alt=\"Open In Colab\"/></a>"
      ]
    },
    {
      "cell_type": "markdown",
      "source": [
        "# Robustness of Graph Neural Networks at Scale - Quick Start\n",
        "\n",
        "This notebook can be run in google colab and serves as a quick introduction to the [Robustness of Graph Neural Networks at Scale](https://github.com/sigeisler/robustness_of_gnns_at_scale) repository.\n",
        "\n",
        "## 0. Setup\n",
        "\n",
        "First, let's get the code and install requirements.\n"
      ],
      "metadata": {
        "id": "ixdVBV5PugOh"
      }
    },
    {
      "cell_type": "code",
      "source": [
        "!pwd\n",
        "%cd robustness_of_gnns_at_scale\n",
        "\n",
        "\n",
        "# Installiert: Alle Module die installiert worden sind\n",
        "# run: Die Zeilen die gerunned werden müssen"
      ],
      "metadata": {
        "id": "Vb3p2trlhuqK",
        "outputId": "2e6967aa-743a-4ea7-d1c9-b265e3dfec4e",
        "colab": {
          "base_uri": "https://localhost:8080/"
        }
      },
      "execution_count": 1,
      "outputs": [
        {
          "output_type": "stream",
          "name": "stdout",
          "text": [
            "/content\n",
            "/content/robustness_of_gnns_at_scale\n"
          ]
        }
      ]
    },
    {
      "cell_type": "code",
      "source": [
        "# Erste Installation, Kompatibilität: Fragwürdig, hat Fehler\n",
        "#!pip install torchtyping==0.1.4\n",
        "#!pip install typeguard==4.0.1"
      ],
      "metadata": {
        "id": "M1y3_hX039Ra",
        "outputId": "be944923-2616-403a-dc2f-75b14c8b2fcf",
        "colab": {
          "base_uri": "https://localhost:8080/",
          "height": 393
        }
      },
      "execution_count": null,
      "outputs": [
        {
          "output_type": "stream",
          "name": "stdout",
          "text": [
            "/content/robustness_of_gnns_at_scale\n",
            "Requirement already satisfied: torchtyping==0.1.4 in /usr/local/lib/python3.10/dist-packages (0.1.4)\n",
            "Requirement already satisfied: torch>=1.7.0 in /usr/local/lib/python3.10/dist-packages (from torchtyping==0.1.4) (1.13.0+rocm5.2)\n",
            "Requirement already satisfied: typeguard>=2.11.1 in /usr/local/lib/python3.10/dist-packages (from torchtyping==0.1.4) (2.11.1)\n",
            "Requirement already satisfied: typing-extensions in /usr/local/lib/python3.10/dist-packages (from torch>=1.7.0->torchtyping==0.1.4) (4.12.2)\n",
            "Collecting typeguard==4.0.1\n",
            "  Downloading typeguard-4.0.1-py3-none-any.whl.metadata (3.7 kB)\n",
            "Requirement already satisfied: typing-extensions>=4.7.0 in /usr/local/lib/python3.10/dist-packages (from typeguard==4.0.1) (4.12.2)\n",
            "Downloading typeguard-4.0.1-py3-none-any.whl (33 kB)\n",
            "Installing collected packages: typeguard\n",
            "  Attempting uninstall: typeguard\n",
            "    Found existing installation: typeguard 2.11.1\n",
            "    Uninstalling typeguard-2.11.1:\n",
            "      Successfully uninstalled typeguard-2.11.1\n",
            "Successfully installed typeguard-4.0.1\n"
          ]
        },
        {
          "output_type": "display_data",
          "data": {
            "application/vnd.colab-display-data+json": {
              "pip_warning": {
                "packages": [
                  "typeguard"
                ]
              },
              "id": "5b00a7e670734bd3b1fa7db3ca334739"
            }
          },
          "metadata": {}
        }
      ]
    },
    {
      "cell_type": "code",
      "source": [
        "#1\n",
        "# Installiert, aktuelle Installation\n",
        "!pip install torchtyping==0.1.5 # This version likely works better\n",
        "!pip install typeguard==2.13.3 # This version is compatible with the recommended version of torchtyping."
      ],
      "metadata": {
        "id": "Z6Rul7P3ifei",
        "outputId": "552b1827-72cf-4368-dced-f6d935d8c6ab",
        "colab": {
          "base_uri": "https://localhost:8080/"
        }
      },
      "execution_count": 1,
      "outputs": [
        {
          "output_type": "stream",
          "name": "stdout",
          "text": [
            "Collecting torchtyping==0.1.5\n",
            "  Downloading torchtyping-0.1.5-py3-none-any.whl.metadata (9.5 kB)\n",
            "Requirement already satisfied: torch>=1.7.0 in /usr/local/lib/python3.10/dist-packages (from torchtyping==0.1.5) (2.5.1+cu121)\n",
            "Collecting typeguard<3,>=2.11.1 (from torchtyping==0.1.5)\n",
            "  Downloading typeguard-2.13.3-py3-none-any.whl.metadata (3.6 kB)\n",
            "Requirement already satisfied: filelock in /usr/local/lib/python3.10/dist-packages (from torch>=1.7.0->torchtyping==0.1.5) (3.16.1)\n",
            "Requirement already satisfied: typing-extensions>=4.8.0 in /usr/local/lib/python3.10/dist-packages (from torch>=1.7.0->torchtyping==0.1.5) (4.12.2)\n",
            "Requirement already satisfied: networkx in /usr/local/lib/python3.10/dist-packages (from torch>=1.7.0->torchtyping==0.1.5) (3.4.2)\n",
            "Requirement already satisfied: jinja2 in /usr/local/lib/python3.10/dist-packages (from torch>=1.7.0->torchtyping==0.1.5) (3.1.5)\n",
            "Requirement already satisfied: fsspec in /usr/local/lib/python3.10/dist-packages (from torch>=1.7.0->torchtyping==0.1.5) (2024.10.0)\n",
            "Requirement already satisfied: sympy==1.13.1 in /usr/local/lib/python3.10/dist-packages (from torch>=1.7.0->torchtyping==0.1.5) (1.13.1)\n",
            "Requirement already satisfied: mpmath<1.4,>=1.1.0 in /usr/local/lib/python3.10/dist-packages (from sympy==1.13.1->torch>=1.7.0->torchtyping==0.1.5) (1.3.0)\n",
            "Requirement already satisfied: MarkupSafe>=2.0 in /usr/local/lib/python3.10/dist-packages (from jinja2->torch>=1.7.0->torchtyping==0.1.5) (3.0.2)\n",
            "Downloading torchtyping-0.1.5-py3-none-any.whl (17 kB)\n",
            "Downloading typeguard-2.13.3-py3-none-any.whl (17 kB)\n",
            "Installing collected packages: typeguard, torchtyping\n",
            "  Attempting uninstall: typeguard\n",
            "    Found existing installation: typeguard 4.4.1\n",
            "    Uninstalling typeguard-4.4.1:\n",
            "      Successfully uninstalled typeguard-4.4.1\n",
            "\u001b[31mERROR: pip's dependency resolver does not currently take into account all the packages that are installed. This behaviour is the source of the following dependency conflicts.\n",
            "inflect 7.5.0 requires typeguard>=4.0.1, but you have typeguard 2.13.3 which is incompatible.\u001b[0m\u001b[31m\n",
            "\u001b[0mSuccessfully installed torchtyping-0.1.5 typeguard-2.13.3\n",
            "Requirement already satisfied: typeguard==2.13.3 in /usr/local/lib/python3.10/dist-packages (2.13.3)\n"
          ]
        }
      ]
    },
    {
      "cell_type": "code",
      "source": [
        "import torch\n",
        "torch.__version__\n",
        "import numpy\n",
        "numpy.__version__"
      ],
      "metadata": {
        "id": "muUk3Kim9zFt",
        "outputId": "82c8e64f-8649-4729-8672-a6649460b9cf",
        "colab": {
          "base_uri": "https://localhost:8080/",
          "height": 35
        }
      },
      "execution_count": 2,
      "outputs": [
        {
          "output_type": "execute_result",
          "data": {
            "text/plain": [
              "'1.26.4'"
            ],
            "application/vnd.google.colaboratory.intrinsic+json": {
              "type": "string"
            }
          },
          "metadata": {},
          "execution_count": 2
        }
      ]
    },
    {
      "cell_type": "code",
      "source": [
        "#2\n",
        "# clone package repository\n",
        "!git clone https://github.com/sigeisler/robustness_of_gnns_at_scale.git # run\n",
        "\n",
        "# navigate to the repository\n",
        "%cd robustness_of_gnns_at_scale\n",
        "\n",
        "# install package requirements\n",
        "!pip install -r requirements.txt # run\n",
        "!pip install -r requirements-dev.txt # run\n",
        "\n",
        "# install package\n",
        "#!python setup.py install\n",
        "#!pip install --use-feature=in-tree-build .\n",
        "\n",
        "# build kernels\n",
        "#!pip install --use-feature=in-tree-build ./kernels"
      ],
      "metadata": {
        "id": "srl7gR-Gy5gX",
        "outputId": "a86239fc-2964-4a7e-98fb-f217f2fc480f",
        "colab": {
          "base_uri": "https://localhost:8080/",
          "height": 1000
        }
      },
      "execution_count": 3,
      "outputs": [
        {
          "output_type": "stream",
          "name": "stdout",
          "text": [
            "Cloning into 'robustness_of_gnns_at_scale'...\n",
            "remote: Enumerating objects: 5079, done.\u001b[K\n",
            "remote: Counting objects: 100% (107/107), done.\u001b[K\n",
            "remote: Compressing objects: 100% (84/84), done.\u001b[K\n",
            "remote: Total 5079 (delta 45), reused 52 (delta 14), pack-reused 4972 (from 1)\u001b[K\n",
            "Receiving objects: 100% (5079/5079), 331.99 MiB | 19.50 MiB/s, done.\n",
            "Resolving deltas: 100% (3594/3594), done.\n",
            "/content/robustness_of_gnns_at_scale\n",
            "Requirement already satisfied: cython>=0.28.5 in /usr/local/lib/python3.10/dist-packages (from -r requirements.txt (line 1)) (3.0.11)\n",
            "Collecting filelock==3.0.12 (from -r requirements.txt (line 2))\n",
            "  Downloading filelock-3.0.12-py3-none-any.whl.metadata (4.3 kB)\n",
            "Collecting numba<=0.49.0,>=0.47.0 (from -r requirements.txt (line 3))\n",
            "  Downloading numba-0.49.0.tar.gz (2.0 MB)\n",
            "\u001b[2K     \u001b[90m━━━━━━━━━━━━━━━━━━━━━━━━━━━━━━━━━━━━━━━━\u001b[0m \u001b[32m2.0/2.0 MB\u001b[0m \u001b[31m18.9 MB/s\u001b[0m eta \u001b[36m0:00:00\u001b[0m\n",
            "\u001b[?25h  Preparing metadata (setup.py) ... \u001b[?25l\u001b[?25hdone\n",
            "Collecting numpy==1.18.1 (from -r requirements.txt (line 4))\n",
            "  Downloading numpy-1.18.1.zip (5.4 MB)\n",
            "\u001b[2K     \u001b[90m━━━━━━━━━━━━━━━━━━━━━━━━━━━━━━━━━━━━━━━━\u001b[0m \u001b[32m5.4/5.4 MB\u001b[0m \u001b[31m59.9 MB/s\u001b[0m eta \u001b[36m0:00:00\u001b[0m\n",
            "\u001b[?25h  Installing build dependencies ... \u001b[?25l\u001b[?25hdone\n",
            "  Getting requirements to build wheel ... \u001b[?25l\u001b[?25hdone\n",
            "  \u001b[1;31merror\u001b[0m: \u001b[1msubprocess-exited-with-error\u001b[0m\n",
            "  \n",
            "  \u001b[31m×\u001b[0m \u001b[32mPreparing metadata \u001b[0m\u001b[1;32m(\u001b[0m\u001b[32mpyproject.toml\u001b[0m\u001b[1;32m)\u001b[0m did not run successfully.\n",
            "  \u001b[31m│\u001b[0m exit code: \u001b[1;36m1\u001b[0m\n",
            "  \u001b[31m╰─>\u001b[0m See above for output.\n",
            "  \n",
            "  \u001b[1;35mnote\u001b[0m: This error originates from a subprocess, and is likely not a problem with pip.\n",
            "  Preparing metadata (pyproject.toml) ... \u001b[?25l\u001b[?25herror\n",
            "\u001b[1;31merror\u001b[0m: \u001b[1mmetadata-generation-failed\u001b[0m\n",
            "\n",
            "\u001b[31m×\u001b[0m Encountered error while generating package metadata.\n",
            "\u001b[31m╰─>\u001b[0m See above for output.\n",
            "\n",
            "\u001b[1;35mnote\u001b[0m: This is an issue with the package mentioned above, not pip.\n",
            "\u001b[1;36mhint\u001b[0m: See above for details.\n",
            "Collecting autopep8==1.4.4 (from -r requirements-dev.txt (line 1))\n",
            "  Downloading autopep8-1.4.4.tar.gz (114 kB)\n",
            "\u001b[2K     \u001b[90m━━━━━━━━━━━━━━━━━━━━━━━━━━━━━━━━━━━━━━━━\u001b[0m \u001b[32m114.8/114.8 kB\u001b[0m \u001b[31m2.9 MB/s\u001b[0m eta \u001b[36m0:00:00\u001b[0m\n",
            "\u001b[?25h  Preparing metadata (setup.py) ... \u001b[?25l\u001b[?25hdone\n",
            "Collecting flake8==3.7.9 (from -r requirements-dev.txt (line 2))\n",
            "  Downloading flake8-3.7.9-py2.py3-none-any.whl.metadata (3.6 kB)\n",
            "Collecting pycodestyle==2.5.0 (from -r requirements-dev.txt (line 3))\n",
            "  Downloading pycodestyle-2.5.0-py2.py3-none-any.whl.metadata (28 kB)\n",
            "Collecting pyflakes==2.1.1 (from -r requirements-dev.txt (line 4))\n",
            "  Downloading pyflakes-2.1.1-py2.py3-none-any.whl.metadata (3.8 kB)\n",
            "Collecting pydocstyle==4.0.1 (from -r requirements-dev.txt (line 5))\n",
            "  Downloading pydocstyle-4.0.1-py3-none-any.whl.metadata (2.5 kB)\n",
            "Collecting pytest==5.3.5 (from -r requirements-dev.txt (line 6))\n",
            "  Downloading pytest-5.3.5-py3-none-any.whl.metadata (7.0 kB)\n",
            "Collecting seml (from -r requirements-dev.txt (line 7))\n",
            "  Downloading seml-0.5.4-py3-none-any.whl.metadata (8.1 kB)\n",
            "Collecting entrypoints<0.4.0,>=0.3.0 (from flake8==3.7.9->-r requirements-dev.txt (line 2))\n",
            "  Downloading entrypoints-0.3-py2.py3-none-any.whl.metadata (1.4 kB)\n",
            "Collecting mccabe<0.7.0,>=0.6.0 (from flake8==3.7.9->-r requirements-dev.txt (line 2))\n",
            "  Downloading mccabe-0.6.1-py2.py3-none-any.whl.metadata (4.3 kB)\n",
            "Requirement already satisfied: snowballstemmer in /usr/local/lib/python3.10/dist-packages (from pydocstyle==4.0.1->-r requirements-dev.txt (line 5)) (2.2.0)\n",
            "Collecting py>=1.5.0 (from pytest==5.3.5->-r requirements-dev.txt (line 6))\n",
            "  Downloading py-1.11.0-py2.py3-none-any.whl.metadata (2.8 kB)\n",
            "Requirement already satisfied: packaging in /usr/local/lib/python3.10/dist-packages (from pytest==5.3.5->-r requirements-dev.txt (line 6)) (24.2)\n",
            "Requirement already satisfied: attrs>=17.4.0 in /usr/local/lib/python3.10/dist-packages (from pytest==5.3.5->-r requirements-dev.txt (line 6)) (24.3.0)\n",
            "Requirement already satisfied: more-itertools>=4.0.0 in /usr/local/lib/python3.10/dist-packages (from pytest==5.3.5->-r requirements-dev.txt (line 6)) (10.5.0)\n",
            "Collecting pluggy<1.0,>=0.12 (from pytest==5.3.5->-r requirements-dev.txt (line 6))\n",
            "  Downloading pluggy-0.13.1-py2.py3-none-any.whl.metadata (15 kB)\n",
            "Requirement already satisfied: wcwidth in /usr/local/lib/python3.10/dist-packages (from pytest==5.3.5->-r requirements-dev.txt (line 6)) (0.2.13)\n",
            "Requirement already satisfied: debugpy>=1.2.1 in /usr/local/lib/python3.10/dist-packages (from seml->-r requirements-dev.txt (line 7)) (1.8.0)\n",
            "Collecting deepdiff>=7.0.1 (from seml->-r requirements-dev.txt (line 7))\n",
            "  Downloading deepdiff-8.1.1-py3-none-any.whl.metadata (9.5 kB)\n",
            "Collecting gitignore-parser>=0.1.11 (from seml->-r requirements-dev.txt (line 7))\n",
            "  Downloading gitignore_parser-0.1.11.tar.gz (5.3 kB)\n",
            "  Installing build dependencies ... \u001b[?25l\u001b[?25hdone\n",
            "  Getting requirements to build wheel ... \u001b[?25l\u001b[?25hdone\n",
            "  Preparing metadata (pyproject.toml) ... \u001b[?25l\u001b[?25hdone\n",
            "Requirement already satisfied: importlib-resources>=5.7.0 in /usr/local/lib/python3.10/dist-packages (from seml->-r requirements-dev.txt (line 7)) (6.5.2)\n",
            "Requirement already satisfied: jsonpickle>=2.2 in /usr/local/lib/python3.10/dist-packages (from seml->-r requirements-dev.txt (line 7)) (4.0.1)\n",
            "Collecting munch>=4.0 (from seml->-r requirements-dev.txt (line 7))\n",
            "  Downloading munch-4.0.0-py2.py3-none-any.whl.metadata (5.9 kB)\n",
            "Requirement already satisfied: numpy>=1.15 in /usr/local/lib/python3.10/dist-packages (from seml->-r requirements-dev.txt (line 7)) (1.26.4)\n",
            "Collecting omegaconf>=2.3.0 (from seml->-r requirements-dev.txt (line 7))\n",
            "  Downloading omegaconf-2.3.0-py3-none-any.whl.metadata (3.9 kB)\n",
            "Requirement already satisfied: pandas>=2.2 in /usr/local/lib/python3.10/dist-packages (from seml->-r requirements-dev.txt (line 7)) (2.2.2)\n",
            "Collecting pymongo>=4.1 (from seml->-r requirements-dev.txt (line 7))\n",
            "  Downloading pymongo-4.10.1-cp310-cp310-manylinux_2_17_x86_64.manylinux2014_x86_64.whl.metadata (22 kB)\n",
            "Requirement already satisfied: pyyaml>=5.1 in /usr/local/lib/python3.10/dist-packages (from seml->-r requirements-dev.txt (line 7)) (6.0.2)\n",
            "Requirement already satisfied: requests>=2.28.1 in /usr/local/lib/python3.10/dist-packages (from seml->-r requirements-dev.txt (line 7)) (2.32.3)\n",
            "Requirement already satisfied: rich>=13.0 in /usr/local/lib/python3.10/dist-packages (from seml->-r requirements-dev.txt (line 7)) (13.9.4)\n",
            "Collecting sacred>=0.8.4 (from seml->-r requirements-dev.txt (line 7))\n",
            "  Downloading sacred-0.8.7-py2.py3-none-any.whl.metadata (13 kB)\n",
            "Requirement already satisfied: setuptools>=69.2.0 in /usr/local/lib/python3.10/dist-packages (from seml->-r requirements-dev.txt (line 7)) (75.1.0)\n",
            "Requirement already satisfied: typer>=0.12 in /usr/local/lib/python3.10/dist-packages (from seml->-r requirements-dev.txt (line 7)) (0.15.1)\n",
            "Requirement already satisfied: typing-extensions>=4.10 in /usr/local/lib/python3.10/dist-packages (from seml->-r requirements-dev.txt (line 7)) (4.12.2)\n",
            "Collecting orderly-set<6,>=5.2.3 (from deepdiff>=7.0.1->seml->-r requirements-dev.txt (line 7))\n",
            "  Downloading orderly_set-5.2.3-py3-none-any.whl.metadata (6.0 kB)\n",
            "Collecting antlr4-python3-runtime==4.9.* (from omegaconf>=2.3.0->seml->-r requirements-dev.txt (line 7))\n",
            "  Downloading antlr4-python3-runtime-4.9.3.tar.gz (117 kB)\n",
            "\u001b[2K     \u001b[90m━━━━━━━━━━━━━━━━━━━━━━━━━━━━━━━━━━━━━━━━\u001b[0m \u001b[32m117.0/117.0 kB\u001b[0m \u001b[31m10.2 MB/s\u001b[0m eta \u001b[36m0:00:00\u001b[0m\n",
            "\u001b[?25h  Preparing metadata (setup.py) ... \u001b[?25l\u001b[?25hdone\n",
            "Requirement already satisfied: python-dateutil>=2.8.2 in /usr/local/lib/python3.10/dist-packages (from pandas>=2.2->seml->-r requirements-dev.txt (line 7)) (2.8.2)\n",
            "Requirement already satisfied: pytz>=2020.1 in /usr/local/lib/python3.10/dist-packages (from pandas>=2.2->seml->-r requirements-dev.txt (line 7)) (2024.2)\n",
            "Requirement already satisfied: tzdata>=2022.7 in /usr/local/lib/python3.10/dist-packages (from pandas>=2.2->seml->-r requirements-dev.txt (line 7)) (2024.2)\n",
            "Collecting dnspython<3.0.0,>=1.16.0 (from pymongo>=4.1->seml->-r requirements-dev.txt (line 7))\n",
            "  Downloading dnspython-2.7.0-py3-none-any.whl.metadata (5.8 kB)\n",
            "Requirement already satisfied: charset-normalizer<4,>=2 in /usr/local/lib/python3.10/dist-packages (from requests>=2.28.1->seml->-r requirements-dev.txt (line 7)) (3.4.1)\n",
            "Requirement already satisfied: idna<4,>=2.5 in /usr/local/lib/python3.10/dist-packages (from requests>=2.28.1->seml->-r requirements-dev.txt (line 7)) (3.10)\n",
            "Requirement already satisfied: urllib3<3,>=1.21.1 in /usr/local/lib/python3.10/dist-packages (from requests>=2.28.1->seml->-r requirements-dev.txt (line 7)) (2.3.0)\n",
            "Requirement already satisfied: certifi>=2017.4.17 in /usr/local/lib/python3.10/dist-packages (from requests>=2.28.1->seml->-r requirements-dev.txt (line 7)) (2024.12.14)\n",
            "Requirement already satisfied: markdown-it-py>=2.2.0 in /usr/local/lib/python3.10/dist-packages (from rich>=13.0->seml->-r requirements-dev.txt (line 7)) (3.0.0)\n",
            "Requirement already satisfied: pygments<3.0.0,>=2.13.0 in /usr/local/lib/python3.10/dist-packages (from rich>=13.0->seml->-r requirements-dev.txt (line 7)) (2.18.0)\n",
            "Collecting docopt-ng<1.0,>=0.9 (from sacred>=0.8.4->seml->-r requirements-dev.txt (line 7))\n",
            "  Downloading docopt_ng-0.9.0-py3-none-any.whl.metadata (13 kB)\n",
            "Requirement already satisfied: wrapt<2.0,>=1.0 in /usr/local/lib/python3.10/dist-packages (from sacred>=0.8.4->seml->-r requirements-dev.txt (line 7)) (1.17.0)\n",
            "Requirement already satisfied: py-cpuinfo>=4.0 in /usr/local/lib/python3.10/dist-packages (from sacred>=0.8.4->seml->-r requirements-dev.txt (line 7)) (9.0.0)\n",
            "Collecting colorama>=0.4 (from sacred>=0.8.4->seml->-r requirements-dev.txt (line 7))\n",
            "  Downloading colorama-0.4.6-py2.py3-none-any.whl.metadata (17 kB)\n",
            "Requirement already satisfied: GitPython in /usr/local/lib/python3.10/dist-packages (from sacred>=0.8.4->seml->-r requirements-dev.txt (line 7)) (3.1.44)\n",
            "Requirement already satisfied: click>=8.0.0 in /usr/local/lib/python3.10/dist-packages (from typer>=0.12->seml->-r requirements-dev.txt (line 7)) (8.1.8)\n",
            "Requirement already satisfied: shellingham>=1.3.0 in /usr/local/lib/python3.10/dist-packages (from typer>=0.12->seml->-r requirements-dev.txt (line 7)) (1.5.4)\n",
            "Requirement already satisfied: mdurl~=0.1 in /usr/local/lib/python3.10/dist-packages (from markdown-it-py>=2.2.0->rich>=13.0->seml->-r requirements-dev.txt (line 7)) (0.1.2)\n",
            "Requirement already satisfied: six>=1.5 in /usr/local/lib/python3.10/dist-packages (from python-dateutil>=2.8.2->pandas>=2.2->seml->-r requirements-dev.txt (line 7)) (1.17.0)\n",
            "Requirement already satisfied: gitdb<5,>=4.0.1 in /usr/local/lib/python3.10/dist-packages (from GitPython->sacred>=0.8.4->seml->-r requirements-dev.txt (line 7)) (4.0.12)\n",
            "Requirement already satisfied: smmap<6,>=3.0.1 in /usr/local/lib/python3.10/dist-packages (from gitdb<5,>=4.0.1->GitPython->sacred>=0.8.4->seml->-r requirements-dev.txt (line 7)) (5.0.2)\n",
            "Downloading flake8-3.7.9-py2.py3-none-any.whl (69 kB)\n",
            "\u001b[2K   \u001b[90m━━━━━━━━━━━━━━━━━━━━━━━━━━━━━━━━━━━━━━━━\u001b[0m \u001b[32m69.9/69.9 kB\u001b[0m \u001b[31m5.2 MB/s\u001b[0m eta \u001b[36m0:00:00\u001b[0m\n",
            "\u001b[?25hDownloading pycodestyle-2.5.0-py2.py3-none-any.whl (51 kB)\n",
            "\u001b[2K   \u001b[90m━━━━━━━━━━━━━━━━━━━━━━━━━━━━━━━━━━━━━━━━\u001b[0m \u001b[32m51.2/51.2 kB\u001b[0m \u001b[31m3.9 MB/s\u001b[0m eta \u001b[36m0:00:00\u001b[0m\n",
            "\u001b[?25hDownloading pyflakes-2.1.1-py2.py3-none-any.whl (59 kB)\n",
            "\u001b[2K   \u001b[90m━━━━━━━━━━━━━━━━━━━━━━━━━━━━━━━━━━━━━━━━\u001b[0m \u001b[32m60.0/60.0 kB\u001b[0m \u001b[31m3.8 MB/s\u001b[0m eta \u001b[36m0:00:00\u001b[0m\n",
            "\u001b[?25hDownloading pydocstyle-4.0.1-py3-none-any.whl (33 kB)\n",
            "Downloading pytest-5.3.5-py3-none-any.whl (235 kB)\n",
            "\u001b[2K   \u001b[90m━━━━━━━━━━━━━━━━━━━━━━━━━━━━━━━━━━━━━━━━\u001b[0m \u001b[32m235.2/235.2 kB\u001b[0m \u001b[31m16.4 MB/s\u001b[0m eta \u001b[36m0:00:00\u001b[0m\n",
            "\u001b[?25hDownloading seml-0.5.4-py3-none-any.whl (120 kB)\n",
            "\u001b[2K   \u001b[90m━━━━━━━━━━━━━━━━━━━━━━━━━━━━━━━━━━━━━━━━\u001b[0m \u001b[32m120.4/120.4 kB\u001b[0m \u001b[31m9.7 MB/s\u001b[0m eta \u001b[36m0:00:00\u001b[0m\n",
            "\u001b[?25hDownloading deepdiff-8.1.1-py3-none-any.whl (84 kB)\n",
            "\u001b[2K   \u001b[90m━━━━━━━━━━━━━━━━━━━━━━━━━━━━━━━━━━━━━━━━\u001b[0m \u001b[32m84.7/84.7 kB\u001b[0m \u001b[31m7.4 MB/s\u001b[0m eta \u001b[36m0:00:00\u001b[0m\n",
            "\u001b[?25hDownloading entrypoints-0.3-py2.py3-none-any.whl (11 kB)\n",
            "Downloading mccabe-0.6.1-py2.py3-none-any.whl (8.6 kB)\n",
            "Downloading munch-4.0.0-py2.py3-none-any.whl (9.9 kB)\n",
            "Downloading omegaconf-2.3.0-py3-none-any.whl (79 kB)\n",
            "\u001b[2K   \u001b[90m━━━━━━━━━━━━━━━━━━━━━━━━━━━━━━━━━━━━━━━━\u001b[0m \u001b[32m79.5/79.5 kB\u001b[0m \u001b[31m7.1 MB/s\u001b[0m eta \u001b[36m0:00:00\u001b[0m\n",
            "\u001b[?25hDownloading pluggy-0.13.1-py2.py3-none-any.whl (18 kB)\n",
            "Downloading py-1.11.0-py2.py3-none-any.whl (98 kB)\n",
            "\u001b[2K   \u001b[90m━━━━━━━━━━━━━━━━━━━━━━━━━━━━━━━━━━━━━━━━\u001b[0m \u001b[32m98.7/98.7 kB\u001b[0m \u001b[31m9.5 MB/s\u001b[0m eta \u001b[36m0:00:00\u001b[0m\n",
            "\u001b[?25hDownloading pymongo-4.10.1-cp310-cp310-manylinux_2_17_x86_64.manylinux2014_x86_64.whl (1.4 MB)\n",
            "\u001b[2K   \u001b[90m━━━━━━━━━━━━━━━━━━━━━━━━━━━━━━━━━━━━━━━━\u001b[0m \u001b[32m1.4/1.4 MB\u001b[0m \u001b[31m38.7 MB/s\u001b[0m eta \u001b[36m0:00:00\u001b[0m\n",
            "\u001b[?25hDownloading sacred-0.8.7-py2.py3-none-any.whl (108 kB)\n",
            "\u001b[2K   \u001b[90m━━━━━━━━━━━━━━━━━━━━━━━━━━━━━━━━━━━━━━━━\u001b[0m \u001b[32m108.2/108.2 kB\u001b[0m \u001b[31m9.6 MB/s\u001b[0m eta \u001b[36m0:00:00\u001b[0m\n",
            "\u001b[?25hDownloading colorama-0.4.6-py2.py3-none-any.whl (25 kB)\n",
            "Downloading dnspython-2.7.0-py3-none-any.whl (313 kB)\n",
            "\u001b[2K   \u001b[90m━━━━━━━━━━━━━━━━━━━━━━━━━━━━━━━━━━━━━━━━\u001b[0m \u001b[32m313.6/313.6 kB\u001b[0m \u001b[31m24.1 MB/s\u001b[0m eta \u001b[36m0:00:00\u001b[0m\n",
            "\u001b[?25hDownloading docopt_ng-0.9.0-py3-none-any.whl (16 kB)\n",
            "Downloading orderly_set-5.2.3-py3-none-any.whl (12 kB)\n",
            "Building wheels for collected packages: autopep8, gitignore-parser, antlr4-python3-runtime\n",
            "  Building wheel for autopep8 (setup.py) ... \u001b[?25l\u001b[?25hdone\n",
            "  Created wheel for autopep8: filename=autopep8-1.4.4-py2.py3-none-any.whl size=42636 sha256=a5a4cb0444f79fac8aa567e2c713e1f7eed402c5d8b7d64bcff79e3dd2f40489\n",
            "  Stored in directory: /root/.cache/pip/wheels/c1/2d/7d/f5f6ec9bb5902cd57d86e7ff7e4d5c421c236e3d9db44e6c69\n",
            "  Building wheel for gitignore-parser (pyproject.toml) ... \u001b[?25l\u001b[?25hdone\n",
            "  Created wheel for gitignore-parser: filename=gitignore_parser-0.1.11-py3-none-any.whl size=4922 sha256=118d2561cdb8638255352c2646d540769d7c574b0c369dc8604d2a1ae9f84777\n",
            "  Stored in directory: /root/.cache/pip/wheels/64/c4/d8/fbeed21e95e39f02c89e10aade7f8072d236f78d0c278121b0\n",
            "  Building wheel for antlr4-python3-runtime (setup.py) ... \u001b[?25l\u001b[?25hdone\n",
            "  Created wheel for antlr4-python3-runtime: filename=antlr4_python3_runtime-4.9.3-py3-none-any.whl size=144555 sha256=dc87719d076ac98f38ea3d00668fc0877c09e4ffe33d5c1cd771e5f66a85ea98\n",
            "  Stored in directory: /root/.cache/pip/wheels/12/93/dd/1f6a127edc45659556564c5730f6d4e300888f4bca2d4c5a88\n",
            "Successfully built autopep8 gitignore-parser antlr4-python3-runtime\n",
            "Installing collected packages: mccabe, gitignore-parser, antlr4-python3-runtime, pyflakes, pydocstyle, pycodestyle, py, pluggy, orderly-set, omegaconf, munch, entrypoints, docopt-ng, dnspython, colorama, pytest, pymongo, flake8, deepdiff, autopep8, sacred, seml\n",
            "  Attempting uninstall: pluggy\n",
            "    Found existing installation: pluggy 1.5.0\n",
            "    Uninstalling pluggy-1.5.0:\n",
            "      Successfully uninstalled pluggy-1.5.0\n",
            "  Attempting uninstall: entrypoints\n",
            "    Found existing installation: entrypoints 0.4\n",
            "    Uninstalling entrypoints-0.4:\n",
            "      Successfully uninstalled entrypoints-0.4\n",
            "  Attempting uninstall: pytest\n",
            "    Found existing installation: pytest 8.3.4\n",
            "    Uninstalling pytest-8.3.4:\n",
            "      Successfully uninstalled pytest-8.3.4\n",
            "Successfully installed antlr4-python3-runtime-4.9.3 autopep8-1.4.4 colorama-0.4.6 deepdiff-8.1.1 dnspython-2.7.0 docopt-ng-0.9.0 entrypoints-0.3 flake8-3.7.9 gitignore-parser-0.1.11 mccabe-0.6.1 munch-4.0.0 omegaconf-2.3.0 orderly-set-5.2.3 pluggy-0.13.1 py-1.11.0 pycodestyle-2.5.0 pydocstyle-4.0.1 pyflakes-2.1.1 pymongo-4.10.1 pytest-5.3.5 sacred-0.8.7 seml-0.5.4\n"
          ]
        },
        {
          "output_type": "display_data",
          "data": {
            "application/vnd.colab-display-data+json": {
              "pip_warning": {
                "packages": [
                  "pydevd_plugins"
                ]
              },
              "id": "b06ad5b0513d4fd6ac014189361a7f99"
            }
          },
          "metadata": {}
        }
      ]
    },
    {
      "cell_type": "code",
      "source": [],
      "metadata": {
        "id": "Ls-cXVFShs6w"
      },
      "execution_count": null,
      "outputs": []
    },
    {
      "cell_type": "markdown",
      "source": [
        "### Imports"
      ],
      "metadata": {
        "id": "FQScUvGr-b08"
      }
    },
    {
      "cell_type": "code",
      "source": [
        "#3\n",
        "# Installiert\n",
        "!pip install --upgrade ogb"
      ],
      "metadata": {
        "id": "W_c6BdVhXbQH",
        "outputId": "eeccc8ed-b0a1-402e-e6f0-d29e3368d66c",
        "colab": {
          "base_uri": "https://localhost:8080/"
        }
      },
      "execution_count": 1,
      "outputs": [
        {
          "output_type": "stream",
          "name": "stdout",
          "text": [
            "Collecting ogb\n",
            "  Using cached ogb-1.3.6-py3-none-any.whl.metadata (6.2 kB)\n",
            "Requirement already satisfied: torch>=1.6.0 in /usr/local/lib/python3.10/dist-packages (from ogb) (2.5.1+cu121)\n",
            "Requirement already satisfied: numpy>=1.16.0 in /usr/local/lib/python3.10/dist-packages (from ogb) (1.26.4)\n",
            "Requirement already satisfied: tqdm>=4.29.0 in /usr/local/lib/python3.10/dist-packages (from ogb) (4.67.1)\n",
            "Requirement already satisfied: scikit-learn>=0.20.0 in /usr/local/lib/python3.10/dist-packages (from ogb) (1.6.0)\n",
            "Requirement already satisfied: pandas>=0.24.0 in /usr/local/lib/python3.10/dist-packages (from ogb) (2.2.2)\n",
            "Requirement already satisfied: six>=1.12.0 in /usr/local/lib/python3.10/dist-packages (from ogb) (1.17.0)\n",
            "Requirement already satisfied: urllib3>=1.24.0 in /usr/local/lib/python3.10/dist-packages (from ogb) (2.3.0)\n",
            "Collecting outdated>=0.2.0 (from ogb)\n",
            "  Using cached outdated-0.2.2-py2.py3-none-any.whl.metadata (4.7 kB)\n",
            "Requirement already satisfied: setuptools>=44 in /usr/local/lib/python3.10/dist-packages (from outdated>=0.2.0->ogb) (75.1.0)\n",
            "Collecting littleutils (from outdated>=0.2.0->ogb)\n",
            "  Using cached littleutils-0.2.4-py3-none-any.whl.metadata (679 bytes)\n",
            "Requirement already satisfied: requests in /usr/local/lib/python3.10/dist-packages (from outdated>=0.2.0->ogb) (2.32.3)\n",
            "Requirement already satisfied: python-dateutil>=2.8.2 in /usr/local/lib/python3.10/dist-packages (from pandas>=0.24.0->ogb) (2.8.2)\n",
            "Requirement already satisfied: pytz>=2020.1 in /usr/local/lib/python3.10/dist-packages (from pandas>=0.24.0->ogb) (2024.2)\n",
            "Requirement already satisfied: tzdata>=2022.7 in /usr/local/lib/python3.10/dist-packages (from pandas>=0.24.0->ogb) (2024.2)\n",
            "Requirement already satisfied: scipy>=1.6.0 in /usr/local/lib/python3.10/dist-packages (from scikit-learn>=0.20.0->ogb) (1.13.1)\n",
            "Requirement already satisfied: joblib>=1.2.0 in /usr/local/lib/python3.10/dist-packages (from scikit-learn>=0.20.0->ogb) (1.4.2)\n",
            "Requirement already satisfied: threadpoolctl>=3.1.0 in /usr/local/lib/python3.10/dist-packages (from scikit-learn>=0.20.0->ogb) (3.5.0)\n",
            "Requirement already satisfied: filelock in /usr/local/lib/python3.10/dist-packages (from torch>=1.6.0->ogb) (3.16.1)\n",
            "Requirement already satisfied: typing-extensions>=4.8.0 in /usr/local/lib/python3.10/dist-packages (from torch>=1.6.0->ogb) (4.12.2)\n",
            "Requirement already satisfied: networkx in /usr/local/lib/python3.10/dist-packages (from torch>=1.6.0->ogb) (3.4.2)\n",
            "Requirement already satisfied: jinja2 in /usr/local/lib/python3.10/dist-packages (from torch>=1.6.0->ogb) (3.1.5)\n",
            "Requirement already satisfied: fsspec in /usr/local/lib/python3.10/dist-packages (from torch>=1.6.0->ogb) (2024.10.0)\n",
            "Requirement already satisfied: sympy==1.13.1 in /usr/local/lib/python3.10/dist-packages (from torch>=1.6.0->ogb) (1.13.1)\n",
            "Requirement already satisfied: mpmath<1.4,>=1.1.0 in /usr/local/lib/python3.10/dist-packages (from sympy==1.13.1->torch>=1.6.0->ogb) (1.3.0)\n",
            "Requirement already satisfied: MarkupSafe>=2.0 in /usr/local/lib/python3.10/dist-packages (from jinja2->torch>=1.6.0->ogb) (3.0.2)\n",
            "Requirement already satisfied: charset-normalizer<4,>=2 in /usr/local/lib/python3.10/dist-packages (from requests->outdated>=0.2.0->ogb) (3.4.1)\n",
            "Requirement already satisfied: idna<4,>=2.5 in /usr/local/lib/python3.10/dist-packages (from requests->outdated>=0.2.0->ogb) (3.10)\n",
            "Requirement already satisfied: certifi>=2017.4.17 in /usr/local/lib/python3.10/dist-packages (from requests->outdated>=0.2.0->ogb) (2024.12.14)\n",
            "Using cached ogb-1.3.6-py3-none-any.whl (78 kB)\n",
            "Using cached outdated-0.2.2-py2.py3-none-any.whl (7.5 kB)\n",
            "Using cached littleutils-0.2.4-py3-none-any.whl (8.1 kB)\n",
            "Installing collected packages: littleutils, outdated, ogb\n",
            "Successfully installed littleutils-0.2.4 ogb-1.3.6 outdated-0.2.2\n"
          ]
        }
      ]
    },
    {
      "cell_type": "code",
      "source": [
        "#4\n",
        "# Installiert\n",
        "!pip install torch==1.13.0 torchvision==0.14.0+rocm5.2 torchaudio==0.13.0+rocm5.2 -f https://download.pytorch.org/whl/torch_stable.html\n",
        "!pip install torch_geometric\n"
      ],
      "metadata": {
        "id": "yFfzeyJ-ByH_",
        "outputId": "8ff5be97-f4b5-42f2-806d-2b891d4813dd",
        "colab": {
          "base_uri": "https://localhost:8080/"
        }
      },
      "execution_count": 3,
      "outputs": [
        {
          "output_type": "stream",
          "name": "stdout",
          "text": [
            "Looking in links: https://download.pytorch.org/whl/torch_stable.html\n",
            "Collecting torch==1.13.0\n",
            "  Downloading https://download.pytorch.org/whl/rocm5.2/torch-1.13.0%2Brocm5.2-cp310-cp310-linux_x86_64.whl (1371.2 MB)\n",
            "\u001b[2K     \u001b[90m━━━━━━━━━━━━━━━━━━━━━━━━━━━━━━━━━━━━━━━━\u001b[0m \u001b[32m1.4/1.4 GB\u001b[0m \u001b[31m839.6 kB/s\u001b[0m eta \u001b[36m0:00:00\u001b[0m\n",
            "\u001b[?25hCollecting torchvision==0.14.0+rocm5.2\n",
            "  Downloading https://download.pytorch.org/whl/rocm5.2/torchvision-0.14.0%2Brocm5.2-cp310-cp310-linux_x86_64.whl (70.8 MB)\n",
            "\u001b[2K     \u001b[90m━━━━━━━━━━━━━━━━━━━━━━━━━━━━━━━━━━━━━━━━\u001b[0m \u001b[32m70.8/70.8 MB\u001b[0m \u001b[31m10.8 MB/s\u001b[0m eta \u001b[36m0:00:00\u001b[0m\n",
            "\u001b[?25hCollecting torchaudio==0.13.0+rocm5.2\n",
            "  Downloading https://download.pytorch.org/whl/rocm5.2/torchaudio-0.13.0%2Brocm5.2-cp310-cp310-linux_x86_64.whl (3.9 MB)\n",
            "\u001b[2K     \u001b[90m━━━━━━━━━━━━━━━━━━━━━━━━━━━━━━━━━━━━━━━━\u001b[0m \u001b[32m3.9/3.9 MB\u001b[0m \u001b[31m46.5 MB/s\u001b[0m eta \u001b[36m0:00:00\u001b[0m\n",
            "\u001b[?25hRequirement already satisfied: typing-extensions in /usr/local/lib/python3.10/dist-packages (from torch==1.13.0) (4.12.2)\n",
            "Requirement already satisfied: numpy in /usr/local/lib/python3.10/dist-packages (from torchvision==0.14.0+rocm5.2) (1.26.4)\n",
            "Requirement already satisfied: requests in /usr/local/lib/python3.10/dist-packages (from torchvision==0.14.0+rocm5.2) (2.32.3)\n",
            "Requirement already satisfied: pillow!=8.3.*,>=5.3.0 in /usr/local/lib/python3.10/dist-packages (from torchvision==0.14.0+rocm5.2) (11.1.0)\n",
            "Requirement already satisfied: charset-normalizer<4,>=2 in /usr/local/lib/python3.10/dist-packages (from requests->torchvision==0.14.0+rocm5.2) (3.4.1)\n",
            "Requirement already satisfied: idna<4,>=2.5 in /usr/local/lib/python3.10/dist-packages (from requests->torchvision==0.14.0+rocm5.2) (3.10)\n",
            "Requirement already satisfied: urllib3<3,>=1.21.1 in /usr/local/lib/python3.10/dist-packages (from requests->torchvision==0.14.0+rocm5.2) (2.3.0)\n",
            "Requirement already satisfied: certifi>=2017.4.17 in /usr/local/lib/python3.10/dist-packages (from requests->torchvision==0.14.0+rocm5.2) (2024.12.14)\n",
            "Installing collected packages: torch, torchvision, torchaudio\n",
            "  Attempting uninstall: torch\n",
            "    Found existing installation: torch 2.5.1+cu121\n",
            "    Uninstalling torch-2.5.1+cu121:\n",
            "      Successfully uninstalled torch-2.5.1+cu121\n",
            "  Attempting uninstall: torchvision\n",
            "    Found existing installation: torchvision 0.20.1+cu121\n",
            "    Uninstalling torchvision-0.20.1+cu121:\n",
            "      Successfully uninstalled torchvision-0.20.1+cu121\n",
            "  Attempting uninstall: torchaudio\n",
            "    Found existing installation: torchaudio 2.5.1+cu121\n",
            "    Uninstalling torchaudio-2.5.1+cu121:\n",
            "      Successfully uninstalled torchaudio-2.5.1+cu121\n",
            "Successfully installed torch-1.13.0+rocm5.2 torchaudio-0.13.0+rocm5.2 torchvision-0.14.0+rocm5.2\n",
            "Collecting torch_geometric\n",
            "  Downloading torch_geometric-2.6.1-py3-none-any.whl.metadata (63 kB)\n",
            "\u001b[2K     \u001b[90m━━━━━━━━━━━━━━━━━━━━━━━━━━━━━━━━━━━━━━━━\u001b[0m \u001b[32m63.1/63.1 kB\u001b[0m \u001b[31m1.7 MB/s\u001b[0m eta \u001b[36m0:00:00\u001b[0m\n",
            "\u001b[?25hRequirement already satisfied: aiohttp in /usr/local/lib/python3.10/dist-packages (from torch_geometric) (3.11.11)\n",
            "Requirement already satisfied: fsspec in /usr/local/lib/python3.10/dist-packages (from torch_geometric) (2024.10.0)\n",
            "Requirement already satisfied: jinja2 in /usr/local/lib/python3.10/dist-packages (from torch_geometric) (3.1.5)\n",
            "Requirement already satisfied: numpy in /usr/local/lib/python3.10/dist-packages (from torch_geometric) (1.26.4)\n",
            "Requirement already satisfied: psutil>=5.8.0 in /usr/local/lib/python3.10/dist-packages (from torch_geometric) (5.9.5)\n",
            "Requirement already satisfied: pyparsing in /usr/local/lib/python3.10/dist-packages (from torch_geometric) (3.2.1)\n",
            "Requirement already satisfied: requests in /usr/local/lib/python3.10/dist-packages (from torch_geometric) (2.32.3)\n",
            "Requirement already satisfied: tqdm in /usr/local/lib/python3.10/dist-packages (from torch_geometric) (4.67.1)\n",
            "Requirement already satisfied: aiohappyeyeballs>=2.3.0 in /usr/local/lib/python3.10/dist-packages (from aiohttp->torch_geometric) (2.4.4)\n",
            "Requirement already satisfied: aiosignal>=1.1.2 in /usr/local/lib/python3.10/dist-packages (from aiohttp->torch_geometric) (1.3.2)\n",
            "Requirement already satisfied: async-timeout<6.0,>=4.0 in /usr/local/lib/python3.10/dist-packages (from aiohttp->torch_geometric) (4.0.3)\n",
            "Requirement already satisfied: attrs>=17.3.0 in /usr/local/lib/python3.10/dist-packages (from aiohttp->torch_geometric) (24.3.0)\n",
            "Requirement already satisfied: frozenlist>=1.1.1 in /usr/local/lib/python3.10/dist-packages (from aiohttp->torch_geometric) (1.5.0)\n",
            "Requirement already satisfied: multidict<7.0,>=4.5 in /usr/local/lib/python3.10/dist-packages (from aiohttp->torch_geometric) (6.1.0)\n",
            "Requirement already satisfied: propcache>=0.2.0 in /usr/local/lib/python3.10/dist-packages (from aiohttp->torch_geometric) (0.2.1)\n",
            "Requirement already satisfied: yarl<2.0,>=1.17.0 in /usr/local/lib/python3.10/dist-packages (from aiohttp->torch_geometric) (1.18.3)\n",
            "Requirement already satisfied: MarkupSafe>=2.0 in /usr/local/lib/python3.10/dist-packages (from jinja2->torch_geometric) (3.0.2)\n",
            "Requirement already satisfied: charset-normalizer<4,>=2 in /usr/local/lib/python3.10/dist-packages (from requests->torch_geometric) (3.4.1)\n",
            "Requirement already satisfied: idna<4,>=2.5 in /usr/local/lib/python3.10/dist-packages (from requests->torch_geometric) (3.10)\n",
            "Requirement already satisfied: urllib3<3,>=1.21.1 in /usr/local/lib/python3.10/dist-packages (from requests->torch_geometric) (2.3.0)\n",
            "Requirement already satisfied: certifi>=2017.4.17 in /usr/local/lib/python3.10/dist-packages (from requests->torch_geometric) (2024.12.14)\n",
            "Requirement already satisfied: typing-extensions>=4.1.0 in /usr/local/lib/python3.10/dist-packages (from multidict<7.0,>=4.5->aiohttp->torch_geometric) (4.12.2)\n",
            "Downloading torch_geometric-2.6.1-py3-none-any.whl (1.1 MB)\n",
            "\u001b[2K   \u001b[90m━━━━━━━━━━━━━━━━━━━━━━━━━━━━━━━━━━━━━━━━\u001b[0m \u001b[32m1.1/1.1 MB\u001b[0m \u001b[31m17.5 MB/s\u001b[0m eta \u001b[36m0:00:00\u001b[0m\n",
            "\u001b[?25hInstalling collected packages: torch_geometric\n",
            "Successfully installed torch_geometric-2.6.1\n"
          ]
        }
      ]
    },
    {
      "cell_type": "code",
      "source": [
        "#5\n",
        "# Installiert, lange Installationszeit\n",
        "import os\n",
        "import torch\n",
        "import collections.abc\n",
        "os.environ['TORCH'] = torch.__version__\n",
        "print(torch.__version__)\n",
        "\n",
        "!pip install -q torch-scatter -f https://data.pyg.org/whl/torch-${TORCH}.html\n",
        "!pip install -q torch-sparse -f https://data.pyg.org/whl/torch-${TORCH}.html\n",
        "!pip install -q git+https://github.com/pyg-team/pytorch_geometric.git"
      ],
      "metadata": {
        "id": "dkxo9hsQZvW5",
        "outputId": "75fa46a3-cb56-4582-da86-f2fc7b4886e0",
        "colab": {
          "base_uri": "https://localhost:8080/"
        }
      },
      "execution_count": 4,
      "outputs": [
        {
          "output_type": "stream",
          "name": "stdout",
          "text": [
            "1.13.0+rocm5.2\n",
            "\u001b[2K     \u001b[90m━━━━━━━━━━━━━━━━━━━━━━━━━━━━━━━━━━━━━━━━\u001b[0m \u001b[32m108.0/108.0 kB\u001b[0m \u001b[31m2.6 MB/s\u001b[0m eta \u001b[36m0:00:00\u001b[0m\n",
            "\u001b[?25h  Preparing metadata (setup.py) ... \u001b[?25l\u001b[?25hdone\n",
            "  Building wheel for torch-scatter (setup.py) ... \u001b[?25l\u001b[?25hdone\n",
            "\u001b[2K     \u001b[90m━━━━━━━━━━━━━━━━━━━━━━━━━━━━━━━━━━━━━━━━\u001b[0m \u001b[32m210.0/210.0 kB\u001b[0m \u001b[31m4.2 MB/s\u001b[0m eta \u001b[36m0:00:00\u001b[0m\n",
            "\u001b[?25h  Preparing metadata (setup.py) ... \u001b[?25l\u001b[?25hdone\n",
            "  Building wheel for torch-sparse (setup.py) ... \u001b[?25l\u001b[?25hdone\n",
            "  Installing build dependencies ... \u001b[?25l\u001b[?25hdone\n",
            "  Getting requirements to build wheel ... \u001b[?25l\u001b[?25hdone\n",
            "  Preparing metadata (pyproject.toml) ... \u001b[?25l\u001b[?25hdone\n",
            "  Building wheel for torch-geometric (pyproject.toml) ... \u001b[?25l\u001b[?25hdone\n"
          ]
        }
      ]
    },
    {
      "cell_type": "code",
      "source": [
        "#6\n",
        "!pip install tinydb\n",
        "!pip install tinydb_serialization\n",
        "!pip install seml==0.4.2\n",
        "import seml"
      ],
      "metadata": {
        "colab": {
          "base_uri": "https://localhost:8080/"
        },
        "id": "EcLx5YSR3IRI",
        "outputId": "6180925f-bd50-440c-985c-c8b4961fb651"
      },
      "execution_count": 5,
      "outputs": [
        {
          "output_type": "stream",
          "name": "stdout",
          "text": [
            "Collecting tinydb\n",
            "  Downloading tinydb-4.8.2-py3-none-any.whl.metadata (6.7 kB)\n",
            "Downloading tinydb-4.8.2-py3-none-any.whl (24 kB)\n",
            "Installing collected packages: tinydb\n",
            "Successfully installed tinydb-4.8.2\n",
            "Collecting tinydb_serialization\n",
            "  Downloading tinydb_serialization-2.2.0-py3-none-any.whl.metadata (5.8 kB)\n",
            "Requirement already satisfied: tinydb<5.0,>=4.0 in /usr/local/lib/python3.10/dist-packages (from tinydb_serialization) (4.8.2)\n",
            "Downloading tinydb_serialization-2.2.0-py3-none-any.whl (5.7 kB)\n",
            "Installing collected packages: tinydb_serialization\n",
            "Successfully installed tinydb_serialization-2.2.0\n",
            "Collecting seml==0.4.2\n",
            "  Downloading seml-0.4.2-py3-none-any.whl.metadata (6.3 kB)\n",
            "Requirement already satisfied: numpy>=1.15 in /usr/local/lib/python3.10/dist-packages (from seml==0.4.2) (1.26.4)\n",
            "Requirement already satisfied: pymongo>=3.11 in /usr/local/lib/python3.10/dist-packages (from seml==0.4.2) (4.10.1)\n",
            "Requirement already satisfied: pandas in /usr/local/lib/python3.10/dist-packages (from seml==0.4.2) (2.2.2)\n",
            "Requirement already satisfied: sacred>=0.8.4 in /usr/local/lib/python3.10/dist-packages (from seml==0.4.2) (0.8.7)\n",
            "Requirement already satisfied: pyyaml>=5.1 in /usr/local/lib/python3.10/dist-packages (from seml==0.4.2) (6.0.2)\n",
            "Requirement already satisfied: jsonpickle>=2.2 in /usr/local/lib/python3.10/dist-packages (from seml==0.4.2) (4.0.1)\n",
            "Requirement already satisfied: munch>=2.0.4 in /usr/local/lib/python3.10/dist-packages (from seml==0.4.2) (4.0.0)\n",
            "Requirement already satisfied: tqdm>=4.36 in /usr/local/lib/python3.10/dist-packages (from seml==0.4.2) (4.67.1)\n",
            "Requirement already satisfied: debugpy>=1.2.1 in /usr/local/lib/python3.10/dist-packages (from seml==0.4.2) (1.8.0)\n",
            "Requirement already satisfied: requests>=2.28.1 in /usr/local/lib/python3.10/dist-packages (from seml==0.4.2) (2.32.3)\n",
            "Requirement already satisfied: typer<1.0,>=0.9 in /usr/local/lib/python3.10/dist-packages (from seml==0.4.2) (0.15.1)\n",
            "Requirement already satisfied: rich<14.0,>=13.0 in /usr/local/lib/python3.10/dist-packages (from seml==0.4.2) (13.9.4)\n",
            "Requirement already satisfied: omegaconf<3.0,>=2.3.0 in /usr/local/lib/python3.10/dist-packages (from seml==0.4.2) (2.3.0)\n",
            "Requirement already satisfied: antlr4-python3-runtime==4.9.* in /usr/local/lib/python3.10/dist-packages (from omegaconf<3.0,>=2.3.0->seml==0.4.2) (4.9.3)\n",
            "Requirement already satisfied: dnspython<3.0.0,>=1.16.0 in /usr/local/lib/python3.10/dist-packages (from pymongo>=3.11->seml==0.4.2) (2.7.0)\n",
            "Requirement already satisfied: charset-normalizer<4,>=2 in /usr/local/lib/python3.10/dist-packages (from requests>=2.28.1->seml==0.4.2) (3.4.1)\n",
            "Requirement already satisfied: idna<4,>=2.5 in /usr/local/lib/python3.10/dist-packages (from requests>=2.28.1->seml==0.4.2) (3.10)\n",
            "Requirement already satisfied: urllib3<3,>=1.21.1 in /usr/local/lib/python3.10/dist-packages (from requests>=2.28.1->seml==0.4.2) (2.3.0)\n",
            "Requirement already satisfied: certifi>=2017.4.17 in /usr/local/lib/python3.10/dist-packages (from requests>=2.28.1->seml==0.4.2) (2024.12.14)\n",
            "Requirement already satisfied: markdown-it-py>=2.2.0 in /usr/local/lib/python3.10/dist-packages (from rich<14.0,>=13.0->seml==0.4.2) (3.0.0)\n",
            "Requirement already satisfied: pygments<3.0.0,>=2.13.0 in /usr/local/lib/python3.10/dist-packages (from rich<14.0,>=13.0->seml==0.4.2) (2.18.0)\n",
            "Requirement already satisfied: typing-extensions<5.0,>=4.0.0 in /usr/local/lib/python3.10/dist-packages (from rich<14.0,>=13.0->seml==0.4.2) (4.12.2)\n",
            "Requirement already satisfied: docopt-ng<1.0,>=0.9 in /usr/local/lib/python3.10/dist-packages (from sacred>=0.8.4->seml==0.4.2) (0.9.0)\n",
            "Requirement already satisfied: wrapt<2.0,>=1.0 in /usr/local/lib/python3.10/dist-packages (from sacred>=0.8.4->seml==0.4.2) (1.17.0)\n",
            "Requirement already satisfied: py-cpuinfo>=4.0 in /usr/local/lib/python3.10/dist-packages (from sacred>=0.8.4->seml==0.4.2) (9.0.0)\n",
            "Requirement already satisfied: colorama>=0.4 in /usr/local/lib/python3.10/dist-packages (from sacred>=0.8.4->seml==0.4.2) (0.4.6)\n",
            "Requirement already satisfied: packaging>=18.0 in /usr/local/lib/python3.10/dist-packages (from sacred>=0.8.4->seml==0.4.2) (24.2)\n",
            "Requirement already satisfied: GitPython in /usr/local/lib/python3.10/dist-packages (from sacred>=0.8.4->seml==0.4.2) (3.1.44)\n",
            "Requirement already satisfied: click>=8.0.0 in /usr/local/lib/python3.10/dist-packages (from typer<1.0,>=0.9->seml==0.4.2) (8.1.8)\n",
            "Requirement already satisfied: shellingham>=1.3.0 in /usr/local/lib/python3.10/dist-packages (from typer<1.0,>=0.9->seml==0.4.2) (1.5.4)\n",
            "Requirement already satisfied: python-dateutil>=2.8.2 in /usr/local/lib/python3.10/dist-packages (from pandas->seml==0.4.2) (2.8.2)\n",
            "Requirement already satisfied: pytz>=2020.1 in /usr/local/lib/python3.10/dist-packages (from pandas->seml==0.4.2) (2024.2)\n",
            "Requirement already satisfied: tzdata>=2022.7 in /usr/local/lib/python3.10/dist-packages (from pandas->seml==0.4.2) (2024.2)\n",
            "Requirement already satisfied: mdurl~=0.1 in /usr/local/lib/python3.10/dist-packages (from markdown-it-py>=2.2.0->rich<14.0,>=13.0->seml==0.4.2) (0.1.2)\n",
            "Requirement already satisfied: six>=1.5 in /usr/local/lib/python3.10/dist-packages (from python-dateutil>=2.8.2->pandas->seml==0.4.2) (1.17.0)\n",
            "Requirement already satisfied: gitdb<5,>=4.0.1 in /usr/local/lib/python3.10/dist-packages (from GitPython->sacred>=0.8.4->seml==0.4.2) (4.0.12)\n",
            "Requirement already satisfied: smmap<6,>=3.0.1 in /usr/local/lib/python3.10/dist-packages (from gitdb<5,>=4.0.1->GitPython->sacred>=0.8.4->seml==0.4.2) (5.0.2)\n",
            "Downloading seml-0.4.2-py3-none-any.whl (81 kB)\n",
            "\u001b[2K   \u001b[90m━━━━━━━━━━━━━━━━━━━━━━━━━━━━━━━━━━━━━━━━\u001b[0m \u001b[32m81.5/81.5 kB\u001b[0m \u001b[31m1.9 MB/s\u001b[0m eta \u001b[36m0:00:00\u001b[0m\n",
            "\u001b[?25hInstalling collected packages: seml\n",
            "  Attempting uninstall: seml\n",
            "    Found existing installation: seml 0.5.4\n",
            "    Uninstalling seml-0.5.4:\n",
            "      Successfully uninstalled seml-0.5.4\n",
            "Successfully installed seml-0.4.2\n"
          ]
        }
      ]
    },
    {
      "cell_type": "code",
      "source": [
        "#7\n",
        "#%cd robustness_of_gnns_at_scale\n",
        "from matplotlib import pyplot as plt\n",
        "\n",
        "from experiments import (\n",
        "    experiment_train,\n",
        "    experiment_local_attack_direct,\n",
        "    experiment_global_attack_direct\n",
        ")\n",
        "\n",
        "%matplotlib inline\n",
        "\n",
        "%load_ext autoreload\n",
        "%autoreload 2"
      ],
      "metadata": {
        "id": "dla6ioi_FBWn",
        "outputId": "3abd6f5f-deea-4fac-e5e5-60980ab84f51",
        "colab": {
          "base_uri": "https://localhost:8080/",
          "height": 397
        }
      },
      "execution_count": 3,
      "outputs": [
        {
          "output_type": "stream",
          "name": "stderr",
          "text": [
            "/usr/local/lib/python3.10/dist-packages/torch/__config__.py:9: UserWarning: HIP initialization: Unexpected error from hipGetDeviceCount(). Did you run some cuda functions before calling NumHipDevices() that might have already set an error? Error 101: hipErrorInvalidDevice (Triggered internally at ../c10/hip/HIPFunctions.cpp:110.)\n",
            "  return torch._C._show_config()\n",
            "No CUDA runtime is found, using CUDA_HOME='/usr/local/cuda'\n",
            "\u001b[92mSuccessfully preprocessed all matching files.\u001b[0m\n",
            "WARNING:root:Cuda kernels could not loaded -> no CUDA support!\n",
            "WARNING:root:Importing setup_logger directly from seml is deprecated.\n",
            "Use from seml.experiment import setup_logger instead.\n",
            "Note that seml.experiment.Experiment already includes the logger setup.\n",
            "See https://github.com/TUM-DAML/seml/blob/master/examples/example_experiment.py\n"
          ]
        },
        {
          "output_type": "display_data",
          "data": {
            "text/plain": [
              "\u001b[2;36m[01/08/25 18:17:55]\u001b[0m\u001b[2;36m \u001b[0m\u001b[33mWARNING \u001b[0m Importing setup_logger directly from seml is deprecated.                \u001b]8;id=44554;file:///usr/local/lib/python3.10/dist-packages/seml/__init__.py\u001b\\\u001b[2m__init__.py\u001b[0m\u001b]8;;\u001b\\\u001b[2m:\u001b[0m\u001b]8;id=973026;file:///usr/local/lib/python3.10/dist-packages/seml/__init__.py#10\u001b\\\u001b[2m10\u001b[0m\u001b]8;;\u001b\\\n",
              "\u001b[2;36m                    \u001b[0m         Use from seml.experiment import setup_logger instead.                   \u001b[2m              \u001b[0m\n",
              "\u001b[2;36m                    \u001b[0m         Note that seml.experiment.Experiment already includes the logger setup. \u001b[2m              \u001b[0m\n",
              "\u001b[2;36m                    \u001b[0m         See                                                                     \u001b[2m              \u001b[0m\n",
              "\u001b[2;36m                    \u001b[0m         \u001b[4;94mhttps://github.com/TUM-DAML/seml/blob/master/examples/example_experimen\u001b[0m \u001b[2m              \u001b[0m\n",
              "\u001b[2;36m                    \u001b[0m         \u001b[4;94mt.py\u001b[0m                                                                    \u001b[2m              \u001b[0m\n"
            ],
            "text/html": [
              "<pre style=\"white-space:pre;overflow-x:auto;line-height:normal;font-family:Menlo,'DejaVu Sans Mono',consolas,'Courier New',monospace\"><span style=\"color: #7fbfbf; text-decoration-color: #7fbfbf\">[01/08/25 18:17:55] </span><span style=\"color: #808000; text-decoration-color: #808000\">WARNING </span> Importing setup_logger directly from seml is deprecated.                <a href=\"file:///usr/local/lib/python3.10/dist-packages/seml/__init__.py\" target=\"_blank\"><span style=\"color: #7f7f7f; text-decoration-color: #7f7f7f\">__init__.py</span></a><span style=\"color: #7f7f7f; text-decoration-color: #7f7f7f\">:</span><a href=\"file:///usr/local/lib/python3.10/dist-packages/seml/__init__.py#10\" target=\"_blank\"><span style=\"color: #7f7f7f; text-decoration-color: #7f7f7f\">10</span></a>\n",
              "<span style=\"color: #7fbfbf; text-decoration-color: #7fbfbf\">                    </span>         Use from seml.experiment import setup_logger instead.                   <span style=\"color: #7f7f7f; text-decoration-color: #7f7f7f\">              </span>\n",
              "<span style=\"color: #7fbfbf; text-decoration-color: #7fbfbf\">                    </span>         Note that seml.experiment.Experiment already includes the logger setup. <span style=\"color: #7f7f7f; text-decoration-color: #7f7f7f\">              </span>\n",
              "<span style=\"color: #7fbfbf; text-decoration-color: #7fbfbf\">                    </span>         See                                                                     <span style=\"color: #7f7f7f; text-decoration-color: #7f7f7f\">              </span>\n",
              "<span style=\"color: #7fbfbf; text-decoration-color: #7fbfbf\">                    </span>         <span style=\"color: #0000ff; text-decoration-color: #0000ff; text-decoration: underline\">https://github.com/TUM-DAML/seml/blob/master/examples/example_experimen</span> <span style=\"color: #7f7f7f; text-decoration-color: #7f7f7f\">              </span>\n",
              "<span style=\"color: #7fbfbf; text-decoration-color: #7fbfbf\">                    </span>         <span style=\"color: #0000ff; text-decoration-color: #0000ff; text-decoration: underline\">t.py</span>                                                                    <span style=\"color: #7f7f7f; text-decoration-color: #7f7f7f\">              </span>\n",
              "</pre>\n"
            ]
          },
          "metadata": {}
        },
        {
          "output_type": "display_data",
          "data": {
            "text/plain": [
              "\u001b[2;36m[01/08/25 18:17:55]\u001b[0m\u001b[2;36m \u001b[0m\u001b[33mWARNING \u001b[0m Importing setup_logger directly from seml is deprecated.                \u001b]8;id=230240;file:///usr/local/lib/python3.10/dist-packages/seml/__init__.py\u001b\\\u001b[2m__init__.py\u001b[0m\u001b]8;;\u001b\\\u001b[2m:\u001b[0m\u001b]8;id=468372;file:///usr/local/lib/python3.10/dist-packages/seml/__init__.py#10\u001b\\\u001b[2m10\u001b[0m\u001b]8;;\u001b\\\n",
              "\u001b[2;36m                    \u001b[0m         Use from seml.experiment import setup_logger instead.                   \u001b[2m              \u001b[0m\n",
              "\u001b[2;36m                    \u001b[0m         Note that seml.experiment.Experiment already includes the logger setup. \u001b[2m              \u001b[0m\n",
              "\u001b[2;36m                    \u001b[0m         See                                                                     \u001b[2m              \u001b[0m\n",
              "\u001b[2;36m                    \u001b[0m         \u001b[4;94mhttps://github.com/TUM-DAML/seml/blob/master/examples/example_experimen\u001b[0m \u001b[2m              \u001b[0m\n",
              "\u001b[2;36m                    \u001b[0m         \u001b[4;94mt.py\u001b[0m                                                                    \u001b[2m              \u001b[0m\n"
            ],
            "text/html": [
              "<pre style=\"white-space:pre;overflow-x:auto;line-height:normal;font-family:Menlo,'DejaVu Sans Mono',consolas,'Courier New',monospace\"><span style=\"color: #7fbfbf; text-decoration-color: #7fbfbf\">[01/08/25 18:17:55] </span><span style=\"color: #808000; text-decoration-color: #808000\">WARNING </span> Importing setup_logger directly from seml is deprecated.                <a href=\"file:///usr/local/lib/python3.10/dist-packages/seml/__init__.py\" target=\"_blank\"><span style=\"color: #7f7f7f; text-decoration-color: #7f7f7f\">__init__.py</span></a><span style=\"color: #7f7f7f; text-decoration-color: #7f7f7f\">:</span><a href=\"file:///usr/local/lib/python3.10/dist-packages/seml/__init__.py#10\" target=\"_blank\"><span style=\"color: #7f7f7f; text-decoration-color: #7f7f7f\">10</span></a>\n",
              "<span style=\"color: #7fbfbf; text-decoration-color: #7fbfbf\">                    </span>         Use from seml.experiment import setup_logger instead.                   <span style=\"color: #7f7f7f; text-decoration-color: #7f7f7f\">              </span>\n",
              "<span style=\"color: #7fbfbf; text-decoration-color: #7fbfbf\">                    </span>         Note that seml.experiment.Experiment already includes the logger setup. <span style=\"color: #7f7f7f; text-decoration-color: #7f7f7f\">              </span>\n",
              "<span style=\"color: #7fbfbf; text-decoration-color: #7fbfbf\">                    </span>         See                                                                     <span style=\"color: #7f7f7f; text-decoration-color: #7f7f7f\">              </span>\n",
              "<span style=\"color: #7fbfbf; text-decoration-color: #7fbfbf\">                    </span>         <span style=\"color: #0000ff; text-decoration-color: #0000ff; text-decoration: underline\">https://github.com/TUM-DAML/seml/blob/master/examples/example_experimen</span> <span style=\"color: #7f7f7f; text-decoration-color: #7f7f7f\">              </span>\n",
              "<span style=\"color: #7fbfbf; text-decoration-color: #7fbfbf\">                    </span>         <span style=\"color: #0000ff; text-decoration-color: #0000ff; text-decoration: underline\">t.py</span>                                                                    <span style=\"color: #7f7f7f; text-decoration-color: #7f7f7f\">              </span>\n",
              "</pre>\n"
            ]
          },
          "metadata": {}
        }
      ]
    },
    {
      "cell_type": "markdown",
      "source": [
        "## 1. Training\n",
        "\n",
        "For the training and evaluation code we decided to provide Sacred experiments which make it very easy to run the same code from the command line or on your cluster. To train or attack the models you can use the `script_execute_experiment` script and simply specify the respective configuration or execute the experiment directly by passing the desired configuration in [experiments/experiment_train.py](https://github.com/sigeisler/robustness_of_gnns_at_scale/blob/main/experiments/experiment_train.py#L74).\n",
        "\n",
        "In the example below, we train a `GCN` on `Cora ML`."
      ],
      "metadata": {
        "id": "Rb2y6lUbdYi_"
      }
    },
    {
      "cell_type": "code",
      "source": [
        "!pwd"
      ],
      "metadata": {
        "id": "Qep-wC-OYHIH",
        "outputId": "cab1a253-410b-43f5-b733-4daf85914e47",
        "colab": {
          "base_uri": "https://localhost:8080/"
        }
      },
      "execution_count": 7,
      "outputs": [
        {
          "output_type": "stream",
          "name": "stdout",
          "text": [
            "/content/robustness_of_gnns_at_scale\n"
          ]
        }
      ]
    },
    {
      "cell_type": "code",
      "source": [
        "# zum laufen bringen:\n",
        "# alles ausführen\n",
        "# in rgnn_at_scale/models/gcn.py folgende imports einbauen:\n",
        "# import collections.abc\n",
        "# import collections\n",
        "# + Zeile 153 zu collections.abc.Sequence ändern\n",
        "# Nach der obigen Anpassen kam trotzdem der AttributeError module 'collection' has no module 'Sequence'\n",
        "# Dieser Fehler kam dann nicht mehr nach dem neustarten der Sitzung\n",
        "# Dann Zelle #7 vorher ausführen\n"
      ],
      "metadata": {
        "colab": {
          "base_uri": "https://localhost:8080/"
        },
        "id": "3FY3yZsxt98R",
        "outputId": "7beabaa1-d7bc-4d59-9429-7182eac3c5b2"
      },
      "execution_count": null,
      "outputs": [
        {
          "output_type": "stream",
          "name": "stdout",
          "text": [
            "3.10.12 (main, Nov  6 2024, 20:22:13) [GCC 11.4.0]\n"
          ]
        }
      ]
    },
    {
      "cell_type": "code",
      "source": [
        "train_statistics = experiment_train.run(\n",
        "    data_dir = './data',\n",
        "    dataset = 'cora_ml',\n",
        "    model_params = dict(\n",
        "        label=\"Vanilla GCN\",\n",
        "        model=\"GCN\",\n",
        "        do_cache_adj_prep=True,\n",
        "        n_filters=64,\n",
        "        dropout=0.5,\n",
        "        svd_params=None,\n",
        "        jaccard_params=None,\n",
        "        gdc_params={\"alpha\": 0.15, \"k\": 64}),\n",
        "    train_params = dict(\n",
        "        lr=1e-2,\n",
        "        weight_decay=1e-3,\n",
        "        patience=300,\n",
        "        max_epochs=3000),\n",
        "    binary_attr = False,\n",
        "    make_undirected = True,\n",
        "    seed=0,\n",
        "    artifact_dir = 'cache',\n",
        "    model_storage_type = 'demo',\n",
        "    ppr_cache_params = dict(),\n",
        "    #device = 0,\n",
        "    #data_device = 0,\n",
        "    device = \"cpu\",\n",
        "    data_device = \"cpu\",\n",
        "    display_steps = 100,\n",
        "    debug_level = \"info\"\n",
        ")\n",
        "\n",
        "# plot train and val loss curves\n",
        "fig, ax = plt.subplots()\n",
        "\n",
        "color = plt.rcParams['axes.prop_cycle'].by_key()['color'][0]\n",
        "ax.set_xlabel('Epoch $t$')\n",
        "ax.set_ylabel(\"Loss\")\n",
        "ax.plot(train_statistics['trace_train'], color=color, label='Train')\n",
        "\n",
        "color = plt.rcParams['axes.prop_cycle'].by_key()['color'][1]\n",
        "ax.plot(train_statistics['trace_val'], color=color, label='Val')\n",
        "ax.legend()\n",
        "\n",
        "plt.gcf().show()"
      ],
      "metadata": {
        "id": "6mga1GGvdbLp",
        "colab": {
          "base_uri": "https://localhost:8080/",
          "height": 1000,
          "referenced_widgets": [
            "bcf3bddbd4f745cba39bfde4b774e6ab",
            "fbf07fbe4ae743e99d69bf3302659bbc",
            "7afe538a3ca643f1a96877e5a0a511bb",
            "4f61844e49044b6391db9660df7c5e07",
            "bc43eddbd2f34f36b16ea35cb3308430",
            "ce0dc423666e446482c4e9ca0880d130",
            "2c97cd43ec194138b31c1a9c8ad39852",
            "1a155272ea6f4fb983f8eb87c181f5bf",
            "0ebca9ca411e47cb82e425c27e81077c",
            "b5b8c7f9b6604dcfa7378ff89258f13f",
            "f853f5ac4d51461f83761bbe387fb830"
          ]
        },
        "outputId": "8fbbd57f-eec5-466e-e690-94452c3cb106"
      },
      "execution_count": 4,
      "outputs": [
        {
          "output_type": "display_data",
          "data": {
            "text/plain": [
              "\u001b[2;36m[01/08/25 18:17:57]\u001b[0m\u001b[2;36m \u001b[0m\u001b[34mINFO    \u001b[0m \u001b[1m{\u001b[0m\u001b[32m'dataset'\u001b[0m: \u001b[32m'cora_ml'\u001b[0m, \u001b[32m'model_params'\u001b[0m: \u001b[1m{\u001b[0m\u001b[32m'label'\u001b[0m: \u001b[32m'Vanilla \u001b[0m     \u001b]8;id=969675;file:///content/robustness_of_gnns_at_scale/experiments/experiment_train.py\u001b\\\u001b[2mexperiment_train.py\u001b[0m\u001b]8;;\u001b\\\u001b[2m:\u001b[0m\u001b]8;id=795833;file:///content/robustness_of_gnns_at_scale/experiments/experiment_train.py#140\u001b\\\u001b[2m140\u001b[0m\u001b]8;;\u001b\\\n",
              "\u001b[2;36m                    \u001b[0m         \u001b[32mGCN'\u001b[0m, \u001b[32m'model'\u001b[0m: \u001b[32m'GCN'\u001b[0m, \u001b[32m'do_cache_adj_prep'\u001b[0m: \u001b[3;92mTrue\u001b[0m, \u001b[32m'n_filters'\u001b[0m:  \u001b[2m                       \u001b[0m\n",
              "\u001b[2;36m                    \u001b[0m         \u001b[1;36m64\u001b[0m, \u001b[32m'dropout'\u001b[0m: \u001b[1;36m0.5\u001b[0m, \u001b[32m'svd_params'\u001b[0m: \u001b[3;35mNone\u001b[0m, \u001b[32m'jaccard_params'\u001b[0m:      \u001b[2m                       \u001b[0m\n",
              "\u001b[2;36m                    \u001b[0m         \u001b[3;35mNone\u001b[0m, \u001b[32m'gdc_params'\u001b[0m: \u001b[1m{\u001b[0m\u001b[32m'alpha'\u001b[0m: \u001b[1;36m0.15\u001b[0m, \u001b[32m'k'\u001b[0m: \u001b[1;36m64\u001b[0m\u001b[1m}\u001b[0m\u001b[1m}\u001b[0m, \u001b[32m'train_params'\u001b[0m: \u001b[2m                       \u001b[0m\n",
              "\u001b[2;36m                    \u001b[0m         \u001b[1m{\u001b[0m\u001b[32m'lr'\u001b[0m: \u001b[1;36m0.01\u001b[0m, \u001b[32m'weight_decay'\u001b[0m: \u001b[1;36m0.001\u001b[0m, \u001b[32m'patience'\u001b[0m: \u001b[1;36m300\u001b[0m,           \u001b[2m                       \u001b[0m\n",
              "\u001b[2;36m                    \u001b[0m         \u001b[32m'max_epochs'\u001b[0m: \u001b[1;36m3000\u001b[0m\u001b[1m}\u001b[0m, \u001b[32m'binary_attr'\u001b[0m: \u001b[3;91mFalse\u001b[0m, \u001b[32m'make_undirected'\u001b[0m:  \u001b[2m                       \u001b[0m\n",
              "\u001b[2;36m                    \u001b[0m         \u001b[3;92mTrue\u001b[0m, \u001b[32m'seed'\u001b[0m: \u001b[1;36m0\u001b[0m, \u001b[32m'artifact_dir'\u001b[0m: \u001b[32m'cache'\u001b[0m,                      \u001b[2m                       \u001b[0m\n",
              "\u001b[2;36m                    \u001b[0m         \u001b[32m'model_storage_type'\u001b[0m: \u001b[32m'demo'\u001b[0m, \u001b[32m'ppr_cache_params'\u001b[0m: \u001b[1m{\u001b[0m\u001b[1m}\u001b[0m,          \u001b[2m                       \u001b[0m\n",
              "\u001b[2;36m                    \u001b[0m         \u001b[32m'device'\u001b[0m: \u001b[32m'cpu'\u001b[0m, \u001b[32m'display_steps'\u001b[0m: \u001b[1;36m100\u001b[0m, \u001b[32m'data_device'\u001b[0m: \u001b[32m'cpu'\u001b[0m\u001b[1m}\u001b[0m   \u001b[2m                       \u001b[0m\n"
            ],
            "text/html": [
              "<pre style=\"white-space:pre;overflow-x:auto;line-height:normal;font-family:Menlo,'DejaVu Sans Mono',consolas,'Courier New',monospace\"><span style=\"color: #7fbfbf; text-decoration-color: #7fbfbf\">[01/08/25 18:17:57] </span><span style=\"color: #000080; text-decoration-color: #000080\">INFO    </span> <span style=\"font-weight: bold\">{</span><span style=\"color: #008000; text-decoration-color: #008000\">'dataset'</span>: <span style=\"color: #008000; text-decoration-color: #008000\">'cora_ml'</span>, <span style=\"color: #008000; text-decoration-color: #008000\">'model_params'</span>: <span style=\"font-weight: bold\">{</span><span style=\"color: #008000; text-decoration-color: #008000\">'label'</span>: <span style=\"color: #008000; text-decoration-color: #008000\">'Vanilla </span>     <a href=\"file:///content/robustness_of_gnns_at_scale/experiments/experiment_train.py\" target=\"_blank\"><span style=\"color: #7f7f7f; text-decoration-color: #7f7f7f\">experiment_train.py</span></a><span style=\"color: #7f7f7f; text-decoration-color: #7f7f7f\">:</span><a href=\"file:///content/robustness_of_gnns_at_scale/experiments/experiment_train.py#140\" target=\"_blank\"><span style=\"color: #7f7f7f; text-decoration-color: #7f7f7f\">140</span></a>\n",
              "<span style=\"color: #7fbfbf; text-decoration-color: #7fbfbf\">                    </span>         <span style=\"color: #008000; text-decoration-color: #008000\">GCN'</span>, <span style=\"color: #008000; text-decoration-color: #008000\">'model'</span>: <span style=\"color: #008000; text-decoration-color: #008000\">'GCN'</span>, <span style=\"color: #008000; text-decoration-color: #008000\">'do_cache_adj_prep'</span>: <span style=\"color: #00ff00; text-decoration-color: #00ff00; font-style: italic\">True</span>, <span style=\"color: #008000; text-decoration-color: #008000\">'n_filters'</span>:  <span style=\"color: #7f7f7f; text-decoration-color: #7f7f7f\">                       </span>\n",
              "<span style=\"color: #7fbfbf; text-decoration-color: #7fbfbf\">                    </span>         <span style=\"color: #008080; text-decoration-color: #008080; font-weight: bold\">64</span>, <span style=\"color: #008000; text-decoration-color: #008000\">'dropout'</span>: <span style=\"color: #008080; text-decoration-color: #008080; font-weight: bold\">0.5</span>, <span style=\"color: #008000; text-decoration-color: #008000\">'svd_params'</span>: <span style=\"color: #800080; text-decoration-color: #800080; font-style: italic\">None</span>, <span style=\"color: #008000; text-decoration-color: #008000\">'jaccard_params'</span>:      <span style=\"color: #7f7f7f; text-decoration-color: #7f7f7f\">                       </span>\n",
              "<span style=\"color: #7fbfbf; text-decoration-color: #7fbfbf\">                    </span>         <span style=\"color: #800080; text-decoration-color: #800080; font-style: italic\">None</span>, <span style=\"color: #008000; text-decoration-color: #008000\">'gdc_params'</span>: <span style=\"font-weight: bold\">{</span><span style=\"color: #008000; text-decoration-color: #008000\">'alpha'</span>: <span style=\"color: #008080; text-decoration-color: #008080; font-weight: bold\">0.15</span>, <span style=\"color: #008000; text-decoration-color: #008000\">'k'</span>: <span style=\"color: #008080; text-decoration-color: #008080; font-weight: bold\">64</span><span style=\"font-weight: bold\">}}</span>, <span style=\"color: #008000; text-decoration-color: #008000\">'train_params'</span>: <span style=\"color: #7f7f7f; text-decoration-color: #7f7f7f\">                       </span>\n",
              "<span style=\"color: #7fbfbf; text-decoration-color: #7fbfbf\">                    </span>         <span style=\"font-weight: bold\">{</span><span style=\"color: #008000; text-decoration-color: #008000\">'lr'</span>: <span style=\"color: #008080; text-decoration-color: #008080; font-weight: bold\">0.01</span>, <span style=\"color: #008000; text-decoration-color: #008000\">'weight_decay'</span>: <span style=\"color: #008080; text-decoration-color: #008080; font-weight: bold\">0.001</span>, <span style=\"color: #008000; text-decoration-color: #008000\">'patience'</span>: <span style=\"color: #008080; text-decoration-color: #008080; font-weight: bold\">300</span>,           <span style=\"color: #7f7f7f; text-decoration-color: #7f7f7f\">                       </span>\n",
              "<span style=\"color: #7fbfbf; text-decoration-color: #7fbfbf\">                    </span>         <span style=\"color: #008000; text-decoration-color: #008000\">'max_epochs'</span>: <span style=\"color: #008080; text-decoration-color: #008080; font-weight: bold\">3000</span><span style=\"font-weight: bold\">}</span>, <span style=\"color: #008000; text-decoration-color: #008000\">'binary_attr'</span>: <span style=\"color: #ff0000; text-decoration-color: #ff0000; font-style: italic\">False</span>, <span style=\"color: #008000; text-decoration-color: #008000\">'make_undirected'</span>:  <span style=\"color: #7f7f7f; text-decoration-color: #7f7f7f\">                       </span>\n",
              "<span style=\"color: #7fbfbf; text-decoration-color: #7fbfbf\">                    </span>         <span style=\"color: #00ff00; text-decoration-color: #00ff00; font-style: italic\">True</span>, <span style=\"color: #008000; text-decoration-color: #008000\">'seed'</span>: <span style=\"color: #008080; text-decoration-color: #008080; font-weight: bold\">0</span>, <span style=\"color: #008000; text-decoration-color: #008000\">'artifact_dir'</span>: <span style=\"color: #008000; text-decoration-color: #008000\">'cache'</span>,                      <span style=\"color: #7f7f7f; text-decoration-color: #7f7f7f\">                       </span>\n",
              "<span style=\"color: #7fbfbf; text-decoration-color: #7fbfbf\">                    </span>         <span style=\"color: #008000; text-decoration-color: #008000\">'model_storage_type'</span>: <span style=\"color: #008000; text-decoration-color: #008000\">'demo'</span>, <span style=\"color: #008000; text-decoration-color: #008000\">'ppr_cache_params'</span>: <span style=\"font-weight: bold\">{}</span>,          <span style=\"color: #7f7f7f; text-decoration-color: #7f7f7f\">                       </span>\n",
              "<span style=\"color: #7fbfbf; text-decoration-color: #7fbfbf\">                    </span>         <span style=\"color: #008000; text-decoration-color: #008000\">'device'</span>: <span style=\"color: #008000; text-decoration-color: #008000\">'cpu'</span>, <span style=\"color: #008000; text-decoration-color: #008000\">'display_steps'</span>: <span style=\"color: #008080; text-decoration-color: #008080; font-weight: bold\">100</span>, <span style=\"color: #008000; text-decoration-color: #008000\">'data_device'</span>: <span style=\"color: #008000; text-decoration-color: #008000\">'cpu'</span><span style=\"font-weight: bold\">}</span>   <span style=\"color: #7f7f7f; text-decoration-color: #7f7f7f\">                       </span>\n",
              "</pre>\n"
            ]
          },
          "metadata": {}
        },
        {
          "output_type": "display_data",
          "data": {
            "text/plain": [
              "\u001b[2;36m                   \u001b[0m\u001b[2;36m \u001b[0m\u001b[34mINFO    \u001b[0m Training set size: \u001b[1;36m140\u001b[0m                                         \u001b]8;id=346612;file:///content/robustness_of_gnns_at_scale/experiments/experiment_train.py\u001b\\\u001b[2mexperiment_train.py\u001b[0m\u001b]8;;\u001b\\\u001b[2m:\u001b[0m\u001b]8;id=553833;file:///content/robustness_of_gnns_at_scale/experiments/experiment_train.py#161\u001b\\\u001b[2m161\u001b[0m\u001b]8;;\u001b\\\n"
            ],
            "text/html": [
              "<pre style=\"white-space:pre;overflow-x:auto;line-height:normal;font-family:Menlo,'DejaVu Sans Mono',consolas,'Courier New',monospace\"><span style=\"color: #7fbfbf; text-decoration-color: #7fbfbf\">                    </span><span style=\"color: #000080; text-decoration-color: #000080\">INFO    </span> Training set size: <span style=\"color: #008080; text-decoration-color: #008080; font-weight: bold\">140</span>                                         <a href=\"file:///content/robustness_of_gnns_at_scale/experiments/experiment_train.py\" target=\"_blank\"><span style=\"color: #7f7f7f; text-decoration-color: #7f7f7f\">experiment_train.py</span></a><span style=\"color: #7f7f7f; text-decoration-color: #7f7f7f\">:</span><a href=\"file:///content/robustness_of_gnns_at_scale/experiments/experiment_train.py#161\" target=\"_blank\"><span style=\"color: #7f7f7f; text-decoration-color: #7f7f7f\">161</span></a>\n",
              "</pre>\n"
            ]
          },
          "metadata": {}
        },
        {
          "output_type": "display_data",
          "data": {
            "text/plain": [
              "\u001b[2;36m                   \u001b[0m\u001b[2;36m \u001b[0m\u001b[34mINFO    \u001b[0m Validation set size: \u001b[1;36m140\u001b[0m                                       \u001b]8;id=30683;file:///content/robustness_of_gnns_at_scale/experiments/experiment_train.py\u001b\\\u001b[2mexperiment_train.py\u001b[0m\u001b]8;;\u001b\\\u001b[2m:\u001b[0m\u001b]8;id=181649;file:///content/robustness_of_gnns_at_scale/experiments/experiment_train.py#162\u001b\\\u001b[2m162\u001b[0m\u001b]8;;\u001b\\\n"
            ],
            "text/html": [
              "<pre style=\"white-space:pre;overflow-x:auto;line-height:normal;font-family:Menlo,'DejaVu Sans Mono',consolas,'Courier New',monospace\"><span style=\"color: #7fbfbf; text-decoration-color: #7fbfbf\">                    </span><span style=\"color: #000080; text-decoration-color: #000080\">INFO    </span> Validation set size: <span style=\"color: #008080; text-decoration-color: #008080; font-weight: bold\">140</span>                                       <a href=\"file:///content/robustness_of_gnns_at_scale/experiments/experiment_train.py\" target=\"_blank\"><span style=\"color: #7f7f7f; text-decoration-color: #7f7f7f\">experiment_train.py</span></a><span style=\"color: #7f7f7f; text-decoration-color: #7f7f7f\">:</span><a href=\"file:///content/robustness_of_gnns_at_scale/experiments/experiment_train.py#162\" target=\"_blank\"><span style=\"color: #7f7f7f; text-decoration-color: #7f7f7f\">162</span></a>\n",
              "</pre>\n"
            ]
          },
          "metadata": {}
        },
        {
          "output_type": "display_data",
          "data": {
            "text/plain": [
              "\u001b[2;36m                   \u001b[0m\u001b[2;36m \u001b[0m\u001b[34mINFO    \u001b[0m Test set size: \u001b[1;36m2530\u001b[0m                                            \u001b]8;id=39325;file:///content/robustness_of_gnns_at_scale/experiments/experiment_train.py\u001b\\\u001b[2mexperiment_train.py\u001b[0m\u001b]8;;\u001b\\\u001b[2m:\u001b[0m\u001b]8;id=783776;file:///content/robustness_of_gnns_at_scale/experiments/experiment_train.py#163\u001b\\\u001b[2m163\u001b[0m\u001b]8;;\u001b\\\n"
            ],
            "text/html": [
              "<pre style=\"white-space:pre;overflow-x:auto;line-height:normal;font-family:Menlo,'DejaVu Sans Mono',consolas,'Courier New',monospace\"><span style=\"color: #7fbfbf; text-decoration-color: #7fbfbf\">                    </span><span style=\"color: #000080; text-decoration-color: #000080\">INFO    </span> Test set size: <span style=\"color: #008080; text-decoration-color: #008080; font-weight: bold\">2530</span>                                            <a href=\"file:///content/robustness_of_gnns_at_scale/experiments/experiment_train.py\" target=\"_blank\"><span style=\"color: #7f7f7f; text-decoration-color: #7f7f7f\">experiment_train.py</span></a><span style=\"color: #7f7f7f; text-decoration-color: #7f7f7f\">:</span><a href=\"file:///content/robustness_of_gnns_at_scale/experiments/experiment_train.py#163\" target=\"_blank\"><span style=\"color: #7f7f7f; text-decoration-color: #7f7f7f\">163</span></a>\n",
              "</pre>\n"
            ]
          },
          "metadata": {}
        },
        {
          "output_type": "display_data",
          "data": {
            "text/plain": [
              "\u001b[2;36m                   \u001b[0m\u001b[2;36m \u001b[0m\u001b[34mINFO    \u001b[0m Memory Usage after loading the dataset:                        \u001b]8;id=823526;file:///content/robustness_of_gnns_at_scale/experiments/experiment_train.py\u001b\\\u001b[2mexperiment_train.py\u001b[0m\u001b]8;;\u001b\\\u001b[2m:\u001b[0m\u001b]8;id=976565;file:///content/robustness_of_gnns_at_scale/experiments/experiment_train.py#183\u001b\\\u001b[2m183\u001b[0m\u001b]8;;\u001b\\\n"
            ],
            "text/html": [
              "<pre style=\"white-space:pre;overflow-x:auto;line-height:normal;font-family:Menlo,'DejaVu Sans Mono',consolas,'Courier New',monospace\"><span style=\"color: #7fbfbf; text-decoration-color: #7fbfbf\">                    </span><span style=\"color: #000080; text-decoration-color: #000080\">INFO    </span> Memory Usage after loading the dataset:                        <a href=\"file:///content/robustness_of_gnns_at_scale/experiments/experiment_train.py\" target=\"_blank\"><span style=\"color: #7f7f7f; text-decoration-color: #7f7f7f\">experiment_train.py</span></a><span style=\"color: #7f7f7f; text-decoration-color: #7f7f7f\">:</span><a href=\"file:///content/robustness_of_gnns_at_scale/experiments/experiment_train.py#183\" target=\"_blank\"><span style=\"color: #7f7f7f; text-decoration-color: #7f7f7f\">183</span></a>\n",
              "</pre>\n"
            ]
          },
          "metadata": {}
        },
        {
          "output_type": "display_data",
          "data": {
            "text/plain": [
              "\u001b[2;36m                   \u001b[0m\u001b[2;36m \u001b[0m\u001b[34mINFO    \u001b[0m \u001b[1;36m0.7151222229003906\u001b[0m                                             \u001b]8;id=525906;file:///content/robustness_of_gnns_at_scale/experiments/experiment_train.py\u001b\\\u001b[2mexperiment_train.py\u001b[0m\u001b]8;;\u001b\\\u001b[2m:\u001b[0m\u001b]8;id=98271;file:///content/robustness_of_gnns_at_scale/experiments/experiment_train.py#184\u001b\\\u001b[2m184\u001b[0m\u001b]8;;\u001b\\\n"
            ],
            "text/html": [
              "<pre style=\"white-space:pre;overflow-x:auto;line-height:normal;font-family:Menlo,'DejaVu Sans Mono',consolas,'Courier New',monospace\"><span style=\"color: #7fbfbf; text-decoration-color: #7fbfbf\">                    </span><span style=\"color: #000080; text-decoration-color: #000080\">INFO    </span> <span style=\"color: #008080; text-decoration-color: #008080; font-weight: bold\">0.7151222229003906</span>                                             <a href=\"file:///content/robustness_of_gnns_at_scale/experiments/experiment_train.py\" target=\"_blank\"><span style=\"color: #7f7f7f; text-decoration-color: #7f7f7f\">experiment_train.py</span></a><span style=\"color: #7f7f7f; text-decoration-color: #7f7f7f\">:</span><a href=\"file:///content/robustness_of_gnns_at_scale/experiments/experiment_train.py#184\" target=\"_blank\"><span style=\"color: #7f7f7f; text-decoration-color: #7f7f7f\">184</span></a>\n",
              "</pre>\n"
            ]
          },
          "metadata": {}
        },
        {
          "output_type": "display_data",
          "data": {
            "text/plain": [
              "Training...:   0%|          | 0/3000 [00:00<?, ?it/s]"
            ],
            "application/vnd.jupyter.widget-view+json": {
              "version_major": 2,
              "version_minor": 0,
              "model_id": "bcf3bddbd4f745cba39bfde4b774e6ab"
            }
          },
          "metadata": {}
        },
        {
          "output_type": "display_data",
          "data": {
            "text/plain": [
              "\u001b[2;36m[01/08/25 18:17:59]\u001b[0m\u001b[2;36m \u001b[0m\u001b[34mINFO    \u001b[0m                                                                            \u001b]8;id=669811;file:///content/robustness_of_gnns_at_scale/rgnn_at_scale/train.py\u001b\\\u001b[2mtrain.py\u001b[0m\u001b]8;;\u001b\\\u001b[2m:\u001b[0m\u001b]8;id=77537;file:///content/robustness_of_gnns_at_scale/rgnn_at_scale/train.py#81\u001b\\\u001b[2m81\u001b[0m\u001b]8;;\u001b\\\n",
              "\u001b[2;36m                    \u001b[0m         Epoch    \u001b[1;36m0\u001b[0m: loss_train: \u001b[1;36m1.94657\u001b[0m, loss_val: \u001b[1;36m1.94479\u001b[0m, acc_train: \u001b[1;36m0.10000\u001b[0m,    \u001b[2m           \u001b[0m\n",
              "\u001b[2;36m                    \u001b[0m         acc_val: \u001b[1;36m0.19286\u001b[0m                                                           \u001b[2m           \u001b[0m\n"
            ],
            "text/html": [
              "<pre style=\"white-space:pre;overflow-x:auto;line-height:normal;font-family:Menlo,'DejaVu Sans Mono',consolas,'Courier New',monospace\"><span style=\"color: #7fbfbf; text-decoration-color: #7fbfbf\">[01/08/25 18:17:59] </span><span style=\"color: #000080; text-decoration-color: #000080\">INFO    </span>                                                                            <a href=\"file:///content/robustness_of_gnns_at_scale/rgnn_at_scale/train.py\" target=\"_blank\"><span style=\"color: #7f7f7f; text-decoration-color: #7f7f7f\">train.py</span></a><span style=\"color: #7f7f7f; text-decoration-color: #7f7f7f\">:</span><a href=\"file:///content/robustness_of_gnns_at_scale/rgnn_at_scale/train.py#81\" target=\"_blank\"><span style=\"color: #7f7f7f; text-decoration-color: #7f7f7f\">81</span></a>\n",
              "<span style=\"color: #7fbfbf; text-decoration-color: #7fbfbf\">                    </span>         Epoch    <span style=\"color: #008080; text-decoration-color: #008080; font-weight: bold\">0</span>: loss_train: <span style=\"color: #008080; text-decoration-color: #008080; font-weight: bold\">1.94657</span>, loss_val: <span style=\"color: #008080; text-decoration-color: #008080; font-weight: bold\">1.94479</span>, acc_train: <span style=\"color: #008080; text-decoration-color: #008080; font-weight: bold\">0.10000</span>,    <span style=\"color: #7f7f7f; text-decoration-color: #7f7f7f\">           </span>\n",
              "<span style=\"color: #7fbfbf; text-decoration-color: #7fbfbf\">                    </span>         acc_val: <span style=\"color: #008080; text-decoration-color: #008080; font-weight: bold\">0.19286</span>                                                           <span style=\"color: #7f7f7f; text-decoration-color: #7f7f7f\">           </span>\n",
              "</pre>\n"
            ]
          },
          "metadata": {}
        },
        {
          "output_type": "display_data",
          "data": {
            "text/plain": [
              "\u001b[2;36m[01/08/25 18:18:09]\u001b[0m\u001b[2;36m \u001b[0m\u001b[34mINFO    \u001b[0m                                                                            \u001b]8;id=647693;file:///content/robustness_of_gnns_at_scale/rgnn_at_scale/train.py\u001b\\\u001b[2mtrain.py\u001b[0m\u001b]8;;\u001b\\\u001b[2m:\u001b[0m\u001b]8;id=691924;file:///content/robustness_of_gnns_at_scale/rgnn_at_scale/train.py#81\u001b\\\u001b[2m81\u001b[0m\u001b]8;;\u001b\\\n",
              "\u001b[2;36m                    \u001b[0m         Epoch  \u001b[1;36m100\u001b[0m: loss_train: \u001b[1;36m0.09280\u001b[0m, loss_val: \u001b[1;36m0.42191\u001b[0m, acc_train: \u001b[1;36m1.00000\u001b[0m,    \u001b[2m           \u001b[0m\n",
              "\u001b[2;36m                    \u001b[0m         acc_val: \u001b[1;36m0.88571\u001b[0m                                                           \u001b[2m           \u001b[0m\n"
            ],
            "text/html": [
              "<pre style=\"white-space:pre;overflow-x:auto;line-height:normal;font-family:Menlo,'DejaVu Sans Mono',consolas,'Courier New',monospace\"><span style=\"color: #7fbfbf; text-decoration-color: #7fbfbf\">[01/08/25 18:18:09] </span><span style=\"color: #000080; text-decoration-color: #000080\">INFO    </span>                                                                            <a href=\"file:///content/robustness_of_gnns_at_scale/rgnn_at_scale/train.py\" target=\"_blank\"><span style=\"color: #7f7f7f; text-decoration-color: #7f7f7f\">train.py</span></a><span style=\"color: #7f7f7f; text-decoration-color: #7f7f7f\">:</span><a href=\"file:///content/robustness_of_gnns_at_scale/rgnn_at_scale/train.py#81\" target=\"_blank\"><span style=\"color: #7f7f7f; text-decoration-color: #7f7f7f\">81</span></a>\n",
              "<span style=\"color: #7fbfbf; text-decoration-color: #7fbfbf\">                    </span>         Epoch  <span style=\"color: #008080; text-decoration-color: #008080; font-weight: bold\">100</span>: loss_train: <span style=\"color: #008080; text-decoration-color: #008080; font-weight: bold\">0.09280</span>, loss_val: <span style=\"color: #008080; text-decoration-color: #008080; font-weight: bold\">0.42191</span>, acc_train: <span style=\"color: #008080; text-decoration-color: #008080; font-weight: bold\">1.00000</span>,    <span style=\"color: #7f7f7f; text-decoration-color: #7f7f7f\">           </span>\n",
              "<span style=\"color: #7fbfbf; text-decoration-color: #7fbfbf\">                    </span>         acc_val: <span style=\"color: #008080; text-decoration-color: #008080; font-weight: bold\">0.88571</span>                                                           <span style=\"color: #7f7f7f; text-decoration-color: #7f7f7f\">           </span>\n",
              "</pre>\n"
            ]
          },
          "metadata": {}
        },
        {
          "output_type": "display_data",
          "data": {
            "text/plain": [
              "\u001b[2;36m[01/08/25 18:18:19]\u001b[0m\u001b[2;36m \u001b[0m\u001b[34mINFO    \u001b[0m                                                                            \u001b]8;id=927230;file:///content/robustness_of_gnns_at_scale/rgnn_at_scale/train.py\u001b\\\u001b[2mtrain.py\u001b[0m\u001b]8;;\u001b\\\u001b[2m:\u001b[0m\u001b]8;id=723198;file:///content/robustness_of_gnns_at_scale/rgnn_at_scale/train.py#81\u001b\\\u001b[2m81\u001b[0m\u001b]8;;\u001b\\\n",
              "\u001b[2;36m                    \u001b[0m         Epoch  \u001b[1;36m200\u001b[0m: loss_train: \u001b[1;36m0.07180\u001b[0m, loss_val: \u001b[1;36m0.37593\u001b[0m, acc_train: \u001b[1;36m1.00000\u001b[0m,    \u001b[2m           \u001b[0m\n",
              "\u001b[2;36m                    \u001b[0m         acc_val: \u001b[1;36m0.90000\u001b[0m                                                           \u001b[2m           \u001b[0m\n"
            ],
            "text/html": [
              "<pre style=\"white-space:pre;overflow-x:auto;line-height:normal;font-family:Menlo,'DejaVu Sans Mono',consolas,'Courier New',monospace\"><span style=\"color: #7fbfbf; text-decoration-color: #7fbfbf\">[01/08/25 18:18:19] </span><span style=\"color: #000080; text-decoration-color: #000080\">INFO    </span>                                                                            <a href=\"file:///content/robustness_of_gnns_at_scale/rgnn_at_scale/train.py\" target=\"_blank\"><span style=\"color: #7f7f7f; text-decoration-color: #7f7f7f\">train.py</span></a><span style=\"color: #7f7f7f; text-decoration-color: #7f7f7f\">:</span><a href=\"file:///content/robustness_of_gnns_at_scale/rgnn_at_scale/train.py#81\" target=\"_blank\"><span style=\"color: #7f7f7f; text-decoration-color: #7f7f7f\">81</span></a>\n",
              "<span style=\"color: #7fbfbf; text-decoration-color: #7fbfbf\">                    </span>         Epoch  <span style=\"color: #008080; text-decoration-color: #008080; font-weight: bold\">200</span>: loss_train: <span style=\"color: #008080; text-decoration-color: #008080; font-weight: bold\">0.07180</span>, loss_val: <span style=\"color: #008080; text-decoration-color: #008080; font-weight: bold\">0.37593</span>, acc_train: <span style=\"color: #008080; text-decoration-color: #008080; font-weight: bold\">1.00000</span>,    <span style=\"color: #7f7f7f; text-decoration-color: #7f7f7f\">           </span>\n",
              "<span style=\"color: #7fbfbf; text-decoration-color: #7fbfbf\">                    </span>         acc_val: <span style=\"color: #008080; text-decoration-color: #008080; font-weight: bold\">0.90000</span>                                                           <span style=\"color: #7f7f7f; text-decoration-color: #7f7f7f\">           </span>\n",
              "</pre>\n"
            ]
          },
          "metadata": {}
        },
        {
          "output_type": "display_data",
          "data": {
            "text/plain": [
              "\u001b[2;36m[01/08/25 18:18:27]\u001b[0m\u001b[2;36m \u001b[0m\u001b[34mINFO    \u001b[0m                                                                            \u001b]8;id=708867;file:///content/robustness_of_gnns_at_scale/rgnn_at_scale/train.py\u001b\\\u001b[2mtrain.py\u001b[0m\u001b]8;;\u001b\\\u001b[2m:\u001b[0m\u001b]8;id=751403;file:///content/robustness_of_gnns_at_scale/rgnn_at_scale/train.py#81\u001b\\\u001b[2m81\u001b[0m\u001b]8;;\u001b\\\n",
              "\u001b[2;36m                    \u001b[0m         Epoch  \u001b[1;36m300\u001b[0m: loss_train: \u001b[1;36m0.07156\u001b[0m, loss_val: \u001b[1;36m0.39893\u001b[0m, acc_train: \u001b[1;36m1.00000\u001b[0m,    \u001b[2m           \u001b[0m\n",
              "\u001b[2;36m                    \u001b[0m         acc_val: \u001b[1;36m0.88571\u001b[0m                                                           \u001b[2m           \u001b[0m\n"
            ],
            "text/html": [
              "<pre style=\"white-space:pre;overflow-x:auto;line-height:normal;font-family:Menlo,'DejaVu Sans Mono',consolas,'Courier New',monospace\"><span style=\"color: #7fbfbf; text-decoration-color: #7fbfbf\">[01/08/25 18:18:27] </span><span style=\"color: #000080; text-decoration-color: #000080\">INFO    </span>                                                                            <a href=\"file:///content/robustness_of_gnns_at_scale/rgnn_at_scale/train.py\" target=\"_blank\"><span style=\"color: #7f7f7f; text-decoration-color: #7f7f7f\">train.py</span></a><span style=\"color: #7f7f7f; text-decoration-color: #7f7f7f\">:</span><a href=\"file:///content/robustness_of_gnns_at_scale/rgnn_at_scale/train.py#81\" target=\"_blank\"><span style=\"color: #7f7f7f; text-decoration-color: #7f7f7f\">81</span></a>\n",
              "<span style=\"color: #7fbfbf; text-decoration-color: #7fbfbf\">                    </span>         Epoch  <span style=\"color: #008080; text-decoration-color: #008080; font-weight: bold\">300</span>: loss_train: <span style=\"color: #008080; text-decoration-color: #008080; font-weight: bold\">0.07156</span>, loss_val: <span style=\"color: #008080; text-decoration-color: #008080; font-weight: bold\">0.39893</span>, acc_train: <span style=\"color: #008080; text-decoration-color: #008080; font-weight: bold\">1.00000</span>,    <span style=\"color: #7f7f7f; text-decoration-color: #7f7f7f\">           </span>\n",
              "<span style=\"color: #7fbfbf; text-decoration-color: #7fbfbf\">                    </span>         acc_val: <span style=\"color: #008080; text-decoration-color: #008080; font-weight: bold\">0.88571</span>                                                           <span style=\"color: #7f7f7f; text-decoration-color: #7f7f7f\">           </span>\n",
              "</pre>\n"
            ]
          },
          "metadata": {}
        },
        {
          "output_type": "display_data",
          "data": {
            "text/plain": [
              "\u001b[2;36m[01/08/25 18:18:37]\u001b[0m\u001b[2;36m \u001b[0m\u001b[34mINFO    \u001b[0m                                                                            \u001b]8;id=865118;file:///content/robustness_of_gnns_at_scale/rgnn_at_scale/train.py\u001b\\\u001b[2mtrain.py\u001b[0m\u001b]8;;\u001b\\\u001b[2m:\u001b[0m\u001b]8;id=614027;file:///content/robustness_of_gnns_at_scale/rgnn_at_scale/train.py#81\u001b\\\u001b[2m81\u001b[0m\u001b]8;;\u001b\\\n",
              "\u001b[2;36m                    \u001b[0m         Epoch  \u001b[1;36m400\u001b[0m: loss_train: \u001b[1;36m0.06845\u001b[0m, loss_val: \u001b[1;36m0.38141\u001b[0m, acc_train: \u001b[1;36m1.00000\u001b[0m,    \u001b[2m           \u001b[0m\n",
              "\u001b[2;36m                    \u001b[0m         acc_val: \u001b[1;36m0.90714\u001b[0m                                                           \u001b[2m           \u001b[0m\n"
            ],
            "text/html": [
              "<pre style=\"white-space:pre;overflow-x:auto;line-height:normal;font-family:Menlo,'DejaVu Sans Mono',consolas,'Courier New',monospace\"><span style=\"color: #7fbfbf; text-decoration-color: #7fbfbf\">[01/08/25 18:18:37] </span><span style=\"color: #000080; text-decoration-color: #000080\">INFO    </span>                                                                            <a href=\"file:///content/robustness_of_gnns_at_scale/rgnn_at_scale/train.py\" target=\"_blank\"><span style=\"color: #7f7f7f; text-decoration-color: #7f7f7f\">train.py</span></a><span style=\"color: #7f7f7f; text-decoration-color: #7f7f7f\">:</span><a href=\"file:///content/robustness_of_gnns_at_scale/rgnn_at_scale/train.py#81\" target=\"_blank\"><span style=\"color: #7f7f7f; text-decoration-color: #7f7f7f\">81</span></a>\n",
              "<span style=\"color: #7fbfbf; text-decoration-color: #7fbfbf\">                    </span>         Epoch  <span style=\"color: #008080; text-decoration-color: #008080; font-weight: bold\">400</span>: loss_train: <span style=\"color: #008080; text-decoration-color: #008080; font-weight: bold\">0.06845</span>, loss_val: <span style=\"color: #008080; text-decoration-color: #008080; font-weight: bold\">0.38141</span>, acc_train: <span style=\"color: #008080; text-decoration-color: #008080; font-weight: bold\">1.00000</span>,    <span style=\"color: #7f7f7f; text-decoration-color: #7f7f7f\">           </span>\n",
              "<span style=\"color: #7fbfbf; text-decoration-color: #7fbfbf\">                    </span>         acc_val: <span style=\"color: #008080; text-decoration-color: #008080; font-weight: bold\">0.90714</span>                                                           <span style=\"color: #7f7f7f; text-decoration-color: #7f7f7f\">           </span>\n",
              "</pre>\n"
            ]
          },
          "metadata": {}
        },
        {
          "output_type": "display_data",
          "data": {
            "text/plain": [
              "\u001b[2;36m[01/08/25 18:18:46]\u001b[0m\u001b[2;36m \u001b[0m\u001b[34mINFO    \u001b[0m                                                                            \u001b]8;id=112972;file:///content/robustness_of_gnns_at_scale/rgnn_at_scale/train.py\u001b\\\u001b[2mtrain.py\u001b[0m\u001b]8;;\u001b\\\u001b[2m:\u001b[0m\u001b]8;id=119125;file:///content/robustness_of_gnns_at_scale/rgnn_at_scale/train.py#81\u001b\\\u001b[2m81\u001b[0m\u001b]8;;\u001b\\\n",
              "\u001b[2;36m                    \u001b[0m         Epoch  \u001b[1;36m500\u001b[0m: loss_train: \u001b[1;36m0.06979\u001b[0m, loss_val: \u001b[1;36m0.36477\u001b[0m, acc_train: \u001b[1;36m1.00000\u001b[0m,    \u001b[2m           \u001b[0m\n",
              "\u001b[2;36m                    \u001b[0m         acc_val: \u001b[1;36m0.88571\u001b[0m                                                           \u001b[2m           \u001b[0m\n"
            ],
            "text/html": [
              "<pre style=\"white-space:pre;overflow-x:auto;line-height:normal;font-family:Menlo,'DejaVu Sans Mono',consolas,'Courier New',monospace\"><span style=\"color: #7fbfbf; text-decoration-color: #7fbfbf\">[01/08/25 18:18:46] </span><span style=\"color: #000080; text-decoration-color: #000080\">INFO    </span>                                                                            <a href=\"file:///content/robustness_of_gnns_at_scale/rgnn_at_scale/train.py\" target=\"_blank\"><span style=\"color: #7f7f7f; text-decoration-color: #7f7f7f\">train.py</span></a><span style=\"color: #7f7f7f; text-decoration-color: #7f7f7f\">:</span><a href=\"file:///content/robustness_of_gnns_at_scale/rgnn_at_scale/train.py#81\" target=\"_blank\"><span style=\"color: #7f7f7f; text-decoration-color: #7f7f7f\">81</span></a>\n",
              "<span style=\"color: #7fbfbf; text-decoration-color: #7fbfbf\">                    </span>         Epoch  <span style=\"color: #008080; text-decoration-color: #008080; font-weight: bold\">500</span>: loss_train: <span style=\"color: #008080; text-decoration-color: #008080; font-weight: bold\">0.06979</span>, loss_val: <span style=\"color: #008080; text-decoration-color: #008080; font-weight: bold\">0.36477</span>, acc_train: <span style=\"color: #008080; text-decoration-color: #008080; font-weight: bold\">1.00000</span>,    <span style=\"color: #7f7f7f; text-decoration-color: #7f7f7f\">           </span>\n",
              "<span style=\"color: #7fbfbf; text-decoration-color: #7fbfbf\">                    </span>         acc_val: <span style=\"color: #008080; text-decoration-color: #008080; font-weight: bold\">0.88571</span>                                                           <span style=\"color: #7f7f7f; text-decoration-color: #7f7f7f\">           </span>\n",
              "</pre>\n"
            ]
          },
          "metadata": {}
        },
        {
          "output_type": "display_data",
          "data": {
            "text/plain": [
              "\u001b[2;36m[01/08/25 18:18:55]\u001b[0m\u001b[2;36m \u001b[0m\u001b[34mINFO    \u001b[0m                                                                            \u001b]8;id=315159;file:///content/robustness_of_gnns_at_scale/rgnn_at_scale/train.py\u001b\\\u001b[2mtrain.py\u001b[0m\u001b]8;;\u001b\\\u001b[2m:\u001b[0m\u001b]8;id=894008;file:///content/robustness_of_gnns_at_scale/rgnn_at_scale/train.py#81\u001b\\\u001b[2m81\u001b[0m\u001b]8;;\u001b\\\n",
              "\u001b[2;36m                    \u001b[0m         Epoch  \u001b[1;36m600\u001b[0m: loss_train: \u001b[1;36m0.06436\u001b[0m, loss_val: \u001b[1;36m0.40324\u001b[0m, acc_train: \u001b[1;36m1.00000\u001b[0m,    \u001b[2m           \u001b[0m\n",
              "\u001b[2;36m                    \u001b[0m         acc_val: \u001b[1;36m0.87857\u001b[0m                                                           \u001b[2m           \u001b[0m\n"
            ],
            "text/html": [
              "<pre style=\"white-space:pre;overflow-x:auto;line-height:normal;font-family:Menlo,'DejaVu Sans Mono',consolas,'Courier New',monospace\"><span style=\"color: #7fbfbf; text-decoration-color: #7fbfbf\">[01/08/25 18:18:55] </span><span style=\"color: #000080; text-decoration-color: #000080\">INFO    </span>                                                                            <a href=\"file:///content/robustness_of_gnns_at_scale/rgnn_at_scale/train.py\" target=\"_blank\"><span style=\"color: #7f7f7f; text-decoration-color: #7f7f7f\">train.py</span></a><span style=\"color: #7f7f7f; text-decoration-color: #7f7f7f\">:</span><a href=\"file:///content/robustness_of_gnns_at_scale/rgnn_at_scale/train.py#81\" target=\"_blank\"><span style=\"color: #7f7f7f; text-decoration-color: #7f7f7f\">81</span></a>\n",
              "<span style=\"color: #7fbfbf; text-decoration-color: #7fbfbf\">                    </span>         Epoch  <span style=\"color: #008080; text-decoration-color: #008080; font-weight: bold\">600</span>: loss_train: <span style=\"color: #008080; text-decoration-color: #008080; font-weight: bold\">0.06436</span>, loss_val: <span style=\"color: #008080; text-decoration-color: #008080; font-weight: bold\">0.40324</span>, acc_train: <span style=\"color: #008080; text-decoration-color: #008080; font-weight: bold\">1.00000</span>,    <span style=\"color: #7f7f7f; text-decoration-color: #7f7f7f\">           </span>\n",
              "<span style=\"color: #7fbfbf; text-decoration-color: #7fbfbf\">                    </span>         acc_val: <span style=\"color: #008080; text-decoration-color: #008080; font-weight: bold\">0.87857</span>                                                           <span style=\"color: #7f7f7f; text-decoration-color: #7f7f7f\">           </span>\n",
              "</pre>\n"
            ]
          },
          "metadata": {}
        },
        {
          "output_type": "display_data",
          "data": {
            "text/plain": [
              "\u001b[2;36m[01/08/25 18:19:03]\u001b[0m\u001b[2;36m \u001b[0m\u001b[34mINFO    \u001b[0m Test accuracy is \u001b[1;36m0.8343873620033264\u001b[0m with seed \u001b[1;36m0\u001b[0m                \u001b]8;id=901842;file:///content/robustness_of_gnns_at_scale/experiments/experiment_train.py\u001b\\\u001b[2mexperiment_train.py\u001b[0m\u001b]8;;\u001b\\\u001b[2m:\u001b[0m\u001b]8;id=212408;file:///content/robustness_of_gnns_at_scale/experiments/experiment_train.py#216\u001b\\\u001b[2m216\u001b[0m\u001b]8;;\u001b\\\n"
            ],
            "text/html": [
              "<pre style=\"white-space:pre;overflow-x:auto;line-height:normal;font-family:Menlo,'DejaVu Sans Mono',consolas,'Courier New',monospace\"><span style=\"color: #7fbfbf; text-decoration-color: #7fbfbf\">[01/08/25 18:19:03] </span><span style=\"color: #000080; text-decoration-color: #000080\">INFO    </span> Test accuracy is <span style=\"color: #008080; text-decoration-color: #008080; font-weight: bold\">0.8343873620033264</span> with seed <span style=\"color: #008080; text-decoration-color: #008080; font-weight: bold\">0</span>                <a href=\"file:///content/robustness_of_gnns_at_scale/experiments/experiment_train.py\" target=\"_blank\"><span style=\"color: #7f7f7f; text-decoration-color: #7f7f7f\">experiment_train.py</span></a><span style=\"color: #7f7f7f; text-decoration-color: #7f7f7f\">:</span><a href=\"file:///content/robustness_of_gnns_at_scale/experiments/experiment_train.py#216\" target=\"_blank\"><span style=\"color: #7f7f7f; text-decoration-color: #7f7f7f\">216</span></a>\n",
              "</pre>\n"
            ]
          },
          "metadata": {}
        },
        {
          "output_type": "display_data",
          "data": {
            "text/plain": [
              "<Figure size 640x480 with 1 Axes>"
            ],
            "image/png": "[encoded data removed]"
          },
          "metadata": {}
        }
      ]
    },
    {
      "cell_type": "code",
      "source": [
        "clean_acc = train_statistics[\"accuracy\"]\n",
        "print(f'Accuracy of the model: {100*clean_acc:.2f}%')"
      ],
      "metadata": {
        "colab": {
          "base_uri": "https://localhost:8080/"
        },
        "id": "Diozgu7Vivj7",
        "outputId": "e300513f-303a-4058-ef49-5f7d10af04c2"
      },
      "execution_count": 5,
      "outputs": [
        {
          "output_type": "stream",
          "name": "stdout",
          "text": [
            "Accuracy of the model: 83.44%\n"
          ]
        }
      ]
    },
    {
      "cell_type": "markdown",
      "source": [
        "## 2. Evaluation\n",
        "\n",
        "For evaluation, we use the locally stored models. Similarly to training, we provide a script that runs the attacks for different seeds for all pretrained models. For all experiments, please check out the [config](https://github.com/sigeisler/robustness_of_gnns_at_scale/tree/main/config) folder.\n",
        "\n",
        "### 2.1 Local PR-BCD Attack\n",
        "We provide an example for a `local PR-BCD` attack on the `Vanilla GCN` model trained previously by passing the desired configuration in [experiments/experiment_local_attack_direct.py](https://github.com/sigeisler/robustness_of_gnns_at_scale/blob/main/experiments/experiment_local_attack_direct.py#L68)."
      ],
      "metadata": {
        "id": "JzCocLocdb2y"
      }
    },
    {
      "cell_type": "code",
      "source": [
        "local_prbcd_statistics = experiment_local_attack_direct.run(\n",
        "    data_dir = './data',\n",
        "    dataset = 'cora_ml',\n",
        "    attack = 'LocalPRBCD',\n",
        "    attack_params = dict(\n",
        "        ppr_cache_params = dict(\n",
        "            data_artifact_dir = 'cache',\n",
        "            data_storage_type = 'ppr'),\n",
        "        #epochs = 500, # -> way too high for my setup, use 40-100\n",
        "        epochs = 50,\n",
        "        fine_tune_epochs = 100,\n",
        "        search_space_size = 10_000,\n",
        "        ppr_recalc_at_end = True,\n",
        "        loss_type = 'Margin',\n",
        "        lr_factor = 0.05),\n",
        "    nodes = None,\n",
        "    nodes_topk = 5,\n",
        "    seed=0,\n",
        "    epsilons = [1],\n",
        "    min_node_degree = None,\n",
        "    binary_attr = False,\n",
        "    make_undirected = True,\n",
        "    artifact_dir = 'cache',\n",
        "    model_label = 'Vanilla GCN',\n",
        "    model_storage_type = 'demo',\n",
        "    #device = 0,\n",
        "    #data_device = 0,\n",
        "    device = \"cpu\",\n",
        "    data_device = \"cpu\",\n",
        "    debug_level = \"info\"\n",
        ")"
      ],
      "metadata": {
        "colab": {
          "base_uri": "https://localhost:8080/",
          "height": 1000
        },
        "id": "A-n0IWrJC1QQ",
        "outputId": "7ba80d26-f313-46c9-a18c-a215aedbb2ce"
      },
      "execution_count": 6,
      "outputs": [
        {
          "output_type": "display_data",
          "data": {
            "text/plain": [
              "\u001b[2;36m[01/08/25 18:22:51]\u001b[0m\u001b[2;36m \u001b[0m\u001b[34mINFO    \u001b[0m \u001b[1m{\u001b[0m\u001b[32m'dataset'\u001b[0m: \u001b[32m'cora_ml'\u001b[0m, \u001b[32m'attack'\u001b[0m: \u001b[32m'LocalPRBCD'\u001b[0m, \u001b[32m'attack_params'\u001b[0m:           \u001b]8;id=124575;file:///content/robustness_of_gnns_at_scale/experiments/common.py\u001b\\\u001b[2mcommon.py\u001b[0m\u001b]8;;\u001b\\\u001b[2m:\u001b[0m\u001b]8;id=212725;file:///content/robustness_of_gnns_at_scale/experiments/common.py#38\u001b\\\u001b[2m38\u001b[0m\u001b]8;;\u001b\\\n",
              "\u001b[2;36m                    \u001b[0m         \u001b[1m{\u001b[0m\u001b[32m'ppr_cache_params'\u001b[0m: \u001b[1m{\u001b[0m\u001b[32m'data_artifact_dir'\u001b[0m: \u001b[32m'cache'\u001b[0m, \u001b[32m'data_storage_type'\u001b[0m:  \u001b[2m            \u001b[0m\n",
              "\u001b[2;36m                    \u001b[0m         \u001b[32m'ppr'\u001b[0m\u001b[1m}\u001b[0m, \u001b[32m'epochs'\u001b[0m: \u001b[1;36m50\u001b[0m, \u001b[32m'fine_tune_epochs'\u001b[0m: \u001b[1;36m100\u001b[0m, \u001b[32m'search_space_size'\u001b[0m:       \u001b[2m            \u001b[0m\n",
              "\u001b[2;36m                    \u001b[0m         \u001b[1;36m10000\u001b[0m, \u001b[32m'ppr_recalc_at_end'\u001b[0m: \u001b[3;92mTrue\u001b[0m, \u001b[32m'loss_type'\u001b[0m: \u001b[32m'Margin'\u001b[0m, \u001b[32m'lr_factor'\u001b[0m:     \u001b[2m            \u001b[0m\n",
              "\u001b[2;36m                    \u001b[0m         \u001b[1;36m0.05\u001b[0m\u001b[1m}\u001b[0m, \u001b[32m'epsilons'\u001b[0m: \u001b[1m[\u001b[0m\u001b[1;36m1\u001b[0m\u001b[1m]\u001b[0m, \u001b[32m'make_undirected'\u001b[0m: \u001b[3;92mTrue\u001b[0m, \u001b[32m'binary_attr'\u001b[0m: \u001b[3;91mFalse\u001b[0m,    \u001b[2m            \u001b[0m\n",
              "\u001b[2;36m                    \u001b[0m         \u001b[32m'seed'\u001b[0m: \u001b[1;36m0\u001b[0m, \u001b[32m'artifact_dir'\u001b[0m: \u001b[32m'cache'\u001b[0m, \u001b[32m'pert_adj_storage_type'\u001b[0m: \u001b[3;35mNone\u001b[0m,        \u001b[2m            \u001b[0m\n",
              "\u001b[2;36m                    \u001b[0m         \u001b[32m'pert_attr_storage_type'\u001b[0m: \u001b[3;35mNone\u001b[0m, \u001b[32m'model_label'\u001b[0m: \u001b[32m'Vanilla GCN'\u001b[0m,             \u001b[2m            \u001b[0m\n",
              "\u001b[2;36m                    \u001b[0m         \u001b[32m'model_storage_type'\u001b[0m: \u001b[32m'demo'\u001b[0m, \u001b[32m'device'\u001b[0m: \u001b[32m'cpu'\u001b[0m, \u001b[32m'data_device'\u001b[0m: \u001b[32m'cpu'\u001b[0m\u001b[1m}\u001b[0m      \u001b[2m            \u001b[0m\n"
            ],
            "text/html": [
              "<pre style=\"white-space:pre;overflow-x:auto;line-height:normal;font-family:Menlo,'DejaVu Sans Mono',consolas,'Courier New',monospace\"><span style=\"color: #7fbfbf; text-decoration-color: #7fbfbf\">[01/08/25 18:22:51] </span><span style=\"color: #000080; text-decoration-color: #000080\">INFO    </span> <span style=\"font-weight: bold\">{</span><span style=\"color: #008000; text-decoration-color: #008000\">'dataset'</span>: <span style=\"color: #008000; text-decoration-color: #008000\">'cora_ml'</span>, <span style=\"color: #008000; text-decoration-color: #008000\">'attack'</span>: <span style=\"color: #008000; text-decoration-color: #008000\">'LocalPRBCD'</span>, <span style=\"color: #008000; text-decoration-color: #008000\">'attack_params'</span>:           <a href=\"file:///content/robustness_of_gnns_at_scale/experiments/common.py\" target=\"_blank\"><span style=\"color: #7f7f7f; text-decoration-color: #7f7f7f\">common.py</span></a><span style=\"color: #7f7f7f; text-decoration-color: #7f7f7f\">:</span><a href=\"file:///content/robustness_of_gnns_at_scale/experiments/common.py#38\" target=\"_blank\"><span style=\"color: #7f7f7f; text-decoration-color: #7f7f7f\">38</span></a>\n",
              "<span style=\"color: #7fbfbf; text-decoration-color: #7fbfbf\">                    </span>         <span style=\"font-weight: bold\">{</span><span style=\"color: #008000; text-decoration-color: #008000\">'ppr_cache_params'</span>: <span style=\"font-weight: bold\">{</span><span style=\"color: #008000; text-decoration-color: #008000\">'data_artifact_dir'</span>: <span style=\"color: #008000; text-decoration-color: #008000\">'cache'</span>, <span style=\"color: #008000; text-decoration-color: #008000\">'data_storage_type'</span>:  <span style=\"color: #7f7f7f; text-decoration-color: #7f7f7f\">            </span>\n",
              "<span style=\"color: #7fbfbf; text-decoration-color: #7fbfbf\">                    </span>         <span style=\"color: #008000; text-decoration-color: #008000\">'ppr'</span><span style=\"font-weight: bold\">}</span>, <span style=\"color: #008000; text-decoration-color: #008000\">'epochs'</span>: <span style=\"color: #008080; text-decoration-color: #008080; font-weight: bold\">50</span>, <span style=\"color: #008000; text-decoration-color: #008000\">'fine_tune_epochs'</span>: <span style=\"color: #008080; text-decoration-color: #008080; font-weight: bold\">100</span>, <span style=\"color: #008000; text-decoration-color: #008000\">'search_space_size'</span>:       <span style=\"color: #7f7f7f; text-decoration-color: #7f7f7f\">            </span>\n",
              "<span style=\"color: #7fbfbf; text-decoration-color: #7fbfbf\">                    </span>         <span style=\"color: #008080; text-decoration-color: #008080; font-weight: bold\">10000</span>, <span style=\"color: #008000; text-decoration-color: #008000\">'ppr_recalc_at_end'</span>: <span style=\"color: #00ff00; text-decoration-color: #00ff00; font-style: italic\">True</span>, <span style=\"color: #008000; text-decoration-color: #008000\">'loss_type'</span>: <span style=\"color: #008000; text-decoration-color: #008000\">'Margin'</span>, <span style=\"color: #008000; text-decoration-color: #008000\">'lr_factor'</span>:     <span style=\"color: #7f7f7f; text-decoration-color: #7f7f7f\">            </span>\n",
              "<span style=\"color: #7fbfbf; text-decoration-color: #7fbfbf\">                    </span>         <span style=\"color: #008080; text-decoration-color: #008080; font-weight: bold\">0.05</span><span style=\"font-weight: bold\">}</span>, <span style=\"color: #008000; text-decoration-color: #008000\">'epsilons'</span>: <span style=\"font-weight: bold\">[</span><span style=\"color: #008080; text-decoration-color: #008080; font-weight: bold\">1</span><span style=\"font-weight: bold\">]</span>, <span style=\"color: #008000; text-decoration-color: #008000\">'make_undirected'</span>: <span style=\"color: #00ff00; text-decoration-color: #00ff00; font-style: italic\">True</span>, <span style=\"color: #008000; text-decoration-color: #008000\">'binary_attr'</span>: <span style=\"color: #ff0000; text-decoration-color: #ff0000; font-style: italic\">False</span>,    <span style=\"color: #7f7f7f; text-decoration-color: #7f7f7f\">            </span>\n",
              "<span style=\"color: #7fbfbf; text-decoration-color: #7fbfbf\">                    </span>         <span style=\"color: #008000; text-decoration-color: #008000\">'seed'</span>: <span style=\"color: #008080; text-decoration-color: #008080; font-weight: bold\">0</span>, <span style=\"color: #008000; text-decoration-color: #008000\">'artifact_dir'</span>: <span style=\"color: #008000; text-decoration-color: #008000\">'cache'</span>, <span style=\"color: #008000; text-decoration-color: #008000\">'pert_adj_storage_type'</span>: <span style=\"color: #800080; text-decoration-color: #800080; font-style: italic\">None</span>,        <span style=\"color: #7f7f7f; text-decoration-color: #7f7f7f\">            </span>\n",
              "<span style=\"color: #7fbfbf; text-decoration-color: #7fbfbf\">                    </span>         <span style=\"color: #008000; text-decoration-color: #008000\">'pert_attr_storage_type'</span>: <span style=\"color: #800080; text-decoration-color: #800080; font-style: italic\">None</span>, <span style=\"color: #008000; text-decoration-color: #008000\">'model_label'</span>: <span style=\"color: #008000; text-decoration-color: #008000\">'Vanilla GCN'</span>,             <span style=\"color: #7f7f7f; text-decoration-color: #7f7f7f\">            </span>\n",
              "<span style=\"color: #7fbfbf; text-decoration-color: #7fbfbf\">                    </span>         <span style=\"color: #008000; text-decoration-color: #008000\">'model_storage_type'</span>: <span style=\"color: #008000; text-decoration-color: #008000\">'demo'</span>, <span style=\"color: #008000; text-decoration-color: #008000\">'device'</span>: <span style=\"color: #008000; text-decoration-color: #008000\">'cpu'</span>, <span style=\"color: #008000; text-decoration-color: #008000\">'data_device'</span>: <span style=\"color: #008000; text-decoration-color: #008000\">'cpu'</span><span style=\"font-weight: bold\">}</span>      <span style=\"color: #7f7f7f; text-decoration-color: #7f7f7f\">            </span>\n",
              "</pre>\n"
            ]
          },
          "metadata": {}
        },
        {
          "output_type": "display_data",
          "data": {
            "text/plain": [
              "\u001b[2;36m                   \u001b[0m\u001b[2;36m \u001b[0m\u001b[34mINFO    \u001b[0m Found \u001b[1;36m1\u001b[0m models with label \u001b[32m'Vanilla GCN'\u001b[0m to       \u001b]8;id=384854;file:///content/robustness_of_gnns_at_scale/experiments/experiment_local_attack_direct.py\u001b\\\u001b[2mexperiment_local_attack_direct.py\u001b[0m\u001b]8;;\u001b\\\u001b[2m:\u001b[0m\u001b]8;id=482745;file:///content/robustness_of_gnns_at_scale/experiments/experiment_local_attack_direct.py#141\u001b\\\u001b[2m141\u001b[0m\u001b]8;;\u001b\\\n",
              "\u001b[2;36m                    \u001b[0m         attack.                                          \u001b[2m                                     \u001b[0m\n"
            ],
            "text/html": [
              "<pre style=\"white-space:pre;overflow-x:auto;line-height:normal;font-family:Menlo,'DejaVu Sans Mono',consolas,'Courier New',monospace\"><span style=\"color: #7fbfbf; text-decoration-color: #7fbfbf\">                    </span><span style=\"color: #000080; text-decoration-color: #000080\">INFO    </span> Found <span style=\"color: #008080; text-decoration-color: #008080; font-weight: bold\">1</span> models with label <span style=\"color: #008000; text-decoration-color: #008000\">'Vanilla GCN'</span> to       <a href=\"file:///content/robustness_of_gnns_at_scale/experiments/experiment_local_attack_direct.py\" target=\"_blank\"><span style=\"color: #7f7f7f; text-decoration-color: #7f7f7f\">experiment_local_attack_direct.py</span></a><span style=\"color: #7f7f7f; text-decoration-color: #7f7f7f\">:</span><a href=\"file:///content/robustness_of_gnns_at_scale/experiments/experiment_local_attack_direct.py#141\" target=\"_blank\"><span style=\"color: #7f7f7f; text-decoration-color: #7f7f7f\">141</span></a>\n",
              "<span style=\"color: #7fbfbf; text-decoration-color: #7fbfbf\">                    </span>         attack.                                          <span style=\"color: #7f7f7f; text-decoration-color: #7f7f7f\">                                     </span>\n",
              "</pre>\n"
            ]
          },
          "metadata": {}
        },
        {
          "output_type": "display_data",
          "data": {
            "text/plain": [
              "\u001b[2;36m[01/08/25 18:22:52]\u001b[0m\u001b[2;36m \u001b[0m\u001b[34mINFO    \u001b[0m Sample Attack Nodes for model with accuracy \u001b[1;36m0.8344\u001b[0m                       \u001b]8;id=544002;file:///content/robustness_of_gnns_at_scale/experiments/common.py\u001b\\\u001b[2mcommon.py\u001b[0m\u001b]8;;\u001b\\\u001b[2m:\u001b[0m\u001b]8;id=467148;file:///content/robustness_of_gnns_at_scale/experiments/common.py#166\u001b\\\u001b[2m166\u001b[0m\u001b]8;;\u001b\\\n"
            ],
            "text/html": [
              "<pre style=\"white-space:pre;overflow-x:auto;line-height:normal;font-family:Menlo,'DejaVu Sans Mono',consolas,'Courier New',monospace\"><span style=\"color: #7fbfbf; text-decoration-color: #7fbfbf\">[01/08/25 18:22:52] </span><span style=\"color: #000080; text-decoration-color: #000080\">INFO    </span> Sample Attack Nodes for model with accuracy <span style=\"color: #008080; text-decoration-color: #008080; font-weight: bold\">0.8344</span>                       <a href=\"file:///content/robustness_of_gnns_at_scale/experiments/common.py\" target=\"_blank\"><span style=\"color: #7f7f7f; text-decoration-color: #7f7f7f\">common.py</span></a><span style=\"color: #7f7f7f; text-decoration-color: #7f7f7f\">:</span><a href=\"file:///content/robustness_of_gnns_at_scale/experiments/common.py#166\" target=\"_blank\"><span style=\"color: #7f7f7f; text-decoration-color: #7f7f7f\">166</span></a>\n",
              "</pre>\n"
            ]
          },
          "metadata": {}
        },
        {
          "output_type": "display_data",
          "data": {
            "text/plain": [
              "\u001b[2;36m                   \u001b[0m\u001b[2;36m \u001b[0m\u001b[34mINFO    \u001b[0m Found \u001b[1;36m2530\u001b[0m suitable \u001b[32m'1+ degree'\u001b[0m nodes out of \u001b[1;36m2530\u001b[0m candidate nodes to be  \u001b]8;id=106716;file:///content/robustness_of_gnns_at_scale/experiments/common.py\u001b\\\u001b[2mcommon.py\u001b[0m\u001b]8;;\u001b\\\u001b[2m:\u001b[0m\u001b]8;id=64274;file:///content/robustness_of_gnns_at_scale/experiments/common.py#132\u001b\\\u001b[2m132\u001b[0m\u001b]8;;\u001b\\\n",
              "\u001b[2;36m                    \u001b[0m         sampled from for the attack of which \u001b[1;36m2111\u001b[0m have the correct class label   \u001b[2m             \u001b[0m\n"
            ],
            "text/html": [
              "<pre style=\"white-space:pre;overflow-x:auto;line-height:normal;font-family:Menlo,'DejaVu Sans Mono',consolas,'Courier New',monospace\"><span style=\"color: #7fbfbf; text-decoration-color: #7fbfbf\">                    </span><span style=\"color: #000080; text-decoration-color: #000080\">INFO    </span> Found <span style=\"color: #008080; text-decoration-color: #008080; font-weight: bold\">2530</span> suitable <span style=\"color: #008000; text-decoration-color: #008000\">'1+ degree'</span> nodes out of <span style=\"color: #008080; text-decoration-color: #008080; font-weight: bold\">2530</span> candidate nodes to be  <a href=\"file:///content/robustness_of_gnns_at_scale/experiments/common.py\" target=\"_blank\"><span style=\"color: #7f7f7f; text-decoration-color: #7f7f7f\">common.py</span></a><span style=\"color: #7f7f7f; text-decoration-color: #7f7f7f\">:</span><a href=\"file:///content/robustness_of_gnns_at_scale/experiments/common.py#132\" target=\"_blank\"><span style=\"color: #7f7f7f; text-decoration-color: #7f7f7f\">132</span></a>\n",
              "<span style=\"color: #7fbfbf; text-decoration-color: #7fbfbf\">                    </span>         sampled from for the attack of which <span style=\"color: #008080; text-decoration-color: #008080; font-weight: bold\">2111</span> have the correct class label   <span style=\"color: #7f7f7f; text-decoration-color: #7f7f7f\">             </span>\n",
              "</pre>\n"
            ]
          },
          "metadata": {}
        },
        {
          "output_type": "display_data",
          "data": {
            "text/plain": [
              "\u001b[2;36m                   \u001b[0m\u001b[2;36m \u001b[0m\u001b[34mINFO    \u001b[0m Sample the following attack nodes:                                       \u001b]8;id=563668;file:///content/robustness_of_gnns_at_scale/experiments/common.py\u001b\\\u001b[2mcommon.py\u001b[0m\u001b]8;;\u001b\\\u001b[2m:\u001b[0m\u001b]8;id=622323;file:///content/robustness_of_gnns_at_scale/experiments/common.py#171\u001b\\\u001b[2m171\u001b[0m\u001b]8;;\u001b\\\n",
              "\u001b[2;36m                    \u001b[0m         \u001b[1m[\u001b[0m\u001b[1;36m475\u001b[0m\u001b[1m]\u001b[0m                                                                    \u001b[2m             \u001b[0m\n",
              "\u001b[2;36m                    \u001b[0m         \u001b[1m[\u001b[0m\u001b[1;36m2105\u001b[0m\u001b[1m]\u001b[0m                                                                   \u001b[2m             \u001b[0m\n",
              "\u001b[2;36m                    \u001b[0m         \u001b[1m[\u001b[0m\u001b[1;36m2754\u001b[0m \u001b[1;36m2487\u001b[0m\u001b[1m]\u001b[0m                                                              \u001b[2m             \u001b[0m\n"
            ],
            "text/html": [
              "<pre style=\"white-space:pre;overflow-x:auto;line-height:normal;font-family:Menlo,'DejaVu Sans Mono',consolas,'Courier New',monospace\"><span style=\"color: #7fbfbf; text-decoration-color: #7fbfbf\">                    </span><span style=\"color: #000080; text-decoration-color: #000080\">INFO    </span> Sample the following attack nodes:                                       <a href=\"file:///content/robustness_of_gnns_at_scale/experiments/common.py\" target=\"_blank\"><span style=\"color: #7f7f7f; text-decoration-color: #7f7f7f\">common.py</span></a><span style=\"color: #7f7f7f; text-decoration-color: #7f7f7f\">:</span><a href=\"file:///content/robustness_of_gnns_at_scale/experiments/common.py#171\" target=\"_blank\"><span style=\"color: #7f7f7f; text-decoration-color: #7f7f7f\">171</span></a>\n",
              "<span style=\"color: #7fbfbf; text-decoration-color: #7fbfbf\">                    </span>         <span style=\"font-weight: bold\">[</span><span style=\"color: #008080; text-decoration-color: #008080; font-weight: bold\">475</span><span style=\"font-weight: bold\">]</span>                                                                    <span style=\"color: #7f7f7f; text-decoration-color: #7f7f7f\">             </span>\n",
              "<span style=\"color: #7fbfbf; text-decoration-color: #7fbfbf\">                    </span>         <span style=\"font-weight: bold\">[</span><span style=\"color: #008080; text-decoration-color: #008080; font-weight: bold\">2105</span><span style=\"font-weight: bold\">]</span>                                                                   <span style=\"color: #7f7f7f; text-decoration-color: #7f7f7f\">             </span>\n",
              "<span style=\"color: #7fbfbf; text-decoration-color: #7fbfbf\">                    </span>         <span style=\"font-weight: bold\">[</span><span style=\"color: #008080; text-decoration-color: #008080; font-weight: bold\">2754</span> <span style=\"color: #008080; text-decoration-color: #008080; font-weight: bold\">2487</span><span style=\"font-weight: bold\">]</span>                                                              <span style=\"color: #7f7f7f; text-decoration-color: #7f7f7f\">             </span>\n",
              "</pre>\n"
            ]
          },
          "metadata": {}
        },
        {
          "output_type": "display_data",
          "data": {
            "text/plain": [
              "\u001b[2;36m[01/08/25 18:22:53]\u001b[0m\u001b[2;36m \u001b[0m\u001b[34mINFO    \u001b[0m Original: Loss: \u001b[1;36m-9.882246017456055\u001b[0m Statstics: \u001b[1m{\u001b[0m\u001b[32m'logit_target'\u001b[0m:       \u001b]8;id=672529;file:///content/robustness_of_gnns_at_scale/rgnn_at_scale/attacks/local_prbcd.py\u001b\\\u001b[2mlocal_prbcd.py\u001b[0m\u001b]8;;\u001b\\\u001b[2m:\u001b[0m\u001b]8;id=597651;file:///content/robustness_of_gnns_at_scale/rgnn_at_scale/attacks/local_prbcd.py#74\u001b\\\u001b[2m74\u001b[0m\u001b]8;;\u001b\\\n",
              "\u001b[2;36m                    \u001b[0m         \u001b[1;36m-0.00026258357684127986\u001b[0m, \u001b[32m'logit_best_non_target'\u001b[0m:                    \u001b[2m                 \u001b[0m\n",
              "\u001b[2;36m                    \u001b[0m         \u001b[1;36m-9.882508277893066\u001b[0m, \u001b[32m'confidence_target'\u001b[0m: \u001b[1;36m0.9997374508952088\u001b[0m,         \u001b[2m                 \u001b[0m\n",
              "\u001b[2;36m                    \u001b[0m         \u001b[32m'confidence_non_target'\u001b[0m: \u001b[1;36m5.1060044333266085e-05\u001b[0m, \u001b[32m'margin'\u001b[0m:           \u001b[2m                 \u001b[0m\n",
              "\u001b[2;36m                    \u001b[0m         \u001b[1;36m0.9996863908508755\u001b[0m\u001b[1m}\u001b[0m                                                  \u001b[2m                 \u001b[0m\n",
              "\u001b[2;36m                    \u001b[0m                                                                              \u001b[2m                 \u001b[0m\n"
            ],
            "text/html": [
              "<pre style=\"white-space:pre;overflow-x:auto;line-height:normal;font-family:Menlo,'DejaVu Sans Mono',consolas,'Courier New',monospace\"><span style=\"color: #7fbfbf; text-decoration-color: #7fbfbf\">[01/08/25 18:22:53] </span><span style=\"color: #000080; text-decoration-color: #000080\">INFO    </span> Original: Loss: <span style=\"color: #008080; text-decoration-color: #008080; font-weight: bold\">-9.882246017456055</span> Statstics: <span style=\"font-weight: bold\">{</span><span style=\"color: #008000; text-decoration-color: #008000\">'logit_target'</span>:       <a href=\"file:///content/robustness_of_gnns_at_scale/rgnn_at_scale/attacks/local_prbcd.py\" target=\"_blank\"><span style=\"color: #7f7f7f; text-decoration-color: #7f7f7f\">local_prbcd.py</span></a><span style=\"color: #7f7f7f; text-decoration-color: #7f7f7f\">:</span><a href=\"file:///content/robustness_of_gnns_at_scale/rgnn_at_scale/attacks/local_prbcd.py#74\" target=\"_blank\"><span style=\"color: #7f7f7f; text-decoration-color: #7f7f7f\">74</span></a>\n",
              "<span style=\"color: #7fbfbf; text-decoration-color: #7fbfbf\">                    </span>         <span style=\"color: #008080; text-decoration-color: #008080; font-weight: bold\">-0.00026258357684127986</span>, <span style=\"color: #008000; text-decoration-color: #008000\">'logit_best_non_target'</span>:                    <span style=\"color: #7f7f7f; text-decoration-color: #7f7f7f\">                 </span>\n",
              "<span style=\"color: #7fbfbf; text-decoration-color: #7fbfbf\">                    </span>         <span style=\"color: #008080; text-decoration-color: #008080; font-weight: bold\">-9.882508277893066</span>, <span style=\"color: #008000; text-decoration-color: #008000\">'confidence_target'</span>: <span style=\"color: #008080; text-decoration-color: #008080; font-weight: bold\">0.9997374508952088</span>,         <span style=\"color: #7f7f7f; text-decoration-color: #7f7f7f\">                 </span>\n",
              "<span style=\"color: #7fbfbf; text-decoration-color: #7fbfbf\">                    </span>         <span style=\"color: #008000; text-decoration-color: #008000\">'confidence_non_target'</span>: <span style=\"color: #008080; text-decoration-color: #008080; font-weight: bold\">5.1060044333266085e-05</span>, <span style=\"color: #008000; text-decoration-color: #008000\">'margin'</span>:           <span style=\"color: #7f7f7f; text-decoration-color: #7f7f7f\">                 </span>\n",
              "<span style=\"color: #7fbfbf; text-decoration-color: #7fbfbf\">                    </span>         <span style=\"color: #008080; text-decoration-color: #008080; font-weight: bold\">0.9996863908508755</span><span style=\"font-weight: bold\">}</span>                                                  <span style=\"color: #7f7f7f; text-decoration-color: #7f7f7f\">                 </span>\n",
              "<span style=\"color: #7fbfbf; text-decoration-color: #7fbfbf\">                    </span>                                                                              <span style=\"color: #7f7f7f; text-decoration-color: #7f7f7f\">                 </span>\n",
              "</pre>\n"
            ]
          },
          "metadata": {}
        },
        {
          "output_type": "stream",
          "name": "stderr",
          "text": [
            "\r  0%|          | 0/50 [00:00<?, ?it/s]"
          ]
        },
        {
          "output_type": "display_data",
          "data": {
            "text/plain": [
              "\u001b[2;36m[01/08/25 18:23:00]\u001b[0m\u001b[2;36m \u001b[0m\u001b[34mINFO    \u001b[0m Initial: Loss: \u001b[1;36m-9.882246017456055\u001b[0m Statstics: \u001b[1m{\u001b[0m\u001b[32m'logit_target'\u001b[0m:        \u001b]8;id=129583;file:///content/robustness_of_gnns_at_scale/rgnn_at_scale/attacks/local_prbcd.py\u001b\\\u001b[2mlocal_prbcd.py\u001b[0m\u001b]8;;\u001b\\\u001b[2m:\u001b[0m\u001b]8;id=22276;file:///content/robustness_of_gnns_at_scale/rgnn_at_scale/attacks/local_prbcd.py#92\u001b\\\u001b[2m92\u001b[0m\u001b]8;;\u001b\\\n",
              "\u001b[2;36m                    \u001b[0m         \u001b[1;36m-0.00026258357684127986\u001b[0m, \u001b[32m'logit_best_non_target'\u001b[0m:                    \u001b[2m                 \u001b[0m\n",
              "\u001b[2;36m                    \u001b[0m         \u001b[1;36m-9.882508277893066\u001b[0m, \u001b[32m'confidence_target'\u001b[0m: \u001b[1;36m0.9997374508952088\u001b[0m,         \u001b[2m                 \u001b[0m\n",
              "\u001b[2;36m                    \u001b[0m         \u001b[32m'confidence_non_target'\u001b[0m: \u001b[1;36m5.1060044333266085e-05\u001b[0m, \u001b[32m'margin'\u001b[0m:           \u001b[2m                 \u001b[0m\n",
              "\u001b[2;36m                    \u001b[0m         \u001b[1;36m0.9996863908508755\u001b[0m\u001b[1m}\u001b[0m                                                  \u001b[2m                 \u001b[0m\n",
              "\u001b[2;36m                    \u001b[0m                                                                              \u001b[2m                 \u001b[0m\n"
            ],
            "text/html": [
              "<pre style=\"white-space:pre;overflow-x:auto;line-height:normal;font-family:Menlo,'DejaVu Sans Mono',consolas,'Courier New',monospace\"><span style=\"color: #7fbfbf; text-decoration-color: #7fbfbf\">[01/08/25 18:23:00] </span><span style=\"color: #000080; text-decoration-color: #000080\">INFO    </span> Initial: Loss: <span style=\"color: #008080; text-decoration-color: #008080; font-weight: bold\">-9.882246017456055</span> Statstics: <span style=\"font-weight: bold\">{</span><span style=\"color: #008000; text-decoration-color: #008000\">'logit_target'</span>:        <a href=\"file:///content/robustness_of_gnns_at_scale/rgnn_at_scale/attacks/local_prbcd.py\" target=\"_blank\"><span style=\"color: #7f7f7f; text-decoration-color: #7f7f7f\">local_prbcd.py</span></a><span style=\"color: #7f7f7f; text-decoration-color: #7f7f7f\">:</span><a href=\"file:///content/robustness_of_gnns_at_scale/rgnn_at_scale/attacks/local_prbcd.py#92\" target=\"_blank\"><span style=\"color: #7f7f7f; text-decoration-color: #7f7f7f\">92</span></a>\n",
              "<span style=\"color: #7fbfbf; text-decoration-color: #7fbfbf\">                    </span>         <span style=\"color: #008080; text-decoration-color: #008080; font-weight: bold\">-0.00026258357684127986</span>, <span style=\"color: #008000; text-decoration-color: #008000\">'logit_best_non_target'</span>:                    <span style=\"color: #7f7f7f; text-decoration-color: #7f7f7f\">                 </span>\n",
              "<span style=\"color: #7fbfbf; text-decoration-color: #7fbfbf\">                    </span>         <span style=\"color: #008080; text-decoration-color: #008080; font-weight: bold\">-9.882508277893066</span>, <span style=\"color: #008000; text-decoration-color: #008000\">'confidence_target'</span>: <span style=\"color: #008080; text-decoration-color: #008080; font-weight: bold\">0.9997374508952088</span>,         <span style=\"color: #7f7f7f; text-decoration-color: #7f7f7f\">                 </span>\n",
              "<span style=\"color: #7fbfbf; text-decoration-color: #7fbfbf\">                    </span>         <span style=\"color: #008000; text-decoration-color: #008000\">'confidence_non_target'</span>: <span style=\"color: #008080; text-decoration-color: #008080; font-weight: bold\">5.1060044333266085e-05</span>, <span style=\"color: #008000; text-decoration-color: #008000\">'margin'</span>:           <span style=\"color: #7f7f7f; text-decoration-color: #7f7f7f\">                 </span>\n",
              "<span style=\"color: #7fbfbf; text-decoration-color: #7fbfbf\">                    </span>         <span style=\"color: #008080; text-decoration-color: #008080; font-weight: bold\">0.9996863908508755</span><span style=\"font-weight: bold\">}</span>                                                  <span style=\"color: #7f7f7f; text-decoration-color: #7f7f7f\">                 </span>\n",
              "<span style=\"color: #7fbfbf; text-decoration-color: #7fbfbf\">                    </span>                                                                              <span style=\"color: #7f7f7f; text-decoration-color: #7f7f7f\">                 </span>\n",
              "</pre>\n"
            ]
          },
          "metadata": {}
        },
        {
          "output_type": "display_data",
          "data": {
            "text/plain": [
              "\u001b[2;36m[01/08/25 18:23:07]\u001b[0m\u001b[2;36m \u001b[0m\u001b[34mINFO    \u001b[0m                                                                     \u001b]8;id=453213;file:///content/robustness_of_gnns_at_scale/rgnn_at_scale/attacks/local_prbcd.py\u001b\\\u001b[2mlocal_prbcd.py\u001b[0m\u001b]8;;\u001b\\\u001b[2m:\u001b[0m\u001b]8;id=775669;file:///content/robustness_of_gnns_at_scale/rgnn_at_scale/attacks/local_prbcd.py#113\u001b\\\u001b[2m113\u001b[0m\u001b]8;;\u001b\\\n",
              "\u001b[2;36m                    \u001b[0m         Epoch: \u001b[1;36m0\u001b[0m Loss: \u001b[1;36m-9.882246017456055\u001b[0m Statstics: \u001b[1m{\u001b[0m\u001b[32m'logit_target'\u001b[0m:       \u001b[2m                  \u001b[0m\n",
              "\u001b[2;36m                    \u001b[0m         \u001b[1;36m-0.0002949994814116508\u001b[0m, \u001b[32m'logit_best_non_target'\u001b[0m:                    \u001b[2m                  \u001b[0m\n",
              "\u001b[2;36m                    \u001b[0m         \u001b[1;36m-9.756813049316406\u001b[0m, \u001b[32m'confidence_target'\u001b[0m: \u001b[1;36m0.9997050440266569\u001b[0m,        \u001b[2m                  \u001b[0m\n",
              "\u001b[2;36m                    \u001b[0m         \u001b[32m'confidence_non_target'\u001b[0m: \u001b[1;36m5.789884919502707e-05\u001b[0m, \u001b[32m'margin'\u001b[0m:           \u001b[2m                  \u001b[0m\n",
              "\u001b[2;36m                    \u001b[0m         \u001b[1;36m0.9996471451774619\u001b[0m\u001b[1m}\u001b[0m                                                 \u001b[2m                  \u001b[0m\n",
              "\u001b[2;36m                    \u001b[0m                                                                             \u001b[2m                  \u001b[0m\n"
            ],
            "text/html": [
              "<pre style=\"white-space:pre;overflow-x:auto;line-height:normal;font-family:Menlo,'DejaVu Sans Mono',consolas,'Courier New',monospace\"><span style=\"color: #7fbfbf; text-decoration-color: #7fbfbf\">[01/08/25 18:23:07] </span><span style=\"color: #000080; text-decoration-color: #000080\">INFO    </span>                                                                     <a href=\"file:///content/robustness_of_gnns_at_scale/rgnn_at_scale/attacks/local_prbcd.py\" target=\"_blank\"><span style=\"color: #7f7f7f; text-decoration-color: #7f7f7f\">local_prbcd.py</span></a><span style=\"color: #7f7f7f; text-decoration-color: #7f7f7f\">:</span><a href=\"file:///content/robustness_of_gnns_at_scale/rgnn_at_scale/attacks/local_prbcd.py#113\" target=\"_blank\"><span style=\"color: #7f7f7f; text-decoration-color: #7f7f7f\">113</span></a>\n",
              "<span style=\"color: #7fbfbf; text-decoration-color: #7fbfbf\">                    </span>         Epoch: <span style=\"color: #008080; text-decoration-color: #008080; font-weight: bold\">0</span> Loss: <span style=\"color: #008080; text-decoration-color: #008080; font-weight: bold\">-9.882246017456055</span> Statstics: <span style=\"font-weight: bold\">{</span><span style=\"color: #008000; text-decoration-color: #008000\">'logit_target'</span>:       <span style=\"color: #7f7f7f; text-decoration-color: #7f7f7f\">                  </span>\n",
              "<span style=\"color: #7fbfbf; text-decoration-color: #7fbfbf\">                    </span>         <span style=\"color: #008080; text-decoration-color: #008080; font-weight: bold\">-0.0002949994814116508</span>, <span style=\"color: #008000; text-decoration-color: #008000\">'logit_best_non_target'</span>:                    <span style=\"color: #7f7f7f; text-decoration-color: #7f7f7f\">                  </span>\n",
              "<span style=\"color: #7fbfbf; text-decoration-color: #7fbfbf\">                    </span>         <span style=\"color: #008080; text-decoration-color: #008080; font-weight: bold\">-9.756813049316406</span>, <span style=\"color: #008000; text-decoration-color: #008000\">'confidence_target'</span>: <span style=\"color: #008080; text-decoration-color: #008080; font-weight: bold\">0.9997050440266569</span>,        <span style=\"color: #7f7f7f; text-decoration-color: #7f7f7f\">                  </span>\n",
              "<span style=\"color: #7fbfbf; text-decoration-color: #7fbfbf\">                    </span>         <span style=\"color: #008000; text-decoration-color: #008000\">'confidence_non_target'</span>: <span style=\"color: #008080; text-decoration-color: #008080; font-weight: bold\">5.789884919502707e-05</span>, <span style=\"color: #008000; text-decoration-color: #008000\">'margin'</span>:           <span style=\"color: #7f7f7f; text-decoration-color: #7f7f7f\">                  </span>\n",
              "<span style=\"color: #7fbfbf; text-decoration-color: #7fbfbf\">                    </span>         <span style=\"color: #008080; text-decoration-color: #008080; font-weight: bold\">0.9996471451774619</span><span style=\"font-weight: bold\">}</span>                                                 <span style=\"color: #7f7f7f; text-decoration-color: #7f7f7f\">                  </span>\n",
              "<span style=\"color: #7fbfbf; text-decoration-color: #7fbfbf\">                    </span>                                                                             <span style=\"color: #7f7f7f; text-decoration-color: #7f7f7f\">                  </span>\n",
              "</pre>\n"
            ]
          },
          "metadata": {}
        },
        {
          "output_type": "display_data",
          "data": {
            "text/plain": [
              "\u001b[2;36m                   \u001b[0m\u001b[2;36m \u001b[0m\u001b[34mINFO    \u001b[0m Gradient mean \u001b[1;36m0.3952481746673584\u001b[0m std \u001b[1;36m0.15086518228054047\u001b[0m with base  \u001b]8;id=392489;file:///content/robustness_of_gnns_at_scale/rgnn_at_scale/attacks/local_prbcd.py\u001b\\\u001b[2mlocal_prbcd.py\u001b[0m\u001b]8;;\u001b\\\u001b[2m:\u001b[0m\u001b]8;id=676055;file:///content/robustness_of_gnns_at_scale/rgnn_at_scale/attacks/local_prbcd.py#114\u001b\\\u001b[2m114\u001b[0m\u001b]8;;\u001b\\\n",
              "\u001b[2;36m                    \u001b[0m         learning rate \u001b[1;36m0.1\u001b[0m                                                   \u001b[2m                  \u001b[0m\n"
            ],
            "text/html": [
              "<pre style=\"white-space:pre;overflow-x:auto;line-height:normal;font-family:Menlo,'DejaVu Sans Mono',consolas,'Courier New',monospace\"><span style=\"color: #7fbfbf; text-decoration-color: #7fbfbf\">                    </span><span style=\"color: #000080; text-decoration-color: #000080\">INFO    </span> Gradient mean <span style=\"color: #008080; text-decoration-color: #008080; font-weight: bold\">0.3952481746673584</span> std <span style=\"color: #008080; text-decoration-color: #008080; font-weight: bold\">0.15086518228054047</span> with base  <a href=\"file:///content/robustness_of_gnns_at_scale/rgnn_at_scale/attacks/local_prbcd.py\" target=\"_blank\"><span style=\"color: #7f7f7f; text-decoration-color: #7f7f7f\">local_prbcd.py</span></a><span style=\"color: #7f7f7f; text-decoration-color: #7f7f7f\">:</span><a href=\"file:///content/robustness_of_gnns_at_scale/rgnn_at_scale/attacks/local_prbcd.py#114\" target=\"_blank\"><span style=\"color: #7f7f7f; text-decoration-color: #7f7f7f\">114</span></a>\n",
              "<span style=\"color: #7fbfbf; text-decoration-color: #7fbfbf\">                    </span>         learning rate <span style=\"color: #008080; text-decoration-color: #008080; font-weight: bold\">0.1</span>                                                   <span style=\"color: #7f7f7f; text-decoration-color: #7f7f7f\">                  </span>\n",
              "</pre>\n"
            ]
          },
          "metadata": {}
        },
        {
          "output_type": "stream",
          "name": "stderr",
          "text": [
            " 40%|████      | 20/50 [04:36<06:52, 13.75s/it]"
          ]
        },
        {
          "output_type": "display_data",
          "data": {
            "text/plain": [
              "\u001b[2;36m[01/08/25 18:27:44]\u001b[0m\u001b[2;36m \u001b[0m\u001b[34mINFO    \u001b[0m                                                                     \u001b]8;id=608485;file:///content/robustness_of_gnns_at_scale/rgnn_at_scale/attacks/local_prbcd.py\u001b\\\u001b[2mlocal_prbcd.py\u001b[0m\u001b]8;;\u001b\\\u001b[2m:\u001b[0m\u001b]8;id=27831;file:///content/robustness_of_gnns_at_scale/rgnn_at_scale/attacks/local_prbcd.py#113\u001b\\\u001b[2m113\u001b[0m\u001b]8;;\u001b\\\n",
              "\u001b[2;36m                    \u001b[0m         Epoch: \u001b[1;36m20\u001b[0m Loss: \u001b[1;36m2.1924304962158203\u001b[0m Statstics: \u001b[1m{\u001b[0m\u001b[32m'logit_target'\u001b[0m:      \u001b[2m                  \u001b[0m\n",
              "\u001b[2;36m                    \u001b[0m         \u001b[1;36m-2.346278429031372\u001b[0m, \u001b[32m'logit_best_non_target'\u001b[0m: \u001b[1;36m-0.14710606634616852\u001b[0m,  \u001b[2m                  \u001b[0m\n",
              "\u001b[2;36m                    \u001b[0m         \u001b[32m'confidence_target'\u001b[0m: \u001b[1;36m0.09572474657676497\u001b[0m, \u001b[32m'confidence_non_target'\u001b[0m:  \u001b[2m                  \u001b[0m\n",
              "\u001b[2;36m                    \u001b[0m         \u001b[1;36m0.8632024158343526\u001b[0m, \u001b[32m'margin'\u001b[0m: \u001b[1;36m-0.7674776692575876\u001b[0m\u001b[1m}\u001b[0m                  \u001b[2m                  \u001b[0m\n",
              "\u001b[2;36m                    \u001b[0m                                                                             \u001b[2m                  \u001b[0m\n"
            ],
            "text/html": [
              "<pre style=\"white-space:pre;overflow-x:auto;line-height:normal;font-family:Menlo,'DejaVu Sans Mono',consolas,'Courier New',monospace\"><span style=\"color: #7fbfbf; text-decoration-color: #7fbfbf\">[01/08/25 18:27:44] </span><span style=\"color: #000080; text-decoration-color: #000080\">INFO    </span>                                                                     <a href=\"file:///content/robustness_of_gnns_at_scale/rgnn_at_scale/attacks/local_prbcd.py\" target=\"_blank\"><span style=\"color: #7f7f7f; text-decoration-color: #7f7f7f\">local_prbcd.py</span></a><span style=\"color: #7f7f7f; text-decoration-color: #7f7f7f\">:</span><a href=\"file:///content/robustness_of_gnns_at_scale/rgnn_at_scale/attacks/local_prbcd.py#113\" target=\"_blank\"><span style=\"color: #7f7f7f; text-decoration-color: #7f7f7f\">113</span></a>\n",
              "<span style=\"color: #7fbfbf; text-decoration-color: #7fbfbf\">                    </span>         Epoch: <span style=\"color: #008080; text-decoration-color: #008080; font-weight: bold\">20</span> Loss: <span style=\"color: #008080; text-decoration-color: #008080; font-weight: bold\">2.1924304962158203</span> Statstics: <span style=\"font-weight: bold\">{</span><span style=\"color: #008000; text-decoration-color: #008000\">'logit_target'</span>:      <span style=\"color: #7f7f7f; text-decoration-color: #7f7f7f\">                  </span>\n",
              "<span style=\"color: #7fbfbf; text-decoration-color: #7fbfbf\">                    </span>         <span style=\"color: #008080; text-decoration-color: #008080; font-weight: bold\">-2.346278429031372</span>, <span style=\"color: #008000; text-decoration-color: #008000\">'logit_best_non_target'</span>: <span style=\"color: #008080; text-decoration-color: #008080; font-weight: bold\">-0.14710606634616852</span>,  <span style=\"color: #7f7f7f; text-decoration-color: #7f7f7f\">                  </span>\n",
              "<span style=\"color: #7fbfbf; text-decoration-color: #7fbfbf\">                    </span>         <span style=\"color: #008000; text-decoration-color: #008000\">'confidence_target'</span>: <span style=\"color: #008080; text-decoration-color: #008080; font-weight: bold\">0.09572474657676497</span>, <span style=\"color: #008000; text-decoration-color: #008000\">'confidence_non_target'</span>:  <span style=\"color: #7f7f7f; text-decoration-color: #7f7f7f\">                  </span>\n",
              "<span style=\"color: #7fbfbf; text-decoration-color: #7fbfbf\">                    </span>         <span style=\"color: #008080; text-decoration-color: #008080; font-weight: bold\">0.8632024158343526</span>, <span style=\"color: #008000; text-decoration-color: #008000\">'margin'</span>: <span style=\"color: #008080; text-decoration-color: #008080; font-weight: bold\">-0.7674776692575876</span><span style=\"font-weight: bold\">}</span>                  <span style=\"color: #7f7f7f; text-decoration-color: #7f7f7f\">                  </span>\n",
              "<span style=\"color: #7fbfbf; text-decoration-color: #7fbfbf\">                    </span>                                                                             <span style=\"color: #7f7f7f; text-decoration-color: #7f7f7f\">                  </span>\n",
              "</pre>\n"
            ]
          },
          "metadata": {}
        },
        {
          "output_type": "display_data",
          "data": {
            "text/plain": [
              "\u001b[2;36m                   \u001b[0m\u001b[2;36m \u001b[0m\u001b[34mINFO    \u001b[0m Gradient mean \u001b[1;36m0.2556573748588562\u001b[0m std \u001b[1;36m0.15963776409626007\u001b[0m with base  \u001b]8;id=215678;file:///content/robustness_of_gnns_at_scale/rgnn_at_scale/attacks/local_prbcd.py\u001b\\\u001b[2mlocal_prbcd.py\u001b[0m\u001b]8;;\u001b\\\u001b[2m:\u001b[0m\u001b]8;id=197292;file:///content/robustness_of_gnns_at_scale/rgnn_at_scale/attacks/local_prbcd.py#114\u001b\\\u001b[2m114\u001b[0m\u001b]8;;\u001b\\\n",
              "\u001b[2;36m                    \u001b[0m         learning rate \u001b[1;36m0.1\u001b[0m                                                   \u001b[2m                  \u001b[0m\n"
            ],
            "text/html": [
              "<pre style=\"white-space:pre;overflow-x:auto;line-height:normal;font-family:Menlo,'DejaVu Sans Mono',consolas,'Courier New',monospace\"><span style=\"color: #7fbfbf; text-decoration-color: #7fbfbf\">                    </span><span style=\"color: #000080; text-decoration-color: #000080\">INFO    </span> Gradient mean <span style=\"color: #008080; text-decoration-color: #008080; font-weight: bold\">0.2556573748588562</span> std <span style=\"color: #008080; text-decoration-color: #008080; font-weight: bold\">0.15963776409626007</span> with base  <a href=\"file:///content/robustness_of_gnns_at_scale/rgnn_at_scale/attacks/local_prbcd.py\" target=\"_blank\"><span style=\"color: #7f7f7f; text-decoration-color: #7f7f7f\">local_prbcd.py</span></a><span style=\"color: #7f7f7f; text-decoration-color: #7f7f7f\">:</span><a href=\"file:///content/robustness_of_gnns_at_scale/rgnn_at_scale/attacks/local_prbcd.py#114\" target=\"_blank\"><span style=\"color: #7f7f7f; text-decoration-color: #7f7f7f\">114</span></a>\n",
              "<span style=\"color: #7fbfbf; text-decoration-color: #7fbfbf\">                    </span>         learning rate <span style=\"color: #008080; text-decoration-color: #008080; font-weight: bold\">0.1</span>                                                   <span style=\"color: #7f7f7f; text-decoration-color: #7f7f7f\">                  </span>\n",
              "</pre>\n"
            ]
          },
          "metadata": {}
        },
        {
          "output_type": "stream",
          "name": "stderr",
          "text": [
            " 80%|████████  | 40/50 [09:09<02:18, 13.86s/it]"
          ]
        },
        {
          "output_type": "display_data",
          "data": {
            "text/plain": [
              "\u001b[2;36m[01/08/25 18:32:18]\u001b[0m\u001b[2;36m \u001b[0m\u001b[34mINFO    \u001b[0m                                                                     \u001b]8;id=444207;file:///content/robustness_of_gnns_at_scale/rgnn_at_scale/attacks/local_prbcd.py\u001b\\\u001b[2mlocal_prbcd.py\u001b[0m\u001b]8;;\u001b\\\u001b[2m:\u001b[0m\u001b]8;id=97363;file:///content/robustness_of_gnns_at_scale/rgnn_at_scale/attacks/local_prbcd.py#113\u001b\\\u001b[2m113\u001b[0m\u001b]8;;\u001b\\\n",
              "\u001b[2;36m                    \u001b[0m         Epoch: \u001b[1;36m40\u001b[0m Loss: \u001b[1;36m2.220834732055664\u001b[0m Statstics: \u001b[1m{\u001b[0m\u001b[32m'logit_target'\u001b[0m:       \u001b[2m                  \u001b[0m\n",
              "\u001b[2;36m                    \u001b[0m         \u001b[1;36m-2.3665249347686768\u001b[0m, \u001b[32m'logit_best_non_target'\u001b[0m: \u001b[1;36m-0.14310042560100555\u001b[0m, \u001b[2m                  \u001b[0m\n",
              "\u001b[2;36m                    \u001b[0m         \u001b[32m'confidence_target'\u001b[0m: \u001b[1;36m0.09380614299442482\u001b[0m, \u001b[32m'confidence_non_target'\u001b[0m:  \u001b[2m                  \u001b[0m\n",
              "\u001b[2;36m                    \u001b[0m         \u001b[1;36m0.8666670289677878\u001b[0m, \u001b[32m'margin'\u001b[0m: \u001b[1;36m-0.772860885973363\u001b[0m\u001b[1m}\u001b[0m                   \u001b[2m                  \u001b[0m\n",
              "\u001b[2;36m                    \u001b[0m                                                                             \u001b[2m                  \u001b[0m\n"
            ],
            "text/html": [
              "<pre style=\"white-space:pre;overflow-x:auto;line-height:normal;font-family:Menlo,'DejaVu Sans Mono',consolas,'Courier New',monospace\"><span style=\"color: #7fbfbf; text-decoration-color: #7fbfbf\">[01/08/25 18:32:18] </span><span style=\"color: #000080; text-decoration-color: #000080\">INFO    </span>                                                                     <a href=\"file:///content/robustness_of_gnns_at_scale/rgnn_at_scale/attacks/local_prbcd.py\" target=\"_blank\"><span style=\"color: #7f7f7f; text-decoration-color: #7f7f7f\">local_prbcd.py</span></a><span style=\"color: #7f7f7f; text-decoration-color: #7f7f7f\">:</span><a href=\"file:///content/robustness_of_gnns_at_scale/rgnn_at_scale/attacks/local_prbcd.py#113\" target=\"_blank\"><span style=\"color: #7f7f7f; text-decoration-color: #7f7f7f\">113</span></a>\n",
              "<span style=\"color: #7fbfbf; text-decoration-color: #7fbfbf\">                    </span>         Epoch: <span style=\"color: #008080; text-decoration-color: #008080; font-weight: bold\">40</span> Loss: <span style=\"color: #008080; text-decoration-color: #008080; font-weight: bold\">2.220834732055664</span> Statstics: <span style=\"font-weight: bold\">{</span><span style=\"color: #008000; text-decoration-color: #008000\">'logit_target'</span>:       <span style=\"color: #7f7f7f; text-decoration-color: #7f7f7f\">                  </span>\n",
              "<span style=\"color: #7fbfbf; text-decoration-color: #7fbfbf\">                    </span>         <span style=\"color: #008080; text-decoration-color: #008080; font-weight: bold\">-2.3665249347686768</span>, <span style=\"color: #008000; text-decoration-color: #008000\">'logit_best_non_target'</span>: <span style=\"color: #008080; text-decoration-color: #008080; font-weight: bold\">-0.14310042560100555</span>, <span style=\"color: #7f7f7f; text-decoration-color: #7f7f7f\">                  </span>\n",
              "<span style=\"color: #7fbfbf; text-decoration-color: #7fbfbf\">                    </span>         <span style=\"color: #008000; text-decoration-color: #008000\">'confidence_target'</span>: <span style=\"color: #008080; text-decoration-color: #008080; font-weight: bold\">0.09380614299442482</span>, <span style=\"color: #008000; text-decoration-color: #008000\">'confidence_non_target'</span>:  <span style=\"color: #7f7f7f; text-decoration-color: #7f7f7f\">                  </span>\n",
              "<span style=\"color: #7fbfbf; text-decoration-color: #7fbfbf\">                    </span>         <span style=\"color: #008080; text-decoration-color: #008080; font-weight: bold\">0.8666670289677878</span>, <span style=\"color: #008000; text-decoration-color: #008000\">'margin'</span>: <span style=\"color: #008080; text-decoration-color: #008080; font-weight: bold\">-0.772860885973363</span><span style=\"font-weight: bold\">}</span>                   <span style=\"color: #7f7f7f; text-decoration-color: #7f7f7f\">                  </span>\n",
              "<span style=\"color: #7fbfbf; text-decoration-color: #7fbfbf\">                    </span>                                                                             <span style=\"color: #7f7f7f; text-decoration-color: #7f7f7f\">                  </span>\n",
              "</pre>\n"
            ]
          },
          "metadata": {}
        },
        {
          "output_type": "display_data",
          "data": {
            "text/plain": [
              "\u001b[2;36m                   \u001b[0m\u001b[2;36m \u001b[0m\u001b[34mINFO    \u001b[0m Gradient mean \u001b[1;36m0.2470119744539261\u001b[0m std \u001b[1;36m0.1665297895669937\u001b[0m with base   \u001b]8;id=968775;file:///content/robustness_of_gnns_at_scale/rgnn_at_scale/attacks/local_prbcd.py\u001b\\\u001b[2mlocal_prbcd.py\u001b[0m\u001b]8;;\u001b\\\u001b[2m:\u001b[0m\u001b]8;id=584616;file:///content/robustness_of_gnns_at_scale/rgnn_at_scale/attacks/local_prbcd.py#114\u001b\\\u001b[2m114\u001b[0m\u001b]8;;\u001b\\\n",
              "\u001b[2;36m                    \u001b[0m         learning rate \u001b[1;36m0.1\u001b[0m                                                   \u001b[2m                  \u001b[0m\n"
            ],
            "text/html": [
              "<pre style=\"white-space:pre;overflow-x:auto;line-height:normal;font-family:Menlo,'DejaVu Sans Mono',consolas,'Courier New',monospace\"><span style=\"color: #7fbfbf; text-decoration-color: #7fbfbf\">                    </span><span style=\"color: #000080; text-decoration-color: #000080\">INFO    </span> Gradient mean <span style=\"color: #008080; text-decoration-color: #008080; font-weight: bold\">0.2470119744539261</span> std <span style=\"color: #008080; text-decoration-color: #008080; font-weight: bold\">0.1665297895669937</span> with base   <a href=\"file:///content/robustness_of_gnns_at_scale/rgnn_at_scale/attacks/local_prbcd.py\" target=\"_blank\"><span style=\"color: #7f7f7f; text-decoration-color: #7f7f7f\">local_prbcd.py</span></a><span style=\"color: #7f7f7f; text-decoration-color: #7f7f7f\">:</span><a href=\"file:///content/robustness_of_gnns_at_scale/rgnn_at_scale/attacks/local_prbcd.py#114\" target=\"_blank\"><span style=\"color: #7f7f7f; text-decoration-color: #7f7f7f\">114</span></a>\n",
              "<span style=\"color: #7fbfbf; text-decoration-color: #7fbfbf\">                    </span>         learning rate <span style=\"color: #008080; text-decoration-color: #008080; font-weight: bold\">0.1</span>                                                   <span style=\"color: #7f7f7f; text-decoration-color: #7f7f7f\">                  </span>\n",
              "</pre>\n"
            ]
          },
          "metadata": {}
        },
        {
          "output_type": "stream",
          "name": "stderr",
          "text": [
            "100%|██████████| 50/50 [11:26<00:00, 13.73s/it]\n"
          ]
        },
        {
          "output_type": "display_data",
          "data": {
            "text/plain": [
              "\u001b[2;36m[01/08/25 18:34:39]\u001b[0m\u001b[2;36m \u001b[0m\u001b[34mINFO    \u001b[0m Evaluated model Vanilla GCN using LocalPRBCD     \u001b]8;id=712559;file:///content/robustness_of_gnns_at_scale/experiments/experiment_local_attack_direct.py\u001b\\\u001b[2mexperiment_local_attack_direct.py\u001b[0m\u001b]8;;\u001b\\\u001b[2m:\u001b[0m\u001b]8;id=889597;file:///content/robustness_of_gnns_at_scale/experiments/experiment_local_attack_direct.py#194\u001b\\\u001b[2m194\u001b[0m\u001b]8;;\u001b\\\n",
              "\u001b[2;36m                    \u001b[0m         with pert. edges for node \u001b[1;36m475\u001b[0m and budget \u001b[1;36m2\u001b[0m:      \u001b[2m                                     \u001b[0m\n"
            ],
            "text/html": [
              "<pre style=\"white-space:pre;overflow-x:auto;line-height:normal;font-family:Menlo,'DejaVu Sans Mono',consolas,'Courier New',monospace\"><span style=\"color: #7fbfbf; text-decoration-color: #7fbfbf\">[01/08/25 18:34:39] </span><span style=\"color: #000080; text-decoration-color: #000080\">INFO    </span> Evaluated model Vanilla GCN using LocalPRBCD     <a href=\"file:///content/robustness_of_gnns_at_scale/experiments/experiment_local_attack_direct.py\" target=\"_blank\"><span style=\"color: #7f7f7f; text-decoration-color: #7f7f7f\">experiment_local_attack_direct.py</span></a><span style=\"color: #7f7f7f; text-decoration-color: #7f7f7f\">:</span><a href=\"file:///content/robustness_of_gnns_at_scale/experiments/experiment_local_attack_direct.py#194\" target=\"_blank\"><span style=\"color: #7f7f7f; text-decoration-color: #7f7f7f\">194</span></a>\n",
              "<span style=\"color: #7fbfbf; text-decoration-color: #7fbfbf\">                    </span>         with pert. edges for node <span style=\"color: #008080; text-decoration-color: #008080; font-weight: bold\">475</span> and budget <span style=\"color: #008080; text-decoration-color: #008080; font-weight: bold\">2</span>:      <span style=\"color: #7f7f7f; text-decoration-color: #7f7f7f\">                                     </span>\n",
              "</pre>\n"
            ]
          },
          "metadata": {}
        },
        {
          "output_type": "display_data",
          "data": {
            "text/plain": [
              "\u001b[2;36m                   \u001b[0m\u001b[2;36m \u001b[0m\u001b[34mINFO    \u001b[0m \u001b[1m{\u001b[0m\u001b[32m'label'\u001b[0m: \u001b[32m'Vanilla GCN'\u001b[0m, \u001b[32m'epsilon'\u001b[0m: \u001b[1;36m1\u001b[0m,           \u001b]8;id=478694;file:///content/robustness_of_gnns_at_scale/experiments/experiment_local_attack_direct.py\u001b\\\u001b[2mexperiment_local_attack_direct.py\u001b[0m\u001b]8;;\u001b\\\u001b[2m:\u001b[0m\u001b]8;id=611747;file:///content/robustness_of_gnns_at_scale/experiments/experiment_local_attack_direct.py#215\u001b\\\u001b[2m215\u001b[0m\u001b]8;;\u001b\\\n",
              "\u001b[2;36m                    \u001b[0m         \u001b[32m'n_perturbations'\u001b[0m: \u001b[1;36m2\u001b[0m, \u001b[32m'degree'\u001b[0m: \u001b[1;36m2\u001b[0m, \u001b[32m'logits'\u001b[0m:     \u001b[2m                                     \u001b[0m\n",
              "\u001b[2;36m                    \u001b[0m         \u001b[1m[\u001b[0m\u001b[1m[\u001b[0m\u001b[1;36m-0.38146987557411194\u001b[0m, \u001b[1;36m-1.1601182222366333\u001b[0m,     \u001b[2m                                     \u001b[0m\n",
              "\u001b[2;36m                    \u001b[0m         \u001b[1;36m2.008091688156128\u001b[0m, \u001b[1;36m-1.737828254699707\u001b[0m,           \u001b[2m                                     \u001b[0m\n",
              "\u001b[2;36m                    \u001b[0m         \u001b[1;36m-1.1092791557312012\u001b[0m, \u001b[1;36m3.33071231842041\u001b[0m,           \u001b[2m                                     \u001b[0m\n",
              "\u001b[2;36m                    \u001b[0m         \u001b[1;36m-1.1493072509765625\u001b[0m\u001b[1m]\u001b[0m\u001b[1m]\u001b[0m, \u001b[32m'initial_logits'\u001b[0m:         \u001b[2m                                     \u001b[0m\n",
              "\u001b[2;36m                    \u001b[0m         \u001b[1m[\u001b[0m\u001b[1m[\u001b[0m\u001b[1;36m-1.2848479747772217\u001b[0m, \u001b[1;36m-2.1864023208618164\u001b[0m,      \u001b[2m                                     \u001b[0m\n",
              "\u001b[2;36m                    \u001b[0m         \u001b[1;36m8.6132173538208\u001b[0m, \u001b[1;36m-1.4044394493103027\u001b[0m,            \u001b[2m                                     \u001b[0m\n",
              "\u001b[2;36m                    \u001b[0m         \u001b[1;36m-1.279679775238037\u001b[0m, \u001b[1;36m-1.2690284252166748\u001b[0m,         \u001b[2m                                     \u001b[0m\n",
              "\u001b[2;36m                    \u001b[0m         \u001b[1;36m-1.3784680366516113\u001b[0m\u001b[1m]\u001b[0m\u001b[1m]\u001b[0m, \u001b[32m'larget'\u001b[0m: \u001b[1;36m2\u001b[0m, \u001b[32m'node_id'\u001b[0m:   \u001b[2m                                     \u001b[0m\n",
              "\u001b[2;36m                    \u001b[0m         \u001b[1;36m475\u001b[0m, \u001b[32m'perturbed_edges'\u001b[0m: \u001b[1m[\u001b[0m\u001b[1m[\u001b[0m\u001b[1;36m475\u001b[0m, \u001b[1;36m475\u001b[0m\u001b[1m]\u001b[0m, \u001b[1m[\u001b[0m\u001b[1;36m1244\u001b[0m,      \u001b[2m                                     \u001b[0m\n",
              "\u001b[2;36m                    \u001b[0m         \u001b[1;36m1590\u001b[0m\u001b[1m]\u001b[0m\u001b[1m]\u001b[0m, \u001b[32m'logit_target'\u001b[0m: \u001b[1;36m-1.6089211702346802\u001b[0m,     \u001b[2m                                     \u001b[0m\n",
              "\u001b[2;36m                    \u001b[0m         \u001b[32m'logit_best_non_target'\u001b[0m: \u001b[1;36m-0.28630053997039795\u001b[0m,   \u001b[2m                                     \u001b[0m\n",
              "\u001b[2;36m                    \u001b[0m         \u001b[32m'confidence_target'\u001b[0m: \u001b[1;36m0.2001033751467341\u001b[0m,         \u001b[2m                                     \u001b[0m\n",
              "\u001b[2;36m                    \u001b[0m         \u001b[32m'confidence_non_target'\u001b[0m: \u001b[1;36m0.7510368654277546\u001b[0m,     \u001b[2m                                     \u001b[0m\n",
              "\u001b[2;36m                    \u001b[0m         \u001b[32m'margin'\u001b[0m: \u001b[1;36m-0.5509334902810206\u001b[0m,                   \u001b[2m                                     \u001b[0m\n",
              "\u001b[2;36m                    \u001b[0m         \u001b[32m'initial_logit_target'\u001b[0m: \u001b[1;36m-0.00026258357684127986\u001b[0m, \u001b[2m                                     \u001b[0m\n",
              "\u001b[2;36m                    \u001b[0m         \u001b[32m'initial_logit_best_non_target'\u001b[0m:                 \u001b[2m                                     \u001b[0m\n",
              "\u001b[2;36m                    \u001b[0m         \u001b[1;36m-9.882508277893066\u001b[0m, \u001b[32m'initial_confidence_target'\u001b[0m: \u001b[2m                                     \u001b[0m\n",
              "\u001b[2;36m                    \u001b[0m         \u001b[1;36m0.9997374508952088\u001b[0m,                              \u001b[2m                                     \u001b[0m\n",
              "\u001b[2;36m                    \u001b[0m         \u001b[32m'initial_confidence_non_target'\u001b[0m:                 \u001b[2m                                     \u001b[0m\n",
              "\u001b[2;36m                    \u001b[0m         \u001b[1;36m5.1060044333266085e-05\u001b[0m, \u001b[32m'initial_margin'\u001b[0m:        \u001b[2m                                     \u001b[0m\n",
              "\u001b[2;36m                    \u001b[0m         \u001b[1;36m0.9996863908508755\u001b[0m\u001b[1m}\u001b[0m                              \u001b[2m                                     \u001b[0m\n"
            ],
            "text/html": [
              "<pre style=\"white-space:pre;overflow-x:auto;line-height:normal;font-family:Menlo,'DejaVu Sans Mono',consolas,'Courier New',monospace\"><span style=\"color: #7fbfbf; text-decoration-color: #7fbfbf\">                    </span><span style=\"color: #000080; text-decoration-color: #000080\">INFO    </span> <span style=\"font-weight: bold\">{</span><span style=\"color: #008000; text-decoration-color: #008000\">'label'</span>: <span style=\"color: #008000; text-decoration-color: #008000\">'Vanilla GCN'</span>, <span style=\"color: #008000; text-decoration-color: #008000\">'epsilon'</span>: <span style=\"color: #008080; text-decoration-color: #008080; font-weight: bold\">1</span>,           <a href=\"file:///content/robustness_of_gnns_at_scale/experiments/experiment_local_attack_direct.py\" target=\"_blank\"><span style=\"color: #7f7f7f; text-decoration-color: #7f7f7f\">experiment_local_attack_direct.py</span></a><span style=\"color: #7f7f7f; text-decoration-color: #7f7f7f\">:</span><a href=\"file:///content/robustness_of_gnns_at_scale/experiments/experiment_local_attack_direct.py#215\" target=\"_blank\"><span style=\"color: #7f7f7f; text-decoration-color: #7f7f7f\">215</span></a>\n",
              "<span style=\"color: #7fbfbf; text-decoration-color: #7fbfbf\">                    </span>         <span style=\"color: #008000; text-decoration-color: #008000\">'n_perturbations'</span>: <span style=\"color: #008080; text-decoration-color: #008080; font-weight: bold\">2</span>, <span style=\"color: #008000; text-decoration-color: #008000\">'degree'</span>: <span style=\"color: #008080; text-decoration-color: #008080; font-weight: bold\">2</span>, <span style=\"color: #008000; text-decoration-color: #008000\">'logits'</span>:     <span style=\"color: #7f7f7f; text-decoration-color: #7f7f7f\">                                     </span>\n",
              "<span style=\"color: #7fbfbf; text-decoration-color: #7fbfbf\">                    </span>         <span style=\"font-weight: bold\">[[</span><span style=\"color: #008080; text-decoration-color: #008080; font-weight: bold\">-0.38146987557411194</span>, <span style=\"color: #008080; text-decoration-color: #008080; font-weight: bold\">-1.1601182222366333</span>,     <span style=\"color: #7f7f7f; text-decoration-color: #7f7f7f\">                                     </span>\n",
              "<span style=\"color: #7fbfbf; text-decoration-color: #7fbfbf\">                    </span>         <span style=\"color: #008080; text-decoration-color: #008080; font-weight: bold\">2.008091688156128</span>, <span style=\"color: #008080; text-decoration-color: #008080; font-weight: bold\">-1.737828254699707</span>,           <span style=\"color: #7f7f7f; text-decoration-color: #7f7f7f\">                                     </span>\n",
              "<span style=\"color: #7fbfbf; text-decoration-color: #7fbfbf\">                    </span>         <span style=\"color: #008080; text-decoration-color: #008080; font-weight: bold\">-1.1092791557312012</span>, <span style=\"color: #008080; text-decoration-color: #008080; font-weight: bold\">3.33071231842041</span>,           <span style=\"color: #7f7f7f; text-decoration-color: #7f7f7f\">                                     </span>\n",
              "<span style=\"color: #7fbfbf; text-decoration-color: #7fbfbf\">                    </span>         <span style=\"color: #008080; text-decoration-color: #008080; font-weight: bold\">-1.1493072509765625</span><span style=\"font-weight: bold\">]]</span>, <span style=\"color: #008000; text-decoration-color: #008000\">'initial_logits'</span>:         <span style=\"color: #7f7f7f; text-decoration-color: #7f7f7f\">                                     </span>\n",
              "<span style=\"color: #7fbfbf; text-decoration-color: #7fbfbf\">                    </span>         <span style=\"font-weight: bold\">[[</span><span style=\"color: #008080; text-decoration-color: #008080; font-weight: bold\">-1.2848479747772217</span>, <span style=\"color: #008080; text-decoration-color: #008080; font-weight: bold\">-2.1864023208618164</span>,      <span style=\"color: #7f7f7f; text-decoration-color: #7f7f7f\">                                     </span>\n",
              "<span style=\"color: #7fbfbf; text-decoration-color: #7fbfbf\">                    </span>         <span style=\"color: #008080; text-decoration-color: #008080; font-weight: bold\">8.6132173538208</span>, <span style=\"color: #008080; text-decoration-color: #008080; font-weight: bold\">-1.4044394493103027</span>,            <span style=\"color: #7f7f7f; text-decoration-color: #7f7f7f\">                                     </span>\n",
              "<span style=\"color: #7fbfbf; text-decoration-color: #7fbfbf\">                    </span>         <span style=\"color: #008080; text-decoration-color: #008080; font-weight: bold\">-1.279679775238037</span>, <span style=\"color: #008080; text-decoration-color: #008080; font-weight: bold\">-1.2690284252166748</span>,         <span style=\"color: #7f7f7f; text-decoration-color: #7f7f7f\">                                     </span>\n",
              "<span style=\"color: #7fbfbf; text-decoration-color: #7fbfbf\">                    </span>         <span style=\"color: #008080; text-decoration-color: #008080; font-weight: bold\">-1.3784680366516113</span><span style=\"font-weight: bold\">]]</span>, <span style=\"color: #008000; text-decoration-color: #008000\">'larget'</span>: <span style=\"color: #008080; text-decoration-color: #008080; font-weight: bold\">2</span>, <span style=\"color: #008000; text-decoration-color: #008000\">'node_id'</span>:   <span style=\"color: #7f7f7f; text-decoration-color: #7f7f7f\">                                     </span>\n",
              "<span style=\"color: #7fbfbf; text-decoration-color: #7fbfbf\">                    </span>         <span style=\"color: #008080; text-decoration-color: #008080; font-weight: bold\">475</span>, <span style=\"color: #008000; text-decoration-color: #008000\">'perturbed_edges'</span>: <span style=\"font-weight: bold\">[[</span><span style=\"color: #008080; text-decoration-color: #008080; font-weight: bold\">475</span>, <span style=\"color: #008080; text-decoration-color: #008080; font-weight: bold\">475</span><span style=\"font-weight: bold\">]</span>, <span style=\"font-weight: bold\">[</span><span style=\"color: #008080; text-decoration-color: #008080; font-weight: bold\">1244</span>,      <span style=\"color: #7f7f7f; text-decoration-color: #7f7f7f\">                                     </span>\n",
              "<span style=\"color: #7fbfbf; text-decoration-color: #7fbfbf\">                    </span>         <span style=\"color: #008080; text-decoration-color: #008080; font-weight: bold\">1590</span><span style=\"font-weight: bold\">]]</span>, <span style=\"color: #008000; text-decoration-color: #008000\">'logit_target'</span>: <span style=\"color: #008080; text-decoration-color: #008080; font-weight: bold\">-1.6089211702346802</span>,     <span style=\"color: #7f7f7f; text-decoration-color: #7f7f7f\">                                     </span>\n",
              "<span style=\"color: #7fbfbf; text-decoration-color: #7fbfbf\">                    </span>         <span style=\"color: #008000; text-decoration-color: #008000\">'logit_best_non_target'</span>: <span style=\"color: #008080; text-decoration-color: #008080; font-weight: bold\">-0.28630053997039795</span>,   <span style=\"color: #7f7f7f; text-decoration-color: #7f7f7f\">                                     </span>\n",
              "<span style=\"color: #7fbfbf; text-decoration-color: #7fbfbf\">                    </span>         <span style=\"color: #008000; text-decoration-color: #008000\">'confidence_target'</span>: <span style=\"color: #008080; text-decoration-color: #008080; font-weight: bold\">0.2001033751467341</span>,         <span style=\"color: #7f7f7f; text-decoration-color: #7f7f7f\">                                     </span>\n",
              "<span style=\"color: #7fbfbf; text-decoration-color: #7fbfbf\">                    </span>         <span style=\"color: #008000; text-decoration-color: #008000\">'confidence_non_target'</span>: <span style=\"color: #008080; text-decoration-color: #008080; font-weight: bold\">0.7510368654277546</span>,     <span style=\"color: #7f7f7f; text-decoration-color: #7f7f7f\">                                     </span>\n",
              "<span style=\"color: #7fbfbf; text-decoration-color: #7fbfbf\">                    </span>         <span style=\"color: #008000; text-decoration-color: #008000\">'margin'</span>: <span style=\"color: #008080; text-decoration-color: #008080; font-weight: bold\">-0.5509334902810206</span>,                   <span style=\"color: #7f7f7f; text-decoration-color: #7f7f7f\">                                     </span>\n",
              "<span style=\"color: #7fbfbf; text-decoration-color: #7fbfbf\">                    </span>         <span style=\"color: #008000; text-decoration-color: #008000\">'initial_logit_target'</span>: <span style=\"color: #008080; text-decoration-color: #008080; font-weight: bold\">-0.00026258357684127986</span>, <span style=\"color: #7f7f7f; text-decoration-color: #7f7f7f\">                                     </span>\n",
              "<span style=\"color: #7fbfbf; text-decoration-color: #7fbfbf\">                    </span>         <span style=\"color: #008000; text-decoration-color: #008000\">'initial_logit_best_non_target'</span>:                 <span style=\"color: #7f7f7f; text-decoration-color: #7f7f7f\">                                     </span>\n",
              "<span style=\"color: #7fbfbf; text-decoration-color: #7fbfbf\">                    </span>         <span style=\"color: #008080; text-decoration-color: #008080; font-weight: bold\">-9.882508277893066</span>, <span style=\"color: #008000; text-decoration-color: #008000\">'initial_confidence_target'</span>: <span style=\"color: #7f7f7f; text-decoration-color: #7f7f7f\">                                     </span>\n",
              "<span style=\"color: #7fbfbf; text-decoration-color: #7fbfbf\">                    </span>         <span style=\"color: #008080; text-decoration-color: #008080; font-weight: bold\">0.9997374508952088</span>,                              <span style=\"color: #7f7f7f; text-decoration-color: #7f7f7f\">                                     </span>\n",
              "<span style=\"color: #7fbfbf; text-decoration-color: #7fbfbf\">                    </span>         <span style=\"color: #008000; text-decoration-color: #008000\">'initial_confidence_non_target'</span>:                 <span style=\"color: #7f7f7f; text-decoration-color: #7f7f7f\">                                     </span>\n",
              "<span style=\"color: #7fbfbf; text-decoration-color: #7fbfbf\">                    </span>         <span style=\"color: #008080; text-decoration-color: #008080; font-weight: bold\">5.1060044333266085e-05</span>, <span style=\"color: #008000; text-decoration-color: #008000\">'initial_margin'</span>:        <span style=\"color: #7f7f7f; text-decoration-color: #7f7f7f\">                                     </span>\n",
              "<span style=\"color: #7fbfbf; text-decoration-color: #7fbfbf\">                    </span>         <span style=\"color: #008080; text-decoration-color: #008080; font-weight: bold\">0.9996863908508755</span><span style=\"font-weight: bold\">}</span>                              <span style=\"color: #7f7f7f; text-decoration-color: #7f7f7f\">                                     </span>\n",
              "</pre>\n"
            ]
          },
          "metadata": {}
        },
        {
          "output_type": "display_data",
          "data": {
            "text/plain": [
              "\u001b[2;36m                   \u001b[0m\u001b[2;36m \u001b[0m\u001b[34mINFO    \u001b[0m Completed attack and evaluation of Vanilla GCN   \u001b]8;id=151013;file:///content/robustness_of_gnns_at_scale/experiments/experiment_local_attack_direct.py\u001b\\\u001b[2mexperiment_local_attack_direct.py\u001b[0m\u001b]8;;\u001b\\\u001b[2m:\u001b[0m\u001b]8;id=842416;file:///content/robustness_of_gnns_at_scale/experiments/experiment_local_attack_direct.py#216\u001b\\\u001b[2m216\u001b[0m\u001b]8;;\u001b\\\n",
              "\u001b[2;36m                    \u001b[0m         using LocalPRBCD with pert. edges for node \u001b[1;36m475\u001b[0m   \u001b[2m                                     \u001b[0m\n",
              "\u001b[2;36m                    \u001b[0m         and budget \u001b[1;36m2\u001b[0m                                     \u001b[2m                                     \u001b[0m\n"
            ],
            "text/html": [
              "<pre style=\"white-space:pre;overflow-x:auto;line-height:normal;font-family:Menlo,'DejaVu Sans Mono',consolas,'Courier New',monospace\"><span style=\"color: #7fbfbf; text-decoration-color: #7fbfbf\">                    </span><span style=\"color: #000080; text-decoration-color: #000080\">INFO    </span> Completed attack and evaluation of Vanilla GCN   <a href=\"file:///content/robustness_of_gnns_at_scale/experiments/experiment_local_attack_direct.py\" target=\"_blank\"><span style=\"color: #7f7f7f; text-decoration-color: #7f7f7f\">experiment_local_attack_direct.py</span></a><span style=\"color: #7f7f7f; text-decoration-color: #7f7f7f\">:</span><a href=\"file:///content/robustness_of_gnns_at_scale/experiments/experiment_local_attack_direct.py#216\" target=\"_blank\"><span style=\"color: #7f7f7f; text-decoration-color: #7f7f7f\">216</span></a>\n",
              "<span style=\"color: #7fbfbf; text-decoration-color: #7fbfbf\">                    </span>         using LocalPRBCD with pert. edges for node <span style=\"color: #008080; text-decoration-color: #008080; font-weight: bold\">475</span>   <span style=\"color: #7f7f7f; text-decoration-color: #7f7f7f\">                                     </span>\n",
              "<span style=\"color: #7fbfbf; text-decoration-color: #7fbfbf\">                    </span>         and budget <span style=\"color: #008080; text-decoration-color: #008080; font-weight: bold\">2</span>                                     <span style=\"color: #7f7f7f; text-decoration-color: #7f7f7f\">                                     </span>\n",
              "</pre>\n"
            ]
          },
          "metadata": {}
        },
        {
          "output_type": "display_data",
          "data": {
            "text/plain": [
              "\u001b[2;36m[01/08/25 18:34:41]\u001b[0m\u001b[2;36m \u001b[0m\u001b[34mINFO    \u001b[0m Original: Loss: \u001b[1;36m-0.2330472767353058\u001b[0m Statstics: \u001b[1m{\u001b[0m\u001b[32m'logit_target'\u001b[0m:      \u001b]8;id=430758;file:///content/robustness_of_gnns_at_scale/rgnn_at_scale/attacks/local_prbcd.py\u001b\\\u001b[2mlocal_prbcd.py\u001b[0m\u001b]8;;\u001b\\\u001b[2m:\u001b[0m\u001b]8;id=510146;file:///content/robustness_of_gnns_at_scale/rgnn_at_scale/attacks/local_prbcd.py#74\u001b\\\u001b[2m74\u001b[0m\u001b]8;;\u001b\\\n",
              "\u001b[2;36m                    \u001b[0m         \u001b[1;36m-1.4707920551300049\u001b[0m, \u001b[32m'logit_best_non_target'\u001b[0m: \u001b[1;36m-1.7038393020629883\u001b[0m,   \u001b[2m                 \u001b[0m\n",
              "\u001b[2;36m                    \u001b[0m         \u001b[32m'confidence_target'\u001b[0m: \u001b[1;36m0.2297434436296544\u001b[0m, \u001b[32m'confidence_non_target'\u001b[0m:    \u001b[2m                 \u001b[0m\n",
              "\u001b[2;36m                    \u001b[0m         \u001b[1;36m0.18198349150006396\u001b[0m, \u001b[32m'margin'\u001b[0m: \u001b[1;36m0.047759952129590444\u001b[0m\u001b[1m}\u001b[0m                 \u001b[2m                 \u001b[0m\n",
              "\u001b[2;36m                    \u001b[0m                                                                              \u001b[2m                 \u001b[0m\n"
            ],
            "text/html": [
              "<pre style=\"white-space:pre;overflow-x:auto;line-height:normal;font-family:Menlo,'DejaVu Sans Mono',consolas,'Courier New',monospace\"><span style=\"color: #7fbfbf; text-decoration-color: #7fbfbf\">[01/08/25 18:34:41] </span><span style=\"color: #000080; text-decoration-color: #000080\">INFO    </span> Original: Loss: <span style=\"color: #008080; text-decoration-color: #008080; font-weight: bold\">-0.2330472767353058</span> Statstics: <span style=\"font-weight: bold\">{</span><span style=\"color: #008000; text-decoration-color: #008000\">'logit_target'</span>:      <a href=\"file:///content/robustness_of_gnns_at_scale/rgnn_at_scale/attacks/local_prbcd.py\" target=\"_blank\"><span style=\"color: #7f7f7f; text-decoration-color: #7f7f7f\">local_prbcd.py</span></a><span style=\"color: #7f7f7f; text-decoration-color: #7f7f7f\">:</span><a href=\"file:///content/robustness_of_gnns_at_scale/rgnn_at_scale/attacks/local_prbcd.py#74\" target=\"_blank\"><span style=\"color: #7f7f7f; text-decoration-color: #7f7f7f\">74</span></a>\n",
              "<span style=\"color: #7fbfbf; text-decoration-color: #7fbfbf\">                    </span>         <span style=\"color: #008080; text-decoration-color: #008080; font-weight: bold\">-1.4707920551300049</span>, <span style=\"color: #008000; text-decoration-color: #008000\">'logit_best_non_target'</span>: <span style=\"color: #008080; text-decoration-color: #008080; font-weight: bold\">-1.7038393020629883</span>,   <span style=\"color: #7f7f7f; text-decoration-color: #7f7f7f\">                 </span>\n",
              "<span style=\"color: #7fbfbf; text-decoration-color: #7fbfbf\">                    </span>         <span style=\"color: #008000; text-decoration-color: #008000\">'confidence_target'</span>: <span style=\"color: #008080; text-decoration-color: #008080; font-weight: bold\">0.2297434436296544</span>, <span style=\"color: #008000; text-decoration-color: #008000\">'confidence_non_target'</span>:    <span style=\"color: #7f7f7f; text-decoration-color: #7f7f7f\">                 </span>\n",
              "<span style=\"color: #7fbfbf; text-decoration-color: #7fbfbf\">                    </span>         <span style=\"color: #008080; text-decoration-color: #008080; font-weight: bold\">0.18198349150006396</span>, <span style=\"color: #008000; text-decoration-color: #008000\">'margin'</span>: <span style=\"color: #008080; text-decoration-color: #008080; font-weight: bold\">0.047759952129590444</span><span style=\"font-weight: bold\">}</span>                 <span style=\"color: #7f7f7f; text-decoration-color: #7f7f7f\">                 </span>\n",
              "<span style=\"color: #7fbfbf; text-decoration-color: #7fbfbf\">                    </span>                                                                              <span style=\"color: #7f7f7f; text-decoration-color: #7f7f7f\">                 </span>\n",
              "</pre>\n"
            ]
          },
          "metadata": {}
        },
        {
          "output_type": "stream",
          "name": "stderr",
          "text": [
            "\r  0%|          | 0/50 [00:00<?, ?it/s]"
          ]
        },
        {
          "output_type": "display_data",
          "data": {
            "text/plain": [
              "\u001b[2;36m[01/08/25 18:34:42]\u001b[0m\u001b[2;36m \u001b[0m\u001b[34mINFO    \u001b[0m Initial: Loss: \u001b[1;36m-0.2330472767353058\u001b[0m Statstics: \u001b[1m{\u001b[0m\u001b[32m'logit_target'\u001b[0m:       \u001b]8;id=735170;file:///content/robustness_of_gnns_at_scale/rgnn_at_scale/attacks/local_prbcd.py\u001b\\\u001b[2mlocal_prbcd.py\u001b[0m\u001b]8;;\u001b\\\u001b[2m:\u001b[0m\u001b]8;id=944847;file:///content/robustness_of_gnns_at_scale/rgnn_at_scale/attacks/local_prbcd.py#92\u001b\\\u001b[2m92\u001b[0m\u001b]8;;\u001b\\\n",
              "\u001b[2;36m                    \u001b[0m         \u001b[1;36m-1.4707920551300049\u001b[0m, \u001b[32m'logit_best_non_target'\u001b[0m: \u001b[1;36m-1.7038393020629883\u001b[0m,   \u001b[2m                 \u001b[0m\n",
              "\u001b[2;36m                    \u001b[0m         \u001b[32m'confidence_target'\u001b[0m: \u001b[1;36m0.2297434436296544\u001b[0m, \u001b[32m'confidence_non_target'\u001b[0m:    \u001b[2m                 \u001b[0m\n",
              "\u001b[2;36m                    \u001b[0m         \u001b[1;36m0.18198349150006396\u001b[0m, \u001b[32m'margin'\u001b[0m: \u001b[1;36m0.047759952129590444\u001b[0m\u001b[1m}\u001b[0m                 \u001b[2m                 \u001b[0m\n",
              "\u001b[2;36m                    \u001b[0m                                                                              \u001b[2m                 \u001b[0m\n"
            ],
            "text/html": [
              "<pre style=\"white-space:pre;overflow-x:auto;line-height:normal;font-family:Menlo,'DejaVu Sans Mono',consolas,'Courier New',monospace\"><span style=\"color: #7fbfbf; text-decoration-color: #7fbfbf\">[01/08/25 18:34:42] </span><span style=\"color: #000080; text-decoration-color: #000080\">INFO    </span> Initial: Loss: <span style=\"color: #008080; text-decoration-color: #008080; font-weight: bold\">-0.2330472767353058</span> Statstics: <span style=\"font-weight: bold\">{</span><span style=\"color: #008000; text-decoration-color: #008000\">'logit_target'</span>:       <a href=\"file:///content/robustness_of_gnns_at_scale/rgnn_at_scale/attacks/local_prbcd.py\" target=\"_blank\"><span style=\"color: #7f7f7f; text-decoration-color: #7f7f7f\">local_prbcd.py</span></a><span style=\"color: #7f7f7f; text-decoration-color: #7f7f7f\">:</span><a href=\"file:///content/robustness_of_gnns_at_scale/rgnn_at_scale/attacks/local_prbcd.py#92\" target=\"_blank\"><span style=\"color: #7f7f7f; text-decoration-color: #7f7f7f\">92</span></a>\n",
              "<span style=\"color: #7fbfbf; text-decoration-color: #7fbfbf\">                    </span>         <span style=\"color: #008080; text-decoration-color: #008080; font-weight: bold\">-1.4707920551300049</span>, <span style=\"color: #008000; text-decoration-color: #008000\">'logit_best_non_target'</span>: <span style=\"color: #008080; text-decoration-color: #008080; font-weight: bold\">-1.7038393020629883</span>,   <span style=\"color: #7f7f7f; text-decoration-color: #7f7f7f\">                 </span>\n",
              "<span style=\"color: #7fbfbf; text-decoration-color: #7fbfbf\">                    </span>         <span style=\"color: #008000; text-decoration-color: #008000\">'confidence_target'</span>: <span style=\"color: #008080; text-decoration-color: #008080; font-weight: bold\">0.2297434436296544</span>, <span style=\"color: #008000; text-decoration-color: #008000\">'confidence_non_target'</span>:    <span style=\"color: #7f7f7f; text-decoration-color: #7f7f7f\">                 </span>\n",
              "<span style=\"color: #7fbfbf; text-decoration-color: #7fbfbf\">                    </span>         <span style=\"color: #008080; text-decoration-color: #008080; font-weight: bold\">0.18198349150006396</span>, <span style=\"color: #008000; text-decoration-color: #008000\">'margin'</span>: <span style=\"color: #008080; text-decoration-color: #008080; font-weight: bold\">0.047759952129590444</span><span style=\"font-weight: bold\">}</span>                 <span style=\"color: #7f7f7f; text-decoration-color: #7f7f7f\">                 </span>\n",
              "<span style=\"color: #7fbfbf; text-decoration-color: #7fbfbf\">                    </span>                                                                              <span style=\"color: #7f7f7f; text-decoration-color: #7f7f7f\">                 </span>\n",
              "</pre>\n"
            ]
          },
          "metadata": {}
        },
        {
          "output_type": "display_data",
          "data": {
            "text/plain": [
              "\u001b[2;36m[01/08/25 18:34:44]\u001b[0m\u001b[2;36m \u001b[0m\u001b[34mINFO    \u001b[0m                                                                     \u001b]8;id=466956;file:///content/robustness_of_gnns_at_scale/rgnn_at_scale/attacks/local_prbcd.py\u001b\\\u001b[2mlocal_prbcd.py\u001b[0m\u001b]8;;\u001b\\\u001b[2m:\u001b[0m\u001b]8;id=538358;file:///content/robustness_of_gnns_at_scale/rgnn_at_scale/attacks/local_prbcd.py#113\u001b\\\u001b[2m113\u001b[0m\u001b]8;;\u001b\\\n",
              "\u001b[2;36m                    \u001b[0m         Epoch: \u001b[1;36m0\u001b[0m Loss: \u001b[1;36m-0.2330472767353058\u001b[0m Statstics: \u001b[1m{\u001b[0m\u001b[32m'logit_target'\u001b[0m:      \u001b[2m                  \u001b[0m\n",
              "\u001b[2;36m                    \u001b[0m         \u001b[1;36m-1.6301093101501465\u001b[0m, \u001b[32m'logit_best_non_target'\u001b[0m: \u001b[1;36m-1.6191402673721313\u001b[0m,  \u001b[2m                  \u001b[0m\n",
              "\u001b[2;36m                    \u001b[0m         \u001b[32m'confidence_target'\u001b[0m: \u001b[1;36m0.19590815820625349\u001b[0m, \u001b[32m'confidence_non_target'\u001b[0m:  \u001b[2m                  \u001b[0m\n",
              "\u001b[2;36m                    \u001b[0m         \u001b[1;36m0.19806891221063483\u001b[0m, \u001b[32m'margin'\u001b[0m: \u001b[1;36m-0.0021607540043813434\u001b[0m\u001b[1m}\u001b[0m              \u001b[2m                  \u001b[0m\n",
              "\u001b[2;36m                    \u001b[0m                                                                             \u001b[2m                  \u001b[0m\n"
            ],
            "text/html": [
              "<pre style=\"white-space:pre;overflow-x:auto;line-height:normal;font-family:Menlo,'DejaVu Sans Mono',consolas,'Courier New',monospace\"><span style=\"color: #7fbfbf; text-decoration-color: #7fbfbf\">[01/08/25 18:34:44] </span><span style=\"color: #000080; text-decoration-color: #000080\">INFO    </span>                                                                     <a href=\"file:///content/robustness_of_gnns_at_scale/rgnn_at_scale/attacks/local_prbcd.py\" target=\"_blank\"><span style=\"color: #7f7f7f; text-decoration-color: #7f7f7f\">local_prbcd.py</span></a><span style=\"color: #7f7f7f; text-decoration-color: #7f7f7f\">:</span><a href=\"file:///content/robustness_of_gnns_at_scale/rgnn_at_scale/attacks/local_prbcd.py#113\" target=\"_blank\"><span style=\"color: #7f7f7f; text-decoration-color: #7f7f7f\">113</span></a>\n",
              "<span style=\"color: #7fbfbf; text-decoration-color: #7fbfbf\">                    </span>         Epoch: <span style=\"color: #008080; text-decoration-color: #008080; font-weight: bold\">0</span> Loss: <span style=\"color: #008080; text-decoration-color: #008080; font-weight: bold\">-0.2330472767353058</span> Statstics: <span style=\"font-weight: bold\">{</span><span style=\"color: #008000; text-decoration-color: #008000\">'logit_target'</span>:      <span style=\"color: #7f7f7f; text-decoration-color: #7f7f7f\">                  </span>\n",
              "<span style=\"color: #7fbfbf; text-decoration-color: #7fbfbf\">                    </span>         <span style=\"color: #008080; text-decoration-color: #008080; font-weight: bold\">-1.6301093101501465</span>, <span style=\"color: #008000; text-decoration-color: #008000\">'logit_best_non_target'</span>: <span style=\"color: #008080; text-decoration-color: #008080; font-weight: bold\">-1.6191402673721313</span>,  <span style=\"color: #7f7f7f; text-decoration-color: #7f7f7f\">                  </span>\n",
              "<span style=\"color: #7fbfbf; text-decoration-color: #7fbfbf\">                    </span>         <span style=\"color: #008000; text-decoration-color: #008000\">'confidence_target'</span>: <span style=\"color: #008080; text-decoration-color: #008080; font-weight: bold\">0.19590815820625349</span>, <span style=\"color: #008000; text-decoration-color: #008000\">'confidence_non_target'</span>:  <span style=\"color: #7f7f7f; text-decoration-color: #7f7f7f\">                  </span>\n",
              "<span style=\"color: #7fbfbf; text-decoration-color: #7fbfbf\">                    </span>         <span style=\"color: #008080; text-decoration-color: #008080; font-weight: bold\">0.19806891221063483</span>, <span style=\"color: #008000; text-decoration-color: #008000\">'margin'</span>: <span style=\"color: #008080; text-decoration-color: #008080; font-weight: bold\">-0.0021607540043813434</span><span style=\"font-weight: bold\">}</span>              <span style=\"color: #7f7f7f; text-decoration-color: #7f7f7f\">                  </span>\n",
              "<span style=\"color: #7fbfbf; text-decoration-color: #7fbfbf\">                    </span>                                                                             <span style=\"color: #7f7f7f; text-decoration-color: #7f7f7f\">                  </span>\n",
              "</pre>\n"
            ]
          },
          "metadata": {}
        },
        {
          "output_type": "display_data",
          "data": {
            "text/plain": [
              "\u001b[2;36m                   \u001b[0m\u001b[2;36m \u001b[0m\u001b[34mINFO    \u001b[0m Gradient mean \u001b[1;36m0.03156304731965065\u001b[0m std \u001b[1;36m0.03297370299696922\u001b[0m with base \u001b]8;id=909277;file:///content/robustness_of_gnns_at_scale/rgnn_at_scale/attacks/local_prbcd.py\u001b\\\u001b[2mlocal_prbcd.py\u001b[0m\u001b]8;;\u001b\\\u001b[2m:\u001b[0m\u001b]8;id=187255;file:///content/robustness_of_gnns_at_scale/rgnn_at_scale/attacks/local_prbcd.py#114\u001b\\\u001b[2m114\u001b[0m\u001b]8;;\u001b\\\n",
              "\u001b[2;36m                    \u001b[0m         learning rate \u001b[1;36m0.45\u001b[0m                                                  \u001b[2m                  \u001b[0m\n"
            ],
            "text/html": [
              "<pre style=\"white-space:pre;overflow-x:auto;line-height:normal;font-family:Menlo,'DejaVu Sans Mono',consolas,'Courier New',monospace\"><span style=\"color: #7fbfbf; text-decoration-color: #7fbfbf\">                    </span><span style=\"color: #000080; text-decoration-color: #000080\">INFO    </span> Gradient mean <span style=\"color: #008080; text-decoration-color: #008080; font-weight: bold\">0.03156304731965065</span> std <span style=\"color: #008080; text-decoration-color: #008080; font-weight: bold\">0.03297370299696922</span> with base <a href=\"file:///content/robustness_of_gnns_at_scale/rgnn_at_scale/attacks/local_prbcd.py\" target=\"_blank\"><span style=\"color: #7f7f7f; text-decoration-color: #7f7f7f\">local_prbcd.py</span></a><span style=\"color: #7f7f7f; text-decoration-color: #7f7f7f\">:</span><a href=\"file:///content/robustness_of_gnns_at_scale/rgnn_at_scale/attacks/local_prbcd.py#114\" target=\"_blank\"><span style=\"color: #7f7f7f; text-decoration-color: #7f7f7f\">114</span></a>\n",
              "<span style=\"color: #7fbfbf; text-decoration-color: #7fbfbf\">                    </span>         learning rate <span style=\"color: #008080; text-decoration-color: #008080; font-weight: bold\">0.45</span>                                                  <span style=\"color: #7f7f7f; text-decoration-color: #7f7f7f\">                  </span>\n",
              "</pre>\n"
            ]
          },
          "metadata": {}
        },
        {
          "output_type": "stream",
          "name": "stderr",
          "text": [
            " 40%|████      | 20/50 [01:29<02:25,  4.86s/it]"
          ]
        },
        {
          "output_type": "display_data",
          "data": {
            "text/plain": [
              "\u001b[2;36m[01/08/25 18:36:14]\u001b[0m\u001b[2;36m \u001b[0m\u001b[34mINFO    \u001b[0m                                                                     \u001b]8;id=805864;file:///content/robustness_of_gnns_at_scale/rgnn_at_scale/attacks/local_prbcd.py\u001b\\\u001b[2mlocal_prbcd.py\u001b[0m\u001b]8;;\u001b\\\u001b[2m:\u001b[0m\u001b]8;id=689848;file:///content/robustness_of_gnns_at_scale/rgnn_at_scale/attacks/local_prbcd.py#113\u001b\\\u001b[2m113\u001b[0m\u001b]8;;\u001b\\\n",
              "\u001b[2;36m                    \u001b[0m         Epoch: \u001b[1;36m20\u001b[0m Loss: \u001b[1;36m1.1746439933776855\u001b[0m Statstics: \u001b[1m{\u001b[0m\u001b[32m'logit_target'\u001b[0m:      \u001b[2m                  \u001b[0m\n",
              "\u001b[2;36m                    \u001b[0m         \u001b[1;36m-2.3182244300842285\u001b[0m, \u001b[32m'logit_best_non_target'\u001b[0m: \u001b[1;36m-1.1287516355514526\u001b[0m,  \u001b[2m                  \u001b[0m\n",
              "\u001b[2;36m                    \u001b[0m         \u001b[32m'confidence_target'\u001b[0m: \u001b[1;36m0.09844823222923886\u001b[0m, \u001b[32m'confidence_non_target'\u001b[0m:  \u001b[2m                  \u001b[0m\n",
              "\u001b[2;36m                    \u001b[0m         \u001b[1;36m0.3234367714697852\u001b[0m, \u001b[32m'margin'\u001b[0m: \u001b[1;36m-0.22498853924054635\u001b[0m\u001b[1m}\u001b[0m                 \u001b[2m                  \u001b[0m\n",
              "\u001b[2;36m                    \u001b[0m                                                                             \u001b[2m                  \u001b[0m\n"
            ],
            "text/html": [
              "<pre style=\"white-space:pre;overflow-x:auto;line-height:normal;font-family:Menlo,'DejaVu Sans Mono',consolas,'Courier New',monospace\"><span style=\"color: #7fbfbf; text-decoration-color: #7fbfbf\">[01/08/25 18:36:14] </span><span style=\"color: #000080; text-decoration-color: #000080\">INFO    </span>                                                                     <a href=\"file:///content/robustness_of_gnns_at_scale/rgnn_at_scale/attacks/local_prbcd.py\" target=\"_blank\"><span style=\"color: #7f7f7f; text-decoration-color: #7f7f7f\">local_prbcd.py</span></a><span style=\"color: #7f7f7f; text-decoration-color: #7f7f7f\">:</span><a href=\"file:///content/robustness_of_gnns_at_scale/rgnn_at_scale/attacks/local_prbcd.py#113\" target=\"_blank\"><span style=\"color: #7f7f7f; text-decoration-color: #7f7f7f\">113</span></a>\n",
              "<span style=\"color: #7fbfbf; text-decoration-color: #7fbfbf\">                    </span>         Epoch: <span style=\"color: #008080; text-decoration-color: #008080; font-weight: bold\">20</span> Loss: <span style=\"color: #008080; text-decoration-color: #008080; font-weight: bold\">1.1746439933776855</span> Statstics: <span style=\"font-weight: bold\">{</span><span style=\"color: #008000; text-decoration-color: #008000\">'logit_target'</span>:      <span style=\"color: #7f7f7f; text-decoration-color: #7f7f7f\">                  </span>\n",
              "<span style=\"color: #7fbfbf; text-decoration-color: #7fbfbf\">                    </span>         <span style=\"color: #008080; text-decoration-color: #008080; font-weight: bold\">-2.3182244300842285</span>, <span style=\"color: #008000; text-decoration-color: #008000\">'logit_best_non_target'</span>: <span style=\"color: #008080; text-decoration-color: #008080; font-weight: bold\">-1.1287516355514526</span>,  <span style=\"color: #7f7f7f; text-decoration-color: #7f7f7f\">                  </span>\n",
              "<span style=\"color: #7fbfbf; text-decoration-color: #7fbfbf\">                    </span>         <span style=\"color: #008000; text-decoration-color: #008000\">'confidence_target'</span>: <span style=\"color: #008080; text-decoration-color: #008080; font-weight: bold\">0.09844823222923886</span>, <span style=\"color: #008000; text-decoration-color: #008000\">'confidence_non_target'</span>:  <span style=\"color: #7f7f7f; text-decoration-color: #7f7f7f\">                  </span>\n",
              "<span style=\"color: #7fbfbf; text-decoration-color: #7fbfbf\">                    </span>         <span style=\"color: #008080; text-decoration-color: #008080; font-weight: bold\">0.3234367714697852</span>, <span style=\"color: #008000; text-decoration-color: #008000\">'margin'</span>: <span style=\"color: #008080; text-decoration-color: #008080; font-weight: bold\">-0.22498853924054635</span><span style=\"font-weight: bold\">}</span>                 <span style=\"color: #7f7f7f; text-decoration-color: #7f7f7f\">                  </span>\n",
              "<span style=\"color: #7fbfbf; text-decoration-color: #7fbfbf\">                    </span>                                                                             <span style=\"color: #7f7f7f; text-decoration-color: #7f7f7f\">                  </span>\n",
              "</pre>\n"
            ]
          },
          "metadata": {}
        },
        {
          "output_type": "display_data",
          "data": {
            "text/plain": [
              "\u001b[2;36m                   \u001b[0m\u001b[2;36m \u001b[0m\u001b[34mINFO    \u001b[0m Gradient mean \u001b[1;36m0.004858576692640781\u001b[0m std \u001b[1;36m0.017643775790929794\u001b[0m with    \u001b]8;id=138700;file:///content/robustness_of_gnns_at_scale/rgnn_at_scale/attacks/local_prbcd.py\u001b\\\u001b[2mlocal_prbcd.py\u001b[0m\u001b]8;;\u001b\\\u001b[2m:\u001b[0m\u001b]8;id=958580;file:///content/robustness_of_gnns_at_scale/rgnn_at_scale/attacks/local_prbcd.py#114\u001b\\\u001b[2m114\u001b[0m\u001b]8;;\u001b\\\n",
              "\u001b[2;36m                    \u001b[0m         base learning rate \u001b[1;36m0.45\u001b[0m                                             \u001b[2m                  \u001b[0m\n"
            ],
            "text/html": [
              "<pre style=\"white-space:pre;overflow-x:auto;line-height:normal;font-family:Menlo,'DejaVu Sans Mono',consolas,'Courier New',monospace\"><span style=\"color: #7fbfbf; text-decoration-color: #7fbfbf\">                    </span><span style=\"color: #000080; text-decoration-color: #000080\">INFO    </span> Gradient mean <span style=\"color: #008080; text-decoration-color: #008080; font-weight: bold\">0.004858576692640781</span> std <span style=\"color: #008080; text-decoration-color: #008080; font-weight: bold\">0.017643775790929794</span> with    <a href=\"file:///content/robustness_of_gnns_at_scale/rgnn_at_scale/attacks/local_prbcd.py\" target=\"_blank\"><span style=\"color: #7f7f7f; text-decoration-color: #7f7f7f\">local_prbcd.py</span></a><span style=\"color: #7f7f7f; text-decoration-color: #7f7f7f\">:</span><a href=\"file:///content/robustness_of_gnns_at_scale/rgnn_at_scale/attacks/local_prbcd.py#114\" target=\"_blank\"><span style=\"color: #7f7f7f; text-decoration-color: #7f7f7f\">114</span></a>\n",
              "<span style=\"color: #7fbfbf; text-decoration-color: #7fbfbf\">                    </span>         base learning rate <span style=\"color: #008080; text-decoration-color: #008080; font-weight: bold\">0.45</span>                                             <span style=\"color: #7f7f7f; text-decoration-color: #7f7f7f\">                  </span>\n",
              "</pre>\n"
            ]
          },
          "metadata": {}
        },
        {
          "output_type": "stream",
          "name": "stderr",
          "text": [
            " 80%|████████  | 40/50 [02:53<00:40,  4.03s/it]"
          ]
        },
        {
          "output_type": "display_data",
          "data": {
            "text/plain": [
              "\u001b[2;36m[01/08/25 18:37:38]\u001b[0m\u001b[2;36m \u001b[0m\u001b[34mINFO    \u001b[0m                                                                     \u001b]8;id=486665;file:///content/robustness_of_gnns_at_scale/rgnn_at_scale/attacks/local_prbcd.py\u001b\\\u001b[2mlocal_prbcd.py\u001b[0m\u001b]8;;\u001b\\\u001b[2m:\u001b[0m\u001b]8;id=817306;file:///content/robustness_of_gnns_at_scale/rgnn_at_scale/attacks/local_prbcd.py#113\u001b\\\u001b[2m113\u001b[0m\u001b]8;;\u001b\\\n",
              "\u001b[2;36m                    \u001b[0m         Epoch: \u001b[1;36m40\u001b[0m Loss: \u001b[1;36m1.395796775817871\u001b[0m Statstics: \u001b[1m{\u001b[0m\u001b[32m'logit_target'\u001b[0m:       \u001b[2m                  \u001b[0m\n",
              "\u001b[2;36m                    \u001b[0m         \u001b[1;36m-2.44034743309021\u001b[0m, \u001b[32m'logit_best_non_target'\u001b[0m: \u001b[1;36m-1.0374375581741333\u001b[0m,    \u001b[2m                  \u001b[0m\n",
              "\u001b[2;36m                    \u001b[0m         \u001b[32m'confidence_target'\u001b[0m: \u001b[1;36m0.08713057415798574\u001b[0m, \u001b[32m'confidence_non_target'\u001b[0m:  \u001b[2m                  \u001b[0m\n",
              "\u001b[2;36m                    \u001b[0m         \u001b[1;36m0.3543615504220038\u001b[0m, \u001b[32m'margin'\u001b[0m: \u001b[1;36m-0.26723097626401804\u001b[0m\u001b[1m}\u001b[0m                 \u001b[2m                  \u001b[0m\n",
              "\u001b[2;36m                    \u001b[0m                                                                             \u001b[2m                  \u001b[0m\n"
            ],
            "text/html": [
              "<pre style=\"white-space:pre;overflow-x:auto;line-height:normal;font-family:Menlo,'DejaVu Sans Mono',consolas,'Courier New',monospace\"><span style=\"color: #7fbfbf; text-decoration-color: #7fbfbf\">[01/08/25 18:37:38] </span><span style=\"color: #000080; text-decoration-color: #000080\">INFO    </span>                                                                     <a href=\"file:///content/robustness_of_gnns_at_scale/rgnn_at_scale/attacks/local_prbcd.py\" target=\"_blank\"><span style=\"color: #7f7f7f; text-decoration-color: #7f7f7f\">local_prbcd.py</span></a><span style=\"color: #7f7f7f; text-decoration-color: #7f7f7f\">:</span><a href=\"file:///content/robustness_of_gnns_at_scale/rgnn_at_scale/attacks/local_prbcd.py#113\" target=\"_blank\"><span style=\"color: #7f7f7f; text-decoration-color: #7f7f7f\">113</span></a>\n",
              "<span style=\"color: #7fbfbf; text-decoration-color: #7fbfbf\">                    </span>         Epoch: <span style=\"color: #008080; text-decoration-color: #008080; font-weight: bold\">40</span> Loss: <span style=\"color: #008080; text-decoration-color: #008080; font-weight: bold\">1.395796775817871</span> Statstics: <span style=\"font-weight: bold\">{</span><span style=\"color: #008000; text-decoration-color: #008000\">'logit_target'</span>:       <span style=\"color: #7f7f7f; text-decoration-color: #7f7f7f\">                  </span>\n",
              "<span style=\"color: #7fbfbf; text-decoration-color: #7fbfbf\">                    </span>         <span style=\"color: #008080; text-decoration-color: #008080; font-weight: bold\">-2.44034743309021</span>, <span style=\"color: #008000; text-decoration-color: #008000\">'logit_best_non_target'</span>: <span style=\"color: #008080; text-decoration-color: #008080; font-weight: bold\">-1.0374375581741333</span>,    <span style=\"color: #7f7f7f; text-decoration-color: #7f7f7f\">                  </span>\n",
              "<span style=\"color: #7fbfbf; text-decoration-color: #7fbfbf\">                    </span>         <span style=\"color: #008000; text-decoration-color: #008000\">'confidence_target'</span>: <span style=\"color: #008080; text-decoration-color: #008080; font-weight: bold\">0.08713057415798574</span>, <span style=\"color: #008000; text-decoration-color: #008000\">'confidence_non_target'</span>:  <span style=\"color: #7f7f7f; text-decoration-color: #7f7f7f\">                  </span>\n",
              "<span style=\"color: #7fbfbf; text-decoration-color: #7fbfbf\">                    </span>         <span style=\"color: #008080; text-decoration-color: #008080; font-weight: bold\">0.3543615504220038</span>, <span style=\"color: #008000; text-decoration-color: #008000\">'margin'</span>: <span style=\"color: #008080; text-decoration-color: #008080; font-weight: bold\">-0.26723097626401804</span><span style=\"font-weight: bold\">}</span>                 <span style=\"color: #7f7f7f; text-decoration-color: #7f7f7f\">                  </span>\n",
              "<span style=\"color: #7fbfbf; text-decoration-color: #7fbfbf\">                    </span>                                                                             <span style=\"color: #7f7f7f; text-decoration-color: #7f7f7f\">                  </span>\n",
              "</pre>\n"
            ]
          },
          "metadata": {}
        },
        {
          "output_type": "display_data",
          "data": {
            "text/plain": [
              "\u001b[2;36m                   \u001b[0m\u001b[2;36m \u001b[0m\u001b[34mINFO    \u001b[0m Gradient mean \u001b[1;36m0.005557877942919731\u001b[0m std \u001b[1;36m0.017285281792283058\u001b[0m with    \u001b]8;id=303173;file:///content/robustness_of_gnns_at_scale/rgnn_at_scale/attacks/local_prbcd.py\u001b\\\u001b[2mlocal_prbcd.py\u001b[0m\u001b]8;;\u001b\\\u001b[2m:\u001b[0m\u001b]8;id=621180;file:///content/robustness_of_gnns_at_scale/rgnn_at_scale/attacks/local_prbcd.py#114\u001b\\\u001b[2m114\u001b[0m\u001b]8;;\u001b\\\n",
              "\u001b[2;36m                    \u001b[0m         base learning rate \u001b[1;36m0.45\u001b[0m                                             \u001b[2m                  \u001b[0m\n"
            ],
            "text/html": [
              "<pre style=\"white-space:pre;overflow-x:auto;line-height:normal;font-family:Menlo,'DejaVu Sans Mono',consolas,'Courier New',monospace\"><span style=\"color: #7fbfbf; text-decoration-color: #7fbfbf\">                    </span><span style=\"color: #000080; text-decoration-color: #000080\">INFO    </span> Gradient mean <span style=\"color: #008080; text-decoration-color: #008080; font-weight: bold\">0.005557877942919731</span> std <span style=\"color: #008080; text-decoration-color: #008080; font-weight: bold\">0.017285281792283058</span> with    <a href=\"file:///content/robustness_of_gnns_at_scale/rgnn_at_scale/attacks/local_prbcd.py\" target=\"_blank\"><span style=\"color: #7f7f7f; text-decoration-color: #7f7f7f\">local_prbcd.py</span></a><span style=\"color: #7f7f7f; text-decoration-color: #7f7f7f\">:</span><a href=\"file:///content/robustness_of_gnns_at_scale/rgnn_at_scale/attacks/local_prbcd.py#114\" target=\"_blank\"><span style=\"color: #7f7f7f; text-decoration-color: #7f7f7f\">114</span></a>\n",
              "<span style=\"color: #7fbfbf; text-decoration-color: #7fbfbf\">                    </span>         base learning rate <span style=\"color: #008080; text-decoration-color: #008080; font-weight: bold\">0.45</span>                                             <span style=\"color: #7f7f7f; text-decoration-color: #7f7f7f\">                  </span>\n",
              "</pre>\n"
            ]
          },
          "metadata": {}
        },
        {
          "output_type": "stream",
          "name": "stderr",
          "text": [
            "100%|██████████| 50/50 [03:35<00:00,  4.32s/it]\n"
          ]
        },
        {
          "output_type": "display_data",
          "data": {
            "text/plain": [
              "\u001b[2;36m[01/08/25 18:38:34]\u001b[0m\u001b[2;36m \u001b[0m\u001b[34mINFO    \u001b[0m Evaluated model Vanilla GCN using LocalPRBCD     \u001b]8;id=333357;file:///content/robustness_of_gnns_at_scale/experiments/experiment_local_attack_direct.py\u001b\\\u001b[2mexperiment_local_attack_direct.py\u001b[0m\u001b]8;;\u001b\\\u001b[2m:\u001b[0m\u001b]8;id=447370;file:///content/robustness_of_gnns_at_scale/experiments/experiment_local_attack_direct.py#194\u001b\\\u001b[2m194\u001b[0m\u001b]8;;\u001b\\\n",
              "\u001b[2;36m                    \u001b[0m         with pert. edges for node \u001b[1;36m2105\u001b[0m and budget \u001b[1;36m9\u001b[0m:     \u001b[2m                                     \u001b[0m\n"
            ],
            "text/html": [
              "<pre style=\"white-space:pre;overflow-x:auto;line-height:normal;font-family:Menlo,'DejaVu Sans Mono',consolas,'Courier New',monospace\"><span style=\"color: #7fbfbf; text-decoration-color: #7fbfbf\">[01/08/25 18:38:34] </span><span style=\"color: #000080; text-decoration-color: #000080\">INFO    </span> Evaluated model Vanilla GCN using LocalPRBCD     <a href=\"file:///content/robustness_of_gnns_at_scale/experiments/experiment_local_attack_direct.py\" target=\"_blank\"><span style=\"color: #7f7f7f; text-decoration-color: #7f7f7f\">experiment_local_attack_direct.py</span></a><span style=\"color: #7f7f7f; text-decoration-color: #7f7f7f\">:</span><a href=\"file:///content/robustness_of_gnns_at_scale/experiments/experiment_local_attack_direct.py#194\" target=\"_blank\"><span style=\"color: #7f7f7f; text-decoration-color: #7f7f7f\">194</span></a>\n",
              "<span style=\"color: #7fbfbf; text-decoration-color: #7fbfbf\">                    </span>         with pert. edges for node <span style=\"color: #008080; text-decoration-color: #008080; font-weight: bold\">2105</span> and budget <span style=\"color: #008080; text-decoration-color: #008080; font-weight: bold\">9</span>:     <span style=\"color: #7f7f7f; text-decoration-color: #7f7f7f\">                                     </span>\n",
              "</pre>\n"
            ]
          },
          "metadata": {}
        },
        {
          "output_type": "display_data",
          "data": {
            "text/plain": [
              "\u001b[2;36m                   \u001b[0m\u001b[2;36m \u001b[0m\u001b[34mINFO    \u001b[0m \u001b[1m{\u001b[0m\u001b[32m'label'\u001b[0m: \u001b[32m'Vanilla GCN'\u001b[0m, \u001b[32m'epsilon'\u001b[0m: \u001b[1;36m1\u001b[0m,           \u001b]8;id=666117;file:///content/robustness_of_gnns_at_scale/experiments/experiment_local_attack_direct.py\u001b\\\u001b[2mexperiment_local_attack_direct.py\u001b[0m\u001b]8;;\u001b\\\u001b[2m:\u001b[0m\u001b]8;id=897478;file:///content/robustness_of_gnns_at_scale/experiments/experiment_local_attack_direct.py#215\u001b\\\u001b[2m215\u001b[0m\u001b]8;;\u001b\\\n",
              "\u001b[2;36m                    \u001b[0m         \u001b[32m'n_perturbations'\u001b[0m: \u001b[1;36m9\u001b[0m, \u001b[32m'degree'\u001b[0m: \u001b[1;36m9\u001b[0m, \u001b[32m'logits'\u001b[0m:     \u001b[2m                                     \u001b[0m\n",
              "\u001b[2;36m                    \u001b[0m         \u001b[1m[\u001b[0m\u001b[1m[\u001b[0m\u001b[1;36m0.19875818490982056\u001b[0m, \u001b[1;36m1.1948527097702026\u001b[0m,       \u001b[2m                                     \u001b[0m\n",
              "\u001b[2;36m                    \u001b[0m         \u001b[1;36m-0.9674319624900818\u001b[0m, \u001b[1;36m-0.2992839217185974\u001b[0m,        \u001b[2m                                     \u001b[0m\n",
              "\u001b[2;36m                    \u001b[0m         \u001b[1;36m-0.13147106766700745\u001b[0m, \u001b[1;36m0.1663883924484253\u001b[0m,        \u001b[2m                                     \u001b[0m\n",
              "\u001b[2;36m                    \u001b[0m         \u001b[1;36m-0.36212480068206787\u001b[0m\u001b[1m]\u001b[0m\u001b[1m]\u001b[0m, \u001b[32m'initial_logits'\u001b[0m:        \u001b[2m                                     \u001b[0m\n",
              "\u001b[2;36m                    \u001b[0m         \u001b[1m[\u001b[0m\u001b[1m[\u001b[0m\u001b[1;36m0.3657677173614502\u001b[0m, \u001b[1;36m0.3782327473163605\u001b[0m,        \u001b[2m                                     \u001b[0m\n",
              "\u001b[2;36m                    \u001b[0m         \u001b[1;36m-1.2504746913909912\u001b[0m, \u001b[1;36m0.6112800240516663\u001b[0m,         \u001b[2m                                     \u001b[0m\n",
              "\u001b[2;36m                    \u001b[0m         \u001b[1;36m0.11734238266944885\u001b[0m, \u001b[1;36m0.337588369846344\u001b[0m,          \u001b[2m                                     \u001b[0m\n",
              "\u001b[2;36m                    \u001b[0m         \u001b[1;36m-0.7667430639266968\u001b[0m\u001b[1m]\u001b[0m\u001b[1m]\u001b[0m, \u001b[32m'larget'\u001b[0m: \u001b[1;36m3\u001b[0m, \u001b[32m'node_id'\u001b[0m:   \u001b[2m                                     \u001b[0m\n",
              "\u001b[2;36m                    \u001b[0m         \u001b[1;36m2105\u001b[0m, \u001b[32m'perturbed_edges'\u001b[0m: \u001b[1m[\u001b[0m\u001b[1m[\u001b[0m\u001b[1;36m2105\u001b[0m, \u001b[1;36m2105\u001b[0m, \u001b[1;36m2105\u001b[0m,     \u001b[2m                                     \u001b[0m\n",
              "\u001b[2;36m                    \u001b[0m         \u001b[1;36m2105\u001b[0m, \u001b[1;36m2105\u001b[0m, \u001b[1;36m2105\u001b[0m, \u001b[1;36m2105\u001b[0m, \u001b[1;36m2105\u001b[0m\u001b[1m]\u001b[0m, \u001b[1m[\u001b[0m\u001b[1;36m47\u001b[0m, \u001b[1;36m1098\u001b[0m, \u001b[1;36m1189\u001b[0m,  \u001b[2m                                     \u001b[0m\n",
              "\u001b[2;36m                    \u001b[0m         \u001b[1;36m1386\u001b[0m, \u001b[1;36m1554\u001b[0m, \u001b[1;36m1886\u001b[0m, \u001b[1;36m2200\u001b[0m, \u001b[1;36m2312\u001b[0m\u001b[1m]\u001b[0m\u001b[1m]\u001b[0m, \u001b[32m'logit_target'\u001b[0m:  \u001b[2m                                     \u001b[0m\n",
              "\u001b[2;36m                    \u001b[0m         \u001b[1;36m-2.4273247718811035\u001b[0m, \u001b[32m'logit_best_non_target'\u001b[0m:    \u001b[2m                                     \u001b[0m\n",
              "\u001b[2;36m                    \u001b[0m         \u001b[1;36m-0.9331880807876587\u001b[0m, \u001b[32m'confidence_target'\u001b[0m:        \u001b[2m                                     \u001b[0m\n",
              "\u001b[2;36m                    \u001b[0m         \u001b[1;36m0.0882726665065159\u001b[0m, \u001b[32m'confidence_non_target'\u001b[0m:     \u001b[2m                                     \u001b[0m\n",
              "\u001b[2;36m                    \u001b[0m         \u001b[1;36m0.39329784423292397\u001b[0m, \u001b[32m'margin'\u001b[0m:                   \u001b[2m                                     \u001b[0m\n",
              "\u001b[2;36m                    \u001b[0m         \u001b[1;36m-0.3050251777264081\u001b[0m, \u001b[32m'initial_logit_target'\u001b[0m:     \u001b[2m                                     \u001b[0m\n",
              "\u001b[2;36m                    \u001b[0m         \u001b[1;36m-1.4707920551300049\u001b[0m,                             \u001b[2m                                     \u001b[0m\n",
              "\u001b[2;36m                    \u001b[0m         \u001b[32m'initial_logit_best_non_target'\u001b[0m:                 \u001b[2m                                     \u001b[0m\n",
              "\u001b[2;36m                    \u001b[0m         \u001b[1;36m-1.7038393020629883\u001b[0m,                             \u001b[2m                                     \u001b[0m\n",
              "\u001b[2;36m                    \u001b[0m         \u001b[32m'initial_confidence_target'\u001b[0m: \u001b[1;36m0.2297434436296544\u001b[0m, \u001b[2m                                     \u001b[0m\n",
              "\u001b[2;36m                    \u001b[0m         \u001b[32m'initial_confidence_non_target'\u001b[0m:                 \u001b[2m                                     \u001b[0m\n",
              "\u001b[2;36m                    \u001b[0m         \u001b[1;36m0.18198349150006396\u001b[0m, \u001b[32m'initial_margin'\u001b[0m:           \u001b[2m                                     \u001b[0m\n",
              "\u001b[2;36m                    \u001b[0m         \u001b[1;36m0.047759952129590444\u001b[0m\u001b[1m}\u001b[0m                            \u001b[2m                                     \u001b[0m\n"
            ],
            "text/html": [
              "<pre style=\"white-space:pre;overflow-x:auto;line-height:normal;font-family:Menlo,'DejaVu Sans Mono',consolas,'Courier New',monospace\"><span style=\"color: #7fbfbf; text-decoration-color: #7fbfbf\">                    </span><span style=\"color: #000080; text-decoration-color: #000080\">INFO    </span> <span style=\"font-weight: bold\">{</span><span style=\"color: #008000; text-decoration-color: #008000\">'label'</span>: <span style=\"color: #008000; text-decoration-color: #008000\">'Vanilla GCN'</span>, <span style=\"color: #008000; text-decoration-color: #008000\">'epsilon'</span>: <span style=\"color: #008080; text-decoration-color: #008080; font-weight: bold\">1</span>,           <a href=\"file:///content/robustness_of_gnns_at_scale/experiments/experiment_local_attack_direct.py\" target=\"_blank\"><span style=\"color: #7f7f7f; text-decoration-color: #7f7f7f\">experiment_local_attack_direct.py</span></a><span style=\"color: #7f7f7f; text-decoration-color: #7f7f7f\">:</span><a href=\"file:///content/robustness_of_gnns_at_scale/experiments/experiment_local_attack_direct.py#215\" target=\"_blank\"><span style=\"color: #7f7f7f; text-decoration-color: #7f7f7f\">215</span></a>\n",
              "<span style=\"color: #7fbfbf; text-decoration-color: #7fbfbf\">                    </span>         <span style=\"color: #008000; text-decoration-color: #008000\">'n_perturbations'</span>: <span style=\"color: #008080; text-decoration-color: #008080; font-weight: bold\">9</span>, <span style=\"color: #008000; text-decoration-color: #008000\">'degree'</span>: <span style=\"color: #008080; text-decoration-color: #008080; font-weight: bold\">9</span>, <span style=\"color: #008000; text-decoration-color: #008000\">'logits'</span>:     <span style=\"color: #7f7f7f; text-decoration-color: #7f7f7f\">                                     </span>\n",
              "<span style=\"color: #7fbfbf; text-decoration-color: #7fbfbf\">                    </span>         <span style=\"font-weight: bold\">[[</span><span style=\"color: #008080; text-decoration-color: #008080; font-weight: bold\">0.19875818490982056</span>, <span style=\"color: #008080; text-decoration-color: #008080; font-weight: bold\">1.1948527097702026</span>,       <span style=\"color: #7f7f7f; text-decoration-color: #7f7f7f\">                                     </span>\n",
              "<span style=\"color: #7fbfbf; text-decoration-color: #7fbfbf\">                    </span>         <span style=\"color: #008080; text-decoration-color: #008080; font-weight: bold\">-0.9674319624900818</span>, <span style=\"color: #008080; text-decoration-color: #008080; font-weight: bold\">-0.2992839217185974</span>,        <span style=\"color: #7f7f7f; text-decoration-color: #7f7f7f\">                                     </span>\n",
              "<span style=\"color: #7fbfbf; text-decoration-color: #7fbfbf\">                    </span>         <span style=\"color: #008080; text-decoration-color: #008080; font-weight: bold\">-0.13147106766700745</span>, <span style=\"color: #008080; text-decoration-color: #008080; font-weight: bold\">0.1663883924484253</span>,        <span style=\"color: #7f7f7f; text-decoration-color: #7f7f7f\">                                     </span>\n",
              "<span style=\"color: #7fbfbf; text-decoration-color: #7fbfbf\">                    </span>         <span style=\"color: #008080; text-decoration-color: #008080; font-weight: bold\">-0.36212480068206787</span><span style=\"font-weight: bold\">]]</span>, <span style=\"color: #008000; text-decoration-color: #008000\">'initial_logits'</span>:        <span style=\"color: #7f7f7f; text-decoration-color: #7f7f7f\">                                     </span>\n",
              "<span style=\"color: #7fbfbf; text-decoration-color: #7fbfbf\">                    </span>         <span style=\"font-weight: bold\">[[</span><span style=\"color: #008080; text-decoration-color: #008080; font-weight: bold\">0.3657677173614502</span>, <span style=\"color: #008080; text-decoration-color: #008080; font-weight: bold\">0.3782327473163605</span>,        <span style=\"color: #7f7f7f; text-decoration-color: #7f7f7f\">                                     </span>\n",
              "<span style=\"color: #7fbfbf; text-decoration-color: #7fbfbf\">                    </span>         <span style=\"color: #008080; text-decoration-color: #008080; font-weight: bold\">-1.2504746913909912</span>, <span style=\"color: #008080; text-decoration-color: #008080; font-weight: bold\">0.6112800240516663</span>,         <span style=\"color: #7f7f7f; text-decoration-color: #7f7f7f\">                                     </span>\n",
              "<span style=\"color: #7fbfbf; text-decoration-color: #7fbfbf\">                    </span>         <span style=\"color: #008080; text-decoration-color: #008080; font-weight: bold\">0.11734238266944885</span>, <span style=\"color: #008080; text-decoration-color: #008080; font-weight: bold\">0.337588369846344</span>,          <span style=\"color: #7f7f7f; text-decoration-color: #7f7f7f\">                                     </span>\n",
              "<span style=\"color: #7fbfbf; text-decoration-color: #7fbfbf\">                    </span>         <span style=\"color: #008080; text-decoration-color: #008080; font-weight: bold\">-0.7667430639266968</span><span style=\"font-weight: bold\">]]</span>, <span style=\"color: #008000; text-decoration-color: #008000\">'larget'</span>: <span style=\"color: #008080; text-decoration-color: #008080; font-weight: bold\">3</span>, <span style=\"color: #008000; text-decoration-color: #008000\">'node_id'</span>:   <span style=\"color: #7f7f7f; text-decoration-color: #7f7f7f\">                                     </span>\n",
              "<span style=\"color: #7fbfbf; text-decoration-color: #7fbfbf\">                    </span>         <span style=\"color: #008080; text-decoration-color: #008080; font-weight: bold\">2105</span>, <span style=\"color: #008000; text-decoration-color: #008000\">'perturbed_edges'</span>: <span style=\"font-weight: bold\">[[</span><span style=\"color: #008080; text-decoration-color: #008080; font-weight: bold\">2105</span>, <span style=\"color: #008080; text-decoration-color: #008080; font-weight: bold\">2105</span>, <span style=\"color: #008080; text-decoration-color: #008080; font-weight: bold\">2105</span>,     <span style=\"color: #7f7f7f; text-decoration-color: #7f7f7f\">                                     </span>\n",
              "<span style=\"color: #7fbfbf; text-decoration-color: #7fbfbf\">                    </span>         <span style=\"color: #008080; text-decoration-color: #008080; font-weight: bold\">2105</span>, <span style=\"color: #008080; text-decoration-color: #008080; font-weight: bold\">2105</span>, <span style=\"color: #008080; text-decoration-color: #008080; font-weight: bold\">2105</span>, <span style=\"color: #008080; text-decoration-color: #008080; font-weight: bold\">2105</span>, <span style=\"color: #008080; text-decoration-color: #008080; font-weight: bold\">2105</span><span style=\"font-weight: bold\">]</span>, <span style=\"font-weight: bold\">[</span><span style=\"color: #008080; text-decoration-color: #008080; font-weight: bold\">47</span>, <span style=\"color: #008080; text-decoration-color: #008080; font-weight: bold\">1098</span>, <span style=\"color: #008080; text-decoration-color: #008080; font-weight: bold\">1189</span>,  <span style=\"color: #7f7f7f; text-decoration-color: #7f7f7f\">                                     </span>\n",
              "<span style=\"color: #7fbfbf; text-decoration-color: #7fbfbf\">                    </span>         <span style=\"color: #008080; text-decoration-color: #008080; font-weight: bold\">1386</span>, <span style=\"color: #008080; text-decoration-color: #008080; font-weight: bold\">1554</span>, <span style=\"color: #008080; text-decoration-color: #008080; font-weight: bold\">1886</span>, <span style=\"color: #008080; text-decoration-color: #008080; font-weight: bold\">2200</span>, <span style=\"color: #008080; text-decoration-color: #008080; font-weight: bold\">2312</span><span style=\"font-weight: bold\">]]</span>, <span style=\"color: #008000; text-decoration-color: #008000\">'logit_target'</span>:  <span style=\"color: #7f7f7f; text-decoration-color: #7f7f7f\">                                     </span>\n",
              "<span style=\"color: #7fbfbf; text-decoration-color: #7fbfbf\">                    </span>         <span style=\"color: #008080; text-decoration-color: #008080; font-weight: bold\">-2.4273247718811035</span>, <span style=\"color: #008000; text-decoration-color: #008000\">'logit_best_non_target'</span>:    <span style=\"color: #7f7f7f; text-decoration-color: #7f7f7f\">                                     </span>\n",
              "<span style=\"color: #7fbfbf; text-decoration-color: #7fbfbf\">                    </span>         <span style=\"color: #008080; text-decoration-color: #008080; font-weight: bold\">-0.9331880807876587</span>, <span style=\"color: #008000; text-decoration-color: #008000\">'confidence_target'</span>:        <span style=\"color: #7f7f7f; text-decoration-color: #7f7f7f\">                                     </span>\n",
              "<span style=\"color: #7fbfbf; text-decoration-color: #7fbfbf\">                    </span>         <span style=\"color: #008080; text-decoration-color: #008080; font-weight: bold\">0.0882726665065159</span>, <span style=\"color: #008000; text-decoration-color: #008000\">'confidence_non_target'</span>:     <span style=\"color: #7f7f7f; text-decoration-color: #7f7f7f\">                                     </span>\n",
              "<span style=\"color: #7fbfbf; text-decoration-color: #7fbfbf\">                    </span>         <span style=\"color: #008080; text-decoration-color: #008080; font-weight: bold\">0.39329784423292397</span>, <span style=\"color: #008000; text-decoration-color: #008000\">'margin'</span>:                   <span style=\"color: #7f7f7f; text-decoration-color: #7f7f7f\">                                     </span>\n",
              "<span style=\"color: #7fbfbf; text-decoration-color: #7fbfbf\">                    </span>         <span style=\"color: #008080; text-decoration-color: #008080; font-weight: bold\">-0.3050251777264081</span>, <span style=\"color: #008000; text-decoration-color: #008000\">'initial_logit_target'</span>:     <span style=\"color: #7f7f7f; text-decoration-color: #7f7f7f\">                                     </span>\n",
              "<span style=\"color: #7fbfbf; text-decoration-color: #7fbfbf\">                    </span>         <span style=\"color: #008080; text-decoration-color: #008080; font-weight: bold\">-1.4707920551300049</span>,                             <span style=\"color: #7f7f7f; text-decoration-color: #7f7f7f\">                                     </span>\n",
              "<span style=\"color: #7fbfbf; text-decoration-color: #7fbfbf\">                    </span>         <span style=\"color: #008000; text-decoration-color: #008000\">'initial_logit_best_non_target'</span>:                 <span style=\"color: #7f7f7f; text-decoration-color: #7f7f7f\">                                     </span>\n",
              "<span style=\"color: #7fbfbf; text-decoration-color: #7fbfbf\">                    </span>         <span style=\"color: #008080; text-decoration-color: #008080; font-weight: bold\">-1.7038393020629883</span>,                             <span style=\"color: #7f7f7f; text-decoration-color: #7f7f7f\">                                     </span>\n",
              "<span style=\"color: #7fbfbf; text-decoration-color: #7fbfbf\">                    </span>         <span style=\"color: #008000; text-decoration-color: #008000\">'initial_confidence_target'</span>: <span style=\"color: #008080; text-decoration-color: #008080; font-weight: bold\">0.2297434436296544</span>, <span style=\"color: #7f7f7f; text-decoration-color: #7f7f7f\">                                     </span>\n",
              "<span style=\"color: #7fbfbf; text-decoration-color: #7fbfbf\">                    </span>         <span style=\"color: #008000; text-decoration-color: #008000\">'initial_confidence_non_target'</span>:                 <span style=\"color: #7f7f7f; text-decoration-color: #7f7f7f\">                                     </span>\n",
              "<span style=\"color: #7fbfbf; text-decoration-color: #7fbfbf\">                    </span>         <span style=\"color: #008080; text-decoration-color: #008080; font-weight: bold\">0.18198349150006396</span>, <span style=\"color: #008000; text-decoration-color: #008000\">'initial_margin'</span>:           <span style=\"color: #7f7f7f; text-decoration-color: #7f7f7f\">                                     </span>\n",
              "<span style=\"color: #7fbfbf; text-decoration-color: #7fbfbf\">                    </span>         <span style=\"color: #008080; text-decoration-color: #008080; font-weight: bold\">0.047759952129590444</span><span style=\"font-weight: bold\">}</span>                            <span style=\"color: #7f7f7f; text-decoration-color: #7f7f7f\">                                     </span>\n",
              "</pre>\n"
            ]
          },
          "metadata": {}
        },
        {
          "output_type": "display_data",
          "data": {
            "text/plain": [
              "\u001b[2;36m                   \u001b[0m\u001b[2;36m \u001b[0m\u001b[34mINFO    \u001b[0m Completed attack and evaluation of Vanilla GCN   \u001b]8;id=248381;file:///content/robustness_of_gnns_at_scale/experiments/experiment_local_attack_direct.py\u001b\\\u001b[2mexperiment_local_attack_direct.py\u001b[0m\u001b]8;;\u001b\\\u001b[2m:\u001b[0m\u001b]8;id=979796;file:///content/robustness_of_gnns_at_scale/experiments/experiment_local_attack_direct.py#216\u001b\\\u001b[2m216\u001b[0m\u001b]8;;\u001b\\\n",
              "\u001b[2;36m                    \u001b[0m         using LocalPRBCD with pert. edges for node \u001b[1;36m2105\u001b[0m  \u001b[2m                                     \u001b[0m\n",
              "\u001b[2;36m                    \u001b[0m         and budget \u001b[1;36m9\u001b[0m                                     \u001b[2m                                     \u001b[0m\n"
            ],
            "text/html": [
              "<pre style=\"white-space:pre;overflow-x:auto;line-height:normal;font-family:Menlo,'DejaVu Sans Mono',consolas,'Courier New',monospace\"><span style=\"color: #7fbfbf; text-decoration-color: #7fbfbf\">                    </span><span style=\"color: #000080; text-decoration-color: #000080\">INFO    </span> Completed attack and evaluation of Vanilla GCN   <a href=\"file:///content/robustness_of_gnns_at_scale/experiments/experiment_local_attack_direct.py\" target=\"_blank\"><span style=\"color: #7f7f7f; text-decoration-color: #7f7f7f\">experiment_local_attack_direct.py</span></a><span style=\"color: #7f7f7f; text-decoration-color: #7f7f7f\">:</span><a href=\"file:///content/robustness_of_gnns_at_scale/experiments/experiment_local_attack_direct.py#216\" target=\"_blank\"><span style=\"color: #7f7f7f; text-decoration-color: #7f7f7f\">216</span></a>\n",
              "<span style=\"color: #7fbfbf; text-decoration-color: #7fbfbf\">                    </span>         using LocalPRBCD with pert. edges for node <span style=\"color: #008080; text-decoration-color: #008080; font-weight: bold\">2105</span>  <span style=\"color: #7f7f7f; text-decoration-color: #7f7f7f\">                                     </span>\n",
              "<span style=\"color: #7fbfbf; text-decoration-color: #7fbfbf\">                    </span>         and budget <span style=\"color: #008080; text-decoration-color: #008080; font-weight: bold\">9</span>                                     <span style=\"color: #7f7f7f; text-decoration-color: #7f7f7f\">                                     </span>\n",
              "</pre>\n"
            ]
          },
          "metadata": {}
        },
        {
          "output_type": "display_data",
          "data": {
            "text/plain": [
              "\u001b[2;36m[01/08/25 18:38:35]\u001b[0m\u001b[2;36m \u001b[0m\u001b[34mINFO    \u001b[0m Original: Loss: \u001b[1;36m-0.5181541442871094\u001b[0m Statstics: \u001b[1m{\u001b[0m\u001b[32m'logit_target'\u001b[0m:      \u001b]8;id=276405;file:///content/robustness_of_gnns_at_scale/rgnn_at_scale/attacks/local_prbcd.py\u001b\\\u001b[2mlocal_prbcd.py\u001b[0m\u001b]8;;\u001b\\\u001b[2m:\u001b[0m\u001b]8;id=380218;file:///content/robustness_of_gnns_at_scale/rgnn_at_scale/attacks/local_prbcd.py#74\u001b\\\u001b[2m74\u001b[0m\u001b]8;;\u001b\\\n",
              "\u001b[2;36m                    \u001b[0m         \u001b[1;36m-0.8637166619300842\u001b[0m, \u001b[32m'logit_best_non_target'\u001b[0m: \u001b[1;36m-1.3818707466125488\u001b[0m,   \u001b[2m                 \u001b[0m\n",
              "\u001b[2;36m                    \u001b[0m         \u001b[32m'confidence_target'\u001b[0m: \u001b[1;36m0.42159225098939224\u001b[0m, \u001b[32m'confidence_non_target'\u001b[0m:   \u001b[2m                 \u001b[0m\n",
              "\u001b[2;36m                    \u001b[0m         \u001b[1;36m0.25110835328327913\u001b[0m, \u001b[32m'margin'\u001b[0m: \u001b[1;36m0.1704838977061131\u001b[0m\u001b[1m}\u001b[0m                   \u001b[2m                 \u001b[0m\n",
              "\u001b[2;36m                    \u001b[0m                                                                              \u001b[2m                 \u001b[0m\n"
            ],
            "text/html": [
              "<pre style=\"white-space:pre;overflow-x:auto;line-height:normal;font-family:Menlo,'DejaVu Sans Mono',consolas,'Courier New',monospace\"><span style=\"color: #7fbfbf; text-decoration-color: #7fbfbf\">[01/08/25 18:38:35] </span><span style=\"color: #000080; text-decoration-color: #000080\">INFO    </span> Original: Loss: <span style=\"color: #008080; text-decoration-color: #008080; font-weight: bold\">-0.5181541442871094</span> Statstics: <span style=\"font-weight: bold\">{</span><span style=\"color: #008000; text-decoration-color: #008000\">'logit_target'</span>:      <a href=\"file:///content/robustness_of_gnns_at_scale/rgnn_at_scale/attacks/local_prbcd.py\" target=\"_blank\"><span style=\"color: #7f7f7f; text-decoration-color: #7f7f7f\">local_prbcd.py</span></a><span style=\"color: #7f7f7f; text-decoration-color: #7f7f7f\">:</span><a href=\"file:///content/robustness_of_gnns_at_scale/rgnn_at_scale/attacks/local_prbcd.py#74\" target=\"_blank\"><span style=\"color: #7f7f7f; text-decoration-color: #7f7f7f\">74</span></a>\n",
              "<span style=\"color: #7fbfbf; text-decoration-color: #7fbfbf\">                    </span>         <span style=\"color: #008080; text-decoration-color: #008080; font-weight: bold\">-0.8637166619300842</span>, <span style=\"color: #008000; text-decoration-color: #008000\">'logit_best_non_target'</span>: <span style=\"color: #008080; text-decoration-color: #008080; font-weight: bold\">-1.3818707466125488</span>,   <span style=\"color: #7f7f7f; text-decoration-color: #7f7f7f\">                 </span>\n",
              "<span style=\"color: #7fbfbf; text-decoration-color: #7fbfbf\">                    </span>         <span style=\"color: #008000; text-decoration-color: #008000\">'confidence_target'</span>: <span style=\"color: #008080; text-decoration-color: #008080; font-weight: bold\">0.42159225098939224</span>, <span style=\"color: #008000; text-decoration-color: #008000\">'confidence_non_target'</span>:   <span style=\"color: #7f7f7f; text-decoration-color: #7f7f7f\">                 </span>\n",
              "<span style=\"color: #7fbfbf; text-decoration-color: #7fbfbf\">                    </span>         <span style=\"color: #008080; text-decoration-color: #008080; font-weight: bold\">0.25110835328327913</span>, <span style=\"color: #008000; text-decoration-color: #008000\">'margin'</span>: <span style=\"color: #008080; text-decoration-color: #008080; font-weight: bold\">0.1704838977061131</span><span style=\"font-weight: bold\">}</span>                   <span style=\"color: #7f7f7f; text-decoration-color: #7f7f7f\">                 </span>\n",
              "<span style=\"color: #7fbfbf; text-decoration-color: #7fbfbf\">                    </span>                                                                              <span style=\"color: #7f7f7f; text-decoration-color: #7f7f7f\">                 </span>\n",
              "</pre>\n"
            ]
          },
          "metadata": {}
        },
        {
          "output_type": "stream",
          "name": "stderr",
          "text": [
            "\r  0%|          | 0/50 [00:00<?, ?it/s]"
          ]
        },
        {
          "output_type": "display_data",
          "data": {
            "text/plain": [
              "\u001b[2;36m[01/08/25 18:38:37]\u001b[0m\u001b[2;36m \u001b[0m\u001b[34mINFO    \u001b[0m Initial: Loss: \u001b[1;36m-0.5181541442871094\u001b[0m Statstics: \u001b[1m{\u001b[0m\u001b[32m'logit_target'\u001b[0m:       \u001b]8;id=894830;file:///content/robustness_of_gnns_at_scale/rgnn_at_scale/attacks/local_prbcd.py\u001b\\\u001b[2mlocal_prbcd.py\u001b[0m\u001b]8;;\u001b\\\u001b[2m:\u001b[0m\u001b]8;id=396021;file:///content/robustness_of_gnns_at_scale/rgnn_at_scale/attacks/local_prbcd.py#92\u001b\\\u001b[2m92\u001b[0m\u001b]8;;\u001b\\\n",
              "\u001b[2;36m                    \u001b[0m         \u001b[1;36m-0.8637166619300842\u001b[0m, \u001b[32m'logit_best_non_target'\u001b[0m: \u001b[1;36m-1.3818707466125488\u001b[0m,   \u001b[2m                 \u001b[0m\n",
              "\u001b[2;36m                    \u001b[0m         \u001b[32m'confidence_target'\u001b[0m: \u001b[1;36m0.42159225098939224\u001b[0m, \u001b[32m'confidence_non_target'\u001b[0m:   \u001b[2m                 \u001b[0m\n",
              "\u001b[2;36m                    \u001b[0m         \u001b[1;36m0.25110835328327913\u001b[0m, \u001b[32m'margin'\u001b[0m: \u001b[1;36m0.1704838977061131\u001b[0m\u001b[1m}\u001b[0m                   \u001b[2m                 \u001b[0m\n",
              "\u001b[2;36m                    \u001b[0m                                                                              \u001b[2m                 \u001b[0m\n"
            ],
            "text/html": [
              "<pre style=\"white-space:pre;overflow-x:auto;line-height:normal;font-family:Menlo,'DejaVu Sans Mono',consolas,'Courier New',monospace\"><span style=\"color: #7fbfbf; text-decoration-color: #7fbfbf\">[01/08/25 18:38:37] </span><span style=\"color: #000080; text-decoration-color: #000080\">INFO    </span> Initial: Loss: <span style=\"color: #008080; text-decoration-color: #008080; font-weight: bold\">-0.5181541442871094</span> Statstics: <span style=\"font-weight: bold\">{</span><span style=\"color: #008000; text-decoration-color: #008000\">'logit_target'</span>:       <a href=\"file:///content/robustness_of_gnns_at_scale/rgnn_at_scale/attacks/local_prbcd.py\" target=\"_blank\"><span style=\"color: #7f7f7f; text-decoration-color: #7f7f7f\">local_prbcd.py</span></a><span style=\"color: #7f7f7f; text-decoration-color: #7f7f7f\">:</span><a href=\"file:///content/robustness_of_gnns_at_scale/rgnn_at_scale/attacks/local_prbcd.py#92\" target=\"_blank\"><span style=\"color: #7f7f7f; text-decoration-color: #7f7f7f\">92</span></a>\n",
              "<span style=\"color: #7fbfbf; text-decoration-color: #7fbfbf\">                    </span>         <span style=\"color: #008080; text-decoration-color: #008080; font-weight: bold\">-0.8637166619300842</span>, <span style=\"color: #008000; text-decoration-color: #008000\">'logit_best_non_target'</span>: <span style=\"color: #008080; text-decoration-color: #008080; font-weight: bold\">-1.3818707466125488</span>,   <span style=\"color: #7f7f7f; text-decoration-color: #7f7f7f\">                 </span>\n",
              "<span style=\"color: #7fbfbf; text-decoration-color: #7fbfbf\">                    </span>         <span style=\"color: #008000; text-decoration-color: #008000\">'confidence_target'</span>: <span style=\"color: #008080; text-decoration-color: #008080; font-weight: bold\">0.42159225098939224</span>, <span style=\"color: #008000; text-decoration-color: #008000\">'confidence_non_target'</span>:   <span style=\"color: #7f7f7f; text-decoration-color: #7f7f7f\">                 </span>\n",
              "<span style=\"color: #7fbfbf; text-decoration-color: #7fbfbf\">                    </span>         <span style=\"color: #008080; text-decoration-color: #008080; font-weight: bold\">0.25110835328327913</span>, <span style=\"color: #008000; text-decoration-color: #008000\">'margin'</span>: <span style=\"color: #008080; text-decoration-color: #008080; font-weight: bold\">0.1704838977061131</span><span style=\"font-weight: bold\">}</span>                   <span style=\"color: #7f7f7f; text-decoration-color: #7f7f7f\">                 </span>\n",
              "<span style=\"color: #7fbfbf; text-decoration-color: #7fbfbf\">                    </span>                                                                              <span style=\"color: #7f7f7f; text-decoration-color: #7f7f7f\">                 </span>\n",
              "</pre>\n"
            ]
          },
          "metadata": {}
        },
        {
          "output_type": "display_data",
          "data": {
            "text/plain": [
              "\u001b[2;36m[01/08/25 18:38:39]\u001b[0m\u001b[2;36m \u001b[0m\u001b[34mINFO    \u001b[0m                                                                     \u001b]8;id=35851;file:///content/robustness_of_gnns_at_scale/rgnn_at_scale/attacks/local_prbcd.py\u001b\\\u001b[2mlocal_prbcd.py\u001b[0m\u001b]8;;\u001b\\\u001b[2m:\u001b[0m\u001b]8;id=497467;file:///content/robustness_of_gnns_at_scale/rgnn_at_scale/attacks/local_prbcd.py#113\u001b\\\u001b[2m113\u001b[0m\u001b]8;;\u001b\\\n",
              "\u001b[2;36m                    \u001b[0m         Epoch: \u001b[1;36m0\u001b[0m Loss: \u001b[1;36m-0.5181541442871094\u001b[0m Statstics: \u001b[1m{\u001b[0m\u001b[32m'logit_target'\u001b[0m:      \u001b[2m                  \u001b[0m\n",
              "\u001b[2;36m                    \u001b[0m         \u001b[1;36m-1.1960150003433228\u001b[0m, \u001b[32m'logit_best_non_target'\u001b[0m: \u001b[1;36m-1.166295051574707\u001b[0m,   \u001b[2m                  \u001b[0m\n",
              "\u001b[2;36m                    \u001b[0m         \u001b[32m'confidence_target'\u001b[0m: \u001b[1;36m0.3023968654386771\u001b[0m, \u001b[32m'confidence_non_target'\u001b[0m:   \u001b[2m                  \u001b[0m\n",
              "\u001b[2;36m                    \u001b[0m         \u001b[1;36m0.31151896755699937\u001b[0m, \u001b[32m'margin'\u001b[0m: \u001b[1;36m-0.009122102118322262\u001b[0m\u001b[1m}\u001b[0m               \u001b[2m                  \u001b[0m\n",
              "\u001b[2;36m                    \u001b[0m                                                                             \u001b[2m                  \u001b[0m\n"
            ],
            "text/html": [
              "<pre style=\"white-space:pre;overflow-x:auto;line-height:normal;font-family:Menlo,'DejaVu Sans Mono',consolas,'Courier New',monospace\"><span style=\"color: #7fbfbf; text-decoration-color: #7fbfbf\">[01/08/25 18:38:39] </span><span style=\"color: #000080; text-decoration-color: #000080\">INFO    </span>                                                                     <a href=\"file:///content/robustness_of_gnns_at_scale/rgnn_at_scale/attacks/local_prbcd.py\" target=\"_blank\"><span style=\"color: #7f7f7f; text-decoration-color: #7f7f7f\">local_prbcd.py</span></a><span style=\"color: #7f7f7f; text-decoration-color: #7f7f7f\">:</span><a href=\"file:///content/robustness_of_gnns_at_scale/rgnn_at_scale/attacks/local_prbcd.py#113\" target=\"_blank\"><span style=\"color: #7f7f7f; text-decoration-color: #7f7f7f\">113</span></a>\n",
              "<span style=\"color: #7fbfbf; text-decoration-color: #7fbfbf\">                    </span>         Epoch: <span style=\"color: #008080; text-decoration-color: #008080; font-weight: bold\">0</span> Loss: <span style=\"color: #008080; text-decoration-color: #008080; font-weight: bold\">-0.5181541442871094</span> Statstics: <span style=\"font-weight: bold\">{</span><span style=\"color: #008000; text-decoration-color: #008000\">'logit_target'</span>:      <span style=\"color: #7f7f7f; text-decoration-color: #7f7f7f\">                  </span>\n",
              "<span style=\"color: #7fbfbf; text-decoration-color: #7fbfbf\">                    </span>         <span style=\"color: #008080; text-decoration-color: #008080; font-weight: bold\">-1.1960150003433228</span>, <span style=\"color: #008000; text-decoration-color: #008000\">'logit_best_non_target'</span>: <span style=\"color: #008080; text-decoration-color: #008080; font-weight: bold\">-1.166295051574707</span>,   <span style=\"color: #7f7f7f; text-decoration-color: #7f7f7f\">                  </span>\n",
              "<span style=\"color: #7fbfbf; text-decoration-color: #7fbfbf\">                    </span>         <span style=\"color: #008000; text-decoration-color: #008000\">'confidence_target'</span>: <span style=\"color: #008080; text-decoration-color: #008080; font-weight: bold\">0.3023968654386771</span>, <span style=\"color: #008000; text-decoration-color: #008000\">'confidence_non_target'</span>:   <span style=\"color: #7f7f7f; text-decoration-color: #7f7f7f\">                  </span>\n",
              "<span style=\"color: #7fbfbf; text-decoration-color: #7fbfbf\">                    </span>         <span style=\"color: #008080; text-decoration-color: #008080; font-weight: bold\">0.31151896755699937</span>, <span style=\"color: #008000; text-decoration-color: #008000\">'margin'</span>: <span style=\"color: #008080; text-decoration-color: #008080; font-weight: bold\">-0.009122102118322262</span><span style=\"font-weight: bold\">}</span>               <span style=\"color: #7f7f7f; text-decoration-color: #7f7f7f\">                  </span>\n",
              "<span style=\"color: #7fbfbf; text-decoration-color: #7fbfbf\">                    </span>                                                                             <span style=\"color: #7f7f7f; text-decoration-color: #7f7f7f\">                  </span>\n",
              "</pre>\n"
            ]
          },
          "metadata": {}
        },
        {
          "output_type": "display_data",
          "data": {
            "text/plain": [
              "\u001b[2;36m                   \u001b[0m\u001b[2;36m \u001b[0m\u001b[34mINFO    \u001b[0m Gradient mean \u001b[1;36m0.3032102882862091\u001b[0m std \u001b[1;36m0.1291711926460266\u001b[0m with base   \u001b]8;id=817222;file:///content/robustness_of_gnns_at_scale/rgnn_at_scale/attacks/local_prbcd.py\u001b\\\u001b[2mlocal_prbcd.py\u001b[0m\u001b]8;;\u001b\\\u001b[2m:\u001b[0m\u001b]8;id=534217;file:///content/robustness_of_gnns_at_scale/rgnn_at_scale/attacks/local_prbcd.py#114\u001b\\\u001b[2m114\u001b[0m\u001b]8;;\u001b\\\n",
              "\u001b[2;36m                    \u001b[0m         learning rate \u001b[1;36m0.05\u001b[0m                                                  \u001b[2m                  \u001b[0m\n"
            ],
            "text/html": [
              "<pre style=\"white-space:pre;overflow-x:auto;line-height:normal;font-family:Menlo,'DejaVu Sans Mono',consolas,'Courier New',monospace\"><span style=\"color: #7fbfbf; text-decoration-color: #7fbfbf\">                    </span><span style=\"color: #000080; text-decoration-color: #000080\">INFO    </span> Gradient mean <span style=\"color: #008080; text-decoration-color: #008080; font-weight: bold\">0.3032102882862091</span> std <span style=\"color: #008080; text-decoration-color: #008080; font-weight: bold\">0.1291711926460266</span> with base   <a href=\"file:///content/robustness_of_gnns_at_scale/rgnn_at_scale/attacks/local_prbcd.py\" target=\"_blank\"><span style=\"color: #7f7f7f; text-decoration-color: #7f7f7f\">local_prbcd.py</span></a><span style=\"color: #7f7f7f; text-decoration-color: #7f7f7f\">:</span><a href=\"file:///content/robustness_of_gnns_at_scale/rgnn_at_scale/attacks/local_prbcd.py#114\" target=\"_blank\"><span style=\"color: #7f7f7f; text-decoration-color: #7f7f7f\">114</span></a>\n",
              "<span style=\"color: #7fbfbf; text-decoration-color: #7fbfbf\">                    </span>         learning rate <span style=\"color: #008080; text-decoration-color: #008080; font-weight: bold\">0.05</span>                                                  <span style=\"color: #7f7f7f; text-decoration-color: #7f7f7f\">                  </span>\n",
              "</pre>\n"
            ]
          },
          "metadata": {}
        },
        {
          "output_type": "stream",
          "name": "stderr",
          "text": [
            " 40%|████      | 20/50 [01:24<02:04,  4.14s/it]"
          ]
        },
        {
          "output_type": "display_data",
          "data": {
            "text/plain": [
              "\u001b[2;36m[01/08/25 18:40:05]\u001b[0m\u001b[2;36m \u001b[0m\u001b[34mINFO    \u001b[0m                                                                     \u001b]8;id=119064;file:///content/robustness_of_gnns_at_scale/rgnn_at_scale/attacks/local_prbcd.py\u001b\\\u001b[2mlocal_prbcd.py\u001b[0m\u001b]8;;\u001b\\\u001b[2m:\u001b[0m\u001b]8;id=873236;file:///content/robustness_of_gnns_at_scale/rgnn_at_scale/attacks/local_prbcd.py#113\u001b\\\u001b[2m113\u001b[0m\u001b]8;;\u001b\\\n",
              "\u001b[2;36m                    \u001b[0m         Epoch: \u001b[1;36m20\u001b[0m Loss: \u001b[1;36m1.5649409294128418\u001b[0m Statstics: \u001b[1m{\u001b[0m\u001b[32m'logit_target'\u001b[0m:      \u001b[2m                  \u001b[0m\n",
              "\u001b[2;36m                    \u001b[0m         \u001b[1;36m-2.168823719024658\u001b[0m, \u001b[32m'logit_best_non_target'\u001b[0m: \u001b[1;36m-0.5978175401687622\u001b[0m,   \u001b[2m                  \u001b[0m\n",
              "\u001b[2;36m                    \u001b[0m         \u001b[32m'confidence_target'\u001b[0m: \u001b[1;36m0.11431200089058306\u001b[0m, \u001b[32m'confidence_non_target'\u001b[0m:  \u001b[2m                  \u001b[0m\n",
              "\u001b[2;36m                    \u001b[0m         \u001b[1;36m0.5500107034269192\u001b[0m, \u001b[32m'margin'\u001b[0m: \u001b[1;36m-0.4356987025363361\u001b[0m\u001b[1m}\u001b[0m                  \u001b[2m                  \u001b[0m\n",
              "\u001b[2;36m                    \u001b[0m                                                                             \u001b[2m                  \u001b[0m\n"
            ],
            "text/html": [
              "<pre style=\"white-space:pre;overflow-x:auto;line-height:normal;font-family:Menlo,'DejaVu Sans Mono',consolas,'Courier New',monospace\"><span style=\"color: #7fbfbf; text-decoration-color: #7fbfbf\">[01/08/25 18:40:05] </span><span style=\"color: #000080; text-decoration-color: #000080\">INFO    </span>                                                                     <a href=\"file:///content/robustness_of_gnns_at_scale/rgnn_at_scale/attacks/local_prbcd.py\" target=\"_blank\"><span style=\"color: #7f7f7f; text-decoration-color: #7f7f7f\">local_prbcd.py</span></a><span style=\"color: #7f7f7f; text-decoration-color: #7f7f7f\">:</span><a href=\"file:///content/robustness_of_gnns_at_scale/rgnn_at_scale/attacks/local_prbcd.py#113\" target=\"_blank\"><span style=\"color: #7f7f7f; text-decoration-color: #7f7f7f\">113</span></a>\n",
              "<span style=\"color: #7fbfbf; text-decoration-color: #7fbfbf\">                    </span>         Epoch: <span style=\"color: #008080; text-decoration-color: #008080; font-weight: bold\">20</span> Loss: <span style=\"color: #008080; text-decoration-color: #008080; font-weight: bold\">1.5649409294128418</span> Statstics: <span style=\"font-weight: bold\">{</span><span style=\"color: #008000; text-decoration-color: #008000\">'logit_target'</span>:      <span style=\"color: #7f7f7f; text-decoration-color: #7f7f7f\">                  </span>\n",
              "<span style=\"color: #7fbfbf; text-decoration-color: #7fbfbf\">                    </span>         <span style=\"color: #008080; text-decoration-color: #008080; font-weight: bold\">-2.168823719024658</span>, <span style=\"color: #008000; text-decoration-color: #008000\">'logit_best_non_target'</span>: <span style=\"color: #008080; text-decoration-color: #008080; font-weight: bold\">-0.5978175401687622</span>,   <span style=\"color: #7f7f7f; text-decoration-color: #7f7f7f\">                  </span>\n",
              "<span style=\"color: #7fbfbf; text-decoration-color: #7fbfbf\">                    </span>         <span style=\"color: #008000; text-decoration-color: #008000\">'confidence_target'</span>: <span style=\"color: #008080; text-decoration-color: #008080; font-weight: bold\">0.11431200089058306</span>, <span style=\"color: #008000; text-decoration-color: #008000\">'confidence_non_target'</span>:  <span style=\"color: #7f7f7f; text-decoration-color: #7f7f7f\">                  </span>\n",
              "<span style=\"color: #7fbfbf; text-decoration-color: #7fbfbf\">                    </span>         <span style=\"color: #008080; text-decoration-color: #008080; font-weight: bold\">0.5500107034269192</span>, <span style=\"color: #008000; text-decoration-color: #008000\">'margin'</span>: <span style=\"color: #008080; text-decoration-color: #008080; font-weight: bold\">-0.4356987025363361</span><span style=\"font-weight: bold\">}</span>                  <span style=\"color: #7f7f7f; text-decoration-color: #7f7f7f\">                  </span>\n",
              "<span style=\"color: #7fbfbf; text-decoration-color: #7fbfbf\">                    </span>                                                                             <span style=\"color: #7f7f7f; text-decoration-color: #7f7f7f\">                  </span>\n",
              "</pre>\n"
            ]
          },
          "metadata": {}
        },
        {
          "output_type": "display_data",
          "data": {
            "text/plain": [
              "\u001b[2;36m                   \u001b[0m\u001b[2;36m \u001b[0m\u001b[34mINFO    \u001b[0m Gradient mean \u001b[1;36m0.07292381674051285\u001b[0m std \u001b[1;36m0.11347082257270813\u001b[0m with base \u001b]8;id=363352;file:///content/robustness_of_gnns_at_scale/rgnn_at_scale/attacks/local_prbcd.py\u001b\\\u001b[2mlocal_prbcd.py\u001b[0m\u001b]8;;\u001b\\\u001b[2m:\u001b[0m\u001b]8;id=122187;file:///content/robustness_of_gnns_at_scale/rgnn_at_scale/attacks/local_prbcd.py#114\u001b\\\u001b[2m114\u001b[0m\u001b]8;;\u001b\\\n",
              "\u001b[2;36m                    \u001b[0m         learning rate \u001b[1;36m0.05\u001b[0m                                                  \u001b[2m                  \u001b[0m\n"
            ],
            "text/html": [
              "<pre style=\"white-space:pre;overflow-x:auto;line-height:normal;font-family:Menlo,'DejaVu Sans Mono',consolas,'Courier New',monospace\"><span style=\"color: #7fbfbf; text-decoration-color: #7fbfbf\">                    </span><span style=\"color: #000080; text-decoration-color: #000080\">INFO    </span> Gradient mean <span style=\"color: #008080; text-decoration-color: #008080; font-weight: bold\">0.07292381674051285</span> std <span style=\"color: #008080; text-decoration-color: #008080; font-weight: bold\">0.11347082257270813</span> with base <a href=\"file:///content/robustness_of_gnns_at_scale/rgnn_at_scale/attacks/local_prbcd.py\" target=\"_blank\"><span style=\"color: #7f7f7f; text-decoration-color: #7f7f7f\">local_prbcd.py</span></a><span style=\"color: #7f7f7f; text-decoration-color: #7f7f7f\">:</span><a href=\"file:///content/robustness_of_gnns_at_scale/rgnn_at_scale/attacks/local_prbcd.py#114\" target=\"_blank\"><span style=\"color: #7f7f7f; text-decoration-color: #7f7f7f\">114</span></a>\n",
              "<span style=\"color: #7fbfbf; text-decoration-color: #7fbfbf\">                    </span>         learning rate <span style=\"color: #008080; text-decoration-color: #008080; font-weight: bold\">0.05</span>                                                  <span style=\"color: #7f7f7f; text-decoration-color: #7f7f7f\">                  </span>\n",
              "</pre>\n"
            ]
          },
          "metadata": {}
        },
        {
          "output_type": "stream",
          "name": "stderr",
          "text": [
            " 80%|████████  | 40/50 [02:49<00:43,  4.38s/it]"
          ]
        },
        {
          "output_type": "display_data",
          "data": {
            "text/plain": [
              "\u001b[2;36m[01/08/25 18:41:29]\u001b[0m\u001b[2;36m \u001b[0m\u001b[34mINFO    \u001b[0m                                                                     \u001b]8;id=279046;file:///content/robustness_of_gnns_at_scale/rgnn_at_scale/attacks/local_prbcd.py\u001b\\\u001b[2mlocal_prbcd.py\u001b[0m\u001b]8;;\u001b\\\u001b[2m:\u001b[0m\u001b]8;id=949999;file:///content/robustness_of_gnns_at_scale/rgnn_at_scale/attacks/local_prbcd.py#113\u001b\\\u001b[2m113\u001b[0m\u001b]8;;\u001b\\\n",
              "\u001b[2;36m                    \u001b[0m         Epoch: \u001b[1;36m40\u001b[0m Loss: \u001b[1;36m1.646561861038208\u001b[0m Statstics: \u001b[1m{\u001b[0m\u001b[32m'logit_target'\u001b[0m:       \u001b[2m                  \u001b[0m\n",
              "\u001b[2;36m                    \u001b[0m         \u001b[1;36m-2.214963674545288\u001b[0m, \u001b[32m'logit_best_non_target'\u001b[0m: \u001b[1;36m-0.565561056137085\u001b[0m,    \u001b[2m                  \u001b[0m\n",
              "\u001b[2;36m                    \u001b[0m         \u001b[32m'confidence_target'\u001b[0m: \u001b[1;36m0.10915747937151954\u001b[0m, \u001b[32m'confidence_non_target'\u001b[0m:  \u001b[2m                  \u001b[0m\n",
              "\u001b[2;36m                    \u001b[0m         \u001b[1;36m0.5680413542477373\u001b[0m, \u001b[32m'margin'\u001b[0m: \u001b[1;36m-0.45888387487621773\u001b[0m\u001b[1m}\u001b[0m                 \u001b[2m                  \u001b[0m\n",
              "\u001b[2;36m                    \u001b[0m                                                                             \u001b[2m                  \u001b[0m\n"
            ],
            "text/html": [
              "<pre style=\"white-space:pre;overflow-x:auto;line-height:normal;font-family:Menlo,'DejaVu Sans Mono',consolas,'Courier New',monospace\"><span style=\"color: #7fbfbf; text-decoration-color: #7fbfbf\">[01/08/25 18:41:29] </span><span style=\"color: #000080; text-decoration-color: #000080\">INFO    </span>                                                                     <a href=\"file:///content/robustness_of_gnns_at_scale/rgnn_at_scale/attacks/local_prbcd.py\" target=\"_blank\"><span style=\"color: #7f7f7f; text-decoration-color: #7f7f7f\">local_prbcd.py</span></a><span style=\"color: #7f7f7f; text-decoration-color: #7f7f7f\">:</span><a href=\"file:///content/robustness_of_gnns_at_scale/rgnn_at_scale/attacks/local_prbcd.py#113\" target=\"_blank\"><span style=\"color: #7f7f7f; text-decoration-color: #7f7f7f\">113</span></a>\n",
              "<span style=\"color: #7fbfbf; text-decoration-color: #7fbfbf\">                    </span>         Epoch: <span style=\"color: #008080; text-decoration-color: #008080; font-weight: bold\">40</span> Loss: <span style=\"color: #008080; text-decoration-color: #008080; font-weight: bold\">1.646561861038208</span> Statstics: <span style=\"font-weight: bold\">{</span><span style=\"color: #008000; text-decoration-color: #008000\">'logit_target'</span>:       <span style=\"color: #7f7f7f; text-decoration-color: #7f7f7f\">                  </span>\n",
              "<span style=\"color: #7fbfbf; text-decoration-color: #7fbfbf\">                    </span>         <span style=\"color: #008080; text-decoration-color: #008080; font-weight: bold\">-2.214963674545288</span>, <span style=\"color: #008000; text-decoration-color: #008000\">'logit_best_non_target'</span>: <span style=\"color: #008080; text-decoration-color: #008080; font-weight: bold\">-0.565561056137085</span>,    <span style=\"color: #7f7f7f; text-decoration-color: #7f7f7f\">                  </span>\n",
              "<span style=\"color: #7fbfbf; text-decoration-color: #7fbfbf\">                    </span>         <span style=\"color: #008000; text-decoration-color: #008000\">'confidence_target'</span>: <span style=\"color: #008080; text-decoration-color: #008080; font-weight: bold\">0.10915747937151954</span>, <span style=\"color: #008000; text-decoration-color: #008000\">'confidence_non_target'</span>:  <span style=\"color: #7f7f7f; text-decoration-color: #7f7f7f\">                  </span>\n",
              "<span style=\"color: #7fbfbf; text-decoration-color: #7fbfbf\">                    </span>         <span style=\"color: #008080; text-decoration-color: #008080; font-weight: bold\">0.5680413542477373</span>, <span style=\"color: #008000; text-decoration-color: #008000\">'margin'</span>: <span style=\"color: #008080; text-decoration-color: #008080; font-weight: bold\">-0.45888387487621773</span><span style=\"font-weight: bold\">}</span>                 <span style=\"color: #7f7f7f; text-decoration-color: #7f7f7f\">                  </span>\n",
              "<span style=\"color: #7fbfbf; text-decoration-color: #7fbfbf\">                    </span>                                                                             <span style=\"color: #7f7f7f; text-decoration-color: #7f7f7f\">                  </span>\n",
              "</pre>\n"
            ]
          },
          "metadata": {}
        },
        {
          "output_type": "display_data",
          "data": {
            "text/plain": [
              "\u001b[2;36m                   \u001b[0m\u001b[2;36m \u001b[0m\u001b[34mINFO    \u001b[0m Gradient mean \u001b[1;36m0.08972308784723282\u001b[0m std \u001b[1;36m0.11266624182462692\u001b[0m with base \u001b]8;id=904213;file:///content/robustness_of_gnns_at_scale/rgnn_at_scale/attacks/local_prbcd.py\u001b\\\u001b[2mlocal_prbcd.py\u001b[0m\u001b]8;;\u001b\\\u001b[2m:\u001b[0m\u001b]8;id=963231;file:///content/robustness_of_gnns_at_scale/rgnn_at_scale/attacks/local_prbcd.py#114\u001b\\\u001b[2m114\u001b[0m\u001b]8;;\u001b\\\n",
              "\u001b[2;36m                    \u001b[0m         learning rate \u001b[1;36m0.05\u001b[0m                                                  \u001b[2m                  \u001b[0m\n"
            ],
            "text/html": [
              "<pre style=\"white-space:pre;overflow-x:auto;line-height:normal;font-family:Menlo,'DejaVu Sans Mono',consolas,'Courier New',monospace\"><span style=\"color: #7fbfbf; text-decoration-color: #7fbfbf\">                    </span><span style=\"color: #000080; text-decoration-color: #000080\">INFO    </span> Gradient mean <span style=\"color: #008080; text-decoration-color: #008080; font-weight: bold\">0.08972308784723282</span> std <span style=\"color: #008080; text-decoration-color: #008080; font-weight: bold\">0.11266624182462692</span> with base <a href=\"file:///content/robustness_of_gnns_at_scale/rgnn_at_scale/attacks/local_prbcd.py\" target=\"_blank\"><span style=\"color: #7f7f7f; text-decoration-color: #7f7f7f\">local_prbcd.py</span></a><span style=\"color: #7f7f7f; text-decoration-color: #7f7f7f\">:</span><a href=\"file:///content/robustness_of_gnns_at_scale/rgnn_at_scale/attacks/local_prbcd.py#114\" target=\"_blank\"><span style=\"color: #7f7f7f; text-decoration-color: #7f7f7f\">114</span></a>\n",
              "<span style=\"color: #7fbfbf; text-decoration-color: #7fbfbf\">                    </span>         learning rate <span style=\"color: #008080; text-decoration-color: #008080; font-weight: bold\">0.05</span>                                                  <span style=\"color: #7f7f7f; text-decoration-color: #7f7f7f\">                  </span>\n",
              "</pre>\n"
            ]
          },
          "metadata": {}
        },
        {
          "output_type": "stream",
          "name": "stderr",
          "text": [
            "100%|██████████| 50/50 [03:31<00:00,  4.23s/it]\n"
          ]
        },
        {
          "output_type": "display_data",
          "data": {
            "text/plain": [
              "\u001b[2;36m[01/08/25 18:42:21]\u001b[0m\u001b[2;36m \u001b[0m\u001b[34mINFO    \u001b[0m Evaluated model Vanilla GCN using LocalPRBCD     \u001b]8;id=667221;file:///content/robustness_of_gnns_at_scale/experiments/experiment_local_attack_direct.py\u001b\\\u001b[2mexperiment_local_attack_direct.py\u001b[0m\u001b]8;;\u001b\\\u001b[2m:\u001b[0m\u001b]8;id=852604;file:///content/robustness_of_gnns_at_scale/experiments/experiment_local_attack_direct.py#194\u001b\\\u001b[2m194\u001b[0m\u001b]8;;\u001b\\\n",
              "\u001b[2;36m                    \u001b[0m         with pert. edges for node \u001b[1;36m2754\u001b[0m and budget \u001b[1;36m1\u001b[0m:     \u001b[2m                                     \u001b[0m\n"
            ],
            "text/html": [
              "<pre style=\"white-space:pre;overflow-x:auto;line-height:normal;font-family:Menlo,'DejaVu Sans Mono',consolas,'Courier New',monospace\"><span style=\"color: #7fbfbf; text-decoration-color: #7fbfbf\">[01/08/25 18:42:21] </span><span style=\"color: #000080; text-decoration-color: #000080\">INFO    </span> Evaluated model Vanilla GCN using LocalPRBCD     <a href=\"file:///content/robustness_of_gnns_at_scale/experiments/experiment_local_attack_direct.py\" target=\"_blank\"><span style=\"color: #7f7f7f; text-decoration-color: #7f7f7f\">experiment_local_attack_direct.py</span></a><span style=\"color: #7f7f7f; text-decoration-color: #7f7f7f\">:</span><a href=\"file:///content/robustness_of_gnns_at_scale/experiments/experiment_local_attack_direct.py#194\" target=\"_blank\"><span style=\"color: #7f7f7f; text-decoration-color: #7f7f7f\">194</span></a>\n",
              "<span style=\"color: #7fbfbf; text-decoration-color: #7fbfbf\">                    </span>         with pert. edges for node <span style=\"color: #008080; text-decoration-color: #008080; font-weight: bold\">2754</span> and budget <span style=\"color: #008080; text-decoration-color: #008080; font-weight: bold\">1</span>:     <span style=\"color: #7f7f7f; text-decoration-color: #7f7f7f\">                                     </span>\n",
              "</pre>\n"
            ]
          },
          "metadata": {}
        },
        {
          "output_type": "display_data",
          "data": {
            "text/plain": [
              "\u001b[2;36m                   \u001b[0m\u001b[2;36m \u001b[0m\u001b[34mINFO    \u001b[0m \u001b[1m{\u001b[0m\u001b[32m'label'\u001b[0m: \u001b[32m'Vanilla GCN'\u001b[0m, \u001b[32m'epsilon'\u001b[0m: \u001b[1;36m1\u001b[0m,           \u001b]8;id=951095;file:///content/robustness_of_gnns_at_scale/experiments/experiment_local_attack_direct.py\u001b\\\u001b[2mexperiment_local_attack_direct.py\u001b[0m\u001b]8;;\u001b\\\u001b[2m:\u001b[0m\u001b]8;id=914826;file:///content/robustness_of_gnns_at_scale/experiments/experiment_local_attack_direct.py#215\u001b\\\u001b[2m215\u001b[0m\u001b]8;;\u001b\\\n",
              "\u001b[2;36m                    \u001b[0m         \u001b[32m'n_perturbations'\u001b[0m: \u001b[1;36m1\u001b[0m, \u001b[32m'degree'\u001b[0m: \u001b[1;36m1\u001b[0m, \u001b[32m'logits'\u001b[0m:     \u001b[2m                                     \u001b[0m\n",
              "\u001b[2;36m                    \u001b[0m         \u001b[1m[\u001b[0m\u001b[1m[\u001b[0m\u001b[1;36m-1.0573465824127197\u001b[0m, \u001b[1;36m2.435495138168335\u001b[0m,        \u001b[2m                                     \u001b[0m\n",
              "\u001b[2;36m                    \u001b[0m         \u001b[1;36m-1.1170672178268433\u001b[0m, \u001b[1;36m0.70895916223526\u001b[0m,           \u001b[2m                                     \u001b[0m\n",
              "\u001b[2;36m                    \u001b[0m         \u001b[1;36m1.0088505744934082\u001b[0m, \u001b[1;36m-1.1898101568222046\u001b[0m,         \u001b[2m                                     \u001b[0m\n",
              "\u001b[2;36m                    \u001b[0m         \u001b[1;36m-1.0024690628051758\u001b[0m\u001b[1m]\u001b[0m\u001b[1m]\u001b[0m, \u001b[32m'initial_logits'\u001b[0m:         \u001b[2m                                     \u001b[0m\n",
              "\u001b[2;36m                    \u001b[0m         \u001b[1m[\u001b[0m\u001b[1m[\u001b[0m\u001b[1;36m-1.347818374633789\u001b[0m, \u001b[1;36m1.2622029781341553\u001b[0m,        \u001b[2m                                     \u001b[0m\n",
              "\u001b[2;36m                    \u001b[0m         \u001b[1;36m-0.9286754727363586\u001b[0m, \u001b[1;36m1.7803571224212646\u001b[0m,         \u001b[2m                                     \u001b[0m\n",
              "\u001b[2;36m                    \u001b[0m         \u001b[1;36m1.1803027391433716\u001b[0m, \u001b[1;36m-1.2822151184082031\u001b[0m,         \u001b[2m                                     \u001b[0m\n",
              "\u001b[2;36m                    \u001b[0m         \u001b[1;36m-0.8732984066009521\u001b[0m\u001b[1m]\u001b[0m\u001b[1m]\u001b[0m, \u001b[32m'larget'\u001b[0m: \u001b[1;36m3\u001b[0m, \u001b[32m'node_id'\u001b[0m:   \u001b[2m                                     \u001b[0m\n",
              "\u001b[2;36m                    \u001b[0m         \u001b[1;36m2754\u001b[0m, \u001b[32m'perturbed_edges'\u001b[0m: \u001b[1m[\u001b[0m\u001b[1m[\u001b[0m\u001b[1;36m2754\u001b[0m\u001b[1m]\u001b[0m, \u001b[1m[\u001b[0m\u001b[1;36m2681\u001b[0m\u001b[1m]\u001b[0m\u001b[1m]\u001b[0m,       \u001b[2m                                     \u001b[0m\n",
              "\u001b[2;36m                    \u001b[0m         \u001b[32m'logit_target'\u001b[0m: \u001b[1;36m-2.1556196212768555\u001b[0m,             \u001b[2m                                     \u001b[0m\n",
              "\u001b[2;36m                    \u001b[0m         \u001b[32m'logit_best_non_target'\u001b[0m: \u001b[1;36m-0.42908352613449097\u001b[0m,   \u001b[2m                                     \u001b[0m\n",
              "\u001b[2;36m                    \u001b[0m         \u001b[32m'confidence_target'\u001b[0m: \u001b[1;36m0.11583139677471141\u001b[0m,        \u001b[2m                                     \u001b[0m\n",
              "\u001b[2;36m                    \u001b[0m         \u001b[32m'confidence_non_target'\u001b[0m: \u001b[1;36m0.6511055425805955\u001b[0m,     \u001b[2m                                     \u001b[0m\n",
              "\u001b[2;36m                    \u001b[0m         \u001b[32m'margin'\u001b[0m: \u001b[1;36m-0.5352741458058841\u001b[0m,                   \u001b[2m                                     \u001b[0m\n",
              "\u001b[2;36m                    \u001b[0m         \u001b[32m'initial_logit_target'\u001b[0m: \u001b[1;36m-0.8637166619300842\u001b[0m,     \u001b[2m                                     \u001b[0m\n",
              "\u001b[2;36m                    \u001b[0m         \u001b[32m'initial_logit_best_non_target'\u001b[0m:                 \u001b[2m                                     \u001b[0m\n",
              "\u001b[2;36m                    \u001b[0m         \u001b[1;36m-1.3818707466125488\u001b[0m,                             \u001b[2m                                     \u001b[0m\n",
              "\u001b[2;36m                    \u001b[0m         \u001b[32m'initial_confidence_target'\u001b[0m:                     \u001b[2m                                     \u001b[0m\n",
              "\u001b[2;36m                    \u001b[0m         \u001b[1;36m0.42159225098939224\u001b[0m,                             \u001b[2m                                     \u001b[0m\n",
              "\u001b[2;36m                    \u001b[0m         \u001b[32m'initial_confidence_non_target'\u001b[0m:                 \u001b[2m                                     \u001b[0m\n",
              "\u001b[2;36m                    \u001b[0m         \u001b[1;36m0.25110835328327913\u001b[0m, \u001b[32m'initial_margin'\u001b[0m:           \u001b[2m                                     \u001b[0m\n",
              "\u001b[2;36m                    \u001b[0m         \u001b[1;36m0.1704838977061131\u001b[0m\u001b[1m}\u001b[0m                              \u001b[2m                                     \u001b[0m\n"
            ],
            "text/html": [
              "<pre style=\"white-space:pre;overflow-x:auto;line-height:normal;font-family:Menlo,'DejaVu Sans Mono',consolas,'Courier New',monospace\"><span style=\"color: #7fbfbf; text-decoration-color: #7fbfbf\">                    </span><span style=\"color: #000080; text-decoration-color: #000080\">INFO    </span> <span style=\"font-weight: bold\">{</span><span style=\"color: #008000; text-decoration-color: #008000\">'label'</span>: <span style=\"color: #008000; text-decoration-color: #008000\">'Vanilla GCN'</span>, <span style=\"color: #008000; text-decoration-color: #008000\">'epsilon'</span>: <span style=\"color: #008080; text-decoration-color: #008080; font-weight: bold\">1</span>,           <a href=\"file:///content/robustness_of_gnns_at_scale/experiments/experiment_local_attack_direct.py\" target=\"_blank\"><span style=\"color: #7f7f7f; text-decoration-color: #7f7f7f\">experiment_local_attack_direct.py</span></a><span style=\"color: #7f7f7f; text-decoration-color: #7f7f7f\">:</span><a href=\"file:///content/robustness_of_gnns_at_scale/experiments/experiment_local_attack_direct.py#215\" target=\"_blank\"><span style=\"color: #7f7f7f; text-decoration-color: #7f7f7f\">215</span></a>\n",
              "<span style=\"color: #7fbfbf; text-decoration-color: #7fbfbf\">                    </span>         <span style=\"color: #008000; text-decoration-color: #008000\">'n_perturbations'</span>: <span style=\"color: #008080; text-decoration-color: #008080; font-weight: bold\">1</span>, <span style=\"color: #008000; text-decoration-color: #008000\">'degree'</span>: <span style=\"color: #008080; text-decoration-color: #008080; font-weight: bold\">1</span>, <span style=\"color: #008000; text-decoration-color: #008000\">'logits'</span>:     <span style=\"color: #7f7f7f; text-decoration-color: #7f7f7f\">                                     </span>\n",
              "<span style=\"color: #7fbfbf; text-decoration-color: #7fbfbf\">                    </span>         <span style=\"font-weight: bold\">[[</span><span style=\"color: #008080; text-decoration-color: #008080; font-weight: bold\">-1.0573465824127197</span>, <span style=\"color: #008080; text-decoration-color: #008080; font-weight: bold\">2.435495138168335</span>,        <span style=\"color: #7f7f7f; text-decoration-color: #7f7f7f\">                                     </span>\n",
              "<span style=\"color: #7fbfbf; text-decoration-color: #7fbfbf\">                    </span>         <span style=\"color: #008080; text-decoration-color: #008080; font-weight: bold\">-1.1170672178268433</span>, <span style=\"color: #008080; text-decoration-color: #008080; font-weight: bold\">0.70895916223526</span>,           <span style=\"color: #7f7f7f; text-decoration-color: #7f7f7f\">                                     </span>\n",
              "<span style=\"color: #7fbfbf; text-decoration-color: #7fbfbf\">                    </span>         <span style=\"color: #008080; text-decoration-color: #008080; font-weight: bold\">1.0088505744934082</span>, <span style=\"color: #008080; text-decoration-color: #008080; font-weight: bold\">-1.1898101568222046</span>,         <span style=\"color: #7f7f7f; text-decoration-color: #7f7f7f\">                                     </span>\n",
              "<span style=\"color: #7fbfbf; text-decoration-color: #7fbfbf\">                    </span>         <span style=\"color: #008080; text-decoration-color: #008080; font-weight: bold\">-1.0024690628051758</span><span style=\"font-weight: bold\">]]</span>, <span style=\"color: #008000; text-decoration-color: #008000\">'initial_logits'</span>:         <span style=\"color: #7f7f7f; text-decoration-color: #7f7f7f\">                                     </span>\n",
              "<span style=\"color: #7fbfbf; text-decoration-color: #7fbfbf\">                    </span>         <span style=\"font-weight: bold\">[[</span><span style=\"color: #008080; text-decoration-color: #008080; font-weight: bold\">-1.347818374633789</span>, <span style=\"color: #008080; text-decoration-color: #008080; font-weight: bold\">1.2622029781341553</span>,        <span style=\"color: #7f7f7f; text-decoration-color: #7f7f7f\">                                     </span>\n",
              "<span style=\"color: #7fbfbf; text-decoration-color: #7fbfbf\">                    </span>         <span style=\"color: #008080; text-decoration-color: #008080; font-weight: bold\">-0.9286754727363586</span>, <span style=\"color: #008080; text-decoration-color: #008080; font-weight: bold\">1.7803571224212646</span>,         <span style=\"color: #7f7f7f; text-decoration-color: #7f7f7f\">                                     </span>\n",
              "<span style=\"color: #7fbfbf; text-decoration-color: #7fbfbf\">                    </span>         <span style=\"color: #008080; text-decoration-color: #008080; font-weight: bold\">1.1803027391433716</span>, <span style=\"color: #008080; text-decoration-color: #008080; font-weight: bold\">-1.2822151184082031</span>,         <span style=\"color: #7f7f7f; text-decoration-color: #7f7f7f\">                                     </span>\n",
              "<span style=\"color: #7fbfbf; text-decoration-color: #7fbfbf\">                    </span>         <span style=\"color: #008080; text-decoration-color: #008080; font-weight: bold\">-0.8732984066009521</span><span style=\"font-weight: bold\">]]</span>, <span style=\"color: #008000; text-decoration-color: #008000\">'larget'</span>: <span style=\"color: #008080; text-decoration-color: #008080; font-weight: bold\">3</span>, <span style=\"color: #008000; text-decoration-color: #008000\">'node_id'</span>:   <span style=\"color: #7f7f7f; text-decoration-color: #7f7f7f\">                                     </span>\n",
              "<span style=\"color: #7fbfbf; text-decoration-color: #7fbfbf\">                    </span>         <span style=\"color: #008080; text-decoration-color: #008080; font-weight: bold\">2754</span>, <span style=\"color: #008000; text-decoration-color: #008000\">'perturbed_edges'</span>: <span style=\"font-weight: bold\">[[</span><span style=\"color: #008080; text-decoration-color: #008080; font-weight: bold\">2754</span><span style=\"font-weight: bold\">]</span>, <span style=\"font-weight: bold\">[</span><span style=\"color: #008080; text-decoration-color: #008080; font-weight: bold\">2681</span><span style=\"font-weight: bold\">]]</span>,       <span style=\"color: #7f7f7f; text-decoration-color: #7f7f7f\">                                     </span>\n",
              "<span style=\"color: #7fbfbf; text-decoration-color: #7fbfbf\">                    </span>         <span style=\"color: #008000; text-decoration-color: #008000\">'logit_target'</span>: <span style=\"color: #008080; text-decoration-color: #008080; font-weight: bold\">-2.1556196212768555</span>,             <span style=\"color: #7f7f7f; text-decoration-color: #7f7f7f\">                                     </span>\n",
              "<span style=\"color: #7fbfbf; text-decoration-color: #7fbfbf\">                    </span>         <span style=\"color: #008000; text-decoration-color: #008000\">'logit_best_non_target'</span>: <span style=\"color: #008080; text-decoration-color: #008080; font-weight: bold\">-0.42908352613449097</span>,   <span style=\"color: #7f7f7f; text-decoration-color: #7f7f7f\">                                     </span>\n",
              "<span style=\"color: #7fbfbf; text-decoration-color: #7fbfbf\">                    </span>         <span style=\"color: #008000; text-decoration-color: #008000\">'confidence_target'</span>: <span style=\"color: #008080; text-decoration-color: #008080; font-weight: bold\">0.11583139677471141</span>,        <span style=\"color: #7f7f7f; text-decoration-color: #7f7f7f\">                                     </span>\n",
              "<span style=\"color: #7fbfbf; text-decoration-color: #7fbfbf\">                    </span>         <span style=\"color: #008000; text-decoration-color: #008000\">'confidence_non_target'</span>: <span style=\"color: #008080; text-decoration-color: #008080; font-weight: bold\">0.6511055425805955</span>,     <span style=\"color: #7f7f7f; text-decoration-color: #7f7f7f\">                                     </span>\n",
              "<span style=\"color: #7fbfbf; text-decoration-color: #7fbfbf\">                    </span>         <span style=\"color: #008000; text-decoration-color: #008000\">'margin'</span>: <span style=\"color: #008080; text-decoration-color: #008080; font-weight: bold\">-0.5352741458058841</span>,                   <span style=\"color: #7f7f7f; text-decoration-color: #7f7f7f\">                                     </span>\n",
              "<span style=\"color: #7fbfbf; text-decoration-color: #7fbfbf\">                    </span>         <span style=\"color: #008000; text-decoration-color: #008000\">'initial_logit_target'</span>: <span style=\"color: #008080; text-decoration-color: #008080; font-weight: bold\">-0.8637166619300842</span>,     <span style=\"color: #7f7f7f; text-decoration-color: #7f7f7f\">                                     </span>\n",
              "<span style=\"color: #7fbfbf; text-decoration-color: #7fbfbf\">                    </span>         <span style=\"color: #008000; text-decoration-color: #008000\">'initial_logit_best_non_target'</span>:                 <span style=\"color: #7f7f7f; text-decoration-color: #7f7f7f\">                                     </span>\n",
              "<span style=\"color: #7fbfbf; text-decoration-color: #7fbfbf\">                    </span>         <span style=\"color: #008080; text-decoration-color: #008080; font-weight: bold\">-1.3818707466125488</span>,                             <span style=\"color: #7f7f7f; text-decoration-color: #7f7f7f\">                                     </span>\n",
              "<span style=\"color: #7fbfbf; text-decoration-color: #7fbfbf\">                    </span>         <span style=\"color: #008000; text-decoration-color: #008000\">'initial_confidence_target'</span>:                     <span style=\"color: #7f7f7f; text-decoration-color: #7f7f7f\">                                     </span>\n",
              "<span style=\"color: #7fbfbf; text-decoration-color: #7fbfbf\">                    </span>         <span style=\"color: #008080; text-decoration-color: #008080; font-weight: bold\">0.42159225098939224</span>,                             <span style=\"color: #7f7f7f; text-decoration-color: #7f7f7f\">                                     </span>\n",
              "<span style=\"color: #7fbfbf; text-decoration-color: #7fbfbf\">                    </span>         <span style=\"color: #008000; text-decoration-color: #008000\">'initial_confidence_non_target'</span>:                 <span style=\"color: #7f7f7f; text-decoration-color: #7f7f7f\">                                     </span>\n",
              "<span style=\"color: #7fbfbf; text-decoration-color: #7fbfbf\">                    </span>         <span style=\"color: #008080; text-decoration-color: #008080; font-weight: bold\">0.25110835328327913</span>, <span style=\"color: #008000; text-decoration-color: #008000\">'initial_margin'</span>:           <span style=\"color: #7f7f7f; text-decoration-color: #7f7f7f\">                                     </span>\n",
              "<span style=\"color: #7fbfbf; text-decoration-color: #7fbfbf\">                    </span>         <span style=\"color: #008080; text-decoration-color: #008080; font-weight: bold\">0.1704838977061131</span><span style=\"font-weight: bold\">}</span>                              <span style=\"color: #7f7f7f; text-decoration-color: #7f7f7f\">                                     </span>\n",
              "</pre>\n"
            ]
          },
          "metadata": {}
        },
        {
          "output_type": "display_data",
          "data": {
            "text/plain": [
              "\u001b[2;36m                   \u001b[0m\u001b[2;36m \u001b[0m\u001b[34mINFO    \u001b[0m Completed attack and evaluation of Vanilla GCN   \u001b]8;id=596900;file:///content/robustness_of_gnns_at_scale/experiments/experiment_local_attack_direct.py\u001b\\\u001b[2mexperiment_local_attack_direct.py\u001b[0m\u001b]8;;\u001b\\\u001b[2m:\u001b[0m\u001b]8;id=266928;file:///content/robustness_of_gnns_at_scale/experiments/experiment_local_attack_direct.py#216\u001b\\\u001b[2m216\u001b[0m\u001b]8;;\u001b\\\n",
              "\u001b[2;36m                    \u001b[0m         using LocalPRBCD with pert. edges for node \u001b[1;36m2754\u001b[0m  \u001b[2m                                     \u001b[0m\n",
              "\u001b[2;36m                    \u001b[0m         and budget \u001b[1;36m1\u001b[0m                                     \u001b[2m                                     \u001b[0m\n"
            ],
            "text/html": [
              "<pre style=\"white-space:pre;overflow-x:auto;line-height:normal;font-family:Menlo,'DejaVu Sans Mono',consolas,'Courier New',monospace\"><span style=\"color: #7fbfbf; text-decoration-color: #7fbfbf\">                    </span><span style=\"color: #000080; text-decoration-color: #000080\">INFO    </span> Completed attack and evaluation of Vanilla GCN   <a href=\"file:///content/robustness_of_gnns_at_scale/experiments/experiment_local_attack_direct.py\" target=\"_blank\"><span style=\"color: #7f7f7f; text-decoration-color: #7f7f7f\">experiment_local_attack_direct.py</span></a><span style=\"color: #7f7f7f; text-decoration-color: #7f7f7f\">:</span><a href=\"file:///content/robustness_of_gnns_at_scale/experiments/experiment_local_attack_direct.py#216\" target=\"_blank\"><span style=\"color: #7f7f7f; text-decoration-color: #7f7f7f\">216</span></a>\n",
              "<span style=\"color: #7fbfbf; text-decoration-color: #7fbfbf\">                    </span>         using LocalPRBCD with pert. edges for node <span style=\"color: #008080; text-decoration-color: #008080; font-weight: bold\">2754</span>  <span style=\"color: #7f7f7f; text-decoration-color: #7f7f7f\">                                     </span>\n",
              "<span style=\"color: #7fbfbf; text-decoration-color: #7fbfbf\">                    </span>         and budget <span style=\"color: #008080; text-decoration-color: #008080; font-weight: bold\">1</span>                                     <span style=\"color: #7f7f7f; text-decoration-color: #7f7f7f\">                                     </span>\n",
              "</pre>\n"
            ]
          },
          "metadata": {}
        },
        {
          "output_type": "display_data",
          "data": {
            "text/plain": [
              "\u001b[2;36m[01/08/25 18:42:22]\u001b[0m\u001b[2;36m \u001b[0m\u001b[34mINFO    \u001b[0m Original: Loss: \u001b[1;36m-1.3245513439178467\u001b[0m Statstics: \u001b[1m{\u001b[0m\u001b[32m'logit_target'\u001b[0m:      \u001b]8;id=817195;file:///content/robustness_of_gnns_at_scale/rgnn_at_scale/attacks/local_prbcd.py\u001b\\\u001b[2mlocal_prbcd.py\u001b[0m\u001b]8;;\u001b\\\u001b[2m:\u001b[0m\u001b]8;id=894540;file:///content/robustness_of_gnns_at_scale/rgnn_at_scale/attacks/local_prbcd.py#74\u001b\\\u001b[2m74\u001b[0m\u001b]8;;\u001b\\\n",
              "\u001b[2;36m                    \u001b[0m         \u001b[1;36m-0.4812387228012085\u001b[0m, \u001b[32m'logit_best_non_target'\u001b[0m: \u001b[1;36m-1.8057900667190552\u001b[0m,   \u001b[2m                 \u001b[0m\n",
              "\u001b[2;36m                    \u001b[0m         \u001b[32m'confidence_target'\u001b[0m: \u001b[1;36m0.6180173652549306\u001b[0m, \u001b[32m'confidence_non_target'\u001b[0m:    \u001b[2m                 \u001b[0m\n",
              "\u001b[2;36m                    \u001b[0m         \u001b[1;36m0.16434456210228612\u001b[0m, \u001b[32m'margin'\u001b[0m: \u001b[1;36m0.45367280315264447\u001b[0m\u001b[1m}\u001b[0m                  \u001b[2m                 \u001b[0m\n",
              "\u001b[2;36m                    \u001b[0m                                                                              \u001b[2m                 \u001b[0m\n"
            ],
            "text/html": [
              "<pre style=\"white-space:pre;overflow-x:auto;line-height:normal;font-family:Menlo,'DejaVu Sans Mono',consolas,'Courier New',monospace\"><span style=\"color: #7fbfbf; text-decoration-color: #7fbfbf\">[01/08/25 18:42:22] </span><span style=\"color: #000080; text-decoration-color: #000080\">INFO    </span> Original: Loss: <span style=\"color: #008080; text-decoration-color: #008080; font-weight: bold\">-1.3245513439178467</span> Statstics: <span style=\"font-weight: bold\">{</span><span style=\"color: #008000; text-decoration-color: #008000\">'logit_target'</span>:      <a href=\"file:///content/robustness_of_gnns_at_scale/rgnn_at_scale/attacks/local_prbcd.py\" target=\"_blank\"><span style=\"color: #7f7f7f; text-decoration-color: #7f7f7f\">local_prbcd.py</span></a><span style=\"color: #7f7f7f; text-decoration-color: #7f7f7f\">:</span><a href=\"file:///content/robustness_of_gnns_at_scale/rgnn_at_scale/attacks/local_prbcd.py#74\" target=\"_blank\"><span style=\"color: #7f7f7f; text-decoration-color: #7f7f7f\">74</span></a>\n",
              "<span style=\"color: #7fbfbf; text-decoration-color: #7fbfbf\">                    </span>         <span style=\"color: #008080; text-decoration-color: #008080; font-weight: bold\">-0.4812387228012085</span>, <span style=\"color: #008000; text-decoration-color: #008000\">'logit_best_non_target'</span>: <span style=\"color: #008080; text-decoration-color: #008080; font-weight: bold\">-1.8057900667190552</span>,   <span style=\"color: #7f7f7f; text-decoration-color: #7f7f7f\">                 </span>\n",
              "<span style=\"color: #7fbfbf; text-decoration-color: #7fbfbf\">                    </span>         <span style=\"color: #008000; text-decoration-color: #008000\">'confidence_target'</span>: <span style=\"color: #008080; text-decoration-color: #008080; font-weight: bold\">0.6180173652549306</span>, <span style=\"color: #008000; text-decoration-color: #008000\">'confidence_non_target'</span>:    <span style=\"color: #7f7f7f; text-decoration-color: #7f7f7f\">                 </span>\n",
              "<span style=\"color: #7fbfbf; text-decoration-color: #7fbfbf\">                    </span>         <span style=\"color: #008080; text-decoration-color: #008080; font-weight: bold\">0.16434456210228612</span>, <span style=\"color: #008000; text-decoration-color: #008000\">'margin'</span>: <span style=\"color: #008080; text-decoration-color: #008080; font-weight: bold\">0.45367280315264447</span><span style=\"font-weight: bold\">}</span>                  <span style=\"color: #7f7f7f; text-decoration-color: #7f7f7f\">                 </span>\n",
              "<span style=\"color: #7fbfbf; text-decoration-color: #7fbfbf\">                    </span>                                                                              <span style=\"color: #7f7f7f; text-decoration-color: #7f7f7f\">                 </span>\n",
              "</pre>\n"
            ]
          },
          "metadata": {}
        },
        {
          "output_type": "stream",
          "name": "stderr",
          "text": [
            "\r  0%|          | 0/50 [00:00<?, ?it/s]"
          ]
        },
        {
          "output_type": "display_data",
          "data": {
            "text/plain": [
              "\u001b[2;36m[01/08/25 18:42:24]\u001b[0m\u001b[2;36m \u001b[0m\u001b[34mINFO    \u001b[0m Initial: Loss: \u001b[1;36m-1.3245513439178467\u001b[0m Statstics: \u001b[1m{\u001b[0m\u001b[32m'logit_target'\u001b[0m:       \u001b]8;id=536821;file:///content/robustness_of_gnns_at_scale/rgnn_at_scale/attacks/local_prbcd.py\u001b\\\u001b[2mlocal_prbcd.py\u001b[0m\u001b]8;;\u001b\\\u001b[2m:\u001b[0m\u001b]8;id=335010;file:///content/robustness_of_gnns_at_scale/rgnn_at_scale/attacks/local_prbcd.py#92\u001b\\\u001b[2m92\u001b[0m\u001b]8;;\u001b\\\n",
              "\u001b[2;36m                    \u001b[0m         \u001b[1;36m-0.4812387228012085\u001b[0m, \u001b[32m'logit_best_non_target'\u001b[0m: \u001b[1;36m-1.8057900667190552\u001b[0m,   \u001b[2m                 \u001b[0m\n",
              "\u001b[2;36m                    \u001b[0m         \u001b[32m'confidence_target'\u001b[0m: \u001b[1;36m0.6180173652549306\u001b[0m, \u001b[32m'confidence_non_target'\u001b[0m:    \u001b[2m                 \u001b[0m\n",
              "\u001b[2;36m                    \u001b[0m         \u001b[1;36m0.16434456210228612\u001b[0m, \u001b[32m'margin'\u001b[0m: \u001b[1;36m0.45367280315264447\u001b[0m\u001b[1m}\u001b[0m                  \u001b[2m                 \u001b[0m\n",
              "\u001b[2;36m                    \u001b[0m                                                                              \u001b[2m                 \u001b[0m\n"
            ],
            "text/html": [
              "<pre style=\"white-space:pre;overflow-x:auto;line-height:normal;font-family:Menlo,'DejaVu Sans Mono',consolas,'Courier New',monospace\"><span style=\"color: #7fbfbf; text-decoration-color: #7fbfbf\">[01/08/25 18:42:24] </span><span style=\"color: #000080; text-decoration-color: #000080\">INFO    </span> Initial: Loss: <span style=\"color: #008080; text-decoration-color: #008080; font-weight: bold\">-1.3245513439178467</span> Statstics: <span style=\"font-weight: bold\">{</span><span style=\"color: #008000; text-decoration-color: #008000\">'logit_target'</span>:       <a href=\"file:///content/robustness_of_gnns_at_scale/rgnn_at_scale/attacks/local_prbcd.py\" target=\"_blank\"><span style=\"color: #7f7f7f; text-decoration-color: #7f7f7f\">local_prbcd.py</span></a><span style=\"color: #7f7f7f; text-decoration-color: #7f7f7f\">:</span><a href=\"file:///content/robustness_of_gnns_at_scale/rgnn_at_scale/attacks/local_prbcd.py#92\" target=\"_blank\"><span style=\"color: #7f7f7f; text-decoration-color: #7f7f7f\">92</span></a>\n",
              "<span style=\"color: #7fbfbf; text-decoration-color: #7fbfbf\">                    </span>         <span style=\"color: #008080; text-decoration-color: #008080; font-weight: bold\">-0.4812387228012085</span>, <span style=\"color: #008000; text-decoration-color: #008000\">'logit_best_non_target'</span>: <span style=\"color: #008080; text-decoration-color: #008080; font-weight: bold\">-1.8057900667190552</span>,   <span style=\"color: #7f7f7f; text-decoration-color: #7f7f7f\">                 </span>\n",
              "<span style=\"color: #7fbfbf; text-decoration-color: #7fbfbf\">                    </span>         <span style=\"color: #008000; text-decoration-color: #008000\">'confidence_target'</span>: <span style=\"color: #008080; text-decoration-color: #008080; font-weight: bold\">0.6180173652549306</span>, <span style=\"color: #008000; text-decoration-color: #008000\">'confidence_non_target'</span>:    <span style=\"color: #7f7f7f; text-decoration-color: #7f7f7f\">                 </span>\n",
              "<span style=\"color: #7fbfbf; text-decoration-color: #7fbfbf\">                    </span>         <span style=\"color: #008080; text-decoration-color: #008080; font-weight: bold\">0.16434456210228612</span>, <span style=\"color: #008000; text-decoration-color: #008000\">'margin'</span>: <span style=\"color: #008080; text-decoration-color: #008080; font-weight: bold\">0.45367280315264447</span><span style=\"font-weight: bold\">}</span>                  <span style=\"color: #7f7f7f; text-decoration-color: #7f7f7f\">                 </span>\n",
              "<span style=\"color: #7fbfbf; text-decoration-color: #7fbfbf\">                    </span>                                                                              <span style=\"color: #7f7f7f; text-decoration-color: #7f7f7f\">                 </span>\n",
              "</pre>\n"
            ]
          },
          "metadata": {}
        },
        {
          "output_type": "display_data",
          "data": {
            "text/plain": [
              "\u001b[2;36m[01/08/25 18:42:26]\u001b[0m\u001b[2;36m \u001b[0m\u001b[34mINFO    \u001b[0m                                                                     \u001b]8;id=258444;file:///content/robustness_of_gnns_at_scale/rgnn_at_scale/attacks/local_prbcd.py\u001b\\\u001b[2mlocal_prbcd.py\u001b[0m\u001b]8;;\u001b\\\u001b[2m:\u001b[0m\u001b]8;id=453806;file:///content/robustness_of_gnns_at_scale/rgnn_at_scale/attacks/local_prbcd.py#113\u001b\\\u001b[2m113\u001b[0m\u001b]8;;\u001b\\\n",
              "\u001b[2;36m                    \u001b[0m         Epoch: \u001b[1;36m0\u001b[0m Loss: \u001b[1;36m-1.3245513439178467\u001b[0m Statstics: \u001b[1m{\u001b[0m\u001b[32m'logit_target'\u001b[0m:      \u001b[2m                  \u001b[0m\n",
              "\u001b[2;36m                    \u001b[0m         \u001b[1;36m-0.5549963712692261\u001b[0m, \u001b[32m'logit_best_non_target'\u001b[0m: \u001b[1;36m-1.7366877794265747\u001b[0m,  \u001b[2m                  \u001b[0m\n",
              "\u001b[2;36m                    \u001b[0m         \u001b[32m'confidence_target'\u001b[0m: \u001b[1;36m0.5740743443538963\u001b[0m, \u001b[32m'confidence_non_target'\u001b[0m:   \u001b[2m                  \u001b[0m\n",
              "\u001b[2;36m                    \u001b[0m         \u001b[1;36m0.1761027267629147\u001b[0m, \u001b[32m'margin'\u001b[0m: \u001b[1;36m0.39797161759098154\u001b[0m\u001b[1m}\u001b[0m                  \u001b[2m                  \u001b[0m\n",
              "\u001b[2;36m                    \u001b[0m                                                                             \u001b[2m                  \u001b[0m\n"
            ],
            "text/html": [
              "<pre style=\"white-space:pre;overflow-x:auto;line-height:normal;font-family:Menlo,'DejaVu Sans Mono',consolas,'Courier New',monospace\"><span style=\"color: #7fbfbf; text-decoration-color: #7fbfbf\">[01/08/25 18:42:26] </span><span style=\"color: #000080; text-decoration-color: #000080\">INFO    </span>                                                                     <a href=\"file:///content/robustness_of_gnns_at_scale/rgnn_at_scale/attacks/local_prbcd.py\" target=\"_blank\"><span style=\"color: #7f7f7f; text-decoration-color: #7f7f7f\">local_prbcd.py</span></a><span style=\"color: #7f7f7f; text-decoration-color: #7f7f7f\">:</span><a href=\"file:///content/robustness_of_gnns_at_scale/rgnn_at_scale/attacks/local_prbcd.py#113\" target=\"_blank\"><span style=\"color: #7f7f7f; text-decoration-color: #7f7f7f\">113</span></a>\n",
              "<span style=\"color: #7fbfbf; text-decoration-color: #7fbfbf\">                    </span>         Epoch: <span style=\"color: #008080; text-decoration-color: #008080; font-weight: bold\">0</span> Loss: <span style=\"color: #008080; text-decoration-color: #008080; font-weight: bold\">-1.3245513439178467</span> Statstics: <span style=\"font-weight: bold\">{</span><span style=\"color: #008000; text-decoration-color: #008000\">'logit_target'</span>:      <span style=\"color: #7f7f7f; text-decoration-color: #7f7f7f\">                  </span>\n",
              "<span style=\"color: #7fbfbf; text-decoration-color: #7fbfbf\">                    </span>         <span style=\"color: #008080; text-decoration-color: #008080; font-weight: bold\">-0.5549963712692261</span>, <span style=\"color: #008000; text-decoration-color: #008000\">'logit_best_non_target'</span>: <span style=\"color: #008080; text-decoration-color: #008080; font-weight: bold\">-1.7366877794265747</span>,  <span style=\"color: #7f7f7f; text-decoration-color: #7f7f7f\">                  </span>\n",
              "<span style=\"color: #7fbfbf; text-decoration-color: #7fbfbf\">                    </span>         <span style=\"color: #008000; text-decoration-color: #008000\">'confidence_target'</span>: <span style=\"color: #008080; text-decoration-color: #008080; font-weight: bold\">0.5740743443538963</span>, <span style=\"color: #008000; text-decoration-color: #008000\">'confidence_non_target'</span>:   <span style=\"color: #7f7f7f; text-decoration-color: #7f7f7f\">                  </span>\n",
              "<span style=\"color: #7fbfbf; text-decoration-color: #7fbfbf\">                    </span>         <span style=\"color: #008080; text-decoration-color: #008080; font-weight: bold\">0.1761027267629147</span>, <span style=\"color: #008000; text-decoration-color: #008000\">'margin'</span>: <span style=\"color: #008080; text-decoration-color: #008080; font-weight: bold\">0.39797161759098154</span><span style=\"font-weight: bold\">}</span>                  <span style=\"color: #7f7f7f; text-decoration-color: #7f7f7f\">                  </span>\n",
              "<span style=\"color: #7fbfbf; text-decoration-color: #7fbfbf\">                    </span>                                                                             <span style=\"color: #7f7f7f; text-decoration-color: #7f7f7f\">                  </span>\n",
              "</pre>\n"
            ]
          },
          "metadata": {}
        },
        {
          "output_type": "display_data",
          "data": {
            "text/plain": [
              "\u001b[2;36m                   \u001b[0m\u001b[2;36m \u001b[0m\u001b[34mINFO    \u001b[0m Gradient mean \u001b[1;36m0.016519520431756973\u001b[0m std \u001b[1;36m0.02272999845445156\u001b[0m with     \u001b]8;id=459267;file:///content/robustness_of_gnns_at_scale/rgnn_at_scale/attacks/local_prbcd.py\u001b\\\u001b[2mlocal_prbcd.py\u001b[0m\u001b]8;;\u001b\\\u001b[2m:\u001b[0m\u001b]8;id=381141;file:///content/robustness_of_gnns_at_scale/rgnn_at_scale/attacks/local_prbcd.py#114\u001b\\\u001b[2m114\u001b[0m\u001b]8;;\u001b\\\n",
              "\u001b[2;36m                    \u001b[0m         base learning rate \u001b[1;36m0.6000000000000001\u001b[0m                               \u001b[2m                  \u001b[0m\n"
            ],
            "text/html": [
              "<pre style=\"white-space:pre;overflow-x:auto;line-height:normal;font-family:Menlo,'DejaVu Sans Mono',consolas,'Courier New',monospace\"><span style=\"color: #7fbfbf; text-decoration-color: #7fbfbf\">                    </span><span style=\"color: #000080; text-decoration-color: #000080\">INFO    </span> Gradient mean <span style=\"color: #008080; text-decoration-color: #008080; font-weight: bold\">0.016519520431756973</span> std <span style=\"color: #008080; text-decoration-color: #008080; font-weight: bold\">0.02272999845445156</span> with     <a href=\"file:///content/robustness_of_gnns_at_scale/rgnn_at_scale/attacks/local_prbcd.py\" target=\"_blank\"><span style=\"color: #7f7f7f; text-decoration-color: #7f7f7f\">local_prbcd.py</span></a><span style=\"color: #7f7f7f; text-decoration-color: #7f7f7f\">:</span><a href=\"file:///content/robustness_of_gnns_at_scale/rgnn_at_scale/attacks/local_prbcd.py#114\" target=\"_blank\"><span style=\"color: #7f7f7f; text-decoration-color: #7f7f7f\">114</span></a>\n",
              "<span style=\"color: #7fbfbf; text-decoration-color: #7fbfbf\">                    </span>         base learning rate <span style=\"color: #008080; text-decoration-color: #008080; font-weight: bold\">0.6000000000000001</span>                               <span style=\"color: #7f7f7f; text-decoration-color: #7f7f7f\">                  </span>\n",
              "</pre>\n"
            ]
          },
          "metadata": {}
        },
        {
          "output_type": "stream",
          "name": "stderr",
          "text": [
            " 40%|████      | 20/50 [01:25<02:05,  4.18s/it]"
          ]
        },
        {
          "output_type": "display_data",
          "data": {
            "text/plain": [
              "\u001b[2;36m[01/08/25 18:43:52]\u001b[0m\u001b[2;36m \u001b[0m\u001b[34mINFO    \u001b[0m                                                                     \u001b]8;id=259453;file:///content/robustness_of_gnns_at_scale/rgnn_at_scale/attacks/local_prbcd.py\u001b\\\u001b[2mlocal_prbcd.py\u001b[0m\u001b]8;;\u001b\\\u001b[2m:\u001b[0m\u001b]8;id=384279;file:///content/robustness_of_gnns_at_scale/rgnn_at_scale/attacks/local_prbcd.py#113\u001b\\\u001b[2m113\u001b[0m\u001b]8;;\u001b\\\n",
              "\u001b[2;36m                    \u001b[0m         Epoch: \u001b[1;36m20\u001b[0m Loss: \u001b[1;36m0.1793762445449829\u001b[0m Statstics: \u001b[1m{\u001b[0m\u001b[32m'logit_target'\u001b[0m:      \u001b[2m                  \u001b[0m\n",
              "\u001b[2;36m                    \u001b[0m         \u001b[1;36m-1.1701440811157227\u001b[0m, \u001b[32m'logit_best_non_target'\u001b[0m: \u001b[1;36m-0.9715998768806458\u001b[0m,  \u001b[2m                  \u001b[0m\n",
              "\u001b[2;36m                    \u001b[0m         \u001b[32m'confidence_target'\u001b[0m: \u001b[1;36m0.3103222264716601\u001b[0m, \u001b[32m'confidence_non_target'\u001b[0m:   \u001b[2m                  \u001b[0m\n",
              "\u001b[2;36m                    \u001b[0m         \u001b[1;36m0.3784770368078838\u001b[0m, \u001b[32m'margin'\u001b[0m: \u001b[1;36m-0.06815481033622373\u001b[0m\u001b[1m}\u001b[0m                 \u001b[2m                  \u001b[0m\n",
              "\u001b[2;36m                    \u001b[0m                                                                             \u001b[2m                  \u001b[0m\n"
            ],
            "text/html": [
              "<pre style=\"white-space:pre;overflow-x:auto;line-height:normal;font-family:Menlo,'DejaVu Sans Mono',consolas,'Courier New',monospace\"><span style=\"color: #7fbfbf; text-decoration-color: #7fbfbf\">[01/08/25 18:43:52] </span><span style=\"color: #000080; text-decoration-color: #000080\">INFO    </span>                                                                     <a href=\"file:///content/robustness_of_gnns_at_scale/rgnn_at_scale/attacks/local_prbcd.py\" target=\"_blank\"><span style=\"color: #7f7f7f; text-decoration-color: #7f7f7f\">local_prbcd.py</span></a><span style=\"color: #7f7f7f; text-decoration-color: #7f7f7f\">:</span><a href=\"file:///content/robustness_of_gnns_at_scale/rgnn_at_scale/attacks/local_prbcd.py#113\" target=\"_blank\"><span style=\"color: #7f7f7f; text-decoration-color: #7f7f7f\">113</span></a>\n",
              "<span style=\"color: #7fbfbf; text-decoration-color: #7fbfbf\">                    </span>         Epoch: <span style=\"color: #008080; text-decoration-color: #008080; font-weight: bold\">20</span> Loss: <span style=\"color: #008080; text-decoration-color: #008080; font-weight: bold\">0.1793762445449829</span> Statstics: <span style=\"font-weight: bold\">{</span><span style=\"color: #008000; text-decoration-color: #008000\">'logit_target'</span>:      <span style=\"color: #7f7f7f; text-decoration-color: #7f7f7f\">                  </span>\n",
              "<span style=\"color: #7fbfbf; text-decoration-color: #7fbfbf\">                    </span>         <span style=\"color: #008080; text-decoration-color: #008080; font-weight: bold\">-1.1701440811157227</span>, <span style=\"color: #008000; text-decoration-color: #008000\">'logit_best_non_target'</span>: <span style=\"color: #008080; text-decoration-color: #008080; font-weight: bold\">-0.9715998768806458</span>,  <span style=\"color: #7f7f7f; text-decoration-color: #7f7f7f\">                  </span>\n",
              "<span style=\"color: #7fbfbf; text-decoration-color: #7fbfbf\">                    </span>         <span style=\"color: #008000; text-decoration-color: #008000\">'confidence_target'</span>: <span style=\"color: #008080; text-decoration-color: #008080; font-weight: bold\">0.3103222264716601</span>, <span style=\"color: #008000; text-decoration-color: #008000\">'confidence_non_target'</span>:   <span style=\"color: #7f7f7f; text-decoration-color: #7f7f7f\">                  </span>\n",
              "<span style=\"color: #7fbfbf; text-decoration-color: #7fbfbf\">                    </span>         <span style=\"color: #008080; text-decoration-color: #008080; font-weight: bold\">0.3784770368078838</span>, <span style=\"color: #008000; text-decoration-color: #008000\">'margin'</span>: <span style=\"color: #008080; text-decoration-color: #008080; font-weight: bold\">-0.06815481033622373</span><span style=\"font-weight: bold\">}</span>                 <span style=\"color: #7f7f7f; text-decoration-color: #7f7f7f\">                  </span>\n",
              "<span style=\"color: #7fbfbf; text-decoration-color: #7fbfbf\">                    </span>                                                                             <span style=\"color: #7f7f7f; text-decoration-color: #7f7f7f\">                  </span>\n",
              "</pre>\n"
            ]
          },
          "metadata": {}
        },
        {
          "output_type": "display_data",
          "data": {
            "text/plain": [
              "\u001b[2;36m                   \u001b[0m\u001b[2;36m \u001b[0m\u001b[34mINFO    \u001b[0m Gradient mean \u001b[1;36m0.007672372739762068\u001b[0m std \u001b[1;36m0.015048926696181297\u001b[0m with    \u001b]8;id=63338;file:///content/robustness_of_gnns_at_scale/rgnn_at_scale/attacks/local_prbcd.py\u001b\\\u001b[2mlocal_prbcd.py\u001b[0m\u001b]8;;\u001b\\\u001b[2m:\u001b[0m\u001b]8;id=198179;file:///content/robustness_of_gnns_at_scale/rgnn_at_scale/attacks/local_prbcd.py#114\u001b\\\u001b[2m114\u001b[0m\u001b]8;;\u001b\\\n",
              "\u001b[2;36m                    \u001b[0m         base learning rate \u001b[1;36m0.6000000000000001\u001b[0m                               \u001b[2m                  \u001b[0m\n"
            ],
            "text/html": [
              "<pre style=\"white-space:pre;overflow-x:auto;line-height:normal;font-family:Menlo,'DejaVu Sans Mono',consolas,'Courier New',monospace\"><span style=\"color: #7fbfbf; text-decoration-color: #7fbfbf\">                    </span><span style=\"color: #000080; text-decoration-color: #000080\">INFO    </span> Gradient mean <span style=\"color: #008080; text-decoration-color: #008080; font-weight: bold\">0.007672372739762068</span> std <span style=\"color: #008080; text-decoration-color: #008080; font-weight: bold\">0.015048926696181297</span> with    <a href=\"file:///content/robustness_of_gnns_at_scale/rgnn_at_scale/attacks/local_prbcd.py\" target=\"_blank\"><span style=\"color: #7f7f7f; text-decoration-color: #7f7f7f\">local_prbcd.py</span></a><span style=\"color: #7f7f7f; text-decoration-color: #7f7f7f\">:</span><a href=\"file:///content/robustness_of_gnns_at_scale/rgnn_at_scale/attacks/local_prbcd.py#114\" target=\"_blank\"><span style=\"color: #7f7f7f; text-decoration-color: #7f7f7f\">114</span></a>\n",
              "<span style=\"color: #7fbfbf; text-decoration-color: #7fbfbf\">                    </span>         base learning rate <span style=\"color: #008080; text-decoration-color: #008080; font-weight: bold\">0.6000000000000001</span>                               <span style=\"color: #7f7f7f; text-decoration-color: #7f7f7f\">                  </span>\n",
              "</pre>\n"
            ]
          },
          "metadata": {}
        },
        {
          "output_type": "stream",
          "name": "stderr",
          "text": [
            " 80%|████████  | 40/50 [02:49<00:41,  4.13s/it]"
          ]
        },
        {
          "output_type": "display_data",
          "data": {
            "text/plain": [
              "\u001b[2;36m[01/08/25 18:45:17]\u001b[0m\u001b[2;36m \u001b[0m\u001b[34mINFO    \u001b[0m                                                                     \u001b]8;id=651376;file:///content/robustness_of_gnns_at_scale/rgnn_at_scale/attacks/local_prbcd.py\u001b\\\u001b[2mlocal_prbcd.py\u001b[0m\u001b]8;;\u001b\\\u001b[2m:\u001b[0m\u001b]8;id=414393;file:///content/robustness_of_gnns_at_scale/rgnn_at_scale/attacks/local_prbcd.py#113\u001b\\\u001b[2m113\u001b[0m\u001b]8;;\u001b\\\n",
              "\u001b[2;36m                    \u001b[0m         Epoch: \u001b[1;36m40\u001b[0m Loss: \u001b[1;36m0.3614819049835205\u001b[0m Statstics: \u001b[1m{\u001b[0m\u001b[32m'logit_target'\u001b[0m:      \u001b[2m                  \u001b[0m\n",
              "\u001b[2;36m                    \u001b[0m         \u001b[1;36m-1.287515640258789\u001b[0m, \u001b[32m'logit_best_non_target'\u001b[0m: \u001b[1;36m-0.9148921370506287\u001b[0m,   \u001b[2m                  \u001b[0m\n",
              "\u001b[2;36m                    \u001b[0m         \u001b[32m'confidence_target'\u001b[0m: \u001b[1;36m0.2759555049367097\u001b[0m, \u001b[32m'confidence_non_target'\u001b[0m:   \u001b[2m                  \u001b[0m\n",
              "\u001b[2;36m                    \u001b[0m         \u001b[1;36m0.4005598293253535\u001b[0m, \u001b[32m'margin'\u001b[0m: \u001b[1;36m-0.12460432438864383\u001b[0m\u001b[1m}\u001b[0m                 \u001b[2m                  \u001b[0m\n",
              "\u001b[2;36m                    \u001b[0m                                                                             \u001b[2m                  \u001b[0m\n"
            ],
            "text/html": [
              "<pre style=\"white-space:pre;overflow-x:auto;line-height:normal;font-family:Menlo,'DejaVu Sans Mono',consolas,'Courier New',monospace\"><span style=\"color: #7fbfbf; text-decoration-color: #7fbfbf\">[01/08/25 18:45:17] </span><span style=\"color: #000080; text-decoration-color: #000080\">INFO    </span>                                                                     <a href=\"file:///content/robustness_of_gnns_at_scale/rgnn_at_scale/attacks/local_prbcd.py\" target=\"_blank\"><span style=\"color: #7f7f7f; text-decoration-color: #7f7f7f\">local_prbcd.py</span></a><span style=\"color: #7f7f7f; text-decoration-color: #7f7f7f\">:</span><a href=\"file:///content/robustness_of_gnns_at_scale/rgnn_at_scale/attacks/local_prbcd.py#113\" target=\"_blank\"><span style=\"color: #7f7f7f; text-decoration-color: #7f7f7f\">113</span></a>\n",
              "<span style=\"color: #7fbfbf; text-decoration-color: #7fbfbf\">                    </span>         Epoch: <span style=\"color: #008080; text-decoration-color: #008080; font-weight: bold\">40</span> Loss: <span style=\"color: #008080; text-decoration-color: #008080; font-weight: bold\">0.3614819049835205</span> Statstics: <span style=\"font-weight: bold\">{</span><span style=\"color: #008000; text-decoration-color: #008000\">'logit_target'</span>:      <span style=\"color: #7f7f7f; text-decoration-color: #7f7f7f\">                  </span>\n",
              "<span style=\"color: #7fbfbf; text-decoration-color: #7fbfbf\">                    </span>         <span style=\"color: #008080; text-decoration-color: #008080; font-weight: bold\">-1.287515640258789</span>, <span style=\"color: #008000; text-decoration-color: #008000\">'logit_best_non_target'</span>: <span style=\"color: #008080; text-decoration-color: #008080; font-weight: bold\">-0.9148921370506287</span>,   <span style=\"color: #7f7f7f; text-decoration-color: #7f7f7f\">                  </span>\n",
              "<span style=\"color: #7fbfbf; text-decoration-color: #7fbfbf\">                    </span>         <span style=\"color: #008000; text-decoration-color: #008000\">'confidence_target'</span>: <span style=\"color: #008080; text-decoration-color: #008080; font-weight: bold\">0.2759555049367097</span>, <span style=\"color: #008000; text-decoration-color: #008000\">'confidence_non_target'</span>:   <span style=\"color: #7f7f7f; text-decoration-color: #7f7f7f\">                  </span>\n",
              "<span style=\"color: #7fbfbf; text-decoration-color: #7fbfbf\">                    </span>         <span style=\"color: #008080; text-decoration-color: #008080; font-weight: bold\">0.4005598293253535</span>, <span style=\"color: #008000; text-decoration-color: #008000\">'margin'</span>: <span style=\"color: #008080; text-decoration-color: #008080; font-weight: bold\">-0.12460432438864383</span><span style=\"font-weight: bold\">}</span>                 <span style=\"color: #7f7f7f; text-decoration-color: #7f7f7f\">                  </span>\n",
              "<span style=\"color: #7fbfbf; text-decoration-color: #7fbfbf\">                    </span>                                                                             <span style=\"color: #7f7f7f; text-decoration-color: #7f7f7f\">                  </span>\n",
              "</pre>\n"
            ]
          },
          "metadata": {}
        },
        {
          "output_type": "display_data",
          "data": {
            "text/plain": [
              "\u001b[2;36m                   \u001b[0m\u001b[2;36m \u001b[0m\u001b[34mINFO    \u001b[0m Gradient mean \u001b[1;36m0.009583107195794582\u001b[0m std \u001b[1;36m0.013298843055963516\u001b[0m with    \u001b]8;id=171320;file:///content/robustness_of_gnns_at_scale/rgnn_at_scale/attacks/local_prbcd.py\u001b\\\u001b[2mlocal_prbcd.py\u001b[0m\u001b]8;;\u001b\\\u001b[2m:\u001b[0m\u001b]8;id=484460;file:///content/robustness_of_gnns_at_scale/rgnn_at_scale/attacks/local_prbcd.py#114\u001b\\\u001b[2m114\u001b[0m\u001b]8;;\u001b\\\n",
              "\u001b[2;36m                    \u001b[0m         base learning rate \u001b[1;36m0.6000000000000001\u001b[0m                               \u001b[2m                  \u001b[0m\n"
            ],
            "text/html": [
              "<pre style=\"white-space:pre;overflow-x:auto;line-height:normal;font-family:Menlo,'DejaVu Sans Mono',consolas,'Courier New',monospace\"><span style=\"color: #7fbfbf; text-decoration-color: #7fbfbf\">                    </span><span style=\"color: #000080; text-decoration-color: #000080\">INFO    </span> Gradient mean <span style=\"color: #008080; text-decoration-color: #008080; font-weight: bold\">0.009583107195794582</span> std <span style=\"color: #008080; text-decoration-color: #008080; font-weight: bold\">0.013298843055963516</span> with    <a href=\"file:///content/robustness_of_gnns_at_scale/rgnn_at_scale/attacks/local_prbcd.py\" target=\"_blank\"><span style=\"color: #7f7f7f; text-decoration-color: #7f7f7f\">local_prbcd.py</span></a><span style=\"color: #7f7f7f; text-decoration-color: #7f7f7f\">:</span><a href=\"file:///content/robustness_of_gnns_at_scale/rgnn_at_scale/attacks/local_prbcd.py#114\" target=\"_blank\"><span style=\"color: #7f7f7f; text-decoration-color: #7f7f7f\">114</span></a>\n",
              "<span style=\"color: #7fbfbf; text-decoration-color: #7fbfbf\">                    </span>         base learning rate <span style=\"color: #008080; text-decoration-color: #008080; font-weight: bold\">0.6000000000000001</span>                               <span style=\"color: #7f7f7f; text-decoration-color: #7f7f7f\">                  </span>\n",
              "</pre>\n"
            ]
          },
          "metadata": {}
        },
        {
          "output_type": "stream",
          "name": "stderr",
          "text": [
            "100%|██████████| 50/50 [03:32<00:00,  4.25s/it]\n"
          ]
        },
        {
          "output_type": "display_data",
          "data": {
            "text/plain": [
              "\u001b[2;36m[01/08/25 18:46:12]\u001b[0m\u001b[2;36m \u001b[0m\u001b[34mINFO    \u001b[0m Evaluated model Vanilla GCN using LocalPRBCD     \u001b]8;id=970983;file:///content/robustness_of_gnns_at_scale/experiments/experiment_local_attack_direct.py\u001b\\\u001b[2mexperiment_local_attack_direct.py\u001b[0m\u001b]8;;\u001b\\\u001b[2m:\u001b[0m\u001b]8;id=617870;file:///content/robustness_of_gnns_at_scale/experiments/experiment_local_attack_direct.py#194\u001b\\\u001b[2m194\u001b[0m\u001b]8;;\u001b\\\n",
              "\u001b[2;36m                    \u001b[0m         with pert. edges for node \u001b[1;36m2487\u001b[0m and budget \u001b[1;36m12\u001b[0m:    \u001b[2m                                     \u001b[0m\n"
            ],
            "text/html": [
              "<pre style=\"white-space:pre;overflow-x:auto;line-height:normal;font-family:Menlo,'DejaVu Sans Mono',consolas,'Courier New',monospace\"><span style=\"color: #7fbfbf; text-decoration-color: #7fbfbf\">[01/08/25 18:46:12] </span><span style=\"color: #000080; text-decoration-color: #000080\">INFO    </span> Evaluated model Vanilla GCN using LocalPRBCD     <a href=\"file:///content/robustness_of_gnns_at_scale/experiments/experiment_local_attack_direct.py\" target=\"_blank\"><span style=\"color: #7f7f7f; text-decoration-color: #7f7f7f\">experiment_local_attack_direct.py</span></a><span style=\"color: #7f7f7f; text-decoration-color: #7f7f7f\">:</span><a href=\"file:///content/robustness_of_gnns_at_scale/experiments/experiment_local_attack_direct.py#194\" target=\"_blank\"><span style=\"color: #7f7f7f; text-decoration-color: #7f7f7f\">194</span></a>\n",
              "<span style=\"color: #7fbfbf; text-decoration-color: #7fbfbf\">                    </span>         with pert. edges for node <span style=\"color: #008080; text-decoration-color: #008080; font-weight: bold\">2487</span> and budget <span style=\"color: #008080; text-decoration-color: #008080; font-weight: bold\">12</span>:    <span style=\"color: #7f7f7f; text-decoration-color: #7f7f7f\">                                     </span>\n",
              "</pre>\n"
            ]
          },
          "metadata": {}
        },
        {
          "output_type": "display_data",
          "data": {
            "text/plain": [
              "\u001b[2;36m                   \u001b[0m\u001b[2;36m \u001b[0m\u001b[34mINFO    \u001b[0m \u001b[1m{\u001b[0m\u001b[32m'label'\u001b[0m: \u001b[32m'Vanilla GCN'\u001b[0m, \u001b[32m'epsilon'\u001b[0m: \u001b[1;36m1\u001b[0m,           \u001b]8;id=37430;file:///content/robustness_of_gnns_at_scale/experiments/experiment_local_attack_direct.py\u001b\\\u001b[2mexperiment_local_attack_direct.py\u001b[0m\u001b]8;;\u001b\\\u001b[2m:\u001b[0m\u001b]8;id=521349;file:///content/robustness_of_gnns_at_scale/experiments/experiment_local_attack_direct.py#215\u001b\\\u001b[2m215\u001b[0m\u001b]8;;\u001b\\\n",
              "\u001b[2;36m                    \u001b[0m         \u001b[32m'n_perturbations'\u001b[0m: \u001b[1;36m12\u001b[0m, \u001b[32m'degree'\u001b[0m: \u001b[1;36m12\u001b[0m, \u001b[32m'logits'\u001b[0m:   \u001b[2m                                     \u001b[0m\n",
              "\u001b[2;36m                    \u001b[0m         \u001b[1m[\u001b[0m\u001b[1m[\u001b[0m\u001b[1;36m0.554553747177124\u001b[0m, \u001b[1;36m0.5581331849098206\u001b[0m,         \u001b[2m                                     \u001b[0m\n",
              "\u001b[2;36m                    \u001b[0m         \u001b[1;36m-0.9872190356254578\u001b[0m, \u001b[1;36m-0.5967338681221008\u001b[0m,        \u001b[2m                                     \u001b[0m\n",
              "\u001b[2;36m                    \u001b[0m         \u001b[1;36m-0.48811158537864685\u001b[0m, \u001b[1;36m1.1900269985198975\u001b[0m,        \u001b[2m                                     \u001b[0m\n",
              "\u001b[2;36m                    \u001b[0m         \u001b[1;36m-0.43061041831970215\u001b[0m\u001b[1m]\u001b[0m\u001b[1m]\u001b[0m, \u001b[32m'initial_logits'\u001b[0m:        \u001b[2m                                     \u001b[0m\n",
              "\u001b[2;36m                    \u001b[0m         \u001b[1m[\u001b[0m\u001b[1m[\u001b[0m\u001b[1;36m-0.059881970286369324\u001b[0m, \u001b[1;36m2.1164934635162354\u001b[0m,     \u001b[2m                                     \u001b[0m\n",
              "\u001b[2;36m                    \u001b[0m         \u001b[1;36m-1.3835606575012207\u001b[0m, \u001b[1;36m-0.39856162667274475\u001b[0m,       \u001b[2m                                     \u001b[0m\n",
              "\u001b[2;36m                    \u001b[0m         \u001b[1;36m-0.564391016960144\u001b[0m, \u001b[1;36m0.7919420599937439\u001b[0m,          \u001b[2m                                     \u001b[0m\n",
              "\u001b[2;36m                    \u001b[0m         \u001b[1;36m-0.7112410068511963\u001b[0m\u001b[1m]\u001b[0m\u001b[1m]\u001b[0m, \u001b[32m'larget'\u001b[0m: \u001b[1;36m1\u001b[0m, \u001b[32m'node_id'\u001b[0m:   \u001b[2m                                     \u001b[0m\n",
              "\u001b[2;36m                    \u001b[0m         \u001b[1;36m2487\u001b[0m, \u001b[32m'perturbed_edges'\u001b[0m: \u001b[1m[\u001b[0m\u001b[1m[\u001b[0m\u001b[1;36m2487\u001b[0m, \u001b[1;36m2487\u001b[0m, \u001b[1;36m2487\u001b[0m,     \u001b[2m                                     \u001b[0m\n",
              "\u001b[2;36m                    \u001b[0m         \u001b[1;36m2487\u001b[0m, \u001b[1;36m2487\u001b[0m, \u001b[1;36m2487\u001b[0m, \u001b[1;36m2487\u001b[0m, \u001b[1;36m2487\u001b[0m, \u001b[1;36m2487\u001b[0m, \u001b[1;36m2487\u001b[0m\u001b[1m]\u001b[0m, \u001b[1m[\u001b[0m\u001b[1;36m689\u001b[0m, \u001b[2m                                     \u001b[0m\n",
              "\u001b[2;36m                    \u001b[0m         \u001b[1;36m1103\u001b[0m, \u001b[1;36m1205\u001b[0m, \u001b[1;36m1227\u001b[0m, \u001b[1;36m1267\u001b[0m, \u001b[1;36m1344\u001b[0m, \u001b[1;36m1817\u001b[0m, \u001b[1;36m2227\u001b[0m, \u001b[1;36m2385\u001b[0m,  \u001b[2m                                     \u001b[0m\n",
              "\u001b[2;36m                    \u001b[0m         \u001b[1;36m2551\u001b[0m\u001b[1m]\u001b[0m\u001b[1m]\u001b[0m, \u001b[32m'logit_target'\u001b[0m: \u001b[1;36m-1.634955644607544\u001b[0m,      \u001b[2m                                     \u001b[0m\n",
              "\u001b[2;36m                    \u001b[0m         \u001b[32m'logit_best_non_target'\u001b[0m: \u001b[1;36m-1.0030618906021118\u001b[0m,    \u001b[2m                                     \u001b[0m\n",
              "\u001b[2;36m                    \u001b[0m         \u001b[32m'confidence_target'\u001b[0m: \u001b[1;36m0.19496101867989926\u001b[0m,        \u001b[2m                                     \u001b[0m\n",
              "\u001b[2;36m                    \u001b[0m         \u001b[32m'confidence_non_target'\u001b[0m: \u001b[1;36m0.3667547572760097\u001b[0m,     \u001b[2m                                     \u001b[0m\n",
              "\u001b[2;36m                    \u001b[0m         \u001b[32m'margin'\u001b[0m: \u001b[1;36m-0.17179373859611044\u001b[0m,                  \u001b[2m                                     \u001b[0m\n",
              "\u001b[2;36m                    \u001b[0m         \u001b[32m'initial_logit_target'\u001b[0m: \u001b[1;36m-0.4812387228012085\u001b[0m,     \u001b[2m                                     \u001b[0m\n",
              "\u001b[2;36m                    \u001b[0m         \u001b[32m'initial_logit_best_non_target'\u001b[0m:                 \u001b[2m                                     \u001b[0m\n",
              "\u001b[2;36m                    \u001b[0m         \u001b[1;36m-1.8057900667190552\u001b[0m,                             \u001b[2m                                     \u001b[0m\n",
              "\u001b[2;36m                    \u001b[0m         \u001b[32m'initial_confidence_target'\u001b[0m: \u001b[1;36m0.6180173652549306\u001b[0m, \u001b[2m                                     \u001b[0m\n",
              "\u001b[2;36m                    \u001b[0m         \u001b[32m'initial_confidence_non_target'\u001b[0m:                 \u001b[2m                                     \u001b[0m\n",
              "\u001b[2;36m                    \u001b[0m         \u001b[1;36m0.16434456210228612\u001b[0m, \u001b[32m'initial_margin'\u001b[0m:           \u001b[2m                                     \u001b[0m\n",
              "\u001b[2;36m                    \u001b[0m         \u001b[1;36m0.45367280315264447\u001b[0m\u001b[1m}\u001b[0m                             \u001b[2m                                     \u001b[0m\n"
            ],
            "text/html": [
              "<pre style=\"white-space:pre;overflow-x:auto;line-height:normal;font-family:Menlo,'DejaVu Sans Mono',consolas,'Courier New',monospace\"><span style=\"color: #7fbfbf; text-decoration-color: #7fbfbf\">                    </span><span style=\"color: #000080; text-decoration-color: #000080\">INFO    </span> <span style=\"font-weight: bold\">{</span><span style=\"color: #008000; text-decoration-color: #008000\">'label'</span>: <span style=\"color: #008000; text-decoration-color: #008000\">'Vanilla GCN'</span>, <span style=\"color: #008000; text-decoration-color: #008000\">'epsilon'</span>: <span style=\"color: #008080; text-decoration-color: #008080; font-weight: bold\">1</span>,           <a href=\"file:///content/robustness_of_gnns_at_scale/experiments/experiment_local_attack_direct.py\" target=\"_blank\"><span style=\"color: #7f7f7f; text-decoration-color: #7f7f7f\">experiment_local_attack_direct.py</span></a><span style=\"color: #7f7f7f; text-decoration-color: #7f7f7f\">:</span><a href=\"file:///content/robustness_of_gnns_at_scale/experiments/experiment_local_attack_direct.py#215\" target=\"_blank\"><span style=\"color: #7f7f7f; text-decoration-color: #7f7f7f\">215</span></a>\n",
              "<span style=\"color: #7fbfbf; text-decoration-color: #7fbfbf\">                    </span>         <span style=\"color: #008000; text-decoration-color: #008000\">'n_perturbations'</span>: <span style=\"color: #008080; text-decoration-color: #008080; font-weight: bold\">12</span>, <span style=\"color: #008000; text-decoration-color: #008000\">'degree'</span>: <span style=\"color: #008080; text-decoration-color: #008080; font-weight: bold\">12</span>, <span style=\"color: #008000; text-decoration-color: #008000\">'logits'</span>:   <span style=\"color: #7f7f7f; text-decoration-color: #7f7f7f\">                                     </span>\n",
              "<span style=\"color: #7fbfbf; text-decoration-color: #7fbfbf\">                    </span>         <span style=\"font-weight: bold\">[[</span><span style=\"color: #008080; text-decoration-color: #008080; font-weight: bold\">0.554553747177124</span>, <span style=\"color: #008080; text-decoration-color: #008080; font-weight: bold\">0.5581331849098206</span>,         <span style=\"color: #7f7f7f; text-decoration-color: #7f7f7f\">                                     </span>\n",
              "<span style=\"color: #7fbfbf; text-decoration-color: #7fbfbf\">                    </span>         <span style=\"color: #008080; text-decoration-color: #008080; font-weight: bold\">-0.9872190356254578</span>, <span style=\"color: #008080; text-decoration-color: #008080; font-weight: bold\">-0.5967338681221008</span>,        <span style=\"color: #7f7f7f; text-decoration-color: #7f7f7f\">                                     </span>\n",
              "<span style=\"color: #7fbfbf; text-decoration-color: #7fbfbf\">                    </span>         <span style=\"color: #008080; text-decoration-color: #008080; font-weight: bold\">-0.48811158537864685</span>, <span style=\"color: #008080; text-decoration-color: #008080; font-weight: bold\">1.1900269985198975</span>,        <span style=\"color: #7f7f7f; text-decoration-color: #7f7f7f\">                                     </span>\n",
              "<span style=\"color: #7fbfbf; text-decoration-color: #7fbfbf\">                    </span>         <span style=\"color: #008080; text-decoration-color: #008080; font-weight: bold\">-0.43061041831970215</span><span style=\"font-weight: bold\">]]</span>, <span style=\"color: #008000; text-decoration-color: #008000\">'initial_logits'</span>:        <span style=\"color: #7f7f7f; text-decoration-color: #7f7f7f\">                                     </span>\n",
              "<span style=\"color: #7fbfbf; text-decoration-color: #7fbfbf\">                    </span>         <span style=\"font-weight: bold\">[[</span><span style=\"color: #008080; text-decoration-color: #008080; font-weight: bold\">-0.059881970286369324</span>, <span style=\"color: #008080; text-decoration-color: #008080; font-weight: bold\">2.1164934635162354</span>,     <span style=\"color: #7f7f7f; text-decoration-color: #7f7f7f\">                                     </span>\n",
              "<span style=\"color: #7fbfbf; text-decoration-color: #7fbfbf\">                    </span>         <span style=\"color: #008080; text-decoration-color: #008080; font-weight: bold\">-1.3835606575012207</span>, <span style=\"color: #008080; text-decoration-color: #008080; font-weight: bold\">-0.39856162667274475</span>,       <span style=\"color: #7f7f7f; text-decoration-color: #7f7f7f\">                                     </span>\n",
              "<span style=\"color: #7fbfbf; text-decoration-color: #7fbfbf\">                    </span>         <span style=\"color: #008080; text-decoration-color: #008080; font-weight: bold\">-0.564391016960144</span>, <span style=\"color: #008080; text-decoration-color: #008080; font-weight: bold\">0.7919420599937439</span>,          <span style=\"color: #7f7f7f; text-decoration-color: #7f7f7f\">                                     </span>\n",
              "<span style=\"color: #7fbfbf; text-decoration-color: #7fbfbf\">                    </span>         <span style=\"color: #008080; text-decoration-color: #008080; font-weight: bold\">-0.7112410068511963</span><span style=\"font-weight: bold\">]]</span>, <span style=\"color: #008000; text-decoration-color: #008000\">'larget'</span>: <span style=\"color: #008080; text-decoration-color: #008080; font-weight: bold\">1</span>, <span style=\"color: #008000; text-decoration-color: #008000\">'node_id'</span>:   <span style=\"color: #7f7f7f; text-decoration-color: #7f7f7f\">                                     </span>\n",
              "<span style=\"color: #7fbfbf; text-decoration-color: #7fbfbf\">                    </span>         <span style=\"color: #008080; text-decoration-color: #008080; font-weight: bold\">2487</span>, <span style=\"color: #008000; text-decoration-color: #008000\">'perturbed_edges'</span>: <span style=\"font-weight: bold\">[[</span><span style=\"color: #008080; text-decoration-color: #008080; font-weight: bold\">2487</span>, <span style=\"color: #008080; text-decoration-color: #008080; font-weight: bold\">2487</span>, <span style=\"color: #008080; text-decoration-color: #008080; font-weight: bold\">2487</span>,     <span style=\"color: #7f7f7f; text-decoration-color: #7f7f7f\">                                     </span>\n",
              "<span style=\"color: #7fbfbf; text-decoration-color: #7fbfbf\">                    </span>         <span style=\"color: #008080; text-decoration-color: #008080; font-weight: bold\">2487</span>, <span style=\"color: #008080; text-decoration-color: #008080; font-weight: bold\">2487</span>, <span style=\"color: #008080; text-decoration-color: #008080; font-weight: bold\">2487</span>, <span style=\"color: #008080; text-decoration-color: #008080; font-weight: bold\">2487</span>, <span style=\"color: #008080; text-decoration-color: #008080; font-weight: bold\">2487</span>, <span style=\"color: #008080; text-decoration-color: #008080; font-weight: bold\">2487</span>, <span style=\"color: #008080; text-decoration-color: #008080; font-weight: bold\">2487</span><span style=\"font-weight: bold\">]</span>, <span style=\"font-weight: bold\">[</span><span style=\"color: #008080; text-decoration-color: #008080; font-weight: bold\">689</span>, <span style=\"color: #7f7f7f; text-decoration-color: #7f7f7f\">                                     </span>\n",
              "<span style=\"color: #7fbfbf; text-decoration-color: #7fbfbf\">                    </span>         <span style=\"color: #008080; text-decoration-color: #008080; font-weight: bold\">1103</span>, <span style=\"color: #008080; text-decoration-color: #008080; font-weight: bold\">1205</span>, <span style=\"color: #008080; text-decoration-color: #008080; font-weight: bold\">1227</span>, <span style=\"color: #008080; text-decoration-color: #008080; font-weight: bold\">1267</span>, <span style=\"color: #008080; text-decoration-color: #008080; font-weight: bold\">1344</span>, <span style=\"color: #008080; text-decoration-color: #008080; font-weight: bold\">1817</span>, <span style=\"color: #008080; text-decoration-color: #008080; font-weight: bold\">2227</span>, <span style=\"color: #008080; text-decoration-color: #008080; font-weight: bold\">2385</span>,  <span style=\"color: #7f7f7f; text-decoration-color: #7f7f7f\">                                     </span>\n",
              "<span style=\"color: #7fbfbf; text-decoration-color: #7fbfbf\">                    </span>         <span style=\"color: #008080; text-decoration-color: #008080; font-weight: bold\">2551</span><span style=\"font-weight: bold\">]]</span>, <span style=\"color: #008000; text-decoration-color: #008000\">'logit_target'</span>: <span style=\"color: #008080; text-decoration-color: #008080; font-weight: bold\">-1.634955644607544</span>,      <span style=\"color: #7f7f7f; text-decoration-color: #7f7f7f\">                                     </span>\n",
              "<span style=\"color: #7fbfbf; text-decoration-color: #7fbfbf\">                    </span>         <span style=\"color: #008000; text-decoration-color: #008000\">'logit_best_non_target'</span>: <span style=\"color: #008080; text-decoration-color: #008080; font-weight: bold\">-1.0030618906021118</span>,    <span style=\"color: #7f7f7f; text-decoration-color: #7f7f7f\">                                     </span>\n",
              "<span style=\"color: #7fbfbf; text-decoration-color: #7fbfbf\">                    </span>         <span style=\"color: #008000; text-decoration-color: #008000\">'confidence_target'</span>: <span style=\"color: #008080; text-decoration-color: #008080; font-weight: bold\">0.19496101867989926</span>,        <span style=\"color: #7f7f7f; text-decoration-color: #7f7f7f\">                                     </span>\n",
              "<span style=\"color: #7fbfbf; text-decoration-color: #7fbfbf\">                    </span>         <span style=\"color: #008000; text-decoration-color: #008000\">'confidence_non_target'</span>: <span style=\"color: #008080; text-decoration-color: #008080; font-weight: bold\">0.3667547572760097</span>,     <span style=\"color: #7f7f7f; text-decoration-color: #7f7f7f\">                                     </span>\n",
              "<span style=\"color: #7fbfbf; text-decoration-color: #7fbfbf\">                    </span>         <span style=\"color: #008000; text-decoration-color: #008000\">'margin'</span>: <span style=\"color: #008080; text-decoration-color: #008080; font-weight: bold\">-0.17179373859611044</span>,                  <span style=\"color: #7f7f7f; text-decoration-color: #7f7f7f\">                                     </span>\n",
              "<span style=\"color: #7fbfbf; text-decoration-color: #7fbfbf\">                    </span>         <span style=\"color: #008000; text-decoration-color: #008000\">'initial_logit_target'</span>: <span style=\"color: #008080; text-decoration-color: #008080; font-weight: bold\">-0.4812387228012085</span>,     <span style=\"color: #7f7f7f; text-decoration-color: #7f7f7f\">                                     </span>\n",
              "<span style=\"color: #7fbfbf; text-decoration-color: #7fbfbf\">                    </span>         <span style=\"color: #008000; text-decoration-color: #008000\">'initial_logit_best_non_target'</span>:                 <span style=\"color: #7f7f7f; text-decoration-color: #7f7f7f\">                                     </span>\n",
              "<span style=\"color: #7fbfbf; text-decoration-color: #7fbfbf\">                    </span>         <span style=\"color: #008080; text-decoration-color: #008080; font-weight: bold\">-1.8057900667190552</span>,                             <span style=\"color: #7f7f7f; text-decoration-color: #7f7f7f\">                                     </span>\n",
              "<span style=\"color: #7fbfbf; text-decoration-color: #7fbfbf\">                    </span>         <span style=\"color: #008000; text-decoration-color: #008000\">'initial_confidence_target'</span>: <span style=\"color: #008080; text-decoration-color: #008080; font-weight: bold\">0.6180173652549306</span>, <span style=\"color: #7f7f7f; text-decoration-color: #7f7f7f\">                                     </span>\n",
              "<span style=\"color: #7fbfbf; text-decoration-color: #7fbfbf\">                    </span>         <span style=\"color: #008000; text-decoration-color: #008000\">'initial_confidence_non_target'</span>:                 <span style=\"color: #7f7f7f; text-decoration-color: #7f7f7f\">                                     </span>\n",
              "<span style=\"color: #7fbfbf; text-decoration-color: #7fbfbf\">                    </span>         <span style=\"color: #008080; text-decoration-color: #008080; font-weight: bold\">0.16434456210228612</span>, <span style=\"color: #008000; text-decoration-color: #008000\">'initial_margin'</span>:           <span style=\"color: #7f7f7f; text-decoration-color: #7f7f7f\">                                     </span>\n",
              "<span style=\"color: #7fbfbf; text-decoration-color: #7fbfbf\">                    </span>         <span style=\"color: #008080; text-decoration-color: #008080; font-weight: bold\">0.45367280315264447</span><span style=\"font-weight: bold\">}</span>                             <span style=\"color: #7f7f7f; text-decoration-color: #7f7f7f\">                                     </span>\n",
              "</pre>\n"
            ]
          },
          "metadata": {}
        },
        {
          "output_type": "display_data",
          "data": {
            "text/plain": [
              "\u001b[2;36m                   \u001b[0m\u001b[2;36m \u001b[0m\u001b[34mINFO    \u001b[0m Completed attack and evaluation of Vanilla GCN   \u001b]8;id=157966;file:///content/robustness_of_gnns_at_scale/experiments/experiment_local_attack_direct.py\u001b\\\u001b[2mexperiment_local_attack_direct.py\u001b[0m\u001b]8;;\u001b\\\u001b[2m:\u001b[0m\u001b]8;id=927334;file:///content/robustness_of_gnns_at_scale/experiments/experiment_local_attack_direct.py#216\u001b\\\u001b[2m216\u001b[0m\u001b]8;;\u001b\\\n",
              "\u001b[2;36m                    \u001b[0m         using LocalPRBCD with pert. edges for node \u001b[1;36m2487\u001b[0m  \u001b[2m                                     \u001b[0m\n",
              "\u001b[2;36m                    \u001b[0m         and budget \u001b[1;36m12\u001b[0m                                    \u001b[2m                                     \u001b[0m\n"
            ],
            "text/html": [
              "<pre style=\"white-space:pre;overflow-x:auto;line-height:normal;font-family:Menlo,'DejaVu Sans Mono',consolas,'Courier New',monospace\"><span style=\"color: #7fbfbf; text-decoration-color: #7fbfbf\">                    </span><span style=\"color: #000080; text-decoration-color: #000080\">INFO    </span> Completed attack and evaluation of Vanilla GCN   <a href=\"file:///content/robustness_of_gnns_at_scale/experiments/experiment_local_attack_direct.py\" target=\"_blank\"><span style=\"color: #7f7f7f; text-decoration-color: #7f7f7f\">experiment_local_attack_direct.py</span></a><span style=\"color: #7f7f7f; text-decoration-color: #7f7f7f\">:</span><a href=\"file:///content/robustness_of_gnns_at_scale/experiments/experiment_local_attack_direct.py#216\" target=\"_blank\"><span style=\"color: #7f7f7f; text-decoration-color: #7f7f7f\">216</span></a>\n",
              "<span style=\"color: #7fbfbf; text-decoration-color: #7fbfbf\">                    </span>         using LocalPRBCD with pert. edges for node <span style=\"color: #008080; text-decoration-color: #008080; font-weight: bold\">2487</span>  <span style=\"color: #7f7f7f; text-decoration-color: #7f7f7f\">                                     </span>\n",
              "<span style=\"color: #7fbfbf; text-decoration-color: #7fbfbf\">                    </span>         and budget <span style=\"color: #008080; text-decoration-color: #008080; font-weight: bold\">12</span>                                    <span style=\"color: #7f7f7f; text-decoration-color: #7f7f7f\">                                     </span>\n",
              "</pre>\n"
            ]
          },
          "metadata": {}
        }
      ]
    },
    {
      "cell_type": "code",
      "source": [
        "n_change = 0\n",
        "for node in local_prbcd_statistics['results']:\n",
        "    if node['margin'] < 0:\n",
        "        n_change += 1\n",
        "flipped_ratio =  n_change / len(local_prbcd_statistics['results'])\n",
        "print(f'Percentage of changed node predictions : {100*flipped_ratio:.2f}%')"
      ],
      "metadata": {
        "colab": {
          "base_uri": "https://localhost:8080/"
        },
        "id": "Saio7dZwlulQ",
        "outputId": "8dd69aa3-53c7-4dc7-9d5a-e7294d7ec13b"
      },
      "execution_count": 7,
      "outputs": [
        {
          "output_type": "stream",
          "name": "stdout",
          "text": [
            "Percentage of changed node predictions : 100.00%\n"
          ]
        }
      ]
    },
    {
      "cell_type": "markdown",
      "source": [
        "### 2.2 Global PR-BCD Attack\n",
        "\n",
        "Now let's do the same with a non-local `PR-BCD` attack. For this, we use [experiments/experiment_global_attack_direct.py](https://github.com/sigeisler/robustness_of_gnns_at_scale/blob/main/experiments/experiment_global_attack_direct.py#L63)."
      ],
      "metadata": {
        "id": "UMtpxI6cCkwz"
      }
    },
    {
      "cell_type": "code",
      "source": [
        "global_prbcd_statistics = experiment_global_attack_direct.run(\n",
        "    data_dir = './data',\n",
        "    dataset = 'cora_ml',\n",
        "    attack = 'PRBCD',\n",
        "    attack_params = dict(\n",
        "        epochs=500,\n",
        "        fine_tune_epochs=100,\n",
        "        keep_heuristic=\"WeightOnly\",\n",
        "        search_space_size=100_000,\n",
        "        do_synchronize=True,\n",
        "        loss_type=\"tanhMargin\",\n",
        "    ),\n",
        "    epsilons = [0.25],\n",
        "    binary_attr = False,\n",
        "    make_undirected = True,\n",
        "    seed=0,\n",
        "    artifact_dir = 'cache',\n",
        "    pert_adj_storage_type = 'evasion_global_adj',\n",
        "    pert_attr_storage_type = 'evasion_global_attr',\n",
        "    model_label = 'Vanilla GCN',\n",
        "    model_storage_type = 'demo',\n",
        "    #device = 0,\n",
        "    #data_device = 0,\n",
        "    device = \"cpu\",\n",
        "    data_device = \"cpu\",\n",
        "    debug_level = \"info\"\n",
        ")\n",
        "\n",
        "print(global_prbcd_statistics)"
      ],
      "metadata": {
        "colab": {
          "base_uri": "https://localhost:8080/"
        },
        "id": "NdZaHYI8Had1",
        "outputId": "a7ae6789-4241-432f-ea5d-8a4dd9f268c1"
      },
      "execution_count": null,
      "outputs": [
        {
          "output_type": "stream",
          "name": "stderr",
          "text": [
            "2022-04-20 17:20:10 (INFO): {'dataset': 'cora_ml', 'attack': 'PRBCD', 'attack_params': {'epochs': 500, 'fine_tune_epochs': 100, 'keep_heuristic': 'WeightOnly', 'search_space_size': 100000, 'do_synchronize': True, 'loss_type': 'tanhMargin'}, 'epsilons': [0.25], 'make_undirected': True, 'binary_attr': False, 'seed': 0, 'artifact_dir': 'cache', 'pert_adj_storage_type': 'evasion_global_adj', 'pert_attr_storage_type': 'evasion_global_attr', 'model_label': 'Vanilla GCN', 'model_storage_type': 'demo', 'device': 0, 'data_device': 0}\n",
            "2022-04-20 17:20:10 (INFO): Lock 139753343279952 acquired on cache/demo.json.lock\n",
            "2022-04-20 17:20:10 (INFO): Lock 139753343279952 released on cache/demo.json.lock\n",
            "2022-04-20 17:20:10 (INFO): Evaluate  PRBCD for model 'Vanilla GCN'.\n",
            "2022-04-20 17:20:10 (INFO): Lock 139753348178960 acquired on cache/evasion_global_adj.json.lock\n",
            "2022-04-20 17:20:10 (INFO): Lock 139753348178960 released on cache/evasion_global_adj.json.lock\n",
            "2022-04-20 17:20:10 (INFO): Lock 139753343380240 acquired on cache/evasion_global_attr.json.lock\n",
            "2022-04-20 17:20:10 (INFO): Lock 139753343380240 released on cache/evasion_global_attr.json.lock\n",
            "2022-04-20 17:20:10 (INFO): No cached perturbations found for model 'Vanilla GCN' and eps 0.25. Execute attack...\n",
            "/content/robustness_of_gnns_at_scale/rgnn_at_scale/attacks/prbcd.py:390: UserWarning: __floordiv__ is deprecated, and its behavior will change in a future version of pytorch. It currently rounds toward 0 (like the 'trunc' function NOT 'floor'). This results in incorrect rounding for negative values. To keep the current behavior, use torch.div(a, b, rounding_mode='trunc'), or for actual floor division, use torch.div(a, b, rounding_mode='floor').\n",
            "  + (n - row_idx) * ((n - row_idx) - 1) // 2\n",
            "2022-04-20 17:20:10 (INFO): \n",
            "Before the attack - Loss: -0.6328519582748413 Accuracy: 81.897 %\n",
            "\n",
            "  0%|          | 0/500 [00:00<?, ?it/s]2022-04-20 17:20:10 (INFO): \n",
            "Epoch: 0 Loss: -0.6328585743904114 Accuracy: 79.842 %\n",
            "\n",
            "  4%|▍         | 20/500 [00:09<03:41,  2.17it/s]2022-04-20 17:20:20 (INFO): \n",
            "Epoch: 20 Loss: -0.22307348251342773 Accuracy: 59.684 %\n",
            "\n",
            "  8%|▊         | 40/500 [00:18<03:34,  2.15it/s]2022-04-20 17:20:29 (INFO): \n",
            "Epoch: 40 Loss: -0.14409580826759338 Accuracy: 55.850 %\n",
            "\n",
            " 12%|█▏        | 60/500 [00:27<03:25,  2.14it/s]2022-04-20 17:20:38 (INFO): \n",
            "Epoch: 60 Loss: -0.10556499660015106 Accuracy: 53.874 %\n",
            "\n",
            " 16%|█▌        | 80/500 [00:37<03:15,  2.15it/s]2022-04-20 17:20:48 (INFO): \n",
            "Epoch: 80 Loss: -0.0825229361653328 Accuracy: 52.806 %\n",
            "\n",
            " 20%|██        | 100/500 [00:46<03:06,  2.15it/s]2022-04-20 17:20:57 (INFO): \n",
            "Epoch: 100 Loss: -0.06486526876688004 Accuracy: 51.739 %\n",
            "\n",
            " 24%|██▍       | 120/500 [00:55<02:56,  2.15it/s]2022-04-20 17:21:06 (INFO): \n",
            "Epoch: 120 Loss: -0.05522513762116432 Accuracy: 51.462 %\n",
            "\n",
            " 28%|██▊       | 140/500 [01:05<02:46,  2.16it/s]2022-04-20 17:21:15 (INFO): \n",
            "Epoch: 140 Loss: -0.047237370163202286 Accuracy: 51.107 %\n",
            "\n",
            " 32%|███▏      | 160/500 [01:14<02:37,  2.16it/s]2022-04-20 17:21:25 (INFO): \n",
            "Epoch: 160 Loss: -0.040592119097709656 Accuracy: 50.830 %\n",
            "\n",
            " 36%|███▌      | 180/500 [01:23<02:28,  2.15it/s]2022-04-20 17:21:34 (INFO): \n",
            "Epoch: 180 Loss: -0.034754399210214615 Accuracy: 50.553 %\n",
            "\n",
            " 40%|████      | 200/500 [01:32<02:19,  2.16it/s]2022-04-20 17:21:43 (INFO): \n",
            "Epoch: 200 Loss: -0.03062034584581852 Accuracy: 50.474 %\n",
            "\n",
            " 44%|████▍     | 220/500 [01:42<02:10,  2.15it/s]2022-04-20 17:21:53 (INFO): \n",
            "Epoch: 220 Loss: -0.02545083872973919 Accuracy: 50.158 %\n",
            "\n",
            " 48%|████▊     | 240/500 [01:51<02:00,  2.16it/s]2022-04-20 17:22:02 (INFO): \n",
            "Epoch: 240 Loss: -0.0212431401014328 Accuracy: 50.040 %\n",
            "\n",
            " 52%|█████▏    | 260/500 [02:00<01:51,  2.15it/s]2022-04-20 17:22:11 (INFO): \n",
            "Epoch: 260 Loss: -0.01878266967833042 Accuracy: 50.040 %\n",
            "\n",
            " 56%|█████▌    | 280/500 [02:10<01:42,  2.15it/s]2022-04-20 17:22:21 (INFO): \n",
            "Epoch: 280 Loss: -0.015112004242837429 Accuracy: 49.842 %\n",
            "\n",
            " 60%|██████    | 300/500 [02:19<01:33,  2.15it/s]2022-04-20 17:22:30 (INFO): \n",
            "Epoch: 300 Loss: -0.012265353463590145 Accuracy: 49.763 %\n",
            "\n",
            " 64%|██████▍   | 320/500 [02:28<01:23,  2.15it/s]2022-04-20 17:22:39 (INFO): \n",
            "Epoch: 320 Loss: -0.00933982152491808 Accuracy: 49.605 %\n",
            "\n",
            " 68%|██████▊   | 340/500 [02:37<01:14,  2.15it/s]2022-04-20 17:22:48 (INFO): \n",
            "Epoch: 340 Loss: -0.0069371541030704975 Accuracy: 49.486 %\n",
            "\n",
            " 72%|███████▏  | 360/500 [02:47<01:04,  2.16it/s]2022-04-20 17:22:58 (INFO): \n",
            "Epoch: 360 Loss: -0.0027672688011080027 Accuracy: 49.249 %\n",
            "\n",
            " 76%|███████▌  | 380/500 [02:56<00:55,  2.15it/s]2022-04-20 17:23:07 (INFO): \n",
            "Epoch: 380 Loss: -0.0014131824718788266 Accuracy: 49.209 %\n",
            "\n",
            " 80%|███████▉  | 399/500 [03:05<00:46,  2.16it/s]2022-04-20 17:23:16 (INFO): Loading search space of epoch 382 (accuarcy=0.49169960618019104) for fine tuning\n",
            "\n",
            " 80%|████████  | 400/500 [03:05<00:46,  2.16it/s]2022-04-20 17:23:16 (INFO): \n",
            "Epoch: 400 Loss: -0.0012572872219607234 Accuracy: 49.170 %\n",
            "\n",
            " 84%|████████▍ | 420/500 [03:15<00:36,  2.17it/s]2022-04-20 17:23:26 (INFO): \n",
            "Epoch: 420 Loss: -0.0009460365981794894 Accuracy: 49.170 %\n",
            "\n",
            " 88%|████████▊ | 440/500 [03:24<00:27,  2.19it/s]2022-04-20 17:23:35 (INFO): \n",
            "Epoch: 440 Loss: -0.0007964741089381278 Accuracy: 49.170 %\n",
            "\n",
            " 92%|█████████▏| 460/500 [03:33<00:18,  2.18it/s]2022-04-20 17:23:44 (INFO): \n",
            "Epoch: 460 Loss: -0.0006441071163862944 Accuracy: 49.170 %\n",
            "\n",
            " 96%|█████████▌| 480/500 [03:42<00:09,  2.17it/s]2022-04-20 17:23:53 (INFO): \n",
            "Epoch: 480 Loss: -0.0005316896131262183 Accuracy: 49.170 %\n",
            "\n",
            "100%|██████████| 500/500 [03:51<00:00,  2.16it/s]\n",
            "2022-04-20 17:24:02 (INFO): 2-th sampling: too many samples 2025.0\n",
            "2022-04-20 17:24:02 (INFO): 3-th sampling: too many samples 2007.0\n",
            "2022-04-20 17:24:02 (INFO): 4-th sampling: too many samples 2013.0\n",
            "2022-04-20 17:24:02 (INFO): 5-th sampling: too many samples 2022.0\n",
            "2022-04-20 17:24:02 (INFO): 6-th sampling: too many samples 2002.0\n",
            "2022-04-20 17:24:02 (INFO): 7-th sampling: too many samples 2032.0\n",
            "2022-04-20 17:24:02 (INFO): 8-th sampling: too many samples 2038.0\n",
            "2022-04-20 17:24:02 (INFO): 9-th sampling: too many samples 2012.0\n",
            "2022-04-20 17:24:02 (INFO): 10-th sampling: too many samples 2010.0\n",
            "2022-04-20 17:24:02 (INFO): 12-th sampling: too many samples 2027.0\n",
            "2022-04-20 17:24:02 (INFO): 13-th sampling: too many samples 1998.0\n",
            "2022-04-20 17:24:03 (INFO): 17-th sampling: too many samples 2003.0\n",
            "2022-04-20 17:24:03 (INFO): 18-th sampling: too many samples 2030.0\n",
            "2022-04-20 17:24:03 (INFO): Lock 139753358798800 acquired on cache/evasion_global_adj.json.lock\n",
            "2022-04-20 17:24:03 (INFO): Lock 139753358798800 released on cache/evasion_global_adj.json.lock\n",
            "2022-04-20 17:24:03 (INFO): Lock 139753358798800 acquired on cache/evasion_global_attr.json.lock\n",
            "2022-04-20 17:24:03 (INFO): Lock 139753358798800 released on cache/evasion_global_attr.json.lock\n"
          ]
        },
        {
          "output_type": "stream",
          "name": "stdout",
          "text": [
            "{'results': [{'label': 'Vanilla GCN', 'epsilon': 0.25, 'accuracy': 0.522529661655426}]}\n"
          ]
        }
      ]
    },
    {
      "cell_type": "code",
      "source": [
        "perturbed_acc = global_prbcd_statistics[\"results\"][0]['accuracy']\n",
        "print(f'Clean accuracy: {100*clean_acc:.2f}%; Accuracy after global PRBCD attack: {100*perturbed_acc:.2f}%')"
      ],
      "metadata": {
        "colab": {
          "base_uri": "https://localhost:8080/"
        },
        "id": "UQwlL5mnkXHO",
        "outputId": "03150aca-0629-443b-c494-a01bdd06b653"
      },
      "execution_count": null,
      "outputs": [
        {
          "output_type": "stream",
          "name": "stdout",
          "text": [
            "Clean accuracy: 81.90%; Accuracy after global PRBCD attack: 52.25%\n"
          ]
        }
      ]
    }
  ]
}