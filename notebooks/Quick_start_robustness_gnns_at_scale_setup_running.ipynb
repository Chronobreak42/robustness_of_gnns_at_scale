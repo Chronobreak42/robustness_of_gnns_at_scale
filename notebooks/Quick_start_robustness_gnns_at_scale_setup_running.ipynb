{
  "nbformat": 4,
  "nbformat_minor": 0,
  "metadata": {
    "colab": {
      "name": "Quick_start-robustness_gnns_at_scale.ipynb",
      "provenance": [],
      "include_colab_link": true
    },
    "kernelspec": {
      "name": "python3",
      "display_name": "Python 3"
    },
    "language_info": {
      "name": "python"
    },
    "widgets": {
      "application/vnd.jupyter.widget-state+json": {
        "67d8e96ee1d143c4bc1550a8178070b1": {
          "model_module": "@jupyter-widgets/controls",
          "model_name": "HBoxModel",
          "model_module_version": "1.5.0",
          "state": {
            "_dom_classes": [],
            "_model_module": "@jupyter-widgets/controls",
            "_model_module_version": "1.5.0",
            "_model_name": "HBoxModel",
            "_view_count": null,
            "_view_module": "@jupyter-widgets/controls",
            "_view_module_version": "1.5.0",
            "_view_name": "HBoxView",
            "box_style": "",
            "children": [
              "IPY_MODEL_4408e664f5aa4e57bb5a52188390c797",
              "IPY_MODEL_bf6bcc5cb151425eb526d9473b547e40",
              "IPY_MODEL_3438434584a84ec09a944139967c1638"
            ],
            "layout": "IPY_MODEL_068e14304d914ad58d8407fe9d08a543"
          }
        },
        "4408e664f5aa4e57bb5a52188390c797": {
          "model_module": "@jupyter-widgets/controls",
          "model_name": "HTMLModel",
          "model_module_version": "1.5.0",
          "state": {
            "_dom_classes": [],
            "_model_module": "@jupyter-widgets/controls",
            "_model_module_version": "1.5.0",
            "_model_name": "HTMLModel",
            "_view_count": null,
            "_view_module": "@jupyter-widgets/controls",
            "_view_module_version": "1.5.0",
            "_view_name": "HTMLView",
            "description": "",
            "description_tooltip": null,
            "layout": "IPY_MODEL_b1205d28d1bc438e9425123763edb7d8",
            "placeholder": "​",
            "style": "IPY_MODEL_1abea0dd7c3b46eda53cc42b51ac441f",
            "value": "Training...:  22%"
          }
        },
        "bf6bcc5cb151425eb526d9473b547e40": {
          "model_module": "@jupyter-widgets/controls",
          "model_name": "FloatProgressModel",
          "model_module_version": "1.5.0",
          "state": {
            "_dom_classes": [],
            "_model_module": "@jupyter-widgets/controls",
            "_model_module_version": "1.5.0",
            "_model_name": "FloatProgressModel",
            "_view_count": null,
            "_view_module": "@jupyter-widgets/controls",
            "_view_module_version": "1.5.0",
            "_view_name": "ProgressView",
            "bar_style": "danger",
            "description": "",
            "description_tooltip": null,
            "layout": "IPY_MODEL_70edbfc3a1a145ec9d20edf84a0d7bad",
            "max": 3000,
            "min": 0,
            "orientation": "horizontal",
            "style": "IPY_MODEL_7d15ca35fa604bfcac1ff397b5d6b3cd",
            "value": 665
          }
        },
        "3438434584a84ec09a944139967c1638": {
          "model_module": "@jupyter-widgets/controls",
          "model_name": "HTMLModel",
          "model_module_version": "1.5.0",
          "state": {
            "_dom_classes": [],
            "_model_module": "@jupyter-widgets/controls",
            "_model_module_version": "1.5.0",
            "_model_name": "HTMLModel",
            "_view_count": null,
            "_view_module": "@jupyter-widgets/controls",
            "_view_module_version": "1.5.0",
            "_view_name": "HTMLView",
            "description": "",
            "description_tooltip": null,
            "layout": "IPY_MODEL_305895c8bc8341d4b539bc702badfd3f",
            "placeholder": "​",
            "style": "IPY_MODEL_b5041847938a4f8395d40103b9b95217",
            "value": " 665/3000 [01:16&lt;03:18, 11.74it/s]"
          }
        },
        "068e14304d914ad58d8407fe9d08a543": {
          "model_module": "@jupyter-widgets/base",
          "model_name": "LayoutModel",
          "model_module_version": "1.2.0",
          "state": {
            "_model_module": "@jupyter-widgets/base",
            "_model_module_version": "1.2.0",
            "_model_name": "LayoutModel",
            "_view_count": null,
            "_view_module": "@jupyter-widgets/base",
            "_view_module_version": "1.2.0",
            "_view_name": "LayoutView",
            "align_content": null,
            "align_items": null,
            "align_self": null,
            "border": null,
            "bottom": null,
            "display": null,
            "flex": null,
            "flex_flow": null,
            "grid_area": null,
            "grid_auto_columns": null,
            "grid_auto_flow": null,
            "grid_auto_rows": null,
            "grid_column": null,
            "grid_gap": null,
            "grid_row": null,
            "grid_template_areas": null,
            "grid_template_columns": null,
            "grid_template_rows": null,
            "height": null,
            "justify_content": null,
            "justify_items": null,
            "left": null,
            "margin": null,
            "max_height": null,
            "max_width": null,
            "min_height": null,
            "min_width": null,
            "object_fit": null,
            "object_position": null,
            "order": null,
            "overflow": null,
            "overflow_x": null,
            "overflow_y": null,
            "padding": null,
            "right": null,
            "top": null,
            "visibility": null,
            "width": null
          }
        },
        "b1205d28d1bc438e9425123763edb7d8": {
          "model_module": "@jupyter-widgets/base",
          "model_name": "LayoutModel",
          "model_module_version": "1.2.0",
          "state": {
            "_model_module": "@jupyter-widgets/base",
            "_model_module_version": "1.2.0",
            "_model_name": "LayoutModel",
            "_view_count": null,
            "_view_module": "@jupyter-widgets/base",
            "_view_module_version": "1.2.0",
            "_view_name": "LayoutView",
            "align_content": null,
            "align_items": null,
            "align_self": null,
            "border": null,
            "bottom": null,
            "display": null,
            "flex": null,
            "flex_flow": null,
            "grid_area": null,
            "grid_auto_columns": null,
            "grid_auto_flow": null,
            "grid_auto_rows": null,
            "grid_column": null,
            "grid_gap": null,
            "grid_row": null,
            "grid_template_areas": null,
            "grid_template_columns": null,
            "grid_template_rows": null,
            "height": null,
            "justify_content": null,
            "justify_items": null,
            "left": null,
            "margin": null,
            "max_height": null,
            "max_width": null,
            "min_height": null,
            "min_width": null,
            "object_fit": null,
            "object_position": null,
            "order": null,
            "overflow": null,
            "overflow_x": null,
            "overflow_y": null,
            "padding": null,
            "right": null,
            "top": null,
            "visibility": null,
            "width": null
          }
        },
        "1abea0dd7c3b46eda53cc42b51ac441f": {
          "model_module": "@jupyter-widgets/controls",
          "model_name": "DescriptionStyleModel",
          "model_module_version": "1.5.0",
          "state": {
            "_model_module": "@jupyter-widgets/controls",
            "_model_module_version": "1.5.0",
            "_model_name": "DescriptionStyleModel",
            "_view_count": null,
            "_view_module": "@jupyter-widgets/base",
            "_view_module_version": "1.2.0",
            "_view_name": "StyleView",
            "description_width": ""
          }
        },
        "70edbfc3a1a145ec9d20edf84a0d7bad": {
          "model_module": "@jupyter-widgets/base",
          "model_name": "LayoutModel",
          "model_module_version": "1.2.0",
          "state": {
            "_model_module": "@jupyter-widgets/base",
            "_model_module_version": "1.2.0",
            "_model_name": "LayoutModel",
            "_view_count": null,
            "_view_module": "@jupyter-widgets/base",
            "_view_module_version": "1.2.0",
            "_view_name": "LayoutView",
            "align_content": null,
            "align_items": null,
            "align_self": null,
            "border": null,
            "bottom": null,
            "display": null,
            "flex": null,
            "flex_flow": null,
            "grid_area": null,
            "grid_auto_columns": null,
            "grid_auto_flow": null,
            "grid_auto_rows": null,
            "grid_column": null,
            "grid_gap": null,
            "grid_row": null,
            "grid_template_areas": null,
            "grid_template_columns": null,
            "grid_template_rows": null,
            "height": null,
            "justify_content": null,
            "justify_items": null,
            "left": null,
            "margin": null,
            "max_height": null,
            "max_width": null,
            "min_height": null,
            "min_width": null,
            "object_fit": null,
            "object_position": null,
            "order": null,
            "overflow": null,
            "overflow_x": null,
            "overflow_y": null,
            "padding": null,
            "right": null,
            "top": null,
            "visibility": null,
            "width": null
          }
        },
        "7d15ca35fa604bfcac1ff397b5d6b3cd": {
          "model_module": "@jupyter-widgets/controls",
          "model_name": "ProgressStyleModel",
          "model_module_version": "1.5.0",
          "state": {
            "_model_module": "@jupyter-widgets/controls",
            "_model_module_version": "1.5.0",
            "_model_name": "ProgressStyleModel",
            "_view_count": null,
            "_view_module": "@jupyter-widgets/base",
            "_view_module_version": "1.2.0",
            "_view_name": "StyleView",
            "bar_color": null,
            "description_width": ""
          }
        },
        "305895c8bc8341d4b539bc702badfd3f": {
          "model_module": "@jupyter-widgets/base",
          "model_name": "LayoutModel",
          "model_module_version": "1.2.0",
          "state": {
            "_model_module": "@jupyter-widgets/base",
            "_model_module_version": "1.2.0",
            "_model_name": "LayoutModel",
            "_view_count": null,
            "_view_module": "@jupyter-widgets/base",
            "_view_module_version": "1.2.0",
            "_view_name": "LayoutView",
            "align_content": null,
            "align_items": null,
            "align_self": null,
            "border": null,
            "bottom": null,
            "display": null,
            "flex": null,
            "flex_flow": null,
            "grid_area": null,
            "grid_auto_columns": null,
            "grid_auto_flow": null,
            "grid_auto_rows": null,
            "grid_column": null,
            "grid_gap": null,
            "grid_row": null,
            "grid_template_areas": null,
            "grid_template_columns": null,
            "grid_template_rows": null,
            "height": null,
            "justify_content": null,
            "justify_items": null,
            "left": null,
            "margin": null,
            "max_height": null,
            "max_width": null,
            "min_height": null,
            "min_width": null,
            "object_fit": null,
            "object_position": null,
            "order": null,
            "overflow": null,
            "overflow_x": null,
            "overflow_y": null,
            "padding": null,
            "right": null,
            "top": null,
            "visibility": null,
            "width": null
          }
        },
        "b5041847938a4f8395d40103b9b95217": {
          "model_module": "@jupyter-widgets/controls",
          "model_name": "DescriptionStyleModel",
          "model_module_version": "1.5.0",
          "state": {
            "_model_module": "@jupyter-widgets/controls",
            "_model_module_version": "1.5.0",
            "_model_name": "DescriptionStyleModel",
            "_view_count": null,
            "_view_module": "@jupyter-widgets/base",
            "_view_module_version": "1.2.0",
            "_view_name": "StyleView",
            "description_width": ""
          }
        }
      }
    }
  },
  "cells": [
    {
      "cell_type": "markdown",
      "metadata": {
        "id": "view-in-github",
        "colab_type": "text"
      },
      "source": [
        "<a href=\"https://colab.research.google.com/github/Chronobreak42/robustness_of_gnns_at_scale/blob/main/notebooks/Quick_start_robustness_gnns_at_scale_setup_running.ipynb\" target=\"_parent\"><img src=\"https://colab.research.google.com/assets/colab-badge.svg\" alt=\"Open In Colab\"/></a>"
      ]
    },
    {
      "cell_type": "markdown",
      "source": [
        "# Robustness of Graph Neural Networks at Scale - Quick Start\n",
        "\n",
        "This notebook can be run in google colab and serves as a quick introduction to the [Robustness of Graph Neural Networks at Scale](https://github.com/sigeisler/robustness_of_gnns_at_scale) repository.\n",
        "\n",
        "## 0. Setup\n",
        "\n",
        "First, let's get the code and install requirements.\n"
      ],
      "metadata": {
        "id": "ixdVBV5PugOh"
      }
    },
    {
      "cell_type": "code",
      "source": [
        "!pwd\n",
        "%cd robustness_of_gnns_at_scale\n",
        "\n",
        "\n",
        "# Installiert: Alle Module die installiert worden sind\n",
        "# run: Die Zeilen die gerunned werden müssen"
      ],
      "metadata": {
        "id": "Vb3p2trlhuqK",
        "outputId": "5c02e92b-067f-4b3f-f8b9-851b5421c8b1",
        "colab": {
          "base_uri": "https://localhost:8080/"
        }
      },
      "execution_count": null,
      "outputs": [
        {
          "output_type": "stream",
          "name": "stdout",
          "text": [
            "/content\n",
            "/content/robustness_of_gnns_at_scale\n"
          ]
        }
      ]
    },
    {
      "cell_type": "code",
      "source": [
        "#1\n",
        "# Installiert\n",
        "!pip install torchtyping==0.1.5 # This version likely works better\n",
        "!pip install typeguard==2.13.3 # This version is compatible with the recommended version of torchtyping."
      ],
      "metadata": {
        "id": "Z6Rul7P3ifei",
        "outputId": "98415387-5456-482d-b8d9-fbf3dd4dfeca",
        "colab": {
          "base_uri": "https://localhost:8080/"
        }
      },
      "execution_count": null,
      "outputs": [
        {
          "output_type": "stream",
          "name": "stdout",
          "text": [
            "Collecting torchtyping==0.1.5\n",
            "  Downloading torchtyping-0.1.5-py3-none-any.whl.metadata (9.5 kB)\n",
            "Requirement already satisfied: torch>=1.7.0 in /usr/local/lib/python3.10/dist-packages (from torchtyping==0.1.5) (2.5.1+cu121)\n",
            "Collecting typeguard<3,>=2.11.1 (from torchtyping==0.1.5)\n",
            "  Downloading typeguard-2.13.3-py3-none-any.whl.metadata (3.6 kB)\n",
            "Requirement already satisfied: filelock in /usr/local/lib/python3.10/dist-packages (from torch>=1.7.0->torchtyping==0.1.5) (3.16.1)\n",
            "Requirement already satisfied: typing-extensions>=4.8.0 in /usr/local/lib/python3.10/dist-packages (from torch>=1.7.0->torchtyping==0.1.5) (4.12.2)\n",
            "Requirement already satisfied: networkx in /usr/local/lib/python3.10/dist-packages (from torch>=1.7.0->torchtyping==0.1.5) (3.4.2)\n",
            "Requirement already satisfied: jinja2 in /usr/local/lib/python3.10/dist-packages (from torch>=1.7.0->torchtyping==0.1.5) (3.1.5)\n",
            "Requirement already satisfied: fsspec in /usr/local/lib/python3.10/dist-packages (from torch>=1.7.0->torchtyping==0.1.5) (2024.10.0)\n",
            "Requirement already satisfied: sympy==1.13.1 in /usr/local/lib/python3.10/dist-packages (from torch>=1.7.0->torchtyping==0.1.5) (1.13.1)\n",
            "Requirement already satisfied: mpmath<1.4,>=1.1.0 in /usr/local/lib/python3.10/dist-packages (from sympy==1.13.1->torch>=1.7.0->torchtyping==0.1.5) (1.3.0)\n",
            "Requirement already satisfied: MarkupSafe>=2.0 in /usr/local/lib/python3.10/dist-packages (from jinja2->torch>=1.7.0->torchtyping==0.1.5) (3.0.2)\n",
            "Downloading torchtyping-0.1.5-py3-none-any.whl (17 kB)\n",
            "Downloading typeguard-2.13.3-py3-none-any.whl (17 kB)\n",
            "Installing collected packages: typeguard, torchtyping\n",
            "  Attempting uninstall: typeguard\n",
            "    Found existing installation: typeguard 4.4.1\n",
            "    Uninstalling typeguard-4.4.1:\n",
            "      Successfully uninstalled typeguard-4.4.1\n",
            "\u001b[31mERROR: pip's dependency resolver does not currently take into account all the packages that are installed. This behaviour is the source of the following dependency conflicts.\n",
            "inflect 7.5.0 requires typeguard>=4.0.1, but you have typeguard 2.13.3 which is incompatible.\u001b[0m\u001b[31m\n",
            "\u001b[0mSuccessfully installed torchtyping-0.1.5 typeguard-2.13.3\n",
            "Requirement already satisfied: typeguard==2.13.3 in /usr/local/lib/python3.10/dist-packages (2.13.3)\n"
          ]
        }
      ]
    },
    {
      "cell_type": "code",
      "source": [
        "#import torch\n",
        "#torch.__version__\n",
        "#import numpy\n",
        "#numpy.__version__"
      ],
      "metadata": {
        "id": "muUk3Kim9zFt",
        "outputId": "81ee4d79-e50a-4a07-cb68-5dcbd68d6618",
        "colab": {
          "base_uri": "https://localhost:8080/",
          "height": 35
        }
      },
      "execution_count": null,
      "outputs": [
        {
          "output_type": "execute_result",
          "data": {
            "text/plain": [
              "'1.26.4'"
            ],
            "application/vnd.google.colaboratory.intrinsic+json": {
              "type": "string"
            }
          },
          "metadata": {},
          "execution_count": 2
        }
      ]
    },
    {
      "cell_type": "code",
      "source": [
        "#2\n",
        "# Installiert\n",
        "# clone package repository\n",
        "#!git clone https://github.com/sigeisler/robustness_of_gnns_at_scale.git\n",
        "!git clone https://github.com/Chronobreak42/robustness_of_gnns_at_scale.git #run\n",
        "\n",
        "# navigate to the repository\n",
        "%cd robustness_of_gnns_at_scale\n",
        "\n",
        "# install package requirements\n",
        "!pip install -r requirements.txt # run\n",
        "!pip install -r requirements-dev.txt # run\n",
        "\n",
        "# install package\n",
        "#!python setup.py install\n",
        "#!pip install --use-feature=in-tree-build .\n",
        "\n",
        "# build kernels\n",
        "#!pip install --use-feature=in-tree-build ./kernels"
      ],
      "metadata": {
        "id": "srl7gR-Gy5gX",
        "outputId": "c8d9a6bc-c899-4279-e92d-d2b6b1ef3b89",
        "colab": {
          "base_uri": "https://localhost:8080/",
          "height": 1000
        }
      },
      "execution_count": null,
      "outputs": [
        {
          "output_type": "stream",
          "name": "stdout",
          "text": [
            "Cloning into 'robustness_of_gnns_at_scale'...\n",
            "remote: Enumerating objects: 5079, done.\u001b[K\n",
            "remote: Counting objects: 100% (107/107), done.\u001b[K\n",
            "remote: Compressing objects: 100% (84/84), done.\u001b[K\n",
            "remote: Total 5079 (delta 45), reused 52 (delta 14), pack-reused 4972 (from 1)\u001b[K\n",
            "Receiving objects: 100% (5079/5079), 331.99 MiB | 22.71 MiB/s, done.\n",
            "Resolving deltas: 100% (3594/3594), done.\n",
            "/content/robustness_of_gnns_at_scale\n",
            "Requirement already satisfied: cython>=0.28.5 in /usr/local/lib/python3.10/dist-packages (from -r requirements.txt (line 1)) (3.0.11)\n",
            "Collecting filelock==3.0.12 (from -r requirements.txt (line 2))\n",
            "  Downloading filelock-3.0.12-py3-none-any.whl.metadata (4.3 kB)\n",
            "Collecting numba<=0.49.0,>=0.47.0 (from -r requirements.txt (line 3))\n",
            "  Downloading numba-0.49.0.tar.gz (2.0 MB)\n",
            "\u001b[2K     \u001b[90m━━━━━━━━━━━━━━━━━━━━━━━━━━━━━━━━━━━━━━━━\u001b[0m \u001b[32m2.0/2.0 MB\u001b[0m \u001b[31m11.8 MB/s\u001b[0m eta \u001b[36m0:00:00\u001b[0m\n",
            "\u001b[?25h  Preparing metadata (setup.py) ... \u001b[?25l\u001b[?25hdone\n",
            "Collecting numpy==1.18.1 (from -r requirements.txt (line 4))\n",
            "  Downloading numpy-1.18.1.zip (5.4 MB)\n",
            "\u001b[2K     \u001b[90m━━━━━━━━━━━━━━━━━━━━━━━━━━━━━━━━━━━━━━━━\u001b[0m \u001b[32m5.4/5.4 MB\u001b[0m \u001b[31m60.5 MB/s\u001b[0m eta \u001b[36m0:00:00\u001b[0m\n",
            "\u001b[?25h  Installing build dependencies ... \u001b[?25l\u001b[?25hdone\n",
            "  Getting requirements to build wheel ... \u001b[?25l\u001b[?25hdone\n",
            "  \u001b[1;31merror\u001b[0m: \u001b[1msubprocess-exited-with-error\u001b[0m\n",
            "  \n",
            "  \u001b[31m×\u001b[0m \u001b[32mPreparing metadata \u001b[0m\u001b[1;32m(\u001b[0m\u001b[32mpyproject.toml\u001b[0m\u001b[1;32m)\u001b[0m did not run successfully.\n",
            "  \u001b[31m│\u001b[0m exit code: \u001b[1;36m1\u001b[0m\n",
            "  \u001b[31m╰─>\u001b[0m See above for output.\n",
            "  \n",
            "  \u001b[1;35mnote\u001b[0m: This error originates from a subprocess, and is likely not a problem with pip.\n",
            "  Preparing metadata (pyproject.toml) ... \u001b[?25l\u001b[?25herror\n",
            "\u001b[1;31merror\u001b[0m: \u001b[1mmetadata-generation-failed\u001b[0m\n",
            "\n",
            "\u001b[31m×\u001b[0m Encountered error while generating package metadata.\n",
            "\u001b[31m╰─>\u001b[0m See above for output.\n",
            "\n",
            "\u001b[1;35mnote\u001b[0m: This is an issue with the package mentioned above, not pip.\n",
            "\u001b[1;36mhint\u001b[0m: See above for details.\n",
            "Collecting autopep8==1.4.4 (from -r requirements-dev.txt (line 1))\n",
            "  Downloading autopep8-1.4.4.tar.gz (114 kB)\n",
            "\u001b[2K     \u001b[90m━━━━━━━━━━━━━━━━━━━━━━━━━━━━━━━━━━━━━━━━\u001b[0m \u001b[32m114.8/114.8 kB\u001b[0m \u001b[31m2.7 MB/s\u001b[0m eta \u001b[36m0:00:00\u001b[0m\n",
            "\u001b[?25h  Preparing metadata (setup.py) ... \u001b[?25l\u001b[?25hdone\n",
            "Collecting flake8==3.7.9 (from -r requirements-dev.txt (line 2))\n",
            "  Downloading flake8-3.7.9-py2.py3-none-any.whl.metadata (3.6 kB)\n",
            "Collecting pycodestyle==2.5.0 (from -r requirements-dev.txt (line 3))\n",
            "  Downloading pycodestyle-2.5.0-py2.py3-none-any.whl.metadata (28 kB)\n",
            "Collecting pyflakes==2.1.1 (from -r requirements-dev.txt (line 4))\n",
            "  Downloading pyflakes-2.1.1-py2.py3-none-any.whl.metadata (3.8 kB)\n",
            "Collecting pydocstyle==4.0.1 (from -r requirements-dev.txt (line 5))\n",
            "  Downloading pydocstyle-4.0.1-py3-none-any.whl.metadata (2.5 kB)\n",
            "Collecting pytest==5.3.5 (from -r requirements-dev.txt (line 6))\n",
            "  Downloading pytest-5.3.5-py3-none-any.whl.metadata (7.0 kB)\n",
            "Collecting seml (from -r requirements-dev.txt (line 7))\n",
            "  Downloading seml-0.5.4-py3-none-any.whl.metadata (8.1 kB)\n",
            "Collecting entrypoints<0.4.0,>=0.3.0 (from flake8==3.7.9->-r requirements-dev.txt (line 2))\n",
            "  Downloading entrypoints-0.3-py2.py3-none-any.whl.metadata (1.4 kB)\n",
            "Collecting mccabe<0.7.0,>=0.6.0 (from flake8==3.7.9->-r requirements-dev.txt (line 2))\n",
            "  Downloading mccabe-0.6.1-py2.py3-none-any.whl.metadata (4.3 kB)\n",
            "Requirement already satisfied: snowballstemmer in /usr/local/lib/python3.10/dist-packages (from pydocstyle==4.0.1->-r requirements-dev.txt (line 5)) (2.2.0)\n",
            "Collecting py>=1.5.0 (from pytest==5.3.5->-r requirements-dev.txt (line 6))\n",
            "  Downloading py-1.11.0-py2.py3-none-any.whl.metadata (2.8 kB)\n",
            "Requirement already satisfied: packaging in /usr/local/lib/python3.10/dist-packages (from pytest==5.3.5->-r requirements-dev.txt (line 6)) (24.2)\n",
            "Requirement already satisfied: attrs>=17.4.0 in /usr/local/lib/python3.10/dist-packages (from pytest==5.3.5->-r requirements-dev.txt (line 6)) (24.3.0)\n",
            "Requirement already satisfied: more-itertools>=4.0.0 in /usr/local/lib/python3.10/dist-packages (from pytest==5.3.5->-r requirements-dev.txt (line 6)) (10.5.0)\n",
            "Collecting pluggy<1.0,>=0.12 (from pytest==5.3.5->-r requirements-dev.txt (line 6))\n",
            "  Downloading pluggy-0.13.1-py2.py3-none-any.whl.metadata (15 kB)\n",
            "Requirement already satisfied: wcwidth in /usr/local/lib/python3.10/dist-packages (from pytest==5.3.5->-r requirements-dev.txt (line 6)) (0.2.13)\n",
            "Requirement already satisfied: debugpy>=1.2.1 in /usr/local/lib/python3.10/dist-packages (from seml->-r requirements-dev.txt (line 7)) (1.8.0)\n",
            "Collecting deepdiff>=7.0.1 (from seml->-r requirements-dev.txt (line 7))\n",
            "  Downloading deepdiff-8.1.1-py3-none-any.whl.metadata (9.5 kB)\n",
            "Collecting gitignore-parser>=0.1.11 (from seml->-r requirements-dev.txt (line 7))\n",
            "  Downloading gitignore_parser-0.1.11.tar.gz (5.3 kB)\n",
            "  Installing build dependencies ... \u001b[?25l\u001b[?25hdone\n",
            "  Getting requirements to build wheel ... \u001b[?25l\u001b[?25hdone\n",
            "  Preparing metadata (pyproject.toml) ... \u001b[?25l\u001b[?25hdone\n",
            "Requirement already satisfied: importlib-resources>=5.7.0 in /usr/local/lib/python3.10/dist-packages (from seml->-r requirements-dev.txt (line 7)) (6.5.2)\n",
            "Requirement already satisfied: jsonpickle>=2.2 in /usr/local/lib/python3.10/dist-packages (from seml->-r requirements-dev.txt (line 7)) (4.0.1)\n",
            "Collecting munch>=4.0 (from seml->-r requirements-dev.txt (line 7))\n",
            "  Downloading munch-4.0.0-py2.py3-none-any.whl.metadata (5.9 kB)\n",
            "Requirement already satisfied: numpy>=1.15 in /usr/local/lib/python3.10/dist-packages (from seml->-r requirements-dev.txt (line 7)) (1.26.4)\n",
            "Collecting omegaconf>=2.3.0 (from seml->-r requirements-dev.txt (line 7))\n",
            "  Downloading omegaconf-2.3.0-py3-none-any.whl.metadata (3.9 kB)\n",
            "Requirement already satisfied: pandas>=2.2 in /usr/local/lib/python3.10/dist-packages (from seml->-r requirements-dev.txt (line 7)) (2.2.2)\n",
            "Collecting pymongo>=4.1 (from seml->-r requirements-dev.txt (line 7))\n",
            "  Downloading pymongo-4.10.1-cp310-cp310-manylinux_2_17_x86_64.manylinux2014_x86_64.whl.metadata (22 kB)\n",
            "Requirement already satisfied: pyyaml>=5.1 in /usr/local/lib/python3.10/dist-packages (from seml->-r requirements-dev.txt (line 7)) (6.0.2)\n",
            "Requirement already satisfied: requests>=2.28.1 in /usr/local/lib/python3.10/dist-packages (from seml->-r requirements-dev.txt (line 7)) (2.32.3)\n",
            "Requirement already satisfied: rich>=13.0 in /usr/local/lib/python3.10/dist-packages (from seml->-r requirements-dev.txt (line 7)) (13.9.4)\n",
            "Collecting sacred>=0.8.4 (from seml->-r requirements-dev.txt (line 7))\n",
            "  Downloading sacred-0.8.7-py2.py3-none-any.whl.metadata (13 kB)\n",
            "Requirement already satisfied: setuptools>=69.2.0 in /usr/local/lib/python3.10/dist-packages (from seml->-r requirements-dev.txt (line 7)) (75.1.0)\n",
            "Requirement already satisfied: typer>=0.12 in /usr/local/lib/python3.10/dist-packages (from seml->-r requirements-dev.txt (line 7)) (0.15.1)\n",
            "Requirement already satisfied: typing-extensions>=4.10 in /usr/local/lib/python3.10/dist-packages (from seml->-r requirements-dev.txt (line 7)) (4.12.2)\n",
            "Collecting orderly-set<6,>=5.2.3 (from deepdiff>=7.0.1->seml->-r requirements-dev.txt (line 7))\n",
            "  Downloading orderly_set-5.2.3-py3-none-any.whl.metadata (6.0 kB)\n",
            "Collecting antlr4-python3-runtime==4.9.* (from omegaconf>=2.3.0->seml->-r requirements-dev.txt (line 7))\n",
            "  Downloading antlr4-python3-runtime-4.9.3.tar.gz (117 kB)\n",
            "\u001b[2K     \u001b[90m━━━━━━━━━━━━━━━━━━━━━━━━━━━━━━━━━━━━━━━━\u001b[0m \u001b[32m117.0/117.0 kB\u001b[0m \u001b[31m9.8 MB/s\u001b[0m eta \u001b[36m0:00:00\u001b[0m\n",
            "\u001b[?25h  Preparing metadata (setup.py) ... \u001b[?25l\u001b[?25hdone\n",
            "Requirement already satisfied: python-dateutil>=2.8.2 in /usr/local/lib/python3.10/dist-packages (from pandas>=2.2->seml->-r requirements-dev.txt (line 7)) (2.8.2)\n",
            "Requirement already satisfied: pytz>=2020.1 in /usr/local/lib/python3.10/dist-packages (from pandas>=2.2->seml->-r requirements-dev.txt (line 7)) (2024.2)\n",
            "Requirement already satisfied: tzdata>=2022.7 in /usr/local/lib/python3.10/dist-packages (from pandas>=2.2->seml->-r requirements-dev.txt (line 7)) (2024.2)\n",
            "Collecting dnspython<3.0.0,>=1.16.0 (from pymongo>=4.1->seml->-r requirements-dev.txt (line 7))\n",
            "  Downloading dnspython-2.7.0-py3-none-any.whl.metadata (5.8 kB)\n",
            "Requirement already satisfied: charset-normalizer<4,>=2 in /usr/local/lib/python3.10/dist-packages (from requests>=2.28.1->seml->-r requirements-dev.txt (line 7)) (3.4.1)\n",
            "Requirement already satisfied: idna<4,>=2.5 in /usr/local/lib/python3.10/dist-packages (from requests>=2.28.1->seml->-r requirements-dev.txt (line 7)) (3.10)\n",
            "Requirement already satisfied: urllib3<3,>=1.21.1 in /usr/local/lib/python3.10/dist-packages (from requests>=2.28.1->seml->-r requirements-dev.txt (line 7)) (2.3.0)\n",
            "Requirement already satisfied: certifi>=2017.4.17 in /usr/local/lib/python3.10/dist-packages (from requests>=2.28.1->seml->-r requirements-dev.txt (line 7)) (2024.12.14)\n",
            "Requirement already satisfied: markdown-it-py>=2.2.0 in /usr/local/lib/python3.10/dist-packages (from rich>=13.0->seml->-r requirements-dev.txt (line 7)) (3.0.0)\n",
            "Requirement already satisfied: pygments<3.0.0,>=2.13.0 in /usr/local/lib/python3.10/dist-packages (from rich>=13.0->seml->-r requirements-dev.txt (line 7)) (2.18.0)\n",
            "Collecting docopt-ng<1.0,>=0.9 (from sacred>=0.8.4->seml->-r requirements-dev.txt (line 7))\n",
            "  Downloading docopt_ng-0.9.0-py3-none-any.whl.metadata (13 kB)\n",
            "Requirement already satisfied: wrapt<2.0,>=1.0 in /usr/local/lib/python3.10/dist-packages (from sacred>=0.8.4->seml->-r requirements-dev.txt (line 7)) (1.17.0)\n",
            "Requirement already satisfied: py-cpuinfo>=4.0 in /usr/local/lib/python3.10/dist-packages (from sacred>=0.8.4->seml->-r requirements-dev.txt (line 7)) (9.0.0)\n",
            "Collecting colorama>=0.4 (from sacred>=0.8.4->seml->-r requirements-dev.txt (line 7))\n",
            "  Downloading colorama-0.4.6-py2.py3-none-any.whl.metadata (17 kB)\n",
            "Requirement already satisfied: GitPython in /usr/local/lib/python3.10/dist-packages (from sacred>=0.8.4->seml->-r requirements-dev.txt (line 7)) (3.1.44)\n",
            "Requirement already satisfied: click>=8.0.0 in /usr/local/lib/python3.10/dist-packages (from typer>=0.12->seml->-r requirements-dev.txt (line 7)) (8.1.8)\n",
            "Requirement already satisfied: shellingham>=1.3.0 in /usr/local/lib/python3.10/dist-packages (from typer>=0.12->seml->-r requirements-dev.txt (line 7)) (1.5.4)\n",
            "Requirement already satisfied: mdurl~=0.1 in /usr/local/lib/python3.10/dist-packages (from markdown-it-py>=2.2.0->rich>=13.0->seml->-r requirements-dev.txt (line 7)) (0.1.2)\n",
            "Requirement already satisfied: six>=1.5 in /usr/local/lib/python3.10/dist-packages (from python-dateutil>=2.8.2->pandas>=2.2->seml->-r requirements-dev.txt (line 7)) (1.17.0)\n",
            "Requirement already satisfied: gitdb<5,>=4.0.1 in /usr/local/lib/python3.10/dist-packages (from GitPython->sacred>=0.8.4->seml->-r requirements-dev.txt (line 7)) (4.0.12)\n",
            "Requirement already satisfied: smmap<6,>=3.0.1 in /usr/local/lib/python3.10/dist-packages (from gitdb<5,>=4.0.1->GitPython->sacred>=0.8.4->seml->-r requirements-dev.txt (line 7)) (5.0.2)\n",
            "Downloading flake8-3.7.9-py2.py3-none-any.whl (69 kB)\n",
            "\u001b[2K   \u001b[90m━━━━━━━━━━━━━━━━━━━━━━━━━━━━━━━━━━━━━━━━\u001b[0m \u001b[32m69.9/69.9 kB\u001b[0m \u001b[31m7.6 MB/s\u001b[0m eta \u001b[36m0:00:00\u001b[0m\n",
            "\u001b[?25hDownloading pycodestyle-2.5.0-py2.py3-none-any.whl (51 kB)\n",
            "\u001b[2K   \u001b[90m━━━━━━━━━━━━━━━━━━━━━━━━━━━━━━━━━━━━━━━━\u001b[0m \u001b[32m51.2/51.2 kB\u001b[0m \u001b[31m5.1 MB/s\u001b[0m eta \u001b[36m0:00:00\u001b[0m\n",
            "\u001b[?25hDownloading pyflakes-2.1.1-py2.py3-none-any.whl (59 kB)\n",
            "\u001b[2K   \u001b[90m━━━━━━━━━━━━━━━━━━━━━━━━━━━━━━━━━━━━━━━━\u001b[0m \u001b[32m60.0/60.0 kB\u001b[0m \u001b[31m6.3 MB/s\u001b[0m eta \u001b[36m0:00:00\u001b[0m\n",
            "\u001b[?25hDownloading pydocstyle-4.0.1-py3-none-any.whl (33 kB)\n",
            "Downloading pytest-5.3.5-py3-none-any.whl (235 kB)\n",
            "\u001b[2K   \u001b[90m━━━━━━━━━━━━━━━━━━━━━━━━━━━━━━━━━━━━━━━━\u001b[0m \u001b[32m235.2/235.2 kB\u001b[0m \u001b[31m22.0 MB/s\u001b[0m eta \u001b[36m0:00:00\u001b[0m\n",
            "\u001b[?25hDownloading seml-0.5.4-py3-none-any.whl (120 kB)\n",
            "\u001b[2K   \u001b[90m━━━━━━━━━━━━━━━━━━━━━━━━━━━━━━━━━━━━━━━━\u001b[0m \u001b[32m120.4/120.4 kB\u001b[0m \u001b[31m13.2 MB/s\u001b[0m eta \u001b[36m0:00:00\u001b[0m\n",
            "\u001b[?25hDownloading deepdiff-8.1.1-py3-none-any.whl (84 kB)\n",
            "\u001b[2K   \u001b[90m━━━━━━━━━━━━━━━━━━━━━━━━━━━━━━━━━━━━━━━━\u001b[0m \u001b[32m84.7/84.7 kB\u001b[0m \u001b[31m8.7 MB/s\u001b[0m eta \u001b[36m0:00:00\u001b[0m\n",
            "\u001b[?25hDownloading entrypoints-0.3-py2.py3-none-any.whl (11 kB)\n",
            "Downloading mccabe-0.6.1-py2.py3-none-any.whl (8.6 kB)\n",
            "Downloading munch-4.0.0-py2.py3-none-any.whl (9.9 kB)\n",
            "Downloading omegaconf-2.3.0-py3-none-any.whl (79 kB)\n",
            "\u001b[2K   \u001b[90m━━━━━━━━━━━━━━━━━━━━━━━━━━━━━━━━━━━━━━━━\u001b[0m \u001b[32m79.5/79.5 kB\u001b[0m \u001b[31m7.9 MB/s\u001b[0m eta \u001b[36m0:00:00\u001b[0m\n",
            "\u001b[?25hDownloading pluggy-0.13.1-py2.py3-none-any.whl (18 kB)\n",
            "Downloading py-1.11.0-py2.py3-none-any.whl (98 kB)\n",
            "\u001b[2K   \u001b[90m━━━━━━━━━━━━━━━━━━━━━━━━━━━━━━━━━━━━━━━━\u001b[0m \u001b[32m98.7/98.7 kB\u001b[0m \u001b[31m10.5 MB/s\u001b[0m eta \u001b[36m0:00:00\u001b[0m\n",
            "\u001b[?25hDownloading pymongo-4.10.1-cp310-cp310-manylinux_2_17_x86_64.manylinux2014_x86_64.whl (1.4 MB)\n",
            "\u001b[2K   \u001b[90m━━━━━━━━━━━━━━━━━━━━━━━━━━━━━━━━━━━━━━━━\u001b[0m \u001b[32m1.4/1.4 MB\u001b[0m \u001b[31m38.6 MB/s\u001b[0m eta \u001b[36m0:00:00\u001b[0m\n",
            "\u001b[?25hDownloading sacred-0.8.7-py2.py3-none-any.whl (108 kB)\n",
            "\u001b[2K   \u001b[90m━━━━━━━━━━━━━━━━━━━━━━━━━━━━━━━━━━━━━━━━\u001b[0m \u001b[32m108.2/108.2 kB\u001b[0m \u001b[31m11.6 MB/s\u001b[0m eta \u001b[36m0:00:00\u001b[0m\n",
            "\u001b[?25hDownloading colorama-0.4.6-py2.py3-none-any.whl (25 kB)\n",
            "Downloading dnspython-2.7.0-py3-none-any.whl (313 kB)\n",
            "\u001b[2K   \u001b[90m━━━━━━━━━━━━━━━━━━━━━━━━━━━━━━━━━━━━━━━━\u001b[0m \u001b[32m313.6/313.6 kB\u001b[0m \u001b[31m29.5 MB/s\u001b[0m eta \u001b[36m0:00:00\u001b[0m\n",
            "\u001b[?25hDownloading docopt_ng-0.9.0-py3-none-any.whl (16 kB)\n",
            "Downloading orderly_set-5.2.3-py3-none-any.whl (12 kB)\n",
            "Building wheels for collected packages: autopep8, gitignore-parser, antlr4-python3-runtime\n",
            "  Building wheel for autopep8 (setup.py) ... \u001b[?25l\u001b[?25hdone\n",
            "  Created wheel for autopep8: filename=autopep8-1.4.4-py2.py3-none-any.whl size=42636 sha256=becbdab392eb75ce0f4cb98e6c53f35aec3c349b3e07099781b65530f06bdaac\n",
            "  Stored in directory: /root/.cache/pip/wheels/c1/2d/7d/f5f6ec9bb5902cd57d86e7ff7e4d5c421c236e3d9db44e6c69\n",
            "  Building wheel for gitignore-parser (pyproject.toml) ... \u001b[?25l\u001b[?25hdone\n",
            "  Created wheel for gitignore-parser: filename=gitignore_parser-0.1.11-py3-none-any.whl size=4978 sha256=dbee02e3ed61bf6e50f6625d564ce031bfc645ecabf5bbc9547d234587dbb6bb\n",
            "  Stored in directory: /root/.cache/pip/wheels/64/c4/d8/fbeed21e95e39f02c89e10aade7f8072d236f78d0c278121b0\n",
            "  Building wheel for antlr4-python3-runtime (setup.py) ... \u001b[?25l\u001b[?25hdone\n",
            "  Created wheel for antlr4-python3-runtime: filename=antlr4_python3_runtime-4.9.3-py3-none-any.whl size=144555 sha256=72f9f5e86adab7694e1b50aa72ced70b4225fb2521bb11fa46c120967636ed01\n",
            "  Stored in directory: /root/.cache/pip/wheels/12/93/dd/1f6a127edc45659556564c5730f6d4e300888f4bca2d4c5a88\n",
            "Successfully built autopep8 gitignore-parser antlr4-python3-runtime\n",
            "Installing collected packages: mccabe, gitignore-parser, antlr4-python3-runtime, pyflakes, pydocstyle, pycodestyle, py, pluggy, orderly-set, omegaconf, munch, entrypoints, docopt-ng, dnspython, colorama, pytest, pymongo, flake8, deepdiff, autopep8, sacred, seml\n",
            "  Attempting uninstall: pluggy\n",
            "    Found existing installation: pluggy 1.5.0\n",
            "    Uninstalling pluggy-1.5.0:\n",
            "      Successfully uninstalled pluggy-1.5.0\n",
            "  Attempting uninstall: entrypoints\n",
            "    Found existing installation: entrypoints 0.4\n",
            "    Uninstalling entrypoints-0.4:\n",
            "      Successfully uninstalled entrypoints-0.4\n",
            "  Attempting uninstall: pytest\n",
            "    Found existing installation: pytest 8.3.4\n",
            "    Uninstalling pytest-8.3.4:\n",
            "      Successfully uninstalled pytest-8.3.4\n",
            "Successfully installed antlr4-python3-runtime-4.9.3 autopep8-1.4.4 colorama-0.4.6 deepdiff-8.1.1 dnspython-2.7.0 docopt-ng-0.9.0 entrypoints-0.3 flake8-3.7.9 gitignore-parser-0.1.11 mccabe-0.6.1 munch-4.0.0 omegaconf-2.3.0 orderly-set-5.2.3 pluggy-0.13.1 py-1.11.0 pycodestyle-2.5.0 pydocstyle-4.0.1 pyflakes-2.1.1 pymongo-4.10.1 pytest-5.3.5 sacred-0.8.7 seml-0.5.4\n"
          ]
        },
        {
          "output_type": "display_data",
          "data": {
            "application/vnd.colab-display-data+json": {
              "pip_warning": {
                "packages": [
                  "pydevd_plugins"
                ]
              },
              "id": "9858f3944d8940e4aca33698c968e5ee"
            }
          },
          "metadata": {}
        }
      ]
    },
    {
      "cell_type": "markdown",
      "source": [
        "### Imports"
      ],
      "metadata": {
        "id": "FQScUvGr-b08"
      }
    },
    {
      "cell_type": "code",
      "source": [
        "#3\n",
        "# Installiert\n",
        "!pip install --upgrade ogb"
      ],
      "metadata": {
        "id": "W_c6BdVhXbQH",
        "outputId": "550b989b-0a85-4435-83ee-4a4c89677a43",
        "colab": {
          "base_uri": "https://localhost:8080/"
        }
      },
      "execution_count": null,
      "outputs": [
        {
          "output_type": "stream",
          "name": "stdout",
          "text": [
            "Collecting ogb\n",
            "  Using cached ogb-1.3.6-py3-none-any.whl.metadata (6.2 kB)\n",
            "Requirement already satisfied: torch>=1.6.0 in /usr/local/lib/python3.10/dist-packages (from ogb) (2.5.1+cu121)\n",
            "Requirement already satisfied: numpy>=1.16.0 in /usr/local/lib/python3.10/dist-packages (from ogb) (1.26.4)\n",
            "Requirement already satisfied: tqdm>=4.29.0 in /usr/local/lib/python3.10/dist-packages (from ogb) (4.67.1)\n",
            "Requirement already satisfied: scikit-learn>=0.20.0 in /usr/local/lib/python3.10/dist-packages (from ogb) (1.6.0)\n",
            "Requirement already satisfied: pandas>=0.24.0 in /usr/local/lib/python3.10/dist-packages (from ogb) (2.2.2)\n",
            "Requirement already satisfied: six>=1.12.0 in /usr/local/lib/python3.10/dist-packages (from ogb) (1.17.0)\n",
            "Requirement already satisfied: urllib3>=1.24.0 in /usr/local/lib/python3.10/dist-packages (from ogb) (2.3.0)\n",
            "Collecting outdated>=0.2.0 (from ogb)\n",
            "  Using cached outdated-0.2.2-py2.py3-none-any.whl.metadata (4.7 kB)\n",
            "Requirement already satisfied: setuptools>=44 in /usr/local/lib/python3.10/dist-packages (from outdated>=0.2.0->ogb) (75.1.0)\n",
            "Collecting littleutils (from outdated>=0.2.0->ogb)\n",
            "  Using cached littleutils-0.2.4-py3-none-any.whl.metadata (679 bytes)\n",
            "Requirement already satisfied: requests in /usr/local/lib/python3.10/dist-packages (from outdated>=0.2.0->ogb) (2.32.3)\n",
            "Requirement already satisfied: python-dateutil>=2.8.2 in /usr/local/lib/python3.10/dist-packages (from pandas>=0.24.0->ogb) (2.8.2)\n",
            "Requirement already satisfied: pytz>=2020.1 in /usr/local/lib/python3.10/dist-packages (from pandas>=0.24.0->ogb) (2024.2)\n",
            "Requirement already satisfied: tzdata>=2022.7 in /usr/local/lib/python3.10/dist-packages (from pandas>=0.24.0->ogb) (2024.2)\n",
            "Requirement already satisfied: scipy>=1.6.0 in /usr/local/lib/python3.10/dist-packages (from scikit-learn>=0.20.0->ogb) (1.13.1)\n",
            "Requirement already satisfied: joblib>=1.2.0 in /usr/local/lib/python3.10/dist-packages (from scikit-learn>=0.20.0->ogb) (1.4.2)\n",
            "Requirement already satisfied: threadpoolctl>=3.1.0 in /usr/local/lib/python3.10/dist-packages (from scikit-learn>=0.20.0->ogb) (3.5.0)\n",
            "Requirement already satisfied: filelock in /usr/local/lib/python3.10/dist-packages (from torch>=1.6.0->ogb) (3.16.1)\n",
            "Requirement already satisfied: typing-extensions>=4.8.0 in /usr/local/lib/python3.10/dist-packages (from torch>=1.6.0->ogb) (4.12.2)\n",
            "Requirement already satisfied: networkx in /usr/local/lib/python3.10/dist-packages (from torch>=1.6.0->ogb) (3.4.2)\n",
            "Requirement already satisfied: jinja2 in /usr/local/lib/python3.10/dist-packages (from torch>=1.6.0->ogb) (3.1.5)\n",
            "Requirement already satisfied: fsspec in /usr/local/lib/python3.10/dist-packages (from torch>=1.6.0->ogb) (2024.10.0)\n",
            "Requirement already satisfied: sympy==1.13.1 in /usr/local/lib/python3.10/dist-packages (from torch>=1.6.0->ogb) (1.13.1)\n",
            "Requirement already satisfied: mpmath<1.4,>=1.1.0 in /usr/local/lib/python3.10/dist-packages (from sympy==1.13.1->torch>=1.6.0->ogb) (1.3.0)\n",
            "Requirement already satisfied: MarkupSafe>=2.0 in /usr/local/lib/python3.10/dist-packages (from jinja2->torch>=1.6.0->ogb) (3.0.2)\n",
            "Requirement already satisfied: charset-normalizer<4,>=2 in /usr/local/lib/python3.10/dist-packages (from requests->outdated>=0.2.0->ogb) (3.4.1)\n",
            "Requirement already satisfied: idna<4,>=2.5 in /usr/local/lib/python3.10/dist-packages (from requests->outdated>=0.2.0->ogb) (3.10)\n",
            "Requirement already satisfied: certifi>=2017.4.17 in /usr/local/lib/python3.10/dist-packages (from requests->outdated>=0.2.0->ogb) (2024.12.14)\n",
            "Using cached ogb-1.3.6-py3-none-any.whl (78 kB)\n",
            "Using cached outdated-0.2.2-py2.py3-none-any.whl (7.5 kB)\n",
            "Using cached littleutils-0.2.4-py3-none-any.whl (8.1 kB)\n",
            "Installing collected packages: littleutils, outdated, ogb\n",
            "Successfully installed littleutils-0.2.4 ogb-1.3.6 outdated-0.2.2\n"
          ]
        }
      ]
    },
    {
      "cell_type": "code",
      "source": [
        "#4\n",
        "# Installiert\n",
        "!pip install torch==1.13.0 torchvision==0.14.0+rocm5.2 torchaudio==0.13.0+rocm5.2 -f https://download.pytorch.org/whl/torch_stable.html\n",
        "!pip install torch_geometric\n"
      ],
      "metadata": {
        "id": "yFfzeyJ-ByH_",
        "outputId": "a8f7ce55-ab7b-4334-d806-5541011b56bf",
        "colab": {
          "base_uri": "https://localhost:8080/"
        }
      },
      "execution_count": null,
      "outputs": [
        {
          "output_type": "stream",
          "name": "stdout",
          "text": [
            "Looking in links: https://download.pytorch.org/whl/torch_stable.html\n",
            "Collecting torch==1.13.0\n",
            "  Downloading https://download.pytorch.org/whl/rocm5.2/torch-1.13.0%2Brocm5.2-cp310-cp310-linux_x86_64.whl (1371.2 MB)\n",
            "\u001b[2K     \u001b[90m━━━━━━━━━━━━━━━━━━━━━━━━━━━━━━━━━━━━━━━━\u001b[0m \u001b[32m1.4/1.4 GB\u001b[0m \u001b[31m582.7 kB/s\u001b[0m eta \u001b[36m0:00:00\u001b[0m\n",
            "\u001b[?25hCollecting torchvision==0.14.0+rocm5.2\n",
            "  Downloading https://download.pytorch.org/whl/rocm5.2/torchvision-0.14.0%2Brocm5.2-cp310-cp310-linux_x86_64.whl (70.8 MB)\n",
            "\u001b[2K     \u001b[90m━━━━━━━━━━━━━━━━━━━━━━━━━━━━━━━━━━━━━━━━\u001b[0m \u001b[32m70.8/70.8 MB\u001b[0m \u001b[31m10.0 MB/s\u001b[0m eta \u001b[36m0:00:00\u001b[0m\n",
            "\u001b[?25hCollecting torchaudio==0.13.0+rocm5.2\n",
            "  Downloading https://download.pytorch.org/whl/rocm5.2/torchaudio-0.13.0%2Brocm5.2-cp310-cp310-linux_x86_64.whl (3.9 MB)\n",
            "\u001b[2K     \u001b[90m━━━━━━━━━━━━━━━━━━━━━━━━━━━━━━━━━━━━━━━━\u001b[0m \u001b[32m3.9/3.9 MB\u001b[0m \u001b[31m8.2 MB/s\u001b[0m eta \u001b[36m0:00:00\u001b[0m\n",
            "\u001b[?25hRequirement already satisfied: typing-extensions in /usr/local/lib/python3.10/dist-packages (from torch==1.13.0) (4.12.2)\n",
            "Requirement already satisfied: numpy in /usr/local/lib/python3.10/dist-packages (from torchvision==0.14.0+rocm5.2) (1.26.4)\n",
            "Requirement already satisfied: requests in /usr/local/lib/python3.10/dist-packages (from torchvision==0.14.0+rocm5.2) (2.32.3)\n",
            "Requirement already satisfied: pillow!=8.3.*,>=5.3.0 in /usr/local/lib/python3.10/dist-packages (from torchvision==0.14.0+rocm5.2) (11.1.0)\n",
            "Requirement already satisfied: charset-normalizer<4,>=2 in /usr/local/lib/python3.10/dist-packages (from requests->torchvision==0.14.0+rocm5.2) (3.4.1)\n",
            "Requirement already satisfied: idna<4,>=2.5 in /usr/local/lib/python3.10/dist-packages (from requests->torchvision==0.14.0+rocm5.2) (3.10)\n",
            "Requirement already satisfied: urllib3<3,>=1.21.1 in /usr/local/lib/python3.10/dist-packages (from requests->torchvision==0.14.0+rocm5.2) (2.3.0)\n",
            "Requirement already satisfied: certifi>=2017.4.17 in /usr/local/lib/python3.10/dist-packages (from requests->torchvision==0.14.0+rocm5.2) (2024.12.14)\n",
            "Installing collected packages: torch, torchvision, torchaudio\n",
            "  Attempting uninstall: torch\n",
            "    Found existing installation: torch 2.5.1+cu121\n",
            "    Uninstalling torch-2.5.1+cu121:\n",
            "      Successfully uninstalled torch-2.5.1+cu121\n",
            "  Attempting uninstall: torchvision\n",
            "    Found existing installation: torchvision 0.20.1+cu121\n",
            "    Uninstalling torchvision-0.20.1+cu121:\n",
            "      Successfully uninstalled torchvision-0.20.1+cu121\n",
            "  Attempting uninstall: torchaudio\n",
            "    Found existing installation: torchaudio 2.5.1+cu121\n",
            "    Uninstalling torchaudio-2.5.1+cu121:\n",
            "      Successfully uninstalled torchaudio-2.5.1+cu121\n",
            "Successfully installed torch-1.13.0+rocm5.2 torchaudio-0.13.0+rocm5.2 torchvision-0.14.0+rocm5.2\n",
            "Collecting torch_geometric\n",
            "  Downloading torch_geometric-2.6.1-py3-none-any.whl.metadata (63 kB)\n",
            "\u001b[2K     \u001b[90m━━━━━━━━━━━━━━━━━━━━━━━━━━━━━━━━━━━━━━━━\u001b[0m \u001b[32m63.1/63.1 kB\u001b[0m \u001b[31m1.6 MB/s\u001b[0m eta \u001b[36m0:00:00\u001b[0m\n",
            "\u001b[?25hRequirement already satisfied: aiohttp in /usr/local/lib/python3.10/dist-packages (from torch_geometric) (3.11.11)\n",
            "Requirement already satisfied: fsspec in /usr/local/lib/python3.10/dist-packages (from torch_geometric) (2024.10.0)\n",
            "Requirement already satisfied: jinja2 in /usr/local/lib/python3.10/dist-packages (from torch_geometric) (3.1.5)\n",
            "Requirement already satisfied: numpy in /usr/local/lib/python3.10/dist-packages (from torch_geometric) (1.26.4)\n",
            "Requirement already satisfied: psutil>=5.8.0 in /usr/local/lib/python3.10/dist-packages (from torch_geometric) (5.9.5)\n",
            "Requirement already satisfied: pyparsing in /usr/local/lib/python3.10/dist-packages (from torch_geometric) (3.2.1)\n",
            "Requirement already satisfied: requests in /usr/local/lib/python3.10/dist-packages (from torch_geometric) (2.32.3)\n",
            "Requirement already satisfied: tqdm in /usr/local/lib/python3.10/dist-packages (from torch_geometric) (4.67.1)\n",
            "Requirement already satisfied: aiohappyeyeballs>=2.3.0 in /usr/local/lib/python3.10/dist-packages (from aiohttp->torch_geometric) (2.4.4)\n",
            "Requirement already satisfied: aiosignal>=1.1.2 in /usr/local/lib/python3.10/dist-packages (from aiohttp->torch_geometric) (1.3.2)\n",
            "Requirement already satisfied: async-timeout<6.0,>=4.0 in /usr/local/lib/python3.10/dist-packages (from aiohttp->torch_geometric) (4.0.3)\n",
            "Requirement already satisfied: attrs>=17.3.0 in /usr/local/lib/python3.10/dist-packages (from aiohttp->torch_geometric) (24.3.0)\n",
            "Requirement already satisfied: frozenlist>=1.1.1 in /usr/local/lib/python3.10/dist-packages (from aiohttp->torch_geometric) (1.5.0)\n",
            "Requirement already satisfied: multidict<7.0,>=4.5 in /usr/local/lib/python3.10/dist-packages (from aiohttp->torch_geometric) (6.1.0)\n",
            "Requirement already satisfied: propcache>=0.2.0 in /usr/local/lib/python3.10/dist-packages (from aiohttp->torch_geometric) (0.2.1)\n",
            "Requirement already satisfied: yarl<2.0,>=1.17.0 in /usr/local/lib/python3.10/dist-packages (from aiohttp->torch_geometric) (1.18.3)\n",
            "Requirement already satisfied: MarkupSafe>=2.0 in /usr/local/lib/python3.10/dist-packages (from jinja2->torch_geometric) (3.0.2)\n",
            "Requirement already satisfied: charset-normalizer<4,>=2 in /usr/local/lib/python3.10/dist-packages (from requests->torch_geometric) (3.4.1)\n",
            "Requirement already satisfied: idna<4,>=2.5 in /usr/local/lib/python3.10/dist-packages (from requests->torch_geometric) (3.10)\n",
            "Requirement already satisfied: urllib3<3,>=1.21.1 in /usr/local/lib/python3.10/dist-packages (from requests->torch_geometric) (2.3.0)\n",
            "Requirement already satisfied: certifi>=2017.4.17 in /usr/local/lib/python3.10/dist-packages (from requests->torch_geometric) (2024.12.14)\n",
            "Requirement already satisfied: typing-extensions>=4.1.0 in /usr/local/lib/python3.10/dist-packages (from multidict<7.0,>=4.5->aiohttp->torch_geometric) (4.12.2)\n",
            "Downloading torch_geometric-2.6.1-py3-none-any.whl (1.1 MB)\n",
            "\u001b[2K   \u001b[90m━━━━━━━━━━━━━━━━━━━━━━━━━━━━━━━━━━━━━━━━\u001b[0m \u001b[32m1.1/1.1 MB\u001b[0m \u001b[31m14.8 MB/s\u001b[0m eta \u001b[36m0:00:00\u001b[0m\n",
            "\u001b[?25hInstalling collected packages: torch_geometric\n",
            "Successfully installed torch_geometric-2.6.1\n"
          ]
        }
      ]
    },
    {
      "cell_type": "code",
      "source": [
        "#5.0 (vor #5) run\n",
        "from google.colab import drive #run\n",
        "drive.mount('/content/drive') #run\n",
        "!mkdir -p /content/drive/MyDrive/Colab\\ Libraries/torch_geometric #create new directory\n"
      ],
      "metadata": {
        "id": "Dr0U1sUdPMCv",
        "outputId": "469176b6-6cb4-41c2-80d2-4952771ac599",
        "colab": {
          "base_uri": "https://localhost:8080/"
        }
      },
      "execution_count": null,
      "outputs": [
        {
          "output_type": "stream",
          "name": "stdout",
          "text": [
            "Mounted at /content/drive\n"
          ]
        }
      ]
    },
    {
      "cell_type": "code",
      "source": [
        "#5\n",
        "# Installiert, a) hat lange Installationszeit\n",
        "# Alternative: b) Installation wird in Drive gespeichert und muss bei neuen Sitzungen nicht mehr ausgeführt werden\n",
        "import os\n",
        "import torch\n",
        "import numpy\n",
        "import collections.abc\n",
        "os.environ['TORCH'] = torch.__version__\n",
        "print(torch.__version__)\n",
        "\n",
        "# a) Install directly\n",
        "#!pip install -q torch-scatter -f https://data.pyg.org/whl/torch-${TORCH}.html\n",
        "#!pip install -q torch-sparse -f https://data.pyg.org/whl/torch-${TORCH}.html\n",
        "#!pip install -q git+https://github.com/pyg-team/pytorch_geometric.git\n",
        "\n",
        "# b) Install on mounted drive (faster alternative, you only need to run these once)\n",
        "#!pip install -q torch-scatter -f https://data.pyg.org/whl/torch-${TORCH}.html --target=/content/drive/MyDrive/Colab\\ Libraries/torch_geometric\n",
        "#!pip install -q torch-sparse -f https://data.pyg.org/whl/torch-${TORCH}.html --target=/content/drive/MyDrive/Colab\\ Libraries/torch_geometric\n",
        "#!pip install -q git+https://github.com/pyg-team/pytorch_geometric.git --target=/content/drive/MyDrive/Colab\\ Libraries/torch_geometric"
      ],
      "metadata": {
        "id": "dkxo9hsQZvW5",
        "outputId": "93cdb8d3-d712-496b-a4f7-45634049385f",
        "colab": {
          "base_uri": "https://localhost:8080/"
        }
      },
      "execution_count": null,
      "outputs": [
        {
          "output_type": "stream",
          "name": "stdout",
          "text": [
            "1.13.0+rocm5.2\n"
          ]
        }
      ]
    },
    {
      "cell_type": "code",
      "source": [
        "#5.1 (nach #5) run\n",
        "import sys\n",
        "sys.path.append('/content/drive/MyDrive/Colab Libraries/torch_geometric')"
      ],
      "metadata": {
        "id": "akZC5liIPaLk"
      },
      "execution_count": null,
      "outputs": []
    },
    {
      "cell_type": "code",
      "source": [
        "#6\n",
        "# Installiert\n",
        "!pip install tinydb\n",
        "!pip install tinydb_serialization\n",
        "!pip install seml==0.4.2"
      ],
      "metadata": {
        "colab": {
          "base_uri": "https://localhost:8080/"
        },
        "id": "EcLx5YSR3IRI",
        "outputId": "25de21b6-6767-4be3-d31d-b0fb18e7a3b8"
      },
      "execution_count": null,
      "outputs": [
        {
          "output_type": "stream",
          "name": "stdout",
          "text": [
            "Requirement already satisfied: tinydb in /usr/local/lib/python3.10/dist-packages (4.8.2)\n",
            "Requirement already satisfied: tinydb_serialization in /usr/local/lib/python3.10/dist-packages (2.2.0)\n",
            "Requirement already satisfied: tinydb<5.0,>=4.0 in /usr/local/lib/python3.10/dist-packages (from tinydb_serialization) (4.8.2)\n",
            "Requirement already satisfied: seml==0.4.2 in /usr/local/lib/python3.10/dist-packages (0.4.2)\n",
            "Requirement already satisfied: numpy>=1.15 in /usr/local/lib/python3.10/dist-packages (from seml==0.4.2) (1.26.4)\n",
            "Requirement already satisfied: pymongo>=3.11 in /usr/local/lib/python3.10/dist-packages (from seml==0.4.2) (4.10.1)\n",
            "Requirement already satisfied: pandas in /usr/local/lib/python3.10/dist-packages (from seml==0.4.2) (2.2.2)\n",
            "Requirement already satisfied: sacred>=0.8.4 in /usr/local/lib/python3.10/dist-packages (from seml==0.4.2) (0.8.7)\n",
            "Requirement already satisfied: pyyaml>=5.1 in /usr/local/lib/python3.10/dist-packages (from seml==0.4.2) (6.0.2)\n",
            "Requirement already satisfied: jsonpickle>=2.2 in /usr/local/lib/python3.10/dist-packages (from seml==0.4.2) (4.0.1)\n",
            "Requirement already satisfied: munch>=2.0.4 in /usr/local/lib/python3.10/dist-packages (from seml==0.4.2) (4.0.0)\n",
            "Requirement already satisfied: tqdm>=4.36 in /usr/local/lib/python3.10/dist-packages (from seml==0.4.2) (4.67.1)\n",
            "Requirement already satisfied: debugpy>=1.2.1 in /usr/local/lib/python3.10/dist-packages (from seml==0.4.2) (1.8.0)\n",
            "Requirement already satisfied: requests>=2.28.1 in /usr/local/lib/python3.10/dist-packages (from seml==0.4.2) (2.32.3)\n",
            "Requirement already satisfied: typer<1.0,>=0.9 in /usr/local/lib/python3.10/dist-packages (from seml==0.4.2) (0.15.1)\n",
            "Requirement already satisfied: rich<14.0,>=13.0 in /usr/local/lib/python3.10/dist-packages (from seml==0.4.2) (13.9.4)\n",
            "Requirement already satisfied: omegaconf<3.0,>=2.3.0 in /usr/local/lib/python3.10/dist-packages (from seml==0.4.2) (2.3.0)\n",
            "Requirement already satisfied: antlr4-python3-runtime==4.9.* in /usr/local/lib/python3.10/dist-packages (from omegaconf<3.0,>=2.3.0->seml==0.4.2) (4.9.3)\n",
            "Requirement already satisfied: dnspython<3.0.0,>=1.16.0 in /usr/local/lib/python3.10/dist-packages (from pymongo>=3.11->seml==0.4.2) (2.7.0)\n",
            "Requirement already satisfied: charset-normalizer<4,>=2 in /usr/local/lib/python3.10/dist-packages (from requests>=2.28.1->seml==0.4.2) (3.4.1)\n",
            "Requirement already satisfied: idna<4,>=2.5 in /usr/local/lib/python3.10/dist-packages (from requests>=2.28.1->seml==0.4.2) (3.10)\n",
            "Requirement already satisfied: urllib3<3,>=1.21.1 in /usr/local/lib/python3.10/dist-packages (from requests>=2.28.1->seml==0.4.2) (2.3.0)\n",
            "Requirement already satisfied: certifi>=2017.4.17 in /usr/local/lib/python3.10/dist-packages (from requests>=2.28.1->seml==0.4.2) (2024.12.14)\n",
            "Requirement already satisfied: markdown-it-py>=2.2.0 in /usr/local/lib/python3.10/dist-packages (from rich<14.0,>=13.0->seml==0.4.2) (3.0.0)\n",
            "Requirement already satisfied: pygments<3.0.0,>=2.13.0 in /usr/local/lib/python3.10/dist-packages (from rich<14.0,>=13.0->seml==0.4.2) (2.18.0)\n",
            "Requirement already satisfied: typing-extensions<5.0,>=4.0.0 in /usr/local/lib/python3.10/dist-packages (from rich<14.0,>=13.0->seml==0.4.2) (4.12.2)\n",
            "Requirement already satisfied: docopt-ng<1.0,>=0.9 in /usr/local/lib/python3.10/dist-packages (from sacred>=0.8.4->seml==0.4.2) (0.9.0)\n",
            "Requirement already satisfied: wrapt<2.0,>=1.0 in /usr/local/lib/python3.10/dist-packages (from sacred>=0.8.4->seml==0.4.2) (1.17.0)\n",
            "Requirement already satisfied: py-cpuinfo>=4.0 in /usr/local/lib/python3.10/dist-packages (from sacred>=0.8.4->seml==0.4.2) (9.0.0)\n",
            "Requirement already satisfied: colorama>=0.4 in /usr/local/lib/python3.10/dist-packages (from sacred>=0.8.4->seml==0.4.2) (0.4.6)\n",
            "Requirement already satisfied: packaging>=18.0 in /usr/local/lib/python3.10/dist-packages (from sacred>=0.8.4->seml==0.4.2) (24.2)\n",
            "Requirement already satisfied: GitPython in /usr/local/lib/python3.10/dist-packages (from sacred>=0.8.4->seml==0.4.2) (3.1.44)\n",
            "Requirement already satisfied: click>=8.0.0 in /usr/local/lib/python3.10/dist-packages (from typer<1.0,>=0.9->seml==0.4.2) (8.1.8)\n",
            "Requirement already satisfied: shellingham>=1.3.0 in /usr/local/lib/python3.10/dist-packages (from typer<1.0,>=0.9->seml==0.4.2) (1.5.4)\n",
            "Requirement already satisfied: python-dateutil>=2.8.2 in /usr/local/lib/python3.10/dist-packages (from pandas->seml==0.4.2) (2.8.2)\n",
            "Requirement already satisfied: pytz>=2020.1 in /usr/local/lib/python3.10/dist-packages (from pandas->seml==0.4.2) (2024.2)\n",
            "Requirement already satisfied: tzdata>=2022.7 in /usr/local/lib/python3.10/dist-packages (from pandas->seml==0.4.2) (2024.2)\n",
            "Requirement already satisfied: mdurl~=0.1 in /usr/local/lib/python3.10/dist-packages (from markdown-it-py>=2.2.0->rich<14.0,>=13.0->seml==0.4.2) (0.1.2)\n",
            "Requirement already satisfied: six>=1.5 in /usr/local/lib/python3.10/dist-packages (from python-dateutil>=2.8.2->pandas->seml==0.4.2) (1.17.0)\n",
            "Requirement already satisfied: gitdb<5,>=4.0.1 in /usr/local/lib/python3.10/dist-packages (from GitPython->sacred>=0.8.4->seml==0.4.2) (4.0.12)\n",
            "Requirement already satisfied: smmap<6,>=3.0.1 in /usr/local/lib/python3.10/dist-packages (from gitdb<5,>=4.0.1->GitPython->sacred>=0.8.4->seml==0.4.2) (5.0.2)\n"
          ]
        }
      ]
    },
    {
      "cell_type": "code",
      "source": [
        "# run\n",
        "import seml"
      ],
      "metadata": {
        "id": "Mj15BeWkb2vU"
      },
      "execution_count": null,
      "outputs": []
    },
    {
      "cell_type": "code",
      "source": [
        "#7 run\n",
        "#%cd robustness_of_gnns_at_scale\n",
        "from matplotlib import pyplot as plt\n",
        "\n",
        "from experiments import (\n",
        "    experiment_train,\n",
        "    experiment_local_attack_direct,\n",
        "    experiment_global_attack_direct\n",
        ")\n",
        "\n",
        "%matplotlib inline\n",
        "\n",
        "%load_ext autoreload\n",
        "%autoreload 2"
      ],
      "metadata": {
        "id": "dla6ioi_FBWn",
        "outputId": "a46f91fd-1cc6-4cd9-da62-6e05a344ab19",
        "colab": {
          "base_uri": "https://localhost:8080/",
          "height": 397
        }
      },
      "execution_count": null,
      "outputs": [
        {
          "output_type": "stream",
          "name": "stderr",
          "text": [
            "/usr/local/lib/python3.10/dist-packages/torch/__config__.py:9: UserWarning: HIP initialization: Unexpected error from hipGetDeviceCount(). Did you run some cuda functions before calling NumHipDevices() that might have already set an error? Error 101: hipErrorInvalidDevice (Triggered internally at ../c10/hip/HIPFunctions.cpp:110.)\n",
            "  return torch._C._show_config()\n",
            "No CUDA runtime is found, using CUDA_HOME='/usr/local/cuda'\n",
            "\u001b[92mSuccessfully preprocessed all matching files.\u001b[0m\n",
            "WARNING:root:Cuda kernels could not loaded -> no CUDA support!\n",
            "WARNING:root:Importing setup_logger directly from seml is deprecated.\n",
            "Use from seml.experiment import setup_logger instead.\n",
            "Note that seml.experiment.Experiment already includes the logger setup.\n",
            "See https://github.com/TUM-DAML/seml/blob/master/examples/example_experiment.py\n"
          ]
        },
        {
          "output_type": "display_data",
          "data": {
            "text/plain": [
              "\u001b[2;36m[01/13/25 16:12:08]\u001b[0m\u001b[2;36m \u001b[0m\u001b[33mWARNING \u001b[0m Importing setup_logger directly from seml is deprecated.                \u001b]8;id=571800;file:///usr/local/lib/python3.10/dist-packages/seml/__init__.py\u001b\\\u001b[2m__init__.py\u001b[0m\u001b]8;;\u001b\\\u001b[2m:\u001b[0m\u001b]8;id=638847;file:///usr/local/lib/python3.10/dist-packages/seml/__init__.py#10\u001b\\\u001b[2m10\u001b[0m\u001b]8;;\u001b\\\n",
              "\u001b[2;36m                    \u001b[0m         Use from seml.experiment import setup_logger instead.                   \u001b[2m              \u001b[0m\n",
              "\u001b[2;36m                    \u001b[0m         Note that seml.experiment.Experiment already includes the logger setup. \u001b[2m              \u001b[0m\n",
              "\u001b[2;36m                    \u001b[0m         See                                                                     \u001b[2m              \u001b[0m\n",
              "\u001b[2;36m                    \u001b[0m         \u001b[4;94mhttps://github.com/TUM-DAML/seml/blob/master/examples/example_experimen\u001b[0m \u001b[2m              \u001b[0m\n",
              "\u001b[2;36m                    \u001b[0m         \u001b[4;94mt.py\u001b[0m                                                                    \u001b[2m              \u001b[0m\n"
            ],
            "text/html": [
              "<pre style=\"white-space:pre;overflow-x:auto;line-height:normal;font-family:Menlo,'DejaVu Sans Mono',consolas,'Courier New',monospace\"><span style=\"color: #7fbfbf; text-decoration-color: #7fbfbf\">[01/13/25 16:12:08] </span><span style=\"color: #808000; text-decoration-color: #808000\">WARNING </span> Importing setup_logger directly from seml is deprecated.                <a href=\"file:///usr/local/lib/python3.10/dist-packages/seml/__init__.py\" target=\"_blank\"><span style=\"color: #7f7f7f; text-decoration-color: #7f7f7f\">__init__.py</span></a><span style=\"color: #7f7f7f; text-decoration-color: #7f7f7f\">:</span><a href=\"file:///usr/local/lib/python3.10/dist-packages/seml/__init__.py#10\" target=\"_blank\"><span style=\"color: #7f7f7f; text-decoration-color: #7f7f7f\">10</span></a>\n",
              "<span style=\"color: #7fbfbf; text-decoration-color: #7fbfbf\">                    </span>         Use from seml.experiment import setup_logger instead.                   <span style=\"color: #7f7f7f; text-decoration-color: #7f7f7f\">              </span>\n",
              "<span style=\"color: #7fbfbf; text-decoration-color: #7fbfbf\">                    </span>         Note that seml.experiment.Experiment already includes the logger setup. <span style=\"color: #7f7f7f; text-decoration-color: #7f7f7f\">              </span>\n",
              "<span style=\"color: #7fbfbf; text-decoration-color: #7fbfbf\">                    </span>         See                                                                     <span style=\"color: #7f7f7f; text-decoration-color: #7f7f7f\">              </span>\n",
              "<span style=\"color: #7fbfbf; text-decoration-color: #7fbfbf\">                    </span>         <span style=\"color: #0000ff; text-decoration-color: #0000ff; text-decoration: underline\">https://github.com/TUM-DAML/seml/blob/master/examples/example_experimen</span> <span style=\"color: #7f7f7f; text-decoration-color: #7f7f7f\">              </span>\n",
              "<span style=\"color: #7fbfbf; text-decoration-color: #7fbfbf\">                    </span>         <span style=\"color: #0000ff; text-decoration-color: #0000ff; text-decoration: underline\">t.py</span>                                                                    <span style=\"color: #7f7f7f; text-decoration-color: #7f7f7f\">              </span>\n",
              "</pre>\n"
            ]
          },
          "metadata": {}
        },
        {
          "output_type": "display_data",
          "data": {
            "text/plain": [
              "\u001b[2;36m[01/13/25 16:12:08]\u001b[0m\u001b[2;36m \u001b[0m\u001b[33mWARNING \u001b[0m Importing setup_logger directly from seml is deprecated.                \u001b]8;id=528805;file:///usr/local/lib/python3.10/dist-packages/seml/__init__.py\u001b\\\u001b[2m__init__.py\u001b[0m\u001b]8;;\u001b\\\u001b[2m:\u001b[0m\u001b]8;id=242681;file:///usr/local/lib/python3.10/dist-packages/seml/__init__.py#10\u001b\\\u001b[2m10\u001b[0m\u001b]8;;\u001b\\\n",
              "\u001b[2;36m                    \u001b[0m         Use from seml.experiment import setup_logger instead.                   \u001b[2m              \u001b[0m\n",
              "\u001b[2;36m                    \u001b[0m         Note that seml.experiment.Experiment already includes the logger setup. \u001b[2m              \u001b[0m\n",
              "\u001b[2;36m                    \u001b[0m         See                                                                     \u001b[2m              \u001b[0m\n",
              "\u001b[2;36m                    \u001b[0m         \u001b[4;94mhttps://github.com/TUM-DAML/seml/blob/master/examples/example_experimen\u001b[0m \u001b[2m              \u001b[0m\n",
              "\u001b[2;36m                    \u001b[0m         \u001b[4;94mt.py\u001b[0m                                                                    \u001b[2m              \u001b[0m\n"
            ],
            "text/html": [
              "<pre style=\"white-space:pre;overflow-x:auto;line-height:normal;font-family:Menlo,'DejaVu Sans Mono',consolas,'Courier New',monospace\"><span style=\"color: #7fbfbf; text-decoration-color: #7fbfbf\">[01/13/25 16:12:08] </span><span style=\"color: #808000; text-decoration-color: #808000\">WARNING </span> Importing setup_logger directly from seml is deprecated.                <a href=\"file:///usr/local/lib/python3.10/dist-packages/seml/__init__.py\" target=\"_blank\"><span style=\"color: #7f7f7f; text-decoration-color: #7f7f7f\">__init__.py</span></a><span style=\"color: #7f7f7f; text-decoration-color: #7f7f7f\">:</span><a href=\"file:///usr/local/lib/python3.10/dist-packages/seml/__init__.py#10\" target=\"_blank\"><span style=\"color: #7f7f7f; text-decoration-color: #7f7f7f\">10</span></a>\n",
              "<span style=\"color: #7fbfbf; text-decoration-color: #7fbfbf\">                    </span>         Use from seml.experiment import setup_logger instead.                   <span style=\"color: #7f7f7f; text-decoration-color: #7f7f7f\">              </span>\n",
              "<span style=\"color: #7fbfbf; text-decoration-color: #7fbfbf\">                    </span>         Note that seml.experiment.Experiment already includes the logger setup. <span style=\"color: #7f7f7f; text-decoration-color: #7f7f7f\">              </span>\n",
              "<span style=\"color: #7fbfbf; text-decoration-color: #7fbfbf\">                    </span>         See                                                                     <span style=\"color: #7f7f7f; text-decoration-color: #7f7f7f\">              </span>\n",
              "<span style=\"color: #7fbfbf; text-decoration-color: #7fbfbf\">                    </span>         <span style=\"color: #0000ff; text-decoration-color: #0000ff; text-decoration: underline\">https://github.com/TUM-DAML/seml/blob/master/examples/example_experimen</span> <span style=\"color: #7f7f7f; text-decoration-color: #7f7f7f\">              </span>\n",
              "<span style=\"color: #7fbfbf; text-decoration-color: #7fbfbf\">                    </span>         <span style=\"color: #0000ff; text-decoration-color: #0000ff; text-decoration: underline\">t.py</span>                                                                    <span style=\"color: #7f7f7f; text-decoration-color: #7f7f7f\">              </span>\n",
              "</pre>\n"
            ]
          },
          "metadata": {}
        }
      ]
    },
    {
      "cell_type": "markdown",
      "source": [
        "## 1. Training\n",
        "\n",
        "For the training and evaluation code we decided to provide Sacred experiments which make it very easy to run the same code from the command line or on your cluster. To train or attack the models you can use the `script_execute_experiment` script and simply specify the respective configuration or execute the experiment directly by passing the desired configuration in [experiments/experiment_train.py](https://github.com/sigeisler/robustness_of_gnns_at_scale/blob/main/experiments/experiment_train.py#L74).\n",
        "\n",
        "In the example below, we train a `GCN` on `Cora ML`."
      ],
      "metadata": {
        "id": "Rb2y6lUbdYi_"
      }
    },
    {
      "cell_type": "code",
      "source": [
        "!pwd"
      ],
      "metadata": {
        "id": "Qep-wC-OYHIH",
        "outputId": "6bcae040-69eb-47be-e5b1-21ac822d1a8e",
        "colab": {
          "base_uri": "https://localhost:8080/"
        }
      },
      "execution_count": null,
      "outputs": [
        {
          "output_type": "stream",
          "name": "stdout",
          "text": [
            "/content/robustness_of_gnns_at_scale\n"
          ]
        }
      ]
    },
    {
      "cell_type": "code",
      "source": [
        "# zum laufen bringen:\n",
        "# alles ausführen\n",
        "# in rgnn_at_scale/models/gcn.py folgende imports einbauen:\n",
        "# import collections.abc\n",
        "# import collections\n",
        "# + Zeile 153 zu collections.abc.Sequence ändern\n",
        "# Nach der obigen Anpassen kam trotzdem der AttributeError module 'collection' has no module 'Sequence'\n",
        "# Dieser Fehler kam dann nicht mehr nach dem neustarten der Sitzung\n",
        "# Dann Zelle #7 und #5.1 vorher ausführen, es kann sein, dass alle imports nochmal ausgeführt werden müssen\n"
      ],
      "metadata": {
        "colab": {
          "base_uri": "https://localhost:8080/"
        },
        "id": "3FY3yZsxt98R",
        "outputId": "7beabaa1-d7bc-4d59-9429-7182eac3c5b2"
      },
      "execution_count": null,
      "outputs": [
        {
          "output_type": "stream",
          "name": "stdout",
          "text": [
            "3.10.12 (main, Nov  6 2024, 20:22:13) [GCC 11.4.0]\n"
          ]
        }
      ]
    },
    {
      "cell_type": "code",
      "source": [
        "train_statistics = experiment_train.run(\n",
        "    data_dir = './data',\n",
        "    dataset = 'cora_ml',\n",
        "    model_params = dict(\n",
        "        label=\"Vanilla GCN\",\n",
        "        model=\"GCN\",\n",
        "        do_cache_adj_prep=True,\n",
        "        n_filters=64,\n",
        "        dropout=0.5,\n",
        "        svd_params=None,\n",
        "        jaccard_params=None,\n",
        "        gdc_params={\"alpha\": 0.15, \"k\": 64}),\n",
        "    train_params = dict(\n",
        "        lr=1e-2,\n",
        "        weight_decay=1e-3,\n",
        "        patience=300,\n",
        "        max_epochs=3000),\n",
        "    binary_attr = False,\n",
        "    make_undirected = True,\n",
        "    seed=0,\n",
        "    artifact_dir = 'cache',\n",
        "    model_storage_type = 'demo',\n",
        "    ppr_cache_params = dict(),\n",
        "    #device = 0,\n",
        "    #data_device = 0,\n",
        "    device = \"cpu\",\n",
        "    data_device = \"cpu\",\n",
        "    display_steps = 100,\n",
        "    debug_level = \"info\"\n",
        ")\n",
        "\n",
        "# plot train and val loss curves\n",
        "fig, ax = plt.subplots()\n",
        "\n",
        "color = plt.rcParams['axes.prop_cycle'].by_key()['color'][0]\n",
        "ax.set_xlabel('Epoch $t$')\n",
        "ax.set_ylabel(\"Loss\")\n",
        "ax.plot(train_statistics['trace_train'], color=color, label='Train')\n",
        "\n",
        "color = plt.rcParams['axes.prop_cycle'].by_key()['color'][1]\n",
        "ax.plot(train_statistics['trace_val'], color=color, label='Val')\n",
        "ax.legend()\n",
        "\n",
        "plt.gcf().show()"
      ],
      "metadata": {
        "id": "6mga1GGvdbLp",
        "colab": {
          "base_uri": "https://localhost:8080/",
          "height": 1000,
          "referenced_widgets": [
            "67d8e96ee1d143c4bc1550a8178070b1",
            "4408e664f5aa4e57bb5a52188390c797",
            "bf6bcc5cb151425eb526d9473b547e40",
            "3438434584a84ec09a944139967c1638",
            "068e14304d914ad58d8407fe9d08a543",
            "b1205d28d1bc438e9425123763edb7d8",
            "1abea0dd7c3b46eda53cc42b51ac441f",
            "70edbfc3a1a145ec9d20edf84a0d7bad",
            "7d15ca35fa604bfcac1ff397b5d6b3cd",
            "305895c8bc8341d4b539bc702badfd3f",
            "b5041847938a4f8395d40103b9b95217"
          ]
        },
        "outputId": "b1a0d353-39a5-49e7-d27f-a624329499f5"
      },
      "execution_count": null,
      "outputs": [
        {
          "output_type": "display_data",
          "data": {
            "text/plain": [
              "\u001b[2;36m[01/13/25 16:12:13]\u001b[0m\u001b[2;36m \u001b[0m\u001b[34mINFO    \u001b[0m \u001b[1m{\u001b[0m\u001b[32m'dataset'\u001b[0m: \u001b[32m'cora_ml'\u001b[0m, \u001b[32m'model_params'\u001b[0m: \u001b[1m{\u001b[0m\u001b[32m'label'\u001b[0m: \u001b[32m'Vanilla \u001b[0m     \u001b]8;id=477531;file:///content/robustness_of_gnns_at_scale/experiments/experiment_train.py\u001b\\\u001b[2mexperiment_train.py\u001b[0m\u001b]8;;\u001b\\\u001b[2m:\u001b[0m\u001b]8;id=372465;file:///content/robustness_of_gnns_at_scale/experiments/experiment_train.py#140\u001b\\\u001b[2m140\u001b[0m\u001b]8;;\u001b\\\n",
              "\u001b[2;36m                    \u001b[0m         \u001b[32mGCN'\u001b[0m, \u001b[32m'model'\u001b[0m: \u001b[32m'GCN'\u001b[0m, \u001b[32m'do_cache_adj_prep'\u001b[0m: \u001b[3;92mTrue\u001b[0m, \u001b[32m'n_filters'\u001b[0m:  \u001b[2m                       \u001b[0m\n",
              "\u001b[2;36m                    \u001b[0m         \u001b[1;36m64\u001b[0m, \u001b[32m'dropout'\u001b[0m: \u001b[1;36m0.5\u001b[0m, \u001b[32m'svd_params'\u001b[0m: \u001b[3;35mNone\u001b[0m, \u001b[32m'jaccard_params'\u001b[0m:      \u001b[2m                       \u001b[0m\n",
              "\u001b[2;36m                    \u001b[0m         \u001b[3;35mNone\u001b[0m, \u001b[32m'gdc_params'\u001b[0m: \u001b[1m{\u001b[0m\u001b[32m'alpha'\u001b[0m: \u001b[1;36m0.15\u001b[0m, \u001b[32m'k'\u001b[0m: \u001b[1;36m64\u001b[0m\u001b[1m}\u001b[0m\u001b[1m}\u001b[0m, \u001b[32m'train_params'\u001b[0m: \u001b[2m                       \u001b[0m\n",
              "\u001b[2;36m                    \u001b[0m         \u001b[1m{\u001b[0m\u001b[32m'lr'\u001b[0m: \u001b[1;36m0.01\u001b[0m, \u001b[32m'weight_decay'\u001b[0m: \u001b[1;36m0.001\u001b[0m, \u001b[32m'patience'\u001b[0m: \u001b[1;36m300\u001b[0m,           \u001b[2m                       \u001b[0m\n",
              "\u001b[2;36m                    \u001b[0m         \u001b[32m'max_epochs'\u001b[0m: \u001b[1;36m3000\u001b[0m\u001b[1m}\u001b[0m, \u001b[32m'binary_attr'\u001b[0m: \u001b[3;91mFalse\u001b[0m, \u001b[32m'make_undirected'\u001b[0m:  \u001b[2m                       \u001b[0m\n",
              "\u001b[2;36m                    \u001b[0m         \u001b[3;92mTrue\u001b[0m, \u001b[32m'seed'\u001b[0m: \u001b[1;36m0\u001b[0m, \u001b[32m'artifact_dir'\u001b[0m: \u001b[32m'cache'\u001b[0m,                      \u001b[2m                       \u001b[0m\n",
              "\u001b[2;36m                    \u001b[0m         \u001b[32m'model_storage_type'\u001b[0m: \u001b[32m'demo'\u001b[0m, \u001b[32m'ppr_cache_params'\u001b[0m: \u001b[1m{\u001b[0m\u001b[1m}\u001b[0m,          \u001b[2m                       \u001b[0m\n",
              "\u001b[2;36m                    \u001b[0m         \u001b[32m'device'\u001b[0m: \u001b[32m'cpu'\u001b[0m, \u001b[32m'display_steps'\u001b[0m: \u001b[1;36m100\u001b[0m, \u001b[32m'data_device'\u001b[0m: \u001b[32m'cpu'\u001b[0m\u001b[1m}\u001b[0m   \u001b[2m                       \u001b[0m\n"
            ],
            "text/html": [
              "<pre style=\"white-space:pre;overflow-x:auto;line-height:normal;font-family:Menlo,'DejaVu Sans Mono',consolas,'Courier New',monospace\"><span style=\"color: #7fbfbf; text-decoration-color: #7fbfbf\">[01/13/25 16:12:13] </span><span style=\"color: #000080; text-decoration-color: #000080\">INFO    </span> <span style=\"font-weight: bold\">{</span><span style=\"color: #008000; text-decoration-color: #008000\">'dataset'</span>: <span style=\"color: #008000; text-decoration-color: #008000\">'cora_ml'</span>, <span style=\"color: #008000; text-decoration-color: #008000\">'model_params'</span>: <span style=\"font-weight: bold\">{</span><span style=\"color: #008000; text-decoration-color: #008000\">'label'</span>: <span style=\"color: #008000; text-decoration-color: #008000\">'Vanilla </span>     <a href=\"file:///content/robustness_of_gnns_at_scale/experiments/experiment_train.py\" target=\"_blank\"><span style=\"color: #7f7f7f; text-decoration-color: #7f7f7f\">experiment_train.py</span></a><span style=\"color: #7f7f7f; text-decoration-color: #7f7f7f\">:</span><a href=\"file:///content/robustness_of_gnns_at_scale/experiments/experiment_train.py#140\" target=\"_blank\"><span style=\"color: #7f7f7f; text-decoration-color: #7f7f7f\">140</span></a>\n",
              "<span style=\"color: #7fbfbf; text-decoration-color: #7fbfbf\">                    </span>         <span style=\"color: #008000; text-decoration-color: #008000\">GCN'</span>, <span style=\"color: #008000; text-decoration-color: #008000\">'model'</span>: <span style=\"color: #008000; text-decoration-color: #008000\">'GCN'</span>, <span style=\"color: #008000; text-decoration-color: #008000\">'do_cache_adj_prep'</span>: <span style=\"color: #00ff00; text-decoration-color: #00ff00; font-style: italic\">True</span>, <span style=\"color: #008000; text-decoration-color: #008000\">'n_filters'</span>:  <span style=\"color: #7f7f7f; text-decoration-color: #7f7f7f\">                       </span>\n",
              "<span style=\"color: #7fbfbf; text-decoration-color: #7fbfbf\">                    </span>         <span style=\"color: #008080; text-decoration-color: #008080; font-weight: bold\">64</span>, <span style=\"color: #008000; text-decoration-color: #008000\">'dropout'</span>: <span style=\"color: #008080; text-decoration-color: #008080; font-weight: bold\">0.5</span>, <span style=\"color: #008000; text-decoration-color: #008000\">'svd_params'</span>: <span style=\"color: #800080; text-decoration-color: #800080; font-style: italic\">None</span>, <span style=\"color: #008000; text-decoration-color: #008000\">'jaccard_params'</span>:      <span style=\"color: #7f7f7f; text-decoration-color: #7f7f7f\">                       </span>\n",
              "<span style=\"color: #7fbfbf; text-decoration-color: #7fbfbf\">                    </span>         <span style=\"color: #800080; text-decoration-color: #800080; font-style: italic\">None</span>, <span style=\"color: #008000; text-decoration-color: #008000\">'gdc_params'</span>: <span style=\"font-weight: bold\">{</span><span style=\"color: #008000; text-decoration-color: #008000\">'alpha'</span>: <span style=\"color: #008080; text-decoration-color: #008080; font-weight: bold\">0.15</span>, <span style=\"color: #008000; text-decoration-color: #008000\">'k'</span>: <span style=\"color: #008080; text-decoration-color: #008080; font-weight: bold\">64</span><span style=\"font-weight: bold\">}}</span>, <span style=\"color: #008000; text-decoration-color: #008000\">'train_params'</span>: <span style=\"color: #7f7f7f; text-decoration-color: #7f7f7f\">                       </span>\n",
              "<span style=\"color: #7fbfbf; text-decoration-color: #7fbfbf\">                    </span>         <span style=\"font-weight: bold\">{</span><span style=\"color: #008000; text-decoration-color: #008000\">'lr'</span>: <span style=\"color: #008080; text-decoration-color: #008080; font-weight: bold\">0.01</span>, <span style=\"color: #008000; text-decoration-color: #008000\">'weight_decay'</span>: <span style=\"color: #008080; text-decoration-color: #008080; font-weight: bold\">0.001</span>, <span style=\"color: #008000; text-decoration-color: #008000\">'patience'</span>: <span style=\"color: #008080; text-decoration-color: #008080; font-weight: bold\">300</span>,           <span style=\"color: #7f7f7f; text-decoration-color: #7f7f7f\">                       </span>\n",
              "<span style=\"color: #7fbfbf; text-decoration-color: #7fbfbf\">                    </span>         <span style=\"color: #008000; text-decoration-color: #008000\">'max_epochs'</span>: <span style=\"color: #008080; text-decoration-color: #008080; font-weight: bold\">3000</span><span style=\"font-weight: bold\">}</span>, <span style=\"color: #008000; text-decoration-color: #008000\">'binary_attr'</span>: <span style=\"color: #ff0000; text-decoration-color: #ff0000; font-style: italic\">False</span>, <span style=\"color: #008000; text-decoration-color: #008000\">'make_undirected'</span>:  <span style=\"color: #7f7f7f; text-decoration-color: #7f7f7f\">                       </span>\n",
              "<span style=\"color: #7fbfbf; text-decoration-color: #7fbfbf\">                    </span>         <span style=\"color: #00ff00; text-decoration-color: #00ff00; font-style: italic\">True</span>, <span style=\"color: #008000; text-decoration-color: #008000\">'seed'</span>: <span style=\"color: #008080; text-decoration-color: #008080; font-weight: bold\">0</span>, <span style=\"color: #008000; text-decoration-color: #008000\">'artifact_dir'</span>: <span style=\"color: #008000; text-decoration-color: #008000\">'cache'</span>,                      <span style=\"color: #7f7f7f; text-decoration-color: #7f7f7f\">                       </span>\n",
              "<span style=\"color: #7fbfbf; text-decoration-color: #7fbfbf\">                    </span>         <span style=\"color: #008000; text-decoration-color: #008000\">'model_storage_type'</span>: <span style=\"color: #008000; text-decoration-color: #008000\">'demo'</span>, <span style=\"color: #008000; text-decoration-color: #008000\">'ppr_cache_params'</span>: <span style=\"font-weight: bold\">{}</span>,          <span style=\"color: #7f7f7f; text-decoration-color: #7f7f7f\">                       </span>\n",
              "<span style=\"color: #7fbfbf; text-decoration-color: #7fbfbf\">                    </span>         <span style=\"color: #008000; text-decoration-color: #008000\">'device'</span>: <span style=\"color: #008000; text-decoration-color: #008000\">'cpu'</span>, <span style=\"color: #008000; text-decoration-color: #008000\">'display_steps'</span>: <span style=\"color: #008080; text-decoration-color: #008080; font-weight: bold\">100</span>, <span style=\"color: #008000; text-decoration-color: #008000\">'data_device'</span>: <span style=\"color: #008000; text-decoration-color: #008000\">'cpu'</span><span style=\"font-weight: bold\">}</span>   <span style=\"color: #7f7f7f; text-decoration-color: #7f7f7f\">                       </span>\n",
              "</pre>\n"
            ]
          },
          "metadata": {}
        },
        {
          "output_type": "display_data",
          "data": {
            "text/plain": [
              "\u001b[2;36m                   \u001b[0m\u001b[2;36m \u001b[0m\u001b[34mINFO    \u001b[0m Training set size: \u001b[1;36m140\u001b[0m                                         \u001b]8;id=598325;file:///content/robustness_of_gnns_at_scale/experiments/experiment_train.py\u001b\\\u001b[2mexperiment_train.py\u001b[0m\u001b]8;;\u001b\\\u001b[2m:\u001b[0m\u001b]8;id=727752;file:///content/robustness_of_gnns_at_scale/experiments/experiment_train.py#161\u001b\\\u001b[2m161\u001b[0m\u001b]8;;\u001b\\\n"
            ],
            "text/html": [
              "<pre style=\"white-space:pre;overflow-x:auto;line-height:normal;font-family:Menlo,'DejaVu Sans Mono',consolas,'Courier New',monospace\"><span style=\"color: #7fbfbf; text-decoration-color: #7fbfbf\">                    </span><span style=\"color: #000080; text-decoration-color: #000080\">INFO    </span> Training set size: <span style=\"color: #008080; text-decoration-color: #008080; font-weight: bold\">140</span>                                         <a href=\"file:///content/robustness_of_gnns_at_scale/experiments/experiment_train.py\" target=\"_blank\"><span style=\"color: #7f7f7f; text-decoration-color: #7f7f7f\">experiment_train.py</span></a><span style=\"color: #7f7f7f; text-decoration-color: #7f7f7f\">:</span><a href=\"file:///content/robustness_of_gnns_at_scale/experiments/experiment_train.py#161\" target=\"_blank\"><span style=\"color: #7f7f7f; text-decoration-color: #7f7f7f\">161</span></a>\n",
              "</pre>\n"
            ]
          },
          "metadata": {}
        },
        {
          "output_type": "display_data",
          "data": {
            "text/plain": [
              "\u001b[2;36m                   \u001b[0m\u001b[2;36m \u001b[0m\u001b[34mINFO    \u001b[0m Validation set size: \u001b[1;36m140\u001b[0m                                       \u001b]8;id=591189;file:///content/robustness_of_gnns_at_scale/experiments/experiment_train.py\u001b\\\u001b[2mexperiment_train.py\u001b[0m\u001b]8;;\u001b\\\u001b[2m:\u001b[0m\u001b]8;id=458021;file:///content/robustness_of_gnns_at_scale/experiments/experiment_train.py#162\u001b\\\u001b[2m162\u001b[0m\u001b]8;;\u001b\\\n"
            ],
            "text/html": [
              "<pre style=\"white-space:pre;overflow-x:auto;line-height:normal;font-family:Menlo,'DejaVu Sans Mono',consolas,'Courier New',monospace\"><span style=\"color: #7fbfbf; text-decoration-color: #7fbfbf\">                    </span><span style=\"color: #000080; text-decoration-color: #000080\">INFO    </span> Validation set size: <span style=\"color: #008080; text-decoration-color: #008080; font-weight: bold\">140</span>                                       <a href=\"file:///content/robustness_of_gnns_at_scale/experiments/experiment_train.py\" target=\"_blank\"><span style=\"color: #7f7f7f; text-decoration-color: #7f7f7f\">experiment_train.py</span></a><span style=\"color: #7f7f7f; text-decoration-color: #7f7f7f\">:</span><a href=\"file:///content/robustness_of_gnns_at_scale/experiments/experiment_train.py#162\" target=\"_blank\"><span style=\"color: #7f7f7f; text-decoration-color: #7f7f7f\">162</span></a>\n",
              "</pre>\n"
            ]
          },
          "metadata": {}
        },
        {
          "output_type": "display_data",
          "data": {
            "text/plain": [
              "\u001b[2;36m                   \u001b[0m\u001b[2;36m \u001b[0m\u001b[34mINFO    \u001b[0m Test set size: \u001b[1;36m2530\u001b[0m                                            \u001b]8;id=174480;file:///content/robustness_of_gnns_at_scale/experiments/experiment_train.py\u001b\\\u001b[2mexperiment_train.py\u001b[0m\u001b]8;;\u001b\\\u001b[2m:\u001b[0m\u001b]8;id=704365;file:///content/robustness_of_gnns_at_scale/experiments/experiment_train.py#163\u001b\\\u001b[2m163\u001b[0m\u001b]8;;\u001b\\\n"
            ],
            "text/html": [
              "<pre style=\"white-space:pre;overflow-x:auto;line-height:normal;font-family:Menlo,'DejaVu Sans Mono',consolas,'Courier New',monospace\"><span style=\"color: #7fbfbf; text-decoration-color: #7fbfbf\">                    </span><span style=\"color: #000080; text-decoration-color: #000080\">INFO    </span> Test set size: <span style=\"color: #008080; text-decoration-color: #008080; font-weight: bold\">2530</span>                                            <a href=\"file:///content/robustness_of_gnns_at_scale/experiments/experiment_train.py\" target=\"_blank\"><span style=\"color: #7f7f7f; text-decoration-color: #7f7f7f\">experiment_train.py</span></a><span style=\"color: #7f7f7f; text-decoration-color: #7f7f7f\">:</span><a href=\"file:///content/robustness_of_gnns_at_scale/experiments/experiment_train.py#163\" target=\"_blank\"><span style=\"color: #7f7f7f; text-decoration-color: #7f7f7f\">163</span></a>\n",
              "</pre>\n"
            ]
          },
          "metadata": {}
        },
        {
          "output_type": "display_data",
          "data": {
            "text/plain": [
              "\u001b[2;36m                   \u001b[0m\u001b[2;36m \u001b[0m\u001b[34mINFO    \u001b[0m Memory Usage after loading the dataset:                        \u001b]8;id=543905;file:///content/robustness_of_gnns_at_scale/experiments/experiment_train.py\u001b\\\u001b[2mexperiment_train.py\u001b[0m\u001b]8;;\u001b\\\u001b[2m:\u001b[0m\u001b]8;id=621852;file:///content/robustness_of_gnns_at_scale/experiments/experiment_train.py#183\u001b\\\u001b[2m183\u001b[0m\u001b]8;;\u001b\\\n"
            ],
            "text/html": [
              "<pre style=\"white-space:pre;overflow-x:auto;line-height:normal;font-family:Menlo,'DejaVu Sans Mono',consolas,'Courier New',monospace\"><span style=\"color: #7fbfbf; text-decoration-color: #7fbfbf\">                    </span><span style=\"color: #000080; text-decoration-color: #000080\">INFO    </span> Memory Usage after loading the dataset:                        <a href=\"file:///content/robustness_of_gnns_at_scale/experiments/experiment_train.py\" target=\"_blank\"><span style=\"color: #7f7f7f; text-decoration-color: #7f7f7f\">experiment_train.py</span></a><span style=\"color: #7f7f7f; text-decoration-color: #7f7f7f\">:</span><a href=\"file:///content/robustness_of_gnns_at_scale/experiments/experiment_train.py#183\" target=\"_blank\"><span style=\"color: #7f7f7f; text-decoration-color: #7f7f7f\">183</span></a>\n",
              "</pre>\n"
            ]
          },
          "metadata": {}
        },
        {
          "output_type": "display_data",
          "data": {
            "text/plain": [
              "\u001b[2;36m                   \u001b[0m\u001b[2;36m \u001b[0m\u001b[34mINFO    \u001b[0m \u001b[1;36m0.7180519104003906\u001b[0m                                             \u001b]8;id=765526;file:///content/robustness_of_gnns_at_scale/experiments/experiment_train.py\u001b\\\u001b[2mexperiment_train.py\u001b[0m\u001b]8;;\u001b\\\u001b[2m:\u001b[0m\u001b]8;id=39772;file:///content/robustness_of_gnns_at_scale/experiments/experiment_train.py#184\u001b\\\u001b[2m184\u001b[0m\u001b]8;;\u001b\\\n"
            ],
            "text/html": [
              "<pre style=\"white-space:pre;overflow-x:auto;line-height:normal;font-family:Menlo,'DejaVu Sans Mono',consolas,'Courier New',monospace\"><span style=\"color: #7fbfbf; text-decoration-color: #7fbfbf\">                    </span><span style=\"color: #000080; text-decoration-color: #000080\">INFO    </span> <span style=\"color: #008080; text-decoration-color: #008080; font-weight: bold\">0.7180519104003906</span>                                             <a href=\"file:///content/robustness_of_gnns_at_scale/experiments/experiment_train.py\" target=\"_blank\"><span style=\"color: #7f7f7f; text-decoration-color: #7f7f7f\">experiment_train.py</span></a><span style=\"color: #7f7f7f; text-decoration-color: #7f7f7f\">:</span><a href=\"file:///content/robustness_of_gnns_at_scale/experiments/experiment_train.py#184\" target=\"_blank\"><span style=\"color: #7f7f7f; text-decoration-color: #7f7f7f\">184</span></a>\n",
              "</pre>\n"
            ]
          },
          "metadata": {}
        },
        {
          "output_type": "display_data",
          "data": {
            "text/plain": [
              "Training...:   0%|          | 0/3000 [00:00<?, ?it/s]"
            ],
            "application/vnd.jupyter.widget-view+json": {
              "version_major": 2,
              "version_minor": 0,
              "model_id": "67d8e96ee1d143c4bc1550a8178070b1"
            }
          },
          "metadata": {}
        },
        {
          "output_type": "display_data",
          "data": {
            "text/plain": [
              "\u001b[2;36m[01/13/25 16:12:17]\u001b[0m\u001b[2;36m \u001b[0m\u001b[34mINFO    \u001b[0m                                                                            \u001b]8;id=88689;file:///content/robustness_of_gnns_at_scale/rgnn_at_scale/train.py\u001b\\\u001b[2mtrain.py\u001b[0m\u001b]8;;\u001b\\\u001b[2m:\u001b[0m\u001b]8;id=29491;file:///content/robustness_of_gnns_at_scale/rgnn_at_scale/train.py#81\u001b\\\u001b[2m81\u001b[0m\u001b]8;;\u001b\\\n",
              "\u001b[2;36m                    \u001b[0m         Epoch    \u001b[1;36m0\u001b[0m: loss_train: \u001b[1;36m1.94657\u001b[0m, loss_val: \u001b[1;36m1.94479\u001b[0m, acc_train: \u001b[1;36m0.10000\u001b[0m,    \u001b[2m           \u001b[0m\n",
              "\u001b[2;36m                    \u001b[0m         acc_val: \u001b[1;36m0.19286\u001b[0m                                                           \u001b[2m           \u001b[0m\n"
            ],
            "text/html": [
              "<pre style=\"white-space:pre;overflow-x:auto;line-height:normal;font-family:Menlo,'DejaVu Sans Mono',consolas,'Courier New',monospace\"><span style=\"color: #7fbfbf; text-decoration-color: #7fbfbf\">[01/13/25 16:12:17] </span><span style=\"color: #000080; text-decoration-color: #000080\">INFO    </span>                                                                            <a href=\"file:///content/robustness_of_gnns_at_scale/rgnn_at_scale/train.py\" target=\"_blank\"><span style=\"color: #7f7f7f; text-decoration-color: #7f7f7f\">train.py</span></a><span style=\"color: #7f7f7f; text-decoration-color: #7f7f7f\">:</span><a href=\"file:///content/robustness_of_gnns_at_scale/rgnn_at_scale/train.py#81\" target=\"_blank\"><span style=\"color: #7f7f7f; text-decoration-color: #7f7f7f\">81</span></a>\n",
              "<span style=\"color: #7fbfbf; text-decoration-color: #7fbfbf\">                    </span>         Epoch    <span style=\"color: #008080; text-decoration-color: #008080; font-weight: bold\">0</span>: loss_train: <span style=\"color: #008080; text-decoration-color: #008080; font-weight: bold\">1.94657</span>, loss_val: <span style=\"color: #008080; text-decoration-color: #008080; font-weight: bold\">1.94479</span>, acc_train: <span style=\"color: #008080; text-decoration-color: #008080; font-weight: bold\">0.10000</span>,    <span style=\"color: #7f7f7f; text-decoration-color: #7f7f7f\">           </span>\n",
              "<span style=\"color: #7fbfbf; text-decoration-color: #7fbfbf\">                    </span>         acc_val: <span style=\"color: #008080; text-decoration-color: #008080; font-weight: bold\">0.19286</span>                                                           <span style=\"color: #7f7f7f; text-decoration-color: #7f7f7f\">           </span>\n",
              "</pre>\n"
            ]
          },
          "metadata": {}
        },
        {
          "output_type": "display_data",
          "data": {
            "text/plain": [
              "\u001b[2;36m[01/13/25 16:12:28]\u001b[0m\u001b[2;36m \u001b[0m\u001b[34mINFO    \u001b[0m                                                                            \u001b]8;id=280712;file:///content/robustness_of_gnns_at_scale/rgnn_at_scale/train.py\u001b\\\u001b[2mtrain.py\u001b[0m\u001b]8;;\u001b\\\u001b[2m:\u001b[0m\u001b]8;id=170634;file:///content/robustness_of_gnns_at_scale/rgnn_at_scale/train.py#81\u001b\\\u001b[2m81\u001b[0m\u001b]8;;\u001b\\\n",
              "\u001b[2;36m                    \u001b[0m         Epoch  \u001b[1;36m100\u001b[0m: loss_train: \u001b[1;36m0.09280\u001b[0m, loss_val: \u001b[1;36m0.42191\u001b[0m, acc_train: \u001b[1;36m1.00000\u001b[0m,    \u001b[2m           \u001b[0m\n",
              "\u001b[2;36m                    \u001b[0m         acc_val: \u001b[1;36m0.88571\u001b[0m                                                           \u001b[2m           \u001b[0m\n"
            ],
            "text/html": [
              "<pre style=\"white-space:pre;overflow-x:auto;line-height:normal;font-family:Menlo,'DejaVu Sans Mono',consolas,'Courier New',monospace\"><span style=\"color: #7fbfbf; text-decoration-color: #7fbfbf\">[01/13/25 16:12:28] </span><span style=\"color: #000080; text-decoration-color: #000080\">INFO    </span>                                                                            <a href=\"file:///content/robustness_of_gnns_at_scale/rgnn_at_scale/train.py\" target=\"_blank\"><span style=\"color: #7f7f7f; text-decoration-color: #7f7f7f\">train.py</span></a><span style=\"color: #7f7f7f; text-decoration-color: #7f7f7f\">:</span><a href=\"file:///content/robustness_of_gnns_at_scale/rgnn_at_scale/train.py#81\" target=\"_blank\"><span style=\"color: #7f7f7f; text-decoration-color: #7f7f7f\">81</span></a>\n",
              "<span style=\"color: #7fbfbf; text-decoration-color: #7fbfbf\">                    </span>         Epoch  <span style=\"color: #008080; text-decoration-color: #008080; font-weight: bold\">100</span>: loss_train: <span style=\"color: #008080; text-decoration-color: #008080; font-weight: bold\">0.09280</span>, loss_val: <span style=\"color: #008080; text-decoration-color: #008080; font-weight: bold\">0.42191</span>, acc_train: <span style=\"color: #008080; text-decoration-color: #008080; font-weight: bold\">1.00000</span>,    <span style=\"color: #7f7f7f; text-decoration-color: #7f7f7f\">           </span>\n",
              "<span style=\"color: #7fbfbf; text-decoration-color: #7fbfbf\">                    </span>         acc_val: <span style=\"color: #008080; text-decoration-color: #008080; font-weight: bold\">0.88571</span>                                                           <span style=\"color: #7f7f7f; text-decoration-color: #7f7f7f\">           </span>\n",
              "</pre>\n"
            ]
          },
          "metadata": {}
        },
        {
          "output_type": "display_data",
          "data": {
            "text/plain": [
              "\u001b[2;36m[01/13/25 16:12:40]\u001b[0m\u001b[2;36m \u001b[0m\u001b[34mINFO    \u001b[0m                                                                            \u001b]8;id=619924;file:///content/robustness_of_gnns_at_scale/rgnn_at_scale/train.py\u001b\\\u001b[2mtrain.py\u001b[0m\u001b]8;;\u001b\\\u001b[2m:\u001b[0m\u001b]8;id=233534;file:///content/robustness_of_gnns_at_scale/rgnn_at_scale/train.py#81\u001b\\\u001b[2m81\u001b[0m\u001b]8;;\u001b\\\n",
              "\u001b[2;36m                    \u001b[0m         Epoch  \u001b[1;36m200\u001b[0m: loss_train: \u001b[1;36m0.07180\u001b[0m, loss_val: \u001b[1;36m0.37593\u001b[0m, acc_train: \u001b[1;36m1.00000\u001b[0m,    \u001b[2m           \u001b[0m\n",
              "\u001b[2;36m                    \u001b[0m         acc_val: \u001b[1;36m0.90000\u001b[0m                                                           \u001b[2m           \u001b[0m\n"
            ],
            "text/html": [
              "<pre style=\"white-space:pre;overflow-x:auto;line-height:normal;font-family:Menlo,'DejaVu Sans Mono',consolas,'Courier New',monospace\"><span style=\"color: #7fbfbf; text-decoration-color: #7fbfbf\">[01/13/25 16:12:40] </span><span style=\"color: #000080; text-decoration-color: #000080\">INFO    </span>                                                                            <a href=\"file:///content/robustness_of_gnns_at_scale/rgnn_at_scale/train.py\" target=\"_blank\"><span style=\"color: #7f7f7f; text-decoration-color: #7f7f7f\">train.py</span></a><span style=\"color: #7f7f7f; text-decoration-color: #7f7f7f\">:</span><a href=\"file:///content/robustness_of_gnns_at_scale/rgnn_at_scale/train.py#81\" target=\"_blank\"><span style=\"color: #7f7f7f; text-decoration-color: #7f7f7f\">81</span></a>\n",
              "<span style=\"color: #7fbfbf; text-decoration-color: #7fbfbf\">                    </span>         Epoch  <span style=\"color: #008080; text-decoration-color: #008080; font-weight: bold\">200</span>: loss_train: <span style=\"color: #008080; text-decoration-color: #008080; font-weight: bold\">0.07180</span>, loss_val: <span style=\"color: #008080; text-decoration-color: #008080; font-weight: bold\">0.37593</span>, acc_train: <span style=\"color: #008080; text-decoration-color: #008080; font-weight: bold\">1.00000</span>,    <span style=\"color: #7f7f7f; text-decoration-color: #7f7f7f\">           </span>\n",
              "<span style=\"color: #7fbfbf; text-decoration-color: #7fbfbf\">                    </span>         acc_val: <span style=\"color: #008080; text-decoration-color: #008080; font-weight: bold\">0.90000</span>                                                           <span style=\"color: #7f7f7f; text-decoration-color: #7f7f7f\">           </span>\n",
              "</pre>\n"
            ]
          },
          "metadata": {}
        },
        {
          "output_type": "display_data",
          "data": {
            "text/plain": [
              "\u001b[2;36m[01/13/25 16:12:51]\u001b[0m\u001b[2;36m \u001b[0m\u001b[34mINFO    \u001b[0m                                                                            \u001b]8;id=858320;file:///content/robustness_of_gnns_at_scale/rgnn_at_scale/train.py\u001b\\\u001b[2mtrain.py\u001b[0m\u001b]8;;\u001b\\\u001b[2m:\u001b[0m\u001b]8;id=23968;file:///content/robustness_of_gnns_at_scale/rgnn_at_scale/train.py#81\u001b\\\u001b[2m81\u001b[0m\u001b]8;;\u001b\\\n",
              "\u001b[2;36m                    \u001b[0m         Epoch  \u001b[1;36m300\u001b[0m: loss_train: \u001b[1;36m0.07156\u001b[0m, loss_val: \u001b[1;36m0.39893\u001b[0m, acc_train: \u001b[1;36m1.00000\u001b[0m,    \u001b[2m           \u001b[0m\n",
              "\u001b[2;36m                    \u001b[0m         acc_val: \u001b[1;36m0.88571\u001b[0m                                                           \u001b[2m           \u001b[0m\n"
            ],
            "text/html": [
              "<pre style=\"white-space:pre;overflow-x:auto;line-height:normal;font-family:Menlo,'DejaVu Sans Mono',consolas,'Courier New',monospace\"><span style=\"color: #7fbfbf; text-decoration-color: #7fbfbf\">[01/13/25 16:12:51] </span><span style=\"color: #000080; text-decoration-color: #000080\">INFO    </span>                                                                            <a href=\"file:///content/robustness_of_gnns_at_scale/rgnn_at_scale/train.py\" target=\"_blank\"><span style=\"color: #7f7f7f; text-decoration-color: #7f7f7f\">train.py</span></a><span style=\"color: #7f7f7f; text-decoration-color: #7f7f7f\">:</span><a href=\"file:///content/robustness_of_gnns_at_scale/rgnn_at_scale/train.py#81\" target=\"_blank\"><span style=\"color: #7f7f7f; text-decoration-color: #7f7f7f\">81</span></a>\n",
              "<span style=\"color: #7fbfbf; text-decoration-color: #7fbfbf\">                    </span>         Epoch  <span style=\"color: #008080; text-decoration-color: #008080; font-weight: bold\">300</span>: loss_train: <span style=\"color: #008080; text-decoration-color: #008080; font-weight: bold\">0.07156</span>, loss_val: <span style=\"color: #008080; text-decoration-color: #008080; font-weight: bold\">0.39893</span>, acc_train: <span style=\"color: #008080; text-decoration-color: #008080; font-weight: bold\">1.00000</span>,    <span style=\"color: #7f7f7f; text-decoration-color: #7f7f7f\">           </span>\n",
              "<span style=\"color: #7fbfbf; text-decoration-color: #7fbfbf\">                    </span>         acc_val: <span style=\"color: #008080; text-decoration-color: #008080; font-weight: bold\">0.88571</span>                                                           <span style=\"color: #7f7f7f; text-decoration-color: #7f7f7f\">           </span>\n",
              "</pre>\n"
            ]
          },
          "metadata": {}
        },
        {
          "output_type": "display_data",
          "data": {
            "text/plain": [
              "\u001b[2;36m[01/13/25 16:13:00]\u001b[0m\u001b[2;36m \u001b[0m\u001b[34mINFO    \u001b[0m                                                                            \u001b]8;id=219496;file:///content/robustness_of_gnns_at_scale/rgnn_at_scale/train.py\u001b\\\u001b[2mtrain.py\u001b[0m\u001b]8;;\u001b\\\u001b[2m:\u001b[0m\u001b]8;id=524959;file:///content/robustness_of_gnns_at_scale/rgnn_at_scale/train.py#81\u001b\\\u001b[2m81\u001b[0m\u001b]8;;\u001b\\\n",
              "\u001b[2;36m                    \u001b[0m         Epoch  \u001b[1;36m400\u001b[0m: loss_train: \u001b[1;36m0.06845\u001b[0m, loss_val: \u001b[1;36m0.38141\u001b[0m, acc_train: \u001b[1;36m1.00000\u001b[0m,    \u001b[2m           \u001b[0m\n",
              "\u001b[2;36m                    \u001b[0m         acc_val: \u001b[1;36m0.90714\u001b[0m                                                           \u001b[2m           \u001b[0m\n"
            ],
            "text/html": [
              "<pre style=\"white-space:pre;overflow-x:auto;line-height:normal;font-family:Menlo,'DejaVu Sans Mono',consolas,'Courier New',monospace\"><span style=\"color: #7fbfbf; text-decoration-color: #7fbfbf\">[01/13/25 16:13:00] </span><span style=\"color: #000080; text-decoration-color: #000080\">INFO    </span>                                                                            <a href=\"file:///content/robustness_of_gnns_at_scale/rgnn_at_scale/train.py\" target=\"_blank\"><span style=\"color: #7f7f7f; text-decoration-color: #7f7f7f\">train.py</span></a><span style=\"color: #7f7f7f; text-decoration-color: #7f7f7f\">:</span><a href=\"file:///content/robustness_of_gnns_at_scale/rgnn_at_scale/train.py#81\" target=\"_blank\"><span style=\"color: #7f7f7f; text-decoration-color: #7f7f7f\">81</span></a>\n",
              "<span style=\"color: #7fbfbf; text-decoration-color: #7fbfbf\">                    </span>         Epoch  <span style=\"color: #008080; text-decoration-color: #008080; font-weight: bold\">400</span>: loss_train: <span style=\"color: #008080; text-decoration-color: #008080; font-weight: bold\">0.06845</span>, loss_val: <span style=\"color: #008080; text-decoration-color: #008080; font-weight: bold\">0.38141</span>, acc_train: <span style=\"color: #008080; text-decoration-color: #008080; font-weight: bold\">1.00000</span>,    <span style=\"color: #7f7f7f; text-decoration-color: #7f7f7f\">           </span>\n",
              "<span style=\"color: #7fbfbf; text-decoration-color: #7fbfbf\">                    </span>         acc_val: <span style=\"color: #008080; text-decoration-color: #008080; font-weight: bold\">0.90714</span>                                                           <span style=\"color: #7f7f7f; text-decoration-color: #7f7f7f\">           </span>\n",
              "</pre>\n"
            ]
          },
          "metadata": {}
        },
        {
          "output_type": "display_data",
          "data": {
            "text/plain": [
              "\u001b[2;36m[01/13/25 16:13:11]\u001b[0m\u001b[2;36m \u001b[0m\u001b[34mINFO    \u001b[0m                                                                            \u001b]8;id=952289;file:///content/robustness_of_gnns_at_scale/rgnn_at_scale/train.py\u001b\\\u001b[2mtrain.py\u001b[0m\u001b]8;;\u001b\\\u001b[2m:\u001b[0m\u001b]8;id=663596;file:///content/robustness_of_gnns_at_scale/rgnn_at_scale/train.py#81\u001b\\\u001b[2m81\u001b[0m\u001b]8;;\u001b\\\n",
              "\u001b[2;36m                    \u001b[0m         Epoch  \u001b[1;36m500\u001b[0m: loss_train: \u001b[1;36m0.06979\u001b[0m, loss_val: \u001b[1;36m0.36477\u001b[0m, acc_train: \u001b[1;36m1.00000\u001b[0m,    \u001b[2m           \u001b[0m\n",
              "\u001b[2;36m                    \u001b[0m         acc_val: \u001b[1;36m0.88571\u001b[0m                                                           \u001b[2m           \u001b[0m\n"
            ],
            "text/html": [
              "<pre style=\"white-space:pre;overflow-x:auto;line-height:normal;font-family:Menlo,'DejaVu Sans Mono',consolas,'Courier New',monospace\"><span style=\"color: #7fbfbf; text-decoration-color: #7fbfbf\">[01/13/25 16:13:11] </span><span style=\"color: #000080; text-decoration-color: #000080\">INFO    </span>                                                                            <a href=\"file:///content/robustness_of_gnns_at_scale/rgnn_at_scale/train.py\" target=\"_blank\"><span style=\"color: #7f7f7f; text-decoration-color: #7f7f7f\">train.py</span></a><span style=\"color: #7f7f7f; text-decoration-color: #7f7f7f\">:</span><a href=\"file:///content/robustness_of_gnns_at_scale/rgnn_at_scale/train.py#81\" target=\"_blank\"><span style=\"color: #7f7f7f; text-decoration-color: #7f7f7f\">81</span></a>\n",
              "<span style=\"color: #7fbfbf; text-decoration-color: #7fbfbf\">                    </span>         Epoch  <span style=\"color: #008080; text-decoration-color: #008080; font-weight: bold\">500</span>: loss_train: <span style=\"color: #008080; text-decoration-color: #008080; font-weight: bold\">0.06979</span>, loss_val: <span style=\"color: #008080; text-decoration-color: #008080; font-weight: bold\">0.36477</span>, acc_train: <span style=\"color: #008080; text-decoration-color: #008080; font-weight: bold\">1.00000</span>,    <span style=\"color: #7f7f7f; text-decoration-color: #7f7f7f\">           </span>\n",
              "<span style=\"color: #7fbfbf; text-decoration-color: #7fbfbf\">                    </span>         acc_val: <span style=\"color: #008080; text-decoration-color: #008080; font-weight: bold\">0.88571</span>                                                           <span style=\"color: #7f7f7f; text-decoration-color: #7f7f7f\">           </span>\n",
              "</pre>\n"
            ]
          },
          "metadata": {}
        },
        {
          "output_type": "display_data",
          "data": {
            "text/plain": [
              "\u001b[2;36m[01/13/25 16:13:24]\u001b[0m\u001b[2;36m \u001b[0m\u001b[34mINFO    \u001b[0m                                                                            \u001b]8;id=713630;file:///content/robustness_of_gnns_at_scale/rgnn_at_scale/train.py\u001b\\\u001b[2mtrain.py\u001b[0m\u001b]8;;\u001b\\\u001b[2m:\u001b[0m\u001b]8;id=255147;file:///content/robustness_of_gnns_at_scale/rgnn_at_scale/train.py#81\u001b\\\u001b[2m81\u001b[0m\u001b]8;;\u001b\\\n",
              "\u001b[2;36m                    \u001b[0m         Epoch  \u001b[1;36m600\u001b[0m: loss_train: \u001b[1;36m0.06436\u001b[0m, loss_val: \u001b[1;36m0.40324\u001b[0m, acc_train: \u001b[1;36m1.00000\u001b[0m,    \u001b[2m           \u001b[0m\n",
              "\u001b[2;36m                    \u001b[0m         acc_val: \u001b[1;36m0.87857\u001b[0m                                                           \u001b[2m           \u001b[0m\n"
            ],
            "text/html": [
              "<pre style=\"white-space:pre;overflow-x:auto;line-height:normal;font-family:Menlo,'DejaVu Sans Mono',consolas,'Courier New',monospace\"><span style=\"color: #7fbfbf; text-decoration-color: #7fbfbf\">[01/13/25 16:13:24] </span><span style=\"color: #000080; text-decoration-color: #000080\">INFO    </span>                                                                            <a href=\"file:///content/robustness_of_gnns_at_scale/rgnn_at_scale/train.py\" target=\"_blank\"><span style=\"color: #7f7f7f; text-decoration-color: #7f7f7f\">train.py</span></a><span style=\"color: #7f7f7f; text-decoration-color: #7f7f7f\">:</span><a href=\"file:///content/robustness_of_gnns_at_scale/rgnn_at_scale/train.py#81\" target=\"_blank\"><span style=\"color: #7f7f7f; text-decoration-color: #7f7f7f\">81</span></a>\n",
              "<span style=\"color: #7fbfbf; text-decoration-color: #7fbfbf\">                    </span>         Epoch  <span style=\"color: #008080; text-decoration-color: #008080; font-weight: bold\">600</span>: loss_train: <span style=\"color: #008080; text-decoration-color: #008080; font-weight: bold\">0.06436</span>, loss_val: <span style=\"color: #008080; text-decoration-color: #008080; font-weight: bold\">0.40324</span>, acc_train: <span style=\"color: #008080; text-decoration-color: #008080; font-weight: bold\">1.00000</span>,    <span style=\"color: #7f7f7f; text-decoration-color: #7f7f7f\">           </span>\n",
              "<span style=\"color: #7fbfbf; text-decoration-color: #7fbfbf\">                    </span>         acc_val: <span style=\"color: #008080; text-decoration-color: #008080; font-weight: bold\">0.87857</span>                                                           <span style=\"color: #7f7f7f; text-decoration-color: #7f7f7f\">           </span>\n",
              "</pre>\n"
            ]
          },
          "metadata": {}
        },
        {
          "output_type": "display_data",
          "data": {
            "text/plain": [
              "\u001b[2;36m[01/13/25 16:13:31]\u001b[0m\u001b[2;36m \u001b[0m\u001b[34mINFO    \u001b[0m Test accuracy is \u001b[1;36m0.8343873620033264\u001b[0m with seed \u001b[1;36m0\u001b[0m                \u001b]8;id=741991;file:///content/robustness_of_gnns_at_scale/experiments/experiment_train.py\u001b\\\u001b[2mexperiment_train.py\u001b[0m\u001b]8;;\u001b\\\u001b[2m:\u001b[0m\u001b]8;id=489919;file:///content/robustness_of_gnns_at_scale/experiments/experiment_train.py#216\u001b\\\u001b[2m216\u001b[0m\u001b]8;;\u001b\\\n"
            ],
            "text/html": [
              "<pre style=\"white-space:pre;overflow-x:auto;line-height:normal;font-family:Menlo,'DejaVu Sans Mono',consolas,'Courier New',monospace\"><span style=\"color: #7fbfbf; text-decoration-color: #7fbfbf\">[01/13/25 16:13:31] </span><span style=\"color: #000080; text-decoration-color: #000080\">INFO    </span> Test accuracy is <span style=\"color: #008080; text-decoration-color: #008080; font-weight: bold\">0.8343873620033264</span> with seed <span style=\"color: #008080; text-decoration-color: #008080; font-weight: bold\">0</span>                <a href=\"file:///content/robustness_of_gnns_at_scale/experiments/experiment_train.py\" target=\"_blank\"><span style=\"color: #7f7f7f; text-decoration-color: #7f7f7f\">experiment_train.py</span></a><span style=\"color: #7f7f7f; text-decoration-color: #7f7f7f\">:</span><a href=\"file:///content/robustness_of_gnns_at_scale/experiments/experiment_train.py#216\" target=\"_blank\"><span style=\"color: #7f7f7f; text-decoration-color: #7f7f7f\">216</span></a>\n",
              "</pre>\n"
            ]
          },
          "metadata": {}
        },
        {
          "output_type": "display_data",
          "data": {
            "text/plain": [
              "<Figure size 640x480 with 1 Axes>"
            ],
            "image/png": "[encoded data removed]"
          },
          "metadata": {}
        }
      ]
    },
    {
      "cell_type": "code",
      "source": [
        "clean_acc = train_statistics[\"accuracy\"]\n",
        "print(f'Accuracy of the model: {100*clean_acc:.2f}%')"
      ],
      "metadata": {
        "colab": {
          "base_uri": "https://localhost:8080/"
        },
        "id": "Diozgu7Vivj7",
        "outputId": "c2b0d38c-d69e-46e9-cdfa-9346f071610d"
      },
      "execution_count": null,
      "outputs": [
        {
          "output_type": "stream",
          "name": "stdout",
          "text": [
            "Accuracy of the model: 83.44%\n"
          ]
        }
      ]
    },
    {
      "cell_type": "markdown",
      "source": [
        "## 2. Evaluation\n",
        "\n",
        "For evaluation, we use the locally stored models. Similarly to training, we provide a script that runs the attacks for different seeds for all pretrained models. For all experiments, please check out the [config](https://github.com/sigeisler/robustness_of_gnns_at_scale/tree/main/config) folder.\n",
        "\n",
        "### 2.1 Local PR-BCD Attack\n",
        "We provide an example for a `local PR-BCD` attack on the `Vanilla GCN` model trained previously by passing the desired configuration in [experiments/experiment_local_attack_direct.py](https://github.com/sigeisler/robustness_of_gnns_at_scale/blob/main/experiments/experiment_local_attack_direct.py#L68)."
      ],
      "metadata": {
        "id": "JzCocLocdb2y"
      }
    },
    {
      "cell_type": "code",
      "source": [
        "local_prbcd_statistics = experiment_local_attack_direct.run(\n",
        "    data_dir = './data',\n",
        "    dataset = 'cora_ml',\n",
        "    attack = 'LocalPRBCD',\n",
        "    attack_params = dict(\n",
        "        ppr_cache_params = dict(\n",
        "            data_artifact_dir = 'cache',\n",
        "            data_storage_type = 'ppr'),\n",
        "        #epochs = 500, # -> way too high for my setup, use 40-100\n",
        "        epochs = 50,\n",
        "        fine_tune_epochs = 100,\n",
        "        search_space_size = 10_000,\n",
        "        ppr_recalc_at_end = True,\n",
        "        loss_type = 'Margin',\n",
        "        lr_factor = 0.05),\n",
        "    nodes = None,\n",
        "    nodes_topk = 5,\n",
        "    seed=0,\n",
        "    epsilons = [1],\n",
        "    min_node_degree = None,\n",
        "    binary_attr = False,\n",
        "    make_undirected = True,\n",
        "    artifact_dir = 'cache',\n",
        "    model_label = 'Vanilla GCN',\n",
        "    model_storage_type = 'demo',\n",
        "    #device = 0,\n",
        "    #data_device = 0,\n",
        "    device = \"cpu\",\n",
        "    data_device = \"cpu\",\n",
        "    debug_level = \"info\"\n",
        ")"
      ],
      "metadata": {
        "colab": {
          "base_uri": "https://localhost:8080/",
          "height": 851
        },
        "id": "A-n0IWrJC1QQ",
        "outputId": "5d34da50-7172-414d-e453-2fa8d9e72be2"
      },
      "execution_count": null,
      "outputs": [
        {
          "output_type": "display_data",
          "data": {
            "text/plain": [
              "\u001b[2;36m[01/13/25 16:13:37]\u001b[0m\u001b[2;36m \u001b[0m\u001b[34mINFO    \u001b[0m \u001b[1m{\u001b[0m\u001b[32m'dataset'\u001b[0m: \u001b[32m'cora_ml'\u001b[0m, \u001b[32m'attack'\u001b[0m: \u001b[32m'LocalPRBCD'\u001b[0m, \u001b[32m'attack_params'\u001b[0m:           \u001b]8;id=850836;file:///content/robustness_of_gnns_at_scale/experiments/common.py\u001b\\\u001b[2mcommon.py\u001b[0m\u001b]8;;\u001b\\\u001b[2m:\u001b[0m\u001b]8;id=38754;file:///content/robustness_of_gnns_at_scale/experiments/common.py#38\u001b\\\u001b[2m38\u001b[0m\u001b]8;;\u001b\\\n",
              "\u001b[2;36m                    \u001b[0m         \u001b[1m{\u001b[0m\u001b[32m'ppr_cache_params'\u001b[0m: \u001b[1m{\u001b[0m\u001b[32m'data_artifact_dir'\u001b[0m: \u001b[32m'cache'\u001b[0m, \u001b[32m'data_storage_type'\u001b[0m:  \u001b[2m            \u001b[0m\n",
              "\u001b[2;36m                    \u001b[0m         \u001b[32m'ppr'\u001b[0m\u001b[1m}\u001b[0m, \u001b[32m'epochs'\u001b[0m: \u001b[1;36m50\u001b[0m, \u001b[32m'fine_tune_epochs'\u001b[0m: \u001b[1;36m100\u001b[0m, \u001b[32m'search_space_size'\u001b[0m:       \u001b[2m            \u001b[0m\n",
              "\u001b[2;36m                    \u001b[0m         \u001b[1;36m10000\u001b[0m, \u001b[32m'ppr_recalc_at_end'\u001b[0m: \u001b[3;92mTrue\u001b[0m, \u001b[32m'loss_type'\u001b[0m: \u001b[32m'Margin'\u001b[0m, \u001b[32m'lr_factor'\u001b[0m:     \u001b[2m            \u001b[0m\n",
              "\u001b[2;36m                    \u001b[0m         \u001b[1;36m0.05\u001b[0m\u001b[1m}\u001b[0m, \u001b[32m'epsilons'\u001b[0m: \u001b[1m[\u001b[0m\u001b[1;36m1\u001b[0m\u001b[1m]\u001b[0m, \u001b[32m'make_undirected'\u001b[0m: \u001b[3;92mTrue\u001b[0m, \u001b[32m'binary_attr'\u001b[0m: \u001b[3;91mFalse\u001b[0m,    \u001b[2m            \u001b[0m\n",
              "\u001b[2;36m                    \u001b[0m         \u001b[32m'seed'\u001b[0m: \u001b[1;36m0\u001b[0m, \u001b[32m'artifact_dir'\u001b[0m: \u001b[32m'cache'\u001b[0m, \u001b[32m'pert_adj_storage_type'\u001b[0m: \u001b[3;35mNone\u001b[0m,        \u001b[2m            \u001b[0m\n",
              "\u001b[2;36m                    \u001b[0m         \u001b[32m'pert_attr_storage_type'\u001b[0m: \u001b[3;35mNone\u001b[0m, \u001b[32m'model_label'\u001b[0m: \u001b[32m'Vanilla GCN'\u001b[0m,             \u001b[2m            \u001b[0m\n",
              "\u001b[2;36m                    \u001b[0m         \u001b[32m'model_storage_type'\u001b[0m: \u001b[32m'demo'\u001b[0m, \u001b[32m'device'\u001b[0m: \u001b[32m'cpu'\u001b[0m, \u001b[32m'data_device'\u001b[0m: \u001b[32m'cpu'\u001b[0m\u001b[1m}\u001b[0m      \u001b[2m            \u001b[0m\n"
            ],
            "text/html": [
              "<pre style=\"white-space:pre;overflow-x:auto;line-height:normal;font-family:Menlo,'DejaVu Sans Mono',consolas,'Courier New',monospace\"><span style=\"color: #7fbfbf; text-decoration-color: #7fbfbf\">[01/13/25 16:13:37] </span><span style=\"color: #000080; text-decoration-color: #000080\">INFO    </span> <span style=\"font-weight: bold\">{</span><span style=\"color: #008000; text-decoration-color: #008000\">'dataset'</span>: <span style=\"color: #008000; text-decoration-color: #008000\">'cora_ml'</span>, <span style=\"color: #008000; text-decoration-color: #008000\">'attack'</span>: <span style=\"color: #008000; text-decoration-color: #008000\">'LocalPRBCD'</span>, <span style=\"color: #008000; text-decoration-color: #008000\">'attack_params'</span>:           <a href=\"file:///content/robustness_of_gnns_at_scale/experiments/common.py\" target=\"_blank\"><span style=\"color: #7f7f7f; text-decoration-color: #7f7f7f\">common.py</span></a><span style=\"color: #7f7f7f; text-decoration-color: #7f7f7f\">:</span><a href=\"file:///content/robustness_of_gnns_at_scale/experiments/common.py#38\" target=\"_blank\"><span style=\"color: #7f7f7f; text-decoration-color: #7f7f7f\">38</span></a>\n",
              "<span style=\"color: #7fbfbf; text-decoration-color: #7fbfbf\">                    </span>         <span style=\"font-weight: bold\">{</span><span style=\"color: #008000; text-decoration-color: #008000\">'ppr_cache_params'</span>: <span style=\"font-weight: bold\">{</span><span style=\"color: #008000; text-decoration-color: #008000\">'data_artifact_dir'</span>: <span style=\"color: #008000; text-decoration-color: #008000\">'cache'</span>, <span style=\"color: #008000; text-decoration-color: #008000\">'data_storage_type'</span>:  <span style=\"color: #7f7f7f; text-decoration-color: #7f7f7f\">            </span>\n",
              "<span style=\"color: #7fbfbf; text-decoration-color: #7fbfbf\">                    </span>         <span style=\"color: #008000; text-decoration-color: #008000\">'ppr'</span><span style=\"font-weight: bold\">}</span>, <span style=\"color: #008000; text-decoration-color: #008000\">'epochs'</span>: <span style=\"color: #008080; text-decoration-color: #008080; font-weight: bold\">50</span>, <span style=\"color: #008000; text-decoration-color: #008000\">'fine_tune_epochs'</span>: <span style=\"color: #008080; text-decoration-color: #008080; font-weight: bold\">100</span>, <span style=\"color: #008000; text-decoration-color: #008000\">'search_space_size'</span>:       <span style=\"color: #7f7f7f; text-decoration-color: #7f7f7f\">            </span>\n",
              "<span style=\"color: #7fbfbf; text-decoration-color: #7fbfbf\">                    </span>         <span style=\"color: #008080; text-decoration-color: #008080; font-weight: bold\">10000</span>, <span style=\"color: #008000; text-decoration-color: #008000\">'ppr_recalc_at_end'</span>: <span style=\"color: #00ff00; text-decoration-color: #00ff00; font-style: italic\">True</span>, <span style=\"color: #008000; text-decoration-color: #008000\">'loss_type'</span>: <span style=\"color: #008000; text-decoration-color: #008000\">'Margin'</span>, <span style=\"color: #008000; text-decoration-color: #008000\">'lr_factor'</span>:     <span style=\"color: #7f7f7f; text-decoration-color: #7f7f7f\">            </span>\n",
              "<span style=\"color: #7fbfbf; text-decoration-color: #7fbfbf\">                    </span>         <span style=\"color: #008080; text-decoration-color: #008080; font-weight: bold\">0.05</span><span style=\"font-weight: bold\">}</span>, <span style=\"color: #008000; text-decoration-color: #008000\">'epsilons'</span>: <span style=\"font-weight: bold\">[</span><span style=\"color: #008080; text-decoration-color: #008080; font-weight: bold\">1</span><span style=\"font-weight: bold\">]</span>, <span style=\"color: #008000; text-decoration-color: #008000\">'make_undirected'</span>: <span style=\"color: #00ff00; text-decoration-color: #00ff00; font-style: italic\">True</span>, <span style=\"color: #008000; text-decoration-color: #008000\">'binary_attr'</span>: <span style=\"color: #ff0000; text-decoration-color: #ff0000; font-style: italic\">False</span>,    <span style=\"color: #7f7f7f; text-decoration-color: #7f7f7f\">            </span>\n",
              "<span style=\"color: #7fbfbf; text-decoration-color: #7fbfbf\">                    </span>         <span style=\"color: #008000; text-decoration-color: #008000\">'seed'</span>: <span style=\"color: #008080; text-decoration-color: #008080; font-weight: bold\">0</span>, <span style=\"color: #008000; text-decoration-color: #008000\">'artifact_dir'</span>: <span style=\"color: #008000; text-decoration-color: #008000\">'cache'</span>, <span style=\"color: #008000; text-decoration-color: #008000\">'pert_adj_storage_type'</span>: <span style=\"color: #800080; text-decoration-color: #800080; font-style: italic\">None</span>,        <span style=\"color: #7f7f7f; text-decoration-color: #7f7f7f\">            </span>\n",
              "<span style=\"color: #7fbfbf; text-decoration-color: #7fbfbf\">                    </span>         <span style=\"color: #008000; text-decoration-color: #008000\">'pert_attr_storage_type'</span>: <span style=\"color: #800080; text-decoration-color: #800080; font-style: italic\">None</span>, <span style=\"color: #008000; text-decoration-color: #008000\">'model_label'</span>: <span style=\"color: #008000; text-decoration-color: #008000\">'Vanilla GCN'</span>,             <span style=\"color: #7f7f7f; text-decoration-color: #7f7f7f\">            </span>\n",
              "<span style=\"color: #7fbfbf; text-decoration-color: #7fbfbf\">                    </span>         <span style=\"color: #008000; text-decoration-color: #008000\">'model_storage_type'</span>: <span style=\"color: #008000; text-decoration-color: #008000\">'demo'</span>, <span style=\"color: #008000; text-decoration-color: #008000\">'device'</span>: <span style=\"color: #008000; text-decoration-color: #008000\">'cpu'</span>, <span style=\"color: #008000; text-decoration-color: #008000\">'data_device'</span>: <span style=\"color: #008000; text-decoration-color: #008000\">'cpu'</span><span style=\"font-weight: bold\">}</span>      <span style=\"color: #7f7f7f; text-decoration-color: #7f7f7f\">            </span>\n",
              "</pre>\n"
            ]
          },
          "metadata": {}
        },
        {
          "output_type": "display_data",
          "data": {
            "text/plain": [
              "\u001b[2;36m                   \u001b[0m\u001b[2;36m \u001b[0m\u001b[34mINFO    \u001b[0m Found \u001b[1;36m1\u001b[0m models with label \u001b[32m'Vanilla GCN'\u001b[0m to       \u001b]8;id=426525;file:///content/robustness_of_gnns_at_scale/experiments/experiment_local_attack_direct.py\u001b\\\u001b[2mexperiment_local_attack_direct.py\u001b[0m\u001b]8;;\u001b\\\u001b[2m:\u001b[0m\u001b]8;id=874398;file:///content/robustness_of_gnns_at_scale/experiments/experiment_local_attack_direct.py#141\u001b\\\u001b[2m141\u001b[0m\u001b]8;;\u001b\\\n",
              "\u001b[2;36m                    \u001b[0m         attack.                                          \u001b[2m                                     \u001b[0m\n"
            ],
            "text/html": [
              "<pre style=\"white-space:pre;overflow-x:auto;line-height:normal;font-family:Menlo,'DejaVu Sans Mono',consolas,'Courier New',monospace\"><span style=\"color: #7fbfbf; text-decoration-color: #7fbfbf\">                    </span><span style=\"color: #000080; text-decoration-color: #000080\">INFO    </span> Found <span style=\"color: #008080; text-decoration-color: #008080; font-weight: bold\">1</span> models with label <span style=\"color: #008000; text-decoration-color: #008000\">'Vanilla GCN'</span> to       <a href=\"file:///content/robustness_of_gnns_at_scale/experiments/experiment_local_attack_direct.py\" target=\"_blank\"><span style=\"color: #7f7f7f; text-decoration-color: #7f7f7f\">experiment_local_attack_direct.py</span></a><span style=\"color: #7f7f7f; text-decoration-color: #7f7f7f\">:</span><a href=\"file:///content/robustness_of_gnns_at_scale/experiments/experiment_local_attack_direct.py#141\" target=\"_blank\"><span style=\"color: #7f7f7f; text-decoration-color: #7f7f7f\">141</span></a>\n",
              "<span style=\"color: #7fbfbf; text-decoration-color: #7fbfbf\">                    </span>         attack.                                          <span style=\"color: #7f7f7f; text-decoration-color: #7f7f7f\">                                     </span>\n",
              "</pre>\n"
            ]
          },
          "metadata": {}
        },
        {
          "output_type": "display_data",
          "data": {
            "text/plain": [
              "\u001b[2;36m[01/13/25 16:13:38]\u001b[0m\u001b[2;36m \u001b[0m\u001b[34mINFO    \u001b[0m Sample Attack Nodes for model with accuracy \u001b[1;36m0.8344\u001b[0m                       \u001b]8;id=211795;file:///content/robustness_of_gnns_at_scale/experiments/common.py\u001b\\\u001b[2mcommon.py\u001b[0m\u001b]8;;\u001b\\\u001b[2m:\u001b[0m\u001b]8;id=748340;file:///content/robustness_of_gnns_at_scale/experiments/common.py#166\u001b\\\u001b[2m166\u001b[0m\u001b]8;;\u001b\\\n"
            ],
            "text/html": [
              "<pre style=\"white-space:pre;overflow-x:auto;line-height:normal;font-family:Menlo,'DejaVu Sans Mono',consolas,'Courier New',monospace\"><span style=\"color: #7fbfbf; text-decoration-color: #7fbfbf\">[01/13/25 16:13:38] </span><span style=\"color: #000080; text-decoration-color: #000080\">INFO    </span> Sample Attack Nodes for model with accuracy <span style=\"color: #008080; text-decoration-color: #008080; font-weight: bold\">0.8344</span>                       <a href=\"file:///content/robustness_of_gnns_at_scale/experiments/common.py\" target=\"_blank\"><span style=\"color: #7f7f7f; text-decoration-color: #7f7f7f\">common.py</span></a><span style=\"color: #7f7f7f; text-decoration-color: #7f7f7f\">:</span><a href=\"file:///content/robustness_of_gnns_at_scale/experiments/common.py#166\" target=\"_blank\"><span style=\"color: #7f7f7f; text-decoration-color: #7f7f7f\">166</span></a>\n",
              "</pre>\n"
            ]
          },
          "metadata": {}
        },
        {
          "output_type": "display_data",
          "data": {
            "text/plain": [
              "\u001b[2;36m                   \u001b[0m\u001b[2;36m \u001b[0m\u001b[34mINFO    \u001b[0m Found \u001b[1;36m2530\u001b[0m suitable \u001b[32m'1+ degree'\u001b[0m nodes out of \u001b[1;36m2530\u001b[0m candidate nodes to be  \u001b]8;id=627962;file:///content/robustness_of_gnns_at_scale/experiments/common.py\u001b\\\u001b[2mcommon.py\u001b[0m\u001b]8;;\u001b\\\u001b[2m:\u001b[0m\u001b]8;id=890955;file:///content/robustness_of_gnns_at_scale/experiments/common.py#132\u001b\\\u001b[2m132\u001b[0m\u001b]8;;\u001b\\\n",
              "\u001b[2;36m                    \u001b[0m         sampled from for the attack of which \u001b[1;36m2111\u001b[0m have the correct class label   \u001b[2m             \u001b[0m\n"
            ],
            "text/html": [
              "<pre style=\"white-space:pre;overflow-x:auto;line-height:normal;font-family:Menlo,'DejaVu Sans Mono',consolas,'Courier New',monospace\"><span style=\"color: #7fbfbf; text-decoration-color: #7fbfbf\">                    </span><span style=\"color: #000080; text-decoration-color: #000080\">INFO    </span> Found <span style=\"color: #008080; text-decoration-color: #008080; font-weight: bold\">2530</span> suitable <span style=\"color: #008000; text-decoration-color: #008000\">'1+ degree'</span> nodes out of <span style=\"color: #008080; text-decoration-color: #008080; font-weight: bold\">2530</span> candidate nodes to be  <a href=\"file:///content/robustness_of_gnns_at_scale/experiments/common.py\" target=\"_blank\"><span style=\"color: #7f7f7f; text-decoration-color: #7f7f7f\">common.py</span></a><span style=\"color: #7f7f7f; text-decoration-color: #7f7f7f\">:</span><a href=\"file:///content/robustness_of_gnns_at_scale/experiments/common.py#132\" target=\"_blank\"><span style=\"color: #7f7f7f; text-decoration-color: #7f7f7f\">132</span></a>\n",
              "<span style=\"color: #7fbfbf; text-decoration-color: #7fbfbf\">                    </span>         sampled from for the attack of which <span style=\"color: #008080; text-decoration-color: #008080; font-weight: bold\">2111</span> have the correct class label   <span style=\"color: #7f7f7f; text-decoration-color: #7f7f7f\">             </span>\n",
              "</pre>\n"
            ]
          },
          "metadata": {}
        },
        {
          "output_type": "display_data",
          "data": {
            "text/plain": [
              "\u001b[2;36m                   \u001b[0m\u001b[2;36m \u001b[0m\u001b[34mINFO    \u001b[0m Sample the following attack nodes:                                       \u001b]8;id=294500;file:///content/robustness_of_gnns_at_scale/experiments/common.py\u001b\\\u001b[2mcommon.py\u001b[0m\u001b]8;;\u001b\\\u001b[2m:\u001b[0m\u001b]8;id=814074;file:///content/robustness_of_gnns_at_scale/experiments/common.py#171\u001b\\\u001b[2m171\u001b[0m\u001b]8;;\u001b\\\n",
              "\u001b[2;36m                    \u001b[0m         \u001b[1m[\u001b[0m\u001b[1;36m475\u001b[0m\u001b[1m]\u001b[0m                                                                    \u001b[2m             \u001b[0m\n",
              "\u001b[2;36m                    \u001b[0m         \u001b[1m[\u001b[0m\u001b[1;36m2105\u001b[0m\u001b[1m]\u001b[0m                                                                   \u001b[2m             \u001b[0m\n",
              "\u001b[2;36m                    \u001b[0m         \u001b[1m[\u001b[0m\u001b[1;36m2754\u001b[0m \u001b[1;36m2487\u001b[0m\u001b[1m]\u001b[0m                                                              \u001b[2m             \u001b[0m\n"
            ],
            "text/html": [
              "<pre style=\"white-space:pre;overflow-x:auto;line-height:normal;font-family:Menlo,'DejaVu Sans Mono',consolas,'Courier New',monospace\"><span style=\"color: #7fbfbf; text-decoration-color: #7fbfbf\">                    </span><span style=\"color: #000080; text-decoration-color: #000080\">INFO    </span> Sample the following attack nodes:                                       <a href=\"file:///content/robustness_of_gnns_at_scale/experiments/common.py\" target=\"_blank\"><span style=\"color: #7f7f7f; text-decoration-color: #7f7f7f\">common.py</span></a><span style=\"color: #7f7f7f; text-decoration-color: #7f7f7f\">:</span><a href=\"file:///content/robustness_of_gnns_at_scale/experiments/common.py#171\" target=\"_blank\"><span style=\"color: #7f7f7f; text-decoration-color: #7f7f7f\">171</span></a>\n",
              "<span style=\"color: #7fbfbf; text-decoration-color: #7fbfbf\">                    </span>         <span style=\"font-weight: bold\">[</span><span style=\"color: #008080; text-decoration-color: #008080; font-weight: bold\">475</span><span style=\"font-weight: bold\">]</span>                                                                    <span style=\"color: #7f7f7f; text-decoration-color: #7f7f7f\">             </span>\n",
              "<span style=\"color: #7fbfbf; text-decoration-color: #7fbfbf\">                    </span>         <span style=\"font-weight: bold\">[</span><span style=\"color: #008080; text-decoration-color: #008080; font-weight: bold\">2105</span><span style=\"font-weight: bold\">]</span>                                                                   <span style=\"color: #7f7f7f; text-decoration-color: #7f7f7f\">             </span>\n",
              "<span style=\"color: #7fbfbf; text-decoration-color: #7fbfbf\">                    </span>         <span style=\"font-weight: bold\">[</span><span style=\"color: #008080; text-decoration-color: #008080; font-weight: bold\">2754</span> <span style=\"color: #008080; text-decoration-color: #008080; font-weight: bold\">2487</span><span style=\"font-weight: bold\">]</span>                                                              <span style=\"color: #7f7f7f; text-decoration-color: #7f7f7f\">             </span>\n",
              "</pre>\n"
            ]
          },
          "metadata": {}
        },
        {
          "output_type": "display_data",
          "data": {
            "text/plain": [
              "\u001b[2;36m[01/13/25 16:13:40]\u001b[0m\u001b[2;36m \u001b[0m\u001b[34mINFO    \u001b[0m Original: Loss: \u001b[1;36m-9.882246017456055\u001b[0m Statstics: \u001b[1m{\u001b[0m\u001b[32m'logit_target'\u001b[0m:       \u001b]8;id=300141;file:///content/robustness_of_gnns_at_scale/rgnn_at_scale/attacks/local_prbcd.py\u001b\\\u001b[2mlocal_prbcd.py\u001b[0m\u001b]8;;\u001b\\\u001b[2m:\u001b[0m\u001b]8;id=526354;file:///content/robustness_of_gnns_at_scale/rgnn_at_scale/attacks/local_prbcd.py#74\u001b\\\u001b[2m74\u001b[0m\u001b]8;;\u001b\\\n",
              "\u001b[2;36m                    \u001b[0m         \u001b[1;36m-0.00026258357684127986\u001b[0m, \u001b[32m'logit_best_non_target'\u001b[0m:                    \u001b[2m                 \u001b[0m\n",
              "\u001b[2;36m                    \u001b[0m         \u001b[1;36m-9.882508277893066\u001b[0m, \u001b[32m'confidence_target'\u001b[0m: \u001b[1;36m0.9997374508952088\u001b[0m,         \u001b[2m                 \u001b[0m\n",
              "\u001b[2;36m                    \u001b[0m         \u001b[32m'confidence_non_target'\u001b[0m: \u001b[1;36m5.1060044333266085e-05\u001b[0m, \u001b[32m'margin'\u001b[0m:           \u001b[2m                 \u001b[0m\n",
              "\u001b[2;36m                    \u001b[0m         \u001b[1;36m0.9996863908508755\u001b[0m\u001b[1m}\u001b[0m                                                  \u001b[2m                 \u001b[0m\n",
              "\u001b[2;36m                    \u001b[0m                                                                              \u001b[2m                 \u001b[0m\n"
            ],
            "text/html": [
              "<pre style=\"white-space:pre;overflow-x:auto;line-height:normal;font-family:Menlo,'DejaVu Sans Mono',consolas,'Courier New',monospace\"><span style=\"color: #7fbfbf; text-decoration-color: #7fbfbf\">[01/13/25 16:13:40] </span><span style=\"color: #000080; text-decoration-color: #000080\">INFO    </span> Original: Loss: <span style=\"color: #008080; text-decoration-color: #008080; font-weight: bold\">-9.882246017456055</span> Statstics: <span style=\"font-weight: bold\">{</span><span style=\"color: #008000; text-decoration-color: #008000\">'logit_target'</span>:       <a href=\"file:///content/robustness_of_gnns_at_scale/rgnn_at_scale/attacks/local_prbcd.py\" target=\"_blank\"><span style=\"color: #7f7f7f; text-decoration-color: #7f7f7f\">local_prbcd.py</span></a><span style=\"color: #7f7f7f; text-decoration-color: #7f7f7f\">:</span><a href=\"file:///content/robustness_of_gnns_at_scale/rgnn_at_scale/attacks/local_prbcd.py#74\" target=\"_blank\"><span style=\"color: #7f7f7f; text-decoration-color: #7f7f7f\">74</span></a>\n",
              "<span style=\"color: #7fbfbf; text-decoration-color: #7fbfbf\">                    </span>         <span style=\"color: #008080; text-decoration-color: #008080; font-weight: bold\">-0.00026258357684127986</span>, <span style=\"color: #008000; text-decoration-color: #008000\">'logit_best_non_target'</span>:                    <span style=\"color: #7f7f7f; text-decoration-color: #7f7f7f\">                 </span>\n",
              "<span style=\"color: #7fbfbf; text-decoration-color: #7fbfbf\">                    </span>         <span style=\"color: #008080; text-decoration-color: #008080; font-weight: bold\">-9.882508277893066</span>, <span style=\"color: #008000; text-decoration-color: #008000\">'confidence_target'</span>: <span style=\"color: #008080; text-decoration-color: #008080; font-weight: bold\">0.9997374508952088</span>,         <span style=\"color: #7f7f7f; text-decoration-color: #7f7f7f\">                 </span>\n",
              "<span style=\"color: #7fbfbf; text-decoration-color: #7fbfbf\">                    </span>         <span style=\"color: #008000; text-decoration-color: #008000\">'confidence_non_target'</span>: <span style=\"color: #008080; text-decoration-color: #008080; font-weight: bold\">5.1060044333266085e-05</span>, <span style=\"color: #008000; text-decoration-color: #008000\">'margin'</span>:           <span style=\"color: #7f7f7f; text-decoration-color: #7f7f7f\">                 </span>\n",
              "<span style=\"color: #7fbfbf; text-decoration-color: #7fbfbf\">                    </span>         <span style=\"color: #008080; text-decoration-color: #008080; font-weight: bold\">0.9996863908508755</span><span style=\"font-weight: bold\">}</span>                                                  <span style=\"color: #7f7f7f; text-decoration-color: #7f7f7f\">                 </span>\n",
              "<span style=\"color: #7fbfbf; text-decoration-color: #7fbfbf\">                    </span>                                                                              <span style=\"color: #7f7f7f; text-decoration-color: #7f7f7f\">                 </span>\n",
              "</pre>\n"
            ]
          },
          "metadata": {}
        },
        {
          "output_type": "stream",
          "name": "stderr",
          "text": [
            "\r  0%|          | 0/50 [00:00<?, ?it/s]"
          ]
        },
        {
          "output_type": "display_data",
          "data": {
            "text/plain": [
              "\u001b[2;36m[01/13/25 16:13:46]\u001b[0m\u001b[2;36m \u001b[0m\u001b[34mINFO    \u001b[0m Initial: Loss: \u001b[1;36m-9.882246017456055\u001b[0m Statstics: \u001b[1m{\u001b[0m\u001b[32m'logit_target'\u001b[0m:        \u001b]8;id=875096;file:///content/robustness_of_gnns_at_scale/rgnn_at_scale/attacks/local_prbcd.py\u001b\\\u001b[2mlocal_prbcd.py\u001b[0m\u001b]8;;\u001b\\\u001b[2m:\u001b[0m\u001b]8;id=714524;file:///content/robustness_of_gnns_at_scale/rgnn_at_scale/attacks/local_prbcd.py#92\u001b\\\u001b[2m92\u001b[0m\u001b]8;;\u001b\\\n",
              "\u001b[2;36m                    \u001b[0m         \u001b[1;36m-0.00026258357684127986\u001b[0m, \u001b[32m'logit_best_non_target'\u001b[0m:                    \u001b[2m                 \u001b[0m\n",
              "\u001b[2;36m                    \u001b[0m         \u001b[1;36m-9.882508277893066\u001b[0m, \u001b[32m'confidence_target'\u001b[0m: \u001b[1;36m0.9997374508952088\u001b[0m,         \u001b[2m                 \u001b[0m\n",
              "\u001b[2;36m                    \u001b[0m         \u001b[32m'confidence_non_target'\u001b[0m: \u001b[1;36m5.1060044333266085e-05\u001b[0m, \u001b[32m'margin'\u001b[0m:           \u001b[2m                 \u001b[0m\n",
              "\u001b[2;36m                    \u001b[0m         \u001b[1;36m0.9996863908508755\u001b[0m\u001b[1m}\u001b[0m                                                  \u001b[2m                 \u001b[0m\n",
              "\u001b[2;36m                    \u001b[0m                                                                              \u001b[2m                 \u001b[0m\n"
            ],
            "text/html": [
              "<pre style=\"white-space:pre;overflow-x:auto;line-height:normal;font-family:Menlo,'DejaVu Sans Mono',consolas,'Courier New',monospace\"><span style=\"color: #7fbfbf; text-decoration-color: #7fbfbf\">[01/13/25 16:13:46] </span><span style=\"color: #000080; text-decoration-color: #000080\">INFO    </span> Initial: Loss: <span style=\"color: #008080; text-decoration-color: #008080; font-weight: bold\">-9.882246017456055</span> Statstics: <span style=\"font-weight: bold\">{</span><span style=\"color: #008000; text-decoration-color: #008000\">'logit_target'</span>:        <a href=\"file:///content/robustness_of_gnns_at_scale/rgnn_at_scale/attacks/local_prbcd.py\" target=\"_blank\"><span style=\"color: #7f7f7f; text-decoration-color: #7f7f7f\">local_prbcd.py</span></a><span style=\"color: #7f7f7f; text-decoration-color: #7f7f7f\">:</span><a href=\"file:///content/robustness_of_gnns_at_scale/rgnn_at_scale/attacks/local_prbcd.py#92\" target=\"_blank\"><span style=\"color: #7f7f7f; text-decoration-color: #7f7f7f\">92</span></a>\n",
              "<span style=\"color: #7fbfbf; text-decoration-color: #7fbfbf\">                    </span>         <span style=\"color: #008080; text-decoration-color: #008080; font-weight: bold\">-0.00026258357684127986</span>, <span style=\"color: #008000; text-decoration-color: #008000\">'logit_best_non_target'</span>:                    <span style=\"color: #7f7f7f; text-decoration-color: #7f7f7f\">                 </span>\n",
              "<span style=\"color: #7fbfbf; text-decoration-color: #7fbfbf\">                    </span>         <span style=\"color: #008080; text-decoration-color: #008080; font-weight: bold\">-9.882508277893066</span>, <span style=\"color: #008000; text-decoration-color: #008000\">'confidence_target'</span>: <span style=\"color: #008080; text-decoration-color: #008080; font-weight: bold\">0.9997374508952088</span>,         <span style=\"color: #7f7f7f; text-decoration-color: #7f7f7f\">                 </span>\n",
              "<span style=\"color: #7fbfbf; text-decoration-color: #7fbfbf\">                    </span>         <span style=\"color: #008000; text-decoration-color: #008000\">'confidence_non_target'</span>: <span style=\"color: #008080; text-decoration-color: #008080; font-weight: bold\">5.1060044333266085e-05</span>, <span style=\"color: #008000; text-decoration-color: #008000\">'margin'</span>:           <span style=\"color: #7f7f7f; text-decoration-color: #7f7f7f\">                 </span>\n",
              "<span style=\"color: #7fbfbf; text-decoration-color: #7fbfbf\">                    </span>         <span style=\"color: #008080; text-decoration-color: #008080; font-weight: bold\">0.9996863908508755</span><span style=\"font-weight: bold\">}</span>                                                  <span style=\"color: #7f7f7f; text-decoration-color: #7f7f7f\">                 </span>\n",
              "<span style=\"color: #7fbfbf; text-decoration-color: #7fbfbf\">                    </span>                                                                              <span style=\"color: #7f7f7f; text-decoration-color: #7f7f7f\">                 </span>\n",
              "</pre>\n"
            ]
          },
          "metadata": {}
        },
        {
          "output_type": "display_data",
          "data": {
            "text/plain": [
              "\u001b[2;36m[01/13/25 16:13:56]\u001b[0m\u001b[2;36m \u001b[0m\u001b[34mINFO    \u001b[0m                                                                     \u001b]8;id=28132;file:///content/robustness_of_gnns_at_scale/rgnn_at_scale/attacks/local_prbcd.py\u001b\\\u001b[2mlocal_prbcd.py\u001b[0m\u001b]8;;\u001b\\\u001b[2m:\u001b[0m\u001b]8;id=855364;file:///content/robustness_of_gnns_at_scale/rgnn_at_scale/attacks/local_prbcd.py#113\u001b\\\u001b[2m113\u001b[0m\u001b]8;;\u001b\\\n",
              "\u001b[2;36m                    \u001b[0m         Epoch: \u001b[1;36m0\u001b[0m Loss: \u001b[1;36m-9.882246017456055\u001b[0m Statstics: \u001b[1m{\u001b[0m\u001b[32m'logit_target'\u001b[0m:       \u001b[2m                  \u001b[0m\n",
              "\u001b[2;36m                    \u001b[0m         \u001b[1;36m-0.0002949994814116508\u001b[0m, \u001b[32m'logit_best_non_target'\u001b[0m:                    \u001b[2m                  \u001b[0m\n",
              "\u001b[2;36m                    \u001b[0m         \u001b[1;36m-9.756813049316406\u001b[0m, \u001b[32m'confidence_target'\u001b[0m: \u001b[1;36m0.9997050440266569\u001b[0m,        \u001b[2m                  \u001b[0m\n",
              "\u001b[2;36m                    \u001b[0m         \u001b[32m'confidence_non_target'\u001b[0m: \u001b[1;36m5.789884919502707e-05\u001b[0m, \u001b[32m'margin'\u001b[0m:           \u001b[2m                  \u001b[0m\n",
              "\u001b[2;36m                    \u001b[0m         \u001b[1;36m0.9996471451774619\u001b[0m\u001b[1m}\u001b[0m                                                 \u001b[2m                  \u001b[0m\n",
              "\u001b[2;36m                    \u001b[0m                                                                             \u001b[2m                  \u001b[0m\n"
            ],
            "text/html": [
              "<pre style=\"white-space:pre;overflow-x:auto;line-height:normal;font-family:Menlo,'DejaVu Sans Mono',consolas,'Courier New',monospace\"><span style=\"color: #7fbfbf; text-decoration-color: #7fbfbf\">[01/13/25 16:13:56] </span><span style=\"color: #000080; text-decoration-color: #000080\">INFO    </span>                                                                     <a href=\"file:///content/robustness_of_gnns_at_scale/rgnn_at_scale/attacks/local_prbcd.py\" target=\"_blank\"><span style=\"color: #7f7f7f; text-decoration-color: #7f7f7f\">local_prbcd.py</span></a><span style=\"color: #7f7f7f; text-decoration-color: #7f7f7f\">:</span><a href=\"file:///content/robustness_of_gnns_at_scale/rgnn_at_scale/attacks/local_prbcd.py#113\" target=\"_blank\"><span style=\"color: #7f7f7f; text-decoration-color: #7f7f7f\">113</span></a>\n",
              "<span style=\"color: #7fbfbf; text-decoration-color: #7fbfbf\">                    </span>         Epoch: <span style=\"color: #008080; text-decoration-color: #008080; font-weight: bold\">0</span> Loss: <span style=\"color: #008080; text-decoration-color: #008080; font-weight: bold\">-9.882246017456055</span> Statstics: <span style=\"font-weight: bold\">{</span><span style=\"color: #008000; text-decoration-color: #008000\">'logit_target'</span>:       <span style=\"color: #7f7f7f; text-decoration-color: #7f7f7f\">                  </span>\n",
              "<span style=\"color: #7fbfbf; text-decoration-color: #7fbfbf\">                    </span>         <span style=\"color: #008080; text-decoration-color: #008080; font-weight: bold\">-0.0002949994814116508</span>, <span style=\"color: #008000; text-decoration-color: #008000\">'logit_best_non_target'</span>:                    <span style=\"color: #7f7f7f; text-decoration-color: #7f7f7f\">                  </span>\n",
              "<span style=\"color: #7fbfbf; text-decoration-color: #7fbfbf\">                    </span>         <span style=\"color: #008080; text-decoration-color: #008080; font-weight: bold\">-9.756813049316406</span>, <span style=\"color: #008000; text-decoration-color: #008000\">'confidence_target'</span>: <span style=\"color: #008080; text-decoration-color: #008080; font-weight: bold\">0.9997050440266569</span>,        <span style=\"color: #7f7f7f; text-decoration-color: #7f7f7f\">                  </span>\n",
              "<span style=\"color: #7fbfbf; text-decoration-color: #7fbfbf\">                    </span>         <span style=\"color: #008000; text-decoration-color: #008000\">'confidence_non_target'</span>: <span style=\"color: #008080; text-decoration-color: #008080; font-weight: bold\">5.789884919502707e-05</span>, <span style=\"color: #008000; text-decoration-color: #008000\">'margin'</span>:           <span style=\"color: #7f7f7f; text-decoration-color: #7f7f7f\">                  </span>\n",
              "<span style=\"color: #7fbfbf; text-decoration-color: #7fbfbf\">                    </span>         <span style=\"color: #008080; text-decoration-color: #008080; font-weight: bold\">0.9996471451774619</span><span style=\"font-weight: bold\">}</span>                                                 <span style=\"color: #7f7f7f; text-decoration-color: #7f7f7f\">                  </span>\n",
              "<span style=\"color: #7fbfbf; text-decoration-color: #7fbfbf\">                    </span>                                                                             <span style=\"color: #7f7f7f; text-decoration-color: #7f7f7f\">                  </span>\n",
              "</pre>\n"
            ]
          },
          "metadata": {}
        },
        {
          "output_type": "display_data",
          "data": {
            "text/plain": [
              "\u001b[2;36m                   \u001b[0m\u001b[2;36m \u001b[0m\u001b[34mINFO    \u001b[0m Gradient mean \u001b[1;36m0.3952481746673584\u001b[0m std \u001b[1;36m0.15086518228054047\u001b[0m with base  \u001b]8;id=726309;file:///content/robustness_of_gnns_at_scale/rgnn_at_scale/attacks/local_prbcd.py\u001b\\\u001b[2mlocal_prbcd.py\u001b[0m\u001b]8;;\u001b\\\u001b[2m:\u001b[0m\u001b]8;id=672434;file:///content/robustness_of_gnns_at_scale/rgnn_at_scale/attacks/local_prbcd.py#114\u001b\\\u001b[2m114\u001b[0m\u001b]8;;\u001b\\\n",
              "\u001b[2;36m                    \u001b[0m         learning rate \u001b[1;36m0.1\u001b[0m                                                   \u001b[2m                  \u001b[0m\n"
            ],
            "text/html": [
              "<pre style=\"white-space:pre;overflow-x:auto;line-height:normal;font-family:Menlo,'DejaVu Sans Mono',consolas,'Courier New',monospace\"><span style=\"color: #7fbfbf; text-decoration-color: #7fbfbf\">                    </span><span style=\"color: #000080; text-decoration-color: #000080\">INFO    </span> Gradient mean <span style=\"color: #008080; text-decoration-color: #008080; font-weight: bold\">0.3952481746673584</span> std <span style=\"color: #008080; text-decoration-color: #008080; font-weight: bold\">0.15086518228054047</span> with base  <a href=\"file:///content/robustness_of_gnns_at_scale/rgnn_at_scale/attacks/local_prbcd.py\" target=\"_blank\"><span style=\"color: #7f7f7f; text-decoration-color: #7f7f7f\">local_prbcd.py</span></a><span style=\"color: #7f7f7f; text-decoration-color: #7f7f7f\">:</span><a href=\"file:///content/robustness_of_gnns_at_scale/rgnn_at_scale/attacks/local_prbcd.py#114\" target=\"_blank\"><span style=\"color: #7f7f7f; text-decoration-color: #7f7f7f\">114</span></a>\n",
              "<span style=\"color: #7fbfbf; text-decoration-color: #7fbfbf\">                    </span>         learning rate <span style=\"color: #008080; text-decoration-color: #008080; font-weight: bold\">0.1</span>                                                   <span style=\"color: #7f7f7f; text-decoration-color: #7f7f7f\">                  </span>\n",
              "</pre>\n"
            ]
          },
          "metadata": {}
        },
        {
          "output_type": "stream",
          "name": "stderr",
          "text": [
            " 40%|████      | 20/50 [05:02<07:27, 14.92s/it]"
          ]
        },
        {
          "output_type": "display_data",
          "data": {
            "text/plain": [
              "\u001b[2;36m[01/13/25 16:18:56]\u001b[0m\u001b[2;36m \u001b[0m\u001b[34mINFO    \u001b[0m                                                                     \u001b]8;id=621580;file:///content/robustness_of_gnns_at_scale/rgnn_at_scale/attacks/local_prbcd.py\u001b\\\u001b[2mlocal_prbcd.py\u001b[0m\u001b]8;;\u001b\\\u001b[2m:\u001b[0m\u001b]8;id=962928;file:///content/robustness_of_gnns_at_scale/rgnn_at_scale/attacks/local_prbcd.py#113\u001b\\\u001b[2m113\u001b[0m\u001b]8;;\u001b\\\n",
              "\u001b[2;36m                    \u001b[0m         Epoch: \u001b[1;36m20\u001b[0m Loss: \u001b[1;36m2.1924304962158203\u001b[0m Statstics: \u001b[1m{\u001b[0m\u001b[32m'logit_target'\u001b[0m:      \u001b[2m                  \u001b[0m\n",
              "\u001b[2;36m                    \u001b[0m         \u001b[1;36m-2.346278429031372\u001b[0m, \u001b[32m'logit_best_non_target'\u001b[0m: \u001b[1;36m-0.14710606634616852\u001b[0m,  \u001b[2m                  \u001b[0m\n",
              "\u001b[2;36m                    \u001b[0m         \u001b[32m'confidence_target'\u001b[0m: \u001b[1;36m0.09572474657676497\u001b[0m, \u001b[32m'confidence_non_target'\u001b[0m:  \u001b[2m                  \u001b[0m\n",
              "\u001b[2;36m                    \u001b[0m         \u001b[1;36m0.8632024158343526\u001b[0m, \u001b[32m'margin'\u001b[0m: \u001b[1;36m-0.7674776692575876\u001b[0m\u001b[1m}\u001b[0m                  \u001b[2m                  \u001b[0m\n",
              "\u001b[2;36m                    \u001b[0m                                                                             \u001b[2m                  \u001b[0m\n"
            ],
            "text/html": [
              "<pre style=\"white-space:pre;overflow-x:auto;line-height:normal;font-family:Menlo,'DejaVu Sans Mono',consolas,'Courier New',monospace\"><span style=\"color: #7fbfbf; text-decoration-color: #7fbfbf\">[01/13/25 16:18:56] </span><span style=\"color: #000080; text-decoration-color: #000080\">INFO    </span>                                                                     <a href=\"file:///content/robustness_of_gnns_at_scale/rgnn_at_scale/attacks/local_prbcd.py\" target=\"_blank\"><span style=\"color: #7f7f7f; text-decoration-color: #7f7f7f\">local_prbcd.py</span></a><span style=\"color: #7f7f7f; text-decoration-color: #7f7f7f\">:</span><a href=\"file:///content/robustness_of_gnns_at_scale/rgnn_at_scale/attacks/local_prbcd.py#113\" target=\"_blank\"><span style=\"color: #7f7f7f; text-decoration-color: #7f7f7f\">113</span></a>\n",
              "<span style=\"color: #7fbfbf; text-decoration-color: #7fbfbf\">                    </span>         Epoch: <span style=\"color: #008080; text-decoration-color: #008080; font-weight: bold\">20</span> Loss: <span style=\"color: #008080; text-decoration-color: #008080; font-weight: bold\">2.1924304962158203</span> Statstics: <span style=\"font-weight: bold\">{</span><span style=\"color: #008000; text-decoration-color: #008000\">'logit_target'</span>:      <span style=\"color: #7f7f7f; text-decoration-color: #7f7f7f\">                  </span>\n",
              "<span style=\"color: #7fbfbf; text-decoration-color: #7fbfbf\">                    </span>         <span style=\"color: #008080; text-decoration-color: #008080; font-weight: bold\">-2.346278429031372</span>, <span style=\"color: #008000; text-decoration-color: #008000\">'logit_best_non_target'</span>: <span style=\"color: #008080; text-decoration-color: #008080; font-weight: bold\">-0.14710606634616852</span>,  <span style=\"color: #7f7f7f; text-decoration-color: #7f7f7f\">                  </span>\n",
              "<span style=\"color: #7fbfbf; text-decoration-color: #7fbfbf\">                    </span>         <span style=\"color: #008000; text-decoration-color: #008000\">'confidence_target'</span>: <span style=\"color: #008080; text-decoration-color: #008080; font-weight: bold\">0.09572474657676497</span>, <span style=\"color: #008000; text-decoration-color: #008000\">'confidence_non_target'</span>:  <span style=\"color: #7f7f7f; text-decoration-color: #7f7f7f\">                  </span>\n",
              "<span style=\"color: #7fbfbf; text-decoration-color: #7fbfbf\">                    </span>         <span style=\"color: #008080; text-decoration-color: #008080; font-weight: bold\">0.8632024158343526</span>, <span style=\"color: #008000; text-decoration-color: #008000\">'margin'</span>: <span style=\"color: #008080; text-decoration-color: #008080; font-weight: bold\">-0.7674776692575876</span><span style=\"font-weight: bold\">}</span>                  <span style=\"color: #7f7f7f; text-decoration-color: #7f7f7f\">                  </span>\n",
              "<span style=\"color: #7fbfbf; text-decoration-color: #7fbfbf\">                    </span>                                                                             <span style=\"color: #7f7f7f; text-decoration-color: #7f7f7f\">                  </span>\n",
              "</pre>\n"
            ]
          },
          "metadata": {}
        },
        {
          "output_type": "display_data",
          "data": {
            "text/plain": [
              "\u001b[2;36m                   \u001b[0m\u001b[2;36m \u001b[0m\u001b[34mINFO    \u001b[0m Gradient mean \u001b[1;36m0.2556573748588562\u001b[0m std \u001b[1;36m0.15963776409626007\u001b[0m with base  \u001b]8;id=617493;file:///content/robustness_of_gnns_at_scale/rgnn_at_scale/attacks/local_prbcd.py\u001b\\\u001b[2mlocal_prbcd.py\u001b[0m\u001b]8;;\u001b\\\u001b[2m:\u001b[0m\u001b]8;id=9990;file:///content/robustness_of_gnns_at_scale/rgnn_at_scale/attacks/local_prbcd.py#114\u001b\\\u001b[2m114\u001b[0m\u001b]8;;\u001b\\\n",
              "\u001b[2;36m                    \u001b[0m         learning rate \u001b[1;36m0.1\u001b[0m                                                   \u001b[2m                  \u001b[0m\n"
            ],
            "text/html": [
              "<pre style=\"white-space:pre;overflow-x:auto;line-height:normal;font-family:Menlo,'DejaVu Sans Mono',consolas,'Courier New',monospace\"><span style=\"color: #7fbfbf; text-decoration-color: #7fbfbf\">                    </span><span style=\"color: #000080; text-decoration-color: #000080\">INFO    </span> Gradient mean <span style=\"color: #008080; text-decoration-color: #008080; font-weight: bold\">0.2556573748588562</span> std <span style=\"color: #008080; text-decoration-color: #008080; font-weight: bold\">0.15963776409626007</span> with base  <a href=\"file:///content/robustness_of_gnns_at_scale/rgnn_at_scale/attacks/local_prbcd.py\" target=\"_blank\"><span style=\"color: #7f7f7f; text-decoration-color: #7f7f7f\">local_prbcd.py</span></a><span style=\"color: #7f7f7f; text-decoration-color: #7f7f7f\">:</span><a href=\"file:///content/robustness_of_gnns_at_scale/rgnn_at_scale/attacks/local_prbcd.py#114\" target=\"_blank\"><span style=\"color: #7f7f7f; text-decoration-color: #7f7f7f\">114</span></a>\n",
              "<span style=\"color: #7fbfbf; text-decoration-color: #7fbfbf\">                    </span>         learning rate <span style=\"color: #008080; text-decoration-color: #008080; font-weight: bold\">0.1</span>                                                   <span style=\"color: #7f7f7f; text-decoration-color: #7f7f7f\">                  </span>\n",
              "</pre>\n"
            ]
          },
          "metadata": {}
        },
        {
          "output_type": "stream",
          "name": "stderr",
          "text": [
            " 52%|█████▏    | 26/50 [06:28<05:48, 14.52s/it]"
          ]
        }
      ]
    },
    {
      "cell_type": "code",
      "source": [
        "n_change = 0\n",
        "for node in local_prbcd_statistics['results']:\n",
        "    if node['margin'] < 0:\n",
        "        n_change += 1\n",
        "flipped_ratio =  n_change / len(local_prbcd_statistics['results'])\n",
        "print(f'Percentage of changed node predictions : {100*flipped_ratio:.2f}%')"
      ],
      "metadata": {
        "colab": {
          "base_uri": "https://localhost:8080/"
        },
        "id": "Saio7dZwlulQ",
        "outputId": "8dd69aa3-53c7-4dc7-9d5a-e7294d7ec13b"
      },
      "execution_count": null,
      "outputs": [
        {
          "output_type": "stream",
          "name": "stdout",
          "text": [
            "Percentage of changed node predictions : 100.00%\n"
          ]
        }
      ]
    },
    {
      "cell_type": "markdown",
      "source": [
        "### 2.2 Global PR-BCD Attack\n",
        "\n",
        "Now let's do the same with a non-local `PR-BCD` attack. For this, we use [experiments/experiment_global_attack_direct.py](https://github.com/sigeisler/robustness_of_gnns_at_scale/blob/main/experiments/experiment_global_attack_direct.py#L63)."
      ],
      "metadata": {
        "id": "UMtpxI6cCkwz"
      }
    },
    {
      "cell_type": "code",
      "source": [
        "global_prbcd_statistics = experiment_global_attack_direct.run(\n",
        "    data_dir = './data',\n",
        "    dataset = 'cora_ml',\n",
        "    attack = 'PRBCD',\n",
        "    attack_params = dict(\n",
        "        epochs=500,\n",
        "        fine_tune_epochs=100,\n",
        "        keep_heuristic=\"WeightOnly\",\n",
        "        search_space_size=100_000,\n",
        "        do_synchronize=True,\n",
        "        loss_type=\"tanhMargin\",\n",
        "    ),\n",
        "    epsilons = [0.25],\n",
        "    binary_attr = False,\n",
        "    make_undirected = True,\n",
        "    seed=0,\n",
        "    artifact_dir = 'cache',\n",
        "    pert_adj_storage_type = 'evasion_global_adj',\n",
        "    pert_attr_storage_type = 'evasion_global_attr',\n",
        "    model_label = 'Vanilla GCN',\n",
        "    model_storage_type = 'demo',\n",
        "    #device = 0,\n",
        "    #data_device = 0,\n",
        "    device = \"cpu\",\n",
        "    data_device = \"cpu\",\n",
        "    debug_level = \"info\"\n",
        ")\n",
        "\n",
        "print(global_prbcd_statistics)"
      ],
      "metadata": {
        "colab": {
          "base_uri": "https://localhost:8080/",
          "height": 734
        },
        "id": "NdZaHYI8Had1",
        "outputId": "61bc9ae9-c347-401a-d51a-13f0100bf537"
      },
      "execution_count": null,
      "outputs": [
        {
          "output_type": "display_data",
          "data": {
            "text/plain": [
              "\u001b[2;36m[01/08/25 19:24:03]\u001b[0m\u001b[2;36m \u001b[0m\u001b[34mINFO    \u001b[0m \u001b[1m{\u001b[0m\u001b[32m'dataset'\u001b[0m: \u001b[32m'cora_ml'\u001b[0m, \u001b[32m'attack'\u001b[0m: \u001b[32m'PRBCD'\u001b[0m, \u001b[32m'attack_params'\u001b[0m: \u001b[1m{\u001b[0m\u001b[32m'epochs'\u001b[0m:     \u001b]8;id=259883;file:///content/robustness_of_gnns_at_scale/experiments/common.py\u001b\\\u001b[2mcommon.py\u001b[0m\u001b]8;;\u001b\\\u001b[2m:\u001b[0m\u001b]8;id=861888;file:///content/robustness_of_gnns_at_scale/experiments/common.py#38\u001b\\\u001b[2m38\u001b[0m\u001b]8;;\u001b\\\n",
              "\u001b[2;36m                    \u001b[0m         \u001b[1;36m500\u001b[0m, \u001b[32m'fine_tune_epochs'\u001b[0m: \u001b[1;36m100\u001b[0m, \u001b[32m'keep_heuristic'\u001b[0m: \u001b[32m'WeightOnly'\u001b[0m,             \u001b[2m            \u001b[0m\n",
              "\u001b[2;36m                    \u001b[0m         \u001b[32m'search_space_size'\u001b[0m: \u001b[1;36m100000\u001b[0m, \u001b[32m'do_synchronize'\u001b[0m: \u001b[3;92mTrue\u001b[0m, \u001b[32m'loss_type'\u001b[0m:         \u001b[2m            \u001b[0m\n",
              "\u001b[2;36m                    \u001b[0m         \u001b[32m'tanhMargin'\u001b[0m\u001b[1m}\u001b[0m, \u001b[32m'epsilons'\u001b[0m: \u001b[1m[\u001b[0m\u001b[1;36m0.25\u001b[0m\u001b[1m]\u001b[0m, \u001b[32m'make_undirected'\u001b[0m: \u001b[3;92mTrue\u001b[0m,               \u001b[2m            \u001b[0m\n",
              "\u001b[2;36m                    \u001b[0m         \u001b[32m'binary_attr'\u001b[0m: \u001b[3;91mFalse\u001b[0m, \u001b[32m'seed'\u001b[0m: \u001b[1;36m0\u001b[0m, \u001b[32m'artifact_dir'\u001b[0m: \u001b[32m'cache'\u001b[0m,                 \u001b[2m            \u001b[0m\n",
              "\u001b[2;36m                    \u001b[0m         \u001b[32m'pert_adj_storage_type'\u001b[0m: \u001b[32m'evasion_global_adj'\u001b[0m, \u001b[32m'pert_attr_storage_type'\u001b[0m:  \u001b[2m            \u001b[0m\n",
              "\u001b[2;36m                    \u001b[0m         \u001b[32m'evasion_global_attr'\u001b[0m, \u001b[32m'model_label'\u001b[0m: \u001b[32m'Vanilla GCN'\u001b[0m,                      \u001b[2m            \u001b[0m\n",
              "\u001b[2;36m                    \u001b[0m         \u001b[32m'model_storage_type'\u001b[0m: \u001b[32m'demo'\u001b[0m, \u001b[32m'device'\u001b[0m: \u001b[32m'cpu'\u001b[0m, \u001b[32m'data_device'\u001b[0m: \u001b[32m'cpu'\u001b[0m\u001b[1m}\u001b[0m      \u001b[2m            \u001b[0m\n"
            ],
            "text/html": [
              "<pre style=\"white-space:pre;overflow-x:auto;line-height:normal;font-family:Menlo,'DejaVu Sans Mono',consolas,'Courier New',monospace\"><span style=\"color: #7fbfbf; text-decoration-color: #7fbfbf\">[01/08/25 19:24:03] </span><span style=\"color: #000080; text-decoration-color: #000080\">INFO    </span> <span style=\"font-weight: bold\">{</span><span style=\"color: #008000; text-decoration-color: #008000\">'dataset'</span>: <span style=\"color: #008000; text-decoration-color: #008000\">'cora_ml'</span>, <span style=\"color: #008000; text-decoration-color: #008000\">'attack'</span>: <span style=\"color: #008000; text-decoration-color: #008000\">'PRBCD'</span>, <span style=\"color: #008000; text-decoration-color: #008000\">'attack_params'</span>: <span style=\"font-weight: bold\">{</span><span style=\"color: #008000; text-decoration-color: #008000\">'epochs'</span>:     <a href=\"file:///content/robustness_of_gnns_at_scale/experiments/common.py\" target=\"_blank\"><span style=\"color: #7f7f7f; text-decoration-color: #7f7f7f\">common.py</span></a><span style=\"color: #7f7f7f; text-decoration-color: #7f7f7f\">:</span><a href=\"file:///content/robustness_of_gnns_at_scale/experiments/common.py#38\" target=\"_blank\"><span style=\"color: #7f7f7f; text-decoration-color: #7f7f7f\">38</span></a>\n",
              "<span style=\"color: #7fbfbf; text-decoration-color: #7fbfbf\">                    </span>         <span style=\"color: #008080; text-decoration-color: #008080; font-weight: bold\">500</span>, <span style=\"color: #008000; text-decoration-color: #008000\">'fine_tune_epochs'</span>: <span style=\"color: #008080; text-decoration-color: #008080; font-weight: bold\">100</span>, <span style=\"color: #008000; text-decoration-color: #008000\">'keep_heuristic'</span>: <span style=\"color: #008000; text-decoration-color: #008000\">'WeightOnly'</span>,             <span style=\"color: #7f7f7f; text-decoration-color: #7f7f7f\">            </span>\n",
              "<span style=\"color: #7fbfbf; text-decoration-color: #7fbfbf\">                    </span>         <span style=\"color: #008000; text-decoration-color: #008000\">'search_space_size'</span>: <span style=\"color: #008080; text-decoration-color: #008080; font-weight: bold\">100000</span>, <span style=\"color: #008000; text-decoration-color: #008000\">'do_synchronize'</span>: <span style=\"color: #00ff00; text-decoration-color: #00ff00; font-style: italic\">True</span>, <span style=\"color: #008000; text-decoration-color: #008000\">'loss_type'</span>:         <span style=\"color: #7f7f7f; text-decoration-color: #7f7f7f\">            </span>\n",
              "<span style=\"color: #7fbfbf; text-decoration-color: #7fbfbf\">                    </span>         <span style=\"color: #008000; text-decoration-color: #008000\">'tanhMargin'</span><span style=\"font-weight: bold\">}</span>, <span style=\"color: #008000; text-decoration-color: #008000\">'epsilons'</span>: <span style=\"font-weight: bold\">[</span><span style=\"color: #008080; text-decoration-color: #008080; font-weight: bold\">0.25</span><span style=\"font-weight: bold\">]</span>, <span style=\"color: #008000; text-decoration-color: #008000\">'make_undirected'</span>: <span style=\"color: #00ff00; text-decoration-color: #00ff00; font-style: italic\">True</span>,               <span style=\"color: #7f7f7f; text-decoration-color: #7f7f7f\">            </span>\n",
              "<span style=\"color: #7fbfbf; text-decoration-color: #7fbfbf\">                    </span>         <span style=\"color: #008000; text-decoration-color: #008000\">'binary_attr'</span>: <span style=\"color: #ff0000; text-decoration-color: #ff0000; font-style: italic\">False</span>, <span style=\"color: #008000; text-decoration-color: #008000\">'seed'</span>: <span style=\"color: #008080; text-decoration-color: #008080; font-weight: bold\">0</span>, <span style=\"color: #008000; text-decoration-color: #008000\">'artifact_dir'</span>: <span style=\"color: #008000; text-decoration-color: #008000\">'cache'</span>,                 <span style=\"color: #7f7f7f; text-decoration-color: #7f7f7f\">            </span>\n",
              "<span style=\"color: #7fbfbf; text-decoration-color: #7fbfbf\">                    </span>         <span style=\"color: #008000; text-decoration-color: #008000\">'pert_adj_storage_type'</span>: <span style=\"color: #008000; text-decoration-color: #008000\">'evasion_global_adj'</span>, <span style=\"color: #008000; text-decoration-color: #008000\">'pert_attr_storage_type'</span>:  <span style=\"color: #7f7f7f; text-decoration-color: #7f7f7f\">            </span>\n",
              "<span style=\"color: #7fbfbf; text-decoration-color: #7fbfbf\">                    </span>         <span style=\"color: #008000; text-decoration-color: #008000\">'evasion_global_attr'</span>, <span style=\"color: #008000; text-decoration-color: #008000\">'model_label'</span>: <span style=\"color: #008000; text-decoration-color: #008000\">'Vanilla GCN'</span>,                      <span style=\"color: #7f7f7f; text-decoration-color: #7f7f7f\">            </span>\n",
              "<span style=\"color: #7fbfbf; text-decoration-color: #7fbfbf\">                    </span>         <span style=\"color: #008000; text-decoration-color: #008000\">'model_storage_type'</span>: <span style=\"color: #008000; text-decoration-color: #008000\">'demo'</span>, <span style=\"color: #008000; text-decoration-color: #008000\">'device'</span>: <span style=\"color: #008000; text-decoration-color: #008000\">'cpu'</span>, <span style=\"color: #008000; text-decoration-color: #008000\">'data_device'</span>: <span style=\"color: #008000; text-decoration-color: #008000\">'cpu'</span><span style=\"font-weight: bold\">}</span>      <span style=\"color: #7f7f7f; text-decoration-color: #7f7f7f\">            </span>\n",
              "</pre>\n"
            ]
          },
          "metadata": {}
        },
        {
          "output_type": "display_data",
          "data": {
            "text/plain": [
              "\u001b[2;36m                   \u001b[0m\u001b[2;36m \u001b[0m\u001b[34mINFO    \u001b[0m Evaluate  PRBCD for model \u001b[32m'Vanilla GCN'\u001b[0m.        \u001b]8;id=814253;file:///content/robustness_of_gnns_at_scale/experiments/experiment_global_attack_direct.py\u001b\\\u001b[2mexperiment_global_attack_direct.py\u001b[0m\u001b]8;;\u001b\\\u001b[2m:\u001b[0m\u001b]8;id=973611;file:///content/robustness_of_gnns_at_scale/experiments/experiment_global_attack_direct.py#138\u001b\\\u001b[2m138\u001b[0m\u001b]8;;\u001b\\\n"
            ],
            "text/html": [
              "<pre style=\"white-space:pre;overflow-x:auto;line-height:normal;font-family:Menlo,'DejaVu Sans Mono',consolas,'Courier New',monospace\"><span style=\"color: #7fbfbf; text-decoration-color: #7fbfbf\">                    </span><span style=\"color: #000080; text-decoration-color: #000080\">INFO    </span> Evaluate  PRBCD for model <span style=\"color: #008000; text-decoration-color: #008000\">'Vanilla GCN'</span>.        <a href=\"file:///content/robustness_of_gnns_at_scale/experiments/experiment_global_attack_direct.py\" target=\"_blank\"><span style=\"color: #7f7f7f; text-decoration-color: #7f7f7f\">experiment_global_attack_direct.py</span></a><span style=\"color: #7f7f7f; text-decoration-color: #7f7f7f\">:</span><a href=\"file:///content/robustness_of_gnns_at_scale/experiments/experiment_global_attack_direct.py#138\" target=\"_blank\"><span style=\"color: #7f7f7f; text-decoration-color: #7f7f7f\">138</span></a>\n",
              "</pre>\n"
            ]
          },
          "metadata": {}
        },
        {
          "output_type": "display_data",
          "data": {
            "text/plain": [
              "\u001b[2;36m                   \u001b[0m\u001b[2;36m \u001b[0m\u001b[34mINFO    \u001b[0m No cached perturbations found for model \u001b[32m'Vanilla GCN'\u001b[0m and eps \u001b[1;36m0.25\u001b[0m.      \u001b]8;id=473231;file:///content/robustness_of_gnns_at_scale/experiments/common.py\u001b\\\u001b[2mcommon.py\u001b[0m\u001b]8;;\u001b\\\u001b[2m:\u001b[0m\u001b]8;id=263066;file:///content/robustness_of_gnns_at_scale/experiments/common.py#109\u001b\\\u001b[2m109\u001b[0m\u001b]8;;\u001b\\\n",
              "\u001b[2;36m                    \u001b[0m         Execute attack\u001b[33m...\u001b[0m                                                        \u001b[2m             \u001b[0m\n"
            ],
            "text/html": [
              "<pre style=\"white-space:pre;overflow-x:auto;line-height:normal;font-family:Menlo,'DejaVu Sans Mono',consolas,'Courier New',monospace\"><span style=\"color: #7fbfbf; text-decoration-color: #7fbfbf\">                    </span><span style=\"color: #000080; text-decoration-color: #000080\">INFO    </span> No cached perturbations found for model <span style=\"color: #008000; text-decoration-color: #008000\">'Vanilla GCN'</span> and eps <span style=\"color: #008080; text-decoration-color: #008080; font-weight: bold\">0.25</span>.      <a href=\"file:///content/robustness_of_gnns_at_scale/experiments/common.py\" target=\"_blank\"><span style=\"color: #7f7f7f; text-decoration-color: #7f7f7f\">common.py</span></a><span style=\"color: #7f7f7f; text-decoration-color: #7f7f7f\">:</span><a href=\"file:///content/robustness_of_gnns_at_scale/experiments/common.py#109\" target=\"_blank\"><span style=\"color: #7f7f7f; text-decoration-color: #7f7f7f\">109</span></a>\n",
              "<span style=\"color: #7fbfbf; text-decoration-color: #7fbfbf\">                    </span>         Execute attack<span style=\"color: #808000; text-decoration-color: #808000\">...</span>                                                        <span style=\"color: #7f7f7f; text-decoration-color: #7f7f7f\">             </span>\n",
              "</pre>\n"
            ]
          },
          "metadata": {}
        },
        {
          "output_type": "display_data",
          "data": {
            "text/plain": [
              "\u001b[2;36m[01/08/25 19:24:04]\u001b[0m\u001b[2;36m \u001b[0m\u001b[34mINFO    \u001b[0m                                                                            \u001b]8;id=596351;file:///content/robustness_of_gnns_at_scale/rgnn_at_scale/attacks/prbcd.py\u001b\\\u001b[2mprbcd.py\u001b[0m\u001b]8;;\u001b\\\u001b[2m:\u001b[0m\u001b]8;id=610692;file:///content/robustness_of_gnns_at_scale/rgnn_at_scale/attacks/prbcd.py#86\u001b\\\u001b[2m86\u001b[0m\u001b]8;;\u001b\\\n",
              "\u001b[2;36m                    \u001b[0m         Before the attack - Loss: \u001b[1;36m-0.6511061787605286\u001b[0m Accuracy: \u001b[1;36m83.439\u001b[0m %           \u001b[2m           \u001b[0m\n",
              "\u001b[2;36m                    \u001b[0m                                                                                    \u001b[2m           \u001b[0m\n"
            ],
            "text/html": [
              "<pre style=\"white-space:pre;overflow-x:auto;line-height:normal;font-family:Menlo,'DejaVu Sans Mono',consolas,'Courier New',monospace\"><span style=\"color: #7fbfbf; text-decoration-color: #7fbfbf\">[01/08/25 19:24:04] </span><span style=\"color: #000080; text-decoration-color: #000080\">INFO    </span>                                                                            <a href=\"file:///content/robustness_of_gnns_at_scale/rgnn_at_scale/attacks/prbcd.py\" target=\"_blank\"><span style=\"color: #7f7f7f; text-decoration-color: #7f7f7f\">prbcd.py</span></a><span style=\"color: #7f7f7f; text-decoration-color: #7f7f7f\">:</span><a href=\"file:///content/robustness_of_gnns_at_scale/rgnn_at_scale/attacks/prbcd.py#86\" target=\"_blank\"><span style=\"color: #7f7f7f; text-decoration-color: #7f7f7f\">86</span></a>\n",
              "<span style=\"color: #7fbfbf; text-decoration-color: #7fbfbf\">                    </span>         Before the attack - Loss: <span style=\"color: #008080; text-decoration-color: #008080; font-weight: bold\">-0.6511061787605286</span> Accuracy: <span style=\"color: #008080; text-decoration-color: #008080; font-weight: bold\">83.439</span> %           <span style=\"color: #7f7f7f; text-decoration-color: #7f7f7f\">           </span>\n",
              "<span style=\"color: #7fbfbf; text-decoration-color: #7fbfbf\">                    </span>                                                                                    <span style=\"color: #7f7f7f; text-decoration-color: #7f7f7f\">           </span>\n",
              "</pre>\n"
            ]
          },
          "metadata": {}
        },
        {
          "output_type": "stream",
          "name": "stderr",
          "text": [
            "\r  0%|          | 0/500 [00:00<?, ?it/s]"
          ]
        },
        {
          "output_type": "display_data",
          "data": {
            "text/plain": [
              "\u001b[2;36m[01/08/25 19:24:13]\u001b[0m\u001b[2;36m \u001b[0m\u001b[34mINFO    \u001b[0m                                                                           \u001b]8;id=323528;file:///content/robustness_of_gnns_at_scale/rgnn_at_scale/attacks/prbcd.py\u001b\\\u001b[2mprbcd.py\u001b[0m\u001b]8;;\u001b\\\u001b[2m:\u001b[0m\u001b]8;id=593423;file:///content/robustness_of_gnns_at_scale/rgnn_at_scale/attacks/prbcd.py#132\u001b\\\u001b[2m132\u001b[0m\u001b]8;;\u001b\\\n",
              "\u001b[2;36m                    \u001b[0m         Epoch: \u001b[1;36m0\u001b[0m Loss: \u001b[1;36m-0.6510993242263794\u001b[0m Accuracy: \u001b[1;36m79.051\u001b[0m %                     \u001b[2m            \u001b[0m\n",
              "\u001b[2;36m                    \u001b[0m                                                                                   \u001b[2m            \u001b[0m\n"
            ],
            "text/html": [
              "<pre style=\"white-space:pre;overflow-x:auto;line-height:normal;font-family:Menlo,'DejaVu Sans Mono',consolas,'Courier New',monospace\"><span style=\"color: #7fbfbf; text-decoration-color: #7fbfbf\">[01/08/25 19:24:13] </span><span style=\"color: #000080; text-decoration-color: #000080\">INFO    </span>                                                                           <a href=\"file:///content/robustness_of_gnns_at_scale/rgnn_at_scale/attacks/prbcd.py\" target=\"_blank\"><span style=\"color: #7f7f7f; text-decoration-color: #7f7f7f\">prbcd.py</span></a><span style=\"color: #7f7f7f; text-decoration-color: #7f7f7f\">:</span><a href=\"file:///content/robustness_of_gnns_at_scale/rgnn_at_scale/attacks/prbcd.py#132\" target=\"_blank\"><span style=\"color: #7f7f7f; text-decoration-color: #7f7f7f\">132</span></a>\n",
              "<span style=\"color: #7fbfbf; text-decoration-color: #7fbfbf\">                    </span>         Epoch: <span style=\"color: #008080; text-decoration-color: #008080; font-weight: bold\">0</span> Loss: <span style=\"color: #008080; text-decoration-color: #008080; font-weight: bold\">-0.6510993242263794</span> Accuracy: <span style=\"color: #008080; text-decoration-color: #008080; font-weight: bold\">79.051</span> %                     <span style=\"color: #7f7f7f; text-decoration-color: #7f7f7f\">            </span>\n",
              "<span style=\"color: #7fbfbf; text-decoration-color: #7fbfbf\">                    </span>                                                                                   <span style=\"color: #7f7f7f; text-decoration-color: #7f7f7f\">            </span>\n",
              "</pre>\n"
            ]
          },
          "metadata": {}
        },
        {
          "output_type": "stream",
          "name": "stderr",
          "text": [
            "  4%|▍         | 20/500 [03:09<1:15:13,  9.40s/it]"
          ]
        },
        {
          "output_type": "display_data",
          "data": {
            "text/plain": [
              "\u001b[2;36m[01/08/25 19:27:22]\u001b[0m\u001b[2;36m \u001b[0m\u001b[34mINFO    \u001b[0m                                                                           \u001b]8;id=552333;file:///content/robustness_of_gnns_at_scale/rgnn_at_scale/attacks/prbcd.py\u001b\\\u001b[2mprbcd.py\u001b[0m\u001b]8;;\u001b\\\u001b[2m:\u001b[0m\u001b]8;id=42856;file:///content/robustness_of_gnns_at_scale/rgnn_at_scale/attacks/prbcd.py#132\u001b\\\u001b[2m132\u001b[0m\u001b]8;;\u001b\\\n",
              "\u001b[2;36m                    \u001b[0m         Epoch: \u001b[1;36m20\u001b[0m Loss: \u001b[1;36m-0.24453163146972656\u001b[0m Accuracy: \u001b[1;36m60.672\u001b[0m %                   \u001b[2m            \u001b[0m\n",
              "\u001b[2;36m                    \u001b[0m                                                                                   \u001b[2m            \u001b[0m\n"
            ],
            "text/html": [
              "<pre style=\"white-space:pre;overflow-x:auto;line-height:normal;font-family:Menlo,'DejaVu Sans Mono',consolas,'Courier New',monospace\"><span style=\"color: #7fbfbf; text-decoration-color: #7fbfbf\">[01/08/25 19:27:22] </span><span style=\"color: #000080; text-decoration-color: #000080\">INFO    </span>                                                                           <a href=\"file:///content/robustness_of_gnns_at_scale/rgnn_at_scale/attacks/prbcd.py\" target=\"_blank\"><span style=\"color: #7f7f7f; text-decoration-color: #7f7f7f\">prbcd.py</span></a><span style=\"color: #7f7f7f; text-decoration-color: #7f7f7f\">:</span><a href=\"file:///content/robustness_of_gnns_at_scale/rgnn_at_scale/attacks/prbcd.py#132\" target=\"_blank\"><span style=\"color: #7f7f7f; text-decoration-color: #7f7f7f\">132</span></a>\n",
              "<span style=\"color: #7fbfbf; text-decoration-color: #7fbfbf\">                    </span>         Epoch: <span style=\"color: #008080; text-decoration-color: #008080; font-weight: bold\">20</span> Loss: <span style=\"color: #008080; text-decoration-color: #008080; font-weight: bold\">-0.24453163146972656</span> Accuracy: <span style=\"color: #008080; text-decoration-color: #008080; font-weight: bold\">60.672</span> %                   <span style=\"color: #7f7f7f; text-decoration-color: #7f7f7f\">            </span>\n",
              "<span style=\"color: #7fbfbf; text-decoration-color: #7fbfbf\">                    </span>                                                                                   <span style=\"color: #7f7f7f; text-decoration-color: #7f7f7f\">            </span>\n",
              "</pre>\n"
            ]
          },
          "metadata": {}
        },
        {
          "output_type": "stream",
          "name": "stderr",
          "text": [
            "  8%|▊         | 40/500 [06:18<1:13:28,  9.58s/it]"
          ]
        },
        {
          "output_type": "display_data",
          "data": {
            "text/plain": [
              "\u001b[2;36m[01/08/25 19:30:32]\u001b[0m\u001b[2;36m \u001b[0m\u001b[34mINFO    \u001b[0m                                                                           \u001b]8;id=456101;file:///content/robustness_of_gnns_at_scale/rgnn_at_scale/attacks/prbcd.py\u001b\\\u001b[2mprbcd.py\u001b[0m\u001b]8;;\u001b\\\u001b[2m:\u001b[0m\u001b]8;id=611665;file:///content/robustness_of_gnns_at_scale/rgnn_at_scale/attacks/prbcd.py#132\u001b\\\u001b[2m132\u001b[0m\u001b]8;;\u001b\\\n",
              "\u001b[2;36m                    \u001b[0m         Epoch: \u001b[1;36m40\u001b[0m Loss: \u001b[1;36m-0.16238142549991608\u001b[0m Accuracy: \u001b[1;36m56.957\u001b[0m %                   \u001b[2m            \u001b[0m\n",
              "\u001b[2;36m                    \u001b[0m                                                                                   \u001b[2m            \u001b[0m\n"
            ],
            "text/html": [
              "<pre style=\"white-space:pre;overflow-x:auto;line-height:normal;font-family:Menlo,'DejaVu Sans Mono',consolas,'Courier New',monospace\"><span style=\"color: #7fbfbf; text-decoration-color: #7fbfbf\">[01/08/25 19:30:32] </span><span style=\"color: #000080; text-decoration-color: #000080\">INFO    </span>                                                                           <a href=\"file:///content/robustness_of_gnns_at_scale/rgnn_at_scale/attacks/prbcd.py\" target=\"_blank\"><span style=\"color: #7f7f7f; text-decoration-color: #7f7f7f\">prbcd.py</span></a><span style=\"color: #7f7f7f; text-decoration-color: #7f7f7f\">:</span><a href=\"file:///content/robustness_of_gnns_at_scale/rgnn_at_scale/attacks/prbcd.py#132\" target=\"_blank\"><span style=\"color: #7f7f7f; text-decoration-color: #7f7f7f\">132</span></a>\n",
              "<span style=\"color: #7fbfbf; text-decoration-color: #7fbfbf\">                    </span>         Epoch: <span style=\"color: #008080; text-decoration-color: #008080; font-weight: bold\">40</span> Loss: <span style=\"color: #008080; text-decoration-color: #008080; font-weight: bold\">-0.16238142549991608</span> Accuracy: <span style=\"color: #008080; text-decoration-color: #008080; font-weight: bold\">56.957</span> %                   <span style=\"color: #7f7f7f; text-decoration-color: #7f7f7f\">            </span>\n",
              "<span style=\"color: #7fbfbf; text-decoration-color: #7fbfbf\">                    </span>                                                                                   <span style=\"color: #7f7f7f; text-decoration-color: #7f7f7f\">            </span>\n",
              "</pre>\n"
            ]
          },
          "metadata": {}
        },
        {
          "output_type": "stream",
          "name": "stderr",
          "text": [
            " 12%|█▏        | 60/500 [09:25<1:09:53,  9.53s/it]"
          ]
        },
        {
          "output_type": "display_data",
          "data": {
            "text/plain": [
              "\u001b[2;36m[01/08/25 19:33:39]\u001b[0m\u001b[2;36m \u001b[0m\u001b[34mINFO    \u001b[0m                                                                           \u001b]8;id=987569;file:///content/robustness_of_gnns_at_scale/rgnn_at_scale/attacks/prbcd.py\u001b\\\u001b[2mprbcd.py\u001b[0m\u001b]8;;\u001b\\\u001b[2m:\u001b[0m\u001b]8;id=321940;file:///content/robustness_of_gnns_at_scale/rgnn_at_scale/attacks/prbcd.py#132\u001b\\\u001b[2m132\u001b[0m\u001b]8;;\u001b\\\n",
              "\u001b[2;36m                    \u001b[0m         Epoch: \u001b[1;36m60\u001b[0m Loss: \u001b[1;36m-0.13186274468898773\u001b[0m Accuracy: \u001b[1;36m55.534\u001b[0m %                   \u001b[2m            \u001b[0m\n",
              "\u001b[2;36m                    \u001b[0m                                                                                   \u001b[2m            \u001b[0m\n"
            ],
            "text/html": [
              "<pre style=\"white-space:pre;overflow-x:auto;line-height:normal;font-family:Menlo,'DejaVu Sans Mono',consolas,'Courier New',monospace\"><span style=\"color: #7fbfbf; text-decoration-color: #7fbfbf\">[01/08/25 19:33:39] </span><span style=\"color: #000080; text-decoration-color: #000080\">INFO    </span>                                                                           <a href=\"file:///content/robustness_of_gnns_at_scale/rgnn_at_scale/attacks/prbcd.py\" target=\"_blank\"><span style=\"color: #7f7f7f; text-decoration-color: #7f7f7f\">prbcd.py</span></a><span style=\"color: #7f7f7f; text-decoration-color: #7f7f7f\">:</span><a href=\"file:///content/robustness_of_gnns_at_scale/rgnn_at_scale/attacks/prbcd.py#132\" target=\"_blank\"><span style=\"color: #7f7f7f; text-decoration-color: #7f7f7f\">132</span></a>\n",
              "<span style=\"color: #7fbfbf; text-decoration-color: #7fbfbf\">                    </span>         Epoch: <span style=\"color: #008080; text-decoration-color: #008080; font-weight: bold\">60</span> Loss: <span style=\"color: #008080; text-decoration-color: #008080; font-weight: bold\">-0.13186274468898773</span> Accuracy: <span style=\"color: #008080; text-decoration-color: #008080; font-weight: bold\">55.534</span> %                   <span style=\"color: #7f7f7f; text-decoration-color: #7f7f7f\">            </span>\n",
              "<span style=\"color: #7fbfbf; text-decoration-color: #7fbfbf\">                    </span>                                                                                   <span style=\"color: #7f7f7f; text-decoration-color: #7f7f7f\">            </span>\n",
              "</pre>\n"
            ]
          },
          "metadata": {}
        },
        {
          "output_type": "stream",
          "name": "stderr",
          "text": [
            " 16%|█▌        | 80/500 [12:34<1:06:18,  9.47s/it]"
          ]
        },
        {
          "output_type": "display_data",
          "data": {
            "text/plain": [
              "\u001b[2;36m[01/08/25 19:36:49]\u001b[0m\u001b[2;36m \u001b[0m\u001b[34mINFO    \u001b[0m                                                                           \u001b]8;id=45116;file:///content/robustness_of_gnns_at_scale/rgnn_at_scale/attacks/prbcd.py\u001b\\\u001b[2mprbcd.py\u001b[0m\u001b]8;;\u001b\\\u001b[2m:\u001b[0m\u001b]8;id=232975;file:///content/robustness_of_gnns_at_scale/rgnn_at_scale/attacks/prbcd.py#132\u001b\\\u001b[2m132\u001b[0m\u001b]8;;\u001b\\\n",
              "\u001b[2;36m                    \u001b[0m         Epoch: \u001b[1;36m80\u001b[0m Loss: \u001b[1;36m-0.11300715804100037\u001b[0m Accuracy: \u001b[1;36m54.506\u001b[0m %                   \u001b[2m            \u001b[0m\n",
              "\u001b[2;36m                    \u001b[0m                                                                                   \u001b[2m            \u001b[0m\n"
            ],
            "text/html": [
              "<pre style=\"white-space:pre;overflow-x:auto;line-height:normal;font-family:Menlo,'DejaVu Sans Mono',consolas,'Courier New',monospace\"><span style=\"color: #7fbfbf; text-decoration-color: #7fbfbf\">[01/08/25 19:36:49] </span><span style=\"color: #000080; text-decoration-color: #000080\">INFO    </span>                                                                           <a href=\"file:///content/robustness_of_gnns_at_scale/rgnn_at_scale/attacks/prbcd.py\" target=\"_blank\"><span style=\"color: #7f7f7f; text-decoration-color: #7f7f7f\">prbcd.py</span></a><span style=\"color: #7f7f7f; text-decoration-color: #7f7f7f\">:</span><a href=\"file:///content/robustness_of_gnns_at_scale/rgnn_at_scale/attacks/prbcd.py#132\" target=\"_blank\"><span style=\"color: #7f7f7f; text-decoration-color: #7f7f7f\">132</span></a>\n",
              "<span style=\"color: #7fbfbf; text-decoration-color: #7fbfbf\">                    </span>         Epoch: <span style=\"color: #008080; text-decoration-color: #008080; font-weight: bold\">80</span> Loss: <span style=\"color: #008080; text-decoration-color: #008080; font-weight: bold\">-0.11300715804100037</span> Accuracy: <span style=\"color: #008080; text-decoration-color: #008080; font-weight: bold\">54.506</span> %                   <span style=\"color: #7f7f7f; text-decoration-color: #7f7f7f\">            </span>\n",
              "<span style=\"color: #7fbfbf; text-decoration-color: #7fbfbf\">                    </span>                                                                                   <span style=\"color: #7f7f7f; text-decoration-color: #7f7f7f\">            </span>\n",
              "</pre>\n"
            ]
          },
          "metadata": {}
        },
        {
          "output_type": "stream",
          "name": "stderr",
          "text": [
            " 20%|██        | 100/500 [15:45<1:02:48,  9.42s/it]"
          ]
        },
        {
          "output_type": "display_data",
          "data": {
            "text/plain": [
              "\u001b[2;36m[01/08/25 19:39:59]\u001b[0m\u001b[2;36m \u001b[0m\u001b[34mINFO    \u001b[0m                                                                           \u001b]8;id=46440;file:///content/robustness_of_gnns_at_scale/rgnn_at_scale/attacks/prbcd.py\u001b\\\u001b[2mprbcd.py\u001b[0m\u001b]8;;\u001b\\\u001b[2m:\u001b[0m\u001b]8;id=537010;file:///content/robustness_of_gnns_at_scale/rgnn_at_scale/attacks/prbcd.py#132\u001b\\\u001b[2m132\u001b[0m\u001b]8;;\u001b\\\n",
              "\u001b[2;36m                    \u001b[0m         Epoch: \u001b[1;36m100\u001b[0m Loss: \u001b[1;36m-0.10065988451242447\u001b[0m Accuracy: \u001b[1;36m53.874\u001b[0m %                  \u001b[2m            \u001b[0m\n",
              "\u001b[2;36m                    \u001b[0m                                                                                   \u001b[2m            \u001b[0m\n"
            ],
            "text/html": [
              "<pre style=\"white-space:pre;overflow-x:auto;line-height:normal;font-family:Menlo,'DejaVu Sans Mono',consolas,'Courier New',monospace\"><span style=\"color: #7fbfbf; text-decoration-color: #7fbfbf\">[01/08/25 19:39:59] </span><span style=\"color: #000080; text-decoration-color: #000080\">INFO    </span>                                                                           <a href=\"file:///content/robustness_of_gnns_at_scale/rgnn_at_scale/attacks/prbcd.py\" target=\"_blank\"><span style=\"color: #7f7f7f; text-decoration-color: #7f7f7f\">prbcd.py</span></a><span style=\"color: #7f7f7f; text-decoration-color: #7f7f7f\">:</span><a href=\"file:///content/robustness_of_gnns_at_scale/rgnn_at_scale/attacks/prbcd.py#132\" target=\"_blank\"><span style=\"color: #7f7f7f; text-decoration-color: #7f7f7f\">132</span></a>\n",
              "<span style=\"color: #7fbfbf; text-decoration-color: #7fbfbf\">                    </span>         Epoch: <span style=\"color: #008080; text-decoration-color: #008080; font-weight: bold\">100</span> Loss: <span style=\"color: #008080; text-decoration-color: #008080; font-weight: bold\">-0.10065988451242447</span> Accuracy: <span style=\"color: #008080; text-decoration-color: #008080; font-weight: bold\">53.874</span> %                  <span style=\"color: #7f7f7f; text-decoration-color: #7f7f7f\">            </span>\n",
              "<span style=\"color: #7fbfbf; text-decoration-color: #7fbfbf\">                    </span>                                                                                   <span style=\"color: #7f7f7f; text-decoration-color: #7f7f7f\">            </span>\n",
              "</pre>\n"
            ]
          },
          "metadata": {}
        },
        {
          "output_type": "stream",
          "name": "stderr",
          "text": [
            " 24%|██▍       | 120/500 [18:58<1:00:54,  9.62s/it]"
          ]
        },
        {
          "output_type": "display_data",
          "data": {
            "text/plain": [
              "\u001b[2;36m[01/08/25 19:43:11]\u001b[0m\u001b[2;36m \u001b[0m\u001b[34mINFO    \u001b[0m                                                                           \u001b]8;id=519570;file:///content/robustness_of_gnns_at_scale/rgnn_at_scale/attacks/prbcd.py\u001b\\\u001b[2mprbcd.py\u001b[0m\u001b]8;;\u001b\\\u001b[2m:\u001b[0m\u001b]8;id=301469;file:///content/robustness_of_gnns_at_scale/rgnn_at_scale/attacks/prbcd.py#132\u001b\\\u001b[2m132\u001b[0m\u001b]8;;\u001b\\\n",
              "\u001b[2;36m                    \u001b[0m         Epoch: \u001b[1;36m120\u001b[0m Loss: \u001b[1;36m-0.08779348433017731\u001b[0m Accuracy: \u001b[1;36m53.123\u001b[0m %                  \u001b[2m            \u001b[0m\n",
              "\u001b[2;36m                    \u001b[0m                                                                                   \u001b[2m            \u001b[0m\n"
            ],
            "text/html": [
              "<pre style=\"white-space:pre;overflow-x:auto;line-height:normal;font-family:Menlo,'DejaVu Sans Mono',consolas,'Courier New',monospace\"><span style=\"color: #7fbfbf; text-decoration-color: #7fbfbf\">[01/08/25 19:43:11] </span><span style=\"color: #000080; text-decoration-color: #000080\">INFO    </span>                                                                           <a href=\"file:///content/robustness_of_gnns_at_scale/rgnn_at_scale/attacks/prbcd.py\" target=\"_blank\"><span style=\"color: #7f7f7f; text-decoration-color: #7f7f7f\">prbcd.py</span></a><span style=\"color: #7f7f7f; text-decoration-color: #7f7f7f\">:</span><a href=\"file:///content/robustness_of_gnns_at_scale/rgnn_at_scale/attacks/prbcd.py#132\" target=\"_blank\"><span style=\"color: #7f7f7f; text-decoration-color: #7f7f7f\">132</span></a>\n",
              "<span style=\"color: #7fbfbf; text-decoration-color: #7fbfbf\">                    </span>         Epoch: <span style=\"color: #008080; text-decoration-color: #008080; font-weight: bold\">120</span> Loss: <span style=\"color: #008080; text-decoration-color: #008080; font-weight: bold\">-0.08779348433017731</span> Accuracy: <span style=\"color: #008080; text-decoration-color: #008080; font-weight: bold\">53.123</span> %                  <span style=\"color: #7f7f7f; text-decoration-color: #7f7f7f\">            </span>\n",
              "<span style=\"color: #7fbfbf; text-decoration-color: #7fbfbf\">                    </span>                                                                                   <span style=\"color: #7f7f7f; text-decoration-color: #7f7f7f\">            </span>\n",
              "</pre>\n"
            ]
          },
          "metadata": {}
        }
      ]
    },
    {
      "cell_type": "code",
      "source": [
        "perturbed_acc = global_prbcd_statistics[\"results\"][0]['accuracy']\n",
        "print(f'Clean accuracy: {100*clean_acc:.2f}%; Accuracy after global PRBCD attack: {100*perturbed_acc:.2f}%')"
      ],
      "metadata": {
        "colab": {
          "base_uri": "https://localhost:8080/"
        },
        "id": "UQwlL5mnkXHO",
        "outputId": "03150aca-0629-443b-c494-a01bdd06b653"
      },
      "execution_count": null,
      "outputs": [
        {
          "output_type": "stream",
          "name": "stdout",
          "text": [
            "Clean accuracy: 81.90%; Accuracy after global PRBCD attack: 52.25%\n"
          ]
        }
      ]
    }
  ]
}