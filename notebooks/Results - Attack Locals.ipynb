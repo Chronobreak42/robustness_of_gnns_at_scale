{
 "cells": [
  {
   "cell_type": "code",
   "execution_count": 2,
   "metadata": {},
   "outputs": [],
   "source": [
    "import seml\n",
    "import pandas as pd\n",
    "import numpy as np\n",
    "from run_seml import run\n",
    "from matplotlib import pyplot as plt\n",
    "\n",
    "pd.set_option('display.max_columns', 50)\n",
    "pd.set_option('display.max_rows', 150)"
   ]
  },
  {
   "cell_type": "code",
   "execution_count": 3,
   "metadata": {},
   "outputs": [],
   "source": [
    "%load_ext autoreload\n",
    "%autoreload 2"
   ]
  },
  {
   "cell_type": "code",
   "execution_count": 117,
   "metadata": {
    "tags": []
   },
   "outputs": [
    {
     "output_type": "display_data",
     "data": {
      "text/plain": "HBox(children=(FloatProgress(value=0.0, max=1.0), HTML(value='')))",
      "application/vnd.jupyter.widget-view+json": {
       "version_major": 2,
       "version_minor": 0,
       "model_id": "2ce076e88db94782af444b919314ad78"
      }
     },
     "metadata": {}
    },
    {
     "output_type": "stream",
     "name": "stdout",
     "text": [
      "\n"
     ]
    },
    {
     "output_type": "display_data",
     "data": {
      "text/plain": "HBox(children=(FloatProgress(value=0.0, max=1.0), HTML(value='')))",
      "application/vnd.jupyter.widget-view+json": {
       "version_major": 2,
       "version_minor": 0,
       "model_id": "d34f4db7db9e4b8589346884c928a6d3"
      }
     },
     "metadata": {}
    },
    {
     "output_type": "stream",
     "name": "stdout",
     "text": [
      "\n"
     ]
    }
   ],
   "source": [
    "df_experiments = seml.get_results('kdd21_local_attack_citeseer_eval',\n",
    "                                  to_data_frame=True,\n",
    "                                  fields=['batch_id', 'slurm', 'config', 'result'])"
   ]
  },
  {
   "cell_type": "code",
   "execution_count": 118,
   "metadata": {},
   "outputs": [],
   "source": [
    "#df_experiments[\"config.dataset\"].unique()"
   ]
  },
  {
   "cell_type": "code",
   "execution_count": 119,
   "metadata": {},
   "outputs": [],
   "source": [
    "df_results = [\n",
    "    pd.DataFrame(r) \n",
    "    for r in df_experiments['result.results']\n",
    "]"
   ]
  },
  {
   "cell_type": "code",
   "execution_count": 120,
   "metadata": {},
   "outputs": [
    {
     "output_type": "execute_result",
     "data": {
      "text/plain": [
       "0     -0.007355\n",
       "1     -0.001722\n",
       "2      0.010363\n",
       "3      0.089794\n",
       "4      0.003082\n",
       "         ...   \n",
       "718   -0.004864\n",
       "719    0.001399\n",
       "720    0.000000\n",
       "721   -0.000567\n",
       "722   -0.000567\n",
       "Name: margin_diff, Length: 723, dtype: float64"
      ]
     },
     "metadata": {},
     "execution_count": 120
    }
   ],
   "source": [
    "pd.concat(df_results, ignore_index=True)[\"margin_diff\"]"
   ]
  },
  {
   "cell_type": "code",
   "execution_count": 108,
   "metadata": {},
   "outputs": [
    {
     "output_type": "execute_result",
     "data": {
      "text/plain": [
       "0     -0.007355\n",
       "1     -0.001722\n",
       "2      0.010363\n",
       "3      0.089794\n",
       "4      0.003082\n",
       "         ...   \n",
       "718   -0.004864\n",
       "719    0.001399\n",
       "720    0.000000\n",
       "721    0.000000\n",
       "722    0.000000\n",
       "Name: margin_diff, Length: 723, dtype: float64"
      ]
     },
     "metadata": {},
     "execution_count": 108
    }
   ],
   "source": [
    "pd.concat(df_results, ignore_index=True)[\"margin_diff\"]"
   ]
  },
  {
   "cell_type": "code",
   "execution_count": 65,
   "metadata": {},
   "outputs": [
    {
     "output_type": "execute_result",
     "data": {
      "text/plain": [
       "                           label  epsilon  n_perturbations  degree  \\\n",
       "0                    Vanilla GCN     0.50                2       4   \n",
       "711                Vanilla PPRGo     0.50                2       3   \n",
       "712                Vanilla PPRGo     0.75                2       3   \n",
       "713                Vanilla PPRGo     1.00                3       3   \n",
       "714                Vanilla PPRGo     0.50                1       2   \n",
       "...                          ...      ...              ...     ...   \n",
       "1321  Soft Median RPPRGo (T=1.0)     0.75                3       4   \n",
       "1322  Soft Median RPPRGo (T=1.0)     1.00                4       4   \n",
       "1323  Soft Median RPPRGo (T=1.0)     0.50                2       4   \n",
       "1325  Soft Median RPPRGo (T=1.0)     1.00                4       4   \n",
       "1799  Soft Median RPPRGo (T=0.5)     1.00                5       5   \n",
       "\n",
       "                                                 logits  \\\n",
       "0     [[tensor(-4.9452), tensor(-4.8286), tensor(-0....   \n",
       "711   [[tensor(-1.9587), tensor(-1.8669), tensor(-2....   \n",
       "712   [[tensor(-1.9587), tensor(-1.8669), tensor(-2....   \n",
       "713   [[tensor(-2.0504), tensor(-2.0509), tensor(-2....   \n",
       "714   [[tensor(-0.5598), tensor(-1.5981), tensor(-3....   \n",
       "...                                                 ...   \n",
       "1321  [[tensor(-2.7665), tensor(-3.1968), tensor(-0....   \n",
       "1322  [[tensor(-2.7665), tensor(-3.1968), tensor(-0....   \n",
       "1323  [[tensor(-1.9160), tensor(-0.7454), tensor(-2....   \n",
       "1325  [[tensor(-1.9160), tensor(-0.7454), tensor(-2....   \n",
       "1799  [[tensor(-2.6222), tensor(-2.4420), tensor(-1....   \n",
       "\n",
       "                                         initial_logits  larget  node_id  \\\n",
       "0     [[tensor(-3.2740), tensor(-2.9485), tensor(-2....       4     1132   \n",
       "711   [[tensor(-1.8817), tensor(-0.9742), tensor(-2....       1       60   \n",
       "712   [[tensor(-1.8817), tensor(-0.9742), tensor(-2....       1       60   \n",
       "713   [[tensor(-1.8817), tensor(-0.9742), tensor(-2....       1       60   \n",
       "714   [[tensor(-1.6985), tensor(-0.5926), tensor(-3....       1     1033   \n",
       "...                                                 ...     ...      ...   \n",
       "1321  [[tensor(-2.7665), tensor(-3.1968), tensor(-0....       4     1132   \n",
       "1322  [[tensor(-2.7665), tensor(-3.1968), tensor(-0....       4     1132   \n",
       "1323  [[tensor(-1.9160), tensor(-0.7454), tensor(-2....       1     1824   \n",
       "1325  [[tensor(-1.9160), tensor(-0.7454), tensor(-2....       1     1824   \n",
       "1799  [[tensor(-2.6222), tensor(-2.4420), tensor(-1....       3      344   \n",
       "\n",
       "                       perturbed_edges  logit_target  logit_best_non_target  \\\n",
       "0         [[1132, 1132], [1582, 1901]]     -2.823853              -0.102808   \n",
       "711            [[60, 60], [406, 1637]]     -1.866867              -0.711566   \n",
       "712            [[60, 60], [406, 1637]]     -1.866867              -0.711566   \n",
       "713   [[60, 60, 60], [406, 924, 1637]]     -2.050868              -0.590976   \n",
       "714                    [[603], [1033]]     -1.598062              -0.559828   \n",
       "...                                ...           ...                    ...   \n",
       "1321                                []     -1.568240              -0.575277   \n",
       "1322                                []     -1.568240              -0.575277   \n",
       "1323                                []     -0.745410              -1.823979   \n",
       "1325                                []     -0.745410              -1.823979   \n",
       "1799                                []     -2.245263              -0.759085   \n",
       "\n",
       "      confidence_target  confidence_non_target    margin  \\\n",
       "0              0.059377               0.902300 -0.842924   \n",
       "711            0.154607               0.490875 -0.336267   \n",
       "712            0.154607               0.490875 -0.336267   \n",
       "713            0.128623               0.553787 -0.425164   \n",
       "714            0.202288               0.571308 -0.369019   \n",
       "...                 ...                    ...       ...   \n",
       "1321           0.208412               0.562549 -0.354137   \n",
       "1322           0.208412               0.562549 -0.354137   \n",
       "1323           0.474539               0.161382  0.313157   \n",
       "1325           0.474539               0.161382  0.313157   \n",
       "1799           0.105900               0.468095 -0.362195   \n",
       "\n",
       "      initial_logit_target  initial_logit_best_non_target  \\\n",
       "0                -0.395368                      -2.088969   \n",
       "711              -0.974219                      -1.590702   \n",
       "712              -0.974219                      -1.590702   \n",
       "713              -0.974219                      -1.590702   \n",
       "714              -0.592619                      -1.698549   \n",
       "...                    ...                            ...   \n",
       "1321             -1.568240                      -0.575277   \n",
       "1322             -1.568240                      -0.575277   \n",
       "1323             -0.745410                      -1.823979   \n",
       "1325             -0.745410                      -1.823979   \n",
       "1799             -2.245263                      -0.759085   \n",
       "\n",
       "      initial_confidence_target  initial_confidence_non_target  \\\n",
       "0                      0.673432                       0.123815   \n",
       "711                    0.377487                       0.203783   \n",
       "712                    0.377487                       0.203783   \n",
       "713                    0.377487                       0.203783   \n",
       "714                    0.552877                       0.182949   \n",
       "...                         ...                            ...   \n",
       "1321                   0.208412                       0.562549   \n",
       "1322                   0.208412                       0.562549   \n",
       "1323                   0.474539                       0.161382   \n",
       "1325                   0.474539                       0.161382   \n",
       "1799                   0.105900                       0.468095   \n",
       "\n",
       "      initial_margin   dataset      attack  seed  batch_id  \n",
       "0           0.549617  citeseer  LocalPRBCD     0         1  \n",
       "711         0.173704  citeseer  LocalPRBCD     5         1  \n",
       "712         0.173704  citeseer  LocalPRBCD     5         1  \n",
       "713         0.173704  citeseer  LocalPRBCD     5         1  \n",
       "714         0.369928  citeseer  LocalPRBCD     5         1  \n",
       "...              ...       ...         ...   ...       ...  \n",
       "1321       -0.354137  citeseer  LocalPRBCD     5         2  \n",
       "1322       -0.354137  citeseer  LocalPRBCD     5         2  \n",
       "1323        0.313157  citeseer  LocalPRBCD     5         2  \n",
       "1325        0.313157  citeseer  LocalPRBCD     5         2  \n",
       "1799       -0.362195  citeseer  LocalPRBCD     5         2  \n",
       "\n",
       "[1800 rows x 23 columns]"
      ],
      "text/html": "<div>\n<style scoped>\n    .dataframe tbody tr th:only-of-type {\n        vertical-align: middle;\n    }\n\n    .dataframe tbody tr th {\n        vertical-align: top;\n    }\n\n    .dataframe thead th {\n        text-align: right;\n    }\n</style>\n<table border=\"1\" class=\"dataframe\">\n  <thead>\n    <tr style=\"text-align: right;\">\n      <th></th>\n      <th>label</th>\n      <th>epsilon</th>\n      <th>n_perturbations</th>\n      <th>degree</th>\n      <th>logits</th>\n      <th>initial_logits</th>\n      <th>larget</th>\n      <th>node_id</th>\n      <th>perturbed_edges</th>\n      <th>logit_target</th>\n      <th>logit_best_non_target</th>\n      <th>confidence_target</th>\n      <th>confidence_non_target</th>\n      <th>margin</th>\n      <th>initial_logit_target</th>\n      <th>initial_logit_best_non_target</th>\n      <th>initial_confidence_target</th>\n      <th>initial_confidence_non_target</th>\n      <th>initial_margin</th>\n      <th>dataset</th>\n      <th>attack</th>\n      <th>seed</th>\n      <th>batch_id</th>\n    </tr>\n  </thead>\n  <tbody>\n    <tr>\n      <th>0</th>\n      <td>Vanilla GCN</td>\n      <td>0.50</td>\n      <td>2</td>\n      <td>4</td>\n      <td>[[tensor(-4.9452), tensor(-4.8286), tensor(-0....</td>\n      <td>[[tensor(-3.2740), tensor(-2.9485), tensor(-2....</td>\n      <td>4</td>\n      <td>1132</td>\n      <td>[[1132, 1132], [1582, 1901]]</td>\n      <td>-2.823853</td>\n      <td>-0.102808</td>\n      <td>0.059377</td>\n      <td>0.902300</td>\n      <td>-0.842924</td>\n      <td>-0.395368</td>\n      <td>-2.088969</td>\n      <td>0.673432</td>\n      <td>0.123815</td>\n      <td>0.549617</td>\n      <td>citeseer</td>\n      <td>LocalPRBCD</td>\n      <td>0</td>\n      <td>1</td>\n    </tr>\n    <tr>\n      <th>711</th>\n      <td>Vanilla PPRGo</td>\n      <td>0.50</td>\n      <td>2</td>\n      <td>3</td>\n      <td>[[tensor(-1.9587), tensor(-1.8669), tensor(-2....</td>\n      <td>[[tensor(-1.8817), tensor(-0.9742), tensor(-2....</td>\n      <td>1</td>\n      <td>60</td>\n      <td>[[60, 60], [406, 1637]]</td>\n      <td>-1.866867</td>\n      <td>-0.711566</td>\n      <td>0.154607</td>\n      <td>0.490875</td>\n      <td>-0.336267</td>\n      <td>-0.974219</td>\n      <td>-1.590702</td>\n      <td>0.377487</td>\n      <td>0.203783</td>\n      <td>0.173704</td>\n      <td>citeseer</td>\n      <td>LocalPRBCD</td>\n      <td>5</td>\n      <td>1</td>\n    </tr>\n    <tr>\n      <th>712</th>\n      <td>Vanilla PPRGo</td>\n      <td>0.75</td>\n      <td>2</td>\n      <td>3</td>\n      <td>[[tensor(-1.9587), tensor(-1.8669), tensor(-2....</td>\n      <td>[[tensor(-1.8817), tensor(-0.9742), tensor(-2....</td>\n      <td>1</td>\n      <td>60</td>\n      <td>[[60, 60], [406, 1637]]</td>\n      <td>-1.866867</td>\n      <td>-0.711566</td>\n      <td>0.154607</td>\n      <td>0.490875</td>\n      <td>-0.336267</td>\n      <td>-0.974219</td>\n      <td>-1.590702</td>\n      <td>0.377487</td>\n      <td>0.203783</td>\n      <td>0.173704</td>\n      <td>citeseer</td>\n      <td>LocalPRBCD</td>\n      <td>5</td>\n      <td>1</td>\n    </tr>\n    <tr>\n      <th>713</th>\n      <td>Vanilla PPRGo</td>\n      <td>1.00</td>\n      <td>3</td>\n      <td>3</td>\n      <td>[[tensor(-2.0504), tensor(-2.0509), tensor(-2....</td>\n      <td>[[tensor(-1.8817), tensor(-0.9742), tensor(-2....</td>\n      <td>1</td>\n      <td>60</td>\n      <td>[[60, 60, 60], [406, 924, 1637]]</td>\n      <td>-2.050868</td>\n      <td>-0.590976</td>\n      <td>0.128623</td>\n      <td>0.553787</td>\n      <td>-0.425164</td>\n      <td>-0.974219</td>\n      <td>-1.590702</td>\n      <td>0.377487</td>\n      <td>0.203783</td>\n      <td>0.173704</td>\n      <td>citeseer</td>\n      <td>LocalPRBCD</td>\n      <td>5</td>\n      <td>1</td>\n    </tr>\n    <tr>\n      <th>714</th>\n      <td>Vanilla PPRGo</td>\n      <td>0.50</td>\n      <td>1</td>\n      <td>2</td>\n      <td>[[tensor(-0.5598), tensor(-1.5981), tensor(-3....</td>\n      <td>[[tensor(-1.6985), tensor(-0.5926), tensor(-3....</td>\n      <td>1</td>\n      <td>1033</td>\n      <td>[[603], [1033]]</td>\n      <td>-1.598062</td>\n      <td>-0.559828</td>\n      <td>0.202288</td>\n      <td>0.571308</td>\n      <td>-0.369019</td>\n      <td>-0.592619</td>\n      <td>-1.698549</td>\n      <td>0.552877</td>\n      <td>0.182949</td>\n      <td>0.369928</td>\n      <td>citeseer</td>\n      <td>LocalPRBCD</td>\n      <td>5</td>\n      <td>1</td>\n    </tr>\n    <tr>\n      <th>...</th>\n      <td>...</td>\n      <td>...</td>\n      <td>...</td>\n      <td>...</td>\n      <td>...</td>\n      <td>...</td>\n      <td>...</td>\n      <td>...</td>\n      <td>...</td>\n      <td>...</td>\n      <td>...</td>\n      <td>...</td>\n      <td>...</td>\n      <td>...</td>\n      <td>...</td>\n      <td>...</td>\n      <td>...</td>\n      <td>...</td>\n      <td>...</td>\n      <td>...</td>\n      <td>...</td>\n      <td>...</td>\n      <td>...</td>\n    </tr>\n    <tr>\n      <th>1321</th>\n      <td>Soft Median RPPRGo (T=1.0)</td>\n      <td>0.75</td>\n      <td>3</td>\n      <td>4</td>\n      <td>[[tensor(-2.7665), tensor(-3.1968), tensor(-0....</td>\n      <td>[[tensor(-2.7665), tensor(-3.1968), tensor(-0....</td>\n      <td>4</td>\n      <td>1132</td>\n      <td>[]</td>\n      <td>-1.568240</td>\n      <td>-0.575277</td>\n      <td>0.208412</td>\n      <td>0.562549</td>\n      <td>-0.354137</td>\n      <td>-1.568240</td>\n      <td>-0.575277</td>\n      <td>0.208412</td>\n      <td>0.562549</td>\n      <td>-0.354137</td>\n      <td>citeseer</td>\n      <td>LocalPRBCD</td>\n      <td>5</td>\n      <td>2</td>\n    </tr>\n    <tr>\n      <th>1322</th>\n      <td>Soft Median RPPRGo (T=1.0)</td>\n      <td>1.00</td>\n      <td>4</td>\n      <td>4</td>\n      <td>[[tensor(-2.7665), tensor(-3.1968), tensor(-0....</td>\n      <td>[[tensor(-2.7665), tensor(-3.1968), tensor(-0....</td>\n      <td>4</td>\n      <td>1132</td>\n      <td>[]</td>\n      <td>-1.568240</td>\n      <td>-0.575277</td>\n      <td>0.208412</td>\n      <td>0.562549</td>\n      <td>-0.354137</td>\n      <td>-1.568240</td>\n      <td>-0.575277</td>\n      <td>0.208412</td>\n      <td>0.562549</td>\n      <td>-0.354137</td>\n      <td>citeseer</td>\n      <td>LocalPRBCD</td>\n      <td>5</td>\n      <td>2</td>\n    </tr>\n    <tr>\n      <th>1323</th>\n      <td>Soft Median RPPRGo (T=1.0)</td>\n      <td>0.50</td>\n      <td>2</td>\n      <td>4</td>\n      <td>[[tensor(-1.9160), tensor(-0.7454), tensor(-2....</td>\n      <td>[[tensor(-1.9160), tensor(-0.7454), tensor(-2....</td>\n      <td>1</td>\n      <td>1824</td>\n      <td>[]</td>\n      <td>-0.745410</td>\n      <td>-1.823979</td>\n      <td>0.474539</td>\n      <td>0.161382</td>\n      <td>0.313157</td>\n      <td>-0.745410</td>\n      <td>-1.823979</td>\n      <td>0.474539</td>\n      <td>0.161382</td>\n      <td>0.313157</td>\n      <td>citeseer</td>\n      <td>LocalPRBCD</td>\n      <td>5</td>\n      <td>2</td>\n    </tr>\n    <tr>\n      <th>1325</th>\n      <td>Soft Median RPPRGo (T=1.0)</td>\n      <td>1.00</td>\n      <td>4</td>\n      <td>4</td>\n      <td>[[tensor(-1.9160), tensor(-0.7454), tensor(-2....</td>\n      <td>[[tensor(-1.9160), tensor(-0.7454), tensor(-2....</td>\n      <td>1</td>\n      <td>1824</td>\n      <td>[]</td>\n      <td>-0.745410</td>\n      <td>-1.823979</td>\n      <td>0.474539</td>\n      <td>0.161382</td>\n      <td>0.313157</td>\n      <td>-0.745410</td>\n      <td>-1.823979</td>\n      <td>0.474539</td>\n      <td>0.161382</td>\n      <td>0.313157</td>\n      <td>citeseer</td>\n      <td>LocalPRBCD</td>\n      <td>5</td>\n      <td>2</td>\n    </tr>\n    <tr>\n      <th>1799</th>\n      <td>Soft Median RPPRGo (T=0.5)</td>\n      <td>1.00</td>\n      <td>5</td>\n      <td>5</td>\n      <td>[[tensor(-2.6222), tensor(-2.4420), tensor(-1....</td>\n      <td>[[tensor(-2.6222), tensor(-2.4420), tensor(-1....</td>\n      <td>3</td>\n      <td>344</td>\n      <td>[]</td>\n      <td>-2.245263</td>\n      <td>-0.759085</td>\n      <td>0.105900</td>\n      <td>0.468095</td>\n      <td>-0.362195</td>\n      <td>-2.245263</td>\n      <td>-0.759085</td>\n      <td>0.105900</td>\n      <td>0.468095</td>\n      <td>-0.362195</td>\n      <td>citeseer</td>\n      <td>LocalPRBCD</td>\n      <td>5</td>\n      <td>2</td>\n    </tr>\n  </tbody>\n</table>\n<p>1800 rows × 23 columns</p>\n</div>"
     },
     "metadata": {},
     "execution_count": 65
    }
   ],
   "source": [
    "for df_result, (_, df_experiment) in zip(df_results, df_experiments.iterrows()):\n",
    "    df_result['dataset'] = df_experiment['config.dataset']\n",
    "    df_result['attack'] = df_experiment['config.attack']\n",
    "    df_result['seed'] = df_experiment['config.seed']\n",
    "    df_result['batch_id'] = df_experiment['batch_id']\n",
    "\n",
    "df_results = pd.concat(df_results, ignore_index=True)\n",
    "df_results = df_results.sort_values('batch_id')\n",
    "# df_results = df_results.drop_duplicates([\n",
    "#     c for c in df_results.columns if c != 'batch_id' and c != 'accuracy'\n",
    "# ], keep='last')\n",
    "\n",
    "df_results"
   ]
  },
  {
   "cell_type": "code",
   "execution_count": 73,
   "metadata": {},
   "outputs": [
    {
     "output_type": "execute_result",
     "data": {
      "text/plain": [
       "array(['Vanilla GCN', 'Vanilla PPRGo', 'Soft Median RPPRGo (T=0.2)',\n",
       "       'Soft Median RPPRGo (T=0.5)', 'Soft Median RPPRGo (T=1.0)'],\n",
       "      dtype=object)"
      ]
     },
     "metadata": {},
     "execution_count": 73
    }
   ],
   "source": [
    "df_results[\"label\"].unique()"
   ]
  },
  {
   "cell_type": "code",
   "execution_count": 67,
   "metadata": {},
   "outputs": [],
   "source": [
    "dataset_map = {\n",
    "    'cora_ml': r'Cora ML', \n",
    "    'citeseer': r'Citeseer', \n",
    "}\n",
    "dataset_order = [dataset_map[k] for k in dataset_map.keys()]"
   ]
  },
  {
   "cell_type": "code",
   "execution_count": 68,
   "metadata": {},
   "outputs": [],
   "source": [
    "attack_map = {\n",
    "    'PRBCD': r'PR-BCD',\n",
    "    'LocalPRBCD': r'Local PRBCD',\n",
    "    'Nettack': r'Nettack'\n",
    "}\n",
    "attack_order = [attack_map[k] for k in attack_map.keys()]"
   ]
  },
  {
   "cell_type": "code",
   "execution_count": 69,
   "metadata": {},
   "outputs": [],
   "source": [
    "def transform_label(label: str):\n",
    "    return label"
   ]
  },
  {
   "cell_type": "code",
   "execution_count": 70,
   "metadata": {},
   "outputs": [],
   "source": [
    "def calc_mean_and_error(values: pd.Series, seeds: pd.Series = None, with_error=True, decimal_places: int = 3): \n",
    "    if seeds is not None:\n",
    "        values, seeds = values.values, seeds.values\n",
    "        seeds = seeds[~np.isnan(values)]\n",
    "        values = values[~np.isnan(values)]\n",
    "\n",
    "        idx = np.unique(seeds, return_index=True)[1]\n",
    "        values = values[idx]\n",
    "    \n",
    "    if with_error:\n",
    "        return rf'{np.mean(values):.{decimal_places}f} $\\pm$ {np.std(values)/len(values):.{decimal_places}f}'\n",
    "    else:\n",
    "        return rf'{np.mean(values):.{decimal_places}f}'"
   ]
  },
  {
   "cell_type": "code",
   "execution_count": 71,
   "metadata": {},
   "outputs": [],
   "source": [
    "architecture_c = r'Architecture'\n",
    "dataset_c = r'   '\n",
    "attack_c = r'Attack'\n",
    "epsilons_c = r'Frac. edges (epsilon)'\n",
    "\n",
    "epsilons = [0.05, 0.1, 0.25]\n",
    "epsilon_marks = [r'\\textit', r'\\underline', r'\\textbf']"
   ]
  },
  {
   "cell_type": "code",
   "execution_count": 72,
   "metadata": {},
   "outputs": [],
   "source": [
    "\n",
    "df_cora = []\n",
    "df_citeseer = []\n",
    "\n",
    "for (dataset, attack, label, epsilon), df_group in df_results.groupby(['dataset', 'attack', 'label', 'epsilon']):\n",
    "\n",
    "       initial_margin = calc_mean_and_error(df_group.initial_margin, with_error=True)\n",
    "       margin = calc_mean_and_error(df_group.margin, df_group.seed, with_error=True)\n",
    "       \n",
    "       confidence_target = calc_mean_and_error(df_group.confidence_target, with_error=False)\n",
    "       confidence_non_target = calc_mean_and_error(df_group.confidence_non_target, with_error=False)\n",
    "       initial_confidence_target = calc_mean_and_error(df_group.initial_confidence_target, with_error=False)\n",
    "       initial_confidence_non_target = calc_mean_and_error(df_group.initial_confidence_non_target, with_error=False)\n",
    "       if dataset == \"citeseer\":\n",
    "              df_citeseer.append({\n",
    "                     dataset_c: dataset_map[dataset],\n",
    "                     architecture_c: transform_label(label),\n",
    "                     attack_c: attack_map[attack],\n",
    "                     epsilons_c: epsilon,\n",
    "                     'initial_margin': initial_margin,\n",
    "                     'margin': margin,\n",
    "                     'confidence_target': confidence_target,\n",
    "                     'confidence_non_target': confidence_non_target,\n",
    "                     'initial_confidence_target': initial_confidence_target,\n",
    "                     'initial_confidence_non_target': initial_confidence_non_target,\n",
    "              })\n",
    "       elif dataset == \"cora_ml\":\n",
    "              df_cora.append({\n",
    "                     dataset_c: dataset_map[dataset],\n",
    "                     architecture_c: transform_label(label),\n",
    "                     attack_c: attack_map[attack],\n",
    "                     epsilons_c: epsilon,\n",
    "                     'initial_margin': initial_margin,\n",
    "                     'margin': margin,\n",
    "                     'confidence_target': confidence_target,\n",
    "                     'confidence_non_target': confidence_non_target,\n",
    "                     'initial_confidence_target': initial_confidence_target,\n",
    "                     'initial_confidence_non_target': initial_confidence_non_target,\n",
    "              })\n",
    "\n",
    "\n",
    "df_cora = pd.DataFrame(df_cora)\n",
    "df_citeseer = pd.DataFrame(df_citeseer)"
   ]
  },
  {
   "cell_type": "code",
   "execution_count": 34,
   "metadata": {},
   "outputs": [
    {
     "output_type": "stream",
     "name": "stdout",
     "text": [
      "\n"
     ]
    }
   ],
   "source": [
    "\n",
    "print(df_cora.to_markdown())"
   ]
  },
  {
   "cell_type": "code",
   "execution_count": null,
   "metadata": {},
   "outputs": [],
   "source": []
  },
  {
   "cell_type": "code",
   "execution_count": 35,
   "metadata": {},
   "outputs": [
    {
     "output_type": "execute_result",
     "data": {
      "text/plain": [
       "Empty DataFrame\n",
       "Columns: []\n",
       "Index: []"
      ],
      "text/html": "<div>\n<style scoped>\n    .dataframe tbody tr th:only-of-type {\n        vertical-align: middle;\n    }\n\n    .dataframe tbody tr th {\n        vertical-align: top;\n    }\n\n    .dataframe thead th {\n        text-align: right;\n    }\n</style>\n<table border=\"1\" class=\"dataframe\">\n  <thead>\n    <tr style=\"text-align: right;\">\n      <th></th>\n    </tr>\n  </thead>\n  <tbody>\n  </tbody>\n</table>\n</div>"
     },
     "metadata": {},
     "execution_count": 35
    }
   ],
   "source": [
    "df_cora"
   ]
  },
  {
   "cell_type": "code",
   "execution_count": 36,
   "metadata": {
    "tags": []
   },
   "outputs": [
    {
     "output_type": "execute_result",
     "data": {
      "text/plain": [
       "             label  epsilon  n_perturbations  degree  \\\n",
       "81   Vanilla PPRGo     0.50                2       4   \n",
       "201  Vanilla PPRGo     0.50                2       4   \n",
       "321  Vanilla PPRGo     0.50                2       4   \n",
       "82   Vanilla PPRGo     0.75                3       4   \n",
       "202  Vanilla PPRGo     0.75                3       4   \n",
       "..             ...      ...              ...     ...   \n",
       "193  Vanilla PPRGo     0.75                3       4   \n",
       "313  Vanilla PPRGo     0.75                3       4   \n",
       "74   Vanilla PPRGo     1.00                4       4   \n",
       "194  Vanilla PPRGo     1.00                4       4   \n",
       "314  Vanilla PPRGo     1.00                4       4   \n",
       "\n",
       "                                                logits  \\\n",
       "81   [[tensor(-4.1921), tensor(-5.2794), tensor(-3....   \n",
       "201  [[tensor(-4.2226), tensor(-4.2111), tensor(-3....   \n",
       "321  [[tensor(-1.9614), tensor(-3.1962), tensor(-2....   \n",
       "82   [[tensor(-4.1921), tensor(-5.2794), tensor(-3....   \n",
       "202  [[tensor(-4.2226), tensor(-4.2111), tensor(-3....   \n",
       "..                                                 ...   \n",
       "193  [[tensor(-3.4144), tensor(-3.3409), tensor(-0....   \n",
       "313  [[tensor(-1.4816), tensor(-2.2674), tensor(-0....   \n",
       "74   [[tensor(-4.0898), tensor(-4.4470), tensor(-0....   \n",
       "194  [[tensor(-3.4144), tensor(-3.3409), tensor(-0....   \n",
       "314  [[tensor(-1.4816), tensor(-2.2674), tensor(-0....   \n",
       "\n",
       "                                        initial_logits  larget  node_id  \\\n",
       "81   [[tensor(-4.1921), tensor(-5.2794), tensor(-3....       4        2   \n",
       "201  [[tensor(-4.2226), tensor(-4.2111), tensor(-3....       4        2   \n",
       "321  [[tensor(-1.9614), tensor(-3.1962), tensor(-2....       4        2   \n",
       "82   [[tensor(-4.1921), tensor(-5.2794), tensor(-3....       4        2   \n",
       "202  [[tensor(-4.2226), tensor(-4.2111), tensor(-3....       4        2   \n",
       "..                                                 ...     ...      ...   \n",
       "193  [[tensor(-3.4144), tensor(-3.3409), tensor(-0....       2     2097   \n",
       "313  [[tensor(-1.4816), tensor(-2.2674), tensor(-0....       2     2097   \n",
       "74   [[tensor(-4.0898), tensor(-4.4470), tensor(-0....       2     2097   \n",
       "194  [[tensor(-3.4144), tensor(-3.3409), tensor(-0....       2     2097   \n",
       "314  [[tensor(-1.4816), tensor(-2.2674), tensor(-0....       2     2097   \n",
       "\n",
       "    perturbed_edges  logit_target  logit_best_non_target  confidence_target  \\\n",
       "81               []     -0.087281              -3.547653           0.916419   \n",
       "201              []     -0.102468              -3.456214           0.902607   \n",
       "321              []     -0.844676              -1.801137           0.429697   \n",
       "82               []     -0.087281              -3.547653           0.916419   \n",
       "202              []     -0.102468              -3.456213           0.902607   \n",
       "..              ...           ...                    ...                ...   \n",
       "193              []     -0.162039              -3.340863           0.850408   \n",
       "313              []     -0.740443              -1.481567           0.476903   \n",
       "74               []     -0.077421              -4.019835           0.925500   \n",
       "194              []     -0.162039              -3.340863           0.850408   \n",
       "314              []     -0.740443              -1.481567           0.476903   \n",
       "\n",
       "     confidence_non_target    margin  initial_logit_target  \\\n",
       "81                0.028792  0.887627             -0.087281   \n",
       "201               0.031549  0.871058             -0.102468   \n",
       "321               0.165111  0.264586             -0.844676   \n",
       "82                0.028792  0.887627             -0.087281   \n",
       "202               0.031549  0.871058             -0.102468   \n",
       "..                     ...       ...                   ...   \n",
       "193               0.035406  0.815002             -0.162039   \n",
       "313               0.227281  0.249621             -0.740443   \n",
       "74                0.017956  0.907544             -0.077421   \n",
       "194               0.035406  0.815002             -0.162039   \n",
       "314               0.227281  0.249621             -0.740443   \n",
       "\n",
       "     initial_logit_best_non_target  initial_confidence_target  \\\n",
       "81                       -3.547653                   0.916419   \n",
       "201                      -3.456214                   0.902607   \n",
       "321                      -1.801137                   0.429697   \n",
       "82                       -3.547653                   0.916419   \n",
       "202                      -3.456213                   0.902607   \n",
       "..                             ...                        ...   \n",
       "193                      -3.340863                   0.850408   \n",
       "313                      -1.481567                   0.476903   \n",
       "74                       -4.019835                   0.925500   \n",
       "194                      -3.340863                   0.850408   \n",
       "314                      -1.481567                   0.476903   \n",
       "\n",
       "     initial_confidence_non_target  initial_margin   dataset      attack  \\\n",
       "81                        0.028792        0.887627  citeseer  LocalPRBCD   \n",
       "201                       0.031549        0.871058  citeseer  LocalPRBCD   \n",
       "321                       0.165111        0.264586  citeseer  LocalPRBCD   \n",
       "82                        0.028792        0.887627  citeseer  LocalPRBCD   \n",
       "202                       0.031549        0.871058  citeseer  LocalPRBCD   \n",
       "..                             ...             ...       ...         ...   \n",
       "193                       0.035406        0.815002  citeseer  LocalPRBCD   \n",
       "313                       0.227281        0.249621  citeseer  LocalPRBCD   \n",
       "74                        0.017956        0.907544  citeseer  LocalPRBCD   \n",
       "194                       0.035406        0.815002  citeseer  LocalPRBCD   \n",
       "314                       0.227281        0.249621  citeseer  LocalPRBCD   \n",
       "\n",
       "     seed  batch_id  \n",
       "81      0         1  \n",
       "201     1         1  \n",
       "321     5         1  \n",
       "82      0         1  \n",
       "202     1         1  \n",
       "..    ...       ...  \n",
       "193     1         1  \n",
       "313     5         1  \n",
       "74      0         1  \n",
       "194     1         1  \n",
       "314     5         1  \n",
       "\n",
       "[360 rows x 23 columns]"
      ],
      "text/html": "<div>\n<style scoped>\n    .dataframe tbody tr th:only-of-type {\n        vertical-align: middle;\n    }\n\n    .dataframe tbody tr th {\n        vertical-align: top;\n    }\n\n    .dataframe thead th {\n        text-align: right;\n    }\n</style>\n<table border=\"1\" class=\"dataframe\">\n  <thead>\n    <tr style=\"text-align: right;\">\n      <th></th>\n      <th>label</th>\n      <th>epsilon</th>\n      <th>n_perturbations</th>\n      <th>degree</th>\n      <th>logits</th>\n      <th>initial_logits</th>\n      <th>larget</th>\n      <th>node_id</th>\n      <th>perturbed_edges</th>\n      <th>logit_target</th>\n      <th>logit_best_non_target</th>\n      <th>confidence_target</th>\n      <th>confidence_non_target</th>\n      <th>margin</th>\n      <th>initial_logit_target</th>\n      <th>initial_logit_best_non_target</th>\n      <th>initial_confidence_target</th>\n      <th>initial_confidence_non_target</th>\n      <th>initial_margin</th>\n      <th>dataset</th>\n      <th>attack</th>\n      <th>seed</th>\n      <th>batch_id</th>\n    </tr>\n  </thead>\n  <tbody>\n    <tr>\n      <th>81</th>\n      <td>Vanilla PPRGo</td>\n      <td>0.50</td>\n      <td>2</td>\n      <td>4</td>\n      <td>[[tensor(-4.1921), tensor(-5.2794), tensor(-3....</td>\n      <td>[[tensor(-4.1921), tensor(-5.2794), tensor(-3....</td>\n      <td>4</td>\n      <td>2</td>\n      <td>[]</td>\n      <td>-0.087281</td>\n      <td>-3.547653</td>\n      <td>0.916419</td>\n      <td>0.028792</td>\n      <td>0.887627</td>\n      <td>-0.087281</td>\n      <td>-3.547653</td>\n      <td>0.916419</td>\n      <td>0.028792</td>\n      <td>0.887627</td>\n      <td>citeseer</td>\n      <td>LocalPRBCD</td>\n      <td>0</td>\n      <td>1</td>\n    </tr>\n    <tr>\n      <th>201</th>\n      <td>Vanilla PPRGo</td>\n      <td>0.50</td>\n      <td>2</td>\n      <td>4</td>\n      <td>[[tensor(-4.2226), tensor(-4.2111), tensor(-3....</td>\n      <td>[[tensor(-4.2226), tensor(-4.2111), tensor(-3....</td>\n      <td>4</td>\n      <td>2</td>\n      <td>[]</td>\n      <td>-0.102468</td>\n      <td>-3.456214</td>\n      <td>0.902607</td>\n      <td>0.031549</td>\n      <td>0.871058</td>\n      <td>-0.102468</td>\n      <td>-3.456214</td>\n      <td>0.902607</td>\n      <td>0.031549</td>\n      <td>0.871058</td>\n      <td>citeseer</td>\n      <td>LocalPRBCD</td>\n      <td>1</td>\n      <td>1</td>\n    </tr>\n    <tr>\n      <th>321</th>\n      <td>Vanilla PPRGo</td>\n      <td>0.50</td>\n      <td>2</td>\n      <td>4</td>\n      <td>[[tensor(-1.9614), tensor(-3.1962), tensor(-2....</td>\n      <td>[[tensor(-1.9614), tensor(-3.1962), tensor(-2....</td>\n      <td>4</td>\n      <td>2</td>\n      <td>[]</td>\n      <td>-0.844676</td>\n      <td>-1.801137</td>\n      <td>0.429697</td>\n      <td>0.165111</td>\n      <td>0.264586</td>\n      <td>-0.844676</td>\n      <td>-1.801137</td>\n      <td>0.429697</td>\n      <td>0.165111</td>\n      <td>0.264586</td>\n      <td>citeseer</td>\n      <td>LocalPRBCD</td>\n      <td>5</td>\n      <td>1</td>\n    </tr>\n    <tr>\n      <th>82</th>\n      <td>Vanilla PPRGo</td>\n      <td>0.75</td>\n      <td>3</td>\n      <td>4</td>\n      <td>[[tensor(-4.1921), tensor(-5.2794), tensor(-3....</td>\n      <td>[[tensor(-4.1921), tensor(-5.2794), tensor(-3....</td>\n      <td>4</td>\n      <td>2</td>\n      <td>[]</td>\n      <td>-0.087281</td>\n      <td>-3.547653</td>\n      <td>0.916419</td>\n      <td>0.028792</td>\n      <td>0.887627</td>\n      <td>-0.087281</td>\n      <td>-3.547653</td>\n      <td>0.916419</td>\n      <td>0.028792</td>\n      <td>0.887627</td>\n      <td>citeseer</td>\n      <td>LocalPRBCD</td>\n      <td>0</td>\n      <td>1</td>\n    </tr>\n    <tr>\n      <th>202</th>\n      <td>Vanilla PPRGo</td>\n      <td>0.75</td>\n      <td>3</td>\n      <td>4</td>\n      <td>[[tensor(-4.2226), tensor(-4.2111), tensor(-3....</td>\n      <td>[[tensor(-4.2226), tensor(-4.2111), tensor(-3....</td>\n      <td>4</td>\n      <td>2</td>\n      <td>[]</td>\n      <td>-0.102468</td>\n      <td>-3.456213</td>\n      <td>0.902607</td>\n      <td>0.031549</td>\n      <td>0.871058</td>\n      <td>-0.102468</td>\n      <td>-3.456213</td>\n      <td>0.902607</td>\n      <td>0.031549</td>\n      <td>0.871058</td>\n      <td>citeseer</td>\n      <td>LocalPRBCD</td>\n      <td>1</td>\n      <td>1</td>\n    </tr>\n    <tr>\n      <th>...</th>\n      <td>...</td>\n      <td>...</td>\n      <td>...</td>\n      <td>...</td>\n      <td>...</td>\n      <td>...</td>\n      <td>...</td>\n      <td>...</td>\n      <td>...</td>\n      <td>...</td>\n      <td>...</td>\n      <td>...</td>\n      <td>...</td>\n      <td>...</td>\n      <td>...</td>\n      <td>...</td>\n      <td>...</td>\n      <td>...</td>\n      <td>...</td>\n      <td>...</td>\n      <td>...</td>\n      <td>...</td>\n      <td>...</td>\n    </tr>\n    <tr>\n      <th>193</th>\n      <td>Vanilla PPRGo</td>\n      <td>0.75</td>\n      <td>3</td>\n      <td>4</td>\n      <td>[[tensor(-3.4144), tensor(-3.3409), tensor(-0....</td>\n      <td>[[tensor(-3.4144), tensor(-3.3409), tensor(-0....</td>\n      <td>2</td>\n      <td>2097</td>\n      <td>[]</td>\n      <td>-0.162039</td>\n      <td>-3.340863</td>\n      <td>0.850408</td>\n      <td>0.035406</td>\n      <td>0.815002</td>\n      <td>-0.162039</td>\n      <td>-3.340863</td>\n      <td>0.850408</td>\n      <td>0.035406</td>\n      <td>0.815002</td>\n      <td>citeseer</td>\n      <td>LocalPRBCD</td>\n      <td>1</td>\n      <td>1</td>\n    </tr>\n    <tr>\n      <th>313</th>\n      <td>Vanilla PPRGo</td>\n      <td>0.75</td>\n      <td>3</td>\n      <td>4</td>\n      <td>[[tensor(-1.4816), tensor(-2.2674), tensor(-0....</td>\n      <td>[[tensor(-1.4816), tensor(-2.2674), tensor(-0....</td>\n      <td>2</td>\n      <td>2097</td>\n      <td>[]</td>\n      <td>-0.740443</td>\n      <td>-1.481567</td>\n      <td>0.476903</td>\n      <td>0.227281</td>\n      <td>0.249621</td>\n      <td>-0.740443</td>\n      <td>-1.481567</td>\n      <td>0.476903</td>\n      <td>0.227281</td>\n      <td>0.249621</td>\n      <td>citeseer</td>\n      <td>LocalPRBCD</td>\n      <td>5</td>\n      <td>1</td>\n    </tr>\n    <tr>\n      <th>74</th>\n      <td>Vanilla PPRGo</td>\n      <td>1.00</td>\n      <td>4</td>\n      <td>4</td>\n      <td>[[tensor(-4.0898), tensor(-4.4470), tensor(-0....</td>\n      <td>[[tensor(-4.0898), tensor(-4.4470), tensor(-0....</td>\n      <td>2</td>\n      <td>2097</td>\n      <td>[]</td>\n      <td>-0.077421</td>\n      <td>-4.019835</td>\n      <td>0.925500</td>\n      <td>0.017956</td>\n      <td>0.907544</td>\n      <td>-0.077421</td>\n      <td>-4.019835</td>\n      <td>0.925500</td>\n      <td>0.017956</td>\n      <td>0.907544</td>\n      <td>citeseer</td>\n      <td>LocalPRBCD</td>\n      <td>0</td>\n      <td>1</td>\n    </tr>\n    <tr>\n      <th>194</th>\n      <td>Vanilla PPRGo</td>\n      <td>1.00</td>\n      <td>4</td>\n      <td>4</td>\n      <td>[[tensor(-3.4144), tensor(-3.3409), tensor(-0....</td>\n      <td>[[tensor(-3.4144), tensor(-3.3409), tensor(-0....</td>\n      <td>2</td>\n      <td>2097</td>\n      <td>[]</td>\n      <td>-0.162039</td>\n      <td>-3.340863</td>\n      <td>0.850408</td>\n      <td>0.035406</td>\n      <td>0.815002</td>\n      <td>-0.162039</td>\n      <td>-3.340863</td>\n      <td>0.850408</td>\n      <td>0.035406</td>\n      <td>0.815002</td>\n      <td>citeseer</td>\n      <td>LocalPRBCD</td>\n      <td>1</td>\n      <td>1</td>\n    </tr>\n    <tr>\n      <th>314</th>\n      <td>Vanilla PPRGo</td>\n      <td>1.00</td>\n      <td>4</td>\n      <td>4</td>\n      <td>[[tensor(-1.4816), tensor(-2.2674), tensor(-0....</td>\n      <td>[[tensor(-1.4816), tensor(-2.2674), tensor(-0....</td>\n      <td>2</td>\n      <td>2097</td>\n      <td>[]</td>\n      <td>-0.740443</td>\n      <td>-1.481567</td>\n      <td>0.476903</td>\n      <td>0.227281</td>\n      <td>0.249621</td>\n      <td>-0.740443</td>\n      <td>-1.481567</td>\n      <td>0.476903</td>\n      <td>0.227281</td>\n      <td>0.249621</td>\n      <td>citeseer</td>\n      <td>LocalPRBCD</td>\n      <td>5</td>\n      <td>1</td>\n    </tr>\n  </tbody>\n</table>\n<p>360 rows × 23 columns</p>\n</div>"
     },
     "metadata": {},
     "execution_count": 36
    }
   ],
   "source": [
    "df_results[df_results[\"label\"]==\"Vanilla PPRGo\"].sort_values([\"node_id\", \"n_perturbations\", \"seed\", \"epsilon\", ])"
   ]
  },
  {
   "cell_type": "code",
   "execution_count": 46,
   "metadata": {},
   "outputs": [
    {
     "output_type": "execute_result",
     "data": {
      "text/plain": [
       "                           label  epsilon  n_perturbations  degree  \\\n",
       "0                  Vanilla PPRGo     0.50                2       4   \n",
       "964   Soft Median RPPRGo (T=0.5)     0.75                3       4   \n",
       "963   Soft Median RPPRGo (T=0.5)     0.50                2       4   \n",
       "962   Soft Median RPPRGo (T=0.5)     1.00                4       4   \n",
       "961   Soft Median RPPRGo (T=0.5)     0.75                3       4   \n",
       "...                          ...      ...              ...     ...   \n",
       "476   Soft Median RPPRGo (T=1.0)     1.00                2       2   \n",
       "475   Soft Median RPPRGo (T=1.0)     0.75                2       2   \n",
       "474   Soft Median RPPRGo (T=1.0)     0.50                1       2   \n",
       "472   Soft Median RPPRGo (T=1.0)     0.75                2       3   \n",
       "1439  Soft Median RPPRGo (T=0.2)     1.00                5       5   \n",
       "\n",
       "                                                 logits  \\\n",
       "0     [[tensor(-2.2240), tensor(-2.7214), tensor(-1....   \n",
       "964   [[tensor(-2.0328), tensor(-1.0638), tensor(-2....   \n",
       "963   [[tensor(-2.0328), tensor(-1.0638), tensor(-2....   \n",
       "962   [[tensor(-2.6215), tensor(-2.8150), tensor(-0....   \n",
       "961   [[tensor(-2.6215), tensor(-2.8150), tensor(-0....   \n",
       "...                                                 ...   \n",
       "476   [[tensor(-1.3277), tensor(-1.0441), tensor(-4....   \n",
       "475   [[tensor(-1.3277), tensor(-1.0441), tensor(-4....   \n",
       "474   [[tensor(-1.3277), tensor(-1.0441), tensor(-4....   \n",
       "472   [[tensor(-1.8802), tensor(-0.4968), tensor(-2....   \n",
       "1439  [[tensor(-1.8113), tensor(-2.1779), tensor(-1....   \n",
       "\n",
       "                                         initial_logits  larget  node_id  \\\n",
       "0     [[tensor(-2.2240), tensor(-2.7214), tensor(-1....       4     1132   \n",
       "964   [[tensor(-2.0328), tensor(-1.0638), tensor(-2....       1     1824   \n",
       "963   [[tensor(-2.0328), tensor(-1.0638), tensor(-2....       1     1824   \n",
       "962   [[tensor(-2.6215), tensor(-2.8150), tensor(-0....       4     1132   \n",
       "961   [[tensor(-2.6215), tensor(-2.8150), tensor(-0....       4     1132   \n",
       "...                                                 ...     ...      ...   \n",
       "476   [[tensor(-1.3277), tensor(-1.0441), tensor(-4....       1     1033   \n",
       "475   [[tensor(-1.3277), tensor(-1.0441), tensor(-4....       1     1033   \n",
       "474   [[tensor(-1.3277), tensor(-1.0441), tensor(-4....       1     1033   \n",
       "472   [[tensor(-1.8802), tensor(-0.4968), tensor(-2....       1       60   \n",
       "1439  [[tensor(-1.8113), tensor(-2.1779), tensor(-1....       3      344   \n",
       "\n",
       "     perturbed_edges  logit_target  logit_best_non_target  confidence_target  \\\n",
       "0                 []     -0.960408              -1.207005           0.382737   \n",
       "964               []     -1.063771              -1.348494           0.345152   \n",
       "963               []     -1.063771              -1.348494           0.345152   \n",
       "962               []     -1.616667              -0.578748           0.198559   \n",
       "961               []     -1.616667              -0.578748           0.198559   \n",
       "...              ...           ...                    ...                ...   \n",
       "476               []     -1.044066              -1.327670           0.352021   \n",
       "475               []     -1.044066              -1.327670           0.352021   \n",
       "474               []     -1.044066              -1.327670           0.352021   \n",
       "472               []     -0.496810              -1.880182           0.608469   \n",
       "1439              []     -1.695105              -1.499329           0.183580   \n",
       "\n",
       "      confidence_non_target    margin  initial_logit_target  \\\n",
       "0                  0.299092  0.083645             -0.960408   \n",
       "964                0.259631  0.085521             -1.063771   \n",
       "963                0.259631  0.085521             -1.063771   \n",
       "962                0.560600 -0.362040             -1.616667   \n",
       "961                0.560600 -0.362040             -1.616667   \n",
       "...                     ...       ...                   ...   \n",
       "476                0.265094  0.086926             -1.044066   \n",
       "475                0.265094  0.086926             -1.044066   \n",
       "474                0.265094  0.086926             -1.044066   \n",
       "472                0.152562  0.455906             -0.496810   \n",
       "1439               0.223280 -0.039700             -1.695105   \n",
       "\n",
       "      initial_logit_best_non_target  initial_confidence_target  \\\n",
       "0                         -1.207005                   0.382737   \n",
       "964                       -1.348494                   0.345152   \n",
       "963                       -1.348494                   0.345152   \n",
       "962                       -0.578748                   0.198559   \n",
       "961                       -0.578748                   0.198559   \n",
       "...                             ...                        ...   \n",
       "476                       -1.327670                   0.352021   \n",
       "475                       -1.327670                   0.352021   \n",
       "474                       -1.327670                   0.352021   \n",
       "472                       -1.880182                   0.608469   \n",
       "1439                      -1.499329                   0.183580   \n",
       "\n",
       "      initial_confidence_non_target  initial_margin   dataset      attack  \\\n",
       "0                          0.299092        0.083645  citeseer  LocalPRBCD   \n",
       "964                        0.259631        0.085521  citeseer  LocalPRBCD   \n",
       "963                        0.259631        0.085521  citeseer  LocalPRBCD   \n",
       "962                        0.560600       -0.362040  citeseer  LocalPRBCD   \n",
       "961                        0.560600       -0.362040  citeseer  LocalPRBCD   \n",
       "...                             ...             ...       ...         ...   \n",
       "476                        0.265094        0.086926  citeseer  LocalPRBCD   \n",
       "475                        0.265094        0.086926  citeseer  LocalPRBCD   \n",
       "474                        0.265094        0.086926  citeseer  LocalPRBCD   \n",
       "472                        0.152562        0.455906  citeseer  LocalPRBCD   \n",
       "1439                       0.223280       -0.039700  citeseer  LocalPRBCD   \n",
       "\n",
       "      seed  batch_id  \n",
       "0        0         1  \n",
       "964      5         1  \n",
       "963      5         1  \n",
       "962      5         1  \n",
       "961      5         1  \n",
       "...    ...       ...  \n",
       "476      0         1  \n",
       "475      0         1  \n",
       "474      0         1  \n",
       "472      0         1  \n",
       "1439     5         1  \n",
       "\n",
       "[1440 rows x 23 columns]"
      ],
      "text/html": "<div>\n<style scoped>\n    .dataframe tbody tr th:only-of-type {\n        vertical-align: middle;\n    }\n\n    .dataframe tbody tr th {\n        vertical-align: top;\n    }\n\n    .dataframe thead th {\n        text-align: right;\n    }\n</style>\n<table border=\"1\" class=\"dataframe\">\n  <thead>\n    <tr style=\"text-align: right;\">\n      <th></th>\n      <th>label</th>\n      <th>epsilon</th>\n      <th>n_perturbations</th>\n      <th>degree</th>\n      <th>logits</th>\n      <th>initial_logits</th>\n      <th>larget</th>\n      <th>node_id</th>\n      <th>perturbed_edges</th>\n      <th>logit_target</th>\n      <th>logit_best_non_target</th>\n      <th>confidence_target</th>\n      <th>confidence_non_target</th>\n      <th>margin</th>\n      <th>initial_logit_target</th>\n      <th>initial_logit_best_non_target</th>\n      <th>initial_confidence_target</th>\n      <th>initial_confidence_non_target</th>\n      <th>initial_margin</th>\n      <th>dataset</th>\n      <th>attack</th>\n      <th>seed</th>\n      <th>batch_id</th>\n    </tr>\n  </thead>\n  <tbody>\n    <tr>\n      <th>0</th>\n      <td>Vanilla PPRGo</td>\n      <td>0.50</td>\n      <td>2</td>\n      <td>4</td>\n      <td>[[tensor(-2.2240), tensor(-2.7214), tensor(-1....</td>\n      <td>[[tensor(-2.2240), tensor(-2.7214), tensor(-1....</td>\n      <td>4</td>\n      <td>1132</td>\n      <td>[]</td>\n      <td>-0.960408</td>\n      <td>-1.207005</td>\n      <td>0.382737</td>\n      <td>0.299092</td>\n      <td>0.083645</td>\n      <td>-0.960408</td>\n      <td>-1.207005</td>\n      <td>0.382737</td>\n      <td>0.299092</td>\n      <td>0.083645</td>\n      <td>citeseer</td>\n      <td>LocalPRBCD</td>\n      <td>0</td>\n      <td>1</td>\n    </tr>\n    <tr>\n      <th>964</th>\n      <td>Soft Median RPPRGo (T=0.5)</td>\n      <td>0.75</td>\n      <td>3</td>\n      <td>4</td>\n      <td>[[tensor(-2.0328), tensor(-1.0638), tensor(-2....</td>\n      <td>[[tensor(-2.0328), tensor(-1.0638), tensor(-2....</td>\n      <td>1</td>\n      <td>1824</td>\n      <td>[]</td>\n      <td>-1.063771</td>\n      <td>-1.348494</td>\n      <td>0.345152</td>\n      <td>0.259631</td>\n      <td>0.085521</td>\n      <td>-1.063771</td>\n      <td>-1.348494</td>\n      <td>0.345152</td>\n      <td>0.259631</td>\n      <td>0.085521</td>\n      <td>citeseer</td>\n      <td>LocalPRBCD</td>\n      <td>5</td>\n      <td>1</td>\n    </tr>\n    <tr>\n      <th>963</th>\n      <td>Soft Median RPPRGo (T=0.5)</td>\n      <td>0.50</td>\n      <td>2</td>\n      <td>4</td>\n      <td>[[tensor(-2.0328), tensor(-1.0638), tensor(-2....</td>\n      <td>[[tensor(-2.0328), tensor(-1.0638), tensor(-2....</td>\n      <td>1</td>\n      <td>1824</td>\n      <td>[]</td>\n      <td>-1.063771</td>\n      <td>-1.348494</td>\n      <td>0.345152</td>\n      <td>0.259631</td>\n      <td>0.085521</td>\n      <td>-1.063771</td>\n      <td>-1.348494</td>\n      <td>0.345152</td>\n      <td>0.259631</td>\n      <td>0.085521</td>\n      <td>citeseer</td>\n      <td>LocalPRBCD</td>\n      <td>5</td>\n      <td>1</td>\n    </tr>\n    <tr>\n      <th>962</th>\n      <td>Soft Median RPPRGo (T=0.5)</td>\n      <td>1.00</td>\n      <td>4</td>\n      <td>4</td>\n      <td>[[tensor(-2.6215), tensor(-2.8150), tensor(-0....</td>\n      <td>[[tensor(-2.6215), tensor(-2.8150), tensor(-0....</td>\n      <td>4</td>\n      <td>1132</td>\n      <td>[]</td>\n      <td>-1.616667</td>\n      <td>-0.578748</td>\n      <td>0.198559</td>\n      <td>0.560600</td>\n      <td>-0.362040</td>\n      <td>-1.616667</td>\n      <td>-0.578748</td>\n      <td>0.198559</td>\n      <td>0.560600</td>\n      <td>-0.362040</td>\n      <td>citeseer</td>\n      <td>LocalPRBCD</td>\n      <td>5</td>\n      <td>1</td>\n    </tr>\n    <tr>\n      <th>961</th>\n      <td>Soft Median RPPRGo (T=0.5)</td>\n      <td>0.75</td>\n      <td>3</td>\n      <td>4</td>\n      <td>[[tensor(-2.6215), tensor(-2.8150), tensor(-0....</td>\n      <td>[[tensor(-2.6215), tensor(-2.8150), tensor(-0....</td>\n      <td>4</td>\n      <td>1132</td>\n      <td>[]</td>\n      <td>-1.616667</td>\n      <td>-0.578748</td>\n      <td>0.198559</td>\n      <td>0.560600</td>\n      <td>-0.362040</td>\n      <td>-1.616667</td>\n      <td>-0.578748</td>\n      <td>0.198559</td>\n      <td>0.560600</td>\n      <td>-0.362040</td>\n      <td>citeseer</td>\n      <td>LocalPRBCD</td>\n      <td>5</td>\n      <td>1</td>\n    </tr>\n    <tr>\n      <th>...</th>\n      <td>...</td>\n      <td>...</td>\n      <td>...</td>\n      <td>...</td>\n      <td>...</td>\n      <td>...</td>\n      <td>...</td>\n      <td>...</td>\n      <td>...</td>\n      <td>...</td>\n      <td>...</td>\n      <td>...</td>\n      <td>...</td>\n      <td>...</td>\n      <td>...</td>\n      <td>...</td>\n      <td>...</td>\n      <td>...</td>\n      <td>...</td>\n      <td>...</td>\n      <td>...</td>\n      <td>...</td>\n      <td>...</td>\n    </tr>\n    <tr>\n      <th>476</th>\n      <td>Soft Median RPPRGo (T=1.0)</td>\n      <td>1.00</td>\n      <td>2</td>\n      <td>2</td>\n      <td>[[tensor(-1.3277), tensor(-1.0441), tensor(-4....</td>\n      <td>[[tensor(-1.3277), tensor(-1.0441), tensor(-4....</td>\n      <td>1</td>\n      <td>1033</td>\n      <td>[]</td>\n      <td>-1.044066</td>\n      <td>-1.327670</td>\n      <td>0.352021</td>\n      <td>0.265094</td>\n      <td>0.086926</td>\n      <td>-1.044066</td>\n      <td>-1.327670</td>\n      <td>0.352021</td>\n      <td>0.265094</td>\n      <td>0.086926</td>\n      <td>citeseer</td>\n      <td>LocalPRBCD</td>\n      <td>0</td>\n      <td>1</td>\n    </tr>\n    <tr>\n      <th>475</th>\n      <td>Soft Median RPPRGo (T=1.0)</td>\n      <td>0.75</td>\n      <td>2</td>\n      <td>2</td>\n      <td>[[tensor(-1.3277), tensor(-1.0441), tensor(-4....</td>\n      <td>[[tensor(-1.3277), tensor(-1.0441), tensor(-4....</td>\n      <td>1</td>\n      <td>1033</td>\n      <td>[]</td>\n      <td>-1.044066</td>\n      <td>-1.327670</td>\n      <td>0.352021</td>\n      <td>0.265094</td>\n      <td>0.086926</td>\n      <td>-1.044066</td>\n      <td>-1.327670</td>\n      <td>0.352021</td>\n      <td>0.265094</td>\n      <td>0.086926</td>\n      <td>citeseer</td>\n      <td>LocalPRBCD</td>\n      <td>0</td>\n      <td>1</td>\n    </tr>\n    <tr>\n      <th>474</th>\n      <td>Soft Median RPPRGo (T=1.0)</td>\n      <td>0.50</td>\n      <td>1</td>\n      <td>2</td>\n      <td>[[tensor(-1.3277), tensor(-1.0441), tensor(-4....</td>\n      <td>[[tensor(-1.3277), tensor(-1.0441), tensor(-4....</td>\n      <td>1</td>\n      <td>1033</td>\n      <td>[]</td>\n      <td>-1.044066</td>\n      <td>-1.327670</td>\n      <td>0.352021</td>\n      <td>0.265094</td>\n      <td>0.086926</td>\n      <td>-1.044066</td>\n      <td>-1.327670</td>\n      <td>0.352021</td>\n      <td>0.265094</td>\n      <td>0.086926</td>\n      <td>citeseer</td>\n      <td>LocalPRBCD</td>\n      <td>0</td>\n      <td>1</td>\n    </tr>\n    <tr>\n      <th>472</th>\n      <td>Soft Median RPPRGo (T=1.0)</td>\n      <td>0.75</td>\n      <td>2</td>\n      <td>3</td>\n      <td>[[tensor(-1.8802), tensor(-0.4968), tensor(-2....</td>\n      <td>[[tensor(-1.8802), tensor(-0.4968), tensor(-2....</td>\n      <td>1</td>\n      <td>60</td>\n      <td>[]</td>\n      <td>-0.496810</td>\n      <td>-1.880182</td>\n      <td>0.608469</td>\n      <td>0.152562</td>\n      <td>0.455906</td>\n      <td>-0.496810</td>\n      <td>-1.880182</td>\n      <td>0.608469</td>\n      <td>0.152562</td>\n      <td>0.455906</td>\n      <td>citeseer</td>\n      <td>LocalPRBCD</td>\n      <td>0</td>\n      <td>1</td>\n    </tr>\n    <tr>\n      <th>1439</th>\n      <td>Soft Median RPPRGo (T=0.2)</td>\n      <td>1.00</td>\n      <td>5</td>\n      <td>5</td>\n      <td>[[tensor(-1.8113), tensor(-2.1779), tensor(-1....</td>\n      <td>[[tensor(-1.8113), tensor(-2.1779), tensor(-1....</td>\n      <td>3</td>\n      <td>344</td>\n      <td>[]</td>\n      <td>-1.695105</td>\n      <td>-1.499329</td>\n      <td>0.183580</td>\n      <td>0.223280</td>\n      <td>-0.039700</td>\n      <td>-1.695105</td>\n      <td>-1.499329</td>\n      <td>0.183580</td>\n      <td>0.223280</td>\n      <td>-0.039700</td>\n      <td>citeseer</td>\n      <td>LocalPRBCD</td>\n      <td>5</td>\n      <td>1</td>\n    </tr>\n  </tbody>\n</table>\n<p>1440 rows × 23 columns</p>\n</div>"
     },
     "metadata": {},
     "execution_count": 46
    }
   ],
   "source": [
    "df_results"
   ]
  },
  {
   "cell_type": "code",
   "execution_count": null,
   "metadata": {},
   "outputs": [],
   "source": []
  },
  {
   "cell_type": "code",
   "execution_count": null,
   "metadata": {},
   "outputs": [],
   "source": []
  },
  {
   "cell_type": "code",
   "execution_count": null,
   "metadata": {},
   "outputs": [],
   "source": []
  },
  {
   "cell_type": "code",
   "execution_count": null,
   "metadata": {},
   "outputs": [],
   "source": []
  }
 ],
 "metadata": {
  "kernelspec": {
   "display_name": "Python 3",
   "language": "python",
   "name": "python3"
  },
  "language_info": {
   "codemirror_mode": {
    "name": "ipython",
    "version": 3
   },
   "file_extension": ".py",
   "mimetype": "text/x-python",
   "name": "python",
   "nbconvert_exporter": "python",
   "pygments_lexer": "ipython3",
   "version": "3.8.5-final"
  }
 },
 "nbformat": 4,
 "nbformat_minor": 4
}