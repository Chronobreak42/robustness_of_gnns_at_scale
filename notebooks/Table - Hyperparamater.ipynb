{
 "cells": [
  {
   "cell_type": "code",
   "execution_count": 1,
   "metadata": {},
   "outputs": [],
   "source": [
    "import os\n",
    "os.chdir('../')"
   ]
  },
  {
   "cell_type": "code",
   "execution_count": 2,
   "metadata": {},
   "outputs": [],
   "source": [
    "%matplotlib inline\n",
    "#%matplotlib notebook\n",
    "\n",
    "%load_ext autoreload\n",
    "%autoreload 2"
   ]
  },
  {
   "cell_type": "code",
   "execution_count": 3,
   "metadata": {},
   "outputs": [],
   "source": [
    "from copy import deepcopy\n",
    "from typing import List, Tuple\n",
    "\n",
    "from cycler import cycler\n",
    "from matplotlib import pyplot as plt\n",
    "from matplotlib.lines import Line2D\n",
    "import seaborn as sns\n",
    "import numpy as np\n",
    "import pandas as pd\n",
    "import scipy.sparse as sp\n",
    "from sklearn.decomposition import PCA\n",
    "import scipy.stats as stats\n",
    "import torch\n",
    "from torch import nn\n",
    "import torch.nn.functional as F\n",
    "import seml\n",
    "\n",
    "import tqdm\n",
    "tqdm.tqdm.pandas()\n",
    "#plt.style.use('ggplot')"
   ]
  },
  {
   "cell_type": "code",
   "execution_count": 90,
   "metadata": {},
   "outputs": [
    {
     "output_type": "display_data",
     "data": {
      "text/plain": "HBox(children=(FloatProgress(value=0.0, max=90.0), HTML(value='')))",
      "application/vnd.jupyter.widget-view+json": {
       "version_major": 2,
       "version_minor": 0,
       "model_id": "817be63f1a414375bb4db6bd318cfe5f"
      }
     },
     "metadata": {}
    },
    {
     "output_type": "stream",
     "name": "stdout",
     "text": [
      "\n"
     ]
    },
    {
     "output_type": "display_data",
     "data": {
      "text/plain": "HBox(children=(FloatProgress(value=0.0, max=90.0), HTML(value='')))",
      "application/vnd.jupyter.widget-view+json": {
       "version_major": 2,
       "version_minor": 0,
       "model_id": "2b2715c1b34248dfb6945e7695102667"
      }
     },
     "metadata": {}
    },
    {
     "output_type": "stream",
     "name": "stdout",
     "text": [
      "\n"
     ]
    }
   ],
   "source": [
    "df_experiments_1 = seml.get_results('rgnn_victims_cora',\n",
    "                                  to_data_frame=True,\n",
    "                                  fields=['batch_id', 'slurm', 'config', 'result'])"
   ]
  },
  {
   "cell_type": "code",
   "execution_count": 91,
   "metadata": {},
   "outputs": [
    {
     "output_type": "display_data",
     "data": {
      "text/plain": "HBox(children=(FloatProgress(value=0.0, max=181.0), HTML(value='')))",
      "application/vnd.jupyter.widget-view+json": {
       "version_major": 2,
       "version_minor": 0,
       "model_id": "25130198120e48c08e689bd1a7dfffdd"
      }
     },
     "metadata": {}
    },
    {
     "output_type": "stream",
     "name": "stdout",
     "text": [
      "\n"
     ]
    },
    {
     "output_type": "display_data",
     "data": {
      "text/plain": "HBox(children=(FloatProgress(value=0.0, max=181.0), HTML(value='')))",
      "application/vnd.jupyter.widget-view+json": {
       "version_major": 2,
       "version_minor": 0,
       "model_id": "7d3f88ac9c2d4a468c72e42918c58660"
      }
     },
     "metadata": {}
    },
    {
     "output_type": "stream",
     "name": "stdout",
     "text": [
      "\n"
     ]
    }
   ],
   "source": [
    "df_experiments_2 = seml.get_results('rgnn_victims_citeseer',\n",
    "                                  to_data_frame=True,\n",
    "                                  fields=['batch_id', 'slurm', 'config', 'result'])"
   ]
  },
  {
   "cell_type": "code",
   "execution_count": 99,
   "metadata": {},
   "outputs": [
    {
     "output_type": "display_data",
     "data": {
      "text/plain": "HBox(children=(FloatProgress(value=0.0, max=234.0), HTML(value='')))",
      "application/vnd.jupyter.widget-view+json": {
       "version_major": 2,
       "version_minor": 0,
       "model_id": "2d8afb3f95ce4e5594e8441b16139082"
      }
     },
     "metadata": {}
    },
    {
     "output_type": "stream",
     "name": "stdout",
     "text": [
      "\n"
     ]
    },
    {
     "output_type": "display_data",
     "data": {
      "text/plain": "HBox(children=(FloatProgress(value=0.0, max=234.0), HTML(value='')))",
      "application/vnd.jupyter.widget-view+json": {
       "version_major": 2,
       "version_minor": 0,
       "model_id": "9b093c733c424c9fa19fbf9eebfd6949"
      }
     },
     "metadata": {}
    },
    {
     "output_type": "stream",
     "name": "stdout",
     "text": [
      "\n"
     ]
    }
   ],
   "source": [
    "df_experiments_3 = seml.get_results('rgnn_rpprgo_papers100M',\n",
    "                                  to_data_frame=True,\n",
    "                                  fields=['batch_id', 'slurm', 'config', 'result'])"
   ]
  },
  {
   "cell_type": "code",
   "execution_count": 100,
   "metadata": {},
   "outputs": [],
   "source": [
    "df_experiments = df_experiments_1.append(df_experiments_2, ignore_index=True)\n",
    "df_experiments = df_experiments.append(df_experiments_3, ignore_index=True)"
   ]
  },
  {
   "cell_type": "code",
   "execution_count": 101,
   "metadata": {},
   "outputs": [
    {
     "output_type": "execute_result",
     "data": {
      "text/plain": [
       "array(['Vanilla PPRGo', 'Soft Medoid RPPRGo (T=1.0)',\n",
       "       'Soft Medoid RPPRGo (T=0.5)', 'Soft Medoid RPPRGo (T=0.2)',\n",
       "       'Soft Median RPPRGo (T=1.0)', 'Soft Median RPPRGo (T=0.5)',\n",
       "       'Soft Median RPPRGo (T=0.2)', 'Soft Medoid GDC (T=0.2)',\n",
       "       'Vanilla GCN', 'Vanilla GDC', 'Soft Medoid GDC (T=1.0)',\n",
       "       'Soft Medoid GDC (T=0.5)', 'Soft Median GDC (T=1.0)',\n",
       "       'Soft Median GDC (T=0.5)', 'Soft Median GDC (T=0.2)', 'SVD GCN',\n",
       "       'Jaccard GCN', 'RGCN', 'Soft Medoid PPRGo', 'Soft Median PPRGo',\n",
       "       'Soft Median PPRGo (T=1.0)', 'Soft Median PPRGo (T=0.5)',\n",
       "       'Soft Median PPRGo (T=0.2)', 'Soft Median PPRGo (T=5.0)',\n",
       "       'Soft Median PPRGo (T=10.0)', 'Vanilla PPRGo Diffuse Embeddings'],\n",
       "      dtype=object)"
      ]
     },
     "metadata": {},
     "execution_count": 101
    }
   ],
   "source": [
    "df_experiments[\"config.model_params.label\"].unique()"
   ]
  },
  {
   "cell_type": "code",
   "execution_count": 102,
   "metadata": {},
   "outputs": [
    {
     "output_type": "execute_result",
     "data": {
      "text/plain": [
       "array(['cora_ml', 'citeseer', 'ogbn-papers100M'], dtype=object)"
      ]
     },
     "metadata": {},
     "execution_count": 102
    }
   ],
   "source": [
    "df_experiments[\"config.dataset\"].unique()"
   ]
  },
  {
   "cell_type": "code",
   "execution_count": 103,
   "metadata": {},
   "outputs": [
    {
     "output_type": "execute_result",
     "data": {
      "text/plain": [
       "{'config.model_params.nlayers': 'Num. Layer',\n",
       " 'config.model_params.n_filters': 'Num. Filter',\n",
       " 'config.model_params.hidden_size': 'Hidden Size',\n",
       " 'config.model_params.dropout': 'Dropout',\n",
       " 'config.model_params.batch_norm': 'Batch Norm',\n",
       " 'config.model_params.gdc_params.alpha': 'GDC Alpha',\n",
       " 'config.model_params.gdc_params.k': 'GDC K',\n",
       " 'config.model_params.svd_params.rank': 'SVD Rank',\n",
       " 'config.model_params.jaccard_params.threshold': 'Jaccard Threshold',\n",
       " 'config.model_params.mean': 'Aggregation (Mean)',\n",
       " 'config.model_params.mean_kwargs.k': 'Aggregation (Mean) topk',\n",
       " 'config.model_params.mean_kwargs.temperature': 'Aggregation (Mean) temp.',\n",
       " 'config.model_params.alpha': 'PPR Alpha',\n",
       " 'config.model_params.ppr_normalization': 'PPR Norm',\n",
       " 'config.model_params.topk': 'PPR TopK',\n",
       " 'config.model_params.eps': 'PPR TopK eps'}"
      ]
     },
     "metadata": {},
     "execution_count": 103
    }
   ],
   "source": [
    "model_params = {\n",
    "    \"Num. Layer\": \"nlayers\",\n",
    "    \"Num. Filter\": \"n_filters\",\n",
    "    \"Hidden Size\": \"hidden_size\",\n",
    "    \"Dropout\": \"dropout\",\n",
    "    \"Batch Norm\": \"batch_norm\",\n",
    "    \"GDC Alpha\": \"gdc_params.alpha\",\n",
    "    \"GDC K\": \"gdc_params.k\",\n",
    "    \"SVD Rank\": \"svd_params.rank\",\n",
    "    \"Jaccard Threshold\": \"jaccard_params.threshold\",\n",
    "    \"Aggregation (Mean)\": \"mean\",\n",
    "    \"Aggregation (Mean) topk\": \"mean_kwargs.k\",\n",
    "    \"Aggregation (Mean) temp.\": \"mean_kwargs.temperature\",\n",
    "    \"PPR Alpha\": \"alpha\",\n",
    "    \"PPR Norm\": \"ppr_normalization\",\n",
    "    \"PPR TopK\": \"topk\",\n",
    "    \"PPR TopK eps\": \"eps\",\n",
    "}\n",
    "model_params = {\"config.model_params.\"+ v:k for k, v in model_params.items()}\n",
    "model_params"
   ]
  },
  {
   "cell_type": "code",
   "execution_count": 110,
   "metadata": {},
   "outputs": [
    {
     "output_type": "execute_result",
     "data": {
      "text/plain": [
       "{'config.train_params.lr': 'Learning Rate',\n",
       " 'config.train_params.weight_decay': 'Weight Decay',\n",
       " 'config.train_params.max_epochs': 'Max Epochs',\n",
       " 'config.train_params.patience': 'Patience',\n",
       " 'config.train_params.batch_size': 'Batch Size',\n",
       " 'config.train_params.use_annealing_scheduler': 'Annealing Scheduler'}"
      ]
     },
     "metadata": {},
     "execution_count": 110
    }
   ],
   "source": [
    "train_params = {\n",
    "    \"Learning Rate\": \"lr\",\n",
    "    \"Weight Decay\": \"weight_decay\",\n",
    "    \"Max Epochs\": \"max_epochs\",\n",
    "    \"Patience\": \"patience\",\n",
    "    \"Batch Size\": \"batch_size\",\n",
    "    \"Annealing Scheduler\": \"use_annealing_scheduler\",\n",
    "    #\"AS with Warm Restart\": \"scheduler_warm_restarts\",\n",
    "}\n",
    "train_params = {\"config.train_params.\"+ v:k for k, v in train_params.items()}\n",
    "train_params"
   ]
  },
  {
   "cell_type": "code",
   "execution_count": 111,
   "metadata": {},
   "outputs": [],
   "source": [
    "labels_to_plot = [\n",
    "    'Vanilla GCN',\n",
    "    'Vanilla GDC',\n",
    "    'SVD GCN',\n",
    "    'Jaccard GCN',\n",
    "    'RGCN',\n",
    "    'Soft Medoid GDC (T=0.5)',\n",
    "    #'Soft Median GDC (T=1.0)',\n",
    "    #'Soft Median GDC (T=0.5)',\n",
    "    'Soft Median GDC (T=0.2)'\n",
    "]"
   ]
  },
  {
   "cell_type": "code",
   "execution_count": 233,
   "metadata": {},
   "outputs": [],
   "source": [
    "dataset_map = {\n",
    "    'cora_ml': r'Cora ML', # '\\rotatebox{90}{Cora ML~\\citep{Bojchevski2018}}',\n",
    "    'citeseer': r'Citeseer', # ~\\citep{McCallum2000}\n",
    "    'pubmed': r'PubMed', # ~\\citep{Sen2008}\n",
    "    'ogbn-arxiv': r'arXiv', # ~\\citep{Hu2020}\n",
    "    'ogbn-products': r'Products', # ~\\citep{Hu2020},\n",
    "    'ogbn-papers100M': r'Papers 100M'\n",
    "}\n",
    "dataset_order = [dataset_map[k] for k in dataset_map.keys()]"
   ]
  },
  {
   "cell_type": "code",
   "execution_count": 234,
   "metadata": {},
   "outputs": [
    {
     "output_type": "execute_result",
     "data": {
      "text/plain": [
       "['Cora ML', 'Citeseer', 'PubMed', 'arXiv', 'Products', 'Papers 100M']"
      ]
     },
     "metadata": {},
     "execution_count": 234
    }
   ],
   "source": [
    "dataset_order"
   ]
  },
  {
   "cell_type": "code",
   "execution_count": 235,
   "metadata": {},
   "outputs": [],
   "source": [
    "groups_experiment = df_experiments.groupby([\"config.dataset\", \"config.model_params.label\"])"
   ]
  },
  {
   "cell_type": "code",
   "execution_count": 236,
   "metadata": {},
   "outputs": [],
   "source": [
    "df_hpt = pd.DataFrame(columns=[\"label\", \"dataset\", \"seeds\"] + list(train_params.keys()) + list(model_params.keys()))\n",
    "for (dataset, label), max_idx in groups_experiment.idxmax()[\"result.accuracy\"].iteritems():\n",
    "    df_hpt.loc[len(df_hpt)] = [label, dataset, []] + list(df_experiments.iloc[max_idx][list(train_params.keys()) + list(model_params.keys())])"
   ]
  },
  {
   "cell_type": "code",
   "execution_count": 246,
   "metadata": {},
   "outputs": [],
   "source": [
    "df_hpt = df_hpt.sort_values([\"label\", \"dataset\"]).fillna(\"-\")\n",
    "df_hpt[\"dataset\"] = df_hpt[\"dataset\"].replace(to_replace=dataset_map)"
   ]
  },
  {
   "cell_type": "code",
   "execution_count": 268,
   "metadata": {},
   "outputs": [
    {
     "output_type": "execute_result",
     "data": {
      "text/plain": [
       "45"
      ]
     },
     "metadata": {},
     "execution_count": 268
    }
   ],
   "source": [
    "df_hpt_orig = df_hpt.copy()\n",
    "len(df_hpt_orig)"
   ]
  },
  {
   "source": [],
   "cell_type": "markdown",
   "metadata": {}
  },
  {
   "cell_type": "code",
   "execution_count": 274,
   "metadata": {},
   "outputs": [],
   "source": [
    "# select which rows to include\n",
    "df_hpt = df_hpt_orig.iloc[:10].copy()"
   ]
  },
  {
   "cell_type": "code",
   "execution_count": null,
   "metadata": {},
   "outputs": [],
   "source": []
  },
  {
   "cell_type": "code",
   "execution_count": 275,
   "metadata": {},
   "outputs": [],
   "source": [
    "architecture_c = r\"\\textbf{Architecture}\"\n",
    "dataset_c = r'\\textbf{Dataset}'\n",
    "parameter_c = r'\\textbf{Parameter}'\n",
    "\n",
    "prefix = r\"\"\"\n",
    "\\centering\n",
    "\\label{tab:global_small}\n",
    "\\resizebox{\\textwidth}{!}{\n",
    "\\begin{tabular}{ll\"\"\" + (r\"c\" * len(df_hpt)) + r\"}\" + \"\\n\"\n",
    "\n",
    "\n",
    "suffix = r\"\"\"\n",
    "\\bottomrule\n",
    "\\end{tabular}\n",
    "}\n",
    "\n",
    "\"\"\""
   ]
  },
  {
   "cell_type": "code",
   "execution_count": 276,
   "metadata": {},
   "outputs": [],
   "source": [
    "# header\n",
    "header = r\"\\toprule\"+ \"\\n\"\n",
    "header += \" & \" + architecture_c\n",
    "for (label, count) in df_hpt.groupby([\"label\"]).count()[\"dataset\"].iteritems():\n",
    "    header += \" & \" + r'\\multicolumn{'+str(count)+r'}{c}{\\textbf{'+label+r'}}'\n",
    "    #header += label\n",
    "header+=r\"\\\\\" + \"\\n\"\n",
    "\n",
    "header += \"&\" + dataset_c\n",
    "for dataset in df_hpt[\"dataset\"]:\n",
    "    header += \"\\n\\t\"+\" & \" + r\"\\textbf{\"+dataset+r\"}\"\n",
    "header+=r\"\\\\\"+ \"\\n\"\n",
    "\n",
    "header += \" & \" + parameter_c\n",
    "header += \" & \" * len(df_hpt) + r\"\\\\\""
   ]
  },
  {
   "cell_type": "code",
   "execution_count": 279,
   "metadata": {},
   "outputs": [],
   "source": [
    "body = r\"\\midrule\"+ \"\\n\"\n",
    "list() + list(model_params.keys())\n",
    "\n",
    "body += r\"\\multirow{\"+str(len(train_params.keys()))+r\"}{*}{\\rotatebox{90}{\\textbf{Train Parameter}}}\"+ \"\\n\"\n",
    "for param_col_name in train_params.keys():\n",
    "    body += \"\\t\" + r\"& \" + train_params[param_col_name] \n",
    "    for val in df_hpt[param_col_name]:\n",
    "        if isinstance(val, bool):\n",
    "            val = \"True\" if val else False\n",
    "        body += r\"& \" + str(val)\n",
    "    body += r\"\\\\\" + \"\\n\"\n",
    "\n",
    "body += r\"\\cline{1-\"+ str(len(df_hpt) + 2) + r\"}\" + \"\\n\"\n",
    "\n",
    "body += r\"\\multirow{\"+str(len(model_params.keys()))+r\"}{*}{\\rotatebox{90}{\\textbf{Model Parameter}}}\"+ \"\\n\"\n",
    "for param_col_name in model_params.keys():\n",
    "    body += \"\\t\" + r\"& \" + model_params[param_col_name] \n",
    "    for val in df_hpt[param_col_name]:\n",
    "        if isinstance(val, bool):\n",
    "            val = \"True\" if val else False\n",
    "        body += r\"& \" + str(val)\n",
    "    body += r\"\\\\\" + \"\\n\"\n",
    "#print(body)"
   ]
  },
  {
   "cell_type": "code",
   "execution_count": 278,
   "metadata": {},
   "outputs": [
    {
     "output_type": "stream",
     "name": "stdout",
     "text": [
      "\n\\centering\n\\label{tab:global_small}\n\\resizebox{\\textwidth}{!}{\n\\begin{tabular}{llcccccccccc}\n\\toprule\n & \\textbf{Architecture} & \\multicolumn{2}{c}{\\textbf{Jaccard GCN}} & \\multicolumn{2}{c}{\\textbf{RGCN}} & \\multicolumn{2}{c}{\\textbf{SVD GCN}} & \\multicolumn{2}{c}{\\textbf{Soft Median GDC (T=0.2)}} & \\multicolumn{2}{c}{\\textbf{Soft Median GDC (T=0.5)}}\\\\\n&\\textbf{Dataset}\n\t & \\textbf{Citeseer}\n\t & \\textbf{Cora ML}\n\t & \\textbf{Citeseer}\n\t & \\textbf{Cora ML}\n\t & \\textbf{Citeseer}\n\t & \\textbf{Cora ML}\n\t & \\textbf{Citeseer}\n\t & \\textbf{Cora ML}\n\t & \\textbf{Citeseer}\n\t & \\textbf{Cora ML}\\\\\n & \\textbf{Parameter} &  &  &  &  &  &  &  &  &  & \\\\\\midrule\n\\multirow{6}{*}{\\rotatebox{90}{\\textbf{Train Parameter}}}\n\t& Learning Rate& 0.01& 0.01& 0.01& 0.01& 0.01& 0.01& 0.01& 0.01& 0.01& 0.01\\\\\n\t& Weight Decay& 0.0005& 0.0005& 0.0005& 0.0005& 0.0005& 0.0005& 0.0005& 0.0005& 0.0005& 0.0005\\\\\n\t& Max Epochs& 300& 300& 300& 300& 300& 300& 300& 300& 300& 300\\\\\n\t& Patience& 200& 200& 200& 200& 200& 200& 200& 200& 200& 200\\\\\n\t& Batch Size& -& -& -& -& -& -& -& -& -& -\\\\\n\t& Annealing Scheduler& -& -& -& -& -& -& -& -& -& -\\\\\n\\cline{1-12}\n\\multirow{16}{*}{\\rotatebox{90}{\\textbf{Model Parameter}}}\n\t& Num. Layer& -& -& -& -& -& -& -& -& -& -\\\\\n\t& Num. Filter& 64& 64& 64& 64& 64& 64& 64& 64& 64& 64\\\\\n\t& Hidden Size& -& -& -& -& -& -& -& -& -& -\\\\\n\t& Dropout& 0.5& 0.5& 0.5& 0.5& 0.5& 0.5& 0.5& 0.5& 0.5& 0.5\\\\\n\t& Batch Norm& -& 0.0& -& 0.0& -& 0.0& -& 0.0& -& 0.0\\\\\n\t& GDC Alpha& -& -& -& -& -& -& 0.15& 0.15& 0.15& 0.15\\\\\n\t& GDC K& -& -& -& -& -& -& 64.0& 64.0& 64.0& 64.0\\\\\n\t& SVD Rank& -& -& -& -& 50.0& 50.0& -& -& -& -\\\\\n\t& Jaccard Threshold& 0.01& 0.01& -& -& -& -& -& -& -& -\\\\\n\t& Aggregation (Mean)& -& -& -& -& -& -& soft_median& soft_median& soft_median& soft_median\\\\\n\t& Aggregation (Mean) topk& -& -& -& -& -& -& -& -& -& -\\\\\n\t& Aggregation (Mean) temp.& -& -& -& -& -& -& 0.2& 0.2& 0.5& 0.5\\\\\n\t& PPR Alpha& -& -& -& -& -& -& -& -& -& -\\\\\n\t& PPR Norm& -& -& -& -& -& -& -& -& -& -\\\\\n\t& PPR TopK& -& -& -& -& -& -& -& -& -& -\\\\\n\t& PPR TopK eps& -& -& -& -& -& -& -& -& -& -\\\\\n\n\\bottomrule\n\\end{tabular}\n}\n\n\n"
     ]
    }
   ],
   "source": [
    "print(prefix + header + body+ suffix)"
   ]
  },
  {
   "cell_type": "code",
   "execution_count": 263,
   "metadata": {},
   "outputs": [
    {
     "output_type": "execute_result",
     "data": {
      "text/plain": [
       "45"
      ]
     },
     "metadata": {},
     "execution_count": 263
    }
   ],
   "source": [
    "len(df_hpt)"
   ]
  },
  {
   "cell_type": "code",
   "execution_count": 258,
   "metadata": {},
   "outputs": [
    {
     "output_type": "execute_result",
     "data": {
      "text/plain": [
       "                               label      dataset seeds  \\\n",
       "0                        Jaccard GCN     Citeseer    []   \n",
       "18                       Jaccard GCN      Cora ML    []   \n",
       "1                               RGCN     Citeseer    []   \n",
       "19                              RGCN      Cora ML    []   \n",
       "2                            SVD GCN     Citeseer    []   \n",
       "20                           SVD GCN      Cora ML    []   \n",
       "3            Soft Median GDC (T=0.2)     Citeseer    []   \n",
       "21           Soft Median GDC (T=0.2)      Cora ML    []   \n",
       "4            Soft Median GDC (T=0.5)     Citeseer    []   \n",
       "22           Soft Median GDC (T=0.5)      Cora ML    []   \n",
       "5            Soft Median GDC (T=1.0)     Citeseer    []   \n",
       "23           Soft Median GDC (T=1.0)      Cora ML    []   \n",
       "36                 Soft Median PPRGo  Papers 100M    []   \n",
       "37         Soft Median PPRGo (T=0.2)  Papers 100M    []   \n",
       "38         Soft Median PPRGo (T=0.5)  Papers 100M    []   \n",
       "39         Soft Median PPRGo (T=1.0)  Papers 100M    []   \n",
       "40        Soft Median PPRGo (T=10.0)  Papers 100M    []   \n",
       "41         Soft Median PPRGo (T=5.0)  Papers 100M    []   \n",
       "6         Soft Median RPPRGo (T=0.2)     Citeseer    []   \n",
       "24        Soft Median RPPRGo (T=0.2)      Cora ML    []   \n",
       "7         Soft Median RPPRGo (T=0.5)     Citeseer    []   \n",
       "25        Soft Median RPPRGo (T=0.5)      Cora ML    []   \n",
       "8         Soft Median RPPRGo (T=1.0)     Citeseer    []   \n",
       "26        Soft Median RPPRGo (T=1.0)      Cora ML    []   \n",
       "9            Soft Medoid GDC (T=0.2)     Citeseer    []   \n",
       "27           Soft Medoid GDC (T=0.2)      Cora ML    []   \n",
       "10           Soft Medoid GDC (T=0.5)     Citeseer    []   \n",
       "28           Soft Medoid GDC (T=0.5)      Cora ML    []   \n",
       "11           Soft Medoid GDC (T=1.0)     Citeseer    []   \n",
       "29           Soft Medoid GDC (T=1.0)      Cora ML    []   \n",
       "42                 Soft Medoid PPRGo  Papers 100M    []   \n",
       "12        Soft Medoid RPPRGo (T=0.2)     Citeseer    []   \n",
       "30        Soft Medoid RPPRGo (T=0.2)      Cora ML    []   \n",
       "13        Soft Medoid RPPRGo (T=0.5)     Citeseer    []   \n",
       "31        Soft Medoid RPPRGo (T=0.5)      Cora ML    []   \n",
       "14        Soft Medoid RPPRGo (T=1.0)     Citeseer    []   \n",
       "32        Soft Medoid RPPRGo (T=1.0)      Cora ML    []   \n",
       "15                       Vanilla GCN     Citeseer    []   \n",
       "33                       Vanilla GCN      Cora ML    []   \n",
       "16                       Vanilla GDC     Citeseer    []   \n",
       "34                       Vanilla GDC      Cora ML    []   \n",
       "17                     Vanilla PPRGo     Citeseer    []   \n",
       "35                     Vanilla PPRGo      Cora ML    []   \n",
       "43                     Vanilla PPRGo  Papers 100M    []   \n",
       "44  Vanilla PPRGo Diffuse Embeddings  Papers 100M    []   \n",
       "\n",
       "    config.train_params.lr  config.train_params.weight_decay  \\\n",
       "0                    0.010                            0.0005   \n",
       "18                   0.010                            0.0005   \n",
       "1                    0.010                            0.0005   \n",
       "19                   0.010                            0.0005   \n",
       "2                    0.010                            0.0005   \n",
       "20                   0.010                            0.0005   \n",
       "3                    0.010                            0.0005   \n",
       "21                   0.010                            0.0005   \n",
       "4                    0.010                            0.0005   \n",
       "22                   0.010                            0.0005   \n",
       "5                    0.010                            0.0005   \n",
       "23                   0.010                            0.0005   \n",
       "36                   0.010                            0.0010   \n",
       "37                   0.001                            0.0000   \n",
       "38                   0.001                            0.0000   \n",
       "39                   0.005                            0.0001   \n",
       "40                   0.010                            0.0000   \n",
       "41                   0.005                            0.0001   \n",
       "6                    0.001                            0.0100   \n",
       "24                   0.010                            0.0100   \n",
       "7                    0.010                            0.0100   \n",
       "25                   0.010                            0.0100   \n",
       "8                    0.010                            0.0010   \n",
       "26                   0.001                            0.0010   \n",
       "9                    0.010                            0.0005   \n",
       "27                   0.010                            0.0005   \n",
       "10                   0.010                            0.0005   \n",
       "28                   0.010                            0.0005   \n",
       "11                   0.010                            0.0005   \n",
       "29                   0.010                            0.0005   \n",
       "42                   0.010                            0.0010   \n",
       "12                   0.001                            0.0100   \n",
       "30                   0.001                            0.0010   \n",
       "13                   0.001                            0.0100   \n",
       "31                   0.010                            0.0100   \n",
       "14                   0.001                            0.0100   \n",
       "32                   0.010                            0.0010   \n",
       "15                   0.010                            0.0005   \n",
       "33                   0.010                            0.0005   \n",
       "16                   0.010                            0.0005   \n",
       "34                   0.010                            0.0005   \n",
       "17                   0.010                            0.0100   \n",
       "35                   0.001                            0.0010   \n",
       "43                   0.001                            0.0000   \n",
       "44                   0.001                            0.0000   \n",
       "\n",
       "    config.train_params.max_epochs  config.train_params.patience  \\\n",
       "0                              300                           200   \n",
       "18                             300                           200   \n",
       "1                              300                           200   \n",
       "19                             300                           200   \n",
       "2                              300                           200   \n",
       "20                             300                           200   \n",
       "3                              300                           200   \n",
       "21                             300                           200   \n",
       "4                              300                           200   \n",
       "22                             300                           200   \n",
       "5                              300                           200   \n",
       "23                             300                           200   \n",
       "36                              30                           300   \n",
       "37                              22                           300   \n",
       "38                              22                           300   \n",
       "39                              40                           300   \n",
       "40                               5                           300   \n",
       "41                              40                           300   \n",
       "6                              300                           200   \n",
       "24                             300                           200   \n",
       "7                              300                           200   \n",
       "25                             300                           200   \n",
       "8                              300                           200   \n",
       "26                             300                           200   \n",
       "9                              300                           200   \n",
       "27                             300                           200   \n",
       "10                             300                           200   \n",
       "28                             300                           200   \n",
       "11                             300                           200   \n",
       "29                             300                           200   \n",
       "42                             200                           300   \n",
       "12                             300                           200   \n",
       "30                             300                           200   \n",
       "13                             300                           200   \n",
       "31                             300                           200   \n",
       "14                             300                           200   \n",
       "32                             300                           200   \n",
       "15                             300                           200   \n",
       "33                             300                           200   \n",
       "16                             300                           200   \n",
       "34                             300                           200   \n",
       "17                             300                           200   \n",
       "35                             300                           200   \n",
       "43                              21                           300   \n",
       "44                              30                           300   \n",
       "\n",
       "   config.train_params.batch_size config.train_params.use_annealing_scheduler  \\\n",
       "0                               -                                           -   \n",
       "18                              -                                           -   \n",
       "1                               -                                           -   \n",
       "19                              -                                           -   \n",
       "2                               -                                           -   \n",
       "20                              -                                           -   \n",
       "3                               -                                           -   \n",
       "21                              -                                           -   \n",
       "4                               -                                           -   \n",
       "22                              -                                           -   \n",
       "5                               -                                           -   \n",
       "23                              -                                           -   \n",
       "36                          16384                                           -   \n",
       "37                           3072                                           -   \n",
       "38                           3072                                           -   \n",
       "39                           4096                                           1   \n",
       "40                           8192                                           -   \n",
       "41                           4096                                           1   \n",
       "6                               -                                           -   \n",
       "24                              -                                           -   \n",
       "7                               -                                           -   \n",
       "25                              -                                           -   \n",
       "8                               -                                           -   \n",
       "26                              -                                           -   \n",
       "9                               -                                           -   \n",
       "27                              -                                           -   \n",
       "10                              -                                           -   \n",
       "28                              -                                           -   \n",
       "11                              -                                           -   \n",
       "29                              -                                           -   \n",
       "42                          10240                                           -   \n",
       "12                              -                                           -   \n",
       "30                              -                                           -   \n",
       "13                              -                                           -   \n",
       "31                              -                                           -   \n",
       "14                              -                                           -   \n",
       "32                              -                                           -   \n",
       "15                              -                                           -   \n",
       "33                              -                                           -   \n",
       "16                              -                                           -   \n",
       "34                              -                                           -   \n",
       "17                              -                                           -   \n",
       "35                              -                                           -   \n",
       "43                           3072                                           -   \n",
       "44                           8192                                           1   \n",
       "\n",
       "   config.model_params.nlayers  config.model_params.n_filters  \\\n",
       "0                            -                             64   \n",
       "18                           -                             64   \n",
       "1                            -                             64   \n",
       "19                           -                             64   \n",
       "2                            -                             64   \n",
       "20                           -                             64   \n",
       "3                            -                             64   \n",
       "21                           -                             64   \n",
       "4                            -                             64   \n",
       "22                           -                             64   \n",
       "5                            -                             64   \n",
       "23                           -                             64   \n",
       "36                           2                             64   \n",
       "37                           3                             64   \n",
       "38                           3                             64   \n",
       "39                           4                             64   \n",
       "40                           4                             64   \n",
       "41                           4                             64   \n",
       "6                            2                             64   \n",
       "24                           2                             64   \n",
       "7                            3                             64   \n",
       "25                           2                             64   \n",
       "8                            3                             64   \n",
       "26                           2                             64   \n",
       "9                            -                             64   \n",
       "27                           -                             64   \n",
       "10                           -                             64   \n",
       "28                           -                             64   \n",
       "11                           -                             64   \n",
       "29                           -                             64   \n",
       "42                           2                             64   \n",
       "12                           2                             64   \n",
       "30                           2                             64   \n",
       "13                           2                             64   \n",
       "31                           2                             64   \n",
       "14                           3                             64   \n",
       "32                           2                             64   \n",
       "15                           -                             64   \n",
       "33                           -                             64   \n",
       "16                           -                             64   \n",
       "34                           -                             64   \n",
       "17                           2                             64   \n",
       "35                           2                             64   \n",
       "43                           3                             64   \n",
       "44                           4                             64   \n",
       "\n",
       "   config.model_params.hidden_size  config.model_params.dropout  \\\n",
       "0                                -                          0.5   \n",
       "18                               -                          0.5   \n",
       "1                                -                          0.5   \n",
       "19                               -                          0.5   \n",
       "2                                -                          0.5   \n",
       "20                               -                          0.5   \n",
       "3                                -                          0.5   \n",
       "21                               -                          0.5   \n",
       "4                                -                          0.5   \n",
       "22                               -                          0.5   \n",
       "5                                -                          0.5   \n",
       "23                               -                          0.5   \n",
       "36                             128                          0.1   \n",
       "37                             256                          0.0   \n",
       "38                             256                          0.0   \n",
       "39                             512                          0.0   \n",
       "40                             320                          0.0   \n",
       "41                             512                          0.0   \n",
       "6                               64                          0.5   \n",
       "24                              64                          0.5   \n",
       "7                               64                          0.5   \n",
       "25                             128                          0.5   \n",
       "8                              128                          0.5   \n",
       "26                              64                          0.5   \n",
       "9                                -                          0.5   \n",
       "27                               -                          0.5   \n",
       "10                               -                          0.5   \n",
       "28                               -                          0.5   \n",
       "11                               -                          0.5   \n",
       "29                               -                          0.5   \n",
       "42                              64                          0.1   \n",
       "12                              64                          0.5   \n",
       "30                              64                          0.5   \n",
       "13                              64                          0.1   \n",
       "31                             128                          0.1   \n",
       "14                              64                          0.5   \n",
       "32                              64                          0.5   \n",
       "15                               -                          0.5   \n",
       "33                               -                          0.5   \n",
       "16                               -                          0.5   \n",
       "34                               -                          0.5   \n",
       "17                              64                          0.1   \n",
       "35                              64                          0.1   \n",
       "43                             256                          0.0   \n",
       "44                             320                          0.0   \n",
       "\n",
       "   config.model_params.batch_norm config.model_params.gdc_params.alpha  \\\n",
       "0                               -                                    -   \n",
       "18                              0                                    -   \n",
       "1                               -                                    -   \n",
       "19                              0                                    -   \n",
       "2                               -                                    -   \n",
       "20                              0                                    -   \n",
       "3                               -                                 0.15   \n",
       "21                              0                                 0.15   \n",
       "4                               -                                 0.15   \n",
       "22                              0                                 0.15   \n",
       "5                               -                                 0.15   \n",
       "23                              0                                 0.15   \n",
       "36                              -                                    -   \n",
       "37                              1                                    -   \n",
       "38                              1                                    -   \n",
       "39                              1                                    -   \n",
       "40                              1                                    -   \n",
       "41                              1                                    -   \n",
       "6                               1                                    -   \n",
       "24                              0                                    -   \n",
       "7                               1                                    -   \n",
       "25                              0                                    -   \n",
       "8                               1                                    -   \n",
       "26                              0                                    -   \n",
       "9                               -                                 0.15   \n",
       "27                              0                                 0.15   \n",
       "10                              -                                 0.15   \n",
       "28                              0                                 0.15   \n",
       "11                              -                                 0.15   \n",
       "29                              0                                 0.15   \n",
       "42                              -                                    -   \n",
       "12                              1                                    -   \n",
       "30                              0                                    -   \n",
       "13                              1                                    -   \n",
       "31                              0                                    -   \n",
       "14                              1                                    -   \n",
       "32                              0                                    -   \n",
       "15                              -                                    -   \n",
       "33                              0                                    -   \n",
       "16                              -                                 0.15   \n",
       "34                              0                                 0.15   \n",
       "17                              1                                    -   \n",
       "35                              0                                    -   \n",
       "43                              1                                    -   \n",
       "44                              1                                    -   \n",
       "\n",
       "   config.model_params.gdc_params.k config.model_params.svd_params.rank  \\\n",
       "0                                 -                                   -   \n",
       "18                                -                                   -   \n",
       "1                                 -                                   -   \n",
       "19                                -                                   -   \n",
       "2                                 -                                  50   \n",
       "20                                -                                  50   \n",
       "3                                64                                   -   \n",
       "21                               64                                   -   \n",
       "4                                64                                   -   \n",
       "22                               64                                   -   \n",
       "5                                64                                   -   \n",
       "23                               64                                   -   \n",
       "36                                -                                   -   \n",
       "37                                -                                   -   \n",
       "38                                -                                   -   \n",
       "39                                -                                   -   \n",
       "40                                -                                   -   \n",
       "41                                -                                   -   \n",
       "6                                 -                                   -   \n",
       "24                                -                                   -   \n",
       "7                                 -                                   -   \n",
       "25                                -                                   -   \n",
       "8                                 -                                   -   \n",
       "26                                -                                   -   \n",
       "9                                64                                   -   \n",
       "27                               64                                   -   \n",
       "10                               64                                   -   \n",
       "28                               64                                   -   \n",
       "11                               64                                   -   \n",
       "29                               64                                   -   \n",
       "42                                -                                   -   \n",
       "12                                -                                   -   \n",
       "30                                -                                   -   \n",
       "13                                -                                   -   \n",
       "31                                -                                   -   \n",
       "14                                -                                   -   \n",
       "32                                -                                   -   \n",
       "15                                -                                   -   \n",
       "33                                -                                   -   \n",
       "16                               64                                   -   \n",
       "34                               64                                   -   \n",
       "17                                -                                   -   \n",
       "35                                -                                   -   \n",
       "43                                -                                   -   \n",
       "44                                -                                   -   \n",
       "\n",
       "   config.model_params.jaccard_params.threshold config.model_params.mean  \\\n",
       "0                                          0.01                        -   \n",
       "18                                         0.01                        -   \n",
       "1                                             -                        -   \n",
       "19                                            -                        -   \n",
       "2                                             -                        -   \n",
       "20                                            -                        -   \n",
       "3                                             -              soft_median   \n",
       "21                                            -              soft_median   \n",
       "4                                             -              soft_median   \n",
       "22                                            -              soft_median   \n",
       "5                                             -              soft_median   \n",
       "23                                            -              soft_median   \n",
       "36                                            -              soft_median   \n",
       "37                                            -              soft_median   \n",
       "38                                            -              soft_median   \n",
       "39                                            -              soft_median   \n",
       "40                                            -              soft_median   \n",
       "41                                            -              soft_median   \n",
       "6                                             -              soft_median   \n",
       "24                                            -              soft_median   \n",
       "7                                             -              soft_median   \n",
       "25                                            -              soft_median   \n",
       "8                                             -              soft_median   \n",
       "26                                            -              soft_median   \n",
       "9                                             -            soft_k_medoid   \n",
       "27                                            -            soft_k_medoid   \n",
       "10                                            -            soft_k_medoid   \n",
       "28                                            -            soft_k_medoid   \n",
       "11                                            -            soft_k_medoid   \n",
       "29                                            -            soft_k_medoid   \n",
       "42                                            -              soft_median   \n",
       "12                                            -            soft_k_medoid   \n",
       "30                                            -            soft_k_medoid   \n",
       "13                                            -            soft_k_medoid   \n",
       "31                                            -            soft_k_medoid   \n",
       "14                                            -            soft_k_medoid   \n",
       "32                                            -            soft_k_medoid   \n",
       "15                                            -                        -   \n",
       "33                                            -                        -   \n",
       "16                                            -                        -   \n",
       "34                                            -                        -   \n",
       "17                                            -                        -   \n",
       "35                                            -                        -   \n",
       "43                                            -                        -   \n",
       "44                                            -                        -   \n",
       "\n",
       "   config.model_params.mean_kwargs.k  \\\n",
       "0                                  -   \n",
       "18                                 -   \n",
       "1                                  -   \n",
       "19                                 -   \n",
       "2                                  -   \n",
       "20                                 -   \n",
       "3                                  -   \n",
       "21                                 -   \n",
       "4                                  -   \n",
       "22                                 -   \n",
       "5                                  -   \n",
       "23                                 -   \n",
       "36                                 -   \n",
       "37                                 -   \n",
       "38                                 -   \n",
       "39                                 -   \n",
       "40                                 -   \n",
       "41                                 -   \n",
       "6                                  -   \n",
       "24                                 -   \n",
       "7                                  -   \n",
       "25                                 -   \n",
       "8                                  -   \n",
       "26                                 -   \n",
       "9                                 64   \n",
       "27                                64   \n",
       "10                                64   \n",
       "28                                64   \n",
       "11                                64   \n",
       "29                                64   \n",
       "42                                 -   \n",
       "12                                64   \n",
       "30                                64   \n",
       "13                                64   \n",
       "31                                64   \n",
       "14                                64   \n",
       "32                                64   \n",
       "15                                 -   \n",
       "33                                 -   \n",
       "16                                 -   \n",
       "34                                 -   \n",
       "17                                 -   \n",
       "35                                 -   \n",
       "43                                 -   \n",
       "44                                 -   \n",
       "\n",
       "   config.model_params.mean_kwargs.temperature config.model_params.alpha  \\\n",
       "0                                            -                         -   \n",
       "18                                           -                         -   \n",
       "1                                            -                         -   \n",
       "19                                           -                         -   \n",
       "2                                            -                         -   \n",
       "20                                           -                         -   \n",
       "3                                          0.2                         -   \n",
       "21                                         0.2                         -   \n",
       "4                                          0.5                         -   \n",
       "22                                         0.5                         -   \n",
       "5                                            1                         -   \n",
       "23                                           1                         -   \n",
       "36                                          50                       0.5   \n",
       "37                                         0.2                       0.1   \n",
       "38                                         0.5                       0.1   \n",
       "39                                           1                      0.25   \n",
       "40                                          10                      0.25   \n",
       "41                                           5                      0.25   \n",
       "6                                          0.2                  0.116547   \n",
       "24                                         0.2                  0.177051   \n",
       "7                                          0.5                  0.104085   \n",
       "25                                         0.5                  0.197724   \n",
       "8                                            1                  0.219912   \n",
       "26                                           1                  0.125073   \n",
       "9                                          0.2                         -   \n",
       "27                                         0.2                         -   \n",
       "10                                         0.5                         -   \n",
       "28                                         0.5                         -   \n",
       "11                                           1                         -   \n",
       "29                                           1                         -   \n",
       "42                                          50                       0.5   \n",
       "12                                         0.2                  0.215312   \n",
       "30                                         0.2                  0.152372   \n",
       "13                                         0.5                  0.215312   \n",
       "31                                         0.5                   0.15347   \n",
       "14                                           1                  0.118613   \n",
       "32                                           1                  0.051798   \n",
       "15                                           -                         -   \n",
       "33                                           -                         -   \n",
       "16                                           -                         -   \n",
       "34                                           -                         -   \n",
       "17                                           -                  0.173181   \n",
       "35                                           -                  0.098678   \n",
       "43                                           -                       0.1   \n",
       "44                                           -                      0.25   \n",
       "\n",
       "   config.model_params.ppr_normalization config.model_params.topk  \\\n",
       "0                                      -                        -   \n",
       "18                                     -                        -   \n",
       "1                                      -                        -   \n",
       "19                                     -                        -   \n",
       "2                                      -                        -   \n",
       "20                                     -                        -   \n",
       "3                                      -                        -   \n",
       "21                                     -                        -   \n",
       "4                                      -                        -   \n",
       "22                                     -                        -   \n",
       "5                                      -                        -   \n",
       "23                                     -                        -   \n",
       "36                                   row                       64   \n",
       "37                                   row                       64   \n",
       "38                                   row                       64   \n",
       "39                                   row                       64   \n",
       "40                                   row                       64   \n",
       "41                                   row                       64   \n",
       "6                                    row                       64   \n",
       "24                                   row                       64   \n",
       "7                                    row                       64   \n",
       "25                                   row                       64   \n",
       "8                                    row                       64   \n",
       "26                                   row                       64   \n",
       "9                                      -                        -   \n",
       "27                                     -                        -   \n",
       "10                                     -                        -   \n",
       "28                                     -                        -   \n",
       "11                                     -                        -   \n",
       "29                                     -                        -   \n",
       "42                                   sym                       64   \n",
       "12                                   row                       64   \n",
       "30                                   row                       64   \n",
       "13                                   row                       64   \n",
       "31                                   row                       64   \n",
       "14                                   row                       64   \n",
       "32                                   row                       64   \n",
       "15                                     -                        -   \n",
       "33                                     -                        -   \n",
       "16                                     -                        -   \n",
       "34                                     -                        -   \n",
       "17                                   row                       64   \n",
       "35                                   row                       64   \n",
       "43                                   row                       64   \n",
       "44                                   row                       64   \n",
       "\n",
       "   config.model_params.eps  \n",
       "0                        -  \n",
       "18                       -  \n",
       "1                        -  \n",
       "19                       -  \n",
       "2                        -  \n",
       "20                       -  \n",
       "3                        -  \n",
       "21                       -  \n",
       "4                        -  \n",
       "22                       -  \n",
       "5                        -  \n",
       "23                       -  \n",
       "36                    0.01  \n",
       "37                   0.001  \n",
       "38                   0.001  \n",
       "39                  0.0001  \n",
       "40                  0.0001  \n",
       "41                  0.0001  \n",
       "6                    0.001  \n",
       "24                  0.0001  \n",
       "7                    0.001  \n",
       "25                  0.0001  \n",
       "8                    0.001  \n",
       "26                   0.001  \n",
       "9                        -  \n",
       "27                       -  \n",
       "10                       -  \n",
       "28                       -  \n",
       "11                       -  \n",
       "29                       -  \n",
       "42                    0.01  \n",
       "12                   0.001  \n",
       "30                  0.0001  \n",
       "13                   0.001  \n",
       "31                   0.001  \n",
       "14                   0.001  \n",
       "32                   0.001  \n",
       "15                       -  \n",
       "33                       -  \n",
       "16                       -  \n",
       "34                       -  \n",
       "17                   0.001  \n",
       "35                   0.001  \n",
       "43                   0.001  \n",
       "44                  0.0001  "
      ],
      "text/html": "<div>\n<style scoped>\n    .dataframe tbody tr th:only-of-type {\n        vertical-align: middle;\n    }\n\n    .dataframe tbody tr th {\n        vertical-align: top;\n    }\n\n    .dataframe thead th {\n        text-align: right;\n    }\n</style>\n<table border=\"1\" class=\"dataframe\">\n  <thead>\n    <tr style=\"text-align: right;\">\n      <th></th>\n      <th>label</th>\n      <th>dataset</th>\n      <th>seeds</th>\n      <th>config.train_params.lr</th>\n      <th>config.train_params.weight_decay</th>\n      <th>config.train_params.max_epochs</th>\n      <th>config.train_params.patience</th>\n      <th>config.train_params.batch_size</th>\n      <th>config.train_params.use_annealing_scheduler</th>\n      <th>config.model_params.nlayers</th>\n      <th>config.model_params.n_filters</th>\n      <th>config.model_params.hidden_size</th>\n      <th>config.model_params.dropout</th>\n      <th>config.model_params.batch_norm</th>\n      <th>config.model_params.gdc_params.alpha</th>\n      <th>config.model_params.gdc_params.k</th>\n      <th>config.model_params.svd_params.rank</th>\n      <th>config.model_params.jaccard_params.threshold</th>\n      <th>config.model_params.mean</th>\n      <th>config.model_params.mean_kwargs.k</th>\n      <th>config.model_params.mean_kwargs.temperature</th>\n      <th>config.model_params.alpha</th>\n      <th>config.model_params.ppr_normalization</th>\n      <th>config.model_params.topk</th>\n      <th>config.model_params.eps</th>\n    </tr>\n  </thead>\n  <tbody>\n    <tr>\n      <th>0</th>\n      <td>Jaccard GCN</td>\n      <td>Citeseer</td>\n      <td>[]</td>\n      <td>0.010</td>\n      <td>0.0005</td>\n      <td>300</td>\n      <td>200</td>\n      <td>-</td>\n      <td>-</td>\n      <td>-</td>\n      <td>64</td>\n      <td>-</td>\n      <td>0.5</td>\n      <td>-</td>\n      <td>-</td>\n      <td>-</td>\n      <td>-</td>\n      <td>0.01</td>\n      <td>-</td>\n      <td>-</td>\n      <td>-</td>\n      <td>-</td>\n      <td>-</td>\n      <td>-</td>\n      <td>-</td>\n    </tr>\n    <tr>\n      <th>18</th>\n      <td>Jaccard GCN</td>\n      <td>Cora ML</td>\n      <td>[]</td>\n      <td>0.010</td>\n      <td>0.0005</td>\n      <td>300</td>\n      <td>200</td>\n      <td>-</td>\n      <td>-</td>\n      <td>-</td>\n      <td>64</td>\n      <td>-</td>\n      <td>0.5</td>\n      <td>0</td>\n      <td>-</td>\n      <td>-</td>\n      <td>-</td>\n      <td>0.01</td>\n      <td>-</td>\n      <td>-</td>\n      <td>-</td>\n      <td>-</td>\n      <td>-</td>\n      <td>-</td>\n      <td>-</td>\n    </tr>\n    <tr>\n      <th>1</th>\n      <td>RGCN</td>\n      <td>Citeseer</td>\n      <td>[]</td>\n      <td>0.010</td>\n      <td>0.0005</td>\n      <td>300</td>\n      <td>200</td>\n      <td>-</td>\n      <td>-</td>\n      <td>-</td>\n      <td>64</td>\n      <td>-</td>\n      <td>0.5</td>\n      <td>-</td>\n      <td>-</td>\n      <td>-</td>\n      <td>-</td>\n      <td>-</td>\n      <td>-</td>\n      <td>-</td>\n      <td>-</td>\n      <td>-</td>\n      <td>-</td>\n      <td>-</td>\n      <td>-</td>\n    </tr>\n    <tr>\n      <th>19</th>\n      <td>RGCN</td>\n      <td>Cora ML</td>\n      <td>[]</td>\n      <td>0.010</td>\n      <td>0.0005</td>\n      <td>300</td>\n      <td>200</td>\n      <td>-</td>\n      <td>-</td>\n      <td>-</td>\n      <td>64</td>\n      <td>-</td>\n      <td>0.5</td>\n      <td>0</td>\n      <td>-</td>\n      <td>-</td>\n      <td>-</td>\n      <td>-</td>\n      <td>-</td>\n      <td>-</td>\n      <td>-</td>\n      <td>-</td>\n      <td>-</td>\n      <td>-</td>\n      <td>-</td>\n    </tr>\n    <tr>\n      <th>2</th>\n      <td>SVD GCN</td>\n      <td>Citeseer</td>\n      <td>[]</td>\n      <td>0.010</td>\n      <td>0.0005</td>\n      <td>300</td>\n      <td>200</td>\n      <td>-</td>\n      <td>-</td>\n      <td>-</td>\n      <td>64</td>\n      <td>-</td>\n      <td>0.5</td>\n      <td>-</td>\n      <td>-</td>\n      <td>-</td>\n      <td>50</td>\n      <td>-</td>\n      <td>-</td>\n      <td>-</td>\n      <td>-</td>\n      <td>-</td>\n      <td>-</td>\n      <td>-</td>\n      <td>-</td>\n    </tr>\n    <tr>\n      <th>20</th>\n      <td>SVD GCN</td>\n      <td>Cora ML</td>\n      <td>[]</td>\n      <td>0.010</td>\n      <td>0.0005</td>\n      <td>300</td>\n      <td>200</td>\n      <td>-</td>\n      <td>-</td>\n      <td>-</td>\n      <td>64</td>\n      <td>-</td>\n      <td>0.5</td>\n      <td>0</td>\n      <td>-</td>\n      <td>-</td>\n      <td>50</td>\n      <td>-</td>\n      <td>-</td>\n      <td>-</td>\n      <td>-</td>\n      <td>-</td>\n      <td>-</td>\n      <td>-</td>\n      <td>-</td>\n    </tr>\n    <tr>\n      <th>3</th>\n      <td>Soft Median GDC (T=0.2)</td>\n      <td>Citeseer</td>\n      <td>[]</td>\n      <td>0.010</td>\n      <td>0.0005</td>\n      <td>300</td>\n      <td>200</td>\n      <td>-</td>\n      <td>-</td>\n      <td>-</td>\n      <td>64</td>\n      <td>-</td>\n      <td>0.5</td>\n      <td>-</td>\n      <td>0.15</td>\n      <td>64</td>\n      <td>-</td>\n      <td>-</td>\n      <td>soft_median</td>\n      <td>-</td>\n      <td>0.2</td>\n      <td>-</td>\n      <td>-</td>\n      <td>-</td>\n      <td>-</td>\n    </tr>\n    <tr>\n      <th>21</th>\n      <td>Soft Median GDC (T=0.2)</td>\n      <td>Cora ML</td>\n      <td>[]</td>\n      <td>0.010</td>\n      <td>0.0005</td>\n      <td>300</td>\n      <td>200</td>\n      <td>-</td>\n      <td>-</td>\n      <td>-</td>\n      <td>64</td>\n      <td>-</td>\n      <td>0.5</td>\n      <td>0</td>\n      <td>0.15</td>\n      <td>64</td>\n      <td>-</td>\n      <td>-</td>\n      <td>soft_median</td>\n      <td>-</td>\n      <td>0.2</td>\n      <td>-</td>\n      <td>-</td>\n      <td>-</td>\n      <td>-</td>\n    </tr>\n    <tr>\n      <th>4</th>\n      <td>Soft Median GDC (T=0.5)</td>\n      <td>Citeseer</td>\n      <td>[]</td>\n      <td>0.010</td>\n      <td>0.0005</td>\n      <td>300</td>\n      <td>200</td>\n      <td>-</td>\n      <td>-</td>\n      <td>-</td>\n      <td>64</td>\n      <td>-</td>\n      <td>0.5</td>\n      <td>-</td>\n      <td>0.15</td>\n      <td>64</td>\n      <td>-</td>\n      <td>-</td>\n      <td>soft_median</td>\n      <td>-</td>\n      <td>0.5</td>\n      <td>-</td>\n      <td>-</td>\n      <td>-</td>\n      <td>-</td>\n    </tr>\n    <tr>\n      <th>22</th>\n      <td>Soft Median GDC (T=0.5)</td>\n      <td>Cora ML</td>\n      <td>[]</td>\n      <td>0.010</td>\n      <td>0.0005</td>\n      <td>300</td>\n      <td>200</td>\n      <td>-</td>\n      <td>-</td>\n      <td>-</td>\n      <td>64</td>\n      <td>-</td>\n      <td>0.5</td>\n      <td>0</td>\n      <td>0.15</td>\n      <td>64</td>\n      <td>-</td>\n      <td>-</td>\n      <td>soft_median</td>\n      <td>-</td>\n      <td>0.5</td>\n      <td>-</td>\n      <td>-</td>\n      <td>-</td>\n      <td>-</td>\n    </tr>\n    <tr>\n      <th>5</th>\n      <td>Soft Median GDC (T=1.0)</td>\n      <td>Citeseer</td>\n      <td>[]</td>\n      <td>0.010</td>\n      <td>0.0005</td>\n      <td>300</td>\n      <td>200</td>\n      <td>-</td>\n      <td>-</td>\n      <td>-</td>\n      <td>64</td>\n      <td>-</td>\n      <td>0.5</td>\n      <td>-</td>\n      <td>0.15</td>\n      <td>64</td>\n      <td>-</td>\n      <td>-</td>\n      <td>soft_median</td>\n      <td>-</td>\n      <td>1</td>\n      <td>-</td>\n      <td>-</td>\n      <td>-</td>\n      <td>-</td>\n    </tr>\n    <tr>\n      <th>23</th>\n      <td>Soft Median GDC (T=1.0)</td>\n      <td>Cora ML</td>\n      <td>[]</td>\n      <td>0.010</td>\n      <td>0.0005</td>\n      <td>300</td>\n      <td>200</td>\n      <td>-</td>\n      <td>-</td>\n      <td>-</td>\n      <td>64</td>\n      <td>-</td>\n      <td>0.5</td>\n      <td>0</td>\n      <td>0.15</td>\n      <td>64</td>\n      <td>-</td>\n      <td>-</td>\n      <td>soft_median</td>\n      <td>-</td>\n      <td>1</td>\n      <td>-</td>\n      <td>-</td>\n      <td>-</td>\n      <td>-</td>\n    </tr>\n    <tr>\n      <th>36</th>\n      <td>Soft Median PPRGo</td>\n      <td>Papers 100M</td>\n      <td>[]</td>\n      <td>0.010</td>\n      <td>0.0010</td>\n      <td>30</td>\n      <td>300</td>\n      <td>16384</td>\n      <td>-</td>\n      <td>2</td>\n      <td>64</td>\n      <td>128</td>\n      <td>0.1</td>\n      <td>-</td>\n      <td>-</td>\n      <td>-</td>\n      <td>-</td>\n      <td>-</td>\n      <td>soft_median</td>\n      <td>-</td>\n      <td>50</td>\n      <td>0.5</td>\n      <td>row</td>\n      <td>64</td>\n      <td>0.01</td>\n    </tr>\n    <tr>\n      <th>37</th>\n      <td>Soft Median PPRGo (T=0.2)</td>\n      <td>Papers 100M</td>\n      <td>[]</td>\n      <td>0.001</td>\n      <td>0.0000</td>\n      <td>22</td>\n      <td>300</td>\n      <td>3072</td>\n      <td>-</td>\n      <td>3</td>\n      <td>64</td>\n      <td>256</td>\n      <td>0.0</td>\n      <td>1</td>\n      <td>-</td>\n      <td>-</td>\n      <td>-</td>\n      <td>-</td>\n      <td>soft_median</td>\n      <td>-</td>\n      <td>0.2</td>\n      <td>0.1</td>\n      <td>row</td>\n      <td>64</td>\n      <td>0.001</td>\n    </tr>\n    <tr>\n      <th>38</th>\n      <td>Soft Median PPRGo (T=0.5)</td>\n      <td>Papers 100M</td>\n      <td>[]</td>\n      <td>0.001</td>\n      <td>0.0000</td>\n      <td>22</td>\n      <td>300</td>\n      <td>3072</td>\n      <td>-</td>\n      <td>3</td>\n      <td>64</td>\n      <td>256</td>\n      <td>0.0</td>\n      <td>1</td>\n      <td>-</td>\n      <td>-</td>\n      <td>-</td>\n      <td>-</td>\n      <td>soft_median</td>\n      <td>-</td>\n      <td>0.5</td>\n      <td>0.1</td>\n      <td>row</td>\n      <td>64</td>\n      <td>0.001</td>\n    </tr>\n    <tr>\n      <th>39</th>\n      <td>Soft Median PPRGo (T=1.0)</td>\n      <td>Papers 100M</td>\n      <td>[]</td>\n      <td>0.005</td>\n      <td>0.0001</td>\n      <td>40</td>\n      <td>300</td>\n      <td>4096</td>\n      <td>1</td>\n      <td>4</td>\n      <td>64</td>\n      <td>512</td>\n      <td>0.0</td>\n      <td>1</td>\n      <td>-</td>\n      <td>-</td>\n      <td>-</td>\n      <td>-</td>\n      <td>soft_median</td>\n      <td>-</td>\n      <td>1</td>\n      <td>0.25</td>\n      <td>row</td>\n      <td>64</td>\n      <td>0.0001</td>\n    </tr>\n    <tr>\n      <th>40</th>\n      <td>Soft Median PPRGo (T=10.0)</td>\n      <td>Papers 100M</td>\n      <td>[]</td>\n      <td>0.010</td>\n      <td>0.0000</td>\n      <td>5</td>\n      <td>300</td>\n      <td>8192</td>\n      <td>-</td>\n      <td>4</td>\n      <td>64</td>\n      <td>320</td>\n      <td>0.0</td>\n      <td>1</td>\n      <td>-</td>\n      <td>-</td>\n      <td>-</td>\n      <td>-</td>\n      <td>soft_median</td>\n      <td>-</td>\n      <td>10</td>\n      <td>0.25</td>\n      <td>row</td>\n      <td>64</td>\n      <td>0.0001</td>\n    </tr>\n    <tr>\n      <th>41</th>\n      <td>Soft Median PPRGo (T=5.0)</td>\n      <td>Papers 100M</td>\n      <td>[]</td>\n      <td>0.005</td>\n      <td>0.0001</td>\n      <td>40</td>\n      <td>300</td>\n      <td>4096</td>\n      <td>1</td>\n      <td>4</td>\n      <td>64</td>\n      <td>512</td>\n      <td>0.0</td>\n      <td>1</td>\n      <td>-</td>\n      <td>-</td>\n      <td>-</td>\n      <td>-</td>\n      <td>soft_median</td>\n      <td>-</td>\n      <td>5</td>\n      <td>0.25</td>\n      <td>row</td>\n      <td>64</td>\n      <td>0.0001</td>\n    </tr>\n    <tr>\n      <th>6</th>\n      <td>Soft Median RPPRGo (T=0.2)</td>\n      <td>Citeseer</td>\n      <td>[]</td>\n      <td>0.001</td>\n      <td>0.0100</td>\n      <td>300</td>\n      <td>200</td>\n      <td>-</td>\n      <td>-</td>\n      <td>2</td>\n      <td>64</td>\n      <td>64</td>\n      <td>0.5</td>\n      <td>1</td>\n      <td>-</td>\n      <td>-</td>\n      <td>-</td>\n      <td>-</td>\n      <td>soft_median</td>\n      <td>-</td>\n      <td>0.2</td>\n      <td>0.116547</td>\n      <td>row</td>\n      <td>64</td>\n      <td>0.001</td>\n    </tr>\n    <tr>\n      <th>24</th>\n      <td>Soft Median RPPRGo (T=0.2)</td>\n      <td>Cora ML</td>\n      <td>[]</td>\n      <td>0.010</td>\n      <td>0.0100</td>\n      <td>300</td>\n      <td>200</td>\n      <td>-</td>\n      <td>-</td>\n      <td>2</td>\n      <td>64</td>\n      <td>64</td>\n      <td>0.5</td>\n      <td>0</td>\n      <td>-</td>\n      <td>-</td>\n      <td>-</td>\n      <td>-</td>\n      <td>soft_median</td>\n      <td>-</td>\n      <td>0.2</td>\n      <td>0.177051</td>\n      <td>row</td>\n      <td>64</td>\n      <td>0.0001</td>\n    </tr>\n    <tr>\n      <th>7</th>\n      <td>Soft Median RPPRGo (T=0.5)</td>\n      <td>Citeseer</td>\n      <td>[]</td>\n      <td>0.010</td>\n      <td>0.0100</td>\n      <td>300</td>\n      <td>200</td>\n      <td>-</td>\n      <td>-</td>\n      <td>3</td>\n      <td>64</td>\n      <td>64</td>\n      <td>0.5</td>\n      <td>1</td>\n      <td>-</td>\n      <td>-</td>\n      <td>-</td>\n      <td>-</td>\n      <td>soft_median</td>\n      <td>-</td>\n      <td>0.5</td>\n      <td>0.104085</td>\n      <td>row</td>\n      <td>64</td>\n      <td>0.001</td>\n    </tr>\n    <tr>\n      <th>25</th>\n      <td>Soft Median RPPRGo (T=0.5)</td>\n      <td>Cora ML</td>\n      <td>[]</td>\n      <td>0.010</td>\n      <td>0.0100</td>\n      <td>300</td>\n      <td>200</td>\n      <td>-</td>\n      <td>-</td>\n      <td>2</td>\n      <td>64</td>\n      <td>128</td>\n      <td>0.5</td>\n      <td>0</td>\n      <td>-</td>\n      <td>-</td>\n      <td>-</td>\n      <td>-</td>\n      <td>soft_median</td>\n      <td>-</td>\n      <td>0.5</td>\n      <td>0.197724</td>\n      <td>row</td>\n      <td>64</td>\n      <td>0.0001</td>\n    </tr>\n    <tr>\n      <th>8</th>\n      <td>Soft Median RPPRGo (T=1.0)</td>\n      <td>Citeseer</td>\n      <td>[]</td>\n      <td>0.010</td>\n      <td>0.0010</td>\n      <td>300</td>\n      <td>200</td>\n      <td>-</td>\n      <td>-</td>\n      <td>3</td>\n      <td>64</td>\n      <td>128</td>\n      <td>0.5</td>\n      <td>1</td>\n      <td>-</td>\n      <td>-</td>\n      <td>-</td>\n      <td>-</td>\n      <td>soft_median</td>\n      <td>-</td>\n      <td>1</td>\n      <td>0.219912</td>\n      <td>row</td>\n      <td>64</td>\n      <td>0.001</td>\n    </tr>\n    <tr>\n      <th>26</th>\n      <td>Soft Median RPPRGo (T=1.0)</td>\n      <td>Cora ML</td>\n      <td>[]</td>\n      <td>0.001</td>\n      <td>0.0010</td>\n      <td>300</td>\n      <td>200</td>\n      <td>-</td>\n      <td>-</td>\n      <td>2</td>\n      <td>64</td>\n      <td>64</td>\n      <td>0.5</td>\n      <td>0</td>\n      <td>-</td>\n      <td>-</td>\n      <td>-</td>\n      <td>-</td>\n      <td>soft_median</td>\n      <td>-</td>\n      <td>1</td>\n      <td>0.125073</td>\n      <td>row</td>\n      <td>64</td>\n      <td>0.001</td>\n    </tr>\n    <tr>\n      <th>9</th>\n      <td>Soft Medoid GDC (T=0.2)</td>\n      <td>Citeseer</td>\n      <td>[]</td>\n      <td>0.010</td>\n      <td>0.0005</td>\n      <td>300</td>\n      <td>200</td>\n      <td>-</td>\n      <td>-</td>\n      <td>-</td>\n      <td>64</td>\n      <td>-</td>\n      <td>0.5</td>\n      <td>-</td>\n      <td>0.15</td>\n      <td>64</td>\n      <td>-</td>\n      <td>-</td>\n      <td>soft_k_medoid</td>\n      <td>64</td>\n      <td>0.2</td>\n      <td>-</td>\n      <td>-</td>\n      <td>-</td>\n      <td>-</td>\n    </tr>\n    <tr>\n      <th>27</th>\n      <td>Soft Medoid GDC (T=0.2)</td>\n      <td>Cora ML</td>\n      <td>[]</td>\n      <td>0.010</td>\n      <td>0.0005</td>\n      <td>300</td>\n      <td>200</td>\n      <td>-</td>\n      <td>-</td>\n      <td>-</td>\n      <td>64</td>\n      <td>-</td>\n      <td>0.5</td>\n      <td>0</td>\n      <td>0.15</td>\n      <td>64</td>\n      <td>-</td>\n      <td>-</td>\n      <td>soft_k_medoid</td>\n      <td>64</td>\n      <td>0.2</td>\n      <td>-</td>\n      <td>-</td>\n      <td>-</td>\n      <td>-</td>\n    </tr>\n    <tr>\n      <th>10</th>\n      <td>Soft Medoid GDC (T=0.5)</td>\n      <td>Citeseer</td>\n      <td>[]</td>\n      <td>0.010</td>\n      <td>0.0005</td>\n      <td>300</td>\n      <td>200</td>\n      <td>-</td>\n      <td>-</td>\n      <td>-</td>\n      <td>64</td>\n      <td>-</td>\n      <td>0.5</td>\n      <td>-</td>\n      <td>0.15</td>\n      <td>64</td>\n      <td>-</td>\n      <td>-</td>\n      <td>soft_k_medoid</td>\n      <td>64</td>\n      <td>0.5</td>\n      <td>-</td>\n      <td>-</td>\n      <td>-</td>\n      <td>-</td>\n    </tr>\n    <tr>\n      <th>28</th>\n      <td>Soft Medoid GDC (T=0.5)</td>\n      <td>Cora ML</td>\n      <td>[]</td>\n      <td>0.010</td>\n      <td>0.0005</td>\n      <td>300</td>\n      <td>200</td>\n      <td>-</td>\n      <td>-</td>\n      <td>-</td>\n      <td>64</td>\n      <td>-</td>\n      <td>0.5</td>\n      <td>0</td>\n      <td>0.15</td>\n      <td>64</td>\n      <td>-</td>\n      <td>-</td>\n      <td>soft_k_medoid</td>\n      <td>64</td>\n      <td>0.5</td>\n      <td>-</td>\n      <td>-</td>\n      <td>-</td>\n      <td>-</td>\n    </tr>\n    <tr>\n      <th>11</th>\n      <td>Soft Medoid GDC (T=1.0)</td>\n      <td>Citeseer</td>\n      <td>[]</td>\n      <td>0.010</td>\n      <td>0.0005</td>\n      <td>300</td>\n      <td>200</td>\n      <td>-</td>\n      <td>-</td>\n      <td>-</td>\n      <td>64</td>\n      <td>-</td>\n      <td>0.5</td>\n      <td>-</td>\n      <td>0.15</td>\n      <td>64</td>\n      <td>-</td>\n      <td>-</td>\n      <td>soft_k_medoid</td>\n      <td>64</td>\n      <td>1</td>\n      <td>-</td>\n      <td>-</td>\n      <td>-</td>\n      <td>-</td>\n    </tr>\n    <tr>\n      <th>29</th>\n      <td>Soft Medoid GDC (T=1.0)</td>\n      <td>Cora ML</td>\n      <td>[]</td>\n      <td>0.010</td>\n      <td>0.0005</td>\n      <td>300</td>\n      <td>200</td>\n      <td>-</td>\n      <td>-</td>\n      <td>-</td>\n      <td>64</td>\n      <td>-</td>\n      <td>0.5</td>\n      <td>0</td>\n      <td>0.15</td>\n      <td>64</td>\n      <td>-</td>\n      <td>-</td>\n      <td>soft_k_medoid</td>\n      <td>64</td>\n      <td>1</td>\n      <td>-</td>\n      <td>-</td>\n      <td>-</td>\n      <td>-</td>\n    </tr>\n    <tr>\n      <th>42</th>\n      <td>Soft Medoid PPRGo</td>\n      <td>Papers 100M</td>\n      <td>[]</td>\n      <td>0.010</td>\n      <td>0.0010</td>\n      <td>200</td>\n      <td>300</td>\n      <td>10240</td>\n      <td>-</td>\n      <td>2</td>\n      <td>64</td>\n      <td>64</td>\n      <td>0.1</td>\n      <td>-</td>\n      <td>-</td>\n      <td>-</td>\n      <td>-</td>\n      <td>-</td>\n      <td>soft_median</td>\n      <td>-</td>\n      <td>50</td>\n      <td>0.5</td>\n      <td>sym</td>\n      <td>64</td>\n      <td>0.01</td>\n    </tr>\n    <tr>\n      <th>12</th>\n      <td>Soft Medoid RPPRGo (T=0.2)</td>\n      <td>Citeseer</td>\n      <td>[]</td>\n      <td>0.001</td>\n      <td>0.0100</td>\n      <td>300</td>\n      <td>200</td>\n      <td>-</td>\n      <td>-</td>\n      <td>2</td>\n      <td>64</td>\n      <td>64</td>\n      <td>0.5</td>\n      <td>1</td>\n      <td>-</td>\n      <td>-</td>\n      <td>-</td>\n      <td>-</td>\n      <td>soft_k_medoid</td>\n      <td>64</td>\n      <td>0.2</td>\n      <td>0.215312</td>\n      <td>row</td>\n      <td>64</td>\n      <td>0.001</td>\n    </tr>\n    <tr>\n      <th>30</th>\n      <td>Soft Medoid RPPRGo (T=0.2)</td>\n      <td>Cora ML</td>\n      <td>[]</td>\n      <td>0.001</td>\n      <td>0.0010</td>\n      <td>300</td>\n      <td>200</td>\n      <td>-</td>\n      <td>-</td>\n      <td>2</td>\n      <td>64</td>\n      <td>64</td>\n      <td>0.5</td>\n      <td>0</td>\n      <td>-</td>\n      <td>-</td>\n      <td>-</td>\n      <td>-</td>\n      <td>soft_k_medoid</td>\n      <td>64</td>\n      <td>0.2</td>\n      <td>0.152372</td>\n      <td>row</td>\n      <td>64</td>\n      <td>0.0001</td>\n    </tr>\n    <tr>\n      <th>13</th>\n      <td>Soft Medoid RPPRGo (T=0.5)</td>\n      <td>Citeseer</td>\n      <td>[]</td>\n      <td>0.001</td>\n      <td>0.0100</td>\n      <td>300</td>\n      <td>200</td>\n      <td>-</td>\n      <td>-</td>\n      <td>2</td>\n      <td>64</td>\n      <td>64</td>\n      <td>0.1</td>\n      <td>1</td>\n      <td>-</td>\n      <td>-</td>\n      <td>-</td>\n      <td>-</td>\n      <td>soft_k_medoid</td>\n      <td>64</td>\n      <td>0.5</td>\n      <td>0.215312</td>\n      <td>row</td>\n      <td>64</td>\n      <td>0.001</td>\n    </tr>\n    <tr>\n      <th>31</th>\n      <td>Soft Medoid RPPRGo (T=0.5)</td>\n      <td>Cora ML</td>\n      <td>[]</td>\n      <td>0.010</td>\n      <td>0.0100</td>\n      <td>300</td>\n      <td>200</td>\n      <td>-</td>\n      <td>-</td>\n      <td>2</td>\n      <td>64</td>\n      <td>128</td>\n      <td>0.1</td>\n      <td>0</td>\n      <td>-</td>\n      <td>-</td>\n      <td>-</td>\n      <td>-</td>\n      <td>soft_k_medoid</td>\n      <td>64</td>\n      <td>0.5</td>\n      <td>0.15347</td>\n      <td>row</td>\n      <td>64</td>\n      <td>0.001</td>\n    </tr>\n    <tr>\n      <th>14</th>\n      <td>Soft Medoid RPPRGo (T=1.0)</td>\n      <td>Citeseer</td>\n      <td>[]</td>\n      <td>0.001</td>\n      <td>0.0100</td>\n      <td>300</td>\n      <td>200</td>\n      <td>-</td>\n      <td>-</td>\n      <td>3</td>\n      <td>64</td>\n      <td>64</td>\n      <td>0.5</td>\n      <td>1</td>\n      <td>-</td>\n      <td>-</td>\n      <td>-</td>\n      <td>-</td>\n      <td>soft_k_medoid</td>\n      <td>64</td>\n      <td>1</td>\n      <td>0.118613</td>\n      <td>row</td>\n      <td>64</td>\n      <td>0.001</td>\n    </tr>\n    <tr>\n      <th>32</th>\n      <td>Soft Medoid RPPRGo (T=1.0)</td>\n      <td>Cora ML</td>\n      <td>[]</td>\n      <td>0.010</td>\n      <td>0.0010</td>\n      <td>300</td>\n      <td>200</td>\n      <td>-</td>\n      <td>-</td>\n      <td>2</td>\n      <td>64</td>\n      <td>64</td>\n      <td>0.5</td>\n      <td>0</td>\n      <td>-</td>\n      <td>-</td>\n      <td>-</td>\n      <td>-</td>\n      <td>soft_k_medoid</td>\n      <td>64</td>\n      <td>1</td>\n      <td>0.051798</td>\n      <td>row</td>\n      <td>64</td>\n      <td>0.001</td>\n    </tr>\n    <tr>\n      <th>15</th>\n      <td>Vanilla GCN</td>\n      <td>Citeseer</td>\n      <td>[]</td>\n      <td>0.010</td>\n      <td>0.0005</td>\n      <td>300</td>\n      <td>200</td>\n      <td>-</td>\n      <td>-</td>\n      <td>-</td>\n      <td>64</td>\n      <td>-</td>\n      <td>0.5</td>\n      <td>-</td>\n      <td>-</td>\n      <td>-</td>\n      <td>-</td>\n      <td>-</td>\n      <td>-</td>\n      <td>-</td>\n      <td>-</td>\n      <td>-</td>\n      <td>-</td>\n      <td>-</td>\n      <td>-</td>\n    </tr>\n    <tr>\n      <th>33</th>\n      <td>Vanilla GCN</td>\n      <td>Cora ML</td>\n      <td>[]</td>\n      <td>0.010</td>\n      <td>0.0005</td>\n      <td>300</td>\n      <td>200</td>\n      <td>-</td>\n      <td>-</td>\n      <td>-</td>\n      <td>64</td>\n      <td>-</td>\n      <td>0.5</td>\n      <td>0</td>\n      <td>-</td>\n      <td>-</td>\n      <td>-</td>\n      <td>-</td>\n      <td>-</td>\n      <td>-</td>\n      <td>-</td>\n      <td>-</td>\n      <td>-</td>\n      <td>-</td>\n      <td>-</td>\n    </tr>\n    <tr>\n      <th>16</th>\n      <td>Vanilla GDC</td>\n      <td>Citeseer</td>\n      <td>[]</td>\n      <td>0.010</td>\n      <td>0.0005</td>\n      <td>300</td>\n      <td>200</td>\n      <td>-</td>\n      <td>-</td>\n      <td>-</td>\n      <td>64</td>\n      <td>-</td>\n      <td>0.5</td>\n      <td>-</td>\n      <td>0.15</td>\n      <td>64</td>\n      <td>-</td>\n      <td>-</td>\n      <td>-</td>\n      <td>-</td>\n      <td>-</td>\n      <td>-</td>\n      <td>-</td>\n      <td>-</td>\n      <td>-</td>\n    </tr>\n    <tr>\n      <th>34</th>\n      <td>Vanilla GDC</td>\n      <td>Cora ML</td>\n      <td>[]</td>\n      <td>0.010</td>\n      <td>0.0005</td>\n      <td>300</td>\n      <td>200</td>\n      <td>-</td>\n      <td>-</td>\n      <td>-</td>\n      <td>64</td>\n      <td>-</td>\n      <td>0.5</td>\n      <td>0</td>\n      <td>0.15</td>\n      <td>64</td>\n      <td>-</td>\n      <td>-</td>\n      <td>-</td>\n      <td>-</td>\n      <td>-</td>\n      <td>-</td>\n      <td>-</td>\n      <td>-</td>\n      <td>-</td>\n    </tr>\n    <tr>\n      <th>17</th>\n      <td>Vanilla PPRGo</td>\n      <td>Citeseer</td>\n      <td>[]</td>\n      <td>0.010</td>\n      <td>0.0100</td>\n      <td>300</td>\n      <td>200</td>\n      <td>-</td>\n      <td>-</td>\n      <td>2</td>\n      <td>64</td>\n      <td>64</td>\n      <td>0.1</td>\n      <td>1</td>\n      <td>-</td>\n      <td>-</td>\n      <td>-</td>\n      <td>-</td>\n      <td>-</td>\n      <td>-</td>\n      <td>-</td>\n      <td>0.173181</td>\n      <td>row</td>\n      <td>64</td>\n      <td>0.001</td>\n    </tr>\n    <tr>\n      <th>35</th>\n      <td>Vanilla PPRGo</td>\n      <td>Cora ML</td>\n      <td>[]</td>\n      <td>0.001</td>\n      <td>0.0010</td>\n      <td>300</td>\n      <td>200</td>\n      <td>-</td>\n      <td>-</td>\n      <td>2</td>\n      <td>64</td>\n      <td>64</td>\n      <td>0.1</td>\n      <td>0</td>\n      <td>-</td>\n      <td>-</td>\n      <td>-</td>\n      <td>-</td>\n      <td>-</td>\n      <td>-</td>\n      <td>-</td>\n      <td>0.098678</td>\n      <td>row</td>\n      <td>64</td>\n      <td>0.001</td>\n    </tr>\n    <tr>\n      <th>43</th>\n      <td>Vanilla PPRGo</td>\n      <td>Papers 100M</td>\n      <td>[]</td>\n      <td>0.001</td>\n      <td>0.0000</td>\n      <td>21</td>\n      <td>300</td>\n      <td>3072</td>\n      <td>-</td>\n      <td>3</td>\n      <td>64</td>\n      <td>256</td>\n      <td>0.0</td>\n      <td>1</td>\n      <td>-</td>\n      <td>-</td>\n      <td>-</td>\n      <td>-</td>\n      <td>-</td>\n      <td>-</td>\n      <td>-</td>\n      <td>0.1</td>\n      <td>row</td>\n      <td>64</td>\n      <td>0.001</td>\n    </tr>\n    <tr>\n      <th>44</th>\n      <td>Vanilla PPRGo Diffuse Embeddings</td>\n      <td>Papers 100M</td>\n      <td>[]</td>\n      <td>0.001</td>\n      <td>0.0000</td>\n      <td>30</td>\n      <td>300</td>\n      <td>8192</td>\n      <td>1</td>\n      <td>4</td>\n      <td>64</td>\n      <td>320</td>\n      <td>0.0</td>\n      <td>1</td>\n      <td>-</td>\n      <td>-</td>\n      <td>-</td>\n      <td>-</td>\n      <td>-</td>\n      <td>-</td>\n      <td>-</td>\n      <td>0.25</td>\n      <td>row</td>\n      <td>64</td>\n      <td>0.0001</td>\n    </tr>\n  </tbody>\n</table>\n</div>"
     },
     "metadata": {},
     "execution_count": 258
    }
   ],
   "source": [
    "df_hpt"
   ]
  },
  {
   "cell_type": "code",
   "execution_count": null,
   "metadata": {},
   "outputs": [],
   "source": []
  }
 ],
 "metadata": {
  "kernelspec": {
   "display_name": "Python 3",
   "language": "python",
   "name": "python3"
  },
  "language_info": {
   "codemirror_mode": {
    "name": "ipython",
    "version": 3
   },
   "file_extension": ".py",
   "mimetype": "text/x-python",
   "name": "python",
   "nbconvert_exporter": "python",
   "pygments_lexer": "ipython3",
   "version": "3.8.5-final"
  }
 },
 "nbformat": 4,
 "nbformat_minor": 4
}