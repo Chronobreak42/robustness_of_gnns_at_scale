{
 "cells": [
  {
   "cell_type": "code",
   "execution_count": null,
   "metadata": {},
   "outputs": [],
   "source": [
    "import os\n",
    "os.chdir('../')"
   ]
  },
  {
   "cell_type": "code",
   "execution_count": null,
   "metadata": {},
   "outputs": [],
   "source": [
    "%matplotlib inline\n",
    "#%matplotlib notebook\n",
    "\n",
    "%load_ext autoreload\n",
    "%autoreload 2"
   ]
  },
  {
   "cell_type": "code",
   "execution_count": null,
   "metadata": {},
   "outputs": [],
   "source": [
    "from copy import deepcopy\n",
    "from decimal import Decimal\n",
    "from typing import List, Tuple\n",
    "from warnings import warn\n",
    "\n",
    "from cycler import cycler\n",
    "from matplotlib import pyplot as plt\n",
    "from matplotlib.lines import Line2D\n",
    "import seaborn as sns\n",
    "import numpy as np\n",
    "import pandas as pd\n",
    "import scipy.sparse as sp\n",
    "from sklearn.decomposition import PCA\n",
    "import scipy.stats as stats\n",
    "import torch\n",
    "from torch import nn\n",
    "import torch.nn.functional as F\n",
    "import seml\n",
    "from ogb.nodeproppred import PygNodePropPredDataset\n",
    "\n",
    "import tqdm\n",
    "tqdm.tqdm.pandas()"
   ]
  },
  {
   "cell_type": "code",
   "execution_count": null,
   "metadata": {},
   "outputs": [],
   "source": [
    "from notebooks import mpl_latex"
   ]
  },
  {
   "cell_type": "code",
   "execution_count": null,
   "metadata": {},
   "outputs": [],
   "source": [
    "#mpl_latex.enable_production_mode()"
   ]
  },
  {
   "cell_type": "code",
   "execution_count": null,
   "metadata": {},
   "outputs": [],
   "source": [
    "from rgnn_at_scale.data import prep_graph, split\n",
    "from rgnn_at_scale.attacks import create_attack, SPARSE_ATTACKS\n",
    "from rgnn_at_scale.io import Storage\n",
    "from rgnn_at_scale.models import DenseGCN, GCN\n",
    "from rgnn_at_scale.train import train\n",
    "from rgnn_at_scale.utils import accuracy"
   ]
  },
  {
   "cell_type": "code",
   "execution_count": null,
   "metadata": {},
   "outputs": [],
   "source": [
    "dataset = 'ogbn-arxiv'\n",
    "binary_attr = False\n",
    "attack = 'PRBCD'\n",
    "seed = 0\n",
    "device = 0\n",
    "surrogate_params = {\n",
    "    'n_filters': [256, 256],\n",
    "    'dropout': 0.5,\n",
    "    'with_batchnorm': True,\n",
    "    'train_params': {\n",
    "        'lr': 1e-2,\n",
    "        'weight_decay': 0,\n",
    "        'patience': 100,\n",
    "        'max_epochs': 3000\n",
    "    }\n",
    "}\n",
    "attack_params = {\n",
    "    'keep_heuristic': 'WeightOnly',\n",
    "    'loss_type': 'tanhCW'\n",
    "}\n",
    "search_space_sizes = [50_000_000] #[350_000, 600_000, 1_000_000, 10_000_000, 50_000_000]\n",
    "epsilon = 0.25\n",
    "display_steps = 10\n",
    "\n",
    "torch.manual_seed(seed)\n",
    "np.random.seed(seed)"
   ]
  },
  {
   "cell_type": "code",
   "execution_count": null,
   "metadata": {},
   "outputs": [],
   "source": [
    "data = prep_graph(dataset, device='cpu', binary_attr=binary_attr, return_original_split=dataset.startswith('ogbn'))\n",
    "if len(data) == 3:\n",
    "    attr, adj, labels = data\n",
    "    idx_train, idx_val, idx_test = data.split(labels.cpu().numpy())\n",
    "else:\n",
    "    attr, adj, labels, split = data\n",
    "    idx_train, idx_val, idx_test = split['train'], split['valid'], split['test']\n",
    "n_features = attr.shape[1]\n",
    "n_classes = int(labels.max() + 1)"
   ]
  },
  {
   "cell_type": "code",
   "execution_count": null,
   "metadata": {},
   "outputs": [],
   "source": [
    "gcn = GCN(n_classes=n_classes, n_features=n_features, **surrogate_params).to(device)\n",
    "train(model=gcn, attr=attr.to(device), adj=adj.to(device), labels=labels.to(device),\n",
    "      idx_train=idx_train, idx_val=idx_val, display_step=display_steps, **surrogate_params['train_params'])"
   ]
  },
  {
   "cell_type": "code",
   "execution_count": null,
   "metadata": {},
   "outputs": [],
   "source": [
    "with torch.no_grad():\n",
    "    pred_logits_surr = gcn(attr.to(device), adj.to(device))\n",
    "accuracy(pred_logits_surr, labels.to(device), idx_test)"
   ]
  },
  {
   "cell_type": "code",
   "execution_count": null,
   "metadata": {},
   "outputs": [],
   "source": [
    "results = []\n",
    "for search_space_size in search_space_sizes:\n",
    "    temp_attack_params = dict(attack_params)\n",
    "    temp_attack_params['search_space_size'] = search_space_size\n",
    "    adversary = create_attack(attack, adj=adj, attr=attr, binary_attr=False, labels=labels,\n",
    "                              model=gcn, idx_attack=idx_test, device=device, **temp_attack_params)\n",
    "\n",
    "    m = adj._nnz() / 2\n",
    "    torch.manual_seed(seed)\n",
    "    np.random.seed(seed)\n",
    "\n",
    "    n_perturbations = int(round(epsilon * m))\n",
    "    adversary.attack(n_perturbations)\n",
    "    \n",
    "    results.append(adversary.attack_statistics)"
   ]
  },
  {
   "cell_type": "code",
   "execution_count": null,
   "metadata": {},
   "outputs": [],
   "source": [
    "fig, ax = mpl_latex.newfig(width=0.30, ratio_yx=0.6)\n",
    "for result, search_space_size in zip(results, search_space_sizes):\n",
    "    plt.plot(result['loss'], label=f'{search_space_size:.1E}')\n",
    "    plt.xlabel('Epochs')\n",
    "    plt.ylabel('Loss')\n",
    "    plt.legend(title='Block size $b$')"
   ]
  },
  {
   "cell_type": "code",
   "execution_count": null,
   "metadata": {},
   "outputs": [],
   "source": [
    "fig, ax = mpl_latex.newfig(width=0.30, ratio_yx=0.6)\n",
    "for result, search_space_size in zip(results, search_space_sizes):\n",
    "    plt.plot(result['accuracy'], label=f'{search_space_size:.1E}')\n",
    "    plt.xlabel('Epochs')\n",
    "    plt.ylabel('Accuracy')\n",
    "    plt.legend(title='Block size $b$')"
   ]
  },
  {
   "cell_type": "code",
   "execution_count": null,
   "metadata": {},
   "outputs": [],
   "source": [
    "fig, ax = mpl_latex.newfig(width=0.30, ratio_yx=0.6)\n",
    "for result, search_space_size in zip(results, search_space_sizes):\n",
    "    plt.plot(result['nonzero_weights'], label=search_space_size)\n",
    "    plt.xlabel('Epochs')\n",
    "    plt.ylabel('non-zero weights')"
   ]
  },
  {
   "cell_type": "code",
   "execution_count": null,
   "metadata": {},
   "outputs": [],
   "source": [
    "list(results[0].keys())"
   ]
  },
  {
   "cell_type": "code",
   "execution_count": null,
   "metadata": {},
   "outputs": [],
   "source": []
  }
 ],
 "metadata": {
  "kernelspec": {
   "display_name": "Python 3",
   "language": "python",
   "name": "python3"
  },
  "language_info": {
   "codemirror_mode": {
    "name": "ipython",
    "version": 3
   },
   "file_extension": ".py",
   "mimetype": "text/x-python",
   "name": "python",
   "nbconvert_exporter": "python",
   "pygments_lexer": "ipython3",
   "version": "3.8.6"
  }
 },
 "nbformat": 4,
 "nbformat_minor": 4
}
