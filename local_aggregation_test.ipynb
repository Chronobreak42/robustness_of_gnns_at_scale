{
 "cells": [
  {
   "cell_type": "code",
   "execution_count": 1,
   "metadata": {},
   "outputs": [
    {
     "output_type": "stream",
     "name": "stderr",
     "text": [
      "WARNING:root:The OGB package is out of date. Your version is 1.2.3, while the latest version is 1.2.4.\n"
     ]
    }
   ],
   "source": [
    "import torch\n",
    "import torch_sparse\n",
    "import numpy as np\n",
    "from rgnn_at_scale.aggregation import (_sparse_top_k, soft_weighted_medoid, soft_weighted_medoid_k_neighborhood,\n",
    "                                       weighted_dimwise_median, weighted_medoid, weighted_medoid_k_neighborhood)\n",
    "from rgnn_at_scale.data import prep_graph"
   ]
  },
  {
   "cell_type": "code",
   "execution_count": 2,
   "metadata": {},
   "outputs": [],
   "source": [
    "%load_ext autoreload\n",
    "%autoreload 2"
   ]
  },
  {
   "cell_type": "code",
   "execution_count": 3,
   "metadata": {},
   "outputs": [
    {
     "output_type": "execute_result",
     "data": {
      "text/plain": [
       "'cpu'"
      ]
     },
     "metadata": {},
     "execution_count": 3
    }
   ],
   "source": [
    "device = 0 if torch.cuda.is_available() else 'cpu'\n",
    "temperature = 1e-3\n",
    "device"
   ]
  },
  {
   "cell_type": "code",
   "execution_count": 4,
   "metadata": {},
   "outputs": [],
   "source": [
    "A = torch.tensor([[0.5, 0.3, 0, 0.4],\n",
    "                  [0.3, 0.2, 0, 0],\n",
    "                  [0, 0, 0.9, 0.3],\n",
    "                  [0.4, 0, 0.4, 0.4]],\n",
    "                 requires_grad=True,\n",
    "                 dtype=torch.float32).to(device)\n",
    "x = torch.tensor([[-10, 10, 10],\n",
    "                  [-1, 1, 1],\n",
    "                  [0, 0, 0],\n",
    "                  [10, -10, -10]],\n",
    "                 requires_grad=True,\n",
    "                 dtype=torch.float32).to(device)\n",
    "\n",
    "A_sparse_tensor = torch_sparse.SparseTensor.from_dense(A).to(device)\n"
   ]
  },
  {
   "cell_type": "code",
   "execution_count": 6,
   "metadata": {},
   "outputs": [
    {
     "output_type": "execute_result",
     "data": {
      "text/plain": [
       "tensor([[-12.,  12.,  12.],\n",
       "        [ -5.,   5.,   5.],\n",
       "        [  0.,   0.,   0.],\n",
       "        [ -6.,   6.,   6.]], grad_fn=<MulBackward0>)"
      ]
     },
     "metadata": {},
     "execution_count": 6
    }
   ],
   "source": [
    "medoids = soft_weighted_medoid_k_neighborhood(A_sparse_tensor,\n",
    "                                                      x,\n",
    "                                                      k=2,\n",
    "                                                      temperature=temperature,\n",
    "                                                      threshold_for_dense_if_cpu=0)\n",
    "medoids"
   ]
  },
  {
   "cell_type": "code",
   "execution_count": 8,
   "metadata": {},
   "outputs": [
    {
     "output_type": "execute_result",
     "data": {
      "text/plain": [
       "(SparseTensor(row=tensor([   0,    0,    0,  ..., 2808, 2809, 2809]),\n",
       "              col=tensor([   0, 1579, 1581,  ..., 2808, 1399, 2809]),\n",
       "              val=tensor([1., 1., 1.,  ..., 1., 1., 1.]),\n",
       "              size=(2810, 2810), nnz=18772, density=0.24%),\n",
       " tensor([[0., 0., 0.,  ..., 0., 0., 0.],\n",
       "         [0., 0., 0.,  ..., 0., 0., 0.],\n",
       "         [0., 0., 0.,  ..., 0., 0., 0.],\n",
       "         ...,\n",
       "         [0., 0., 0.,  ..., 0., 0., 0.],\n",
       "         [0., 0., 0.,  ..., 0., 0., 0.],\n",
       "         [0., 0., 0.,  ..., 0., 0., 0.]]))"
      ]
     },
     "metadata": {},
     "execution_count": 8
    }
   ],
   "source": [
    "graph = prep_graph(\"cora_ml\", device)\n",
    "attr, adj, labels = graph[:3]\n",
    "A_sparse_tensor = torch_sparse.SparseTensor.from_torch_sparse_coo_tensor(adj).to(device)\n",
    "x = attr\n",
    "A_sparse_tensor, x"
   ]
  },
  {
   "cell_type": "code",
   "execution_count": 9,
   "metadata": {},
   "outputs": [],
   "source": [
    " medoids = soft_weighted_medoid_k_neighborhood(A_sparse_tensor,\n",
    "            x,\n",
    "            k=2,\n",
    "            temperature=temperature,\n",
    "            threshold_for_dense_if_cpu=0)"
   ]
  },
  {
   "cell_type": "code",
   "execution_count": 10,
   "metadata": {},
   "outputs": [
    {
     "output_type": "execute_result",
     "data": {
      "text/plain": [
       "tensor([[0.0000, 0.0000, 0.0000,  ..., 0.0000, 0.0000, 0.0000],\n",
       "        [0.0000, 0.0000, 0.0000,  ..., 0.0000, 0.0000, 0.0000],\n",
       "        [0.0000, 0.0000, 0.0000,  ..., 0.0000, 0.0000, 0.0000],\n",
       "        ...,\n",
       "        [0.0000, 0.0000, 0.0000,  ..., 0.0000, 0.0000, 0.0000],\n",
       "        [0.0000, 0.0000, 0.0000,  ..., 0.0000, 0.0000, 0.1140],\n",
       "        [0.0000, 0.0000, 0.0000,  ..., 0.0000, 0.0000, 0.0000]])"
      ]
     },
     "metadata": {},
     "execution_count": 10
    }
   ],
   "source": [
    "medoids"
   ]
  },
  {
   "cell_type": "code",
   "execution_count": 12,
   "metadata": {},
   "outputs": [
    {
     "output_type": "execute_result",
     "data": {
      "text/plain": [
       "(SparseTensor(row=tensor([   0,    0,    0,  ..., 2993, 2993, 2993]),\n",
       "              col=tensor([1636, 1638, 2357,  ...,  200,  745, 1865]),\n",
       "              val=tensor([1., 1., 1.,  ..., 1., 1., 1.]),\n",
       "              size=(2995, 2995), nnz=8416, density=0.09%),\n",
       " tensor([[0., 0., 0.,  ..., 0., 0., 0.],\n",
       "         [0., 0., 0.,  ..., 0., 0., 0.],\n",
       "         [0., 0., 0.,  ..., 0., 0., 0.],\n",
       "         ...,\n",
       "         [0., 0., 0.,  ..., 0., 0., 0.],\n",
       "         [0., 0., 0.,  ..., 0., 0., 0.],\n",
       "         [0., 0., 0.,  ..., 0., 0., 0.]]))"
      ]
     },
     "metadata": {},
     "execution_count": 12
    }
   ],
   "source": [
    "A_sparse_tensor = torch_sparse.SparseTensor.from_dense(torch.load(\"datasets/test_adj_matrix.pt\"))\n",
    "#x = torch_sparse.SparseTensor.from_dense(torch.load(\"datasets/test_attr_matrix.pt\"))\n",
    "x = torch.load(\"datasets/test_attr_matrix.pt\")\n",
    "A_sparse_tensor, x"
   ]
  },
  {
   "cell_type": "code",
   "execution_count": 19,
   "metadata": {},
   "outputs": [
    {
     "output_type": "execute_result",
     "data": {
      "text/plain": [
       "349"
      ]
     },
     "metadata": {},
     "execution_count": 19
    }
   ],
   "source": [
    "# number of nodes with no outgoing edges \n",
    "A_sparse_tensor.size(0) - A_sparse_tensor.sum(-1).nonzero().size(0)"
   ]
  },
  {
   "cell_type": "code",
   "execution_count": 20,
   "metadata": {},
   "outputs": [],
   "source": [
    "medoids = soft_weighted_medoid_k_neighborhood(A_sparse_tensor,\n",
    "            x,\n",
    "            k=2,\n",
    "            temperature=temperature,\n",
    "            threshold_for_dense_if_cpu=0)"
   ]
  },
  {
   "cell_type": "code",
   "execution_count": 21,
   "metadata": {},
   "outputs": [
    {
     "output_type": "execute_result",
     "data": {
      "text/plain": [
       "tensor([[0.0000, 0.0000, 0.0000,  ..., 0.0000, 0.0000, 0.0000],\n",
       "        [0.0000, 0.0000, 0.0000,  ..., 0.0000, 0.0000, 0.0000],\n",
       "        [0.0000, 0.0000, 0.0000,  ..., 0.0000, 0.0000, 0.0000],\n",
       "        ...,\n",
       "        [0.0000, 0.0000, 0.0000,  ..., 0.0000, 0.0000, 0.0000],\n",
       "        [0.0000, 0.0000, 0.0000,  ..., 0.0000, 0.0000, 0.0855],\n",
       "        [0.0000, 0.0000, 0.0000,  ..., 0.0000, 0.0000, 0.0000]])"
      ]
     },
     "metadata": {},
     "execution_count": 21
    }
   ],
   "source": [
    "medoids"
   ]
  },
  {
   "cell_type": "code",
   "execution_count": 23,
   "metadata": {},
   "outputs": [
    {
     "output_type": "execute_result",
     "data": {
      "text/plain": [
       "349"
      ]
     },
     "metadata": {},
     "execution_count": 23
    }
   ],
   "source": [
    "# this should have the same number of nonzeros\n",
    "# or at least more of them, but it mustn't have less\n",
    "medoids.size(0) - medoids.sum(-1).nonzero().size(0)"
   ]
  },
  {
   "cell_type": "code",
   "execution_count": 24,
   "metadata": {},
   "outputs": [],
   "source": [
    "# now lets see if it works with a batched adj matrix\n",
    "A_sparse_tensor = A_sparse_tensor[:512]"
   ]
  },
  {
   "cell_type": "code",
   "execution_count": 26,
   "metadata": {},
   "outputs": [
    {
     "output_type": "execute_result",
     "data": {
      "text/plain": [
       "33"
      ]
     },
     "metadata": {},
     "execution_count": 26
    }
   ],
   "source": [
    "# calc number of nodes with no outgoing edges again\n",
    "A_sparse_tensor.size(0) - A_sparse_tensor.sum(-1).nonzero().size(0)"
   ]
  },
  {
   "cell_type": "code",
   "execution_count": 30,
   "metadata": {},
   "outputs": [],
   "source": [
    "medoids = soft_weighted_medoid_k_neighborhood(A_sparse_tensor,\n",
    "            x,\n",
    "            k=2,\n",
    "            temperature=temperature,\n",
    "            threshold_for_dense_if_cpu=0)"
   ]
  },
  {
   "cell_type": "code",
   "execution_count": 31,
   "metadata": {},
   "outputs": [
    {
     "output_type": "execute_result",
     "data": {
      "text/plain": [
       "tensor([[0., 0., 0.,  ..., 0., 0., 0.],\n",
       "        [0., 0., 0.,  ..., 0., 0., 0.],\n",
       "        [0., 0., 0.,  ..., 0., 0., 0.],\n",
       "        ...,\n",
       "        [0., 0., 0.,  ..., 0., 0., 0.],\n",
       "        [0., 0., 0.,  ..., 0., 0., 0.],\n",
       "        [0., 0., 0.,  ..., 0., 0., 0.]])"
      ]
     },
     "metadata": {},
     "execution_count": 31
    }
   ],
   "source": [
    "medoids"
   ]
  },
  {
   "cell_type": "code",
   "execution_count": 32,
   "metadata": {},
   "outputs": [
    {
     "output_type": "execute_result",
     "data": {
      "text/plain": [
       "33"
      ]
     },
     "metadata": {},
     "execution_count": 32
    }
   ],
   "source": [
    "# check num zeros again\n",
    "medoids.size(0) - medoids.sum(-1).nonzero().size(0)"
   ]
  },
  {
   "cell_type": "code",
   "execution_count": null,
   "metadata": {},
   "outputs": [],
   "source": []
  }
 ],
 "metadata": {
  "kernelspec": {
   "display_name": "Python 3",
   "language": "python",
   "name": "python3"
  },
  "language_info": {
   "codemirror_mode": {
    "name": "ipython",
    "version": 3
   },
   "file_extension": ".py",
   "mimetype": "text/x-python",
   "name": "python",
   "nbconvert_exporter": "python",
   "pygments_lexer": "ipython3",
   "version": "3.8.5-final"
  }
 },
 "nbformat": 4,
 "nbformat_minor": 4
}