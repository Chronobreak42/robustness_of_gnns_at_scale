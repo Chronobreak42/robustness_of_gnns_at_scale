{
 "cells": [
  {
   "cell_type": "code",
   "execution_count": 13,
   "metadata": {},
   "outputs": [],
   "source": [
    "import torch\n",
    "import torch_sparse\n",
    "import numpy as np\n",
    "from rgnn_at_scale.aggregation import (_sparse_top_k, soft_weighted_medoid, soft_weighted_medoid_k_neighborhood,\n",
    "                                       weighted_dimwise_median, weighted_medoid, weighted_medoid_k_neighborhood)\n",
    "from rgnn_at_scale.data import prep_graph"
   ]
  },
  {
   "cell_type": "code",
   "execution_count": 2,
   "metadata": {},
   "outputs": [],
   "source": [
    "%load_ext autoreload\n",
    "%autoreload 2"
   ]
  },
  {
   "cell_type": "code",
   "execution_count": 3,
   "metadata": {},
   "outputs": [
    {
     "data": {
      "text/plain": [
       "0"
      ]
     },
     "execution_count": 3,
     "metadata": {},
     "output_type": "execute_result"
    }
   ],
   "source": [
    "device = 0 if torch.cuda.is_available() else 'cpu'\n",
    "temperature = 1e-3\n",
    "device"
   ]
  },
  {
   "cell_type": "code",
   "execution_count": 4,
   "metadata": {},
   "outputs": [
    {
     "name": "stderr",
     "output_type": "stream",
     "text": [
      "/nfs/homedirs/schmidtt/miniconda3/lib/python3.8/site-packages/torch_sparse/tensor.py:46: UserWarning: This overload of nonzero is deprecated:\n",
      "\tnonzero()\n",
      "Consider using one of the following signatures instead:\n",
      "\tnonzero(*, bool as_tuple) (Triggered internally at  /opt/conda/conda-bld/pytorch_1595629395347/work/torch/csrc/utils/python_arg_parser.cpp:766.)\n",
      "  index = mat.nonzero()\n"
     ]
    }
   ],
   "source": [
    "A = torch.tensor([[0.5, 0.3, 0, 0.4], [0.3, 0.2, 0, 0], [0, 0, 0.9, 0.3],\n",
    "                          [0.4, 0, 0.4, 0.4]], dtype=torch.float32).to(device)\n",
    "x = torch.tensor([[-10, 10, 10], [-1, 1, 1], [0, 0, 0], [10, -10, -10]], dtype=torch.float32).to(device)\n",
    "\n",
    "A_sparse_tensor = torch_sparse.SparseTensor.from_dense(A).to(device)\n"
   ]
  },
  {
   "cell_type": "code",
   "execution_count": 10,
   "metadata": {},
   "outputs": [
    {
     "data": {
      "text/plain": [
       "(SparseTensor(row=tensor([   0,    0,    0,  ..., 2993, 2993, 2993]),\n",
       "              col=tensor([1636, 1638, 2357,  ...,  200,  745, 1865]),\n",
       "              val=tensor([1., 1., 1.,  ..., 1., 1., 1.]),\n",
       "              size=(2995, 2995), nnz=8416, density=0.09%),\n",
       " tensor([[0., 0., 0.,  ..., 0., 0., 0.],\n",
       "         [0., 0., 0.,  ..., 0., 0., 0.],\n",
       "         [0., 0., 0.,  ..., 0., 0., 0.],\n",
       "         ...,\n",
       "         [0., 0., 0.,  ..., 0., 0., 0.],\n",
       "         [0., 0., 0.,  ..., 0., 0., 0.],\n",
       "         [0., 0., 0.,  ..., 0., 0., 0.]]))"
      ]
     },
     "execution_count": 10,
     "metadata": {},
     "output_type": "execute_result"
    }
   ],
   "source": [
    "A_sparse_tensor = torch_sparse.SparseTensor.from_dense(torch.load(\"datasets/test_adj_matrix.pt\"))\n",
    "#x = torch_sparse.SparseTensor.from_dense(torch.load(\"datasets/test_attr_matrix.pt\"))\n",
    "x = torch.load(\"datasets/test_attr_matrix.pt\")\n",
    "A_sparse_tensor, x"
   ]
  },
  {
   "cell_type": "code",
   "execution_count": 20,
   "metadata": {},
   "outputs": [
    {
     "data": {
      "text/plain": [
       "(SparseTensor(row=tensor([   0,    0,    0,  ..., 2808, 2809, 2809], device='cuda:0'),\n",
       "              col=tensor([   0, 1579, 1581,  ..., 2808, 1399, 2809], device='cuda:0'),\n",
       "              val=tensor([1., 1., 1.,  ..., 1., 1., 1.], device='cuda:0'),\n",
       "              size=(2810, 2810), nnz=18772, density=0.24%),\n",
       " tensor([[0., 0., 0.,  ..., 0., 0., 0.],\n",
       "         [0., 0., 0.,  ..., 0., 0., 0.],\n",
       "         [0., 0., 0.,  ..., 0., 0., 0.],\n",
       "         ...,\n",
       "         [0., 0., 0.,  ..., 0., 0., 0.],\n",
       "         [0., 0., 0.,  ..., 0., 0., 0.],\n",
       "         [0., 0., 0.,  ..., 0., 0., 0.]], device='cuda:0'))"
      ]
     },
     "execution_count": 20,
     "metadata": {},
     "output_type": "execute_result"
    }
   ],
   "source": [
    "graph = prep_graph(\"cora_ml\", device)\n",
    "attr, adj, labels = graph[:3]\n",
    "A_sparse_tensor = torch_sparse.SparseTensor.from_torch_sparse_coo_tensor(adj).to(device)\n",
    "x = attr\n",
    "A_sparse_tensor, x"
   ]
  },
  {
   "cell_type": "code",
   "execution_count": 21,
   "metadata": {},
   "outputs": [
    {
     "name": "stdout",
     "output_type": "stream",
     "text": [
      "_sparse_top_k\n",
      "is cuda\n",
      "tensor([[   0, 1579],\n",
      "        [   1,    2],\n",
      "        [   1,    2],\n",
      "        ...,\n",
      "        [ 639, 2216],\n",
      "        [ 198,  730],\n",
      "        [1399, 2809]], device='cuda:0')\n",
      "torch.Size([2810, 2])\n",
      "tensor(2809, device='cuda:0')\n"
     ]
    }
   ],
   "source": [
    " medoids = soft_weighted_medoid_k_neighborhood(A_sparse_tensor,\n",
    "                                                      x,\n",
    "                                                      k=2,\n",
    "                                                      temperature=temperature,\n",
    "                                                      threshold_for_dense_if_cpu=0)"
   ]
  },
  {
   "cell_type": "code",
   "execution_count": 9,
   "metadata": {},
   "outputs": [
    {
     "name": "stdout",
     "output_type": "stream",
     "text": [
      "_sparse_top_k\n",
      "is cuda\n",
      "tensor([[1., 1.],\n",
      "        [1., 1.],\n",
      "        [1., 1.],\n",
      "        ...,\n",
      "        [1., 1.],\n",
      "        [1., 1.],\n",
      "        [0., 0.]], device='cuda:0')\n",
      "tensor([[1636, 1638],\n",
      "        [1224, 1955],\n",
      "        [   1, 1076],\n",
      "        ...,\n",
      "        [ 653, 2332],\n",
      "        [ 200,  745],\n",
      "        [  -1,   -1]], device='cuda:0')\n",
      "tensor(2988, device='cuda:0')\n"
     ]
    },
    {
     "ename": "RuntimeError",
     "evalue": "The size of tensor a (2994) must match the size of tensor b (2995) at non-singleton dimension 0",
     "output_type": "error",
     "traceback": [
      "\u001b[0;31m---------------------------------------------------------------------------\u001b[0m",
      "\u001b[0;31mRuntimeError\u001b[0m                              Traceback (most recent call last)",
      "\u001b[0;32m<ipython-input-9-e854af82390d>\u001b[0m in \u001b[0;36m<module>\u001b[0;34m\u001b[0m\n\u001b[0;32m----> 1\u001b[0;31m medoids = soft_weighted_medoid_k_neighborhood(A_sparse_tensor,\n\u001b[0m\u001b[1;32m      2\u001b[0m                                                      \u001b[0mx\u001b[0m\u001b[0;34m,\u001b[0m\u001b[0;34m\u001b[0m\u001b[0;34m\u001b[0m\u001b[0m\n\u001b[1;32m      3\u001b[0m                                                      \u001b[0mk\u001b[0m\u001b[0;34m=\u001b[0m\u001b[0;36m2\u001b[0m\u001b[0;34m,\u001b[0m\u001b[0;34m\u001b[0m\u001b[0;34m\u001b[0m\u001b[0m\n\u001b[1;32m      4\u001b[0m                                                      \u001b[0mtemperature\u001b[0m\u001b[0;34m=\u001b[0m\u001b[0mtemperature\u001b[0m\u001b[0;34m,\u001b[0m\u001b[0;34m\u001b[0m\u001b[0;34m\u001b[0m\u001b[0m\n\u001b[1;32m      5\u001b[0m                                                      threshold_for_dense_if_cpu=0)\n",
      "\u001b[0;32m~/git/robust-gnns-at-scale/rgnn_at_scale/aggregation.py\u001b[0m in \u001b[0;36msoft_weighted_medoid_k_neighborhood\u001b[0;34m(A, x, k, temperature, with_weight_correction, threshold_for_dense_if_cpu, **kwargs)\u001b[0m\n\u001b[1;32m    314\u001b[0m     \u001b[0;31m# Normalization and calculation of new embeddings\u001b[0m\u001b[0;34m\u001b[0m\u001b[0;34m\u001b[0m\u001b[0;34m\u001b[0m\u001b[0m\n\u001b[1;32m    315\u001b[0m     \u001b[0ma_row_sum\u001b[0m \u001b[0;34m=\u001b[0m \u001b[0mtorch_scatter\u001b[0m\u001b[0;34m.\u001b[0m\u001b[0mscatter_sum\u001b[0m\u001b[0;34m(\u001b[0m\u001b[0mA_values\u001b[0m\u001b[0;34m,\u001b[0m \u001b[0mA_rows\u001b[0m\u001b[0;34m,\u001b[0m \u001b[0mdim\u001b[0m\u001b[0;34m=\u001b[0m\u001b[0;34m-\u001b[0m\u001b[0;36m1\u001b[0m\u001b[0;34m)\u001b[0m\u001b[0;34m\u001b[0m\u001b[0;34m\u001b[0m\u001b[0m\n\u001b[0;32m--> 316\u001b[0;31m     \u001b[0mnew_embeddings\u001b[0m \u001b[0;34m=\u001b[0m \u001b[0ma_row_sum\u001b[0m\u001b[0;34m.\u001b[0m\u001b[0mview\u001b[0m\u001b[0;34m(\u001b[0m\u001b[0;34m-\u001b[0m\u001b[0;36m1\u001b[0m\u001b[0;34m,\u001b[0m \u001b[0;36m1\u001b[0m\u001b[0;34m)\u001b[0m \u001b[0;34m*\u001b[0m \u001b[0mtorch_sparse\u001b[0m\u001b[0;34m.\u001b[0m\u001b[0mspmm\u001b[0m\u001b[0;34m(\u001b[0m\u001b[0mreliable_adj_index\u001b[0m\u001b[0;34m,\u001b[0m \u001b[0mreliable_adj_values\u001b[0m\u001b[0;34m,\u001b[0m \u001b[0mn\u001b[0m\u001b[0;34m,\u001b[0m \u001b[0mn\u001b[0m\u001b[0;34m,\u001b[0m \u001b[0mx\u001b[0m\u001b[0;34m)\u001b[0m\u001b[0;34m\u001b[0m\u001b[0;34m\u001b[0m\u001b[0m\n\u001b[0m\u001b[1;32m    317\u001b[0m     \u001b[0;32mreturn\u001b[0m \u001b[0mnew_embeddings\u001b[0m\u001b[0;34m\u001b[0m\u001b[0;34m\u001b[0m\u001b[0m\n\u001b[1;32m    318\u001b[0m \u001b[0;34m\u001b[0m\u001b[0m\n",
      "\u001b[0;31mRuntimeError\u001b[0m: The size of tensor a (2994) must match the size of tensor b (2995) at non-singleton dimension 0"
     ]
    }
   ],
   "source": [
    " medoids = soft_weighted_medoid_k_neighborhood(A_sparse_tensor,\n",
    "                                                      x,\n",
    "                                                      k=2,\n",
    "                                                      temperature=temperature,\n",
    "                                                      threshold_for_dense_if_cpu=0)"
   ]
  },
  {
   "cell_type": "code",
   "execution_count": null,
   "metadata": {},
   "outputs": [],
   "source": [
    "medoids"
   ]
  },
  {
   "cell_type": "code",
   "execution_count": 8,
   "metadata": {},
   "outputs": [],
   "source": [
    "row_sum = A.sum(-1)\n",
    "layer_idx = 0\n",
    "assert torch.all(medoids[layer_idx] == row_sum[layer_idx] * x[0])\n",
    "\n",
    "layer_idx = 1\n",
    "assert torch.all(medoids[layer_idx] == row_sum[layer_idx] * x[0])\n",
    "\n",
    "layer_idx = 2\n",
    "assert torch.all(medoids[layer_idx] == row_sum[layer_idx] * x[2])\n",
    "\n",
    "layer_idx = 3\n",
    "assert (torch.all(medoids[layer_idx] == row_sum[layer_idx] * (x[0] + x[2]) / 2)\n",
    "        or torch.all(medoids[layer_idx] == row_sum[layer_idx] * (x[0] + x[3]) / 2)\n",
    "        or torch.all(medoids[layer_idx] == row_sum[layer_idx] * (x[2] + x[3]) / 2))"
   ]
  },
  {
   "cell_type": "markdown",
   "metadata": {},
   "source": [
    "For debugging _sparse_top_k:"
   ]
  },
  {
   "cell_type": "code",
   "execution_count": 13,
   "metadata": {},
   "outputs": [],
   "source": [
    "unroll_idx = np.array([0, 1, 0, 1, 0, 1, 0, 1])\n",
    "new_idx = torch.tensor([[0, 0, 1, 1, 2, 2, 3, 3],\n",
    "                        [0, 3, 0, 1, 2, 3, 0, 2]])\n",
    "value_idx = torch.tensor([0, 2, 3, 4, 5, 6, 7, 8])\n",
    "values = torch.tensor([[0., 0.],\n",
    "        [0., 0.],\n",
    "        [0., 0.],\n",
    "        [0., 0.]])"
   ]
  },
  {
   "cell_type": "code",
   "execution_count": null,
   "metadata": {},
   "outputs": [],
   "source": []
  },
  {
   "cell_type": "code",
   "execution_count": null,
   "metadata": {},
   "outputs": [],
   "source": []
  },
  {
   "cell_type": "code",
   "execution_count": null,
   "metadata": {},
   "outputs": [],
   "source": []
  },
  {
   "cell_type": "code",
   "execution_count": null,
   "metadata": {},
   "outputs": [],
   "source": []
  },
  {
   "cell_type": "code",
   "execution_count": null,
   "metadata": {},
   "outputs": [],
   "source": []
  }
 ],
 "metadata": {
  "kernelspec": {
   "display_name": "Python 3",
   "language": "python",
   "name": "python3"
  },
  "language_info": {
   "codemirror_mode": {
    "name": "ipython",
    "version": 3
   },
   "file_extension": ".py",
   "mimetype": "text/x-python",
   "name": "python",
   "nbconvert_exporter": "python",
   "pygments_lexer": "ipython3",
   "version": "3.8.5"
  }
 },
 "nbformat": 4,
 "nbformat_minor": 4
}
