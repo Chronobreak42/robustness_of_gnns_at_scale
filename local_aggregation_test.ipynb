{
 "cells": [
  {
   "cell_type": "code",
   "execution_count": 1,
   "metadata": {},
   "outputs": [],
   "source": [
    "import torch\n",
    "import torch_sparse\n",
    "import numpy as np\n",
    "from rgnn_at_scale.aggregation import (_sparse_top_k, soft_weighted_medoid, soft_weighted_medoid_k_neighborhood,\n",
    "                                       weighted_dimwise_median, weighted_medoid, weighted_medoid_k_neighborhood)\n",
    "from rgnn_at_scale.data import prep_graph"
   ]
  },
  {
   "cell_type": "code",
   "execution_count": 2,
   "metadata": {},
   "outputs": [
    {
     "name": "stderr",
     "output_type": "stream",
     "text": [
      "WARNING:root:The OGB package is out of date. Your version is 1.2.3, while the latest version is 1.2.4.\n"
     ]
    }
   ],
   "source": [
    "%load_ext autoreload\n",
    "%autoreload 2"
   ]
  },
  {
   "cell_type": "code",
   "execution_count": 3,
   "metadata": {},
   "outputs": [
    {
     "data": {
      "text/plain": [
       "0"
      ]
     },
     "execution_count": 3,
     "metadata": {},
     "output_type": "execute_result"
    }
   ],
   "source": [
    "device = 0 if torch.cuda.is_available() else 'cpu'\n",
    "temperature = 1e-3\n",
    "device"
   ]
  },
  {
   "cell_type": "code",
   "execution_count": 4,
   "metadata": {},
   "outputs": [
    {
     "name": "stderr",
     "output_type": "stream",
     "text": [
      "/nfs/homedirs/schmidtt/miniconda3/lib/python3.8/site-packages/torch_sparse/tensor.py:46: UserWarning: This overload of nonzero is deprecated:\n",
      "\tnonzero()\n",
      "Consider using one of the following signatures instead:\n",
      "\tnonzero(*, bool as_tuple) (Triggered internally at  /opt/conda/conda-bld/pytorch_1595629395347/work/torch/csrc/utils/python_arg_parser.cpp:766.)\n",
      "  index = mat.nonzero()\n"
     ]
    },
    {
     "data": {
      "text/plain": [
       "(SparseTensor(row=tensor([  0,   0,   0,  ..., 139, 139, 139]),\n",
       "              col=tensor([   0,    1,    2,  ..., 2024, 2025, 2026]),\n",
       "              val=tensor([5.0000e-01, 1.7678e-01, 8.8388e+04,  ..., 7.2921e-02, 5.0592e-01,\n",
       "                            1.3832e-01]),\n",
       "              size=(140, 2027), nnz=15921, density=5.61%),\n",
       " tensor([[-0.0005,  0.0013, -0.0029,  ..., -0.0037, -0.0021, -0.0064],\n",
       "         [-0.0058,  0.0059, -0.0012,  ..., -0.0004, -0.0018, -0.0010],\n",
       "         [-0.0084,  0.0092, -0.0050,  ..., -0.0020, -0.0026, -0.0030],\n",
       "         ...,\n",
       "         [-0.0074,  0.0075,  0.0026,  ..., -0.0034, -0.0032, -0.0045],\n",
       "         [-0.0050, -0.0061, -0.0028,  ..., -0.0048,  0.0006, -0.0060],\n",
       "         [-0.0039, -0.0003, -0.0027,  ...,  0.0024, -0.0027, -0.0110]],\n",
       "        grad_fn=<CopyBackwards>),\n",
       " torch.Size([2027, 7]))"
      ]
     },
     "execution_count": 4,
     "metadata": {},
     "output_type": "execute_result"
    }
   ],
   "source": [
    "A_sparse_tensor = torch_sparse.SparseTensor.from_dense(torch.load(\"../pprgo_pytorch/adj_bug.tensor\")).to(\"cpu\")\n",
    "#x = torch_sparse.SparseTensor.from_dense(torch.load(\"datasets/test_attr_matrix.pt\"))\n",
    "x = torch.load(\"../pprgo_pytorch/x_bug.tensor\").to(\"cpu\")\n",
    "A_sparse_tensor, x, x.shape"
   ]
  },
  {
   "cell_type": "code",
   "execution_count": 6,
   "metadata": {},
   "outputs": [],
   "source": [
    "torch.save(x, \"tests/data_/x_bug.tensor\")"
   ]
  },
  {
   "cell_type": "code",
   "execution_count": 5,
   "metadata": {},
   "outputs": [
    {
     "data": {
      "text/plain": [
       "0"
      ]
     },
     "execution_count": 5,
     "metadata": {},
     "output_type": "execute_result"
    }
   ],
   "source": [
    "# number of nodes with no outgoing edges \n",
    "A_sparse_tensor.size(0) - A_sparse_tensor.sum(-1).nonzero().size(0)"
   ]
  },
  {
   "cell_type": "code",
   "execution_count": 8,
   "metadata": {},
   "outputs": [
    {
     "name": "stdout",
     "output_type": "stream",
     "text": [
      "top_k_weights\n",
      "tensor([[8.8388e+04, 8.8388e+04, 8.8388e+04,  ..., 1.7678e-01, 1.7678e-01,\n",
      "         1.7678e-01],\n",
      "        [2.3788e+04, 2.3788e+04, 2.3788e+04,  ..., 5.3853e-02, 5.3853e-02,\n",
      "         5.3853e-02],\n",
      "        [1.1180e+05, 1.1180e+05, 1.1180e+05,  ..., 7.6037e+04, 5.6600e+03,\n",
      "         5.6600e+03],\n",
      "        ...,\n",
      "        [1.2544e+03, 1.2544e+03, 1.2544e+03,  ..., 5.5243e-03, 5.5243e-03,\n",
      "         5.5243e-03],\n",
      "        [1.7678e+05, 1.7678e+05, 3.1416e+04,  ..., 1.0797e-02, 1.0797e-02,\n",
      "         1.0797e-02],\n",
      "        [2.6593e+04, 2.6593e+04, 2.6593e+04,  ..., 1.6239e+03, 1.6239e+03,\n",
      "         1.6239e+03]])\n",
      "top_k_idx\n",
      "tensor([[ 368,    4,    2,  ...,  836,  529,  490],\n",
      "        [1723, 1697, 1762,  ...,   42,   10, 1725],\n",
      "        [ 661, 1427,   58,  ..., 1673,  927, 1399],\n",
      "        ...,\n",
      "        [ 955, 1979, 1810,  ..., 1940,  177, 1952],\n",
      "        [ 717,  570,  314,  ..., 1967, 1339, 1913],\n",
      "        [ 732, 1660,  222,  ...,  286, 1201,  631]])\n"
     ]
    },
    {
     "ename": "IndexError",
     "evalue": "index 2029 is out of bounds for dimension 0 with size 2027",
     "output_type": "error",
     "traceback": [
      "\u001b[0;31m---------------------------------------------------------------------------\u001b[0m",
      "\u001b[0;31mIndexError\u001b[0m                                Traceback (most recent call last)",
      "\u001b[0;32m<ipython-input-8-6752531cfbae>\u001b[0m in \u001b[0;36m<module>\u001b[0;34m\u001b[0m\n\u001b[0;32m----> 1\u001b[0;31m medoids = soft_weighted_medoid_k_neighborhood(A_sparse_tensor,\n\u001b[0m\u001b[1;32m      2\u001b[0m             \u001b[0mx\u001b[0m\u001b[0;34m,\u001b[0m\u001b[0;34m\u001b[0m\u001b[0;34m\u001b[0m\u001b[0m\n\u001b[1;32m      3\u001b[0m             \u001b[0mk\u001b[0m\u001b[0;34m=\u001b[0m\u001b[0;36m32\u001b[0m\u001b[0;34m,\u001b[0m\u001b[0;34m\u001b[0m\u001b[0;34m\u001b[0m\u001b[0m\n\u001b[1;32m      4\u001b[0m             \u001b[0mtemperature\u001b[0m\u001b[0;34m=\u001b[0m\u001b[0mtemperature\u001b[0m\u001b[0;34m,\u001b[0m\u001b[0;34m\u001b[0m\u001b[0;34m\u001b[0m\u001b[0m\n\u001b[1;32m      5\u001b[0m             threshold_for_dense_if_cpu=0)\n",
      "\u001b[0;32m~/git/robust-gnns-at-scale/rgnn_at_scale/aggregation.py\u001b[0m in \u001b[0;36msoft_weighted_medoid_k_neighborhood\u001b[0;34m(A, x, k, temperature, with_weight_correction, threshold_for_dense_if_cpu, **kwargs)\u001b[0m\n\u001b[1;32m    307\u001b[0m     \u001b[0mprint\u001b[0m\u001b[0;34m(\u001b[0m\u001b[0mtop_k_idx\u001b[0m\u001b[0;34m)\u001b[0m\u001b[0;34m\u001b[0m\u001b[0;34m\u001b[0m\u001b[0m\n\u001b[1;32m    308\u001b[0m     \u001b[0;31m# Partial distance matrix calculation\u001b[0m\u001b[0;34m\u001b[0m\u001b[0;34m\u001b[0m\u001b[0;34m\u001b[0m\u001b[0m\n\u001b[0;32m--> 309\u001b[0;31m     \u001b[0mdistances_top_k\u001b[0m \u001b[0;34m=\u001b[0m \u001b[0mpartial_distance_matrix\u001b[0m\u001b[0;34m(\u001b[0m\u001b[0mx\u001b[0m\u001b[0;34m,\u001b[0m \u001b[0mtop_k_idx\u001b[0m\u001b[0;34m)\u001b[0m\u001b[0;34m\u001b[0m\u001b[0;34m\u001b[0m\u001b[0m\n\u001b[0m\u001b[1;32m    310\u001b[0m \u001b[0;34m\u001b[0m\u001b[0m\n\u001b[1;32m    311\u001b[0m     \u001b[0;31m# Multiply distances with weights\u001b[0m\u001b[0;34m\u001b[0m\u001b[0;34m\u001b[0m\u001b[0;34m\u001b[0m\u001b[0m\n",
      "\u001b[0;32m~/git/robust-gnns-at-scale/rgnn_at_scale/aggregation.py\u001b[0m in \u001b[0;36mpartial_distance_matrix\u001b[0;34m(x, partial_idx)\u001b[0m\n\u001b[1;32m    232\u001b[0m \u001b[0;34m\u001b[0m\u001b[0m\n\u001b[1;32m    233\u001b[0m     \u001b[0;31m# Calculate Euclidean distances between all pairs\u001b[0m\u001b[0;34m\u001b[0m\u001b[0;34m\u001b[0m\u001b[0;34m\u001b[0m\u001b[0m\n\u001b[0;32m--> 234\u001b[0;31m     \u001b[0msparse_distances\u001b[0m \u001b[0;34m=\u001b[0m \u001b[0mtorch\u001b[0m\u001b[0;34m.\u001b[0m\u001b[0mnorm\u001b[0m\u001b[0;34m(\u001b[0m\u001b[0mx\u001b[0m\u001b[0;34m[\u001b[0m\u001b[0mdistance_matrix_idx\u001b[0m \u001b[0;34m//\u001b[0m \u001b[0mn\u001b[0m\u001b[0;34m]\u001b[0m \u001b[0;34m-\u001b[0m \u001b[0mx\u001b[0m\u001b[0;34m[\u001b[0m\u001b[0mdistance_matrix_idx\u001b[0m \u001b[0;34m%\u001b[0m \u001b[0mn\u001b[0m\u001b[0;34m]\u001b[0m\u001b[0;34m,\u001b[0m \u001b[0mdim\u001b[0m\u001b[0;34m=\u001b[0m\u001b[0;36m1\u001b[0m\u001b[0;34m)\u001b[0m\u001b[0;34m\u001b[0m\u001b[0;34m\u001b[0m\u001b[0m\n\u001b[0m\u001b[1;32m    235\u001b[0m \u001b[0;34m\u001b[0m\u001b[0m\n\u001b[1;32m    236\u001b[0m     \u001b[0;31m# Create dense output\u001b[0m\u001b[0;34m\u001b[0m\u001b[0;34m\u001b[0m\u001b[0;34m\u001b[0m\u001b[0m\n",
      "\u001b[0;31mIndexError\u001b[0m: index 2029 is out of bounds for dimension 0 with size 2027"
     ]
    }
   ],
   "source": [
    "medoids = soft_weighted_medoid_k_neighborhood(A_sparse_tensor,\n",
    "            x,\n",
    "            k=32,\n",
    "            temperature=temperature,\n",
    "            threshold_for_dense_if_cpu=0)"
   ]
  },
  {
   "cell_type": "code",
   "execution_count": null,
   "metadata": {},
   "outputs": [],
   "source": [
    "medoids"
   ]
  },
  {
   "cell_type": "code",
   "execution_count": null,
   "metadata": {},
   "outputs": [],
   "source": [
    "A = torch.tensor([[0.5, 0.3, 0, 0.4],\n",
    "                  [0.3, 0.2, 0, 0],\n",
    "                  [0, 0, 0.9, 0.3],\n",
    "                  [0.4, 0, 0.4, 0.4]],\n",
    "                 #requires_grad=True,\n",
    "                 dtype=torch.float32).to(device)\n",
    "x = torch.tensor([[-10, 10, 10],\n",
    "                  [-1, 1, 1],\n",
    "                  [0, 0, 0],\n",
    "                  [10, -10, -10]],\n",
    "                 #requires_grad=True,\n",
    "                 dtype=torch.float32).to(device)\n",
    "\n",
    "A_sparse_tensor = torch_sparse.SparseTensor.from_dense(A).to(device)\n"
   ]
  },
  {
   "cell_type": "code",
   "execution_count": null,
   "metadata": {},
   "outputs": [],
   "source": [
    "medoids = soft_weighted_medoid_k_neighborhood(A_sparse_tensor,\n",
    "                                                      x,\n",
    "                                                      k=2,\n",
    "                                                      temperature=temperature,\n",
    "                                                      threshold_for_dense_if_cpu=0)\n",
    "medoids"
   ]
  },
  {
   "cell_type": "code",
   "execution_count": null,
   "metadata": {},
   "outputs": [],
   "source": [
    "graph = prep_graph(\"cora_ml\", device)\n",
    "attr, adj, labels = graph[:3]\n",
    "A_sparse_tensor = torch_sparse.SparseTensor.from_torch_sparse_coo_tensor(adj).to(device)\n",
    "x = attr\n",
    "A_sparse_tensor, x"
   ]
  },
  {
   "cell_type": "code",
   "execution_count": null,
   "metadata": {},
   "outputs": [],
   "source": [
    " medoids = soft_weighted_medoid_k_neighborhood(A_sparse_tensor,\n",
    "            x,\n",
    "            k=2,\n",
    "            temperature=temperature,\n",
    "            threshold_for_dense_if_cpu=0)"
   ]
  },
  {
   "cell_type": "code",
   "execution_count": null,
   "metadata": {},
   "outputs": [],
   "source": [
    "medoids"
   ]
  },
  {
   "cell_type": "code",
   "execution_count": null,
   "metadata": {},
   "outputs": [],
   "source": []
  },
  {
   "cell_type": "code",
   "execution_count": null,
   "metadata": {},
   "outputs": [],
   "source": []
  },
  {
   "cell_type": "code",
   "execution_count": null,
   "metadata": {},
   "outputs": [],
   "source": [
    "# this should have the same number of nonzeros\n",
    "# or at least more of them, but it mustn't have less\n",
    "medoids.size(0) - medoids.sum(-1).nonzero().size(0)"
   ]
  },
  {
   "cell_type": "code",
   "execution_count": null,
   "metadata": {},
   "outputs": [],
   "source": [
    "# now lets see if it works with a batched adj matrix\n",
    "A_sparse_tensor = A_sparse_tensor[:512]"
   ]
  },
  {
   "cell_type": "code",
   "execution_count": null,
   "metadata": {},
   "outputs": [],
   "source": [
    "# calc number of nodes with no outgoing edges again\n",
    "A_sparse_tensor.size(0) - A_sparse_tensor.sum(-1).nonzero().size(0)"
   ]
  },
  {
   "cell_type": "code",
   "execution_count": null,
   "metadata": {},
   "outputs": [],
   "source": [
    "medoids = soft_weighted_medoid_k_neighborhood(A_sparse_tensor,\n",
    "            x,\n",
    "            k=2,\n",
    "            temperature=temperature,\n",
    "            threshold_for_dense_if_cpu=0)"
   ]
  },
  {
   "cell_type": "code",
   "execution_count": null,
   "metadata": {},
   "outputs": [],
   "source": [
    "medoids"
   ]
  },
  {
   "cell_type": "code",
   "execution_count": null,
   "metadata": {},
   "outputs": [],
   "source": [
    "# check num zeros again\n",
    "medoids.size(0) - medoids.sum(-1).nonzero().size(0)"
   ]
  },
  {
   "cell_type": "code",
   "execution_count": null,
   "metadata": {},
   "outputs": [],
   "source": []
  }
 ],
 "metadata": {
  "kernelspec": {
   "display_name": "Python 3",
   "language": "python",
   "name": "python3"
  },
  "language_info": {
   "codemirror_mode": {
    "name": "ipython",
    "version": 3
   },
   "file_extension": ".py",
   "mimetype": "text/x-python",
   "name": "python",
   "nbconvert_exporter": "python",
   "pygments_lexer": "ipython3",
   "version": "3.8.5"
  }
 },
 "nbformat": 4,
 "nbformat_minor": 4
}
