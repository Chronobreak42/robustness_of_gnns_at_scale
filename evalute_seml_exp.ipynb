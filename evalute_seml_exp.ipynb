{
 "cells": [
  {
   "cell_type": "code",
   "execution_count": 1,
   "metadata": {},
   "outputs": [],
   "source": [
    "import seml\n",
    "import pandas as pd\n",
    "from run_seml import run\n",
    "from matplotlib import pyplot as plt\n",
    "\n",
    "pd.set_option('display.max_columns', 50)"
   ]
  },
  {
   "cell_type": "code",
   "execution_count": 2,
   "metadata": {},
   "outputs": [],
   "source": [
    "%load_ext autoreload\n",
    "%autoreload 2"
   ]
  },
  {
   "cell_type": "code",
   "execution_count": 3,
   "metadata": {
    "tags": []
   },
   "outputs": [
    {
     "output_type": "display_data",
     "data": {
      "text/plain": "HBox(children=(FloatProgress(value=0.0, max=2204.0), HTML(value='')))",
      "application/vnd.jupyter.widget-view+json": {
       "version_major": 2,
       "version_minor": 0,
       "model_id": "cc295c3677f94eb7b9ba93e193ba0610"
      }
     },
     "metadata": {}
    },
    {
     "output_type": "stream",
     "name": "stdout",
     "text": [
      "\n"
     ]
    },
    {
     "output_type": "display_data",
     "data": {
      "text/plain": "HBox(children=(FloatProgress(value=0.0, max=2204.0), HTML(value='')))",
      "application/vnd.jupyter.widget-view+json": {
       "version_major": 2,
       "version_minor": 0,
       "model_id": "b40282d185264f4587a70789c10a049b"
      }
     },
     "metadata": {}
    },
    {
     "output_type": "stream",
     "name": "stdout",
     "text": [
      "\n"
     ]
    }
   ],
   "source": [
    "seml_results = seml.get_results('rgnn_rpprgo_cora_citeseer', to_data_frame=True)"
   ]
  },
  {
   "cell_type": "code",
   "execution_count": 40,
   "metadata": {},
   "outputs": [
    {
     "output_type": "execute_result",
     "data": {
      "text/plain": [
       "2204"
      ]
     },
     "metadata": {},
     "execution_count": 40
    }
   ],
   "source": [
    "len()"
   ]
  },
  {
   "cell_type": "code",
   "execution_count": 61,
   "metadata": {},
   "outputs": [
    {
     "output_type": "execute_result",
     "data": {
      "text/plain": [
       "Index(['_id', 'config.overwrite', 'config.db_collection', 'config.dataset',\n",
       "       'config.model_params.label', 'config.model_params.model',\n",
       "       'config.model_params.dropout', 'config.model_params.n_filters',\n",
       "       'config.model_params.gdc_params', 'config.model_params.svd_params',\n",
       "       'config.model_params.jaccard_params',\n",
       "       'config.model_params.do_cache_adj_prep', 'config.model_params.alpha',\n",
       "       'config.model_params.eps', 'config.model_params.hidden_size',\n",
       "       'config.model_params.mean', 'config.model_params.mean_kwargs.k',\n",
       "       'config.model_params.mean_kwargs.temperature',\n",
       "       'config.model_params.mean_kwargs.with_weight_correction',\n",
       "       'config.model_params.nlayers', 'config.model_params.ppr_normalization',\n",
       "       'config.model_params.topk', 'config.train_params.lr',\n",
       "       'config.train_params.weight_decay', 'config.train_params.patience',\n",
       "       'config.train_params.max_epochs', 'config.train_params.batch_mult_val',\n",
       "       'config.train_params.batch_size', 'config.binary_attr', 'config.seed',\n",
       "       'config.artifact_dir', 'config.model_storage_type', 'config.device',\n",
       "       'config.display_steps', 'config.data_device', 'config.data_dir',\n",
       "       'result.accuracy', 'result.trace_val', 'result.trace_train',\n",
       "       'result.model_path'],\n",
       "      dtype='object')"
      ]
     },
     "metadata": {},
     "execution_count": 61
    }
   ],
   "source": [
    "relevant_columns = ['_id', \n",
    "       'config.model_params.model',\n",
    "       'config.dataset', \n",
    "       'config.model_params.mean',\n",
    "       'result.accuracy',\n",
    "        'config.model_params.hidden_size',\n",
    "       'config.model_params.nlayers',\n",
    "       'config.model_params.dropout', \n",
    "       'config.model_params.alpha',\n",
    "       'config.model_params.eps',\n",
    "       'config.model_params.topk', \n",
    "       'config.model_params.mean_kwargs.temperature',\n",
    "       'config.model_params.mean_kwargs.k',\n",
    "       'config.model_params.mean_kwargs.with_weight_correction',\n",
    "       #'config.model_params.do_cache_adj_prep', \n",
    "       # 'config.model_params.ppr_normalization',\n",
    "       #'config.train_params.lr',\n",
    "       #'config.train_params.weight_decay', 'config.train_params.patience',\n",
    "       #'config.train_params.max_epochs', 'config.train_params.batch_mult_val',\n",
    "       #'config.train_params.batch_size', 'config.binary_attr', 'config.seed',\n",
    "       #'config.artifact_dir', 'config.model_storage_type', 'config.device',\n",
    "       #'config.display_steps', 'config.data_device', 'config.data_dir',\n",
    "       # 'result.trace_val', 'result.trace_train',\n",
    "       #'result.model_path'\n",
    "       ]\n",
    "seml_results.columns"
   ]
  },
  {
   "cell_type": "code",
   "execution_count": 62,
   "metadata": {},
   "outputs": [
    {
     "output_type": "execute_result",
     "data": {
      "text/plain": [
       "                                         result.accuracy\n",
       "config.dataset config.model_params.mean                 \n",
       "citeseer       soft_k_medoid                    0.733155\n",
       "               soft_median                      0.714973\n",
       "cora_ml        soft_k_medoid                    0.763636\n",
       "               soft_median                      0.696838"
      ],
      "text/html": "<div>\n<style scoped>\n    .dataframe tbody tr th:only-of-type {\n        vertical-align: middle;\n    }\n\n    .dataframe tbody tr th {\n        vertical-align: top;\n    }\n\n    .dataframe thead th {\n        text-align: right;\n    }\n</style>\n<table border=\"1\" class=\"dataframe\">\n  <thead>\n    <tr style=\"text-align: right;\">\n      <th></th>\n      <th></th>\n      <th>result.accuracy</th>\n    </tr>\n    <tr>\n      <th>config.dataset</th>\n      <th>config.model_params.mean</th>\n      <th></th>\n    </tr>\n  </thead>\n  <tbody>\n    <tr>\n      <th rowspan=\"2\" valign=\"top\">citeseer</th>\n      <th>soft_k_medoid</th>\n      <td>0.733155</td>\n    </tr>\n    <tr>\n      <th>soft_median</th>\n      <td>0.714973</td>\n    </tr>\n    <tr>\n      <th rowspan=\"2\" valign=\"top\">cora_ml</th>\n      <th>soft_k_medoid</th>\n      <td>0.763636</td>\n    </tr>\n    <tr>\n      <th>soft_median</th>\n      <td>0.696838</td>\n    </tr>\n  </tbody>\n</table>\n</div>"
     },
     "metadata": {},
     "execution_count": 62
    }
   ],
   "source": [
    "seml_results.groupby([\"config.dataset\", \"config.model_params.mean\"]).max()[['result.accuracy']]"
   ]
  },
  {
   "cell_type": "code",
   "execution_count": 52,
   "metadata": {},
   "outputs": [
    {
     "output_type": "execute_result",
     "data": {
      "text/plain": [
       "1200"
      ]
     },
     "metadata": {},
     "execution_count": 52
    }
   ],
   "source": [
    "sum(list(seml_results[\"config.dataset\"] == \"citeseer\")  and list(seml_results[\"config.model_params.mean\"] == \"soft_k_medoid\"))"
   ]
  },
  {
   "cell_type": "code",
   "execution_count": 49,
   "metadata": {},
   "outputs": [
    {
     "output_type": "execute_result",
     "data": {
      "text/plain": [
       "Empty DataFrame\n",
       "Columns: [_id, config.overwrite, config.db_collection, config.dataset, config.model_params.label, config.model_params.model, config.model_params.dropout, config.model_params.n_filters, config.model_params.gdc_params, config.model_params.svd_params, config.model_params.jaccard_params, config.model_params.do_cache_adj_prep, config.model_params.alpha, config.model_params.eps, config.model_params.hidden_size, config.model_params.mean, config.model_params.mean_kwargs.k, config.model_params.mean_kwargs.temperature, config.model_params.mean_kwargs.with_weight_correction, config.model_params.nlayers, config.model_params.ppr_normalization, config.model_params.topk, config.train_params.lr, config.train_params.weight_decay, config.train_params.patience, config.train_params.max_epochs, config.train_params.batch_mult_val, config.train_params.batch_size, config.binary_attr, config.seed, config.artifact_dir, config.model_storage_type, config.device, config.display_steps, config.data_device, config.data_dir, result.accuracy, result.trace_val, result.trace_train, result.model_path]\n",
       "Index: []"
      ],
      "text/html": "<div>\n<style scoped>\n    .dataframe tbody tr th:only-of-type {\n        vertical-align: middle;\n    }\n\n    .dataframe tbody tr th {\n        vertical-align: top;\n    }\n\n    .dataframe thead th {\n        text-align: right;\n    }\n</style>\n<table border=\"1\" class=\"dataframe\">\n  <thead>\n    <tr style=\"text-align: right;\">\n      <th></th>\n      <th>_id</th>\n      <th>config.overwrite</th>\n      <th>config.db_collection</th>\n      <th>config.dataset</th>\n      <th>config.model_params.label</th>\n      <th>config.model_params.model</th>\n      <th>config.model_params.dropout</th>\n      <th>config.model_params.n_filters</th>\n      <th>config.model_params.gdc_params</th>\n      <th>config.model_params.svd_params</th>\n      <th>config.model_params.jaccard_params</th>\n      <th>config.model_params.do_cache_adj_prep</th>\n      <th>config.model_params.alpha</th>\n      <th>config.model_params.eps</th>\n      <th>config.model_params.hidden_size</th>\n      <th>config.model_params.mean</th>\n      <th>config.model_params.mean_kwargs.k</th>\n      <th>config.model_params.mean_kwargs.temperature</th>\n      <th>config.model_params.mean_kwargs.with_weight_correction</th>\n      <th>config.model_params.nlayers</th>\n      <th>config.model_params.ppr_normalization</th>\n      <th>config.model_params.topk</th>\n      <th>config.train_params.lr</th>\n      <th>config.train_params.weight_decay</th>\n      <th>config.train_params.patience</th>\n      <th>config.train_params.max_epochs</th>\n      <th>config.train_params.batch_mult_val</th>\n      <th>config.train_params.batch_size</th>\n      <th>config.binary_attr</th>\n      <th>config.seed</th>\n      <th>config.artifact_dir</th>\n      <th>config.model_storage_type</th>\n      <th>config.device</th>\n      <th>config.display_steps</th>\n      <th>config.data_device</th>\n      <th>config.data_dir</th>\n      <th>result.accuracy</th>\n      <th>result.trace_val</th>\n      <th>result.trace_train</th>\n      <th>result.model_path</th>\n    </tr>\n  </thead>\n  <tbody>\n  </tbody>\n</table>\n</div>"
     },
     "metadata": {},
     "execution_count": 49
    }
   ],
   "source": [
    "\n",
    "citeseer_mediod_results = seml_results[list(seml_results[\"config.dataset\"] == \"citeseer\")  and \n",
    "                                   list(seml_results[\"config.model_params.mean\"] == \"soft_k_medoid\")]\n",
    "citeseer_mediod_results"
   ]
  },
  {
   "cell_type": "code",
   "execution_count": 53,
   "metadata": {},
   "outputs": [
    {
     "output_type": "execute_result",
     "data": {
      "text/plain": [
       "(1004, 1200, 1004, 1200)"
      ]
     },
     "metadata": {},
     "execution_count": 53
    }
   ],
   "source": [
    "cora_median_results = seml_results[list(seml_results[\"config.dataset\"] == \"cora_ml\") and list(seml_results[\"config.model_params.mean\"] == \"soft_median\")]\n",
    "\n",
    "cora_mediod_results = seml_results[list(seml_results[\"config.dataset\"] == \"citeseer\") and list(seml_results[\"config.model_params.mean\"] == \"soft_k_medoid\")]\n",
    "\n",
    "citeseer_median_results = seml_results[list(seml_results[\"config.dataset\"] == \"citeseer\") and list(seml_results[\"config.model_params.mean\"] == \"soft_median\")]\n",
    "\n",
    "citeseer_mediod_results = seml_results[list(seml_results[\"config.dataset\"] == \"citeseer\") and list(seml_results[\"config.model_params.mean\"] == \"soft_k_medoid\")]\n",
    "\n",
    "len(cora_median_results),len(cora_mediod_results),len(citeseer_median_results),len(citeseer_mediod_results)                    "
   ]
  },
  {
   "cell_type": "code",
   "execution_count": 57,
   "metadata": {},
   "outputs": [
    {
     "output_type": "execute_result",
     "data": {
      "text/plain": [
       "       _id config.dataset config.model_params.model  \\\n",
       "1948  1949       citeseer               RobustPPRGo   \n",
       "345    346        cora_ml               RobustPPRGo   \n",
       "1948  1949       citeseer               RobustPPRGo   \n",
       "345    346        cora_ml               RobustPPRGo   \n",
       "\n",
       "      config.model_params.dropout  config.model_params.do_cache_adj_prep  \\\n",
       "1948                         0.50                                   True   \n",
       "345                          0.25                                   True   \n",
       "1948                         0.50                                   True   \n",
       "345                          0.25                                   True   \n",
       "\n",
       "      config.model_params.alpha  config.model_params.eps  \\\n",
       "1948                       0.25                     0.01   \n",
       "345                        0.25                     0.01   \n",
       "1948                       0.25                     0.01   \n",
       "345                        0.25                     0.01   \n",
       "\n",
       "      config.model_params.hidden_size config.model_params.mean  \\\n",
       "1948                               64              soft_median   \n",
       "345                                64            soft_k_medoid   \n",
       "1948                               64              soft_median   \n",
       "345                                64            soft_k_medoid   \n",
       "\n",
       "      config.model_params.mean_kwargs.temperature  \\\n",
       "1948                                          NaN   \n",
       "345                                          50.0   \n",
       "1948                                          NaN   \n",
       "345                                          50.0   \n",
       "\n",
       "      config.model_params.nlayers  result.accuracy  \n",
       "1948                            2         0.714973  \n",
       "345                             2         0.763636  \n",
       "1948                            2         0.714973  \n",
       "345                             2         0.763636  "
      ],
      "text/html": "<div>\n<style scoped>\n    .dataframe tbody tr th:only-of-type {\n        vertical-align: middle;\n    }\n\n    .dataframe tbody tr th {\n        vertical-align: top;\n    }\n\n    .dataframe thead th {\n        text-align: right;\n    }\n</style>\n<table border=\"1\" class=\"dataframe\">\n  <thead>\n    <tr style=\"text-align: right;\">\n      <th></th>\n      <th>_id</th>\n      <th>config.dataset</th>\n      <th>config.model_params.model</th>\n      <th>config.model_params.dropout</th>\n      <th>config.model_params.do_cache_adj_prep</th>\n      <th>config.model_params.alpha</th>\n      <th>config.model_params.eps</th>\n      <th>config.model_params.hidden_size</th>\n      <th>config.model_params.mean</th>\n      <th>config.model_params.mean_kwargs.temperature</th>\n      <th>config.model_params.nlayers</th>\n      <th>result.accuracy</th>\n    </tr>\n  </thead>\n  <tbody>\n    <tr>\n      <th>1948</th>\n      <td>1949</td>\n      <td>citeseer</td>\n      <td>RobustPPRGo</td>\n      <td>0.50</td>\n      <td>True</td>\n      <td>0.25</td>\n      <td>0.01</td>\n      <td>64</td>\n      <td>soft_median</td>\n      <td>NaN</td>\n      <td>2</td>\n      <td>0.714973</td>\n    </tr>\n    <tr>\n      <th>345</th>\n      <td>346</td>\n      <td>cora_ml</td>\n      <td>RobustPPRGo</td>\n      <td>0.25</td>\n      <td>True</td>\n      <td>0.25</td>\n      <td>0.01</td>\n      <td>64</td>\n      <td>soft_k_medoid</td>\n      <td>50.0</td>\n      <td>2</td>\n      <td>0.763636</td>\n    </tr>\n    <tr>\n      <th>1948</th>\n      <td>1949</td>\n      <td>citeseer</td>\n      <td>RobustPPRGo</td>\n      <td>0.50</td>\n      <td>True</td>\n      <td>0.25</td>\n      <td>0.01</td>\n      <td>64</td>\n      <td>soft_median</td>\n      <td>NaN</td>\n      <td>2</td>\n      <td>0.714973</td>\n    </tr>\n    <tr>\n      <th>345</th>\n      <td>346</td>\n      <td>cora_ml</td>\n      <td>RobustPPRGo</td>\n      <td>0.25</td>\n      <td>True</td>\n      <td>0.25</td>\n      <td>0.01</td>\n      <td>64</td>\n      <td>soft_k_medoid</td>\n      <td>50.0</td>\n      <td>2</td>\n      <td>0.763636</td>\n    </tr>\n  </tbody>\n</table>\n</div>"
     },
     "metadata": {},
     "execution_count": 57
    }
   ],
   "source": [
    "metric = \"result.accuracy\"\n",
    "best_results = cora_median_results[cora_median_results[metric] == cora_median_results[metric].max()]\n",
    "\n",
    "best_results = pd.concat([\n",
    "    best_results,\n",
    "    cora_mediod_results[cora_mediod_results[metric] == cora_mediod_results[metric].max()]])\n",
    "    \n",
    "best_results = pd.concat([\n",
    "    best_results,\n",
    "    citeseer_median_results[citeseer_median_results[metric] == citeseer_median_results[metric].max()]])\n",
    "\n",
    "best_results = pd.concat([\n",
    "    best_results,\n",
    "    citeseer_mediod_results[citeseer_mediod_results[metric] == citeseer_mediod_results[metric].max()]])\n",
    "\n",
    "best_results[relevant_columns]"
   ]
  },
  {
   "cell_type": "code",
   "execution_count": 63,
   "metadata": {},
   "outputs": [
    {
     "output_type": "stream",
     "name": "stdout",
     "text": [
      "|      |   _id | config.model_params.model   | config.dataset   | config.model_params.mean   |   result.accuracy |   config.model_params.hidden_size |   config.model_params.nlayers |   config.model_params.dropout |   config.model_params.alpha |   config.model_params.eps |   config.model_params.topk |   config.model_params.mean_kwargs.temperature |   config.model_params.mean_kwargs.k |   config.model_params.mean_kwargs.with_weight_correction |\n|-----:|------:|:----------------------------|:-----------------|:---------------------------|------------------:|----------------------------------:|------------------------------:|------------------------------:|----------------------------:|--------------------------:|---------------------------:|----------------------------------------------:|------------------------------------:|---------------------------------------------------------:|\n| 1948 |  1949 | RobustPPRGo                 | citeseer         | soft_median                |          0.714973 |                                64 |                             2 |                          0.5  |                        0.25 |                      0.01 |                         64 |                                           nan |                                 nan |                                                      nan |\n|  345 |   346 | RobustPPRGo                 | cora_ml          | soft_k_medoid              |          0.763636 |                                64 |                             2 |                          0.25 |                        0.25 |                      0.01 |                         64 |                                            50 |                                  64 |                                                        1 |\n| 1948 |  1949 | RobustPPRGo                 | citeseer         | soft_median                |          0.714973 |                                64 |                             2 |                          0.5  |                        0.25 |                      0.01 |                         64 |                                           nan |                                 nan |                                                      nan |\n|  345 |   346 | RobustPPRGo                 | cora_ml          | soft_k_medoid              |          0.763636 |                                64 |                             2 |                          0.25 |                        0.25 |                      0.01 |                         64 |                                            50 |                                  64 |                                                        1 |\n"
     ]
    }
   ],
   "source": [
    "print(best_results[relevant_columns].to_markdown())"
   ]
  },
  {
   "cell_type": "code",
   "execution_count": null,
   "metadata": {},
   "outputs": [],
   "source": []
  },
  {
   "cell_type": "code",
   "execution_count": null,
   "metadata": {},
   "outputs": [],
   "source": []
  }
 ],
 "metadata": {
  "kernelspec": {
   "display_name": "Python 3",
   "language": "python",
   "name": "python3"
  },
  "language_info": {
   "codemirror_mode": {
    "name": "ipython",
    "version": 3
   },
   "file_extension": ".py",
   "mimetype": "text/x-python",
   "name": "python",
   "nbconvert_exporter": "python",
   "pygments_lexer": "ipython3",
   "version": "3.8.5-final"
  }
 },
 "nbformat": 4,
 "nbformat_minor": 4
}