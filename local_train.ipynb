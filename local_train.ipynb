{
 "cells": [
  {
   "cell_type": "code",
   "execution_count": 1,
   "metadata": {},
   "outputs": [
    {
     "name": "stderr",
     "output_type": "stream",
     "text": [
      "/nfs/homedirs/schmidtt/miniconda3/lib/python3.8/site-packages/seml/database.py:8: TqdmExperimentalWarning: Using `tqdm.autonotebook.tqdm` in notebook mode. Use `tqdm.tqdm` instead to force console mode (e.g. in jupyter console)\n",
      "  from tqdm.autonotebook import tqdm\n"
     ]
    }
   ],
   "source": [
    "import argparse\n",
    "import json\n",
    "import logging\n",
    "import os\n",
    "\n",
    "from rgnn_at_scale.local import setup_logging, build_configs_and_run\n",
    "import experiment_train\n",
    "import matplotlib.pyplot as plt\n"
   ]
  },
  {
   "cell_type": "code",
   "execution_count": 2,
   "metadata": {},
   "outputs": [],
   "source": [
    "%load_ext autoreload\n",
    "%autoreload 2"
   ]
  },
  {
   "cell_type": "code",
   "execution_count": 3,
   "metadata": {},
   "outputs": [],
   "source": [
    "run_config = {'dataset': 'cora_ml',\n",
    "              'binary_attr': True,\n",
    "              'seed': 0,\n",
    "              'train_params': {'lr': 0.01,\n",
    "               'weight_decay': 0.001,\n",
    "               'patience': 300,\n",
    "               'max_epochs': 3000},\n",
    "              'artifact_dir': 'cache',\n",
    "              'model_storage_type': 'pretrained',\n",
    "              'device': 0,\n",
    "              'model_params': {'label': 'Robust RGNN',\n",
    "               'model': 'GCN',\n",
    "               'do_cache_adj_prep': True,\n",
    "               'n_filters': 64,\n",
    "               'dropout': 0.5,\n",
    "               'svd_params': None,\n",
    "               'jaccard_params': None,\n",
    "               'gdc_params': None},\n",
    "              'display_steps': 100\n",
    " }"
   ]
  },
  {
   "cell_type": "code",
   "execution_count": 4,
   "metadata": {},
   "outputs": [
    {
     "name": "stderr",
     "output_type": "stream",
     "text": [
      "2020-12-21 14:56:44 (INFO): {'dataset': 'cora_ml', 'model_params': {'label': 'Robust RGNN', 'model': 'GCN', 'do_cache_adj_prep': True, 'n_filters': 64, 'dropout': 0.5, 'svd_params': None, 'jaccard_params': None, 'gdc_params': None}, 'train_params': {'lr': 0.01, 'weight_decay': 0.001, 'patience': 300, 'max_epochs': 3000}, 'binary_attr': True, 'seed': 0, 'artifact_dir': 'cache', 'model_storage_type': 'pretrained', 'device': 0, 'display_steps': 100}\n"
     ]
    },
    {
     "name": "stdout",
     "output_type": "stream",
     "text": [
      "Start Training\n",
      "Training set size:  140\n",
      "Validation set size:  140\n",
      "Test set size:  2530\n",
      "()\n",
      "{'in_channels': 2879, 'out_channels': 64}\n",
      "()\n",
      "{'in_channels': 64, 'out_channels': 7}\n"
     ]
    },
    {
     "data": {
      "application/vnd.jupyter.widget-view+json": {
       "model_id": "fca68f871bc94095bdcde19bcf3baf1d",
       "version_major": 2,
       "version_minor": 0
      },
      "text/plain": [
       "HBox(children=(FloatProgress(value=0.0, description='Training...', max=3000.0, style=ProgressStyle(description…"
      ]
     },
     "metadata": {},
     "output_type": "display_data"
    },
    {
     "name": "stderr",
     "output_type": "stream",
     "text": [
      "2020-12-21 14:56:47 (INFO): \n",
      "Epoch    0: loss_train: 1.95136, loss_val: 1.94933, acc_train: 0.15000, acc_val: 0.15714 \n",
      "2020-12-21 14:56:47 (INFO): \n",
      "Epoch  100: loss_train: 0.01748, loss_val: 0.45113, acc_train: 1.00000, acc_val: 0.87857 \n",
      "2020-12-21 14:56:48 (INFO): \n",
      "Epoch  200: loss_train: 0.01437, loss_val: 0.45645, acc_train: 1.00000, acc_val: 0.85714 \n",
      "2020-12-21 14:56:48 (INFO): \n",
      "Epoch  300: loss_train: 0.01307, loss_val: 0.49618, acc_train: 1.00000, acc_val: 0.86429 \n",
      "2020-12-21 14:56:48 (INFO): \n",
      "Epoch  400: loss_train: 0.01730, loss_val: 0.46955, acc_train: 1.00000, acc_val: 0.88571 \n",
      "2020-12-21 14:56:48 (INFO): Test accuracy is 0.8233201503753662 with seed 0\n",
      "2020-12-21 14:56:48 (INFO): Lock 140145380503856 acquired on cache/pretrained.json.lock\n",
      "2020-12-21 14:56:48 (INFO): Lock 140145380503856 released on cache/pretrained.json.lock\n"
     ]
    }
   ],
   "source": [
    "print(\"Start Training\")\n",
    "results = experiment_train.run(**run_config)"
   ]
  },
  {
   "cell_type": "code",
   "execution_count": 5,
   "metadata": {},
   "outputs": [
    {
     "data": {
      "text/plain": [
       "'Test accuracy is 0.8233201503753662'"
      ]
     },
     "execution_count": 5,
     "metadata": {},
     "output_type": "execute_result"
    }
   ],
   "source": [
    "\"Test accuracy is \"+ str(results[\"accuracy\"])"
   ]
  },
  {
   "cell_type": "code",
   "execution_count": 6,
   "metadata": {},
   "outputs": [
    {
     "name": "stdout",
     "output_type": "stream",
     "text": [
      "\n"
     ]
    },
    {
     "data": {
      "image/png": "[encoded data removed]",
      "text/plain": [
       "<Figure size 432x288 with 1 Axes>"
      ]
     },
     "metadata": {
      "needs_background": "light"
     },
     "output_type": "display_data"
    }
   ],
   "source": [
    "epochs = range(1, len(results[\"trace_train\"]) + 1)\n",
    "plt.plot(epochs, results[\"trace_train\"], 'g', label='Training loss')\n",
    "plt.plot(epochs, results[\"trace_val\"], 'b', label='validation loss')\n",
    "plt.title('Training and Validation loss')\n",
    "plt.xlabel('Epochs')\n",
    "plt.ylabel('Loss')\n",
    "plt.legend()\n",
    "plt.show()"
   ]
  },
  {
   "cell_type": "code",
   "execution_count": null,
   "metadata": {},
   "outputs": [],
   "source": []
  },
  {
   "cell_type": "code",
   "execution_count": null,
   "metadata": {},
   "outputs": [],
   "source": []
  },
  {
   "cell_type": "code",
   "execution_count": null,
   "metadata": {},
   "outputs": [],
   "source": []
  }
 ],
 "metadata": {
  "kernelspec": {
   "display_name": "Python 3",
   "language": "python",
   "name": "python3"
  },
  "language_info": {
   "codemirror_mode": {
    "name": "ipython",
    "version": 3
   },
   "file_extension": ".py",
   "mimetype": "text/x-python",
   "name": "python",
   "nbconvert_exporter": "python",
   "pygments_lexer": "ipython3",
   "version": "3.8.5"
  }
 },
 "nbformat": 4,
 "nbformat_minor": 4
}
